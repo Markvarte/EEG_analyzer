{
 "cells": [
  {
   "cell_type": "code",
   "execution_count": 1,
   "id": "2fd294e8",
   "metadata": {},
   "outputs": [
    {
     "name": "stdout",
     "output_type": "stream",
     "text": [
      "Parsing chb-mit-scalp-eeg-database-1.0.0/chb11/chb11-summary.txt ...\n",
      "Parsing chb-mit-scalp-eeg-database-1.0.0/chb17/chb17-summary.txt ...\n",
      "Parsing chb-mit-scalp-eeg-database-1.0.0/chb21/chb21-summary.txt ...\n",
      "Parsing chb-mit-scalp-eeg-database-1.0.0/chb15/chb15-summary.txt ...\n",
      "Parsing chb-mit-scalp-eeg-database-1.0.0/chb03/chb03-summary.txt ...\n",
      "Parsing chb-mit-scalp-eeg-database-1.0.0/chb22/chb22-summary.txt ...\n",
      "Parsing chb-mit-scalp-eeg-database-1.0.0/chb16/chb16-summary.txt ...\n",
      "Parsing chb-mit-scalp-eeg-database-1.0.0/chb08/chb08-summary.txt ...\n",
      "Parsing chb-mit-scalp-eeg-database-1.0.0/chb01/chb01-summary.txt ...\n",
      "Parsing chb-mit-scalp-eeg-database-1.0.0/chb09/chb09-summary.txt ...\n",
      "Parsing chb-mit-scalp-eeg-database-1.0.0/chb19/chb19-summary.txt ...\n",
      "Parsing chb-mit-scalp-eeg-database-1.0.0/chb14/chb14-summary.txt ...\n",
      "Parsing chb-mit-scalp-eeg-database-1.0.0/chb07/chb07-summary.txt ...\n",
      "Parsing chb-mit-scalp-eeg-database-1.0.0/chb02/chb02-summary.txt ...\n",
      "Parsing chb-mit-scalp-eeg-database-1.0.0/chb20/chb20-summary.txt ...\n",
      "Parsing chb-mit-scalp-eeg-database-1.0.0/chb24/chb24-summary.txt ...\n",
      "Parsing chb-mit-scalp-eeg-database-1.0.0/chb10/chb10-summary.txt ...\n",
      "Parsing chb-mit-scalp-eeg-database-1.0.0/chb06/chb06-summary.txt ...\n",
      "Parsing chb-mit-scalp-eeg-database-1.0.0/chb05/chb05-summary.txt ...\n",
      "Parsing chb-mit-scalp-eeg-database-1.0.0/chb18/chb18-summary.txt ...\n",
      "Parsing chb-mit-scalp-eeg-database-1.0.0/chb23/chb23-summary.txt ...\n",
      "Parsing chb-mit-scalp-eeg-database-1.0.0/chb13/chb13-summary.txt ...\n",
      "Parsing chb-mit-scalp-eeg-database-1.0.0/chb04/chb04-summary.txt ...\n",
      "Parsing chb-mit-scalp-eeg-database-1.0.0/chb12/chb12-summary.txt ...\n",
      "Total: 676\n",
      "[('chb11_01.edf', []), ('chb11_02.edf', []), ('chb11_03.edf', []), ('chb11_04.edf', []), ('chb11_05.edf', []), ('chb11_06.edf', []), ('chb11_07.edf', []), ('chb11_08.edf', []), ('chb11_09.edf', []), ('chb11_10.edf', [])]\n"
     ]
    }
   ],
   "source": [
    "import os\n",
    "import re\n",
    "\n",
    "def parse_summary_file(path):\n",
    "    \"\"\"\n",
    "    Парсит chbXX-summary.txt и возвращает список:\n",
    "    [(file_name, [(start, end), (start, end), ...]), ...]\n",
    "    \"\"\"\n",
    "    results = []\n",
    "    with open(path, \"r\") as f:\n",
    "        lines = f.readlines()\n",
    "\n",
    "    file_name = None\n",
    "    seizures = []\n",
    "\n",
    "    for line in lines:\n",
    "        line = line.strip()\n",
    "        # Находим имя файла\n",
    "        if line.startswith(\"File Name:\"):\n",
    "            # если есть предыдущий файл — сохраняем\n",
    "            if file_name is not None:\n",
    "                results.append((file_name, seizures))\n",
    "                seizures = []\n",
    "            file_name = line.split(\":\")[1].strip()\n",
    "\n",
    "        # Находим начало и конец припадка\n",
    "        elif \"seizure\" in line.lower() and \"start time\" in line.lower():\n",
    "            # Ищем число между двоеточием и словом seconds\n",
    "            m = re.search(r':\\s*(\\d+(?:\\.\\d+)?)\\s*seconds', line, flags=re.IGNORECASE)\n",
    "            if m:\n",
    "                start = float(m.group(1))\n",
    "            else:\n",
    "                start = None\n",
    "\n",
    "        elif \"seizure\" in line.lower() and \"end time\" in line.lower():\n",
    "            m = re.search(r':\\s*(\\d+(?:\\.\\d+)?)\\s*seconds', line, flags=re.IGNORECASE)\n",
    "            if m:\n",
    "                end = float(m.group(1))\n",
    "                if start is not None:\n",
    "                    seizures.append((start, end))\n",
    "\n",
    "    # Добавляем последний файл\n",
    "    if file_name is not None:\n",
    "        results.append((file_name, seizures))\n",
    "\n",
    "    return results\n",
    "\n",
    "\n",
    "def parse_all_chb_folders(root_dir):\n",
    "    \"\"\"\n",
    "    Рекурсивно ищет *-summary.txt во всех подкаталогах и парсит.\n",
    "    Возвращает общий список аннотаций.\n",
    "    \"\"\"\n",
    "    all_results = []\n",
    "    for root, _, files in os.walk(root_dir):\n",
    "        for f in files:\n",
    "            if f.endswith(\"-summary.txt\"):\n",
    "                summary_path = os.path.join(root, f)\n",
    "                print(f\"Parsing {summary_path} ...\")\n",
    "                file_results = parse_summary_file(summary_path)\n",
    "                all_results.extend(file_results)\n",
    "    return all_results\n",
    "\n",
    "\n",
    "root_dir = \"chb-mit-scalp-eeg-database-1.0.0\"\n",
    "annotations = parse_all_chb_folders(root_dir)\n",
    "\n",
    "print(f\"Total: {len(annotations)}\")\n",
    "print(annotations[:10])\n"
   ]
  },
  {
   "cell_type": "code",
   "execution_count": 2,
   "id": "fb384025",
   "metadata": {},
   "outputs": [
    {
     "name": "stdout",
     "output_type": "stream",
     "text": [
      "('chb24_01.edf', [(480.0, 505.0), (2451.0, 2476.0)])\n",
      "('chb06_01.edf', [(1724.0, 1738.0), (7461.0, 7476.0), (13525.0, 13540.0)])\n"
     ]
    }
   ],
   "source": [
    "for item in annotations:\n",
    "    if item[0] == \"chb06_01.edf\" or item[0] == \"chb24_01.edf\":\n",
    "        print(item)"
   ]
  },
  {
   "cell_type": "code",
   "execution_count": 3,
   "id": "c6f4a456",
   "metadata": {},
   "outputs": [
    {
     "name": "stdout",
     "output_type": "stream",
     "text": [
      "('chb11_82.edf', [(298.0, 320.0)])\n",
      "('chb11_92.edf', [(2695.0, 2727.0)])\n",
      "('chb11_99.edf', [(1454.0, 2206.0)])\n",
      "('chb17a_03.edf', [(2282.0, 2372.0)])\n",
      "('chb17a_04.edf', [(3025.0, 3140.0)])\n",
      "('chb17b_63.edf', [(3136.0, 3224.0)])\n",
      "('chb21_19.edf', [(1288.0, 1344.0)])\n",
      "('chb21_20.edf', [(2627.0, 2677.0)])\n",
      "('chb21_21.edf', [(2003.0, 2084.0)])\n",
      "('chb21_22.edf', [(2553.0, 2565.0)])\n",
      "('chb15_06.edf', [(272.0, 397.0)])\n",
      "('chb15_10.edf', [(1082.0, 1113.0)])\n",
      "('chb15_15.edf', [(1591.0, 1748.0)])\n",
      "('chb15_17.edf', [(1925.0, 1960.0)])\n",
      "('chb15_20.edf', [(607.0, 662.0)])\n",
      "('chb15_22.edf', [(760.0, 965.0)])\n",
      "('chb15_28.edf', [(876.0, 1066.0)])\n",
      "('chb15_31.edf', [(1751.0, 1871.0)])\n",
      "('chb15_40.edf', [(834.0, 894.0), (2378.0, 2497.0), (3362.0, 3425.0)])\n",
      "('chb15_46.edf', [(3322.0, 3429.0)])\n",
      "('chb15_49.edf', [(1108.0, 1248.0)])\n",
      "('chb15_52.edf', [(778.0, 849.0)])\n",
      "('chb15_54.edf', [(263.0, 318.0), (843.0, 1020.0), (1524.0, 1595.0), (2179.0, 2250.0), (3428.0, 3460.0)])\n",
      "('chb15_62.edf', [(751.0, 859.0)])\n",
      "('chb03_01.edf', [(362.0, 414.0)])\n",
      "('chb03_02.edf', [(731.0, 796.0)])\n",
      "('chb03_03.edf', [(432.0, 501.0)])\n",
      "('chb03_04.edf', [(2162.0, 2214.0)])\n",
      "('chb03_34.edf', [(1982.0, 2029.0)])\n",
      "('chb03_35.edf', [(2592.0, 2656.0)])\n",
      "('chb03_36.edf', [(1725.0, 1778.0)])\n",
      "('chb22_20.edf', [(3367.0, 3425.0)])\n",
      "('chb22_25.edf', [(3139.0, 3213.0)])\n",
      "('chb22_38.edf', [(1263.0, 1335.0)])\n",
      "('chb16_10.edf', [(2290.0, 2299.0)])\n",
      "('chb16_11.edf', [(1120.0, 1129.0)])\n",
      "('chb16_14.edf', [(1854.0, 1868.0)])\n",
      "('chb16_16.edf', [(1214.0, 1220.0)])\n",
      "('chb16_17.edf', [(227.0, 236.0), (1694.0, 1700.0), (2162.0, 2170.0), (3290.0, 3298.0)])\n",
      "('chb16_18.edf', [(627.0, 635.0), (1909.0, 1916.0)])\n",
      "('chb08_02.edf', [(2670.0, 2841.0)])\n",
      "('chb08_05.edf', [(2856.0, 3046.0)])\n",
      "('chb08_11.edf', [(2988.0, 3122.0)])\n",
      "('chb08_13.edf', [(2417.0, 2577.0)])\n",
      "('chb08_21.edf', [(2083.0, 2347.0)])\n",
      "('chb01_03.edf', [(2996.0, 3036.0)])\n",
      "('chb01_04.edf', [(1467.0, 1494.0)])\n",
      "('chb01_15.edf', [(1732.0, 1772.0)])\n",
      "('chb01_16.edf', [(1015.0, 1066.0)])\n",
      "('chb01_18.edf', [(1720.0, 1810.0)])\n",
      "('chb01_21.edf', [(327.0, 420.0)])\n",
      "('chb01_26.edf', [(1862.0, 1963.0)])\n",
      "('chb09_06.edf', [(12231.0, 12295.0)])\n",
      "('chb09_08.edf', [(2951.0, 3030.0), (9196.0, 9267.0)])\n",
      "('chb09_19.edf', [(5299.0, 5361.0)])\n",
      "('chb19_28.edf', [(299.0, 377.0)])\n",
      "('chb19_29.edf', [(2964.0, 3041.0)])\n",
      "('chb19_30.edf', [(3159.0, 3240.0)])\n",
      "('chb14_03.edf', [(1986.0, 2000.0)])\n",
      "('chb14_04.edf', [(1372.0, 1392.0), (2817.0, 2839.0)])\n",
      "('chb14_06.edf', [(1911.0, 1925.0)])\n",
      "('chb14_11.edf', [(1838.0, 1879.0)])\n",
      "('chb14_17.edf', [(3239.0, 3259.0)])\n",
      "('chb14_18.edf', [(1039.0, 1061.0)])\n",
      "('chb14_27.edf', [(2833.0, 2849.0)])\n",
      "('chb07_12.edf', [(4920.0, 5006.0)])\n",
      "('chb07_13.edf', [(3285.0, 3381.0)])\n",
      "('chb07_19.edf', [(13688.0, 13831.0)])\n",
      "('chb02_16.edf', [(130.0, 212.0)])\n",
      "('chb02_16+.edf', [(2972.0, 3053.0)])\n",
      "('chb02_19.edf', [(3369.0, 3378.0)])\n",
      "('chb20_12.edf', [(94.0, 123.0)])\n",
      "('chb20_13.edf', [(1440.0, 1470.0), (2498.0, 2537.0)])\n",
      "('chb20_14.edf', [(1971.0, 2009.0)])\n",
      "('chb20_15.edf', [(390.0, 425.0), (1689.0, 1738.0)])\n",
      "('chb20_16.edf', [(2226.0, 2261.0)])\n",
      "('chb20_68.edf', [(1393.0, 1432.0)])\n",
      "('chb24_01.edf', [(480.0, 505.0), (2451.0, 2476.0)])\n",
      "('chb24_03.edf', [(231.0, 260.0), (2883.0, 2908.0)])\n",
      "('chb24_04.edf', [(1088.0, 1120.0), (1411.0, 1438.0), (1745.0, 1764.0)])\n",
      "('chb24_06.edf', [(1229.0, 1253.0)])\n",
      "('chb24_07.edf', [(38.0, 60.0)])\n",
      "('chb24_09.edf', [(1745.0, 1764.0)])\n",
      "('chb24_11.edf', [(3527.0, 3597.0)])\n",
      "('chb24_13.edf', [(3288.0, 3304.0)])\n",
      "('chb24_14.edf', [(1939.0, 1966.0)])\n",
      "('chb24_15.edf', [(3552.0, 3569.0)])\n",
      "('chb24_17.edf', [(3515.0, 3581.0)])\n",
      "('chb24_21.edf', [(2804.0, 2872.0)])\n",
      "('chb10_12.edf', [(6313.0, 6348.0)])\n",
      "('chb10_20.edf', [(6888.0, 6958.0)])\n",
      "('chb10_27.edf', [(2382.0, 2447.0)])\n",
      "('chb10_30.edf', [(3021.0, 3079.0)])\n",
      "('chb10_31.edf', [(3801.0, 3877.0)])\n",
      "('chb10_38.edf', [(4618.0, 4707.0)])\n",
      "('chb10_89.edf', [(1383.0, 1437.0)])\n",
      "('chb06_01.edf', [(1724.0, 1738.0), (7461.0, 7476.0), (13525.0, 13540.0)])\n",
      "('chb06_04.edf', [(327.0, 347.0), (6211.0, 6231.0)])\n",
      "('chb06_09.edf', [(12500.0, 12516.0)])\n",
      "('chb06_10.edf', [(10833.0, 10845.0)])\n",
      "('chb06_13.edf', [(506.0, 519.0)])\n",
      "('chb06_18.edf', [(7799.0, 7811.0)])\n",
      "('chb06_24.edf', [(9387.0, 9403.0)])\n",
      "('chb05_06.edf', [(417.0, 532.0)])\n",
      "('chb05_13.edf', [(1086.0, 1196.0)])\n",
      "('chb05_16.edf', [(2317.0, 2413.0)])\n",
      "('chb05_17.edf', [(2451.0, 2571.0)])\n",
      "('chb05_22.edf', [(2348.0, 2465.0)])\n",
      "('chb18_29.edf', [(3477.0, 3527.0)])\n",
      "('chb18_30.edf', [(541.0, 571.0)])\n",
      "('chb18_31.edf', [(2087.0, 2155.0)])\n",
      "('chb18_32.edf', [(1908.0, 1963.0)])\n",
      "('chb18_35.edf', [(2196.0, 2264.0)])\n",
      "('chb18_36.edf', [(463.0, 509.0)])\n",
      "('chb23_06.edf', [(3962.0, 4075.0)])\n",
      "('chb23_08.edf', [(325.0, 345.0), (5104.0, 5151.0)])\n",
      "('chb23_09.edf', [(2589.0, 2660.0), (6885.0, 6947.0), (8505.0, 8532.0), (9580.0, 9664.0)])\n",
      "('chb13_19.edf', [(2077.0, 2121.0)])\n",
      "('chb13_21.edf', [(934.0, 1004.0)])\n",
      "('chb13_40.edf', [(142.0, 173.0), (530.0, 594.0)])\n",
      "('chb13_55.edf', [(458.0, 478.0), (2436.0, 2454.0)])\n",
      "('chb13_58.edf', [(2474.0, 2491.0)])\n",
      "('chb13_59.edf', [(3339.0, 3401.0)])\n",
      "('chb13_60.edf', [(638.0, 660.0)])\n",
      "('chb13_62.edf', [(851.0, 916.0), (1626.0, 1691.0), (2664.0, 2721.0)])\n",
      "('chb04_05.edf', [(7804.0, 7853.0)])\n",
      "('chb04_08.edf', [(6446.0, 6557.0)])\n",
      "('chb04_28.edf', [(1679.0, 1781.0), (3782.0, 3898.0)])\n",
      "('chb12_06.edf', [(1665.0, 1726.0), (3415.0, 3447.0)])\n",
      "('chb12_08.edf', [(1426.0, 1439.0), (1591.0, 1614.0), (1957.0, 1977.0), (2798.0, 2824.0)])\n",
      "('chb12_09.edf', [(3082.0, 3114.0), (3503.0, 3535.0)])\n",
      "('chb12_10.edf', [(593.0, 625.0), (811.0, 856.0)])\n",
      "('chb12_11.edf', [(1085.0, 1122.0)])\n",
      "('chb12_23.edf', [(253.0, 333.0), (425.0, 522.0), (630.0, 670.0)])\n",
      "('chb12_27.edf', [(916.0, 951.0), (1097.0, 1124.0), (1728.0, 1753.0), (1921.0, 1963.0), (2388.0, 2440.0), (2621.0, 2669.0)])\n",
      "('chb12_28.edf', [(181.0, 215.0)])\n",
      "('chb12_29.edf', [(107.0, 146.0), (554.0, 592.0), (1163.0, 1199.0), (1401.0, 1447.0), (1884.0, 1921.0), (3557.0, 3584.0)])\n",
      "('chb12_33.edf', [(2185.0, 2206.0), (2427.0, 2450.0)])\n",
      "('chb12_36.edf', [(653.0, 680.0)])\n",
      "('chb12_38.edf', [(1548.0, 1573.0), (2798.0, 2821.0), (2966.0, 3009.0), (3146.0, 3201.0), (3364.0, 3410.0)])\n",
      "('chb12_42.edf', [(699.0, 750.0), (945.0, 973.0), (1170.0, 1199.0), (1676.0, 1701.0), (2213.0, 2236.0)])\n"
     ]
    }
   ],
   "source": [
    "only_with_seizures = []\n",
    "for item in annotations:\n",
    "    if item[1]:\n",
    "        print(item)\n",
    "        only_with_seizures.append(item)"
   ]
  },
  {
   "cell_type": "code",
   "execution_count": 20,
   "id": "3f7adeb0",
   "metadata": {},
   "outputs": [
    {
     "data": {
      "text/plain": [
       "141"
      ]
     },
     "execution_count": 20,
     "metadata": {},
     "output_type": "execute_result"
    }
   ],
   "source": [
    "len(only_with_seizures)"
   ]
  },
  {
   "cell_type": "code",
   "execution_count": 4,
   "id": "ac4a728f",
   "metadata": {},
   "outputs": [
    {
     "data": {
      "text/plain": [
       "['chb01_01.edf',\n",
       " 'chb01_02.edf',\n",
       " 'chb01_03.edf',\n",
       " 'chb01_04.edf',\n",
       " 'chb01_15.edf',\n",
       " 'chb01_17.edf',\n",
       " 'chb01_18.edf',\n",
       " 'chb01_20.edf',\n",
       " 'chb01_21.edf',\n",
       " 'chb01_38.edf',\n",
       " 'chb02_01.edf',\n",
       " 'chb02_07.edf',\n",
       " 'chb02_08.edf',\n",
       " 'chb02_15.edf',\n",
       " 'chb02_16.edf',\n",
       " 'chb02_19.edf',\n",
       " 'chb02_20.edf',\n",
       " 'chb02_21.edf',\n",
       " 'chb02_27.edf',\n",
       " 'chb02_34.edf',\n",
       " 'chb03_01.edf',\n",
       " 'chb03_05.edf',\n",
       " 'chb03_06.edf',\n",
       " 'chb03_07.edf',\n",
       " 'chb03_13.edf',\n",
       " 'chb03_14.edf',\n",
       " 'chb03_23.edf',\n",
       " 'chb03_24.edf',\n",
       " 'chb03_35.edf',\n",
       " 'chb03_37.edf',\n",
       " 'chb04_02.edf',\n",
       " 'chb04_03.edf',\n",
       " 'chb04_05.edf',\n",
       " 'chb04_08.edf',\n",
       " 'chb04_10.edf',\n",
       " 'chb04_11.edf',\n",
       " 'chb04_16.edf',\n",
       " 'chb04_17.edf',\n",
       " 'chb04_18.edf',\n",
       " 'chb04_19.edf',\n",
       " 'chb04_21.edf',\n",
       " 'chb04_22.edf',\n",
       " 'chb04_23.edf',\n",
       " 'chb04_24.edf',\n",
       " 'chb04_25.edf',\n",
       " 'chb04_26.edf',\n",
       " 'chb04_27.edf',\n",
       " 'chb04_28.edf',\n",
       " 'chb04_37.edf',\n",
       " 'chb05_04.edf',\n",
       " 'chb05_05.edf',\n",
       " 'chb05_06.edf',\n",
       " 'chb05_10.edf',\n",
       " 'chb05_13.edf',\n",
       " 'chb05_21.edf',\n",
       " 'chb05_22.edf',\n",
       " 'chb05_29.edf',\n",
       " 'chb05_32.edf',\n",
       " 'chb05_33.edf',\n",
       " 'chb07_06.edf',\n",
       " 'chb07_07.edf',\n",
       " 'chb07_13.edf',\n",
       " 'chb07_18.edf',\n",
       " 'chb08_02.edf',\n",
       " 'chb08_03.edf',\n",
       " 'chb08_04.edf',\n",
       " 'chb08_05.edf',\n",
       " 'chb08_12.edf',\n",
       " 'chb08_13.edf',\n",
       " 'chb08_17.edf',\n",
       " 'chb08_18.edf',\n",
       " 'chb08_20.edf',\n",
       " 'chb08_23.edf',\n",
       " 'chb08_29.edf',\n",
       " 'chb09_01.edf',\n",
       " 'chb09_17.edf',\n",
       " 'chb09_19.edf',\n",
       " 'chb10_03.edf',\n",
       " 'chb10_07.edf',\n",
       " 'chb10_14.edf',\n",
       " 'chb10_18.edf',\n",
       " 'chb10_20.edf',\n",
       " 'chb10_30.edf',\n",
       " 'chb10_89.edf',\n",
       " 'chb11_02.edf',\n",
       " 'chb11_03.edf',\n",
       " 'chb11_09.edf',\n",
       " 'chb11_13.edf',\n",
       " 'chb11_24.edf',\n",
       " 'chb11_55.edf',\n",
       " 'chb11_56.edf',\n",
       " 'chb11_61.edf',\n",
       " 'chb11_92.edf',\n",
       " 'chb11_99.edf',\n",
       " 'chb12_06.edf',\n",
       " 'chb12_11.edf',\n",
       " 'chb12_19.edf',\n",
       " 'chb12_20.edf',\n",
       " 'chb12_21.edf',\n",
       " 'chb12_23.edf',\n",
       " 'chb12_24.edf',\n",
       " 'chb12_29.edf',\n",
       " 'chb12_34.edf',\n",
       " 'chb12_38.edf',\n",
       " 'chb12_40.edf',\n",
       " 'chb12_41.edf',\n",
       " 'chb12_42.edf',\n",
       " 'chb13_02.edf',\n",
       " 'chb13_03.edf',\n",
       " 'chb13_11.edf',\n",
       " 'chb13_12.edf',\n",
       " 'chb13_18.edf',\n",
       " 'chb13_19.edf',\n",
       " 'chb13_22.edf',\n",
       " 'chb13_24.edf',\n",
       " 'chb13_30.edf',\n",
       " 'chb13_36.edf',\n",
       " 'chb13_40.edf',\n",
       " 'chb13_55.edf',\n",
       " 'chb13_59.edf',\n",
       " 'chb14_02.edf',\n",
       " 'chb14_03.edf',\n",
       " 'chb14_11.edf',\n",
       " 'chb14_14.edf',\n",
       " 'chb14_16.edf',\n",
       " 'chb14_18.edf',\n",
       " 'chb14_24.edf',\n",
       " 'chb14_27.edf',\n",
       " 'chb14_32.edf',\n",
       " 'chb14_39.edf',\n",
       " 'chb15_01.edf',\n",
       " 'chb15_05.edf',\n",
       " 'chb15_06.edf',\n",
       " 'chb15_14.edf',\n",
       " 'chb15_19.edf',\n",
       " 'chb15_20.edf',\n",
       " 'chb15_31.edf',\n",
       " 'chb15_35.edf',\n",
       " 'chb15_40.edf',\n",
       " 'chb16_01.edf',\n",
       " 'chb16_02.edf',\n",
       " 'chb16_06.edf',\n",
       " 'chb16_10.edf',\n",
       " 'chb16_12.edf',\n",
       " 'chb16_15.edf',\n",
       " 'chb16_17.edf',\n",
       " 'chb16_18.edf',\n",
       " 'chb16_19.edf',\n",
       " 'chb17a_03.edf',\n",
       " 'chb17a_08.edf',\n",
       " 'chb17b_57.edf',\n",
       " 'chb17b_59.edf',\n",
       " 'chb17b_67.edf',\n",
       " 'chb17b_68.edf',\n",
       " 'chb17b_69.edf',\n",
       " 'chb17c_06.edf',\n",
       " 'chb17c_07.edf',\n",
       " 'chb17c_13.edf',\n",
       " 'chb19_01.edf',\n",
       " 'chb19_05.edf',\n",
       " 'chb19_08.edf',\n",
       " 'chb19_11.edf',\n",
       " 'chb19_15.edf',\n",
       " 'chb19_19.edf',\n",
       " 'chb19_22.edf',\n",
       " 'chb19_27.edf',\n",
       " 'chb19_29.edf',\n",
       " 'chb19_30.edf',\n",
       " 'chb20_01.edf',\n",
       " 'chb20_03.edf',\n",
       " 'chb20_04.edf',\n",
       " 'chb20_08.edf',\n",
       " 'chb20_11.edf',\n",
       " 'chb20_12.edf',\n",
       " 'chb20_13.edf',\n",
       " 'chb20_16.edf',\n",
       " 'chb20_23.edf',\n",
       " 'chb20_25.edf',\n",
       " 'chb20_27.edf',\n",
       " 'chb20_31.edf',\n",
       " 'chb20_34.edf',\n",
       " 'chb20_60.edf',\n",
       " 'chb21_03.edf',\n",
       " 'chb21_06.edf',\n",
       " 'chb21_14.edf',\n",
       " 'chb21_15.edf',\n",
       " 'chb21_19.edf',\n",
       " 'chb21_22.edf',\n",
       " 'chb21_25.edf',\n",
       " 'chb21_26.edf',\n",
       " 'chb21_27.edf',\n",
       " 'chb21_33.edf',\n",
       " 'chb22_01.edf',\n",
       " 'chb22_02.edf',\n",
       " 'chb22_06.edf',\n",
       " 'chb22_09.edf',\n",
       " 'chb22_16.edf',\n",
       " 'chb22_20.edf',\n",
       " 'chb22_22.edf',\n",
       " 'chb22_26.edf',\n",
       " 'chb22_29.edf',\n",
       " 'chb22_54.edf',\n",
       " 'chb24_01.edf',\n",
       " 'chb24_05.edf',\n",
       " 'chb24_06.edf',\n",
       " 'chb24_10.edf',\n",
       " 'chb24_11.edf',\n",
       " 'chb24_13.edf',\n",
       " 'chb24_15.edf',\n",
       " 'chb24_18.edf',\n",
       " 'chb24_21.edf',\n",
       " 'chb24_22.edf']"
      ]
     },
     "execution_count": 4,
     "metadata": {},
     "output_type": "execute_result"
    }
   ],
   "source": [
    "# list of files from training set\n",
    "files = [f for f in os.listdir('training_data')]\n",
    "sorted(files)"
   ]
  },
  {
   "cell_type": "code",
   "execution_count": 5,
   "id": "7709ac60",
   "metadata": {},
   "outputs": [
    {
     "name": "stdout",
     "output_type": "stream",
     "text": [
      "('chb11_82.edf', [(298.0, 320.0)])\n",
      "('chb17a_04.edf', [(3025.0, 3140.0)])\n",
      "('chb17b_63.edf', [(3136.0, 3224.0)])\n",
      "('chb21_20.edf', [(2627.0, 2677.0)])\n",
      "('chb21_21.edf', [(2003.0, 2084.0)])\n",
      "('chb15_10.edf', [(1082.0, 1113.0)])\n",
      "('chb15_15.edf', [(1591.0, 1748.0)])\n",
      "('chb15_17.edf', [(1925.0, 1960.0)])\n",
      "('chb15_22.edf', [(760.0, 965.0)])\n",
      "('chb15_28.edf', [(876.0, 1066.0)])\n",
      "('chb15_46.edf', [(3322.0, 3429.0)])\n",
      "('chb15_49.edf', [(1108.0, 1248.0)])\n",
      "('chb15_52.edf', [(778.0, 849.0)])\n",
      "('chb15_54.edf', [(263.0, 318.0), (843.0, 1020.0), (1524.0, 1595.0), (2179.0, 2250.0), (3428.0, 3460.0)])\n",
      "('chb15_62.edf', [(751.0, 859.0)])\n",
      "('chb03_02.edf', [(731.0, 796.0)])\n",
      "('chb03_03.edf', [(432.0, 501.0)])\n",
      "('chb03_04.edf', [(2162.0, 2214.0)])\n",
      "('chb03_34.edf', [(1982.0, 2029.0)])\n",
      "('chb03_36.edf', [(1725.0, 1778.0)])\n",
      "('chb22_25.edf', [(3139.0, 3213.0)])\n",
      "('chb22_38.edf', [(1263.0, 1335.0)])\n",
      "('chb16_11.edf', [(1120.0, 1129.0)])\n",
      "('chb16_14.edf', [(1854.0, 1868.0)])\n",
      "('chb16_16.edf', [(1214.0, 1220.0)])\n",
      "('chb08_11.edf', [(2988.0, 3122.0)])\n",
      "('chb08_21.edf', [(2083.0, 2347.0)])\n",
      "('chb01_16.edf', [(1015.0, 1066.0)])\n",
      "('chb01_26.edf', [(1862.0, 1963.0)])\n",
      "('chb09_06.edf', [(12231.0, 12295.0)])\n",
      "('chb09_08.edf', [(2951.0, 3030.0), (9196.0, 9267.0)])\n",
      "('chb19_28.edf', [(299.0, 377.0)])\n",
      "('chb14_04.edf', [(1372.0, 1392.0), (2817.0, 2839.0)])\n",
      "('chb14_06.edf', [(1911.0, 1925.0)])\n",
      "('chb14_17.edf', [(3239.0, 3259.0)])\n",
      "('chb07_12.edf', [(4920.0, 5006.0)])\n",
      "('chb07_19.edf', [(13688.0, 13831.0)])\n",
      "('chb02_16+.edf', [(2972.0, 3053.0)])\n",
      "('chb20_14.edf', [(1971.0, 2009.0)])\n",
      "('chb20_15.edf', [(390.0, 425.0), (1689.0, 1738.0)])\n",
      "('chb20_68.edf', [(1393.0, 1432.0)])\n",
      "('chb24_03.edf', [(231.0, 260.0), (2883.0, 2908.0)])\n",
      "('chb24_04.edf', [(1088.0, 1120.0), (1411.0, 1438.0), (1745.0, 1764.0)])\n",
      "('chb24_07.edf', [(38.0, 60.0)])\n",
      "('chb24_09.edf', [(1745.0, 1764.0)])\n",
      "('chb24_14.edf', [(1939.0, 1966.0)])\n",
      "('chb24_17.edf', [(3515.0, 3581.0)])\n",
      "('chb10_12.edf', [(6313.0, 6348.0)])\n",
      "('chb10_27.edf', [(2382.0, 2447.0)])\n",
      "('chb10_31.edf', [(3801.0, 3877.0)])\n",
      "('chb10_38.edf', [(4618.0, 4707.0)])\n",
      "('chb06_01.edf', [(1724.0, 1738.0), (7461.0, 7476.0), (13525.0, 13540.0)])\n",
      "('chb06_04.edf', [(327.0, 347.0), (6211.0, 6231.0)])\n",
      "('chb06_09.edf', [(12500.0, 12516.0)])\n",
      "('chb06_10.edf', [(10833.0, 10845.0)])\n",
      "('chb06_13.edf', [(506.0, 519.0)])\n",
      "('chb06_18.edf', [(7799.0, 7811.0)])\n",
      "('chb06_24.edf', [(9387.0, 9403.0)])\n",
      "('chb05_16.edf', [(2317.0, 2413.0)])\n",
      "('chb05_17.edf', [(2451.0, 2571.0)])\n",
      "('chb18_29.edf', [(3477.0, 3527.0)])\n",
      "('chb18_30.edf', [(541.0, 571.0)])\n",
      "('chb18_31.edf', [(2087.0, 2155.0)])\n",
      "('chb18_32.edf', [(1908.0, 1963.0)])\n",
      "('chb18_35.edf', [(2196.0, 2264.0)])\n",
      "('chb18_36.edf', [(463.0, 509.0)])\n",
      "('chb23_06.edf', [(3962.0, 4075.0)])\n",
      "('chb23_08.edf', [(325.0, 345.0), (5104.0, 5151.0)])\n",
      "('chb23_09.edf', [(2589.0, 2660.0), (6885.0, 6947.0), (8505.0, 8532.0), (9580.0, 9664.0)])\n",
      "('chb13_21.edf', [(934.0, 1004.0)])\n",
      "('chb13_58.edf', [(2474.0, 2491.0)])\n",
      "('chb13_60.edf', [(638.0, 660.0)])\n",
      "('chb13_62.edf', [(851.0, 916.0), (1626.0, 1691.0), (2664.0, 2721.0)])\n",
      "('chb12_08.edf', [(1426.0, 1439.0), (1591.0, 1614.0), (1957.0, 1977.0), (2798.0, 2824.0)])\n",
      "('chb12_09.edf', [(3082.0, 3114.0), (3503.0, 3535.0)])\n",
      "('chb12_10.edf', [(593.0, 625.0), (811.0, 856.0)])\n",
      "('chb12_27.edf', [(916.0, 951.0), (1097.0, 1124.0), (1728.0, 1753.0), (1921.0, 1963.0), (2388.0, 2440.0), (2621.0, 2669.0)])\n",
      "('chb12_28.edf', [(181.0, 215.0)])\n",
      "('chb12_33.edf', [(2185.0, 2206.0), (2427.0, 2450.0)])\n",
      "('chb12_36.edf', [(653.0, 680.0)])\n"
     ]
    }
   ],
   "source": [
    "seizures_not_in_training_set = []\n",
    "for item in only_with_seizures:\n",
    "    if item[0] not in files:\n",
    "        print(item)\n",
    "        seizures_not_in_training_set.append(item)"
   ]
  },
  {
   "cell_type": "code",
   "execution_count": 6,
   "id": "6a4dca60",
   "metadata": {},
   "outputs": [
    {
     "data": {
      "text/plain": [
       "[('chb01_16.edf', [(1015.0, 1066.0)]),\n",
       " ('chb01_26.edf', [(1862.0, 1963.0)]),\n",
       " ('chb02_16+.edf', [(2972.0, 3053.0)]),\n",
       " ('chb03_02.edf', [(731.0, 796.0)]),\n",
       " ('chb03_03.edf', [(432.0, 501.0)]),\n",
       " ('chb03_04.edf', [(2162.0, 2214.0)]),\n",
       " ('chb03_34.edf', [(1982.0, 2029.0)]),\n",
       " ('chb03_36.edf', [(1725.0, 1778.0)]),\n",
       " ('chb05_16.edf', [(2317.0, 2413.0)]),\n",
       " ('chb05_17.edf', [(2451.0, 2571.0)]),\n",
       " ('chb06_01.edf', [(1724.0, 1738.0), (7461.0, 7476.0), (13525.0, 13540.0)]),\n",
       " ('chb06_04.edf', [(327.0, 347.0), (6211.0, 6231.0)]),\n",
       " ('chb06_09.edf', [(12500.0, 12516.0)]),\n",
       " ('chb06_10.edf', [(10833.0, 10845.0)]),\n",
       " ('chb06_13.edf', [(506.0, 519.0)]),\n",
       " ('chb06_18.edf', [(7799.0, 7811.0)]),\n",
       " ('chb06_24.edf', [(9387.0, 9403.0)]),\n",
       " ('chb07_12.edf', [(4920.0, 5006.0)]),\n",
       " ('chb07_19.edf', [(13688.0, 13831.0)]),\n",
       " ('chb08_11.edf', [(2988.0, 3122.0)]),\n",
       " ('chb08_21.edf', [(2083.0, 2347.0)]),\n",
       " ('chb09_06.edf', [(12231.0, 12295.0)]),\n",
       " ('chb09_08.edf', [(2951.0, 3030.0), (9196.0, 9267.0)]),\n",
       " ('chb10_12.edf', [(6313.0, 6348.0)]),\n",
       " ('chb10_27.edf', [(2382.0, 2447.0)]),\n",
       " ('chb10_31.edf', [(3801.0, 3877.0)]),\n",
       " ('chb10_38.edf', [(4618.0, 4707.0)]),\n",
       " ('chb11_82.edf', [(298.0, 320.0)]),\n",
       " ('chb12_08.edf',\n",
       "  [(1426.0, 1439.0), (1591.0, 1614.0), (1957.0, 1977.0), (2798.0, 2824.0)]),\n",
       " ('chb12_09.edf', [(3082.0, 3114.0), (3503.0, 3535.0)]),\n",
       " ('chb12_10.edf', [(593.0, 625.0), (811.0, 856.0)]),\n",
       " ('chb12_27.edf',\n",
       "  [(916.0, 951.0),\n",
       "   (1097.0, 1124.0),\n",
       "   (1728.0, 1753.0),\n",
       "   (1921.0, 1963.0),\n",
       "   (2388.0, 2440.0),\n",
       "   (2621.0, 2669.0)]),\n",
       " ('chb12_28.edf', [(181.0, 215.0)]),\n",
       " ('chb12_33.edf', [(2185.0, 2206.0), (2427.0, 2450.0)]),\n",
       " ('chb12_36.edf', [(653.0, 680.0)]),\n",
       " ('chb13_21.edf', [(934.0, 1004.0)]),\n",
       " ('chb13_58.edf', [(2474.0, 2491.0)]),\n",
       " ('chb13_60.edf', [(638.0, 660.0)]),\n",
       " ('chb13_62.edf', [(851.0, 916.0), (1626.0, 1691.0), (2664.0, 2721.0)]),\n",
       " ('chb14_04.edf', [(1372.0, 1392.0), (2817.0, 2839.0)]),\n",
       " ('chb14_06.edf', [(1911.0, 1925.0)]),\n",
       " ('chb14_17.edf', [(3239.0, 3259.0)]),\n",
       " ('chb15_10.edf', [(1082.0, 1113.0)]),\n",
       " ('chb15_15.edf', [(1591.0, 1748.0)]),\n",
       " ('chb15_17.edf', [(1925.0, 1960.0)]),\n",
       " ('chb15_22.edf', [(760.0, 965.0)]),\n",
       " ('chb15_28.edf', [(876.0, 1066.0)]),\n",
       " ('chb15_46.edf', [(3322.0, 3429.0)]),\n",
       " ('chb15_49.edf', [(1108.0, 1248.0)]),\n",
       " ('chb15_52.edf', [(778.0, 849.0)]),\n",
       " ('chb15_54.edf',\n",
       "  [(263.0, 318.0),\n",
       "   (843.0, 1020.0),\n",
       "   (1524.0, 1595.0),\n",
       "   (2179.0, 2250.0),\n",
       "   (3428.0, 3460.0)]),\n",
       " ('chb15_62.edf', [(751.0, 859.0)]),\n",
       " ('chb16_11.edf', [(1120.0, 1129.0)]),\n",
       " ('chb16_14.edf', [(1854.0, 1868.0)]),\n",
       " ('chb16_16.edf', [(1214.0, 1220.0)]),\n",
       " ('chb17a_04.edf', [(3025.0, 3140.0)]),\n",
       " ('chb17b_63.edf', [(3136.0, 3224.0)]),\n",
       " ('chb18_29.edf', [(3477.0, 3527.0)]),\n",
       " ('chb18_30.edf', [(541.0, 571.0)]),\n",
       " ('chb18_31.edf', [(2087.0, 2155.0)]),\n",
       " ('chb18_32.edf', [(1908.0, 1963.0)]),\n",
       " ('chb18_35.edf', [(2196.0, 2264.0)]),\n",
       " ('chb18_36.edf', [(463.0, 509.0)]),\n",
       " ('chb19_28.edf', [(299.0, 377.0)]),\n",
       " ('chb20_14.edf', [(1971.0, 2009.0)]),\n",
       " ('chb20_15.edf', [(390.0, 425.0), (1689.0, 1738.0)]),\n",
       " ('chb20_68.edf', [(1393.0, 1432.0)]),\n",
       " ('chb21_20.edf', [(2627.0, 2677.0)]),\n",
       " ('chb21_21.edf', [(2003.0, 2084.0)]),\n",
       " ('chb22_25.edf', [(3139.0, 3213.0)]),\n",
       " ('chb22_38.edf', [(1263.0, 1335.0)]),\n",
       " ('chb23_06.edf', [(3962.0, 4075.0)]),\n",
       " ('chb23_08.edf', [(325.0, 345.0), (5104.0, 5151.0)]),\n",
       " ('chb23_09.edf',\n",
       "  [(2589.0, 2660.0), (6885.0, 6947.0), (8505.0, 8532.0), (9580.0, 9664.0)]),\n",
       " ('chb24_03.edf', [(231.0, 260.0), (2883.0, 2908.0)]),\n",
       " ('chb24_04.edf', [(1088.0, 1120.0), (1411.0, 1438.0), (1745.0, 1764.0)]),\n",
       " ('chb24_07.edf', [(38.0, 60.0)]),\n",
       " ('chb24_09.edf', [(1745.0, 1764.0)]),\n",
       " ('chb24_14.edf', [(1939.0, 1966.0)]),\n",
       " ('chb24_17.edf', [(3515.0, 3581.0)])]"
      ]
     },
     "execution_count": 6,
     "metadata": {},
     "output_type": "execute_result"
    }
   ],
   "source": [
    "sorted(seizures_not_in_training_set)"
   ]
  },
  {
   "cell_type": "markdown",
   "id": "992e65c1",
   "metadata": {},
   "source": [
    "for head-\n",
    "test_patients = 3\n",
    "80/20 → ~17 patients train, ~4 patients val."
   ]
  },
  {
   "cell_type": "markdown",
   "id": "b73335f6",
   "metadata": {},
   "source": [
    "test files (chb6, 18, 23)\n",
    "val files (chb7, 9, 13, 15)"
   ]
  },
  {
   "cell_type": "code",
   "execution_count": 13,
   "id": "052a5c5d",
   "metadata": {},
   "outputs": [
    {
     "data": {
      "text/plain": [
       "676"
      ]
     },
     "execution_count": 13,
     "metadata": {},
     "output_type": "execute_result"
    }
   ],
   "source": [
    "len(annotations)"
   ]
  },
  {
   "cell_type": "code",
   "execution_count": 12,
   "id": "dd03e3db",
   "metadata": {},
   "outputs": [
    {
     "data": {
      "text/plain": [
       "63"
      ]
     },
     "execution_count": 12,
     "metadata": {},
     "output_type": "execute_result"
    }
   ],
   "source": [
    "# Split to sets\n",
    "\n",
    "# полностью отделяем тестовых пациенов 6 18 23\n",
    "test_file_names_list = [x for x in annotations if x[0].startswith(('chb06', 'chb18', 'chb23'))]\n",
    "len(test_file_names_list)"
   ]
  },
  {
   "cell_type": "code",
   "execution_count": 11,
   "id": "8a074266",
   "metadata": {},
   "outputs": [
    {
     "data": {
      "text/plain": [
       "111"
      ]
     },
     "execution_count": 11,
     "metadata": {},
     "output_type": "execute_result"
    }
   ],
   "source": [
    "\n",
    "# отделяем вал пациенов 7 9 13 15\n",
    "val_file_names_list = [x for x in annotations if x[0].startswith(('chb07', 'chb09', 'chb13', 'chb15'))]\n",
    "len(val_file_names_list)"
   ]
  },
  {
   "cell_type": "code",
   "execution_count": 15,
   "id": "42a177e4",
   "metadata": {},
   "outputs": [
    {
     "data": {
      "text/plain": [
       "502"
      ]
     },
     "execution_count": 15,
     "metadata": {},
     "output_type": "execute_result"
    }
   ],
   "source": [
    "# отделяем трейн пациенов - все что не вал и не тест\n",
    "train_file_names_list = [x for x in annotations if not x[0].startswith(('chb07', 'chb09', 'chb13', 'chb15'\n",
    "                                                                          ,'chb06', 'chb18', 'chb23'))]\n",
    "len(train_file_names_list)"
   ]
  },
  {
   "cell_type": "code",
   "execution_count": 24,
   "id": "f18e0270",
   "metadata": {},
   "outputs": [
    {
     "name": "stderr",
     "output_type": "stream",
     "text": [
      "/tmp/ipykernel_3734/3037979607.py:81: RuntimeWarning: EDF format requires equal-length data blocks, so 0.996 seconds of edge values were appended to all channels when writing the final block.\n",
      "  raw_crop.export(save_path, fmt=\"edf\", overwrite=True)\n",
      "/tmp/ipykernel_3734/3037979607.py:81: RuntimeWarning: EDF format requires equal-length data blocks, so 0.996 seconds of edge values were appended to all channels when writing the final block.\n",
      "  raw_crop.export(save_path, fmt=\"edf\", overwrite=True)\n",
      "/tmp/ipykernel_3734/3037979607.py:81: RuntimeWarning: EDF format requires equal-length data blocks, so 0.996 seconds of edge values were appended to all channels when writing the final block.\n",
      "  raw_crop.export(save_path, fmt=\"edf\", overwrite=True)\n",
      "/tmp/ipykernel_3734/3037979607.py:81: RuntimeWarning: EDF format requires equal-length data blocks, so 0.996 seconds of edge values were appended to all channels when writing the final block.\n",
      "  raw_crop.export(save_path, fmt=\"edf\", overwrite=True)\n",
      "/tmp/ipykernel_3734/3037979607.py:81: RuntimeWarning: EDF format requires equal-length data blocks, so 0.996 seconds of edge values were appended to all channels when writing the final block.\n",
      "  raw_crop.export(save_path, fmt=\"edf\", overwrite=True)\n",
      "/tmp/ipykernel_3734/3037979607.py:81: RuntimeWarning: EDF format requires equal-length data blocks, so 0.996 seconds of edge values were appended to all channels when writing the final block.\n",
      "  raw_crop.export(save_path, fmt=\"edf\", overwrite=True)\n"
     ]
    },
    {
     "name": "stdout",
     "output_type": "stream",
     "text": [
      "Normal segments saved for chb11_01.edf\n",
      "Normal segments saved for chb11_02.edf\n"
     ]
    },
    {
     "name": "stderr",
     "output_type": "stream",
     "text": [
      "/tmp/ipykernel_3734/3037979607.py:81: RuntimeWarning: EDF format requires equal-length data blocks, so 0.996 seconds of edge values were appended to all channels when writing the final block.\n",
      "  raw_crop.export(save_path, fmt=\"edf\", overwrite=True)\n",
      "/tmp/ipykernel_3734/3037979607.py:81: RuntimeWarning: EDF format requires equal-length data blocks, so 0.996 seconds of edge values were appended to all channels when writing the final block.\n",
      "  raw_crop.export(save_path, fmt=\"edf\", overwrite=True)\n",
      "/tmp/ipykernel_3734/3037979607.py:81: RuntimeWarning: EDF format requires equal-length data blocks, so 0.996 seconds of edge values were appended to all channels when writing the final block.\n",
      "  raw_crop.export(save_path, fmt=\"edf\", overwrite=True)\n",
      "/tmp/ipykernel_3734/3037979607.py:81: RuntimeWarning: EDF format requires equal-length data blocks, so 0.996 seconds of edge values were appended to all channels when writing the final block.\n",
      "  raw_crop.export(save_path, fmt=\"edf\", overwrite=True)\n",
      "/tmp/ipykernel_3734/3037979607.py:81: RuntimeWarning: EDF format requires equal-length data blocks, so 0.996 seconds of edge values were appended to all channels when writing the final block.\n",
      "  raw_crop.export(save_path, fmt=\"edf\", overwrite=True)\n",
      "/tmp/ipykernel_3734/3037979607.py:81: RuntimeWarning: EDF format requires equal-length data blocks, so 0.996 seconds of edge values were appended to all channels when writing the final block.\n",
      "  raw_crop.export(save_path, fmt=\"edf\", overwrite=True)\n",
      "/tmp/ipykernel_3734/3037979607.py:81: RuntimeWarning: EDF format requires equal-length data blocks, so 0.996 seconds of edge values were appended to all channels when writing the final block.\n",
      "  raw_crop.export(save_path, fmt=\"edf\", overwrite=True)\n",
      "/tmp/ipykernel_3734/3037979607.py:81: RuntimeWarning: EDF format requires equal-length data blocks, so 0.996 seconds of edge values were appended to all channels when writing the final block.\n",
      "  raw_crop.export(save_path, fmt=\"edf\", overwrite=True)\n",
      "/tmp/ipykernel_3734/3037979607.py:81: RuntimeWarning: EDF format requires equal-length data blocks, so 0.996 seconds of edge values were appended to all channels when writing the final block.\n",
      "  raw_crop.export(save_path, fmt=\"edf\", overwrite=True)\n",
      "/tmp/ipykernel_3734/3037979607.py:81: RuntimeWarning: EDF format requires equal-length data blocks, so 0.996 seconds of edge values were appended to all channels when writing the final block.\n",
      "  raw_crop.export(save_path, fmt=\"edf\", overwrite=True)\n",
      "/tmp/ipykernel_3734/3037979607.py:81: RuntimeWarning: EDF format requires equal-length data blocks, so 0.996 seconds of edge values were appended to all channels when writing the final block.\n",
      "  raw_crop.export(save_path, fmt=\"edf\", overwrite=True)\n",
      "/tmp/ipykernel_3734/3037979607.py:81: RuntimeWarning: EDF format requires equal-length data blocks, so 0.996 seconds of edge values were appended to all channels when writing the final block.\n",
      "  raw_crop.export(save_path, fmt=\"edf\", overwrite=True)\n"
     ]
    },
    {
     "name": "stdout",
     "output_type": "stream",
     "text": [
      "Normal segments saved for chb11_03.edf\n",
      "Normal segments saved for chb11_04.edf\n"
     ]
    },
    {
     "name": "stderr",
     "output_type": "stream",
     "text": [
      "/tmp/ipykernel_3734/3037979607.py:81: RuntimeWarning: EDF format requires equal-length data blocks, so 0.996 seconds of edge values were appended to all channels when writing the final block.\n",
      "  raw_crop.export(save_path, fmt=\"edf\", overwrite=True)\n",
      "/tmp/ipykernel_3734/3037979607.py:81: RuntimeWarning: EDF format requires equal-length data blocks, so 0.996 seconds of edge values were appended to all channels when writing the final block.\n",
      "  raw_crop.export(save_path, fmt=\"edf\", overwrite=True)\n",
      "/tmp/ipykernel_3734/3037979607.py:81: RuntimeWarning: EDF format requires equal-length data blocks, so 0.996 seconds of edge values were appended to all channels when writing the final block.\n",
      "  raw_crop.export(save_path, fmt=\"edf\", overwrite=True)\n",
      "/tmp/ipykernel_3734/3037979607.py:81: RuntimeWarning: EDF format requires equal-length data blocks, so 0.996 seconds of edge values were appended to all channels when writing the final block.\n",
      "  raw_crop.export(save_path, fmt=\"edf\", overwrite=True)\n",
      "/tmp/ipykernel_3734/3037979607.py:81: RuntimeWarning: EDF format requires equal-length data blocks, so 0.996 seconds of edge values were appended to all channels when writing the final block.\n",
      "  raw_crop.export(save_path, fmt=\"edf\", overwrite=True)\n",
      "/tmp/ipykernel_3734/3037979607.py:81: RuntimeWarning: EDF format requires equal-length data blocks, so 0.996 seconds of edge values were appended to all channels when writing the final block.\n",
      "  raw_crop.export(save_path, fmt=\"edf\", overwrite=True)\n",
      "/tmp/ipykernel_3734/3037979607.py:81: RuntimeWarning: EDF format requires equal-length data blocks, so 0.996 seconds of edge values were appended to all channels when writing the final block.\n",
      "  raw_crop.export(save_path, fmt=\"edf\", overwrite=True)\n",
      "/tmp/ipykernel_3734/3037979607.py:81: RuntimeWarning: EDF format requires equal-length data blocks, so 0.996 seconds of edge values were appended to all channels when writing the final block.\n",
      "  raw_crop.export(save_path, fmt=\"edf\", overwrite=True)\n",
      "/tmp/ipykernel_3734/3037979607.py:81: RuntimeWarning: EDF format requires equal-length data blocks, so 0.996 seconds of edge values were appended to all channels when writing the final block.\n",
      "  raw_crop.export(save_path, fmt=\"edf\", overwrite=True)\n",
      "/tmp/ipykernel_3734/3037979607.py:81: RuntimeWarning: EDF format requires equal-length data blocks, so 0.996 seconds of edge values were appended to all channels when writing the final block.\n",
      "  raw_crop.export(save_path, fmt=\"edf\", overwrite=True)\n",
      "/tmp/ipykernel_3734/3037979607.py:81: RuntimeWarning: EDF format requires equal-length data blocks, so 0.996 seconds of edge values were appended to all channels when writing the final block.\n",
      "  raw_crop.export(save_path, fmt=\"edf\", overwrite=True)\n",
      "/tmp/ipykernel_3734/3037979607.py:81: RuntimeWarning: EDF format requires equal-length data blocks, so 0.996 seconds of edge values were appended to all channels when writing the final block.\n",
      "  raw_crop.export(save_path, fmt=\"edf\", overwrite=True)\n"
     ]
    },
    {
     "name": "stdout",
     "output_type": "stream",
     "text": [
      "Normal segments saved for chb11_05.edf\n",
      "Normal segments saved for chb11_06.edf\n"
     ]
    },
    {
     "name": "stderr",
     "output_type": "stream",
     "text": [
      "/tmp/ipykernel_3734/3037979607.py:81: RuntimeWarning: EDF format requires equal-length data blocks, so 0.996 seconds of edge values were appended to all channels when writing the final block.\n",
      "  raw_crop.export(save_path, fmt=\"edf\", overwrite=True)\n",
      "/tmp/ipykernel_3734/3037979607.py:81: RuntimeWarning: EDF format requires equal-length data blocks, so 0.996 seconds of edge values were appended to all channels when writing the final block.\n",
      "  raw_crop.export(save_path, fmt=\"edf\", overwrite=True)\n",
      "/tmp/ipykernel_3734/3037979607.py:81: RuntimeWarning: EDF format requires equal-length data blocks, so 0.996 seconds of edge values were appended to all channels when writing the final block.\n",
      "  raw_crop.export(save_path, fmt=\"edf\", overwrite=True)\n",
      "/tmp/ipykernel_3734/3037979607.py:81: RuntimeWarning: EDF format requires equal-length data blocks, so 0.996 seconds of edge values were appended to all channels when writing the final block.\n",
      "  raw_crop.export(save_path, fmt=\"edf\", overwrite=True)\n",
      "/tmp/ipykernel_3734/3037979607.py:81: RuntimeWarning: EDF format requires equal-length data blocks, so 0.996 seconds of edge values were appended to all channels when writing the final block.\n",
      "  raw_crop.export(save_path, fmt=\"edf\", overwrite=True)\n",
      "/tmp/ipykernel_3734/3037979607.py:81: RuntimeWarning: EDF format requires equal-length data blocks, so 0.996 seconds of edge values were appended to all channels when writing the final block.\n",
      "  raw_crop.export(save_path, fmt=\"edf\", overwrite=True)\n"
     ]
    },
    {
     "name": "stdout",
     "output_type": "stream",
     "text": [
      "Normal segments saved for chb11_07.edf\n",
      "Normal segments saved for chb11_08.edf\n"
     ]
    },
    {
     "name": "stderr",
     "output_type": "stream",
     "text": [
      "/tmp/ipykernel_3734/3037979607.py:81: RuntimeWarning: EDF format requires equal-length data blocks, so 0.996 seconds of edge values were appended to all channels when writing the final block.\n",
      "  raw_crop.export(save_path, fmt=\"edf\", overwrite=True)\n",
      "/tmp/ipykernel_3734/3037979607.py:81: RuntimeWarning: EDF format requires equal-length data blocks, so 0.996 seconds of edge values were appended to all channels when writing the final block.\n",
      "  raw_crop.export(save_path, fmt=\"edf\", overwrite=True)\n",
      "/tmp/ipykernel_3734/3037979607.py:81: RuntimeWarning: EDF format requires equal-length data blocks, so 0.996 seconds of edge values were appended to all channels when writing the final block.\n",
      "  raw_crop.export(save_path, fmt=\"edf\", overwrite=True)\n",
      "/tmp/ipykernel_3734/3037979607.py:81: RuntimeWarning: EDF format requires equal-length data blocks, so 0.996 seconds of edge values were appended to all channels when writing the final block.\n",
      "  raw_crop.export(save_path, fmt=\"edf\", overwrite=True)\n",
      "/tmp/ipykernel_3734/3037979607.py:81: RuntimeWarning: EDF format requires equal-length data blocks, so 0.996 seconds of edge values were appended to all channels when writing the final block.\n",
      "  raw_crop.export(save_path, fmt=\"edf\", overwrite=True)\n",
      "/tmp/ipykernel_3734/3037979607.py:81: RuntimeWarning: EDF format requires equal-length data blocks, so 0.996 seconds of edge values were appended to all channels when writing the final block.\n",
      "  raw_crop.export(save_path, fmt=\"edf\", overwrite=True)\n",
      "/tmp/ipykernel_3734/3037979607.py:81: RuntimeWarning: EDF format requires equal-length data blocks, so 0.996 seconds of edge values were appended to all channels when writing the final block.\n",
      "  raw_crop.export(save_path, fmt=\"edf\", overwrite=True)\n",
      "/tmp/ipykernel_3734/3037979607.py:81: RuntimeWarning: EDF format requires equal-length data blocks, so 0.996 seconds of edge values were appended to all channels when writing the final block.\n",
      "  raw_crop.export(save_path, fmt=\"edf\", overwrite=True)\n",
      "/tmp/ipykernel_3734/3037979607.py:81: RuntimeWarning: EDF format requires equal-length data blocks, so 0.996 seconds of edge values were appended to all channels when writing the final block.\n",
      "  raw_crop.export(save_path, fmt=\"edf\", overwrite=True)\n",
      "/tmp/ipykernel_3734/3037979607.py:81: RuntimeWarning: EDF format requires equal-length data blocks, so 0.996 seconds of edge values were appended to all channels when writing the final block.\n",
      "  raw_crop.export(save_path, fmt=\"edf\", overwrite=True)\n",
      "/tmp/ipykernel_3734/3037979607.py:81: RuntimeWarning: EDF format requires equal-length data blocks, so 0.996 seconds of edge values were appended to all channels when writing the final block.\n",
      "  raw_crop.export(save_path, fmt=\"edf\", overwrite=True)\n",
      "/tmp/ipykernel_3734/3037979607.py:81: RuntimeWarning: EDF format requires equal-length data blocks, so 0.996 seconds of edge values were appended to all channels when writing the final block.\n",
      "  raw_crop.export(save_path, fmt=\"edf\", overwrite=True)\n"
     ]
    },
    {
     "name": "stdout",
     "output_type": "stream",
     "text": [
      "Normal segments saved for chb11_09.edf\n",
      "Normal segments saved for chb11_10.edf\n"
     ]
    },
    {
     "name": "stderr",
     "output_type": "stream",
     "text": [
      "/tmp/ipykernel_3734/3037979607.py:81: RuntimeWarning: EDF format requires equal-length data blocks, so 0.996 seconds of edge values were appended to all channels when writing the final block.\n",
      "  raw_crop.export(save_path, fmt=\"edf\", overwrite=True)\n",
      "/tmp/ipykernel_3734/3037979607.py:81: RuntimeWarning: EDF format requires equal-length data blocks, so 0.996 seconds of edge values were appended to all channels when writing the final block.\n",
      "  raw_crop.export(save_path, fmt=\"edf\", overwrite=True)\n",
      "/tmp/ipykernel_3734/3037979607.py:81: RuntimeWarning: EDF format requires equal-length data blocks, so 0.996 seconds of edge values were appended to all channels when writing the final block.\n",
      "  raw_crop.export(save_path, fmt=\"edf\", overwrite=True)\n",
      "/tmp/ipykernel_3734/3037979607.py:81: RuntimeWarning: EDF format requires equal-length data blocks, so 0.996 seconds of edge values were appended to all channels when writing the final block.\n",
      "  raw_crop.export(save_path, fmt=\"edf\", overwrite=True)\n",
      "/tmp/ipykernel_3734/3037979607.py:81: RuntimeWarning: EDF format requires equal-length data blocks, so 0.996 seconds of edge values were appended to all channels when writing the final block.\n",
      "  raw_crop.export(save_path, fmt=\"edf\", overwrite=True)\n",
      "/tmp/ipykernel_3734/3037979607.py:81: RuntimeWarning: EDF format requires equal-length data blocks, so 0.996 seconds of edge values were appended to all channels when writing the final block.\n",
      "  raw_crop.export(save_path, fmt=\"edf\", overwrite=True)\n",
      "/tmp/ipykernel_3734/3037979607.py:81: RuntimeWarning: EDF format requires equal-length data blocks, so 0.996 seconds of edge values were appended to all channels when writing the final block.\n",
      "  raw_crop.export(save_path, fmt=\"edf\", overwrite=True)\n",
      "/tmp/ipykernel_3734/3037979607.py:81: RuntimeWarning: EDF format requires equal-length data blocks, so 0.996 seconds of edge values were appended to all channels when writing the final block.\n",
      "  raw_crop.export(save_path, fmt=\"edf\", overwrite=True)\n",
      "/tmp/ipykernel_3734/3037979607.py:81: RuntimeWarning: EDF format requires equal-length data blocks, so 0.996 seconds of edge values were appended to all channels when writing the final block.\n",
      "  raw_crop.export(save_path, fmt=\"edf\", overwrite=True)\n",
      "/tmp/ipykernel_3734/3037979607.py:81: RuntimeWarning: EDF format requires equal-length data blocks, so 0.996 seconds of edge values were appended to all channels when writing the final block.\n",
      "  raw_crop.export(save_path, fmt=\"edf\", overwrite=True)\n",
      "/tmp/ipykernel_3734/3037979607.py:81: RuntimeWarning: EDF format requires equal-length data blocks, so 0.996 seconds of edge values were appended to all channels when writing the final block.\n",
      "  raw_crop.export(save_path, fmt=\"edf\", overwrite=True)\n",
      "/tmp/ipykernel_3734/3037979607.py:81: RuntimeWarning: EDF format requires equal-length data blocks, so 0.996 seconds of edge values were appended to all channels when writing the final block.\n",
      "  raw_crop.export(save_path, fmt=\"edf\", overwrite=True)\n"
     ]
    },
    {
     "name": "stdout",
     "output_type": "stream",
     "text": [
      "Normal segments saved for chb11_11.edf\n",
      "Normal segments saved for chb11_12.edf\n"
     ]
    },
    {
     "name": "stderr",
     "output_type": "stream",
     "text": [
      "/tmp/ipykernel_3734/3037979607.py:81: RuntimeWarning: EDF format requires equal-length data blocks, so 0.996 seconds of edge values were appended to all channels when writing the final block.\n",
      "  raw_crop.export(save_path, fmt=\"edf\", overwrite=True)\n",
      "/tmp/ipykernel_3734/3037979607.py:81: RuntimeWarning: EDF format requires equal-length data blocks, so 0.996 seconds of edge values were appended to all channels when writing the final block.\n",
      "  raw_crop.export(save_path, fmt=\"edf\", overwrite=True)\n",
      "/tmp/ipykernel_3734/3037979607.py:81: RuntimeWarning: EDF format requires equal-length data blocks, so 0.996 seconds of edge values were appended to all channels when writing the final block.\n",
      "  raw_crop.export(save_path, fmt=\"edf\", overwrite=True)\n",
      "/tmp/ipykernel_3734/3037979607.py:81: RuntimeWarning: EDF format requires equal-length data blocks, so 0.996 seconds of edge values were appended to all channels when writing the final block.\n",
      "  raw_crop.export(save_path, fmt=\"edf\", overwrite=True)\n",
      "/tmp/ipykernel_3734/3037979607.py:81: RuntimeWarning: EDF format requires equal-length data blocks, so 0.996 seconds of edge values were appended to all channels when writing the final block.\n",
      "  raw_crop.export(save_path, fmt=\"edf\", overwrite=True)\n",
      "/tmp/ipykernel_3734/3037979607.py:81: RuntimeWarning: EDF format requires equal-length data blocks, so 0.996 seconds of edge values were appended to all channels when writing the final block.\n",
      "  raw_crop.export(save_path, fmt=\"edf\", overwrite=True)\n"
     ]
    },
    {
     "name": "stdout",
     "output_type": "stream",
     "text": [
      "Normal segments saved for chb11_13.edf\n",
      "Normal segments saved for chb11_14.edf\n"
     ]
    },
    {
     "name": "stderr",
     "output_type": "stream",
     "text": [
      "/tmp/ipykernel_3734/3037979607.py:81: RuntimeWarning: EDF format requires equal-length data blocks, so 0.996 seconds of edge values were appended to all channels when writing the final block.\n",
      "  raw_crop.export(save_path, fmt=\"edf\", overwrite=True)\n",
      "/tmp/ipykernel_3734/3037979607.py:81: RuntimeWarning: EDF format requires equal-length data blocks, so 0.996 seconds of edge values were appended to all channels when writing the final block.\n",
      "  raw_crop.export(save_path, fmt=\"edf\", overwrite=True)\n",
      "/tmp/ipykernel_3734/3037979607.py:81: RuntimeWarning: EDF format requires equal-length data blocks, so 0.996 seconds of edge values were appended to all channels when writing the final block.\n",
      "  raw_crop.export(save_path, fmt=\"edf\", overwrite=True)\n",
      "/tmp/ipykernel_3734/3037979607.py:81: RuntimeWarning: EDF format requires equal-length data blocks, so 0.996 seconds of edge values were appended to all channels when writing the final block.\n",
      "  raw_crop.export(save_path, fmt=\"edf\", overwrite=True)\n",
      "/tmp/ipykernel_3734/3037979607.py:81: RuntimeWarning: EDF format requires equal-length data blocks, so 0.996 seconds of edge values were appended to all channels when writing the final block.\n",
      "  raw_crop.export(save_path, fmt=\"edf\", overwrite=True)\n",
      "/tmp/ipykernel_3734/3037979607.py:81: RuntimeWarning: EDF format requires equal-length data blocks, so 0.996 seconds of edge values were appended to all channels when writing the final block.\n",
      "  raw_crop.export(save_path, fmt=\"edf\", overwrite=True)\n",
      "/tmp/ipykernel_3734/3037979607.py:81: RuntimeWarning: EDF format requires equal-length data blocks, so 0.996 seconds of edge values were appended to all channels when writing the final block.\n",
      "  raw_crop.export(save_path, fmt=\"edf\", overwrite=True)\n",
      "/tmp/ipykernel_3734/3037979607.py:81: RuntimeWarning: EDF format requires equal-length data blocks, so 0.996 seconds of edge values were appended to all channels when writing the final block.\n",
      "  raw_crop.export(save_path, fmt=\"edf\", overwrite=True)\n",
      "/tmp/ipykernel_3734/3037979607.py:81: RuntimeWarning: EDF format requires equal-length data blocks, so 0.996 seconds of edge values were appended to all channels when writing the final block.\n",
      "  raw_crop.export(save_path, fmt=\"edf\", overwrite=True)\n",
      "/tmp/ipykernel_3734/3037979607.py:81: RuntimeWarning: EDF format requires equal-length data blocks, so 0.996 seconds of edge values were appended to all channels when writing the final block.\n",
      "  raw_crop.export(save_path, fmt=\"edf\", overwrite=True)\n",
      "/tmp/ipykernel_3734/3037979607.py:81: RuntimeWarning: EDF format requires equal-length data blocks, so 0.996 seconds of edge values were appended to all channels when writing the final block.\n",
      "  raw_crop.export(save_path, fmt=\"edf\", overwrite=True)\n",
      "/tmp/ipykernel_3734/3037979607.py:81: RuntimeWarning: EDF format requires equal-length data blocks, so 0.996 seconds of edge values were appended to all channels when writing the final block.\n",
      "  raw_crop.export(save_path, fmt=\"edf\", overwrite=True)\n"
     ]
    },
    {
     "name": "stdout",
     "output_type": "stream",
     "text": [
      "Normal segments saved for chb11_15.edf\n",
      "Normal segments saved for chb11_16.edf\n"
     ]
    },
    {
     "name": "stderr",
     "output_type": "stream",
     "text": [
      "/tmp/ipykernel_3734/3037979607.py:81: RuntimeWarning: EDF format requires equal-length data blocks, so 0.996 seconds of edge values were appended to all channels when writing the final block.\n",
      "  raw_crop.export(save_path, fmt=\"edf\", overwrite=True)\n",
      "/tmp/ipykernel_3734/3037979607.py:81: RuntimeWarning: EDF format requires equal-length data blocks, so 0.996 seconds of edge values were appended to all channels when writing the final block.\n",
      "  raw_crop.export(save_path, fmt=\"edf\", overwrite=True)\n",
      "/tmp/ipykernel_3734/3037979607.py:81: RuntimeWarning: EDF format requires equal-length data blocks, so 0.996 seconds of edge values were appended to all channels when writing the final block.\n",
      "  raw_crop.export(save_path, fmt=\"edf\", overwrite=True)\n",
      "/tmp/ipykernel_3734/3037979607.py:81: RuntimeWarning: EDF format requires equal-length data blocks, so 0.996 seconds of edge values were appended to all channels when writing the final block.\n",
      "  raw_crop.export(save_path, fmt=\"edf\", overwrite=True)\n",
      "/tmp/ipykernel_3734/3037979607.py:81: RuntimeWarning: EDF format requires equal-length data blocks, so 0.996 seconds of edge values were appended to all channels when writing the final block.\n",
      "  raw_crop.export(save_path, fmt=\"edf\", overwrite=True)\n",
      "/tmp/ipykernel_3734/3037979607.py:81: RuntimeWarning: EDF format requires equal-length data blocks, so 0.996 seconds of edge values were appended to all channels when writing the final block.\n",
      "  raw_crop.export(save_path, fmt=\"edf\", overwrite=True)\n",
      "/tmp/ipykernel_3734/3037979607.py:81: RuntimeWarning: EDF format requires equal-length data blocks, so 0.996 seconds of edge values were appended to all channels when writing the final block.\n",
      "  raw_crop.export(save_path, fmt=\"edf\", overwrite=True)\n",
      "/tmp/ipykernel_3734/3037979607.py:81: RuntimeWarning: EDF format requires equal-length data blocks, so 0.996 seconds of edge values were appended to all channels when writing the final block.\n",
      "  raw_crop.export(save_path, fmt=\"edf\", overwrite=True)\n",
      "/tmp/ipykernel_3734/3037979607.py:81: RuntimeWarning: EDF format requires equal-length data blocks, so 0.996 seconds of edge values were appended to all channels when writing the final block.\n",
      "  raw_crop.export(save_path, fmt=\"edf\", overwrite=True)\n",
      "/tmp/ipykernel_3734/3037979607.py:81: RuntimeWarning: EDF format requires equal-length data blocks, so 0.996 seconds of edge values were appended to all channels when writing the final block.\n",
      "  raw_crop.export(save_path, fmt=\"edf\", overwrite=True)\n",
      "/tmp/ipykernel_3734/3037979607.py:81: RuntimeWarning: EDF format requires equal-length data blocks, so 0.996 seconds of edge values were appended to all channels when writing the final block.\n",
      "  raw_crop.export(save_path, fmt=\"edf\", overwrite=True)\n",
      "/tmp/ipykernel_3734/3037979607.py:81: RuntimeWarning: EDF format requires equal-length data blocks, so 0.996 seconds of edge values were appended to all channels when writing the final block.\n",
      "  raw_crop.export(save_path, fmt=\"edf\", overwrite=True)\n"
     ]
    },
    {
     "name": "stdout",
     "output_type": "stream",
     "text": [
      "Normal segments saved for chb11_17.edf\n",
      "Normal segments saved for chb11_18.edf\n",
      "Normal segments saved for chb11_19.edf\n"
     ]
    },
    {
     "name": "stderr",
     "output_type": "stream",
     "text": [
      "/tmp/ipykernel_3734/3037979607.py:81: RuntimeWarning: EDF format requires equal-length data blocks, so 0.996 seconds of edge values were appended to all channels when writing the final block.\n",
      "  raw_crop.export(save_path, fmt=\"edf\", overwrite=True)\n",
      "/tmp/ipykernel_3734/3037979607.py:81: RuntimeWarning: EDF format requires equal-length data blocks, so 0.996 seconds of edge values were appended to all channels when writing the final block.\n",
      "  raw_crop.export(save_path, fmt=\"edf\", overwrite=True)\n",
      "/tmp/ipykernel_3734/3037979607.py:81: RuntimeWarning: EDF format requires equal-length data blocks, so 0.996 seconds of edge values were appended to all channels when writing the final block.\n",
      "  raw_crop.export(save_path, fmt=\"edf\", overwrite=True)\n",
      "/tmp/ipykernel_3734/3037979607.py:81: RuntimeWarning: EDF format requires equal-length data blocks, so 0.996 seconds of edge values were appended to all channels when writing the final block.\n",
      "  raw_crop.export(save_path, fmt=\"edf\", overwrite=True)\n",
      "/tmp/ipykernel_3734/3037979607.py:81: RuntimeWarning: EDF format requires equal-length data blocks, so 0.996 seconds of edge values were appended to all channels when writing the final block.\n",
      "  raw_crop.export(save_path, fmt=\"edf\", overwrite=True)\n",
      "/tmp/ipykernel_3734/3037979607.py:81: RuntimeWarning: EDF format requires equal-length data blocks, so 0.996 seconds of edge values were appended to all channels when writing the final block.\n",
      "  raw_crop.export(save_path, fmt=\"edf\", overwrite=True)\n",
      "/tmp/ipykernel_3734/3037979607.py:81: RuntimeWarning: EDF format requires equal-length data blocks, so 0.996 seconds of edge values were appended to all channels when writing the final block.\n",
      "  raw_crop.export(save_path, fmt=\"edf\", overwrite=True)\n",
      "/tmp/ipykernel_3734/3037979607.py:81: RuntimeWarning: EDF format requires equal-length data blocks, so 0.996 seconds of edge values were appended to all channels when writing the final block.\n",
      "  raw_crop.export(save_path, fmt=\"edf\", overwrite=True)\n",
      "/tmp/ipykernel_3734/3037979607.py:81: RuntimeWarning: EDF format requires equal-length data blocks, so 0.996 seconds of edge values were appended to all channels when writing the final block.\n",
      "  raw_crop.export(save_path, fmt=\"edf\", overwrite=True)\n",
      "/tmp/ipykernel_3734/3037979607.py:81: RuntimeWarning: EDF format requires equal-length data blocks, so 0.996 seconds of edge values were appended to all channels when writing the final block.\n",
      "  raw_crop.export(save_path, fmt=\"edf\", overwrite=True)\n",
      "/tmp/ipykernel_3734/3037979607.py:81: RuntimeWarning: EDF format requires equal-length data blocks, so 0.996 seconds of edge values were appended to all channels when writing the final block.\n",
      "  raw_crop.export(save_path, fmt=\"edf\", overwrite=True)\n"
     ]
    },
    {
     "name": "stdout",
     "output_type": "stream",
     "text": [
      "Normal segments saved for chb11_24.edf\n",
      "Normal segments saved for chb11_25.edf\n"
     ]
    },
    {
     "name": "stderr",
     "output_type": "stream",
     "text": [
      "/tmp/ipykernel_3734/3037979607.py:81: RuntimeWarning: EDF format requires equal-length data blocks, so 0.996 seconds of edge values were appended to all channels when writing the final block.\n",
      "  raw_crop.export(save_path, fmt=\"edf\", overwrite=True)\n",
      "/tmp/ipykernel_3734/3037979607.py:81: RuntimeWarning: EDF format requires equal-length data blocks, so 0.996 seconds of edge values were appended to all channels when writing the final block.\n",
      "  raw_crop.export(save_path, fmt=\"edf\", overwrite=True)\n",
      "/tmp/ipykernel_3734/3037979607.py:81: RuntimeWarning: EDF format requires equal-length data blocks, so 0.996 seconds of edge values were appended to all channels when writing the final block.\n",
      "  raw_crop.export(save_path, fmt=\"edf\", overwrite=True)\n",
      "/tmp/ipykernel_3734/3037979607.py:81: RuntimeWarning: EDF format requires equal-length data blocks, so 0.996 seconds of edge values were appended to all channels when writing the final block.\n",
      "  raw_crop.export(save_path, fmt=\"edf\", overwrite=True)\n",
      "/tmp/ipykernel_3734/3037979607.py:81: RuntimeWarning: EDF format requires equal-length data blocks, so 0.996 seconds of edge values were appended to all channels when writing the final block.\n",
      "  raw_crop.export(save_path, fmt=\"edf\", overwrite=True)\n",
      "/tmp/ipykernel_3734/3037979607.py:81: RuntimeWarning: EDF format requires equal-length data blocks, so 0.996 seconds of edge values were appended to all channels when writing the final block.\n",
      "  raw_crop.export(save_path, fmt=\"edf\", overwrite=True)\n",
      "/tmp/ipykernel_3734/3037979607.py:81: RuntimeWarning: EDF format requires equal-length data blocks, so 0.996 seconds of edge values were appended to all channels when writing the final block.\n",
      "  raw_crop.export(save_path, fmt=\"edf\", overwrite=True)\n",
      "/tmp/ipykernel_3734/3037979607.py:81: RuntimeWarning: EDF format requires equal-length data blocks, so 0.996 seconds of edge values were appended to all channels when writing the final block.\n",
      "  raw_crop.export(save_path, fmt=\"edf\", overwrite=True)\n",
      "/tmp/ipykernel_3734/3037979607.py:81: RuntimeWarning: EDF format requires equal-length data blocks, so 0.996 seconds of edge values were appended to all channels when writing the final block.\n",
      "  raw_crop.export(save_path, fmt=\"edf\", overwrite=True)\n",
      "/tmp/ipykernel_3734/3037979607.py:81: RuntimeWarning: EDF format requires equal-length data blocks, so 0.996 seconds of edge values were appended to all channels when writing the final block.\n",
      "  raw_crop.export(save_path, fmt=\"edf\", overwrite=True)\n",
      "/tmp/ipykernel_3734/3037979607.py:81: RuntimeWarning: EDF format requires equal-length data blocks, so 0.996 seconds of edge values were appended to all channels when writing the final block.\n",
      "  raw_crop.export(save_path, fmt=\"edf\", overwrite=True)\n"
     ]
    },
    {
     "name": "stdout",
     "output_type": "stream",
     "text": [
      "Normal segments saved for chb11_26.edf\n"
     ]
    },
    {
     "name": "stderr",
     "output_type": "stream",
     "text": [
      "/tmp/ipykernel_3734/3037979607.py:81: RuntimeWarning: EDF format requires equal-length data blocks, so 0.996 seconds of edge values were appended to all channels when writing the final block.\n",
      "  raw_crop.export(save_path, fmt=\"edf\", overwrite=True)\n",
      "/tmp/ipykernel_3734/3037979607.py:81: RuntimeWarning: EDF format requires equal-length data blocks, so 0.996 seconds of edge values were appended to all channels when writing the final block.\n",
      "  raw_crop.export(save_path, fmt=\"edf\", overwrite=True)\n",
      "/tmp/ipykernel_3734/3037979607.py:81: RuntimeWarning: EDF format requires equal-length data blocks, so 0.996 seconds of edge values were appended to all channels when writing the final block.\n",
      "  raw_crop.export(save_path, fmt=\"edf\", overwrite=True)\n",
      "/tmp/ipykernel_3734/3037979607.py:81: RuntimeWarning: EDF format requires equal-length data blocks, so 0.996 seconds of edge values were appended to all channels when writing the final block.\n",
      "  raw_crop.export(save_path, fmt=\"edf\", overwrite=True)\n",
      "/tmp/ipykernel_3734/3037979607.py:81: RuntimeWarning: EDF format requires equal-length data blocks, so 0.996 seconds of edge values were appended to all channels when writing the final block.\n",
      "  raw_crop.export(save_path, fmt=\"edf\", overwrite=True)\n",
      "/tmp/ipykernel_3734/3037979607.py:81: RuntimeWarning: EDF format requires equal-length data blocks, so 0.996 seconds of edge values were appended to all channels when writing the final block.\n",
      "  raw_crop.export(save_path, fmt=\"edf\", overwrite=True)\n"
     ]
    },
    {
     "name": "stdout",
     "output_type": "stream",
     "text": [
      "Normal segments saved for chb11_27.edf\n",
      "Normal segments saved for chb11_53.edf\n"
     ]
    },
    {
     "name": "stderr",
     "output_type": "stream",
     "text": [
      "/tmp/ipykernel_3734/3037979607.py:81: RuntimeWarning: EDF format requires equal-length data blocks, so 0.996 seconds of edge values were appended to all channels when writing the final block.\n",
      "  raw_crop.export(save_path, fmt=\"edf\", overwrite=True)\n",
      "/tmp/ipykernel_3734/3037979607.py:81: RuntimeWarning: EDF format requires equal-length data blocks, so 0.996 seconds of edge values were appended to all channels when writing the final block.\n",
      "  raw_crop.export(save_path, fmt=\"edf\", overwrite=True)\n",
      "/tmp/ipykernel_3734/3037979607.py:81: RuntimeWarning: EDF format requires equal-length data blocks, so 0.996 seconds of edge values were appended to all channels when writing the final block.\n",
      "  raw_crop.export(save_path, fmt=\"edf\", overwrite=True)\n",
      "/tmp/ipykernel_3734/3037979607.py:81: RuntimeWarning: EDF format requires equal-length data blocks, so 0.996 seconds of edge values were appended to all channels when writing the final block.\n",
      "  raw_crop.export(save_path, fmt=\"edf\", overwrite=True)\n",
      "/tmp/ipykernel_3734/3037979607.py:81: RuntimeWarning: EDF format requires equal-length data blocks, so 0.996 seconds of edge values were appended to all channels when writing the final block.\n",
      "  raw_crop.export(save_path, fmt=\"edf\", overwrite=True)\n",
      "/tmp/ipykernel_3734/3037979607.py:81: RuntimeWarning: EDF format requires equal-length data blocks, so 0.996 seconds of edge values were appended to all channels when writing the final block.\n",
      "  raw_crop.export(save_path, fmt=\"edf\", overwrite=True)\n",
      "/tmp/ipykernel_3734/3037979607.py:81: RuntimeWarning: EDF format requires equal-length data blocks, so 0.996 seconds of edge values were appended to all channels when writing the final block.\n",
      "  raw_crop.export(save_path, fmt=\"edf\", overwrite=True)\n",
      "/tmp/ipykernel_3734/3037979607.py:81: RuntimeWarning: EDF format requires equal-length data blocks, so 0.996 seconds of edge values were appended to all channels when writing the final block.\n",
      "  raw_crop.export(save_path, fmt=\"edf\", overwrite=True)\n",
      "/tmp/ipykernel_3734/3037979607.py:81: RuntimeWarning: EDF format requires equal-length data blocks, so 0.996 seconds of edge values were appended to all channels when writing the final block.\n",
      "  raw_crop.export(save_path, fmt=\"edf\", overwrite=True)\n",
      "/tmp/ipykernel_3734/3037979607.py:81: RuntimeWarning: EDF format requires equal-length data blocks, so 0.996 seconds of edge values were appended to all channels when writing the final block.\n",
      "  raw_crop.export(save_path, fmt=\"edf\", overwrite=True)\n",
      "/tmp/ipykernel_3734/3037979607.py:81: RuntimeWarning: EDF format requires equal-length data blocks, so 0.996 seconds of edge values were appended to all channels when writing the final block.\n",
      "  raw_crop.export(save_path, fmt=\"edf\", overwrite=True)\n"
     ]
    },
    {
     "name": "stdout",
     "output_type": "stream",
     "text": [
      "Normal segments saved for chb11_54.edf\n",
      "Normal segments saved for chb11_55.edf\n"
     ]
    },
    {
     "name": "stderr",
     "output_type": "stream",
     "text": [
      "/tmp/ipykernel_3734/3037979607.py:81: RuntimeWarning: EDF format requires equal-length data blocks, so 0.996 seconds of edge values were appended to all channels when writing the final block.\n",
      "  raw_crop.export(save_path, fmt=\"edf\", overwrite=True)\n",
      "/tmp/ipykernel_3734/3037979607.py:81: RuntimeWarning: EDF format requires equal-length data blocks, so 0.996 seconds of edge values were appended to all channels when writing the final block.\n",
      "  raw_crop.export(save_path, fmt=\"edf\", overwrite=True)\n",
      "/tmp/ipykernel_3734/3037979607.py:81: RuntimeWarning: EDF format requires equal-length data blocks, so 0.996 seconds of edge values were appended to all channels when writing the final block.\n",
      "  raw_crop.export(save_path, fmt=\"edf\", overwrite=True)\n",
      "/tmp/ipykernel_3734/3037979607.py:81: RuntimeWarning: EDF format requires equal-length data blocks, so 0.996 seconds of edge values were appended to all channels when writing the final block.\n",
      "  raw_crop.export(save_path, fmt=\"edf\", overwrite=True)\n",
      "/tmp/ipykernel_3734/3037979607.py:81: RuntimeWarning: EDF format requires equal-length data blocks, so 0.996 seconds of edge values were appended to all channels when writing the final block.\n",
      "  raw_crop.export(save_path, fmt=\"edf\", overwrite=True)\n",
      "/tmp/ipykernel_3734/3037979607.py:81: RuntimeWarning: EDF format requires equal-length data blocks, so 0.996 seconds of edge values were appended to all channels when writing the final block.\n",
      "  raw_crop.export(save_path, fmt=\"edf\", overwrite=True)\n",
      "/tmp/ipykernel_3734/3037979607.py:81: RuntimeWarning: EDF format requires equal-length data blocks, so 0.996 seconds of edge values were appended to all channels when writing the final block.\n",
      "  raw_crop.export(save_path, fmt=\"edf\", overwrite=True)\n",
      "/tmp/ipykernel_3734/3037979607.py:81: RuntimeWarning: EDF format requires equal-length data blocks, so 0.996 seconds of edge values were appended to all channels when writing the final block.\n",
      "  raw_crop.export(save_path, fmt=\"edf\", overwrite=True)\n",
      "/tmp/ipykernel_3734/3037979607.py:81: RuntimeWarning: EDF format requires equal-length data blocks, so 0.996 seconds of edge values were appended to all channels when writing the final block.\n",
      "  raw_crop.export(save_path, fmt=\"edf\", overwrite=True)\n",
      "/tmp/ipykernel_3734/3037979607.py:81: RuntimeWarning: EDF format requires equal-length data blocks, so 0.996 seconds of edge values were appended to all channels when writing the final block.\n",
      "  raw_crop.export(save_path, fmt=\"edf\", overwrite=True)\n",
      "/tmp/ipykernel_3734/3037979607.py:81: RuntimeWarning: EDF format requires equal-length data blocks, so 0.996 seconds of edge values were appended to all channels when writing the final block.\n",
      "  raw_crop.export(save_path, fmt=\"edf\", overwrite=True)\n"
     ]
    },
    {
     "name": "stdout",
     "output_type": "stream",
     "text": [
      "Normal segments saved for chb11_56.edf\n",
      "Normal segments saved for chb11_58.edf\n"
     ]
    },
    {
     "name": "stderr",
     "output_type": "stream",
     "text": [
      "/tmp/ipykernel_3734/3037979607.py:81: RuntimeWarning: EDF format requires equal-length data blocks, so 0.996 seconds of edge values were appended to all channels when writing the final block.\n",
      "  raw_crop.export(save_path, fmt=\"edf\", overwrite=True)\n",
      "/tmp/ipykernel_3734/3037979607.py:81: RuntimeWarning: EDF format requires equal-length data blocks, so 0.996 seconds of edge values were appended to all channels when writing the final block.\n",
      "  raw_crop.export(save_path, fmt=\"edf\", overwrite=True)\n",
      "/tmp/ipykernel_3734/3037979607.py:81: RuntimeWarning: EDF format requires equal-length data blocks, so 0.996 seconds of edge values were appended to all channels when writing the final block.\n",
      "  raw_crop.export(save_path, fmt=\"edf\", overwrite=True)\n",
      "/tmp/ipykernel_3734/3037979607.py:81: RuntimeWarning: EDF format requires equal-length data blocks, so 0.996 seconds of edge values were appended to all channels when writing the final block.\n",
      "  raw_crop.export(save_path, fmt=\"edf\", overwrite=True)\n",
      "/tmp/ipykernel_3734/3037979607.py:81: RuntimeWarning: EDF format requires equal-length data blocks, so 0.996 seconds of edge values were appended to all channels when writing the final block.\n",
      "  raw_crop.export(save_path, fmt=\"edf\", overwrite=True)\n",
      "/tmp/ipykernel_3734/3037979607.py:81: RuntimeWarning: EDF format requires equal-length data blocks, so 0.996 seconds of edge values were appended to all channels when writing the final block.\n",
      "  raw_crop.export(save_path, fmt=\"edf\", overwrite=True)\n"
     ]
    },
    {
     "name": "stdout",
     "output_type": "stream",
     "text": [
      "Normal segments saved for chb11_60.edf\n",
      "Normal segments saved for chb11_61.edf\n"
     ]
    },
    {
     "name": "stderr",
     "output_type": "stream",
     "text": [
      "/tmp/ipykernel_3734/3037979607.py:81: RuntimeWarning: EDF format requires equal-length data blocks, so 0.996 seconds of edge values were appended to all channels when writing the final block.\n",
      "  raw_crop.export(save_path, fmt=\"edf\", overwrite=True)\n",
      "/tmp/ipykernel_3734/3037979607.py:81: RuntimeWarning: EDF format requires equal-length data blocks, so 0.996 seconds of edge values were appended to all channels when writing the final block.\n",
      "  raw_crop.export(save_path, fmt=\"edf\", overwrite=True)\n",
      "/tmp/ipykernel_3734/3037979607.py:81: RuntimeWarning: EDF format requires equal-length data blocks, so 0.996 seconds of edge values were appended to all channels when writing the final block.\n",
      "  raw_crop.export(save_path, fmt=\"edf\", overwrite=True)\n",
      "/tmp/ipykernel_3734/3037979607.py:81: RuntimeWarning: EDF format requires equal-length data blocks, so 0.996 seconds of edge values were appended to all channels when writing the final block.\n",
      "  raw_crop.export(save_path, fmt=\"edf\", overwrite=True)\n",
      "/tmp/ipykernel_3734/3037979607.py:81: RuntimeWarning: EDF format requires equal-length data blocks, so 0.996 seconds of edge values were appended to all channels when writing the final block.\n",
      "  raw_crop.export(save_path, fmt=\"edf\", overwrite=True)\n",
      "/tmp/ipykernel_3734/3037979607.py:81: RuntimeWarning: EDF format requires equal-length data blocks, so 0.996 seconds of edge values were appended to all channels when writing the final block.\n",
      "  raw_crop.export(save_path, fmt=\"edf\", overwrite=True)\n",
      "/tmp/ipykernel_3734/3037979607.py:81: RuntimeWarning: EDF format requires equal-length data blocks, so 0.996 seconds of edge values were appended to all channels when writing the final block.\n",
      "  raw_crop.export(save_path, fmt=\"edf\", overwrite=True)\n",
      "/tmp/ipykernel_3734/3037979607.py:81: RuntimeWarning: EDF format requires equal-length data blocks, so 0.996 seconds of edge values were appended to all channels when writing the final block.\n",
      "  raw_crop.export(save_path, fmt=\"edf\", overwrite=True)\n",
      "/tmp/ipykernel_3734/3037979607.py:81: RuntimeWarning: EDF format requires equal-length data blocks, so 0.996 seconds of edge values were appended to all channels when writing the final block.\n",
      "  raw_crop.export(save_path, fmt=\"edf\", overwrite=True)\n",
      "/tmp/ipykernel_3734/3037979607.py:81: RuntimeWarning: EDF format requires equal-length data blocks, so 0.996 seconds of edge values were appended to all channels when writing the final block.\n",
      "  raw_crop.export(save_path, fmt=\"edf\", overwrite=True)\n",
      "/tmp/ipykernel_3734/3037979607.py:81: RuntimeWarning: EDF format requires equal-length data blocks, so 0.996 seconds of edge values were appended to all channels when writing the final block.\n",
      "  raw_crop.export(save_path, fmt=\"edf\", overwrite=True)\n"
     ]
    },
    {
     "name": "stdout",
     "output_type": "stream",
     "text": [
      "Normal segments saved for chb11_62.edf\n",
      "Normal segments saved for chb11_63.edf\n"
     ]
    },
    {
     "name": "stderr",
     "output_type": "stream",
     "text": [
      "/tmp/ipykernel_3734/3037979607.py:81: RuntimeWarning: EDF format requires equal-length data blocks, so 0.996 seconds of edge values were appended to all channels when writing the final block.\n",
      "  raw_crop.export(save_path, fmt=\"edf\", overwrite=True)\n",
      "/tmp/ipykernel_3734/3037979607.py:81: RuntimeWarning: EDF format requires equal-length data blocks, so 0.996 seconds of edge values were appended to all channels when writing the final block.\n",
      "  raw_crop.export(save_path, fmt=\"edf\", overwrite=True)\n",
      "/tmp/ipykernel_3734/3037979607.py:81: RuntimeWarning: EDF format requires equal-length data blocks, so 0.996 seconds of edge values were appended to all channels when writing the final block.\n",
      "  raw_crop.export(save_path, fmt=\"edf\", overwrite=True)\n",
      "/tmp/ipykernel_3734/3037979607.py:52: RuntimeWarning: EDF format requires equal-length data blocks, so 0.996 seconds of edge values were appended to all channels when writing the final block.\n",
      "  segment.export(save_path, fmt='edf')\n"
     ]
    },
    {
     "name": "stdout",
     "output_type": "stream",
     "text": [
      "  → saved: chb11_82_seizure_1.edf\n",
      "  → saved: chb11_92_seizure_1.edf\n"
     ]
    },
    {
     "name": "stderr",
     "output_type": "stream",
     "text": [
      "/tmp/ipykernel_3734/3037979607.py:52: RuntimeWarning: EDF format requires equal-length data blocks, so 0.996 seconds of edge values were appended to all channels when writing the final block.\n",
      "  segment.export(save_path, fmt='edf')\n",
      "/tmp/ipykernel_3734/3037979607.py:52: RuntimeWarning: EDF format requires equal-length data blocks, so 0.996 seconds of edge values were appended to all channels when writing the final block.\n",
      "  segment.export(save_path, fmt='edf')\n"
     ]
    },
    {
     "name": "stdout",
     "output_type": "stream",
     "text": [
      "  → saved: chb11_99_seizure_1.edf\n",
      "  → saved: chb17a_03_seizure_1.edf\n"
     ]
    },
    {
     "name": "stderr",
     "output_type": "stream",
     "text": [
      "/tmp/ipykernel_3734/3037979607.py:52: RuntimeWarning: EDF format requires equal-length data blocks, so 0.996 seconds of edge values were appended to all channels when writing the final block.\n",
      "  segment.export(save_path, fmt='edf')\n",
      "/tmp/ipykernel_3734/3037979607.py:52: RuntimeWarning: EDF format requires equal-length data blocks, so 0.996 seconds of edge values were appended to all channels when writing the final block.\n",
      "  segment.export(save_path, fmt='edf')\n"
     ]
    },
    {
     "name": "stdout",
     "output_type": "stream",
     "text": [
      "  → saved: chb17a_04_seizure_1.edf\n",
      "Normal segments saved for chb17a_05.edf\n"
     ]
    },
    {
     "name": "stderr",
     "output_type": "stream",
     "text": [
      "/tmp/ipykernel_3734/3037979607.py:81: RuntimeWarning: EDF format requires equal-length data blocks, so 0.996 seconds of edge values were appended to all channels when writing the final block.\n",
      "  raw_crop.export(save_path, fmt=\"edf\", overwrite=True)\n",
      "/tmp/ipykernel_3734/3037979607.py:81: RuntimeWarning: EDF format requires equal-length data blocks, so 0.996 seconds of edge values were appended to all channels when writing the final block.\n",
      "  raw_crop.export(save_path, fmt=\"edf\", overwrite=True)\n",
      "/tmp/ipykernel_3734/3037979607.py:81: RuntimeWarning: EDF format requires equal-length data blocks, so 0.996 seconds of edge values were appended to all channels when writing the final block.\n",
      "  raw_crop.export(save_path, fmt=\"edf\", overwrite=True)\n",
      "/tmp/ipykernel_3734/3037979607.py:81: RuntimeWarning: EDF format requires equal-length data blocks, so 0.996 seconds of edge values were appended to all channels when writing the final block.\n",
      "  raw_crop.export(save_path, fmt=\"edf\", overwrite=True)\n",
      "/tmp/ipykernel_3734/3037979607.py:81: RuntimeWarning: EDF format requires equal-length data blocks, so 0.996 seconds of edge values were appended to all channels when writing the final block.\n",
      "  raw_crop.export(save_path, fmt=\"edf\", overwrite=True)\n",
      "/tmp/ipykernel_3734/3037979607.py:81: RuntimeWarning: EDF format requires equal-length data blocks, so 0.996 seconds of edge values were appended to all channels when writing the final block.\n",
      "  raw_crop.export(save_path, fmt=\"edf\", overwrite=True)\n",
      "/tmp/ipykernel_3734/3037979607.py:81: RuntimeWarning: EDF format requires equal-length data blocks, so 0.996 seconds of edge values were appended to all channels when writing the final block.\n",
      "  raw_crop.export(save_path, fmt=\"edf\", overwrite=True)\n",
      "/tmp/ipykernel_3734/3037979607.py:81: RuntimeWarning: EDF format requires equal-length data blocks, so 0.996 seconds of edge values were appended to all channels when writing the final block.\n",
      "  raw_crop.export(save_path, fmt=\"edf\", overwrite=True)\n",
      "/tmp/ipykernel_3734/3037979607.py:81: RuntimeWarning: EDF format requires equal-length data blocks, so 0.996 seconds of edge values were appended to all channels when writing the final block.\n",
      "  raw_crop.export(save_path, fmt=\"edf\", overwrite=True)\n",
      "/tmp/ipykernel_3734/3037979607.py:81: RuntimeWarning: EDF format requires equal-length data blocks, so 0.996 seconds of edge values were appended to all channels when writing the final block.\n",
      "  raw_crop.export(save_path, fmt=\"edf\", overwrite=True)\n",
      "/tmp/ipykernel_3734/3037979607.py:81: RuntimeWarning: EDF format requires equal-length data blocks, so 0.996 seconds of edge values were appended to all channels when writing the final block.\n",
      "  raw_crop.export(save_path, fmt=\"edf\", overwrite=True)\n"
     ]
    },
    {
     "name": "stdout",
     "output_type": "stream",
     "text": [
      "Normal segments saved for chb17a_06.edf\n"
     ]
    },
    {
     "name": "stderr",
     "output_type": "stream",
     "text": [
      "/tmp/ipykernel_3734/3037979607.py:81: RuntimeWarning: EDF format requires equal-length data blocks, so 0.996 seconds of edge values were appended to all channels when writing the final block.\n",
      "  raw_crop.export(save_path, fmt=\"edf\", overwrite=True)\n",
      "/tmp/ipykernel_3734/3037979607.py:81: RuntimeWarning: EDF format requires equal-length data blocks, so 0.996 seconds of edge values were appended to all channels when writing the final block.\n",
      "  raw_crop.export(save_path, fmt=\"edf\", overwrite=True)\n",
      "/tmp/ipykernel_3734/3037979607.py:81: RuntimeWarning: EDF format requires equal-length data blocks, so 0.996 seconds of edge values were appended to all channels when writing the final block.\n",
      "  raw_crop.export(save_path, fmt=\"edf\", overwrite=True)\n",
      "/tmp/ipykernel_3734/3037979607.py:81: RuntimeWarning: EDF format requires equal-length data blocks, so 0.996 seconds of edge values were appended to all channels when writing the final block.\n",
      "  raw_crop.export(save_path, fmt=\"edf\", overwrite=True)\n",
      "/tmp/ipykernel_3734/3037979607.py:81: RuntimeWarning: EDF format requires equal-length data blocks, so 0.996 seconds of edge values were appended to all channels when writing the final block.\n",
      "  raw_crop.export(save_path, fmt=\"edf\", overwrite=True)\n"
     ]
    },
    {
     "name": "stdout",
     "output_type": "stream",
     "text": [
      "Normal segments saved for chb17a_08.edf\n"
     ]
    },
    {
     "name": "stderr",
     "output_type": "stream",
     "text": [
      "/tmp/ipykernel_3734/3037979607.py:81: RuntimeWarning: EDF format requires equal-length data blocks, so 0.996 seconds of edge values were appended to all channels when writing the final block.\n",
      "  raw_crop.export(save_path, fmt=\"edf\", overwrite=True)\n",
      "/tmp/ipykernel_3734/3037979607.py:81: RuntimeWarning: EDF format requires equal-length data blocks, so 0.996 seconds of edge values were appended to all channels when writing the final block.\n",
      "  raw_crop.export(save_path, fmt=\"edf\", overwrite=True)\n",
      "/tmp/ipykernel_3734/3037979607.py:81: RuntimeWarning: EDF format requires equal-length data blocks, so 0.996 seconds of edge values were appended to all channels when writing the final block.\n",
      "  raw_crop.export(save_path, fmt=\"edf\", overwrite=True)\n",
      "/tmp/ipykernel_3734/3037979607.py:81: RuntimeWarning: EDF format requires equal-length data blocks, so 0.996 seconds of edge values were appended to all channels when writing the final block.\n",
      "  raw_crop.export(save_path, fmt=\"edf\", overwrite=True)\n",
      "/tmp/ipykernel_3734/3037979607.py:81: RuntimeWarning: EDF format requires equal-length data blocks, so 0.996 seconds of edge values were appended to all channels when writing the final block.\n",
      "  raw_crop.export(save_path, fmt=\"edf\", overwrite=True)\n",
      "/tmp/ipykernel_3734/3037979607.py:81: RuntimeWarning: EDF format requires equal-length data blocks, so 0.996 seconds of edge values were appended to all channels when writing the final block.\n",
      "  raw_crop.export(save_path, fmt=\"edf\", overwrite=True)\n"
     ]
    },
    {
     "name": "stdout",
     "output_type": "stream",
     "text": [
      "Normal segments saved for chb17b_57.edf\n",
      "Normal segments saved for chb17b_58.edf\n"
     ]
    },
    {
     "name": "stderr",
     "output_type": "stream",
     "text": [
      "/tmp/ipykernel_3734/3037979607.py:81: RuntimeWarning: EDF format requires equal-length data blocks, so 0.996 seconds of edge values were appended to all channels when writing the final block.\n",
      "  raw_crop.export(save_path, fmt=\"edf\", overwrite=True)\n",
      "/tmp/ipykernel_3734/3037979607.py:81: RuntimeWarning: EDF format requires equal-length data blocks, so 0.996 seconds of edge values were appended to all channels when writing the final block.\n",
      "  raw_crop.export(save_path, fmt=\"edf\", overwrite=True)\n",
      "/tmp/ipykernel_3734/3037979607.py:81: RuntimeWarning: EDF format requires equal-length data blocks, so 0.996 seconds of edge values were appended to all channels when writing the final block.\n",
      "  raw_crop.export(save_path, fmt=\"edf\", overwrite=True)\n",
      "/tmp/ipykernel_3734/3037979607.py:81: RuntimeWarning: EDF format requires equal-length data blocks, so 0.996 seconds of edge values were appended to all channels when writing the final block.\n",
      "  raw_crop.export(save_path, fmt=\"edf\", overwrite=True)\n",
      "/tmp/ipykernel_3734/3037979607.py:81: RuntimeWarning: EDF format requires equal-length data blocks, so 0.996 seconds of edge values were appended to all channels when writing the final block.\n",
      "  raw_crop.export(save_path, fmt=\"edf\", overwrite=True)\n",
      "/tmp/ipykernel_3734/3037979607.py:81: RuntimeWarning: EDF format requires equal-length data blocks, so 0.996 seconds of edge values were appended to all channels when writing the final block.\n",
      "  raw_crop.export(save_path, fmt=\"edf\", overwrite=True)\n",
      "/tmp/ipykernel_3734/3037979607.py:81: RuntimeWarning: EDF format requires equal-length data blocks, so 0.996 seconds of edge values were appended to all channels when writing the final block.\n",
      "  raw_crop.export(save_path, fmt=\"edf\", overwrite=True)\n",
      "/tmp/ipykernel_3734/3037979607.py:81: RuntimeWarning: EDF format requires equal-length data blocks, so 0.996 seconds of edge values were appended to all channels when writing the final block.\n",
      "  raw_crop.export(save_path, fmt=\"edf\", overwrite=True)\n",
      "/tmp/ipykernel_3734/3037979607.py:81: RuntimeWarning: EDF format requires equal-length data blocks, so 0.996 seconds of edge values were appended to all channels when writing the final block.\n",
      "  raw_crop.export(save_path, fmt=\"edf\", overwrite=True)\n",
      "/tmp/ipykernel_3734/3037979607.py:81: RuntimeWarning: EDF format requires equal-length data blocks, so 0.996 seconds of edge values were appended to all channels when writing the final block.\n",
      "  raw_crop.export(save_path, fmt=\"edf\", overwrite=True)\n",
      "/tmp/ipykernel_3734/3037979607.py:81: RuntimeWarning: EDF format requires equal-length data blocks, so 0.996 seconds of edge values were appended to all channels when writing the final block.\n",
      "  raw_crop.export(save_path, fmt=\"edf\", overwrite=True)\n",
      "/tmp/ipykernel_3734/3037979607.py:81: RuntimeWarning: EDF format requires equal-length data blocks, so 0.996 seconds of edge values were appended to all channels when writing the final block.\n",
      "  raw_crop.export(save_path, fmt=\"edf\", overwrite=True)\n"
     ]
    },
    {
     "name": "stdout",
     "output_type": "stream",
     "text": [
      "Normal segments saved for chb17b_59.edf\n",
      "Normal segments saved for chb17b_60.edf\n"
     ]
    },
    {
     "name": "stderr",
     "output_type": "stream",
     "text": [
      "/tmp/ipykernel_3734/3037979607.py:81: RuntimeWarning: EDF format requires equal-length data blocks, so 0.996 seconds of edge values were appended to all channels when writing the final block.\n",
      "  raw_crop.export(save_path, fmt=\"edf\", overwrite=True)\n",
      "/tmp/ipykernel_3734/3037979607.py:52: RuntimeWarning: EDF format requires equal-length data blocks, so 0.996 seconds of edge values were appended to all channels when writing the final block.\n",
      "  segment.export(save_path, fmt='edf')\n"
     ]
    },
    {
     "name": "stdout",
     "output_type": "stream",
     "text": [
      "  → saved: chb17b_63_seizure_1.edf\n",
      "Normal segments saved for chb17b_67.edf\n"
     ]
    },
    {
     "name": "stderr",
     "output_type": "stream",
     "text": [
      "/tmp/ipykernel_3734/3037979607.py:81: RuntimeWarning: EDF format requires equal-length data blocks, so 0.996 seconds of edge values were appended to all channels when writing the final block.\n",
      "  raw_crop.export(save_path, fmt=\"edf\", overwrite=True)\n",
      "/tmp/ipykernel_3734/3037979607.py:81: RuntimeWarning: EDF format requires equal-length data blocks, so 0.996 seconds of edge values were appended to all channels when writing the final block.\n",
      "  raw_crop.export(save_path, fmt=\"edf\", overwrite=True)\n",
      "/tmp/ipykernel_3734/3037979607.py:81: RuntimeWarning: EDF format requires equal-length data blocks, so 0.996 seconds of edge values were appended to all channels when writing the final block.\n",
      "  raw_crop.export(save_path, fmt=\"edf\", overwrite=True)\n",
      "/tmp/ipykernel_3734/3037979607.py:81: RuntimeWarning: EDF format requires equal-length data blocks, so 0.996 seconds of edge values were appended to all channels when writing the final block.\n",
      "  raw_crop.export(save_path, fmt=\"edf\", overwrite=True)\n",
      "/tmp/ipykernel_3734/3037979607.py:81: RuntimeWarning: EDF format requires equal-length data blocks, so 0.996 seconds of edge values were appended to all channels when writing the final block.\n",
      "  raw_crop.export(save_path, fmt=\"edf\", overwrite=True)\n",
      "/tmp/ipykernel_3734/3037979607.py:81: RuntimeWarning: EDF format requires equal-length data blocks, so 0.996 seconds of edge values were appended to all channels when writing the final block.\n",
      "  raw_crop.export(save_path, fmt=\"edf\", overwrite=True)\n",
      "/tmp/ipykernel_3734/3037979607.py:81: RuntimeWarning: EDF format requires equal-length data blocks, so 0.996 seconds of edge values were appended to all channels when writing the final block.\n",
      "  raw_crop.export(save_path, fmt=\"edf\", overwrite=True)\n",
      "/tmp/ipykernel_3734/3037979607.py:81: RuntimeWarning: EDF format requires equal-length data blocks, so 0.996 seconds of edge values were appended to all channels when writing the final block.\n",
      "  raw_crop.export(save_path, fmt=\"edf\", overwrite=True)\n",
      "/tmp/ipykernel_3734/3037979607.py:81: RuntimeWarning: EDF format requires equal-length data blocks, so 0.996 seconds of edge values were appended to all channels when writing the final block.\n",
      "  raw_crop.export(save_path, fmt=\"edf\", overwrite=True)\n",
      "/tmp/ipykernel_3734/3037979607.py:81: RuntimeWarning: EDF format requires equal-length data blocks, so 0.996 seconds of edge values were appended to all channels when writing the final block.\n",
      "  raw_crop.export(save_path, fmt=\"edf\", overwrite=True)\n",
      "/tmp/ipykernel_3734/3037979607.py:81: RuntimeWarning: EDF format requires equal-length data blocks, so 0.996 seconds of edge values were appended to all channels when writing the final block.\n",
      "  raw_crop.export(save_path, fmt=\"edf\", overwrite=True)\n"
     ]
    },
    {
     "name": "stdout",
     "output_type": "stream",
     "text": [
      "Normal segments saved for chb17b_68.edf\n"
     ]
    },
    {
     "name": "stderr",
     "output_type": "stream",
     "text": [
      "/tmp/ipykernel_3734/3037979607.py:81: RuntimeWarning: EDF format requires equal-length data blocks, so 0.996 seconds of edge values were appended to all channels when writing the final block.\n",
      "  raw_crop.export(save_path, fmt=\"edf\", overwrite=True)\n",
      "/tmp/ipykernel_3734/3037979607.py:81: RuntimeWarning: EDF format requires equal-length data blocks, so 0.996 seconds of edge values were appended to all channels when writing the final block.\n",
      "  raw_crop.export(save_path, fmt=\"edf\", overwrite=True)\n",
      "/tmp/ipykernel_3734/3037979607.py:81: RuntimeWarning: EDF format requires equal-length data blocks, so 0.996 seconds of edge values were appended to all channels when writing the final block.\n",
      "  raw_crop.export(save_path, fmt=\"edf\", overwrite=True)\n",
      "/tmp/ipykernel_3734/3037979607.py:81: RuntimeWarning: EDF format requires equal-length data blocks, so 0.996 seconds of edge values were appended to all channels when writing the final block.\n",
      "  raw_crop.export(save_path, fmt=\"edf\", overwrite=True)\n",
      "/tmp/ipykernel_3734/3037979607.py:81: RuntimeWarning: EDF format requires equal-length data blocks, so 0.996 seconds of edge values were appended to all channels when writing the final block.\n",
      "  raw_crop.export(save_path, fmt=\"edf\", overwrite=True)\n"
     ]
    },
    {
     "name": "stdout",
     "output_type": "stream",
     "text": [
      "Normal segments saved for chb17b_69.edf\n"
     ]
    },
    {
     "name": "stderr",
     "output_type": "stream",
     "text": [
      "/tmp/ipykernel_3734/3037979607.py:81: RuntimeWarning: EDF format requires equal-length data blocks, so 0.996 seconds of edge values were appended to all channels when writing the final block.\n",
      "  raw_crop.export(save_path, fmt=\"edf\", overwrite=True)\n",
      "/tmp/ipykernel_3734/3037979607.py:81: RuntimeWarning: EDF format requires equal-length data blocks, so 0.996 seconds of edge values were appended to all channels when writing the final block.\n",
      "  raw_crop.export(save_path, fmt=\"edf\", overwrite=True)\n",
      "/tmp/ipykernel_3734/3037979607.py:81: RuntimeWarning: EDF format requires equal-length data blocks, so 0.996 seconds of edge values were appended to all channels when writing the final block.\n",
      "  raw_crop.export(save_path, fmt=\"edf\", overwrite=True)\n",
      "/tmp/ipykernel_3734/3037979607.py:81: RuntimeWarning: EDF format requires equal-length data blocks, so 0.996 seconds of edge values were appended to all channels when writing the final block.\n",
      "  raw_crop.export(save_path, fmt=\"edf\", overwrite=True)\n",
      "/tmp/ipykernel_3734/3037979607.py:81: RuntimeWarning: EDF format requires equal-length data blocks, so 0.996 seconds of edge values were appended to all channels when writing the final block.\n",
      "  raw_crop.export(save_path, fmt=\"edf\", overwrite=True)\n"
     ]
    },
    {
     "name": "stdout",
     "output_type": "stream",
     "text": [
      "Normal segments saved for chb17c_02.edf\n"
     ]
    },
    {
     "name": "stderr",
     "output_type": "stream",
     "text": [
      "/tmp/ipykernel_3734/3037979607.py:81: RuntimeWarning: EDF format requires equal-length data blocks, so 0.996 seconds of edge values were appended to all channels when writing the final block.\n",
      "  raw_crop.export(save_path, fmt=\"edf\", overwrite=True)\n",
      "/tmp/ipykernel_3734/3037979607.py:81: RuntimeWarning: EDF format requires equal-length data blocks, so 0.996 seconds of edge values were appended to all channels when writing the final block.\n",
      "  raw_crop.export(save_path, fmt=\"edf\", overwrite=True)\n",
      "/tmp/ipykernel_3734/3037979607.py:81: RuntimeWarning: EDF format requires equal-length data blocks, so 0.996 seconds of edge values were appended to all channels when writing the final block.\n",
      "  raw_crop.export(save_path, fmt=\"edf\", overwrite=True)\n",
      "/tmp/ipykernel_3734/3037979607.py:81: RuntimeWarning: EDF format requires equal-length data blocks, so 0.996 seconds of edge values were appended to all channels when writing the final block.\n",
      "  raw_crop.export(save_path, fmt=\"edf\", overwrite=True)\n",
      "/tmp/ipykernel_3734/3037979607.py:81: RuntimeWarning: EDF format requires equal-length data blocks, so 0.996 seconds of edge values were appended to all channels when writing the final block.\n",
      "  raw_crop.export(save_path, fmt=\"edf\", overwrite=True)\n",
      "/tmp/ipykernel_3734/3037979607.py:81: RuntimeWarning: EDF format requires equal-length data blocks, so 0.996 seconds of edge values were appended to all channels when writing the final block.\n",
      "  raw_crop.export(save_path, fmt=\"edf\", overwrite=True)\n"
     ]
    },
    {
     "name": "stdout",
     "output_type": "stream",
     "text": [
      "Normal segments saved for chb17c_03.edf\n",
      "Normal segments saved for chb17c_04.edf\n"
     ]
    },
    {
     "name": "stderr",
     "output_type": "stream",
     "text": [
      "/tmp/ipykernel_3734/3037979607.py:81: RuntimeWarning: EDF format requires equal-length data blocks, so 0.996 seconds of edge values were appended to all channels when writing the final block.\n",
      "  raw_crop.export(save_path, fmt=\"edf\", overwrite=True)\n",
      "/tmp/ipykernel_3734/3037979607.py:81: RuntimeWarning: EDF format requires equal-length data blocks, so 0.996 seconds of edge values were appended to all channels when writing the final block.\n",
      "  raw_crop.export(save_path, fmt=\"edf\", overwrite=True)\n",
      "/tmp/ipykernel_3734/3037979607.py:81: RuntimeWarning: EDF format requires equal-length data blocks, so 0.996 seconds of edge values were appended to all channels when writing the final block.\n",
      "  raw_crop.export(save_path, fmt=\"edf\", overwrite=True)\n",
      "/tmp/ipykernel_3734/3037979607.py:81: RuntimeWarning: EDF format requires equal-length data blocks, so 0.996 seconds of edge values were appended to all channels when writing the final block.\n",
      "  raw_crop.export(save_path, fmt=\"edf\", overwrite=True)\n",
      "/tmp/ipykernel_3734/3037979607.py:81: RuntimeWarning: EDF format requires equal-length data blocks, so 0.996 seconds of edge values were appended to all channels when writing the final block.\n",
      "  raw_crop.export(save_path, fmt=\"edf\", overwrite=True)\n",
      "/tmp/ipykernel_3734/3037979607.py:81: RuntimeWarning: EDF format requires equal-length data blocks, so 0.996 seconds of edge values were appended to all channels when writing the final block.\n",
      "  raw_crop.export(save_path, fmt=\"edf\", overwrite=True)\n",
      "/tmp/ipykernel_3734/3037979607.py:81: RuntimeWarning: EDF format requires equal-length data blocks, so 0.996 seconds of edge values were appended to all channels when writing the final block.\n",
      "  raw_crop.export(save_path, fmt=\"edf\", overwrite=True)\n",
      "/tmp/ipykernel_3734/3037979607.py:81: RuntimeWarning: EDF format requires equal-length data blocks, so 0.996 seconds of edge values were appended to all channels when writing the final block.\n",
      "  raw_crop.export(save_path, fmt=\"edf\", overwrite=True)\n",
      "/tmp/ipykernel_3734/3037979607.py:81: RuntimeWarning: EDF format requires equal-length data blocks, so 0.996 seconds of edge values were appended to all channels when writing the final block.\n",
      "  raw_crop.export(save_path, fmt=\"edf\", overwrite=True)\n",
      "/tmp/ipykernel_3734/3037979607.py:81: RuntimeWarning: EDF format requires equal-length data blocks, so 0.996 seconds of edge values were appended to all channels when writing the final block.\n",
      "  raw_crop.export(save_path, fmt=\"edf\", overwrite=True)\n",
      "/tmp/ipykernel_3734/3037979607.py:81: RuntimeWarning: EDF format requires equal-length data blocks, so 0.996 seconds of edge values were appended to all channels when writing the final block.\n",
      "  raw_crop.export(save_path, fmt=\"edf\", overwrite=True)\n"
     ]
    },
    {
     "name": "stdout",
     "output_type": "stream",
     "text": [
      "Normal segments saved for chb17c_05.edf\n",
      "Normal segments saved for chb17c_06.edf\n"
     ]
    },
    {
     "name": "stderr",
     "output_type": "stream",
     "text": [
      "/tmp/ipykernel_3734/3037979607.py:81: RuntimeWarning: EDF format requires equal-length data blocks, so 0.996 seconds of edge values were appended to all channels when writing the final block.\n",
      "  raw_crop.export(save_path, fmt=\"edf\", overwrite=True)\n",
      "/tmp/ipykernel_3734/3037979607.py:81: RuntimeWarning: EDF format requires equal-length data blocks, so 0.996 seconds of edge values were appended to all channels when writing the final block.\n",
      "  raw_crop.export(save_path, fmt=\"edf\", overwrite=True)\n",
      "/tmp/ipykernel_3734/3037979607.py:81: RuntimeWarning: EDF format requires equal-length data blocks, so 0.996 seconds of edge values were appended to all channels when writing the final block.\n",
      "  raw_crop.export(save_path, fmt=\"edf\", overwrite=True)\n",
      "/tmp/ipykernel_3734/3037979607.py:81: RuntimeWarning: EDF format requires equal-length data blocks, so 0.996 seconds of edge values were appended to all channels when writing the final block.\n",
      "  raw_crop.export(save_path, fmt=\"edf\", overwrite=True)\n",
      "/tmp/ipykernel_3734/3037979607.py:81: RuntimeWarning: EDF format requires equal-length data blocks, so 0.996 seconds of edge values were appended to all channels when writing the final block.\n",
      "  raw_crop.export(save_path, fmt=\"edf\", overwrite=True)\n",
      "/tmp/ipykernel_3734/3037979607.py:81: RuntimeWarning: EDF format requires equal-length data blocks, so 0.996 seconds of edge values were appended to all channels when writing the final block.\n",
      "  raw_crop.export(save_path, fmt=\"edf\", overwrite=True)\n",
      "/tmp/ipykernel_3734/3037979607.py:81: RuntimeWarning: EDF format requires equal-length data blocks, so 0.996 seconds of edge values were appended to all channels when writing the final block.\n",
      "  raw_crop.export(save_path, fmt=\"edf\", overwrite=True)\n",
      "/tmp/ipykernel_3734/3037979607.py:81: RuntimeWarning: EDF format requires equal-length data blocks, so 0.996 seconds of edge values were appended to all channels when writing the final block.\n",
      "  raw_crop.export(save_path, fmt=\"edf\", overwrite=True)\n",
      "/tmp/ipykernel_3734/3037979607.py:81: RuntimeWarning: EDF format requires equal-length data blocks, so 0.996 seconds of edge values were appended to all channels when writing the final block.\n",
      "  raw_crop.export(save_path, fmt=\"edf\", overwrite=True)\n",
      "/tmp/ipykernel_3734/3037979607.py:81: RuntimeWarning: EDF format requires equal-length data blocks, so 0.996 seconds of edge values were appended to all channels when writing the final block.\n",
      "  raw_crop.export(save_path, fmt=\"edf\", overwrite=True)\n",
      "/tmp/ipykernel_3734/3037979607.py:81: RuntimeWarning: EDF format requires equal-length data blocks, so 0.996 seconds of edge values were appended to all channels when writing the final block.\n",
      "  raw_crop.export(save_path, fmt=\"edf\", overwrite=True)\n"
     ]
    },
    {
     "name": "stdout",
     "output_type": "stream",
     "text": [
      "Normal segments saved for chb17c_07.edf\n",
      "Normal segments saved for chb17c_08.edf\n"
     ]
    },
    {
     "name": "stderr",
     "output_type": "stream",
     "text": [
      "/tmp/ipykernel_3734/3037979607.py:81: RuntimeWarning: EDF format requires equal-length data blocks, so 0.996 seconds of edge values were appended to all channels when writing the final block.\n",
      "  raw_crop.export(save_path, fmt=\"edf\", overwrite=True)\n",
      "/tmp/ipykernel_3734/3037979607.py:81: RuntimeWarning: EDF format requires equal-length data blocks, so 0.996 seconds of edge values were appended to all channels when writing the final block.\n",
      "  raw_crop.export(save_path, fmt=\"edf\", overwrite=True)\n",
      "/tmp/ipykernel_3734/3037979607.py:81: RuntimeWarning: EDF format requires equal-length data blocks, so 0.996 seconds of edge values were appended to all channels when writing the final block.\n",
      "  raw_crop.export(save_path, fmt=\"edf\", overwrite=True)\n",
      "/tmp/ipykernel_3734/3037979607.py:81: RuntimeWarning: EDF format requires equal-length data blocks, so 0.996 seconds of edge values were appended to all channels when writing the final block.\n",
      "  raw_crop.export(save_path, fmt=\"edf\", overwrite=True)\n",
      "/tmp/ipykernel_3734/3037979607.py:81: RuntimeWarning: EDF format requires equal-length data blocks, so 0.996 seconds of edge values were appended to all channels when writing the final block.\n",
      "  raw_crop.export(save_path, fmt=\"edf\", overwrite=True)\n",
      "/tmp/ipykernel_3734/3037979607.py:81: RuntimeWarning: EDF format requires equal-length data blocks, so 0.996 seconds of edge values were appended to all channels when writing the final block.\n",
      "  raw_crop.export(save_path, fmt=\"edf\", overwrite=True)\n"
     ]
    },
    {
     "name": "stdout",
     "output_type": "stream",
     "text": [
      "Normal segments saved for chb17c_13.edf\n",
      "Normal segments saved for chb21_01.edf\n"
     ]
    },
    {
     "name": "stderr",
     "output_type": "stream",
     "text": [
      "/tmp/ipykernel_3734/3037979607.py:81: RuntimeWarning: EDF format requires equal-length data blocks, so 0.996 seconds of edge values were appended to all channels when writing the final block.\n",
      "  raw_crop.export(save_path, fmt=\"edf\", overwrite=True)\n",
      "/tmp/ipykernel_3734/3037979607.py:81: RuntimeWarning: EDF format requires equal-length data blocks, so 0.996 seconds of edge values were appended to all channels when writing the final block.\n",
      "  raw_crop.export(save_path, fmt=\"edf\", overwrite=True)\n",
      "/tmp/ipykernel_3734/3037979607.py:81: RuntimeWarning: EDF format requires equal-length data blocks, so 0.996 seconds of edge values were appended to all channels when writing the final block.\n",
      "  raw_crop.export(save_path, fmt=\"edf\", overwrite=True)\n",
      "/tmp/ipykernel_3734/3037979607.py:81: RuntimeWarning: EDF format requires equal-length data blocks, so 0.996 seconds of edge values were appended to all channels when writing the final block.\n",
      "  raw_crop.export(save_path, fmt=\"edf\", overwrite=True)\n",
      "/tmp/ipykernel_3734/3037979607.py:81: RuntimeWarning: EDF format requires equal-length data blocks, so 0.996 seconds of edge values were appended to all channels when writing the final block.\n",
      "  raw_crop.export(save_path, fmt=\"edf\", overwrite=True)\n",
      "/tmp/ipykernel_3734/3037979607.py:81: RuntimeWarning: EDF format requires equal-length data blocks, so 0.996 seconds of edge values were appended to all channels when writing the final block.\n",
      "  raw_crop.export(save_path, fmt=\"edf\", overwrite=True)\n",
      "/tmp/ipykernel_3734/3037979607.py:81: RuntimeWarning: EDF format requires equal-length data blocks, so 0.996 seconds of edge values were appended to all channels when writing the final block.\n",
      "  raw_crop.export(save_path, fmt=\"edf\", overwrite=True)\n",
      "/tmp/ipykernel_3734/3037979607.py:81: RuntimeWarning: EDF format requires equal-length data blocks, so 0.996 seconds of edge values were appended to all channels when writing the final block.\n",
      "  raw_crop.export(save_path, fmt=\"edf\", overwrite=True)\n",
      "/tmp/ipykernel_3734/3037979607.py:81: RuntimeWarning: EDF format requires equal-length data blocks, so 0.996 seconds of edge values were appended to all channels when writing the final block.\n",
      "  raw_crop.export(save_path, fmt=\"edf\", overwrite=True)\n",
      "/tmp/ipykernel_3734/3037979607.py:81: RuntimeWarning: EDF format requires equal-length data blocks, so 0.996 seconds of edge values were appended to all channels when writing the final block.\n",
      "  raw_crop.export(save_path, fmt=\"edf\", overwrite=True)\n",
      "/tmp/ipykernel_3734/3037979607.py:81: RuntimeWarning: EDF format requires equal-length data blocks, so 0.996 seconds of edge values were appended to all channels when writing the final block.\n",
      "  raw_crop.export(save_path, fmt=\"edf\", overwrite=True)\n",
      "/tmp/ipykernel_3734/3037979607.py:81: RuntimeWarning: EDF format requires equal-length data blocks, so 0.996 seconds of edge values were appended to all channels when writing the final block.\n",
      "  raw_crop.export(save_path, fmt=\"edf\", overwrite=True)\n"
     ]
    },
    {
     "name": "stdout",
     "output_type": "stream",
     "text": [
      "Normal segments saved for chb21_02.edf\n",
      "Normal segments saved for chb21_03.edf\n"
     ]
    },
    {
     "name": "stderr",
     "output_type": "stream",
     "text": [
      "/tmp/ipykernel_3734/3037979607.py:81: RuntimeWarning: EDF format requires equal-length data blocks, so 0.996 seconds of edge values were appended to all channels when writing the final block.\n",
      "  raw_crop.export(save_path, fmt=\"edf\", overwrite=True)\n",
      "/tmp/ipykernel_3734/3037979607.py:81: RuntimeWarning: EDF format requires equal-length data blocks, so 0.996 seconds of edge values were appended to all channels when writing the final block.\n",
      "  raw_crop.export(save_path, fmt=\"edf\", overwrite=True)\n",
      "/tmp/ipykernel_3734/3037979607.py:81: RuntimeWarning: EDF format requires equal-length data blocks, so 0.996 seconds of edge values were appended to all channels when writing the final block.\n",
      "  raw_crop.export(save_path, fmt=\"edf\", overwrite=True)\n",
      "/tmp/ipykernel_3734/3037979607.py:81: RuntimeWarning: EDF format requires equal-length data blocks, so 0.996 seconds of edge values were appended to all channels when writing the final block.\n",
      "  raw_crop.export(save_path, fmt=\"edf\", overwrite=True)\n",
      "/tmp/ipykernel_3734/3037979607.py:81: RuntimeWarning: EDF format requires equal-length data blocks, so 0.996 seconds of edge values were appended to all channels when writing the final block.\n",
      "  raw_crop.export(save_path, fmt=\"edf\", overwrite=True)\n",
      "/tmp/ipykernel_3734/3037979607.py:81: RuntimeWarning: EDF format requires equal-length data blocks, so 0.996 seconds of edge values were appended to all channels when writing the final block.\n",
      "  raw_crop.export(save_path, fmt=\"edf\", overwrite=True)\n",
      "/tmp/ipykernel_3734/3037979607.py:81: RuntimeWarning: EDF format requires equal-length data blocks, so 0.996 seconds of edge values were appended to all channels when writing the final block.\n",
      "  raw_crop.export(save_path, fmt=\"edf\", overwrite=True)\n",
      "/tmp/ipykernel_3734/3037979607.py:81: RuntimeWarning: EDF format requires equal-length data blocks, so 0.996 seconds of edge values were appended to all channels when writing the final block.\n",
      "  raw_crop.export(save_path, fmt=\"edf\", overwrite=True)\n",
      "/tmp/ipykernel_3734/3037979607.py:81: RuntimeWarning: EDF format requires equal-length data blocks, so 0.996 seconds of edge values were appended to all channels when writing the final block.\n",
      "  raw_crop.export(save_path, fmt=\"edf\", overwrite=True)\n",
      "/tmp/ipykernel_3734/3037979607.py:81: RuntimeWarning: EDF format requires equal-length data blocks, so 0.996 seconds of edge values were appended to all channels when writing the final block.\n",
      "  raw_crop.export(save_path, fmt=\"edf\", overwrite=True)\n",
      "/tmp/ipykernel_3734/3037979607.py:81: RuntimeWarning: EDF format requires equal-length data blocks, so 0.996 seconds of edge values were appended to all channels when writing the final block.\n",
      "  raw_crop.export(save_path, fmt=\"edf\", overwrite=True)\n",
      "/tmp/ipykernel_3734/3037979607.py:81: RuntimeWarning: EDF format requires equal-length data blocks, so 0.996 seconds of edge values were appended to all channels when writing the final block.\n",
      "  raw_crop.export(save_path, fmt=\"edf\", overwrite=True)\n"
     ]
    },
    {
     "name": "stdout",
     "output_type": "stream",
     "text": [
      "Normal segments saved for chb21_04.edf\n",
      "Normal segments saved for chb21_05.edf\n"
     ]
    },
    {
     "name": "stderr",
     "output_type": "stream",
     "text": [
      "/tmp/ipykernel_3734/3037979607.py:81: RuntimeWarning: EDF format requires equal-length data blocks, so 0.996 seconds of edge values were appended to all channels when writing the final block.\n",
      "  raw_crop.export(save_path, fmt=\"edf\", overwrite=True)\n",
      "/tmp/ipykernel_3734/3037979607.py:81: RuntimeWarning: EDF format requires equal-length data blocks, so 0.996 seconds of edge values were appended to all channels when writing the final block.\n",
      "  raw_crop.export(save_path, fmt=\"edf\", overwrite=True)\n",
      "/tmp/ipykernel_3734/3037979607.py:81: RuntimeWarning: EDF format requires equal-length data blocks, so 0.996 seconds of edge values were appended to all channels when writing the final block.\n",
      "  raw_crop.export(save_path, fmt=\"edf\", overwrite=True)\n",
      "/tmp/ipykernel_3734/3037979607.py:81: RuntimeWarning: EDF format requires equal-length data blocks, so 0.996 seconds of edge values were appended to all channels when writing the final block.\n",
      "  raw_crop.export(save_path, fmt=\"edf\", overwrite=True)\n",
      "/tmp/ipykernel_3734/3037979607.py:81: RuntimeWarning: EDF format requires equal-length data blocks, so 0.996 seconds of edge values were appended to all channels when writing the final block.\n",
      "  raw_crop.export(save_path, fmt=\"edf\", overwrite=True)\n",
      "/tmp/ipykernel_3734/3037979607.py:81: RuntimeWarning: EDF format requires equal-length data blocks, so 0.996 seconds of edge values were appended to all channels when writing the final block.\n",
      "  raw_crop.export(save_path, fmt=\"edf\", overwrite=True)\n"
     ]
    },
    {
     "name": "stdout",
     "output_type": "stream",
     "text": [
      "Normal segments saved for chb21_06.edf\n",
      "Normal segments saved for chb21_07.edf\n"
     ]
    },
    {
     "name": "stderr",
     "output_type": "stream",
     "text": [
      "/tmp/ipykernel_3734/3037979607.py:81: RuntimeWarning: EDF format requires equal-length data blocks, so 0.996 seconds of edge values were appended to all channels when writing the final block.\n",
      "  raw_crop.export(save_path, fmt=\"edf\", overwrite=True)\n",
      "/tmp/ipykernel_3734/3037979607.py:81: RuntimeWarning: EDF format requires equal-length data blocks, so 0.996 seconds of edge values were appended to all channels when writing the final block.\n",
      "  raw_crop.export(save_path, fmt=\"edf\", overwrite=True)\n",
      "/tmp/ipykernel_3734/3037979607.py:81: RuntimeWarning: EDF format requires equal-length data blocks, so 0.996 seconds of edge values were appended to all channels when writing the final block.\n",
      "  raw_crop.export(save_path, fmt=\"edf\", overwrite=True)\n",
      "/tmp/ipykernel_3734/3037979607.py:81: RuntimeWarning: EDF format requires equal-length data blocks, so 0.996 seconds of edge values were appended to all channels when writing the final block.\n",
      "  raw_crop.export(save_path, fmt=\"edf\", overwrite=True)\n",
      "/tmp/ipykernel_3734/3037979607.py:81: RuntimeWarning: EDF format requires equal-length data blocks, so 0.996 seconds of edge values were appended to all channels when writing the final block.\n",
      "  raw_crop.export(save_path, fmt=\"edf\", overwrite=True)\n",
      "/tmp/ipykernel_3734/3037979607.py:81: RuntimeWarning: EDF format requires equal-length data blocks, so 0.996 seconds of edge values were appended to all channels when writing the final block.\n",
      "  raw_crop.export(save_path, fmt=\"edf\", overwrite=True)\n",
      "/tmp/ipykernel_3734/3037979607.py:81: RuntimeWarning: EDF format requires equal-length data blocks, so 0.996 seconds of edge values were appended to all channels when writing the final block.\n",
      "  raw_crop.export(save_path, fmt=\"edf\", overwrite=True)\n",
      "/tmp/ipykernel_3734/3037979607.py:81: RuntimeWarning: EDF format requires equal-length data blocks, so 0.996 seconds of edge values were appended to all channels when writing the final block.\n",
      "  raw_crop.export(save_path, fmt=\"edf\", overwrite=True)\n",
      "/tmp/ipykernel_3734/3037979607.py:81: RuntimeWarning: EDF format requires equal-length data blocks, so 0.996 seconds of edge values were appended to all channels when writing the final block.\n",
      "  raw_crop.export(save_path, fmt=\"edf\", overwrite=True)\n",
      "/tmp/ipykernel_3734/3037979607.py:81: RuntimeWarning: EDF format requires equal-length data blocks, so 0.996 seconds of edge values were appended to all channels when writing the final block.\n",
      "  raw_crop.export(save_path, fmt=\"edf\", overwrite=True)\n",
      "/tmp/ipykernel_3734/3037979607.py:81: RuntimeWarning: EDF format requires equal-length data blocks, so 0.996 seconds of edge values were appended to all channels when writing the final block.\n",
      "  raw_crop.export(save_path, fmt=\"edf\", overwrite=True)\n",
      "/tmp/ipykernel_3734/3037979607.py:81: RuntimeWarning: EDF format requires equal-length data blocks, so 0.996 seconds of edge values were appended to all channels when writing the final block.\n",
      "  raw_crop.export(save_path, fmt=\"edf\", overwrite=True)\n"
     ]
    },
    {
     "name": "stdout",
     "output_type": "stream",
     "text": [
      "Normal segments saved for chb21_08.edf\n",
      "Normal segments saved for chb21_09.edf\n"
     ]
    },
    {
     "name": "stderr",
     "output_type": "stream",
     "text": [
      "/tmp/ipykernel_3734/3037979607.py:81: RuntimeWarning: EDF format requires equal-length data blocks, so 0.996 seconds of edge values were appended to all channels when writing the final block.\n",
      "  raw_crop.export(save_path, fmt=\"edf\", overwrite=True)\n",
      "/tmp/ipykernel_3734/3037979607.py:81: RuntimeWarning: EDF format requires equal-length data blocks, so 0.996 seconds of edge values were appended to all channels when writing the final block.\n",
      "  raw_crop.export(save_path, fmt=\"edf\", overwrite=True)\n",
      "/tmp/ipykernel_3734/3037979607.py:81: RuntimeWarning: EDF format requires equal-length data blocks, so 0.996 seconds of edge values were appended to all channels when writing the final block.\n",
      "  raw_crop.export(save_path, fmt=\"edf\", overwrite=True)\n",
      "/tmp/ipykernel_3734/3037979607.py:81: RuntimeWarning: EDF format requires equal-length data blocks, so 0.996 seconds of edge values were appended to all channels when writing the final block.\n",
      "  raw_crop.export(save_path, fmt=\"edf\", overwrite=True)\n",
      "/tmp/ipykernel_3734/3037979607.py:81: RuntimeWarning: EDF format requires equal-length data blocks, so 0.996 seconds of edge values were appended to all channels when writing the final block.\n",
      "  raw_crop.export(save_path, fmt=\"edf\", overwrite=True)\n",
      "/tmp/ipykernel_3734/3037979607.py:81: RuntimeWarning: EDF format requires equal-length data blocks, so 0.996 seconds of edge values were appended to all channels when writing the final block.\n",
      "  raw_crop.export(save_path, fmt=\"edf\", overwrite=True)\n",
      "/tmp/ipykernel_3734/3037979607.py:81: RuntimeWarning: EDF format requires equal-length data blocks, so 0.996 seconds of edge values were appended to all channels when writing the final block.\n",
      "  raw_crop.export(save_path, fmt=\"edf\", overwrite=True)\n",
      "/tmp/ipykernel_3734/3037979607.py:81: RuntimeWarning: EDF format requires equal-length data blocks, so 0.996 seconds of edge values were appended to all channels when writing the final block.\n",
      "  raw_crop.export(save_path, fmt=\"edf\", overwrite=True)\n",
      "/tmp/ipykernel_3734/3037979607.py:81: RuntimeWarning: EDF format requires equal-length data blocks, so 0.996 seconds of edge values were appended to all channels when writing the final block.\n",
      "  raw_crop.export(save_path, fmt=\"edf\", overwrite=True)\n",
      "/tmp/ipykernel_3734/3037979607.py:81: RuntimeWarning: EDF format requires equal-length data blocks, so 0.996 seconds of edge values were appended to all channels when writing the final block.\n",
      "  raw_crop.export(save_path, fmt=\"edf\", overwrite=True)\n",
      "/tmp/ipykernel_3734/3037979607.py:81: RuntimeWarning: EDF format requires equal-length data blocks, so 0.996 seconds of edge values were appended to all channels when writing the final block.\n",
      "  raw_crop.export(save_path, fmt=\"edf\", overwrite=True)\n",
      "/tmp/ipykernel_3734/3037979607.py:81: RuntimeWarning: EDF format requires equal-length data blocks, so 0.996 seconds of edge values were appended to all channels when writing the final block.\n",
      "  raw_crop.export(save_path, fmt=\"edf\", overwrite=True)\n"
     ]
    },
    {
     "name": "stdout",
     "output_type": "stream",
     "text": [
      "Normal segments saved for chb21_10.edf\n",
      "Normal segments saved for chb21_11.edf\n"
     ]
    },
    {
     "name": "stderr",
     "output_type": "stream",
     "text": [
      "/tmp/ipykernel_3734/3037979607.py:81: RuntimeWarning: EDF format requires equal-length data blocks, so 0.996 seconds of edge values were appended to all channels when writing the final block.\n",
      "  raw_crop.export(save_path, fmt=\"edf\", overwrite=True)\n",
      "/tmp/ipykernel_3734/3037979607.py:81: RuntimeWarning: EDF format requires equal-length data blocks, so 0.996 seconds of edge values were appended to all channels when writing the final block.\n",
      "  raw_crop.export(save_path, fmt=\"edf\", overwrite=True)\n",
      "/tmp/ipykernel_3734/3037979607.py:81: RuntimeWarning: EDF format requires equal-length data blocks, so 0.996 seconds of edge values were appended to all channels when writing the final block.\n",
      "  raw_crop.export(save_path, fmt=\"edf\", overwrite=True)\n",
      "/tmp/ipykernel_3734/3037979607.py:81: RuntimeWarning: EDF format requires equal-length data blocks, so 0.996 seconds of edge values were appended to all channels when writing the final block.\n",
      "  raw_crop.export(save_path, fmt=\"edf\", overwrite=True)\n",
      "/tmp/ipykernel_3734/3037979607.py:81: RuntimeWarning: EDF format requires equal-length data blocks, so 0.996 seconds of edge values were appended to all channels when writing the final block.\n",
      "  raw_crop.export(save_path, fmt=\"edf\", overwrite=True)\n",
      "/tmp/ipykernel_3734/3037979607.py:81: RuntimeWarning: EDF format requires equal-length data blocks, so 0.996 seconds of edge values were appended to all channels when writing the final block.\n",
      "  raw_crop.export(save_path, fmt=\"edf\", overwrite=True)\n"
     ]
    },
    {
     "name": "stdout",
     "output_type": "stream",
     "text": [
      "Normal segments saved for chb21_12.edf\n",
      "Normal segments saved for chb21_13.edf\n"
     ]
    },
    {
     "name": "stderr",
     "output_type": "stream",
     "text": [
      "/tmp/ipykernel_3734/3037979607.py:81: RuntimeWarning: EDF format requires equal-length data blocks, so 0.996 seconds of edge values were appended to all channels when writing the final block.\n",
      "  raw_crop.export(save_path, fmt=\"edf\", overwrite=True)\n",
      "/tmp/ipykernel_3734/3037979607.py:81: RuntimeWarning: EDF format requires equal-length data blocks, so 0.996 seconds of edge values were appended to all channels when writing the final block.\n",
      "  raw_crop.export(save_path, fmt=\"edf\", overwrite=True)\n",
      "/tmp/ipykernel_3734/3037979607.py:81: RuntimeWarning: EDF format requires equal-length data blocks, so 0.996 seconds of edge values were appended to all channels when writing the final block.\n",
      "  raw_crop.export(save_path, fmt=\"edf\", overwrite=True)\n",
      "/tmp/ipykernel_3734/3037979607.py:81: RuntimeWarning: EDF format requires equal-length data blocks, so 0.996 seconds of edge values were appended to all channels when writing the final block.\n",
      "  raw_crop.export(save_path, fmt=\"edf\", overwrite=True)\n",
      "/tmp/ipykernel_3734/3037979607.py:81: RuntimeWarning: EDF format requires equal-length data blocks, so 0.996 seconds of edge values were appended to all channels when writing the final block.\n",
      "  raw_crop.export(save_path, fmt=\"edf\", overwrite=True)\n",
      "/tmp/ipykernel_3734/3037979607.py:81: RuntimeWarning: EDF format requires equal-length data blocks, so 0.996 seconds of edge values were appended to all channels when writing the final block.\n",
      "  raw_crop.export(save_path, fmt=\"edf\", overwrite=True)\n",
      "/tmp/ipykernel_3734/3037979607.py:81: RuntimeWarning: EDF format requires equal-length data blocks, so 0.996 seconds of edge values were appended to all channels when writing the final block.\n",
      "  raw_crop.export(save_path, fmt=\"edf\", overwrite=True)\n",
      "/tmp/ipykernel_3734/3037979607.py:81: RuntimeWarning: EDF format requires equal-length data blocks, so 0.996 seconds of edge values were appended to all channels when writing the final block.\n",
      "  raw_crop.export(save_path, fmt=\"edf\", overwrite=True)\n",
      "/tmp/ipykernel_3734/3037979607.py:81: RuntimeWarning: EDF format requires equal-length data blocks, so 0.996 seconds of edge values were appended to all channels when writing the final block.\n",
      "  raw_crop.export(save_path, fmt=\"edf\", overwrite=True)\n",
      "/tmp/ipykernel_3734/3037979607.py:81: RuntimeWarning: EDF format requires equal-length data blocks, so 0.996 seconds of edge values were appended to all channels when writing the final block.\n",
      "  raw_crop.export(save_path, fmt=\"edf\", overwrite=True)\n",
      "/tmp/ipykernel_3734/3037979607.py:81: RuntimeWarning: EDF format requires equal-length data blocks, so 0.996 seconds of edge values were appended to all channels when writing the final block.\n",
      "  raw_crop.export(save_path, fmt=\"edf\", overwrite=True)\n",
      "/tmp/ipykernel_3734/3037979607.py:81: RuntimeWarning: EDF format requires equal-length data blocks, so 0.996 seconds of edge values were appended to all channels when writing the final block.\n",
      "  raw_crop.export(save_path, fmt=\"edf\", overwrite=True)\n"
     ]
    },
    {
     "name": "stdout",
     "output_type": "stream",
     "text": [
      "Normal segments saved for chb21_14.edf\n",
      "Normal segments saved for chb21_15.edf\n"
     ]
    },
    {
     "name": "stderr",
     "output_type": "stream",
     "text": [
      "/tmp/ipykernel_3734/3037979607.py:81: RuntimeWarning: EDF format requires equal-length data blocks, so 0.996 seconds of edge values were appended to all channels when writing the final block.\n",
      "  raw_crop.export(save_path, fmt=\"edf\", overwrite=True)\n",
      "/tmp/ipykernel_3734/3037979607.py:81: RuntimeWarning: EDF format requires equal-length data blocks, so 0.996 seconds of edge values were appended to all channels when writing the final block.\n",
      "  raw_crop.export(save_path, fmt=\"edf\", overwrite=True)\n",
      "/tmp/ipykernel_3734/3037979607.py:81: RuntimeWarning: EDF format requires equal-length data blocks, so 0.996 seconds of edge values were appended to all channels when writing the final block.\n",
      "  raw_crop.export(save_path, fmt=\"edf\", overwrite=True)\n",
      "/tmp/ipykernel_3734/3037979607.py:81: RuntimeWarning: EDF format requires equal-length data blocks, so 0.996 seconds of edge values were appended to all channels when writing the final block.\n",
      "  raw_crop.export(save_path, fmt=\"edf\", overwrite=True)\n",
      "/tmp/ipykernel_3734/3037979607.py:81: RuntimeWarning: EDF format requires equal-length data blocks, so 0.996 seconds of edge values were appended to all channels when writing the final block.\n",
      "  raw_crop.export(save_path, fmt=\"edf\", overwrite=True)\n",
      "/tmp/ipykernel_3734/3037979607.py:81: RuntimeWarning: EDF format requires equal-length data blocks, so 0.996 seconds of edge values were appended to all channels when writing the final block.\n",
      "  raw_crop.export(save_path, fmt=\"edf\", overwrite=True)\n",
      "/tmp/ipykernel_3734/3037979607.py:81: RuntimeWarning: EDF format requires equal-length data blocks, so 0.996 seconds of edge values were appended to all channels when writing the final block.\n",
      "  raw_crop.export(save_path, fmt=\"edf\", overwrite=True)\n",
      "/tmp/ipykernel_3734/3037979607.py:81: RuntimeWarning: EDF format requires equal-length data blocks, so 0.996 seconds of edge values were appended to all channels when writing the final block.\n",
      "  raw_crop.export(save_path, fmt=\"edf\", overwrite=True)\n",
      "/tmp/ipykernel_3734/3037979607.py:81: RuntimeWarning: EDF format requires equal-length data blocks, so 0.996 seconds of edge values were appended to all channels when writing the final block.\n",
      "  raw_crop.export(save_path, fmt=\"edf\", overwrite=True)\n",
      "/tmp/ipykernel_3734/3037979607.py:81: RuntimeWarning: EDF format requires equal-length data blocks, so 0.996 seconds of edge values were appended to all channels when writing the final block.\n",
      "  raw_crop.export(save_path, fmt=\"edf\", overwrite=True)\n",
      "/tmp/ipykernel_3734/3037979607.py:81: RuntimeWarning: EDF format requires equal-length data blocks, so 0.996 seconds of edge values were appended to all channels when writing the final block.\n",
      "  raw_crop.export(save_path, fmt=\"edf\", overwrite=True)\n",
      "/tmp/ipykernel_3734/3037979607.py:81: RuntimeWarning: EDF format requires equal-length data blocks, so 0.996 seconds of edge values were appended to all channels when writing the final block.\n",
      "  raw_crop.export(save_path, fmt=\"edf\", overwrite=True)\n"
     ]
    },
    {
     "name": "stdout",
     "output_type": "stream",
     "text": [
      "Normal segments saved for chb21_16.edf\n",
      "Normal segments saved for chb21_17.edf\n"
     ]
    },
    {
     "name": "stderr",
     "output_type": "stream",
     "text": [
      "/tmp/ipykernel_3734/3037979607.py:81: RuntimeWarning: EDF format requires equal-length data blocks, so 0.996 seconds of edge values were appended to all channels when writing the final block.\n",
      "  raw_crop.export(save_path, fmt=\"edf\", overwrite=True)\n",
      "/tmp/ipykernel_3734/3037979607.py:81: RuntimeWarning: EDF format requires equal-length data blocks, so 0.996 seconds of edge values were appended to all channels when writing the final block.\n",
      "  raw_crop.export(save_path, fmt=\"edf\", overwrite=True)\n",
      "/tmp/ipykernel_3734/3037979607.py:81: RuntimeWarning: EDF format requires equal-length data blocks, so 0.996 seconds of edge values were appended to all channels when writing the final block.\n",
      "  raw_crop.export(save_path, fmt=\"edf\", overwrite=True)\n",
      "/tmp/ipykernel_3734/3037979607.py:81: RuntimeWarning: EDF format requires equal-length data blocks, so 0.996 seconds of edge values were appended to all channels when writing the final block.\n",
      "  raw_crop.export(save_path, fmt=\"edf\", overwrite=True)\n",
      "/tmp/ipykernel_3734/3037979607.py:81: RuntimeWarning: EDF format requires equal-length data blocks, so 0.996 seconds of edge values were appended to all channels when writing the final block.\n",
      "  raw_crop.export(save_path, fmt=\"edf\", overwrite=True)\n",
      "/tmp/ipykernel_3734/3037979607.py:81: RuntimeWarning: EDF format requires equal-length data blocks, so 0.996 seconds of edge values were appended to all channels when writing the final block.\n",
      "  raw_crop.export(save_path, fmt=\"edf\", overwrite=True)\n"
     ]
    },
    {
     "name": "stdout",
     "output_type": "stream",
     "text": [
      "Normal segments saved for chb21_18.edf\n",
      "  → saved: chb21_19_seizure_1.edf\n",
      "  → saved: chb21_20_seizure_1.edf\n"
     ]
    },
    {
     "name": "stderr",
     "output_type": "stream",
     "text": [
      "/tmp/ipykernel_3734/3037979607.py:52: RuntimeWarning: EDF format requires equal-length data blocks, so 0.996 seconds of edge values were appended to all channels when writing the final block.\n",
      "  segment.export(save_path, fmt='edf')\n",
      "/tmp/ipykernel_3734/3037979607.py:52: RuntimeWarning: EDF format requires equal-length data blocks, so 0.996 seconds of edge values were appended to all channels when writing the final block.\n",
      "  segment.export(save_path, fmt='edf')\n",
      "/tmp/ipykernel_3734/3037979607.py:52: RuntimeWarning: EDF format requires equal-length data blocks, so 0.996 seconds of edge values were appended to all channels when writing the final block.\n",
      "  segment.export(save_path, fmt='edf')\n"
     ]
    },
    {
     "name": "stdout",
     "output_type": "stream",
     "text": [
      "  → saved: chb21_21_seizure_1.edf\n",
      "  → saved: chb21_22_seizure_1.edf\n"
     ]
    },
    {
     "name": "stderr",
     "output_type": "stream",
     "text": [
      "/tmp/ipykernel_3734/3037979607.py:52: RuntimeWarning: EDF format requires equal-length data blocks, so 0.996 seconds of edge values were appended to all channels when writing the final block.\n",
      "  segment.export(save_path, fmt='edf')\n",
      "/tmp/ipykernel_3734/3037979607.py:81: RuntimeWarning: EDF format requires equal-length data blocks, so 0.996 seconds of edge values were appended to all channels when writing the final block.\n",
      "  raw_crop.export(save_path, fmt=\"edf\", overwrite=True)\n",
      "/tmp/ipykernel_3734/3037979607.py:81: RuntimeWarning: EDF format requires equal-length data blocks, so 0.996 seconds of edge values were appended to all channels when writing the final block.\n",
      "  raw_crop.export(save_path, fmt=\"edf\", overwrite=True)\n",
      "/tmp/ipykernel_3734/3037979607.py:81: RuntimeWarning: EDF format requires equal-length data blocks, so 0.996 seconds of edge values were appended to all channels when writing the final block.\n",
      "  raw_crop.export(save_path, fmt=\"edf\", overwrite=True)\n",
      "/tmp/ipykernel_3734/3037979607.py:81: RuntimeWarning: EDF format requires equal-length data blocks, so 0.996 seconds of edge values were appended to all channels when writing the final block.\n",
      "  raw_crop.export(save_path, fmt=\"edf\", overwrite=True)\n",
      "/tmp/ipykernel_3734/3037979607.py:81: RuntimeWarning: EDF format requires equal-length data blocks, so 0.996 seconds of edge values were appended to all channels when writing the final block.\n",
      "  raw_crop.export(save_path, fmt=\"edf\", overwrite=True)\n"
     ]
    },
    {
     "name": "stdout",
     "output_type": "stream",
     "text": [
      "Normal segments saved for chb21_23.edf\n",
      "Normal segments saved for chb21_24.edf\n"
     ]
    },
    {
     "name": "stderr",
     "output_type": "stream",
     "text": [
      "/tmp/ipykernel_3734/3037979607.py:81: RuntimeWarning: EDF format requires equal-length data blocks, so 0.996 seconds of edge values were appended to all channels when writing the final block.\n",
      "  raw_crop.export(save_path, fmt=\"edf\", overwrite=True)\n",
      "/tmp/ipykernel_3734/3037979607.py:81: RuntimeWarning: EDF format requires equal-length data blocks, so 0.996 seconds of edge values were appended to all channels when writing the final block.\n",
      "  raw_crop.export(save_path, fmt=\"edf\", overwrite=True)\n",
      "/tmp/ipykernel_3734/3037979607.py:81: RuntimeWarning: EDF format requires equal-length data blocks, so 0.996 seconds of edge values were appended to all channels when writing the final block.\n",
      "  raw_crop.export(save_path, fmt=\"edf\", overwrite=True)\n",
      "/tmp/ipykernel_3734/3037979607.py:81: RuntimeWarning: EDF format requires equal-length data blocks, so 0.996 seconds of edge values were appended to all channels when writing the final block.\n",
      "  raw_crop.export(save_path, fmt=\"edf\", overwrite=True)\n",
      "/tmp/ipykernel_3734/3037979607.py:81: RuntimeWarning: EDF format requires equal-length data blocks, so 0.996 seconds of edge values were appended to all channels when writing the final block.\n",
      "  raw_crop.export(save_path, fmt=\"edf\", overwrite=True)\n",
      "/tmp/ipykernel_3734/3037979607.py:81: RuntimeWarning: EDF format requires equal-length data blocks, so 0.996 seconds of edge values were appended to all channels when writing the final block.\n",
      "  raw_crop.export(save_path, fmt=\"edf\", overwrite=True)\n",
      "/tmp/ipykernel_3734/3037979607.py:81: RuntimeWarning: EDF format requires equal-length data blocks, so 0.996 seconds of edge values were appended to all channels when writing the final block.\n",
      "  raw_crop.export(save_path, fmt=\"edf\", overwrite=True)\n",
      "/tmp/ipykernel_3734/3037979607.py:81: RuntimeWarning: EDF format requires equal-length data blocks, so 0.996 seconds of edge values were appended to all channels when writing the final block.\n",
      "  raw_crop.export(save_path, fmt=\"edf\", overwrite=True)\n",
      "/tmp/ipykernel_3734/3037979607.py:81: RuntimeWarning: EDF format requires equal-length data blocks, so 0.996 seconds of edge values were appended to all channels when writing the final block.\n",
      "  raw_crop.export(save_path, fmt=\"edf\", overwrite=True)\n",
      "/tmp/ipykernel_3734/3037979607.py:81: RuntimeWarning: EDF format requires equal-length data blocks, so 0.996 seconds of edge values were appended to all channels when writing the final block.\n",
      "  raw_crop.export(save_path, fmt=\"edf\", overwrite=True)\n",
      "/tmp/ipykernel_3734/3037979607.py:81: RuntimeWarning: EDF format requires equal-length data blocks, so 0.996 seconds of edge values were appended to all channels when writing the final block.\n",
      "  raw_crop.export(save_path, fmt=\"edf\", overwrite=True)\n",
      "/tmp/ipykernel_3734/3037979607.py:81: RuntimeWarning: EDF format requires equal-length data blocks, so 0.996 seconds of edge values were appended to all channels when writing the final block.\n",
      "  raw_crop.export(save_path, fmt=\"edf\", overwrite=True)\n"
     ]
    },
    {
     "name": "stdout",
     "output_type": "stream",
     "text": [
      "Normal segments saved for chb21_25.edf\n",
      "Normal segments saved for chb21_26.edf\n"
     ]
    },
    {
     "name": "stderr",
     "output_type": "stream",
     "text": [
      "/tmp/ipykernel_3734/3037979607.py:81: RuntimeWarning: EDF format requires equal-length data blocks, so 0.996 seconds of edge values were appended to all channels when writing the final block.\n",
      "  raw_crop.export(save_path, fmt=\"edf\", overwrite=True)\n",
      "/tmp/ipykernel_3734/3037979607.py:81: RuntimeWarning: EDF format requires equal-length data blocks, so 0.996 seconds of edge values were appended to all channels when writing the final block.\n",
      "  raw_crop.export(save_path, fmt=\"edf\", overwrite=True)\n",
      "/tmp/ipykernel_3734/3037979607.py:81: RuntimeWarning: EDF format requires equal-length data blocks, so 0.996 seconds of edge values were appended to all channels when writing the final block.\n",
      "  raw_crop.export(save_path, fmt=\"edf\", overwrite=True)\n",
      "/tmp/ipykernel_3734/3037979607.py:81: RuntimeWarning: EDF format requires equal-length data blocks, so 0.996 seconds of edge values were appended to all channels when writing the final block.\n",
      "  raw_crop.export(save_path, fmt=\"edf\", overwrite=True)\n",
      "/tmp/ipykernel_3734/3037979607.py:81: RuntimeWarning: EDF format requires equal-length data blocks, so 0.996 seconds of edge values were appended to all channels when writing the final block.\n",
      "  raw_crop.export(save_path, fmt=\"edf\", overwrite=True)\n",
      "/tmp/ipykernel_3734/3037979607.py:81: RuntimeWarning: EDF format requires equal-length data blocks, so 0.996 seconds of edge values were appended to all channels when writing the final block.\n",
      "  raw_crop.export(save_path, fmt=\"edf\", overwrite=True)\n",
      "/tmp/ipykernel_3734/3037979607.py:81: RuntimeWarning: EDF format requires equal-length data blocks, so 0.996 seconds of edge values were appended to all channels when writing the final block.\n",
      "  raw_crop.export(save_path, fmt=\"edf\", overwrite=True)\n",
      "/tmp/ipykernel_3734/3037979607.py:81: RuntimeWarning: EDF format requires equal-length data blocks, so 0.996 seconds of edge values were appended to all channels when writing the final block.\n",
      "  raw_crop.export(save_path, fmt=\"edf\", overwrite=True)\n",
      "/tmp/ipykernel_3734/3037979607.py:81: RuntimeWarning: EDF format requires equal-length data blocks, so 0.996 seconds of edge values were appended to all channels when writing the final block.\n",
      "  raw_crop.export(save_path, fmt=\"edf\", overwrite=True)\n",
      "/tmp/ipykernel_3734/3037979607.py:81: RuntimeWarning: EDF format requires equal-length data blocks, so 0.996 seconds of edge values were appended to all channels when writing the final block.\n",
      "  raw_crop.export(save_path, fmt=\"edf\", overwrite=True)\n",
      "/tmp/ipykernel_3734/3037979607.py:81: RuntimeWarning: EDF format requires equal-length data blocks, so 0.996 seconds of edge values were appended to all channels when writing the final block.\n",
      "  raw_crop.export(save_path, fmt=\"edf\", overwrite=True)\n"
     ]
    },
    {
     "name": "stdout",
     "output_type": "stream",
     "text": [
      "Normal segments saved for chb21_27.edf\n"
     ]
    },
    {
     "name": "stderr",
     "output_type": "stream",
     "text": [
      "/tmp/ipykernel_3734/3037979607.py:81: RuntimeWarning: EDF format requires equal-length data blocks, so 0.996 seconds of edge values were appended to all channels when writing the final block.\n",
      "  raw_crop.export(save_path, fmt=\"edf\", overwrite=True)\n",
      "/tmp/ipykernel_3734/3037979607.py:81: RuntimeWarning: EDF format requires equal-length data blocks, so 0.996 seconds of edge values were appended to all channels when writing the final block.\n",
      "  raw_crop.export(save_path, fmt=\"edf\", overwrite=True)\n",
      "/tmp/ipykernel_3734/3037979607.py:81: RuntimeWarning: EDF format requires equal-length data blocks, so 0.996 seconds of edge values were appended to all channels when writing the final block.\n",
      "  raw_crop.export(save_path, fmt=\"edf\", overwrite=True)\n",
      "/tmp/ipykernel_3734/3037979607.py:81: RuntimeWarning: EDF format requires equal-length data blocks, so 0.996 seconds of edge values were appended to all channels when writing the final block.\n",
      "  raw_crop.export(save_path, fmt=\"edf\", overwrite=True)\n",
      "/tmp/ipykernel_3734/3037979607.py:81: RuntimeWarning: EDF format requires equal-length data blocks, so 0.996 seconds of edge values were appended to all channels when writing the final block.\n",
      "  raw_crop.export(save_path, fmt=\"edf\", overwrite=True)\n",
      "/tmp/ipykernel_3734/3037979607.py:81: RuntimeWarning: EDF format requires equal-length data blocks, so 0.996 seconds of edge values were appended to all channels when writing the final block.\n",
      "  raw_crop.export(save_path, fmt=\"edf\", overwrite=True)\n"
     ]
    },
    {
     "name": "stdout",
     "output_type": "stream",
     "text": [
      "Normal segments saved for chb21_28.edf\n",
      "Normal segments saved for chb21_29.edf\n"
     ]
    },
    {
     "name": "stderr",
     "output_type": "stream",
     "text": [
      "/tmp/ipykernel_3734/3037979607.py:81: RuntimeWarning: EDF format requires equal-length data blocks, so 0.996 seconds of edge values were appended to all channels when writing the final block.\n",
      "  raw_crop.export(save_path, fmt=\"edf\", overwrite=True)\n",
      "/tmp/ipykernel_3734/3037979607.py:81: RuntimeWarning: EDF format requires equal-length data blocks, so 0.996 seconds of edge values were appended to all channels when writing the final block.\n",
      "  raw_crop.export(save_path, fmt=\"edf\", overwrite=True)\n",
      "/tmp/ipykernel_3734/3037979607.py:81: RuntimeWarning: EDF format requires equal-length data blocks, so 0.996 seconds of edge values were appended to all channels when writing the final block.\n",
      "  raw_crop.export(save_path, fmt=\"edf\", overwrite=True)\n",
      "/tmp/ipykernel_3734/3037979607.py:81: RuntimeWarning: EDF format requires equal-length data blocks, so 0.996 seconds of edge values were appended to all channels when writing the final block.\n",
      "  raw_crop.export(save_path, fmt=\"edf\", overwrite=True)\n",
      "/tmp/ipykernel_3734/3037979607.py:81: RuntimeWarning: EDF format requires equal-length data blocks, so 0.996 seconds of edge values were appended to all channels when writing the final block.\n",
      "  raw_crop.export(save_path, fmt=\"edf\", overwrite=True)\n",
      "/tmp/ipykernel_3734/3037979607.py:81: RuntimeWarning: EDF format requires equal-length data blocks, so 0.996 seconds of edge values were appended to all channels when writing the final block.\n",
      "  raw_crop.export(save_path, fmt=\"edf\", overwrite=True)\n"
     ]
    },
    {
     "name": "stdout",
     "output_type": "stream",
     "text": [
      "Normal segments saved for chb21_30.edf\n",
      "Normal segments saved for chb21_31.edf\n"
     ]
    },
    {
     "name": "stderr",
     "output_type": "stream",
     "text": [
      "/tmp/ipykernel_3734/3037979607.py:81: RuntimeWarning: EDF format requires equal-length data blocks, so 0.996 seconds of edge values were appended to all channels when writing the final block.\n",
      "  raw_crop.export(save_path, fmt=\"edf\", overwrite=True)\n",
      "/tmp/ipykernel_3734/3037979607.py:81: RuntimeWarning: EDF format requires equal-length data blocks, so 0.996 seconds of edge values were appended to all channels when writing the final block.\n",
      "  raw_crop.export(save_path, fmt=\"edf\", overwrite=True)\n",
      "/tmp/ipykernel_3734/3037979607.py:81: RuntimeWarning: EDF format requires equal-length data blocks, so 0.996 seconds of edge values were appended to all channels when writing the final block.\n",
      "  raw_crop.export(save_path, fmt=\"edf\", overwrite=True)\n",
      "/tmp/ipykernel_3734/3037979607.py:81: RuntimeWarning: EDF format requires equal-length data blocks, so 0.996 seconds of edge values were appended to all channels when writing the final block.\n",
      "  raw_crop.export(save_path, fmt=\"edf\", overwrite=True)\n",
      "/tmp/ipykernel_3734/3037979607.py:81: RuntimeWarning: EDF format requires equal-length data blocks, so 0.996 seconds of edge values were appended to all channels when writing the final block.\n",
      "  raw_crop.export(save_path, fmt=\"edf\", overwrite=True)\n",
      "/tmp/ipykernel_3734/3037979607.py:81: RuntimeWarning: EDF format requires equal-length data blocks, so 0.996 seconds of edge values were appended to all channels when writing the final block.\n",
      "  raw_crop.export(save_path, fmt=\"edf\", overwrite=True)\n",
      "/tmp/ipykernel_3734/3037979607.py:81: RuntimeWarning: EDF format requires equal-length data blocks, so 0.996 seconds of edge values were appended to all channels when writing the final block.\n",
      "  raw_crop.export(save_path, fmt=\"edf\", overwrite=True)\n",
      "/tmp/ipykernel_3734/3037979607.py:81: RuntimeWarning: EDF format requires equal-length data blocks, so 0.996 seconds of edge values were appended to all channels when writing the final block.\n",
      "  raw_crop.export(save_path, fmt=\"edf\", overwrite=True)\n",
      "/tmp/ipykernel_3734/3037979607.py:81: RuntimeWarning: EDF format requires equal-length data blocks, so 0.996 seconds of edge values were appended to all channels when writing the final block.\n",
      "  raw_crop.export(save_path, fmt=\"edf\", overwrite=True)\n",
      "/tmp/ipykernel_3734/3037979607.py:81: RuntimeWarning: EDF format requires equal-length data blocks, so 0.996 seconds of edge values were appended to all channels when writing the final block.\n",
      "  raw_crop.export(save_path, fmt=\"edf\", overwrite=True)\n",
      "/tmp/ipykernel_3734/3037979607.py:81: RuntimeWarning: EDF format requires equal-length data blocks, so 0.996 seconds of edge values were appended to all channels when writing the final block.\n",
      "  raw_crop.export(save_path, fmt=\"edf\", overwrite=True)\n",
      "/tmp/ipykernel_3734/3037979607.py:81: RuntimeWarning: EDF format requires equal-length data blocks, so 0.996 seconds of edge values were appended to all channels when writing the final block.\n",
      "  raw_crop.export(save_path, fmt=\"edf\", overwrite=True)\n"
     ]
    },
    {
     "name": "stdout",
     "output_type": "stream",
     "text": [
      "Normal segments saved for chb21_32.edf\n",
      "Normal segments saved for chb21_33.edf\n"
     ]
    },
    {
     "name": "stderr",
     "output_type": "stream",
     "text": [
      "/tmp/ipykernel_3734/3037979607.py:81: RuntimeWarning: EDF format requires equal-length data blocks, so 0.996 seconds of edge values were appended to all channels when writing the final block.\n",
      "  raw_crop.export(save_path, fmt=\"edf\", overwrite=True)\n",
      "/tmp/ipykernel_3734/3037979607.py:81: RuntimeWarning: EDF format requires equal-length data blocks, so 0.996 seconds of edge values were appended to all channels when writing the final block.\n",
      "  raw_crop.export(save_path, fmt=\"edf\", overwrite=True)\n",
      "/tmp/ipykernel_3734/3037979607.py:81: RuntimeWarning: EDF format requires equal-length data blocks, so 0.996 seconds of edge values were appended to all channels when writing the final block.\n",
      "  raw_crop.export(save_path, fmt=\"edf\", overwrite=True)\n",
      "/tmp/ipykernel_3734/3037979607.py:81: RuntimeWarning: EDF format requires equal-length data blocks, so 0.996 seconds of edge values were appended to all channels when writing the final block.\n",
      "  raw_crop.export(save_path, fmt=\"edf\", overwrite=True)\n",
      "/tmp/ipykernel_3734/3037979607.py:81: RuntimeWarning: EDF format requires equal-length data blocks, so 0.996 seconds of edge values were appended to all channels when writing the final block.\n",
      "  raw_crop.export(save_path, fmt=\"edf\", overwrite=True)\n",
      "/tmp/ipykernel_3734/3037979607.py:81: RuntimeWarning: EDF format requires equal-length data blocks, so 0.996 seconds of edge values were appended to all channels when writing the final block.\n",
      "  raw_crop.export(save_path, fmt=\"edf\", overwrite=True)\n",
      "/tmp/ipykernel_3734/3037979607.py:81: RuntimeWarning: EDF format requires equal-length data blocks, so 0.996 seconds of edge values were appended to all channels when writing the final block.\n",
      "  raw_crop.export(save_path, fmt=\"edf\", overwrite=True)\n",
      "/tmp/ipykernel_3734/3037979607.py:81: RuntimeWarning: EDF format requires equal-length data blocks, so 0.996 seconds of edge values were appended to all channels when writing the final block.\n",
      "  raw_crop.export(save_path, fmt=\"edf\", overwrite=True)\n",
      "/tmp/ipykernel_3734/3037979607.py:81: RuntimeWarning: EDF format requires equal-length data blocks, so 0.996 seconds of edge values were appended to all channels when writing the final block.\n",
      "  raw_crop.export(save_path, fmt=\"edf\", overwrite=True)\n"
     ]
    },
    {
     "name": "stdout",
     "output_type": "stream",
     "text": [
      "Normal segments saved for chb15_01.edf\n"
     ]
    },
    {
     "name": "stderr",
     "output_type": "stream",
     "text": [
      "/tmp/ipykernel_3734/3037979607.py:81: RuntimeWarning: EDF format requires equal-length data blocks, so 0.996 seconds of edge values were appended to all channels when writing the final block.\n",
      "  raw_crop.export(save_path, fmt=\"edf\", overwrite=True)\n",
      "/tmp/ipykernel_3734/3037979607.py:81: RuntimeWarning: EDF format requires equal-length data blocks, so 0.996 seconds of edge values were appended to all channels when writing the final block.\n",
      "  raw_crop.export(save_path, fmt=\"edf\", overwrite=True)\n",
      "/tmp/ipykernel_3734/3037979607.py:81: RuntimeWarning: EDF format requires equal-length data blocks, so 0.996 seconds of edge values were appended to all channels when writing the final block.\n",
      "  raw_crop.export(save_path, fmt=\"edf\", overwrite=True)\n",
      "/tmp/ipykernel_3734/3037979607.py:81: RuntimeWarning: EDF format requires equal-length data blocks, so 0.996 seconds of edge values were appended to all channels when writing the final block.\n",
      "  raw_crop.export(save_path, fmt=\"edf\", overwrite=True)\n"
     ]
    },
    {
     "name": "stdout",
     "output_type": "stream",
     "text": [
      "Normal segments saved for chb15_02.edf\n"
     ]
    },
    {
     "name": "stderr",
     "output_type": "stream",
     "text": [
      "/tmp/ipykernel_3734/3037979607.py:81: RuntimeWarning: EDF format requires equal-length data blocks, so 0.996 seconds of edge values were appended to all channels when writing the final block.\n",
      "  raw_crop.export(save_path, fmt=\"edf\", overwrite=True)\n",
      "/tmp/ipykernel_3734/3037979607.py:81: RuntimeWarning: EDF format requires equal-length data blocks, so 0.996 seconds of edge values were appended to all channels when writing the final block.\n",
      "  raw_crop.export(save_path, fmt=\"edf\", overwrite=True)\n",
      "/tmp/ipykernel_3734/3037979607.py:81: RuntimeWarning: EDF format requires equal-length data blocks, so 0.996 seconds of edge values were appended to all channels when writing the final block.\n",
      "  raw_crop.export(save_path, fmt=\"edf\", overwrite=True)\n",
      "/tmp/ipykernel_3734/3037979607.py:81: RuntimeWarning: EDF format requires equal-length data blocks, so 0.996 seconds of edge values were appended to all channels when writing the final block.\n",
      "  raw_crop.export(save_path, fmt=\"edf\", overwrite=True)\n",
      "/tmp/ipykernel_3734/3037979607.py:81: RuntimeWarning: EDF format requires equal-length data blocks, so 0.996 seconds of edge values were appended to all channels when writing the final block.\n",
      "  raw_crop.export(save_path, fmt=\"edf\", overwrite=True)\n"
     ]
    },
    {
     "name": "stdout",
     "output_type": "stream",
     "text": [
      "Normal segments saved for chb15_03.edf\n"
     ]
    },
    {
     "name": "stderr",
     "output_type": "stream",
     "text": [
      "/tmp/ipykernel_3734/3037979607.py:81: RuntimeWarning: EDF format requires equal-length data blocks, so 0.996 seconds of edge values were appended to all channels when writing the final block.\n",
      "  raw_crop.export(save_path, fmt=\"edf\", overwrite=True)\n",
      "/tmp/ipykernel_3734/3037979607.py:81: RuntimeWarning: EDF format requires equal-length data blocks, so 0.996 seconds of edge values were appended to all channels when writing the final block.\n",
      "  raw_crop.export(save_path, fmt=\"edf\", overwrite=True)\n",
      "/tmp/ipykernel_3734/3037979607.py:81: RuntimeWarning: EDF format requires equal-length data blocks, so 0.996 seconds of edge values were appended to all channels when writing the final block.\n",
      "  raw_crop.export(save_path, fmt=\"edf\", overwrite=True)\n",
      "/tmp/ipykernel_3734/3037979607.py:81: RuntimeWarning: EDF format requires equal-length data blocks, so 0.996 seconds of edge values were appended to all channels when writing the final block.\n",
      "  raw_crop.export(save_path, fmt=\"edf\", overwrite=True)\n",
      "/tmp/ipykernel_3734/3037979607.py:81: RuntimeWarning: EDF format requires equal-length data blocks, so 0.996 seconds of edge values were appended to all channels when writing the final block.\n",
      "  raw_crop.export(save_path, fmt=\"edf\", overwrite=True)\n"
     ]
    },
    {
     "name": "stdout",
     "output_type": "stream",
     "text": [
      "Normal segments saved for chb15_04.edf\n"
     ]
    },
    {
     "name": "stderr",
     "output_type": "stream",
     "text": [
      "/tmp/ipykernel_3734/3037979607.py:81: RuntimeWarning: EDF format requires equal-length data blocks, so 0.996 seconds of edge values were appended to all channels when writing the final block.\n",
      "  raw_crop.export(save_path, fmt=\"edf\", overwrite=True)\n",
      "/tmp/ipykernel_3734/3037979607.py:81: RuntimeWarning: EDF format requires equal-length data blocks, so 0.996 seconds of edge values were appended to all channels when writing the final block.\n",
      "  raw_crop.export(save_path, fmt=\"edf\", overwrite=True)\n",
      "/tmp/ipykernel_3734/3037979607.py:81: RuntimeWarning: EDF format requires equal-length data blocks, so 0.996 seconds of edge values were appended to all channels when writing the final block.\n",
      "  raw_crop.export(save_path, fmt=\"edf\", overwrite=True)\n",
      "/tmp/ipykernel_3734/3037979607.py:81: RuntimeWarning: EDF format requires equal-length data blocks, so 0.996 seconds of edge values were appended to all channels when writing the final block.\n",
      "  raw_crop.export(save_path, fmt=\"edf\", overwrite=True)\n",
      "/tmp/ipykernel_3734/3037979607.py:81: RuntimeWarning: EDF format requires equal-length data blocks, so 0.996 seconds of edge values were appended to all channels when writing the final block.\n",
      "  raw_crop.export(save_path, fmt=\"edf\", overwrite=True)\n"
     ]
    },
    {
     "name": "stdout",
     "output_type": "stream",
     "text": [
      "Normal segments saved for chb15_05.edf\n",
      "  → saved: chb15_06_seizure_1.edf\n"
     ]
    },
    {
     "name": "stderr",
     "output_type": "stream",
     "text": [
      "/tmp/ipykernel_3734/3037979607.py:52: RuntimeWarning: EDF format requires equal-length data blocks, so 0.996 seconds of edge values were appended to all channels when writing the final block.\n",
      "  segment.export(save_path, fmt='edf')\n",
      "/tmp/ipykernel_3734/3037979607.py:81: RuntimeWarning: EDF format requires equal-length data blocks, so 0.996 seconds of edge values were appended to all channels when writing the final block.\n",
      "  raw_crop.export(save_path, fmt=\"edf\", overwrite=True)\n",
      "/tmp/ipykernel_3734/3037979607.py:81: RuntimeWarning: EDF format requires equal-length data blocks, so 0.996 seconds of edge values were appended to all channels when writing the final block.\n",
      "  raw_crop.export(save_path, fmt=\"edf\", overwrite=True)\n",
      "/tmp/ipykernel_3734/3037979607.py:81: RuntimeWarning: EDF format requires equal-length data blocks, so 0.996 seconds of edge values were appended to all channels when writing the final block.\n",
      "  raw_crop.export(save_path, fmt=\"edf\", overwrite=True)\n",
      "/tmp/ipykernel_3734/3037979607.py:81: RuntimeWarning: EDF format requires equal-length data blocks, so 0.996 seconds of edge values were appended to all channels when writing the final block.\n",
      "  raw_crop.export(save_path, fmt=\"edf\", overwrite=True)\n",
      "/tmp/ipykernel_3734/3037979607.py:81: RuntimeWarning: EDF format requires equal-length data blocks, so 0.996 seconds of edge values were appended to all channels when writing the final block.\n",
      "  raw_crop.export(save_path, fmt=\"edf\", overwrite=True)\n"
     ]
    },
    {
     "name": "stdout",
     "output_type": "stream",
     "text": [
      "Normal segments saved for chb15_07.edf\n"
     ]
    },
    {
     "name": "stderr",
     "output_type": "stream",
     "text": [
      "/tmp/ipykernel_3734/3037979607.py:81: RuntimeWarning: EDF format requires equal-length data blocks, so 0.996 seconds of edge values were appended to all channels when writing the final block.\n",
      "  raw_crop.export(save_path, fmt=\"edf\", overwrite=True)\n",
      "/tmp/ipykernel_3734/3037979607.py:81: RuntimeWarning: EDF format requires equal-length data blocks, so 0.996 seconds of edge values were appended to all channels when writing the final block.\n",
      "  raw_crop.export(save_path, fmt=\"edf\", overwrite=True)\n",
      "/tmp/ipykernel_3734/3037979607.py:81: RuntimeWarning: EDF format requires equal-length data blocks, so 0.996 seconds of edge values were appended to all channels when writing the final block.\n",
      "  raw_crop.export(save_path, fmt=\"edf\", overwrite=True)\n",
      "/tmp/ipykernel_3734/3037979607.py:81: RuntimeWarning: EDF format requires equal-length data blocks, so 0.996 seconds of edge values were appended to all channels when writing the final block.\n",
      "  raw_crop.export(save_path, fmt=\"edf\", overwrite=True)\n",
      "/tmp/ipykernel_3734/3037979607.py:81: RuntimeWarning: EDF format requires equal-length data blocks, so 0.996 seconds of edge values were appended to all channels when writing the final block.\n",
      "  raw_crop.export(save_path, fmt=\"edf\", overwrite=True)\n"
     ]
    },
    {
     "name": "stdout",
     "output_type": "stream",
     "text": [
      "Normal segments saved for chb15_08.edf\n"
     ]
    },
    {
     "name": "stderr",
     "output_type": "stream",
     "text": [
      "/tmp/ipykernel_3734/3037979607.py:81: RuntimeWarning: EDF format requires equal-length data blocks, so 0.996 seconds of edge values were appended to all channels when writing the final block.\n",
      "  raw_crop.export(save_path, fmt=\"edf\", overwrite=True)\n",
      "/tmp/ipykernel_3734/3037979607.py:81: RuntimeWarning: EDF format requires equal-length data blocks, so 0.996 seconds of edge values were appended to all channels when writing the final block.\n",
      "  raw_crop.export(save_path, fmt=\"edf\", overwrite=True)\n",
      "/tmp/ipykernel_3734/3037979607.py:81: RuntimeWarning: EDF format requires equal-length data blocks, so 0.996 seconds of edge values were appended to all channels when writing the final block.\n",
      "  raw_crop.export(save_path, fmt=\"edf\", overwrite=True)\n",
      "/tmp/ipykernel_3734/3037979607.py:81: RuntimeWarning: EDF format requires equal-length data blocks, so 0.996 seconds of edge values were appended to all channels when writing the final block.\n",
      "  raw_crop.export(save_path, fmt=\"edf\", overwrite=True)\n",
      "/tmp/ipykernel_3734/3037979607.py:81: RuntimeWarning: EDF format requires equal-length data blocks, so 0.996 seconds of edge values were appended to all channels when writing the final block.\n",
      "  raw_crop.export(save_path, fmt=\"edf\", overwrite=True)\n"
     ]
    },
    {
     "name": "stdout",
     "output_type": "stream",
     "text": [
      "Normal segments saved for chb15_09.edf\n",
      "  → saved: chb15_10_seizure_1.edf\n"
     ]
    },
    {
     "name": "stderr",
     "output_type": "stream",
     "text": [
      "/tmp/ipykernel_3734/3037979607.py:52: RuntimeWarning: EDF format requires equal-length data blocks, so 0.996 seconds of edge values were appended to all channels when writing the final block.\n",
      "  segment.export(save_path, fmt='edf')\n",
      "/tmp/ipykernel_3734/3037979607.py:81: RuntimeWarning: EDF format requires equal-length data blocks, so 0.996 seconds of edge values were appended to all channels when writing the final block.\n",
      "  raw_crop.export(save_path, fmt=\"edf\", overwrite=True)\n",
      "/tmp/ipykernel_3734/3037979607.py:81: RuntimeWarning: EDF format requires equal-length data blocks, so 0.996 seconds of edge values were appended to all channels when writing the final block.\n",
      "  raw_crop.export(save_path, fmt=\"edf\", overwrite=True)\n",
      "/tmp/ipykernel_3734/3037979607.py:81: RuntimeWarning: EDF format requires equal-length data blocks, so 0.996 seconds of edge values were appended to all channels when writing the final block.\n",
      "  raw_crop.export(save_path, fmt=\"edf\", overwrite=True)\n",
      "/tmp/ipykernel_3734/3037979607.py:81: RuntimeWarning: EDF format requires equal-length data blocks, so 0.996 seconds of edge values were appended to all channels when writing the final block.\n",
      "  raw_crop.export(save_path, fmt=\"edf\", overwrite=True)\n",
      "/tmp/ipykernel_3734/3037979607.py:81: RuntimeWarning: EDF format requires equal-length data blocks, so 0.996 seconds of edge values were appended to all channels when writing the final block.\n",
      "  raw_crop.export(save_path, fmt=\"edf\", overwrite=True)\n",
      "/tmp/ipykernel_3734/3037979607.py:81: RuntimeWarning: EDF format requires equal-length data blocks, so 0.996 seconds of edge values were appended to all channels when writing the final block.\n",
      "  raw_crop.export(save_path, fmt=\"edf\", overwrite=True)\n",
      "/tmp/ipykernel_3734/3037979607.py:81: RuntimeWarning: EDF format requires equal-length data blocks, so 0.996 seconds of edge values were appended to all channels when writing the final block.\n",
      "  raw_crop.export(save_path, fmt=\"edf\", overwrite=True)\n"
     ]
    },
    {
     "name": "stdout",
     "output_type": "stream",
     "text": [
      "Normal segments saved for chb15_11.edf\n"
     ]
    },
    {
     "name": "stderr",
     "output_type": "stream",
     "text": [
      "/tmp/ipykernel_3734/3037979607.py:81: RuntimeWarning: EDF format requires equal-length data blocks, so 0.996 seconds of edge values were appended to all channels when writing the final block.\n",
      "  raw_crop.export(save_path, fmt=\"edf\", overwrite=True)\n",
      "/tmp/ipykernel_3734/3037979607.py:81: RuntimeWarning: EDF format requires equal-length data blocks, so 0.996 seconds of edge values were appended to all channels when writing the final block.\n",
      "  raw_crop.export(save_path, fmt=\"edf\", overwrite=True)\n",
      "/tmp/ipykernel_3734/3037979607.py:81: RuntimeWarning: EDF format requires equal-length data blocks, so 0.996 seconds of edge values were appended to all channels when writing the final block.\n",
      "  raw_crop.export(save_path, fmt=\"edf\", overwrite=True)\n",
      "/tmp/ipykernel_3734/3037979607.py:81: RuntimeWarning: EDF format requires equal-length data blocks, so 0.996 seconds of edge values were appended to all channels when writing the final block.\n",
      "  raw_crop.export(save_path, fmt=\"edf\", overwrite=True)\n"
     ]
    },
    {
     "name": "stdout",
     "output_type": "stream",
     "text": [
      "Normal segments saved for chb15_12.edf\n"
     ]
    },
    {
     "name": "stderr",
     "output_type": "stream",
     "text": [
      "/tmp/ipykernel_3734/3037979607.py:81: RuntimeWarning: EDF format requires equal-length data blocks, so 0.996 seconds of edge values were appended to all channels when writing the final block.\n",
      "  raw_crop.export(save_path, fmt=\"edf\", overwrite=True)\n",
      "/tmp/ipykernel_3734/3037979607.py:81: RuntimeWarning: EDF format requires equal-length data blocks, so 0.996 seconds of edge values were appended to all channels when writing the final block.\n",
      "  raw_crop.export(save_path, fmt=\"edf\", overwrite=True)\n",
      "/tmp/ipykernel_3734/3037979607.py:81: RuntimeWarning: EDF format requires equal-length data blocks, so 0.996 seconds of edge values were appended to all channels when writing the final block.\n",
      "  raw_crop.export(save_path, fmt=\"edf\", overwrite=True)\n",
      "/tmp/ipykernel_3734/3037979607.py:81: RuntimeWarning: EDF format requires equal-length data blocks, so 0.996 seconds of edge values were appended to all channels when writing the final block.\n",
      "  raw_crop.export(save_path, fmt=\"edf\", overwrite=True)\n"
     ]
    },
    {
     "name": "stdout",
     "output_type": "stream",
     "text": [
      "Normal segments saved for chb15_13.edf\n"
     ]
    },
    {
     "name": "stderr",
     "output_type": "stream",
     "text": [
      "/tmp/ipykernel_3734/3037979607.py:81: RuntimeWarning: EDF format requires equal-length data blocks, so 0.996 seconds of edge values were appended to all channels when writing the final block.\n",
      "  raw_crop.export(save_path, fmt=\"edf\", overwrite=True)\n",
      "/tmp/ipykernel_3734/3037979607.py:81: RuntimeWarning: EDF format requires equal-length data blocks, so 0.996 seconds of edge values were appended to all channels when writing the final block.\n",
      "  raw_crop.export(save_path, fmt=\"edf\", overwrite=True)\n",
      "/tmp/ipykernel_3734/3037979607.py:81: RuntimeWarning: EDF format requires equal-length data blocks, so 0.996 seconds of edge values were appended to all channels when writing the final block.\n",
      "  raw_crop.export(save_path, fmt=\"edf\", overwrite=True)\n",
      "/tmp/ipykernel_3734/3037979607.py:81: RuntimeWarning: EDF format requires equal-length data blocks, so 0.996 seconds of edge values were appended to all channels when writing the final block.\n",
      "  raw_crop.export(save_path, fmt=\"edf\", overwrite=True)\n",
      "/tmp/ipykernel_3734/3037979607.py:81: RuntimeWarning: EDF format requires equal-length data blocks, so 0.996 seconds of edge values were appended to all channels when writing the final block.\n",
      "  raw_crop.export(save_path, fmt=\"edf\", overwrite=True)\n"
     ]
    },
    {
     "name": "stdout",
     "output_type": "stream",
     "text": [
      "Normal segments saved for chb15_14.edf\n",
      "  → saved: chb15_15_seizure_1.edf\n"
     ]
    },
    {
     "name": "stderr",
     "output_type": "stream",
     "text": [
      "/tmp/ipykernel_3734/3037979607.py:52: RuntimeWarning: EDF format requires equal-length data blocks, so 0.996 seconds of edge values were appended to all channels when writing the final block.\n",
      "  segment.export(save_path, fmt='edf')\n",
      "/tmp/ipykernel_3734/3037979607.py:81: RuntimeWarning: EDF format requires equal-length data blocks, so 0.996 seconds of edge values were appended to all channels when writing the final block.\n",
      "  raw_crop.export(save_path, fmt=\"edf\", overwrite=True)\n",
      "/tmp/ipykernel_3734/3037979607.py:81: RuntimeWarning: EDF format requires equal-length data blocks, so 0.996 seconds of edge values were appended to all channels when writing the final block.\n",
      "  raw_crop.export(save_path, fmt=\"edf\", overwrite=True)\n",
      "/tmp/ipykernel_3734/3037979607.py:81: RuntimeWarning: EDF format requires equal-length data blocks, so 0.996 seconds of edge values were appended to all channels when writing the final block.\n",
      "  raw_crop.export(save_path, fmt=\"edf\", overwrite=True)\n",
      "/tmp/ipykernel_3734/3037979607.py:81: RuntimeWarning: EDF format requires equal-length data blocks, so 0.996 seconds of edge values were appended to all channels when writing the final block.\n",
      "  raw_crop.export(save_path, fmt=\"edf\", overwrite=True)\n",
      "/tmp/ipykernel_3734/3037979607.py:81: RuntimeWarning: EDF format requires equal-length data blocks, so 0.996 seconds of edge values were appended to all channels when writing the final block.\n",
      "  raw_crop.export(save_path, fmt=\"edf\", overwrite=True)\n",
      "/tmp/ipykernel_3734/3037979607.py:52: RuntimeWarning: EDF format requires equal-length data blocks, so 0.996 seconds of edge values were appended to all channels when writing the final block.\n",
      "  segment.export(save_path, fmt='edf')\n"
     ]
    },
    {
     "name": "stdout",
     "output_type": "stream",
     "text": [
      "Normal segments saved for chb15_16.edf\n",
      "  → saved: chb15_17_seizure_1.edf\n"
     ]
    },
    {
     "name": "stderr",
     "output_type": "stream",
     "text": [
      "/tmp/ipykernel_3734/3037979607.py:81: RuntimeWarning: EDF format requires equal-length data blocks, so 0.996 seconds of edge values were appended to all channels when writing the final block.\n",
      "  raw_crop.export(save_path, fmt=\"edf\", overwrite=True)\n",
      "/tmp/ipykernel_3734/3037979607.py:81: RuntimeWarning: EDF format requires equal-length data blocks, so 0.996 seconds of edge values were appended to all channels when writing the final block.\n",
      "  raw_crop.export(save_path, fmt=\"edf\", overwrite=True)\n",
      "/tmp/ipykernel_3734/3037979607.py:81: RuntimeWarning: EDF format requires equal-length data blocks, so 0.996 seconds of edge values were appended to all channels when writing the final block.\n",
      "  raw_crop.export(save_path, fmt=\"edf\", overwrite=True)\n",
      "/tmp/ipykernel_3734/3037979607.py:81: RuntimeWarning: EDF format requires equal-length data blocks, so 0.996 seconds of edge values were appended to all channels when writing the final block.\n",
      "  raw_crop.export(save_path, fmt=\"edf\", overwrite=True)\n",
      "/tmp/ipykernel_3734/3037979607.py:81: RuntimeWarning: EDF format requires equal-length data blocks, so 0.996 seconds of edge values were appended to all channels when writing the final block.\n",
      "  raw_crop.export(save_path, fmt=\"edf\", overwrite=True)\n"
     ]
    },
    {
     "name": "stdout",
     "output_type": "stream",
     "text": [
      "Normal segments saved for chb15_19.edf\n",
      "  → saved: chb15_20_seizure_1.edf\n"
     ]
    },
    {
     "name": "stderr",
     "output_type": "stream",
     "text": [
      "/tmp/ipykernel_3734/3037979607.py:52: RuntimeWarning: EDF format requires equal-length data blocks, so 0.996 seconds of edge values were appended to all channels when writing the final block.\n",
      "  segment.export(save_path, fmt='edf')\n",
      "/tmp/ipykernel_3734/3037979607.py:52: RuntimeWarning: EDF format requires equal-length data blocks, so 0.996 seconds of edge values were appended to all channels when writing the final block.\n",
      "  segment.export(save_path, fmt='edf')\n"
     ]
    },
    {
     "name": "stdout",
     "output_type": "stream",
     "text": [
      "  → saved: chb15_22_seizure_1.edf\n"
     ]
    },
    {
     "name": "stderr",
     "output_type": "stream",
     "text": [
      "/tmp/ipykernel_3734/3037979607.py:81: RuntimeWarning: EDF format requires equal-length data blocks, so 0.996 seconds of edge values were appended to all channels when writing the final block.\n",
      "  raw_crop.export(save_path, fmt=\"edf\", overwrite=True)\n",
      "/tmp/ipykernel_3734/3037979607.py:81: RuntimeWarning: EDF format requires equal-length data blocks, so 0.996 seconds of edge values were appended to all channels when writing the final block.\n",
      "  raw_crop.export(save_path, fmt=\"edf\", overwrite=True)\n",
      "/tmp/ipykernel_3734/3037979607.py:81: RuntimeWarning: EDF format requires equal-length data blocks, so 0.996 seconds of edge values were appended to all channels when writing the final block.\n",
      "  raw_crop.export(save_path, fmt=\"edf\", overwrite=True)\n",
      "/tmp/ipykernel_3734/3037979607.py:81: RuntimeWarning: EDF format requires equal-length data blocks, so 0.996 seconds of edge values were appended to all channels when writing the final block.\n",
      "  raw_crop.export(save_path, fmt=\"edf\", overwrite=True)\n",
      "/tmp/ipykernel_3734/3037979607.py:81: RuntimeWarning: EDF format requires equal-length data blocks, so 0.996 seconds of edge values were appended to all channels when writing the final block.\n",
      "  raw_crop.export(save_path, fmt=\"edf\", overwrite=True)\n"
     ]
    },
    {
     "name": "stdout",
     "output_type": "stream",
     "text": [
      "Normal segments saved for chb15_26.edf\n",
      "  → saved: chb15_28_seizure_1.edf\n"
     ]
    },
    {
     "name": "stderr",
     "output_type": "stream",
     "text": [
      "/tmp/ipykernel_3734/3037979607.py:52: RuntimeWarning: EDF format requires equal-length data blocks, so 0.996 seconds of edge values were appended to all channels when writing the final block.\n",
      "  segment.export(save_path, fmt='edf')\n",
      "/tmp/ipykernel_3734/3037979607.py:81: RuntimeWarning: EDF format requires equal-length data blocks, so 0.996 seconds of edge values were appended to all channels when writing the final block.\n",
      "  raw_crop.export(save_path, fmt=\"edf\", overwrite=True)\n",
      "/tmp/ipykernel_3734/3037979607.py:81: RuntimeWarning: EDF format requires equal-length data blocks, so 0.996 seconds of edge values were appended to all channels when writing the final block.\n",
      "  raw_crop.export(save_path, fmt=\"edf\", overwrite=True)\n",
      "/tmp/ipykernel_3734/3037979607.py:81: RuntimeWarning: EDF format requires equal-length data blocks, so 0.996 seconds of edge values were appended to all channels when writing the final block.\n",
      "  raw_crop.export(save_path, fmt=\"edf\", overwrite=True)\n",
      "/tmp/ipykernel_3734/3037979607.py:81: RuntimeWarning: EDF format requires equal-length data blocks, so 0.996 seconds of edge values were appended to all channels when writing the final block.\n",
      "  raw_crop.export(save_path, fmt=\"edf\", overwrite=True)\n",
      "/tmp/ipykernel_3734/3037979607.py:81: RuntimeWarning: EDF format requires equal-length data blocks, so 0.996 seconds of edge values were appended to all channels when writing the final block.\n",
      "  raw_crop.export(save_path, fmt=\"edf\", overwrite=True)\n",
      "/tmp/ipykernel_3734/3037979607.py:81: RuntimeWarning: EDF format requires equal-length data blocks, so 0.996 seconds of edge values were appended to all channels when writing the final block.\n",
      "  raw_crop.export(save_path, fmt=\"edf\", overwrite=True)\n",
      "/tmp/ipykernel_3734/3037979607.py:81: RuntimeWarning: EDF format requires equal-length data blocks, so 0.996 seconds of edge values were appended to all channels when writing the final block.\n",
      "  raw_crop.export(save_path, fmt=\"edf\", overwrite=True)\n"
     ]
    },
    {
     "name": "stdout",
     "output_type": "stream",
     "text": [
      "Normal segments saved for chb15_29.edf\n"
     ]
    },
    {
     "name": "stderr",
     "output_type": "stream",
     "text": [
      "/tmp/ipykernel_3734/3037979607.py:81: RuntimeWarning: EDF format requires equal-length data blocks, so 0.996 seconds of edge values were appended to all channels when writing the final block.\n",
      "  raw_crop.export(save_path, fmt=\"edf\", overwrite=True)\n",
      "/tmp/ipykernel_3734/3037979607.py:81: RuntimeWarning: EDF format requires equal-length data blocks, so 0.996 seconds of edge values were appended to all channels when writing the final block.\n",
      "  raw_crop.export(save_path, fmt=\"edf\", overwrite=True)\n",
      "/tmp/ipykernel_3734/3037979607.py:81: RuntimeWarning: EDF format requires equal-length data blocks, so 0.996 seconds of edge values were appended to all channels when writing the final block.\n",
      "  raw_crop.export(save_path, fmt=\"edf\", overwrite=True)\n",
      "/tmp/ipykernel_3734/3037979607.py:52: RuntimeWarning: EDF format requires equal-length data blocks, so 0.996 seconds of edge values were appended to all channels when writing the final block.\n",
      "  segment.export(save_path, fmt='edf')\n"
     ]
    },
    {
     "name": "stdout",
     "output_type": "stream",
     "text": [
      "Normal segments saved for chb15_30.edf\n",
      "  → saved: chb15_31_seizure_1.edf\n"
     ]
    },
    {
     "name": "stderr",
     "output_type": "stream",
     "text": [
      "/tmp/ipykernel_3734/3037979607.py:81: RuntimeWarning: EDF format requires equal-length data blocks, so 0.996 seconds of edge values were appended to all channels when writing the final block.\n",
      "  raw_crop.export(save_path, fmt=\"edf\", overwrite=True)\n",
      "/tmp/ipykernel_3734/3037979607.py:81: RuntimeWarning: EDF format requires equal-length data blocks, so 0.996 seconds of edge values were appended to all channels when writing the final block.\n",
      "  raw_crop.export(save_path, fmt=\"edf\", overwrite=True)\n",
      "/tmp/ipykernel_3734/3037979607.py:81: RuntimeWarning: EDF format requires equal-length data blocks, so 0.996 seconds of edge values were appended to all channels when writing the final block.\n",
      "  raw_crop.export(save_path, fmt=\"edf\", overwrite=True)\n",
      "/tmp/ipykernel_3734/3037979607.py:81: RuntimeWarning: EDF format requires equal-length data blocks, so 0.996 seconds of edge values were appended to all channels when writing the final block.\n",
      "  raw_crop.export(save_path, fmt=\"edf\", overwrite=True)\n",
      "/tmp/ipykernel_3734/3037979607.py:81: RuntimeWarning: EDF format requires equal-length data blocks, so 0.996 seconds of edge values were appended to all channels when writing the final block.\n",
      "  raw_crop.export(save_path, fmt=\"edf\", overwrite=True)\n"
     ]
    },
    {
     "name": "stdout",
     "output_type": "stream",
     "text": [
      "Normal segments saved for chb15_32.edf\n"
     ]
    },
    {
     "name": "stderr",
     "output_type": "stream",
     "text": [
      "/tmp/ipykernel_3734/3037979607.py:81: RuntimeWarning: EDF format requires equal-length data blocks, so 0.996 seconds of edge values were appended to all channels when writing the final block.\n",
      "  raw_crop.export(save_path, fmt=\"edf\", overwrite=True)\n",
      "/tmp/ipykernel_3734/3037979607.py:81: RuntimeWarning: EDF format requires equal-length data blocks, so 0.996 seconds of edge values were appended to all channels when writing the final block.\n",
      "  raw_crop.export(save_path, fmt=\"edf\", overwrite=True)\n",
      "/tmp/ipykernel_3734/3037979607.py:81: RuntimeWarning: EDF format requires equal-length data blocks, so 0.996 seconds of edge values were appended to all channels when writing the final block.\n",
      "  raw_crop.export(save_path, fmt=\"edf\", overwrite=True)\n",
      "/tmp/ipykernel_3734/3037979607.py:81: RuntimeWarning: EDF format requires equal-length data blocks, so 0.996 seconds of edge values were appended to all channels when writing the final block.\n",
      "  raw_crop.export(save_path, fmt=\"edf\", overwrite=True)\n",
      "/tmp/ipykernel_3734/3037979607.py:81: RuntimeWarning: EDF format requires equal-length data blocks, so 0.996 seconds of edge values were appended to all channels when writing the final block.\n",
      "  raw_crop.export(save_path, fmt=\"edf\", overwrite=True)\n"
     ]
    },
    {
     "name": "stdout",
     "output_type": "stream",
     "text": [
      "Normal segments saved for chb15_33.edf\n"
     ]
    },
    {
     "name": "stderr",
     "output_type": "stream",
     "text": [
      "/tmp/ipykernel_3734/3037979607.py:81: RuntimeWarning: EDF format requires equal-length data blocks, so 0.996 seconds of edge values were appended to all channels when writing the final block.\n",
      "  raw_crop.export(save_path, fmt=\"edf\", overwrite=True)\n",
      "/tmp/ipykernel_3734/3037979607.py:81: RuntimeWarning: EDF format requires equal-length data blocks, so 0.996 seconds of edge values were appended to all channels when writing the final block.\n",
      "  raw_crop.export(save_path, fmt=\"edf\", overwrite=True)\n",
      "/tmp/ipykernel_3734/3037979607.py:81: RuntimeWarning: EDF format requires equal-length data blocks, so 0.996 seconds of edge values were appended to all channels when writing the final block.\n",
      "  raw_crop.export(save_path, fmt=\"edf\", overwrite=True)\n",
      "/tmp/ipykernel_3734/3037979607.py:81: RuntimeWarning: EDF format requires equal-length data blocks, so 0.996 seconds of edge values were appended to all channels when writing the final block.\n",
      "  raw_crop.export(save_path, fmt=\"edf\", overwrite=True)\n",
      "/tmp/ipykernel_3734/3037979607.py:81: RuntimeWarning: EDF format requires equal-length data blocks, so 0.996 seconds of edge values were appended to all channels when writing the final block.\n",
      "  raw_crop.export(save_path, fmt=\"edf\", overwrite=True)\n"
     ]
    },
    {
     "name": "stdout",
     "output_type": "stream",
     "text": [
      "Normal segments saved for chb15_35.edf\n"
     ]
    },
    {
     "name": "stderr",
     "output_type": "stream",
     "text": [
      "/tmp/ipykernel_3734/3037979607.py:81: RuntimeWarning: EDF format requires equal-length data blocks, so 0.996 seconds of edge values were appended to all channels when writing the final block.\n",
      "  raw_crop.export(save_path, fmt=\"edf\", overwrite=True)\n",
      "/tmp/ipykernel_3734/3037979607.py:81: RuntimeWarning: EDF format requires equal-length data blocks, so 0.996 seconds of edge values were appended to all channels when writing the final block.\n",
      "  raw_crop.export(save_path, fmt=\"edf\", overwrite=True)\n",
      "/tmp/ipykernel_3734/3037979607.py:81: RuntimeWarning: EDF format requires equal-length data blocks, so 0.996 seconds of edge values were appended to all channels when writing the final block.\n",
      "  raw_crop.export(save_path, fmt=\"edf\", overwrite=True)\n",
      "/tmp/ipykernel_3734/3037979607.py:81: RuntimeWarning: EDF format requires equal-length data blocks, so 0.996 seconds of edge values were appended to all channels when writing the final block.\n",
      "  raw_crop.export(save_path, fmt=\"edf\", overwrite=True)\n",
      "/tmp/ipykernel_3734/3037979607.py:81: RuntimeWarning: EDF format requires equal-length data blocks, so 0.996 seconds of edge values were appended to all channels when writing the final block.\n",
      "  raw_crop.export(save_path, fmt=\"edf\", overwrite=True)\n"
     ]
    },
    {
     "name": "stdout",
     "output_type": "stream",
     "text": [
      "Normal segments saved for chb15_37.edf\n",
      "  → saved: chb15_40_seizure_1.edf\n",
      "  → saved: chb15_40_seizure_2.edf\n",
      "  → saved: chb15_40_seizure_3.edf\n"
     ]
    },
    {
     "name": "stderr",
     "output_type": "stream",
     "text": [
      "/tmp/ipykernel_3734/3037979607.py:52: RuntimeWarning: EDF format requires equal-length data blocks, so 0.996 seconds of edge values were appended to all channels when writing the final block.\n",
      "  segment.export(save_path, fmt='edf')\n",
      "/tmp/ipykernel_3734/3037979607.py:52: RuntimeWarning: EDF format requires equal-length data blocks, so 0.996 seconds of edge values were appended to all channels when writing the final block.\n",
      "  segment.export(save_path, fmt='edf')\n",
      "/tmp/ipykernel_3734/3037979607.py:52: RuntimeWarning: EDF format requires equal-length data blocks, so 0.996 seconds of edge values were appended to all channels when writing the final block.\n",
      "  segment.export(save_path, fmt='edf')\n",
      "/tmp/ipykernel_3734/3037979607.py:81: RuntimeWarning: EDF format requires equal-length data blocks, so 0.996 seconds of edge values were appended to all channels when writing the final block.\n",
      "  raw_crop.export(save_path, fmt=\"edf\", overwrite=True)\n",
      "/tmp/ipykernel_3734/3037979607.py:81: RuntimeWarning: EDF format requires equal-length data blocks, so 0.996 seconds of edge values were appended to all channels when writing the final block.\n",
      "  raw_crop.export(save_path, fmt=\"edf\", overwrite=True)\n",
      "/tmp/ipykernel_3734/3037979607.py:81: RuntimeWarning: EDF format requires equal-length data blocks, so 0.996 seconds of edge values were appended to all channels when writing the final block.\n",
      "  raw_crop.export(save_path, fmt=\"edf\", overwrite=True)\n",
      "/tmp/ipykernel_3734/3037979607.py:81: RuntimeWarning: EDF format requires equal-length data blocks, so 0.996 seconds of edge values were appended to all channels when writing the final block.\n",
      "  raw_crop.export(save_path, fmt=\"edf\", overwrite=True)\n",
      "/tmp/ipykernel_3734/3037979607.py:81: RuntimeWarning: EDF format requires equal-length data blocks, so 0.996 seconds of edge values were appended to all channels when writing the final block.\n",
      "  raw_crop.export(save_path, fmt=\"edf\", overwrite=True)\n"
     ]
    },
    {
     "name": "stdout",
     "output_type": "stream",
     "text": [
      "Normal segments saved for chb15_45.edf\n",
      "  → saved: chb15_46_seizure_1.edf\n"
     ]
    },
    {
     "name": "stderr",
     "output_type": "stream",
     "text": [
      "/tmp/ipykernel_3734/3037979607.py:52: RuntimeWarning: EDF format requires equal-length data blocks, so 0.996 seconds of edge values were appended to all channels when writing the final block.\n",
      "  segment.export(save_path, fmt='edf')\n",
      "/tmp/ipykernel_3734/3037979607.py:52: RuntimeWarning: EDF format requires equal-length data blocks, so 0.996 seconds of edge values were appended to all channels when writing the final block.\n",
      "  segment.export(save_path, fmt='edf')\n"
     ]
    },
    {
     "name": "stdout",
     "output_type": "stream",
     "text": [
      "  → saved: chb15_49_seizure_1.edf\n"
     ]
    },
    {
     "name": "stderr",
     "output_type": "stream",
     "text": [
      "/tmp/ipykernel_3734/3037979607.py:81: RuntimeWarning: EDF format requires equal-length data blocks, so 0.996 seconds of edge values were appended to all channels when writing the final block.\n",
      "  raw_crop.export(save_path, fmt=\"edf\", overwrite=True)\n",
      "/tmp/ipykernel_3734/3037979607.py:81: RuntimeWarning: EDF format requires equal-length data blocks, so 0.996 seconds of edge values were appended to all channels when writing the final block.\n",
      "  raw_crop.export(save_path, fmt=\"edf\", overwrite=True)\n",
      "/tmp/ipykernel_3734/3037979607.py:81: RuntimeWarning: EDF format requires equal-length data blocks, so 0.996 seconds of edge values were appended to all channels when writing the final block.\n",
      "  raw_crop.export(save_path, fmt=\"edf\", overwrite=True)\n",
      "/tmp/ipykernel_3734/3037979607.py:81: RuntimeWarning: EDF format requires equal-length data blocks, so 0.996 seconds of edge values were appended to all channels when writing the final block.\n",
      "  raw_crop.export(save_path, fmt=\"edf\", overwrite=True)\n",
      "/tmp/ipykernel_3734/3037979607.py:81: RuntimeWarning: EDF format requires equal-length data blocks, so 0.996 seconds of edge values were appended to all channels when writing the final block.\n",
      "  raw_crop.export(save_path, fmt=\"edf\", overwrite=True)\n"
     ]
    },
    {
     "name": "stdout",
     "output_type": "stream",
     "text": [
      "Normal segments saved for chb15_50.edf\n"
     ]
    },
    {
     "name": "stderr",
     "output_type": "stream",
     "text": [
      "/tmp/ipykernel_3734/3037979607.py:81: RuntimeWarning: EDF format requires equal-length data blocks, so 0.996 seconds of edge values were appended to all channels when writing the final block.\n",
      "  raw_crop.export(save_path, fmt=\"edf\", overwrite=True)\n",
      "/tmp/ipykernel_3734/3037979607.py:81: RuntimeWarning: EDF format requires equal-length data blocks, so 0.996 seconds of edge values were appended to all channels when writing the final block.\n",
      "  raw_crop.export(save_path, fmt=\"edf\", overwrite=True)\n",
      "/tmp/ipykernel_3734/3037979607.py:81: RuntimeWarning: EDF format requires equal-length data blocks, so 0.996 seconds of edge values were appended to all channels when writing the final block.\n",
      "  raw_crop.export(save_path, fmt=\"edf\", overwrite=True)\n",
      "/tmp/ipykernel_3734/3037979607.py:81: RuntimeWarning: EDF format requires equal-length data blocks, so 0.996 seconds of edge values were appended to all channels when writing the final block.\n",
      "  raw_crop.export(save_path, fmt=\"edf\", overwrite=True)\n",
      "/tmp/ipykernel_3734/3037979607.py:81: RuntimeWarning: EDF format requires equal-length data blocks, so 0.996 seconds of edge values were appended to all channels when writing the final block.\n",
      "  raw_crop.export(save_path, fmt=\"edf\", overwrite=True)\n"
     ]
    },
    {
     "name": "stdout",
     "output_type": "stream",
     "text": [
      "Normal segments saved for chb15_51.edf\n",
      "  → saved: chb15_52_seizure_1.edf\n"
     ]
    },
    {
     "name": "stderr",
     "output_type": "stream",
     "text": [
      "/tmp/ipykernel_3734/3037979607.py:52: RuntimeWarning: EDF format requires equal-length data blocks, so 0.996 seconds of edge values were appended to all channels when writing the final block.\n",
      "  segment.export(save_path, fmt='edf')\n",
      "/tmp/ipykernel_3734/3037979607.py:52: RuntimeWarning: EDF format requires equal-length data blocks, so 0.996 seconds of edge values were appended to all channels when writing the final block.\n",
      "  segment.export(save_path, fmt='edf')\n",
      "/tmp/ipykernel_3734/3037979607.py:52: RuntimeWarning: EDF format requires equal-length data blocks, so 0.996 seconds of edge values were appended to all channels when writing the final block.\n",
      "  segment.export(save_path, fmt='edf')\n"
     ]
    },
    {
     "name": "stdout",
     "output_type": "stream",
     "text": [
      "  → saved: chb15_54_seizure_1.edf\n",
      "  → saved: chb15_54_seizure_2.edf\n",
      "  → saved: chb15_54_seizure_3.edf\n",
      "  → saved: chb15_54_seizure_4.edf\n",
      "  → saved: chb15_54_seizure_5.edf\n"
     ]
    },
    {
     "name": "stderr",
     "output_type": "stream",
     "text": [
      "/tmp/ipykernel_3734/3037979607.py:52: RuntimeWarning: EDF format requires equal-length data blocks, so 0.996 seconds of edge values were appended to all channels when writing the final block.\n",
      "  segment.export(save_path, fmt='edf')\n",
      "/tmp/ipykernel_3734/3037979607.py:52: RuntimeWarning: EDF format requires equal-length data blocks, so 0.996 seconds of edge values were appended to all channels when writing the final block.\n",
      "  segment.export(save_path, fmt='edf')\n",
      "/tmp/ipykernel_3734/3037979607.py:52: RuntimeWarning: EDF format requires equal-length data blocks, so 0.996 seconds of edge values were appended to all channels when writing the final block.\n",
      "  segment.export(save_path, fmt='edf')\n",
      "/tmp/ipykernel_3734/3037979607.py:81: RuntimeWarning: EDF format requires equal-length data blocks, so 0.996 seconds of edge values were appended to all channels when writing the final block.\n",
      "  raw_crop.export(save_path, fmt=\"edf\", overwrite=True)\n",
      "/tmp/ipykernel_3734/3037979607.py:81: RuntimeWarning: EDF format requires equal-length data blocks, so 0.996 seconds of edge values were appended to all channels when writing the final block.\n",
      "  raw_crop.export(save_path, fmt=\"edf\", overwrite=True)\n",
      "/tmp/ipykernel_3734/3037979607.py:81: RuntimeWarning: EDF format requires equal-length data blocks, so 0.996 seconds of edge values were appended to all channels when writing the final block.\n",
      "  raw_crop.export(save_path, fmt=\"edf\", overwrite=True)\n",
      "/tmp/ipykernel_3734/3037979607.py:81: RuntimeWarning: EDF format requires equal-length data blocks, so 0.996 seconds of edge values were appended to all channels when writing the final block.\n",
      "  raw_crop.export(save_path, fmt=\"edf\", overwrite=True)\n",
      "/tmp/ipykernel_3734/3037979607.py:81: RuntimeWarning: EDF format requires equal-length data blocks, so 0.996 seconds of edge values were appended to all channels when writing the final block.\n",
      "  raw_crop.export(save_path, fmt=\"edf\", overwrite=True)\n"
     ]
    },
    {
     "name": "stdout",
     "output_type": "stream",
     "text": [
      "Normal segments saved for chb15_61.edf\n",
      "  → saved: chb15_62_seizure_1.edf\n"
     ]
    },
    {
     "name": "stderr",
     "output_type": "stream",
     "text": [
      "/tmp/ipykernel_3734/3037979607.py:52: RuntimeWarning: EDF format requires equal-length data blocks, so 0.996 seconds of edge values were appended to all channels when writing the final block.\n",
      "  segment.export(save_path, fmt='edf')\n",
      "/tmp/ipykernel_3734/3037979607.py:81: RuntimeWarning: EDF format requires equal-length data blocks, so 0.996 seconds of edge values were appended to all channels when writing the final block.\n",
      "  raw_crop.export(save_path, fmt=\"edf\", overwrite=True)\n",
      "/tmp/ipykernel_3734/3037979607.py:81: RuntimeWarning: EDF format requires equal-length data blocks, so 0.996 seconds of edge values were appended to all channels when writing the final block.\n",
      "  raw_crop.export(save_path, fmt=\"edf\", overwrite=True)\n",
      "/tmp/ipykernel_3734/3037979607.py:81: RuntimeWarning: EDF format requires equal-length data blocks, so 0.996 seconds of edge values were appended to all channels when writing the final block.\n",
      "  raw_crop.export(save_path, fmt=\"edf\", overwrite=True)\n",
      "/tmp/ipykernel_3734/3037979607.py:81: RuntimeWarning: EDF format requires equal-length data blocks, so 0.996 seconds of edge values were appended to all channels when writing the final block.\n",
      "  raw_crop.export(save_path, fmt=\"edf\", overwrite=True)\n",
      "/tmp/ipykernel_3734/3037979607.py:81: RuntimeWarning: EDF format requires equal-length data blocks, so 0.996 seconds of edge values were appended to all channels when writing the final block.\n",
      "  raw_crop.export(save_path, fmt=\"edf\", overwrite=True)\n",
      "/tmp/ipykernel_3734/3037979607.py:52: RuntimeWarning: EDF format requires equal-length data blocks, so 0.996 seconds of edge values were appended to all channels when writing the final block.\n",
      "  segment.export(save_path, fmt='edf')\n",
      "/tmp/ipykernel_3734/3037979607.py:52: RuntimeWarning: EDF format requires equal-length data blocks, so 0.996 seconds of edge values were appended to all channels when writing the final block.\n",
      "  segment.export(save_path, fmt='edf')\n"
     ]
    },
    {
     "name": "stdout",
     "output_type": "stream",
     "text": [
      "Normal segments saved for chb15_63.edf\n",
      "  → saved: chb03_01_seizure_1.edf\n",
      "  → saved: chb03_02_seizure_1.edf\n"
     ]
    },
    {
     "name": "stderr",
     "output_type": "stream",
     "text": [
      "/tmp/ipykernel_3734/3037979607.py:52: RuntimeWarning: EDF format requires equal-length data blocks, so 0.996 seconds of edge values were appended to all channels when writing the final block.\n",
      "  segment.export(save_path, fmt='edf')\n",
      "/tmp/ipykernel_3734/3037979607.py:52: RuntimeWarning: EDF format requires equal-length data blocks, so 0.996 seconds of edge values were appended to all channels when writing the final block.\n",
      "  segment.export(save_path, fmt='edf')\n",
      "/tmp/ipykernel_3734/3037979607.py:81: RuntimeWarning: EDF format requires equal-length data blocks, so 0.996 seconds of edge values were appended to all channels when writing the final block.\n",
      "  raw_crop.export(save_path, fmt=\"edf\", overwrite=True)\n",
      "/tmp/ipykernel_3734/3037979607.py:81: RuntimeWarning: EDF format requires equal-length data blocks, so 0.996 seconds of edge values were appended to all channels when writing the final block.\n",
      "  raw_crop.export(save_path, fmt=\"edf\", overwrite=True)\n"
     ]
    },
    {
     "name": "stdout",
     "output_type": "stream",
     "text": [
      "  → saved: chb03_03_seizure_1.edf\n",
      "  → saved: chb03_04_seizure_1.edf\n"
     ]
    },
    {
     "name": "stderr",
     "output_type": "stream",
     "text": [
      "/tmp/ipykernel_3734/3037979607.py:81: RuntimeWarning: EDF format requires equal-length data blocks, so 0.996 seconds of edge values were appended to all channels when writing the final block.\n",
      "  raw_crop.export(save_path, fmt=\"edf\", overwrite=True)\n",
      "/tmp/ipykernel_3734/3037979607.py:81: RuntimeWarning: EDF format requires equal-length data blocks, so 0.996 seconds of edge values were appended to all channels when writing the final block.\n",
      "  raw_crop.export(save_path, fmt=\"edf\", overwrite=True)\n",
      "/tmp/ipykernel_3734/3037979607.py:81: RuntimeWarning: EDF format requires equal-length data blocks, so 0.996 seconds of edge values were appended to all channels when writing the final block.\n",
      "  raw_crop.export(save_path, fmt=\"edf\", overwrite=True)\n",
      "/tmp/ipykernel_3734/3037979607.py:81: RuntimeWarning: EDF format requires equal-length data blocks, so 0.996 seconds of edge values were appended to all channels when writing the final block.\n",
      "  raw_crop.export(save_path, fmt=\"edf\", overwrite=True)\n",
      "/tmp/ipykernel_3734/3037979607.py:81: RuntimeWarning: EDF format requires equal-length data blocks, so 0.996 seconds of edge values were appended to all channels when writing the final block.\n",
      "  raw_crop.export(save_path, fmt=\"edf\", overwrite=True)\n",
      "/tmp/ipykernel_3734/3037979607.py:81: RuntimeWarning: EDF format requires equal-length data blocks, so 0.996 seconds of edge values were appended to all channels when writing the final block.\n",
      "  raw_crop.export(save_path, fmt=\"edf\", overwrite=True)\n",
      "/tmp/ipykernel_3734/3037979607.py:81: RuntimeWarning: EDF format requires equal-length data blocks, so 0.996 seconds of edge values were appended to all channels when writing the final block.\n",
      "  raw_crop.export(save_path, fmt=\"edf\", overwrite=True)\n",
      "/tmp/ipykernel_3734/3037979607.py:81: RuntimeWarning: EDF format requires equal-length data blocks, so 0.996 seconds of edge values were appended to all channels when writing the final block.\n",
      "  raw_crop.export(save_path, fmt=\"edf\", overwrite=True)\n"
     ]
    },
    {
     "name": "stdout",
     "output_type": "stream",
     "text": [
      "Normal segments saved for chb03_05.edf\n",
      "Normal segments saved for chb03_06.edf\n"
     ]
    },
    {
     "name": "stderr",
     "output_type": "stream",
     "text": [
      "/tmp/ipykernel_3734/3037979607.py:81: RuntimeWarning: EDF format requires equal-length data blocks, so 0.996 seconds of edge values were appended to all channels when writing the final block.\n",
      "  raw_crop.export(save_path, fmt=\"edf\", overwrite=True)\n",
      "/tmp/ipykernel_3734/3037979607.py:81: RuntimeWarning: EDF format requires equal-length data blocks, so 0.996 seconds of edge values were appended to all channels when writing the final block.\n",
      "  raw_crop.export(save_path, fmt=\"edf\", overwrite=True)\n",
      "/tmp/ipykernel_3734/3037979607.py:81: RuntimeWarning: EDF format requires equal-length data blocks, so 0.996 seconds of edge values were appended to all channels when writing the final block.\n",
      "  raw_crop.export(save_path, fmt=\"edf\", overwrite=True)\n",
      "/tmp/ipykernel_3734/3037979607.py:81: RuntimeWarning: EDF format requires equal-length data blocks, so 0.996 seconds of edge values were appended to all channels when writing the final block.\n",
      "  raw_crop.export(save_path, fmt=\"edf\", overwrite=True)\n",
      "/tmp/ipykernel_3734/3037979607.py:81: RuntimeWarning: EDF format requires equal-length data blocks, so 0.996 seconds of edge values were appended to all channels when writing the final block.\n",
      "  raw_crop.export(save_path, fmt=\"edf\", overwrite=True)\n",
      "/tmp/ipykernel_3734/3037979607.py:81: RuntimeWarning: EDF format requires equal-length data blocks, so 0.996 seconds of edge values were appended to all channels when writing the final block.\n",
      "  raw_crop.export(save_path, fmt=\"edf\", overwrite=True)\n",
      "/tmp/ipykernel_3734/3037979607.py:81: RuntimeWarning: EDF format requires equal-length data blocks, so 0.996 seconds of edge values were appended to all channels when writing the final block.\n",
      "  raw_crop.export(save_path, fmt=\"edf\", overwrite=True)\n",
      "/tmp/ipykernel_3734/3037979607.py:81: RuntimeWarning: EDF format requires equal-length data blocks, so 0.996 seconds of edge values were appended to all channels when writing the final block.\n",
      "  raw_crop.export(save_path, fmt=\"edf\", overwrite=True)\n"
     ]
    },
    {
     "name": "stdout",
     "output_type": "stream",
     "text": [
      "Normal segments saved for chb03_07.edf\n",
      "Normal segments saved for chb03_08.edf\n"
     ]
    },
    {
     "name": "stderr",
     "output_type": "stream",
     "text": [
      "/tmp/ipykernel_3734/3037979607.py:81: RuntimeWarning: EDF format requires equal-length data blocks, so 0.996 seconds of edge values were appended to all channels when writing the final block.\n",
      "  raw_crop.export(save_path, fmt=\"edf\", overwrite=True)\n",
      "/tmp/ipykernel_3734/3037979607.py:81: RuntimeWarning: EDF format requires equal-length data blocks, so 0.996 seconds of edge values were appended to all channels when writing the final block.\n",
      "  raw_crop.export(save_path, fmt=\"edf\", overwrite=True)\n",
      "/tmp/ipykernel_3734/3037979607.py:81: RuntimeWarning: EDF format requires equal-length data blocks, so 0.996 seconds of edge values were appended to all channels when writing the final block.\n",
      "  raw_crop.export(save_path, fmt=\"edf\", overwrite=True)\n",
      "/tmp/ipykernel_3734/3037979607.py:81: RuntimeWarning: EDF format requires equal-length data blocks, so 0.996 seconds of edge values were appended to all channels when writing the final block.\n",
      "  raw_crop.export(save_path, fmt=\"edf\", overwrite=True)\n",
      "/tmp/ipykernel_3734/3037979607.py:81: RuntimeWarning: EDF format requires equal-length data blocks, so 0.996 seconds of edge values were appended to all channels when writing the final block.\n",
      "  raw_crop.export(save_path, fmt=\"edf\", overwrite=True)\n",
      "/tmp/ipykernel_3734/3037979607.py:81: RuntimeWarning: EDF format requires equal-length data blocks, so 0.996 seconds of edge values were appended to all channels when writing the final block.\n",
      "  raw_crop.export(save_path, fmt=\"edf\", overwrite=True)\n",
      "/tmp/ipykernel_3734/3037979607.py:81: RuntimeWarning: EDF format requires equal-length data blocks, so 0.996 seconds of edge values were appended to all channels when writing the final block.\n",
      "  raw_crop.export(save_path, fmt=\"edf\", overwrite=True)\n"
     ]
    },
    {
     "name": "stdout",
     "output_type": "stream",
     "text": [
      "Normal segments saved for chb03_09.edf\n",
      "Normal segments saved for chb03_10.edf\n"
     ]
    },
    {
     "name": "stderr",
     "output_type": "stream",
     "text": [
      "/tmp/ipykernel_3734/3037979607.py:81: RuntimeWarning: EDF format requires equal-length data blocks, so 0.996 seconds of edge values were appended to all channels when writing the final block.\n",
      "  raw_crop.export(save_path, fmt=\"edf\", overwrite=True)\n",
      "/tmp/ipykernel_3734/3037979607.py:81: RuntimeWarning: EDF format requires equal-length data blocks, so 0.996 seconds of edge values were appended to all channels when writing the final block.\n",
      "  raw_crop.export(save_path, fmt=\"edf\", overwrite=True)\n",
      "/tmp/ipykernel_3734/3037979607.py:81: RuntimeWarning: EDF format requires equal-length data blocks, so 0.996 seconds of edge values were appended to all channels when writing the final block.\n",
      "  raw_crop.export(save_path, fmt=\"edf\", overwrite=True)\n",
      "/tmp/ipykernel_3734/3037979607.py:81: RuntimeWarning: EDF format requires equal-length data blocks, so 0.996 seconds of edge values were appended to all channels when writing the final block.\n",
      "  raw_crop.export(save_path, fmt=\"edf\", overwrite=True)\n",
      "/tmp/ipykernel_3734/3037979607.py:81: RuntimeWarning: EDF format requires equal-length data blocks, so 0.996 seconds of edge values were appended to all channels when writing the final block.\n",
      "  raw_crop.export(save_path, fmt=\"edf\", overwrite=True)\n",
      "/tmp/ipykernel_3734/3037979607.py:81: RuntimeWarning: EDF format requires equal-length data blocks, so 0.996 seconds of edge values were appended to all channels when writing the final block.\n",
      "  raw_crop.export(save_path, fmt=\"edf\", overwrite=True)\n",
      "/tmp/ipykernel_3734/3037979607.py:81: RuntimeWarning: EDF format requires equal-length data blocks, so 0.996 seconds of edge values were appended to all channels when writing the final block.\n",
      "  raw_crop.export(save_path, fmt=\"edf\", overwrite=True)\n",
      "/tmp/ipykernel_3734/3037979607.py:81: RuntimeWarning: EDF format requires equal-length data blocks, so 0.996 seconds of edge values were appended to all channels when writing the final block.\n",
      "  raw_crop.export(save_path, fmt=\"edf\", overwrite=True)\n",
      "/tmp/ipykernel_3734/3037979607.py:81: RuntimeWarning: EDF format requires equal-length data blocks, so 0.996 seconds of edge values were appended to all channels when writing the final block.\n",
      "  raw_crop.export(save_path, fmt=\"edf\", overwrite=True)\n",
      "/tmp/ipykernel_3734/3037979607.py:81: RuntimeWarning: EDF format requires equal-length data blocks, so 0.996 seconds of edge values were appended to all channels when writing the final block.\n",
      "  raw_crop.export(save_path, fmt=\"edf\", overwrite=True)\n",
      "/tmp/ipykernel_3734/3037979607.py:81: RuntimeWarning: EDF format requires equal-length data blocks, so 0.996 seconds of edge values were appended to all channels when writing the final block.\n",
      "  raw_crop.export(save_path, fmt=\"edf\", overwrite=True)\n",
      "/tmp/ipykernel_3734/3037979607.py:81: RuntimeWarning: EDF format requires equal-length data blocks, so 0.996 seconds of edge values were appended to all channels when writing the final block.\n",
      "  raw_crop.export(save_path, fmt=\"edf\", overwrite=True)\n",
      "/tmp/ipykernel_3734/3037979607.py:81: RuntimeWarning: EDF format requires equal-length data blocks, so 0.996 seconds of edge values were appended to all channels when writing the final block.\n",
      "  raw_crop.export(save_path, fmt=\"edf\", overwrite=True)\n",
      "/tmp/ipykernel_3734/3037979607.py:81: RuntimeWarning: EDF format requires equal-length data blocks, so 0.996 seconds of edge values were appended to all channels when writing the final block.\n",
      "  raw_crop.export(save_path, fmt=\"edf\", overwrite=True)\n",
      "/tmp/ipykernel_3734/3037979607.py:81: RuntimeWarning: EDF format requires equal-length data blocks, so 0.996 seconds of edge values were appended to all channels when writing the final block.\n",
      "  raw_crop.export(save_path, fmt=\"edf\", overwrite=True)\n"
     ]
    },
    {
     "name": "stdout",
     "output_type": "stream",
     "text": [
      "Normal segments saved for chb03_11.edf\n",
      "Normal segments saved for chb03_12.edf\n"
     ]
    },
    {
     "name": "stderr",
     "output_type": "stream",
     "text": [
      "/tmp/ipykernel_3734/3037979607.py:81: RuntimeWarning: EDF format requires equal-length data blocks, so 0.996 seconds of edge values were appended to all channels when writing the final block.\n",
      "  raw_crop.export(save_path, fmt=\"edf\", overwrite=True)\n",
      "/tmp/ipykernel_3734/3037979607.py:81: RuntimeWarning: EDF format requires equal-length data blocks, so 0.996 seconds of edge values were appended to all channels when writing the final block.\n",
      "  raw_crop.export(save_path, fmt=\"edf\", overwrite=True)\n",
      "/tmp/ipykernel_3734/3037979607.py:81: RuntimeWarning: EDF format requires equal-length data blocks, so 0.996 seconds of edge values were appended to all channels when writing the final block.\n",
      "  raw_crop.export(save_path, fmt=\"edf\", overwrite=True)\n",
      "/tmp/ipykernel_3734/3037979607.py:81: RuntimeWarning: EDF format requires equal-length data blocks, so 0.996 seconds of edge values were appended to all channels when writing the final block.\n",
      "  raw_crop.export(save_path, fmt=\"edf\", overwrite=True)\n",
      "/tmp/ipykernel_3734/3037979607.py:81: RuntimeWarning: EDF format requires equal-length data blocks, so 0.996 seconds of edge values were appended to all channels when writing the final block.\n",
      "  raw_crop.export(save_path, fmt=\"edf\", overwrite=True)\n",
      "/tmp/ipykernel_3734/3037979607.py:81: RuntimeWarning: EDF format requires equal-length data blocks, so 0.996 seconds of edge values were appended to all channels when writing the final block.\n",
      "  raw_crop.export(save_path, fmt=\"edf\", overwrite=True)\n",
      "/tmp/ipykernel_3734/3037979607.py:81: RuntimeWarning: EDF format requires equal-length data blocks, so 0.996 seconds of edge values were appended to all channels when writing the final block.\n",
      "  raw_crop.export(save_path, fmt=\"edf\", overwrite=True)\n",
      "/tmp/ipykernel_3734/3037979607.py:81: RuntimeWarning: EDF format requires equal-length data blocks, so 0.996 seconds of edge values were appended to all channels when writing the final block.\n",
      "  raw_crop.export(save_path, fmt=\"edf\", overwrite=True)\n"
     ]
    },
    {
     "name": "stdout",
     "output_type": "stream",
     "text": [
      "Normal segments saved for chb03_13.edf\n",
      "Normal segments saved for chb03_14.edf\n"
     ]
    },
    {
     "name": "stderr",
     "output_type": "stream",
     "text": [
      "/tmp/ipykernel_3734/3037979607.py:81: RuntimeWarning: EDF format requires equal-length data blocks, so 0.996 seconds of edge values were appended to all channels when writing the final block.\n",
      "  raw_crop.export(save_path, fmt=\"edf\", overwrite=True)\n",
      "/tmp/ipykernel_3734/3037979607.py:81: RuntimeWarning: EDF format requires equal-length data blocks, so 0.996 seconds of edge values were appended to all channels when writing the final block.\n",
      "  raw_crop.export(save_path, fmt=\"edf\", overwrite=True)\n",
      "/tmp/ipykernel_3734/3037979607.py:81: RuntimeWarning: EDF format requires equal-length data blocks, so 0.996 seconds of edge values were appended to all channels when writing the final block.\n",
      "  raw_crop.export(save_path, fmt=\"edf\", overwrite=True)\n",
      "/tmp/ipykernel_3734/3037979607.py:81: RuntimeWarning: EDF format requires equal-length data blocks, so 0.996 seconds of edge values were appended to all channels when writing the final block.\n",
      "  raw_crop.export(save_path, fmt=\"edf\", overwrite=True)\n",
      "/tmp/ipykernel_3734/3037979607.py:81: RuntimeWarning: EDF format requires equal-length data blocks, so 0.996 seconds of edge values were appended to all channels when writing the final block.\n",
      "  raw_crop.export(save_path, fmt=\"edf\", overwrite=True)\n",
      "/tmp/ipykernel_3734/3037979607.py:81: RuntimeWarning: EDF format requires equal-length data blocks, so 0.996 seconds of edge values were appended to all channels when writing the final block.\n",
      "  raw_crop.export(save_path, fmt=\"edf\", overwrite=True)\n",
      "/tmp/ipykernel_3734/3037979607.py:81: RuntimeWarning: EDF format requires equal-length data blocks, so 0.996 seconds of edge values were appended to all channels when writing the final block.\n",
      "  raw_crop.export(save_path, fmt=\"edf\", overwrite=True)\n"
     ]
    },
    {
     "name": "stdout",
     "output_type": "stream",
     "text": [
      "Normal segments saved for chb03_15.edf\n",
      "Normal segments saved for chb03_16.edf\n"
     ]
    },
    {
     "name": "stderr",
     "output_type": "stream",
     "text": [
      "/tmp/ipykernel_3734/3037979607.py:81: RuntimeWarning: EDF format requires equal-length data blocks, so 0.996 seconds of edge values were appended to all channels when writing the final block.\n",
      "  raw_crop.export(save_path, fmt=\"edf\", overwrite=True)\n",
      "/tmp/ipykernel_3734/3037979607.py:81: RuntimeWarning: EDF format requires equal-length data blocks, so 0.996 seconds of edge values were appended to all channels when writing the final block.\n",
      "  raw_crop.export(save_path, fmt=\"edf\", overwrite=True)\n",
      "/tmp/ipykernel_3734/3037979607.py:81: RuntimeWarning: EDF format requires equal-length data blocks, so 0.996 seconds of edge values were appended to all channels when writing the final block.\n",
      "  raw_crop.export(save_path, fmt=\"edf\", overwrite=True)\n",
      "/tmp/ipykernel_3734/3037979607.py:81: RuntimeWarning: EDF format requires equal-length data blocks, so 0.996 seconds of edge values were appended to all channels when writing the final block.\n",
      "  raw_crop.export(save_path, fmt=\"edf\", overwrite=True)\n",
      "/tmp/ipykernel_3734/3037979607.py:81: RuntimeWarning: EDF format requires equal-length data blocks, so 0.996 seconds of edge values were appended to all channels when writing the final block.\n",
      "  raw_crop.export(save_path, fmt=\"edf\", overwrite=True)\n",
      "/tmp/ipykernel_3734/3037979607.py:81: RuntimeWarning: EDF format requires equal-length data blocks, so 0.996 seconds of edge values were appended to all channels when writing the final block.\n",
      "  raw_crop.export(save_path, fmt=\"edf\", overwrite=True)\n",
      "/tmp/ipykernel_3734/3037979607.py:81: RuntimeWarning: EDF format requires equal-length data blocks, so 0.996 seconds of edge values were appended to all channels when writing the final block.\n",
      "  raw_crop.export(save_path, fmt=\"edf\", overwrite=True)\n",
      "/tmp/ipykernel_3734/3037979607.py:81: RuntimeWarning: EDF format requires equal-length data blocks, so 0.996 seconds of edge values were appended to all channels when writing the final block.\n",
      "  raw_crop.export(save_path, fmt=\"edf\", overwrite=True)\n",
      "/tmp/ipykernel_3734/3037979607.py:81: RuntimeWarning: EDF format requires equal-length data blocks, so 0.996 seconds of edge values were appended to all channels when writing the final block.\n",
      "  raw_crop.export(save_path, fmt=\"edf\", overwrite=True)\n",
      "/tmp/ipykernel_3734/3037979607.py:81: RuntimeWarning: EDF format requires equal-length data blocks, so 0.996 seconds of edge values were appended to all channels when writing the final block.\n",
      "  raw_crop.export(save_path, fmt=\"edf\", overwrite=True)\n",
      "/tmp/ipykernel_3734/3037979607.py:81: RuntimeWarning: EDF format requires equal-length data blocks, so 0.996 seconds of edge values were appended to all channels when writing the final block.\n",
      "  raw_crop.export(save_path, fmt=\"edf\", overwrite=True)\n",
      "/tmp/ipykernel_3734/3037979607.py:81: RuntimeWarning: EDF format requires equal-length data blocks, so 0.996 seconds of edge values were appended to all channels when writing the final block.\n",
      "  raw_crop.export(save_path, fmt=\"edf\", overwrite=True)\n",
      "/tmp/ipykernel_3734/3037979607.py:81: RuntimeWarning: EDF format requires equal-length data blocks, so 0.996 seconds of edge values were appended to all channels when writing the final block.\n",
      "  raw_crop.export(save_path, fmt=\"edf\", overwrite=True)\n",
      "/tmp/ipykernel_3734/3037979607.py:81: RuntimeWarning: EDF format requires equal-length data blocks, so 0.996 seconds of edge values were appended to all channels when writing the final block.\n",
      "  raw_crop.export(save_path, fmt=\"edf\", overwrite=True)\n",
      "/tmp/ipykernel_3734/3037979607.py:81: RuntimeWarning: EDF format requires equal-length data blocks, so 0.996 seconds of edge values were appended to all channels when writing the final block.\n",
      "  raw_crop.export(save_path, fmt=\"edf\", overwrite=True)\n"
     ]
    },
    {
     "name": "stdout",
     "output_type": "stream",
     "text": [
      "Normal segments saved for chb03_17.edf\n",
      "Normal segments saved for chb03_18.edf\n"
     ]
    },
    {
     "name": "stderr",
     "output_type": "stream",
     "text": [
      "/tmp/ipykernel_3734/3037979607.py:81: RuntimeWarning: EDF format requires equal-length data blocks, so 0.996 seconds of edge values were appended to all channels when writing the final block.\n",
      "  raw_crop.export(save_path, fmt=\"edf\", overwrite=True)\n",
      "/tmp/ipykernel_3734/3037979607.py:81: RuntimeWarning: EDF format requires equal-length data blocks, so 0.996 seconds of edge values were appended to all channels when writing the final block.\n",
      "  raw_crop.export(save_path, fmt=\"edf\", overwrite=True)\n",
      "/tmp/ipykernel_3734/3037979607.py:81: RuntimeWarning: EDF format requires equal-length data blocks, so 0.996 seconds of edge values were appended to all channels when writing the final block.\n",
      "  raw_crop.export(save_path, fmt=\"edf\", overwrite=True)\n",
      "/tmp/ipykernel_3734/3037979607.py:81: RuntimeWarning: EDF format requires equal-length data blocks, so 0.996 seconds of edge values were appended to all channels when writing the final block.\n",
      "  raw_crop.export(save_path, fmt=\"edf\", overwrite=True)\n",
      "/tmp/ipykernel_3734/3037979607.py:81: RuntimeWarning: EDF format requires equal-length data blocks, so 0.996 seconds of edge values were appended to all channels when writing the final block.\n",
      "  raw_crop.export(save_path, fmt=\"edf\", overwrite=True)\n",
      "/tmp/ipykernel_3734/3037979607.py:81: RuntimeWarning: EDF format requires equal-length data blocks, so 0.996 seconds of edge values were appended to all channels when writing the final block.\n",
      "  raw_crop.export(save_path, fmt=\"edf\", overwrite=True)\n",
      "/tmp/ipykernel_3734/3037979607.py:81: RuntimeWarning: EDF format requires equal-length data blocks, so 0.996 seconds of edge values were appended to all channels when writing the final block.\n",
      "  raw_crop.export(save_path, fmt=\"edf\", overwrite=True)\n",
      "/tmp/ipykernel_3734/3037979607.py:81: RuntimeWarning: EDF format requires equal-length data blocks, so 0.996 seconds of edge values were appended to all channels when writing the final block.\n",
      "  raw_crop.export(save_path, fmt=\"edf\", overwrite=True)\n"
     ]
    },
    {
     "name": "stdout",
     "output_type": "stream",
     "text": [
      "Normal segments saved for chb03_19.edf\n",
      "Normal segments saved for chb03_20.edf\n"
     ]
    },
    {
     "name": "stderr",
     "output_type": "stream",
     "text": [
      "/tmp/ipykernel_3734/3037979607.py:81: RuntimeWarning: EDF format requires equal-length data blocks, so 0.996 seconds of edge values were appended to all channels when writing the final block.\n",
      "  raw_crop.export(save_path, fmt=\"edf\", overwrite=True)\n",
      "/tmp/ipykernel_3734/3037979607.py:81: RuntimeWarning: EDF format requires equal-length data blocks, so 0.996 seconds of edge values were appended to all channels when writing the final block.\n",
      "  raw_crop.export(save_path, fmt=\"edf\", overwrite=True)\n",
      "/tmp/ipykernel_3734/3037979607.py:81: RuntimeWarning: EDF format requires equal-length data blocks, so 0.996 seconds of edge values were appended to all channels when writing the final block.\n",
      "  raw_crop.export(save_path, fmt=\"edf\", overwrite=True)\n",
      "/tmp/ipykernel_3734/3037979607.py:81: RuntimeWarning: EDF format requires equal-length data blocks, so 0.996 seconds of edge values were appended to all channels when writing the final block.\n",
      "  raw_crop.export(save_path, fmt=\"edf\", overwrite=True)\n",
      "/tmp/ipykernel_3734/3037979607.py:81: RuntimeWarning: EDF format requires equal-length data blocks, so 0.996 seconds of edge values were appended to all channels when writing the final block.\n",
      "  raw_crop.export(save_path, fmt=\"edf\", overwrite=True)\n",
      "/tmp/ipykernel_3734/3037979607.py:81: RuntimeWarning: EDF format requires equal-length data blocks, so 0.996 seconds of edge values were appended to all channels when writing the final block.\n",
      "  raw_crop.export(save_path, fmt=\"edf\", overwrite=True)\n",
      "/tmp/ipykernel_3734/3037979607.py:81: RuntimeWarning: EDF format requires equal-length data blocks, so 0.996 seconds of edge values were appended to all channels when writing the final block.\n",
      "  raw_crop.export(save_path, fmt=\"edf\", overwrite=True)\n"
     ]
    },
    {
     "name": "stdout",
     "output_type": "stream",
     "text": [
      "Normal segments saved for chb03_21.edf\n",
      "Normal segments saved for chb03_22.edf\n"
     ]
    },
    {
     "name": "stderr",
     "output_type": "stream",
     "text": [
      "/tmp/ipykernel_3734/3037979607.py:81: RuntimeWarning: EDF format requires equal-length data blocks, so 0.996 seconds of edge values were appended to all channels when writing the final block.\n",
      "  raw_crop.export(save_path, fmt=\"edf\", overwrite=True)\n",
      "/tmp/ipykernel_3734/3037979607.py:81: RuntimeWarning: EDF format requires equal-length data blocks, so 0.996 seconds of edge values were appended to all channels when writing the final block.\n",
      "  raw_crop.export(save_path, fmt=\"edf\", overwrite=True)\n",
      "/tmp/ipykernel_3734/3037979607.py:81: RuntimeWarning: EDF format requires equal-length data blocks, so 0.996 seconds of edge values were appended to all channels when writing the final block.\n",
      "  raw_crop.export(save_path, fmt=\"edf\", overwrite=True)\n",
      "/tmp/ipykernel_3734/3037979607.py:81: RuntimeWarning: EDF format requires equal-length data blocks, so 0.996 seconds of edge values were appended to all channels when writing the final block.\n",
      "  raw_crop.export(save_path, fmt=\"edf\", overwrite=True)\n",
      "/tmp/ipykernel_3734/3037979607.py:81: RuntimeWarning: EDF format requires equal-length data blocks, so 0.996 seconds of edge values were appended to all channels when writing the final block.\n",
      "  raw_crop.export(save_path, fmt=\"edf\", overwrite=True)\n",
      "/tmp/ipykernel_3734/3037979607.py:81: RuntimeWarning: EDF format requires equal-length data blocks, so 0.996 seconds of edge values were appended to all channels when writing the final block.\n",
      "  raw_crop.export(save_path, fmt=\"edf\", overwrite=True)\n",
      "/tmp/ipykernel_3734/3037979607.py:81: RuntimeWarning: EDF format requires equal-length data blocks, so 0.996 seconds of edge values were appended to all channels when writing the final block.\n",
      "  raw_crop.export(save_path, fmt=\"edf\", overwrite=True)\n",
      "/tmp/ipykernel_3734/3037979607.py:81: RuntimeWarning: EDF format requires equal-length data blocks, so 0.996 seconds of edge values were appended to all channels when writing the final block.\n",
      "  raw_crop.export(save_path, fmt=\"edf\", overwrite=True)\n",
      "/tmp/ipykernel_3734/3037979607.py:81: RuntimeWarning: EDF format requires equal-length data blocks, so 0.996 seconds of edge values were appended to all channels when writing the final block.\n",
      "  raw_crop.export(save_path, fmt=\"edf\", overwrite=True)\n",
      "/tmp/ipykernel_3734/3037979607.py:81: RuntimeWarning: EDF format requires equal-length data blocks, so 0.996 seconds of edge values were appended to all channels when writing the final block.\n",
      "  raw_crop.export(save_path, fmt=\"edf\", overwrite=True)\n",
      "/tmp/ipykernel_3734/3037979607.py:81: RuntimeWarning: EDF format requires equal-length data blocks, so 0.996 seconds of edge values were appended to all channels when writing the final block.\n",
      "  raw_crop.export(save_path, fmt=\"edf\", overwrite=True)\n",
      "/tmp/ipykernel_3734/3037979607.py:81: RuntimeWarning: EDF format requires equal-length data blocks, so 0.996 seconds of edge values were appended to all channels when writing the final block.\n",
      "  raw_crop.export(save_path, fmt=\"edf\", overwrite=True)\n",
      "/tmp/ipykernel_3734/3037979607.py:81: RuntimeWarning: EDF format requires equal-length data blocks, so 0.996 seconds of edge values were appended to all channels when writing the final block.\n",
      "  raw_crop.export(save_path, fmt=\"edf\", overwrite=True)\n",
      "/tmp/ipykernel_3734/3037979607.py:81: RuntimeWarning: EDF format requires equal-length data blocks, so 0.996 seconds of edge values were appended to all channels when writing the final block.\n",
      "  raw_crop.export(save_path, fmt=\"edf\", overwrite=True)\n",
      "/tmp/ipykernel_3734/3037979607.py:81: RuntimeWarning: EDF format requires equal-length data blocks, so 0.996 seconds of edge values were appended to all channels when writing the final block.\n",
      "  raw_crop.export(save_path, fmt=\"edf\", overwrite=True)\n"
     ]
    },
    {
     "name": "stdout",
     "output_type": "stream",
     "text": [
      "Normal segments saved for chb03_23.edf\n",
      "Normal segments saved for chb03_24.edf\n"
     ]
    },
    {
     "name": "stderr",
     "output_type": "stream",
     "text": [
      "/tmp/ipykernel_3734/3037979607.py:81: RuntimeWarning: EDF format requires equal-length data blocks, so 0.996 seconds of edge values were appended to all channels when writing the final block.\n",
      "  raw_crop.export(save_path, fmt=\"edf\", overwrite=True)\n",
      "/tmp/ipykernel_3734/3037979607.py:81: RuntimeWarning: EDF format requires equal-length data blocks, so 0.996 seconds of edge values were appended to all channels when writing the final block.\n",
      "  raw_crop.export(save_path, fmt=\"edf\", overwrite=True)\n",
      "/tmp/ipykernel_3734/3037979607.py:81: RuntimeWarning: EDF format requires equal-length data blocks, so 0.996 seconds of edge values were appended to all channels when writing the final block.\n",
      "  raw_crop.export(save_path, fmt=\"edf\", overwrite=True)\n",
      "/tmp/ipykernel_3734/3037979607.py:81: RuntimeWarning: EDF format requires equal-length data blocks, so 0.996 seconds of edge values were appended to all channels when writing the final block.\n",
      "  raw_crop.export(save_path, fmt=\"edf\", overwrite=True)\n",
      "/tmp/ipykernel_3734/3037979607.py:81: RuntimeWarning: EDF format requires equal-length data blocks, so 0.996 seconds of edge values were appended to all channels when writing the final block.\n",
      "  raw_crop.export(save_path, fmt=\"edf\", overwrite=True)\n",
      "/tmp/ipykernel_3734/3037979607.py:81: RuntimeWarning: EDF format requires equal-length data blocks, so 0.996 seconds of edge values were appended to all channels when writing the final block.\n",
      "  raw_crop.export(save_path, fmt=\"edf\", overwrite=True)\n",
      "/tmp/ipykernel_3734/3037979607.py:81: RuntimeWarning: EDF format requires equal-length data blocks, so 0.996 seconds of edge values were appended to all channels when writing the final block.\n",
      "  raw_crop.export(save_path, fmt=\"edf\", overwrite=True)\n",
      "/tmp/ipykernel_3734/3037979607.py:81: RuntimeWarning: EDF format requires equal-length data blocks, so 0.996 seconds of edge values were appended to all channels when writing the final block.\n",
      "  raw_crop.export(save_path, fmt=\"edf\", overwrite=True)\n"
     ]
    },
    {
     "name": "stdout",
     "output_type": "stream",
     "text": [
      "Normal segments saved for chb03_25.edf\n",
      "Normal segments saved for chb03_26.edf\n"
     ]
    },
    {
     "name": "stderr",
     "output_type": "stream",
     "text": [
      "/tmp/ipykernel_3734/3037979607.py:81: RuntimeWarning: EDF format requires equal-length data blocks, so 0.996 seconds of edge values were appended to all channels when writing the final block.\n",
      "  raw_crop.export(save_path, fmt=\"edf\", overwrite=True)\n",
      "/tmp/ipykernel_3734/3037979607.py:81: RuntimeWarning: EDF format requires equal-length data blocks, so 0.996 seconds of edge values were appended to all channels when writing the final block.\n",
      "  raw_crop.export(save_path, fmt=\"edf\", overwrite=True)\n",
      "/tmp/ipykernel_3734/3037979607.py:81: RuntimeWarning: EDF format requires equal-length data blocks, so 0.996 seconds of edge values were appended to all channels when writing the final block.\n",
      "  raw_crop.export(save_path, fmt=\"edf\", overwrite=True)\n",
      "/tmp/ipykernel_3734/3037979607.py:81: RuntimeWarning: EDF format requires equal-length data blocks, so 0.996 seconds of edge values were appended to all channels when writing the final block.\n",
      "  raw_crop.export(save_path, fmt=\"edf\", overwrite=True)\n",
      "/tmp/ipykernel_3734/3037979607.py:81: RuntimeWarning: EDF format requires equal-length data blocks, so 0.996 seconds of edge values were appended to all channels when writing the final block.\n",
      "  raw_crop.export(save_path, fmt=\"edf\", overwrite=True)\n",
      "/tmp/ipykernel_3734/3037979607.py:81: RuntimeWarning: EDF format requires equal-length data blocks, so 0.996 seconds of edge values were appended to all channels when writing the final block.\n",
      "  raw_crop.export(save_path, fmt=\"edf\", overwrite=True)\n",
      "/tmp/ipykernel_3734/3037979607.py:81: RuntimeWarning: EDF format requires equal-length data blocks, so 0.996 seconds of edge values were appended to all channels when writing the final block.\n",
      "  raw_crop.export(save_path, fmt=\"edf\", overwrite=True)\n"
     ]
    },
    {
     "name": "stdout",
     "output_type": "stream",
     "text": [
      "Normal segments saved for chb03_27.edf\n",
      "Normal segments saved for chb03_28.edf\n"
     ]
    },
    {
     "name": "stderr",
     "output_type": "stream",
     "text": [
      "/tmp/ipykernel_3734/3037979607.py:81: RuntimeWarning: EDF format requires equal-length data blocks, so 0.996 seconds of edge values were appended to all channels when writing the final block.\n",
      "  raw_crop.export(save_path, fmt=\"edf\", overwrite=True)\n",
      "/tmp/ipykernel_3734/3037979607.py:81: RuntimeWarning: EDF format requires equal-length data blocks, so 0.996 seconds of edge values were appended to all channels when writing the final block.\n",
      "  raw_crop.export(save_path, fmt=\"edf\", overwrite=True)\n",
      "/tmp/ipykernel_3734/3037979607.py:81: RuntimeWarning: EDF format requires equal-length data blocks, so 0.996 seconds of edge values were appended to all channels when writing the final block.\n",
      "  raw_crop.export(save_path, fmt=\"edf\", overwrite=True)\n",
      "/tmp/ipykernel_3734/3037979607.py:81: RuntimeWarning: EDF format requires equal-length data blocks, so 0.996 seconds of edge values were appended to all channels when writing the final block.\n",
      "  raw_crop.export(save_path, fmt=\"edf\", overwrite=True)\n",
      "/tmp/ipykernel_3734/3037979607.py:81: RuntimeWarning: EDF format requires equal-length data blocks, so 0.996 seconds of edge values were appended to all channels when writing the final block.\n",
      "  raw_crop.export(save_path, fmt=\"edf\", overwrite=True)\n",
      "/tmp/ipykernel_3734/3037979607.py:81: RuntimeWarning: EDF format requires equal-length data blocks, so 0.996 seconds of edge values were appended to all channels when writing the final block.\n",
      "  raw_crop.export(save_path, fmt=\"edf\", overwrite=True)\n",
      "/tmp/ipykernel_3734/3037979607.py:81: RuntimeWarning: EDF format requires equal-length data blocks, so 0.996 seconds of edge values were appended to all channels when writing the final block.\n",
      "  raw_crop.export(save_path, fmt=\"edf\", overwrite=True)\n",
      "/tmp/ipykernel_3734/3037979607.py:81: RuntimeWarning: EDF format requires equal-length data blocks, so 0.996 seconds of edge values were appended to all channels when writing the final block.\n",
      "  raw_crop.export(save_path, fmt=\"edf\", overwrite=True)\n",
      "/tmp/ipykernel_3734/3037979607.py:81: RuntimeWarning: EDF format requires equal-length data blocks, so 0.996 seconds of edge values were appended to all channels when writing the final block.\n",
      "  raw_crop.export(save_path, fmt=\"edf\", overwrite=True)\n",
      "/tmp/ipykernel_3734/3037979607.py:81: RuntimeWarning: EDF format requires equal-length data blocks, so 0.996 seconds of edge values were appended to all channels when writing the final block.\n",
      "  raw_crop.export(save_path, fmt=\"edf\", overwrite=True)\n",
      "/tmp/ipykernel_3734/3037979607.py:81: RuntimeWarning: EDF format requires equal-length data blocks, so 0.996 seconds of edge values were appended to all channels when writing the final block.\n",
      "  raw_crop.export(save_path, fmt=\"edf\", overwrite=True)\n",
      "/tmp/ipykernel_3734/3037979607.py:81: RuntimeWarning: EDF format requires equal-length data blocks, so 0.996 seconds of edge values were appended to all channels when writing the final block.\n",
      "  raw_crop.export(save_path, fmt=\"edf\", overwrite=True)\n",
      "/tmp/ipykernel_3734/3037979607.py:81: RuntimeWarning: EDF format requires equal-length data blocks, so 0.996 seconds of edge values were appended to all channels when writing the final block.\n",
      "  raw_crop.export(save_path, fmt=\"edf\", overwrite=True)\n",
      "/tmp/ipykernel_3734/3037979607.py:81: RuntimeWarning: EDF format requires equal-length data blocks, so 0.996 seconds of edge values were appended to all channels when writing the final block.\n",
      "  raw_crop.export(save_path, fmt=\"edf\", overwrite=True)\n",
      "/tmp/ipykernel_3734/3037979607.py:81: RuntimeWarning: EDF format requires equal-length data blocks, so 0.996 seconds of edge values were appended to all channels when writing the final block.\n",
      "  raw_crop.export(save_path, fmt=\"edf\", overwrite=True)\n"
     ]
    },
    {
     "name": "stdout",
     "output_type": "stream",
     "text": [
      "Normal segments saved for chb03_29.edf\n",
      "Normal segments saved for chb03_30.edf\n"
     ]
    },
    {
     "name": "stderr",
     "output_type": "stream",
     "text": [
      "/tmp/ipykernel_3734/3037979607.py:81: RuntimeWarning: EDF format requires equal-length data blocks, so 0.996 seconds of edge values were appended to all channels when writing the final block.\n",
      "  raw_crop.export(save_path, fmt=\"edf\", overwrite=True)\n",
      "/tmp/ipykernel_3734/3037979607.py:81: RuntimeWarning: EDF format requires equal-length data blocks, so 0.996 seconds of edge values were appended to all channels when writing the final block.\n",
      "  raw_crop.export(save_path, fmt=\"edf\", overwrite=True)\n",
      "/tmp/ipykernel_3734/3037979607.py:81: RuntimeWarning: EDF format requires equal-length data blocks, so 0.996 seconds of edge values were appended to all channels when writing the final block.\n",
      "  raw_crop.export(save_path, fmt=\"edf\", overwrite=True)\n",
      "/tmp/ipykernel_3734/3037979607.py:81: RuntimeWarning: EDF format requires equal-length data blocks, so 0.996 seconds of edge values were appended to all channels when writing the final block.\n",
      "  raw_crop.export(save_path, fmt=\"edf\", overwrite=True)\n",
      "/tmp/ipykernel_3734/3037979607.py:81: RuntimeWarning: EDF format requires equal-length data blocks, so 0.996 seconds of edge values were appended to all channels when writing the final block.\n",
      "  raw_crop.export(save_path, fmt=\"edf\", overwrite=True)\n",
      "/tmp/ipykernel_3734/3037979607.py:81: RuntimeWarning: EDF format requires equal-length data blocks, so 0.996 seconds of edge values were appended to all channels when writing the final block.\n",
      "  raw_crop.export(save_path, fmt=\"edf\", overwrite=True)\n",
      "/tmp/ipykernel_3734/3037979607.py:81: RuntimeWarning: EDF format requires equal-length data blocks, so 0.996 seconds of edge values were appended to all channels when writing the final block.\n",
      "  raw_crop.export(save_path, fmt=\"edf\", overwrite=True)\n",
      "/tmp/ipykernel_3734/3037979607.py:81: RuntimeWarning: EDF format requires equal-length data blocks, so 0.996 seconds of edge values were appended to all channels when writing the final block.\n",
      "  raw_crop.export(save_path, fmt=\"edf\", overwrite=True)\n"
     ]
    },
    {
     "name": "stdout",
     "output_type": "stream",
     "text": [
      "Normal segments saved for chb03_31.edf\n",
      "Normal segments saved for chb03_32.edf\n"
     ]
    },
    {
     "name": "stderr",
     "output_type": "stream",
     "text": [
      "/tmp/ipykernel_3734/3037979607.py:81: RuntimeWarning: EDF format requires equal-length data blocks, so 0.996 seconds of edge values were appended to all channels when writing the final block.\n",
      "  raw_crop.export(save_path, fmt=\"edf\", overwrite=True)\n",
      "/tmp/ipykernel_3734/3037979607.py:81: RuntimeWarning: EDF format requires equal-length data blocks, so 0.996 seconds of edge values were appended to all channels when writing the final block.\n",
      "  raw_crop.export(save_path, fmt=\"edf\", overwrite=True)\n",
      "/tmp/ipykernel_3734/3037979607.py:81: RuntimeWarning: EDF format requires equal-length data blocks, so 0.996 seconds of edge values were appended to all channels when writing the final block.\n",
      "  raw_crop.export(save_path, fmt=\"edf\", overwrite=True)\n",
      "/tmp/ipykernel_3734/3037979607.py:81: RuntimeWarning: EDF format requires equal-length data blocks, so 0.996 seconds of edge values were appended to all channels when writing the final block.\n",
      "  raw_crop.export(save_path, fmt=\"edf\", overwrite=True)\n",
      "/tmp/ipykernel_3734/3037979607.py:81: RuntimeWarning: EDF format requires equal-length data blocks, so 0.996 seconds of edge values were appended to all channels when writing the final block.\n",
      "  raw_crop.export(save_path, fmt=\"edf\", overwrite=True)\n",
      "/tmp/ipykernel_3734/3037979607.py:81: RuntimeWarning: EDF format requires equal-length data blocks, so 0.996 seconds of edge values were appended to all channels when writing the final block.\n",
      "  raw_crop.export(save_path, fmt=\"edf\", overwrite=True)\n",
      "/tmp/ipykernel_3734/3037979607.py:81: RuntimeWarning: EDF format requires equal-length data blocks, so 0.996 seconds of edge values were appended to all channels when writing the final block.\n",
      "  raw_crop.export(save_path, fmt=\"edf\", overwrite=True)\n"
     ]
    },
    {
     "name": "stdout",
     "output_type": "stream",
     "text": [
      "Normal segments saved for chb03_33.edf\n",
      "  → saved: chb03_34_seizure_1.edf\n",
      "  → saved: chb03_35_seizure_1.edf\n"
     ]
    },
    {
     "name": "stderr",
     "output_type": "stream",
     "text": [
      "/tmp/ipykernel_3734/3037979607.py:52: RuntimeWarning: EDF format requires equal-length data blocks, so 0.996 seconds of edge values were appended to all channels when writing the final block.\n",
      "  segment.export(save_path, fmt='edf')\n",
      "/tmp/ipykernel_3734/3037979607.py:52: RuntimeWarning: EDF format requires equal-length data blocks, so 0.996 seconds of edge values were appended to all channels when writing the final block.\n",
      "  segment.export(save_path, fmt='edf')\n",
      "/tmp/ipykernel_3734/3037979607.py:52: RuntimeWarning: EDF format requires equal-length data blocks, so 0.996 seconds of edge values were appended to all channels when writing the final block.\n",
      "  segment.export(save_path, fmt='edf')\n"
     ]
    },
    {
     "name": "stdout",
     "output_type": "stream",
     "text": [
      "  → saved: chb03_36_seizure_1.edf\n",
      "Normal segments saved for chb03_37.edf\n"
     ]
    },
    {
     "name": "stderr",
     "output_type": "stream",
     "text": [
      "/tmp/ipykernel_3734/3037979607.py:81: RuntimeWarning: EDF format requires equal-length data blocks, so 0.996 seconds of edge values were appended to all channels when writing the final block.\n",
      "  raw_crop.export(save_path, fmt=\"edf\", overwrite=True)\n",
      "/tmp/ipykernel_3734/3037979607.py:81: RuntimeWarning: EDF format requires equal-length data blocks, so 0.996 seconds of edge values were appended to all channels when writing the final block.\n",
      "  raw_crop.export(save_path, fmt=\"edf\", overwrite=True)\n",
      "/tmp/ipykernel_3734/3037979607.py:81: RuntimeWarning: EDF format requires equal-length data blocks, so 0.996 seconds of edge values were appended to all channels when writing the final block.\n",
      "  raw_crop.export(save_path, fmt=\"edf\", overwrite=True)\n",
      "/tmp/ipykernel_3734/3037979607.py:81: RuntimeWarning: EDF format requires equal-length data blocks, so 0.996 seconds of edge values were appended to all channels when writing the final block.\n",
      "  raw_crop.export(save_path, fmt=\"edf\", overwrite=True)\n",
      "/tmp/ipykernel_3734/3037979607.py:81: RuntimeWarning: EDF format requires equal-length data blocks, so 0.996 seconds of edge values were appended to all channels when writing the final block.\n",
      "  raw_crop.export(save_path, fmt=\"edf\", overwrite=True)\n",
      "/tmp/ipykernel_3734/3037979607.py:81: RuntimeWarning: EDF format requires equal-length data blocks, so 0.996 seconds of edge values were appended to all channels when writing the final block.\n",
      "  raw_crop.export(save_path, fmt=\"edf\", overwrite=True)\n",
      "/tmp/ipykernel_3734/3037979607.py:81: RuntimeWarning: EDF format requires equal-length data blocks, so 0.996 seconds of edge values were appended to all channels when writing the final block.\n",
      "  raw_crop.export(save_path, fmt=\"edf\", overwrite=True)\n",
      "/tmp/ipykernel_3734/3037979607.py:81: RuntimeWarning: EDF format requires equal-length data blocks, so 0.996 seconds of edge values were appended to all channels when writing the final block.\n",
      "  raw_crop.export(save_path, fmt=\"edf\", overwrite=True)\n",
      "/tmp/ipykernel_3734/3037979607.py:81: RuntimeWarning: EDF format requires equal-length data blocks, so 0.996 seconds of edge values were appended to all channels when writing the final block.\n",
      "  raw_crop.export(save_path, fmt=\"edf\", overwrite=True)\n",
      "/tmp/ipykernel_3734/3037979607.py:81: RuntimeWarning: EDF format requires equal-length data blocks, so 0.996 seconds of edge values were appended to all channels when writing the final block.\n",
      "  raw_crop.export(save_path, fmt=\"edf\", overwrite=True)\n",
      "/tmp/ipykernel_3734/3037979607.py:81: RuntimeWarning: EDF format requires equal-length data blocks, so 0.996 seconds of edge values were appended to all channels when writing the final block.\n",
      "  raw_crop.export(save_path, fmt=\"edf\", overwrite=True)\n",
      "/tmp/ipykernel_3734/3037979607.py:81: RuntimeWarning: EDF format requires equal-length data blocks, so 0.996 seconds of edge values were appended to all channels when writing the final block.\n",
      "  raw_crop.export(save_path, fmt=\"edf\", overwrite=True)\n",
      "/tmp/ipykernel_3734/3037979607.py:81: RuntimeWarning: EDF format requires equal-length data blocks, so 0.996 seconds of edge values were appended to all channels when writing the final block.\n",
      "  raw_crop.export(save_path, fmt=\"edf\", overwrite=True)\n"
     ]
    },
    {
     "name": "stdout",
     "output_type": "stream",
     "text": [
      "Normal segments saved for chb03_38.edf\n",
      "Normal segments saved for chb22_01.edf\n"
     ]
    },
    {
     "name": "stderr",
     "output_type": "stream",
     "text": [
      "/tmp/ipykernel_3734/3037979607.py:81: RuntimeWarning: EDF format requires equal-length data blocks, so 0.996 seconds of edge values were appended to all channels when writing the final block.\n",
      "  raw_crop.export(save_path, fmt=\"edf\", overwrite=True)\n",
      "/tmp/ipykernel_3734/3037979607.py:81: RuntimeWarning: EDF format requires equal-length data blocks, so 0.996 seconds of edge values were appended to all channels when writing the final block.\n",
      "  raw_crop.export(save_path, fmt=\"edf\", overwrite=True)\n",
      "/tmp/ipykernel_3734/3037979607.py:81: RuntimeWarning: EDF format requires equal-length data blocks, so 0.996 seconds of edge values were appended to all channels when writing the final block.\n",
      "  raw_crop.export(save_path, fmt=\"edf\", overwrite=True)\n",
      "/tmp/ipykernel_3734/3037979607.py:81: RuntimeWarning: EDF format requires equal-length data blocks, so 0.996 seconds of edge values were appended to all channels when writing the final block.\n",
      "  raw_crop.export(save_path, fmt=\"edf\", overwrite=True)\n",
      "/tmp/ipykernel_3734/3037979607.py:81: RuntimeWarning: EDF format requires equal-length data blocks, so 0.996 seconds of edge values were appended to all channels when writing the final block.\n",
      "  raw_crop.export(save_path, fmt=\"edf\", overwrite=True)\n",
      "/tmp/ipykernel_3734/3037979607.py:81: RuntimeWarning: EDF format requires equal-length data blocks, so 0.996 seconds of edge values were appended to all channels when writing the final block.\n",
      "  raw_crop.export(save_path, fmt=\"edf\", overwrite=True)\n",
      "/tmp/ipykernel_3734/3037979607.py:81: RuntimeWarning: EDF format requires equal-length data blocks, so 0.996 seconds of edge values were appended to all channels when writing the final block.\n",
      "  raw_crop.export(save_path, fmt=\"edf\", overwrite=True)\n",
      "/tmp/ipykernel_3734/3037979607.py:81: RuntimeWarning: EDF format requires equal-length data blocks, so 0.996 seconds of edge values were appended to all channels when writing the final block.\n",
      "  raw_crop.export(save_path, fmt=\"edf\", overwrite=True)\n",
      "/tmp/ipykernel_3734/3037979607.py:81: RuntimeWarning: EDF format requires equal-length data blocks, so 0.996 seconds of edge values were appended to all channels when writing the final block.\n",
      "  raw_crop.export(save_path, fmt=\"edf\", overwrite=True)\n",
      "/tmp/ipykernel_3734/3037979607.py:81: RuntimeWarning: EDF format requires equal-length data blocks, so 0.996 seconds of edge values were appended to all channels when writing the final block.\n",
      "  raw_crop.export(save_path, fmt=\"edf\", overwrite=True)\n",
      "/tmp/ipykernel_3734/3037979607.py:81: RuntimeWarning: EDF format requires equal-length data blocks, so 0.996 seconds of edge values were appended to all channels when writing the final block.\n",
      "  raw_crop.export(save_path, fmt=\"edf\", overwrite=True)\n",
      "/tmp/ipykernel_3734/3037979607.py:81: RuntimeWarning: EDF format requires equal-length data blocks, so 0.996 seconds of edge values were appended to all channels when writing the final block.\n",
      "  raw_crop.export(save_path, fmt=\"edf\", overwrite=True)\n"
     ]
    },
    {
     "name": "stdout",
     "output_type": "stream",
     "text": [
      "Normal segments saved for chb22_02.edf\n",
      "Normal segments saved for chb22_03.edf\n"
     ]
    },
    {
     "name": "stderr",
     "output_type": "stream",
     "text": [
      "/tmp/ipykernel_3734/3037979607.py:81: RuntimeWarning: EDF format requires equal-length data blocks, so 0.996 seconds of edge values were appended to all channels when writing the final block.\n",
      "  raw_crop.export(save_path, fmt=\"edf\", overwrite=True)\n",
      "/tmp/ipykernel_3734/3037979607.py:81: RuntimeWarning: EDF format requires equal-length data blocks, so 0.996 seconds of edge values were appended to all channels when writing the final block.\n",
      "  raw_crop.export(save_path, fmt=\"edf\", overwrite=True)\n",
      "/tmp/ipykernel_3734/3037979607.py:81: RuntimeWarning: EDF format requires equal-length data blocks, so 0.996 seconds of edge values were appended to all channels when writing the final block.\n",
      "  raw_crop.export(save_path, fmt=\"edf\", overwrite=True)\n",
      "/tmp/ipykernel_3734/3037979607.py:81: RuntimeWarning: EDF format requires equal-length data blocks, so 0.996 seconds of edge values were appended to all channels when writing the final block.\n",
      "  raw_crop.export(save_path, fmt=\"edf\", overwrite=True)\n",
      "/tmp/ipykernel_3734/3037979607.py:81: RuntimeWarning: EDF format requires equal-length data blocks, so 0.996 seconds of edge values were appended to all channels when writing the final block.\n",
      "  raw_crop.export(save_path, fmt=\"edf\", overwrite=True)\n",
      "/tmp/ipykernel_3734/3037979607.py:81: RuntimeWarning: EDF format requires equal-length data blocks, so 0.996 seconds of edge values were appended to all channels when writing the final block.\n",
      "  raw_crop.export(save_path, fmt=\"edf\", overwrite=True)\n"
     ]
    },
    {
     "name": "stdout",
     "output_type": "stream",
     "text": [
      "Normal segments saved for chb22_04.edf\n",
      "Normal segments saved for chb22_05.edf\n"
     ]
    },
    {
     "name": "stderr",
     "output_type": "stream",
     "text": [
      "/tmp/ipykernel_3734/3037979607.py:81: RuntimeWarning: EDF format requires equal-length data blocks, so 0.996 seconds of edge values were appended to all channels when writing the final block.\n",
      "  raw_crop.export(save_path, fmt=\"edf\", overwrite=True)\n",
      "/tmp/ipykernel_3734/3037979607.py:81: RuntimeWarning: EDF format requires equal-length data blocks, so 0.996 seconds of edge values were appended to all channels when writing the final block.\n",
      "  raw_crop.export(save_path, fmt=\"edf\", overwrite=True)\n",
      "/tmp/ipykernel_3734/3037979607.py:81: RuntimeWarning: EDF format requires equal-length data blocks, so 0.996 seconds of edge values were appended to all channels when writing the final block.\n",
      "  raw_crop.export(save_path, fmt=\"edf\", overwrite=True)\n",
      "/tmp/ipykernel_3734/3037979607.py:81: RuntimeWarning: EDF format requires equal-length data blocks, so 0.996 seconds of edge values were appended to all channels when writing the final block.\n",
      "  raw_crop.export(save_path, fmt=\"edf\", overwrite=True)\n",
      "/tmp/ipykernel_3734/3037979607.py:81: RuntimeWarning: EDF format requires equal-length data blocks, so 0.996 seconds of edge values were appended to all channels when writing the final block.\n",
      "  raw_crop.export(save_path, fmt=\"edf\", overwrite=True)\n",
      "/tmp/ipykernel_3734/3037979607.py:81: RuntimeWarning: EDF format requires equal-length data blocks, so 0.996 seconds of edge values were appended to all channels when writing the final block.\n",
      "  raw_crop.export(save_path, fmt=\"edf\", overwrite=True)\n",
      "/tmp/ipykernel_3734/3037979607.py:81: RuntimeWarning: EDF format requires equal-length data blocks, so 0.996 seconds of edge values were appended to all channels when writing the final block.\n",
      "  raw_crop.export(save_path, fmt=\"edf\", overwrite=True)\n",
      "/tmp/ipykernel_3734/3037979607.py:81: RuntimeWarning: EDF format requires equal-length data blocks, so 0.996 seconds of edge values were appended to all channels when writing the final block.\n",
      "  raw_crop.export(save_path, fmt=\"edf\", overwrite=True)\n",
      "/tmp/ipykernel_3734/3037979607.py:81: RuntimeWarning: EDF format requires equal-length data blocks, so 0.996 seconds of edge values were appended to all channels when writing the final block.\n",
      "  raw_crop.export(save_path, fmt=\"edf\", overwrite=True)\n",
      "/tmp/ipykernel_3734/3037979607.py:81: RuntimeWarning: EDF format requires equal-length data blocks, so 0.996 seconds of edge values were appended to all channels when writing the final block.\n",
      "  raw_crop.export(save_path, fmt=\"edf\", overwrite=True)\n",
      "/tmp/ipykernel_3734/3037979607.py:81: RuntimeWarning: EDF format requires equal-length data blocks, so 0.996 seconds of edge values were appended to all channels when writing the final block.\n",
      "  raw_crop.export(save_path, fmt=\"edf\", overwrite=True)\n",
      "/tmp/ipykernel_3734/3037979607.py:81: RuntimeWarning: EDF format requires equal-length data blocks, so 0.996 seconds of edge values were appended to all channels when writing the final block.\n",
      "  raw_crop.export(save_path, fmt=\"edf\", overwrite=True)\n"
     ]
    },
    {
     "name": "stdout",
     "output_type": "stream",
     "text": [
      "Normal segments saved for chb22_06.edf\n",
      "Normal segments saved for chb22_07.edf\n"
     ]
    },
    {
     "name": "stderr",
     "output_type": "stream",
     "text": [
      "/tmp/ipykernel_3734/3037979607.py:81: RuntimeWarning: EDF format requires equal-length data blocks, so 0.996 seconds of edge values were appended to all channels when writing the final block.\n",
      "  raw_crop.export(save_path, fmt=\"edf\", overwrite=True)\n",
      "/tmp/ipykernel_3734/3037979607.py:81: RuntimeWarning: EDF format requires equal-length data blocks, so 0.996 seconds of edge values were appended to all channels when writing the final block.\n",
      "  raw_crop.export(save_path, fmt=\"edf\", overwrite=True)\n",
      "/tmp/ipykernel_3734/3037979607.py:81: RuntimeWarning: EDF format requires equal-length data blocks, so 0.996 seconds of edge values were appended to all channels when writing the final block.\n",
      "  raw_crop.export(save_path, fmt=\"edf\", overwrite=True)\n",
      "/tmp/ipykernel_3734/3037979607.py:81: RuntimeWarning: EDF format requires equal-length data blocks, so 0.996 seconds of edge values were appended to all channels when writing the final block.\n",
      "  raw_crop.export(save_path, fmt=\"edf\", overwrite=True)\n",
      "/tmp/ipykernel_3734/3037979607.py:81: RuntimeWarning: EDF format requires equal-length data blocks, so 0.996 seconds of edge values were appended to all channels when writing the final block.\n",
      "  raw_crop.export(save_path, fmt=\"edf\", overwrite=True)\n",
      "/tmp/ipykernel_3734/3037979607.py:81: RuntimeWarning: EDF format requires equal-length data blocks, so 0.996 seconds of edge values were appended to all channels when writing the final block.\n",
      "  raw_crop.export(save_path, fmt=\"edf\", overwrite=True)\n",
      "/tmp/ipykernel_3734/3037979607.py:81: RuntimeWarning: EDF format requires equal-length data blocks, so 0.996 seconds of edge values were appended to all channels when writing the final block.\n",
      "  raw_crop.export(save_path, fmt=\"edf\", overwrite=True)\n",
      "/tmp/ipykernel_3734/3037979607.py:81: RuntimeWarning: EDF format requires equal-length data blocks, so 0.996 seconds of edge values were appended to all channels when writing the final block.\n",
      "  raw_crop.export(save_path, fmt=\"edf\", overwrite=True)\n",
      "/tmp/ipykernel_3734/3037979607.py:81: RuntimeWarning: EDF format requires equal-length data blocks, so 0.996 seconds of edge values were appended to all channels when writing the final block.\n",
      "  raw_crop.export(save_path, fmt=\"edf\", overwrite=True)\n",
      "/tmp/ipykernel_3734/3037979607.py:81: RuntimeWarning: EDF format requires equal-length data blocks, so 0.996 seconds of edge values were appended to all channels when writing the final block.\n",
      "  raw_crop.export(save_path, fmt=\"edf\", overwrite=True)\n",
      "/tmp/ipykernel_3734/3037979607.py:81: RuntimeWarning: EDF format requires equal-length data blocks, so 0.996 seconds of edge values were appended to all channels when writing the final block.\n",
      "  raw_crop.export(save_path, fmt=\"edf\", overwrite=True)\n",
      "/tmp/ipykernel_3734/3037979607.py:81: RuntimeWarning: EDF format requires equal-length data blocks, so 0.996 seconds of edge values were appended to all channels when writing the final block.\n",
      "  raw_crop.export(save_path, fmt=\"edf\", overwrite=True)\n"
     ]
    },
    {
     "name": "stdout",
     "output_type": "stream",
     "text": [
      "Normal segments saved for chb22_08.edf\n",
      "Normal segments saved for chb22_09.edf\n"
     ]
    },
    {
     "name": "stderr",
     "output_type": "stream",
     "text": [
      "/tmp/ipykernel_3734/3037979607.py:81: RuntimeWarning: EDF format requires equal-length data blocks, so 0.996 seconds of edge values were appended to all channels when writing the final block.\n",
      "  raw_crop.export(save_path, fmt=\"edf\", overwrite=True)\n",
      "/tmp/ipykernel_3734/3037979607.py:81: RuntimeWarning: EDF format requires equal-length data blocks, so 0.996 seconds of edge values were appended to all channels when writing the final block.\n",
      "  raw_crop.export(save_path, fmt=\"edf\", overwrite=True)\n",
      "/tmp/ipykernel_3734/3037979607.py:81: RuntimeWarning: EDF format requires equal-length data blocks, so 0.996 seconds of edge values were appended to all channels when writing the final block.\n",
      "  raw_crop.export(save_path, fmt=\"edf\", overwrite=True)\n",
      "/tmp/ipykernel_3734/3037979607.py:81: RuntimeWarning: EDF format requires equal-length data blocks, so 0.996 seconds of edge values were appended to all channels when writing the final block.\n",
      "  raw_crop.export(save_path, fmt=\"edf\", overwrite=True)\n",
      "/tmp/ipykernel_3734/3037979607.py:81: RuntimeWarning: EDF format requires equal-length data blocks, so 0.996 seconds of edge values were appended to all channels when writing the final block.\n",
      "  raw_crop.export(save_path, fmt=\"edf\", overwrite=True)\n",
      "/tmp/ipykernel_3734/3037979607.py:81: RuntimeWarning: EDF format requires equal-length data blocks, so 0.996 seconds of edge values were appended to all channels when writing the final block.\n",
      "  raw_crop.export(save_path, fmt=\"edf\", overwrite=True)\n"
     ]
    },
    {
     "name": "stdout",
     "output_type": "stream",
     "text": [
      "Normal segments saved for chb22_10.edf\n",
      "Normal segments saved for chb22_11.edf\n"
     ]
    },
    {
     "name": "stderr",
     "output_type": "stream",
     "text": [
      "/tmp/ipykernel_3734/3037979607.py:81: RuntimeWarning: EDF format requires equal-length data blocks, so 0.996 seconds of edge values were appended to all channels when writing the final block.\n",
      "  raw_crop.export(save_path, fmt=\"edf\", overwrite=True)\n",
      "/tmp/ipykernel_3734/3037979607.py:81: RuntimeWarning: EDF format requires equal-length data blocks, so 0.996 seconds of edge values were appended to all channels when writing the final block.\n",
      "  raw_crop.export(save_path, fmt=\"edf\", overwrite=True)\n",
      "/tmp/ipykernel_3734/3037979607.py:81: RuntimeWarning: EDF format requires equal-length data blocks, so 0.996 seconds of edge values were appended to all channels when writing the final block.\n",
      "  raw_crop.export(save_path, fmt=\"edf\", overwrite=True)\n",
      "/tmp/ipykernel_3734/3037979607.py:81: RuntimeWarning: EDF format requires equal-length data blocks, so 0.996 seconds of edge values were appended to all channels when writing the final block.\n",
      "  raw_crop.export(save_path, fmt=\"edf\", overwrite=True)\n",
      "/tmp/ipykernel_3734/3037979607.py:81: RuntimeWarning: EDF format requires equal-length data blocks, so 0.996 seconds of edge values were appended to all channels when writing the final block.\n",
      "  raw_crop.export(save_path, fmt=\"edf\", overwrite=True)\n",
      "/tmp/ipykernel_3734/3037979607.py:81: RuntimeWarning: EDF format requires equal-length data blocks, so 0.996 seconds of edge values were appended to all channels when writing the final block.\n",
      "  raw_crop.export(save_path, fmt=\"edf\", overwrite=True)\n",
      "/tmp/ipykernel_3734/3037979607.py:81: RuntimeWarning: EDF format requires equal-length data blocks, so 0.996 seconds of edge values were appended to all channels when writing the final block.\n",
      "  raw_crop.export(save_path, fmt=\"edf\", overwrite=True)\n",
      "/tmp/ipykernel_3734/3037979607.py:81: RuntimeWarning: EDF format requires equal-length data blocks, so 0.996 seconds of edge values were appended to all channels when writing the final block.\n",
      "  raw_crop.export(save_path, fmt=\"edf\", overwrite=True)\n",
      "/tmp/ipykernel_3734/3037979607.py:81: RuntimeWarning: EDF format requires equal-length data blocks, so 0.996 seconds of edge values were appended to all channels when writing the final block.\n",
      "  raw_crop.export(save_path, fmt=\"edf\", overwrite=True)\n",
      "/tmp/ipykernel_3734/3037979607.py:81: RuntimeWarning: EDF format requires equal-length data blocks, so 0.996 seconds of edge values were appended to all channels when writing the final block.\n",
      "  raw_crop.export(save_path, fmt=\"edf\", overwrite=True)\n",
      "/tmp/ipykernel_3734/3037979607.py:81: RuntimeWarning: EDF format requires equal-length data blocks, so 0.996 seconds of edge values were appended to all channels when writing the final block.\n",
      "  raw_crop.export(save_path, fmt=\"edf\", overwrite=True)\n",
      "/tmp/ipykernel_3734/3037979607.py:81: RuntimeWarning: EDF format requires equal-length data blocks, so 0.996 seconds of edge values were appended to all channels when writing the final block.\n",
      "  raw_crop.export(save_path, fmt=\"edf\", overwrite=True)\n"
     ]
    },
    {
     "name": "stdout",
     "output_type": "stream",
     "text": [
      "Normal segments saved for chb22_15.edf\n",
      "Normal segments saved for chb22_16.edf\n"
     ]
    },
    {
     "name": "stderr",
     "output_type": "stream",
     "text": [
      "/tmp/ipykernel_3734/3037979607.py:81: RuntimeWarning: EDF format requires equal-length data blocks, so 0.996 seconds of edge values were appended to all channels when writing the final block.\n",
      "  raw_crop.export(save_path, fmt=\"edf\", overwrite=True)\n",
      "/tmp/ipykernel_3734/3037979607.py:81: RuntimeWarning: EDF format requires equal-length data blocks, so 0.996 seconds of edge values were appended to all channels when writing the final block.\n",
      "  raw_crop.export(save_path, fmt=\"edf\", overwrite=True)\n",
      "/tmp/ipykernel_3734/3037979607.py:81: RuntimeWarning: EDF format requires equal-length data blocks, so 0.996 seconds of edge values were appended to all channels when writing the final block.\n",
      "  raw_crop.export(save_path, fmt=\"edf\", overwrite=True)\n",
      "/tmp/ipykernel_3734/3037979607.py:81: RuntimeWarning: EDF format requires equal-length data blocks, so 0.996 seconds of edge values were appended to all channels when writing the final block.\n",
      "  raw_crop.export(save_path, fmt=\"edf\", overwrite=True)\n",
      "/tmp/ipykernel_3734/3037979607.py:81: RuntimeWarning: EDF format requires equal-length data blocks, so 0.996 seconds of edge values were appended to all channels when writing the final block.\n",
      "  raw_crop.export(save_path, fmt=\"edf\", overwrite=True)\n",
      "/tmp/ipykernel_3734/3037979607.py:81: RuntimeWarning: EDF format requires equal-length data blocks, so 0.996 seconds of edge values were appended to all channels when writing the final block.\n",
      "  raw_crop.export(save_path, fmt=\"edf\", overwrite=True)\n",
      "/tmp/ipykernel_3734/3037979607.py:81: RuntimeWarning: EDF format requires equal-length data blocks, so 0.996 seconds of edge values were appended to all channels when writing the final block.\n",
      "  raw_crop.export(save_path, fmt=\"edf\", overwrite=True)\n",
      "/tmp/ipykernel_3734/3037979607.py:81: RuntimeWarning: EDF format requires equal-length data blocks, so 0.996 seconds of edge values were appended to all channels when writing the final block.\n",
      "  raw_crop.export(save_path, fmt=\"edf\", overwrite=True)\n",
      "/tmp/ipykernel_3734/3037979607.py:81: RuntimeWarning: EDF format requires equal-length data blocks, so 0.996 seconds of edge values were appended to all channels when writing the final block.\n",
      "  raw_crop.export(save_path, fmt=\"edf\", overwrite=True)\n",
      "/tmp/ipykernel_3734/3037979607.py:81: RuntimeWarning: EDF format requires equal-length data blocks, so 0.996 seconds of edge values were appended to all channels when writing the final block.\n",
      "  raw_crop.export(save_path, fmt=\"edf\", overwrite=True)\n",
      "/tmp/ipykernel_3734/3037979607.py:81: RuntimeWarning: EDF format requires equal-length data blocks, so 0.996 seconds of edge values were appended to all channels when writing the final block.\n",
      "  raw_crop.export(save_path, fmt=\"edf\", overwrite=True)\n",
      "/tmp/ipykernel_3734/3037979607.py:81: RuntimeWarning: EDF format requires equal-length data blocks, so 0.996 seconds of edge values were appended to all channels when writing the final block.\n",
      "  raw_crop.export(save_path, fmt=\"edf\", overwrite=True)\n"
     ]
    },
    {
     "name": "stdout",
     "output_type": "stream",
     "text": [
      "Normal segments saved for chb22_17.edf\n",
      "Normal segments saved for chb22_18.edf\n"
     ]
    },
    {
     "name": "stderr",
     "output_type": "stream",
     "text": [
      "/tmp/ipykernel_3734/3037979607.py:81: RuntimeWarning: EDF format requires equal-length data blocks, so 0.996 seconds of edge values were appended to all channels when writing the final block.\n",
      "  raw_crop.export(save_path, fmt=\"edf\", overwrite=True)\n",
      "/tmp/ipykernel_3734/3037979607.py:81: RuntimeWarning: EDF format requires equal-length data blocks, so 0.996 seconds of edge values were appended to all channels when writing the final block.\n",
      "  raw_crop.export(save_path, fmt=\"edf\", overwrite=True)\n",
      "/tmp/ipykernel_3734/3037979607.py:81: RuntimeWarning: EDF format requires equal-length data blocks, so 0.996 seconds of edge values were appended to all channels when writing the final block.\n",
      "  raw_crop.export(save_path, fmt=\"edf\", overwrite=True)\n",
      "/tmp/ipykernel_3734/3037979607.py:81: RuntimeWarning: EDF format requires equal-length data blocks, so 0.996 seconds of edge values were appended to all channels when writing the final block.\n",
      "  raw_crop.export(save_path, fmt=\"edf\", overwrite=True)\n",
      "/tmp/ipykernel_3734/3037979607.py:81: RuntimeWarning: EDF format requires equal-length data blocks, so 0.996 seconds of edge values were appended to all channels when writing the final block.\n",
      "  raw_crop.export(save_path, fmt=\"edf\", overwrite=True)\n",
      "/tmp/ipykernel_3734/3037979607.py:52: RuntimeWarning: EDF format requires equal-length data blocks, so 0.996 seconds of edge values were appended to all channels when writing the final block.\n",
      "  segment.export(save_path, fmt='edf')\n"
     ]
    },
    {
     "name": "stdout",
     "output_type": "stream",
     "text": [
      "Normal segments saved for chb22_19.edf\n",
      "  → saved: chb22_20_seizure_1.edf\n"
     ]
    },
    {
     "name": "stderr",
     "output_type": "stream",
     "text": [
      "/tmp/ipykernel_3734/3037979607.py:81: RuntimeWarning: EDF format requires equal-length data blocks, so 0.996 seconds of edge values were appended to all channels when writing the final block.\n",
      "  raw_crop.export(save_path, fmt=\"edf\", overwrite=True)\n",
      "/tmp/ipykernel_3734/3037979607.py:81: RuntimeWarning: EDF format requires equal-length data blocks, so 0.996 seconds of edge values were appended to all channels when writing the final block.\n",
      "  raw_crop.export(save_path, fmt=\"edf\", overwrite=True)\n",
      "/tmp/ipykernel_3734/3037979607.py:81: RuntimeWarning: EDF format requires equal-length data blocks, so 0.996 seconds of edge values were appended to all channels when writing the final block.\n",
      "  raw_crop.export(save_path, fmt=\"edf\", overwrite=True)\n",
      "/tmp/ipykernel_3734/3037979607.py:81: RuntimeWarning: EDF format requires equal-length data blocks, so 0.996 seconds of edge values were appended to all channels when writing the final block.\n",
      "  raw_crop.export(save_path, fmt=\"edf\", overwrite=True)\n",
      "/tmp/ipykernel_3734/3037979607.py:81: RuntimeWarning: EDF format requires equal-length data blocks, so 0.996 seconds of edge values were appended to all channels when writing the final block.\n",
      "  raw_crop.export(save_path, fmt=\"edf\", overwrite=True)\n",
      "/tmp/ipykernel_3734/3037979607.py:81: RuntimeWarning: EDF format requires equal-length data blocks, so 0.996 seconds of edge values were appended to all channels when writing the final block.\n",
      "  raw_crop.export(save_path, fmt=\"edf\", overwrite=True)\n"
     ]
    },
    {
     "name": "stdout",
     "output_type": "stream",
     "text": [
      "Normal segments saved for chb22_21.edf\n",
      "Normal segments saved for chb22_22.edf\n"
     ]
    },
    {
     "name": "stderr",
     "output_type": "stream",
     "text": [
      "/tmp/ipykernel_3734/3037979607.py:81: RuntimeWarning: EDF format requires equal-length data blocks, so 0.996 seconds of edge values were appended to all channels when writing the final block.\n",
      "  raw_crop.export(save_path, fmt=\"edf\", overwrite=True)\n",
      "/tmp/ipykernel_3734/3037979607.py:81: RuntimeWarning: EDF format requires equal-length data blocks, so 0.996 seconds of edge values were appended to all channels when writing the final block.\n",
      "  raw_crop.export(save_path, fmt=\"edf\", overwrite=True)\n",
      "/tmp/ipykernel_3734/3037979607.py:81: RuntimeWarning: EDF format requires equal-length data blocks, so 0.996 seconds of edge values were appended to all channels when writing the final block.\n",
      "  raw_crop.export(save_path, fmt=\"edf\", overwrite=True)\n",
      "/tmp/ipykernel_3734/3037979607.py:81: RuntimeWarning: EDF format requires equal-length data blocks, so 0.996 seconds of edge values were appended to all channels when writing the final block.\n",
      "  raw_crop.export(save_path, fmt=\"edf\", overwrite=True)\n",
      "/tmp/ipykernel_3734/3037979607.py:81: RuntimeWarning: EDF format requires equal-length data blocks, so 0.996 seconds of edge values were appended to all channels when writing the final block.\n",
      "  raw_crop.export(save_path, fmt=\"edf\", overwrite=True)\n",
      "/tmp/ipykernel_3734/3037979607.py:81: RuntimeWarning: EDF format requires equal-length data blocks, so 0.996 seconds of edge values were appended to all channels when writing the final block.\n",
      "  raw_crop.export(save_path, fmt=\"edf\", overwrite=True)\n",
      "/tmp/ipykernel_3734/3037979607.py:81: RuntimeWarning: EDF format requires equal-length data blocks, so 0.996 seconds of edge values were appended to all channels when writing the final block.\n",
      "  raw_crop.export(save_path, fmt=\"edf\", overwrite=True)\n",
      "/tmp/ipykernel_3734/3037979607.py:81: RuntimeWarning: EDF format requires equal-length data blocks, so 0.996 seconds of edge values were appended to all channels when writing the final block.\n",
      "  raw_crop.export(save_path, fmt=\"edf\", overwrite=True)\n",
      "/tmp/ipykernel_3734/3037979607.py:81: RuntimeWarning: EDF format requires equal-length data blocks, so 0.996 seconds of edge values were appended to all channels when writing the final block.\n",
      "  raw_crop.export(save_path, fmt=\"edf\", overwrite=True)\n",
      "/tmp/ipykernel_3734/3037979607.py:81: RuntimeWarning: EDF format requires equal-length data blocks, so 0.996 seconds of edge values were appended to all channels when writing the final block.\n",
      "  raw_crop.export(save_path, fmt=\"edf\", overwrite=True)\n",
      "/tmp/ipykernel_3734/3037979607.py:81: RuntimeWarning: EDF format requires equal-length data blocks, so 0.996 seconds of edge values were appended to all channels when writing the final block.\n",
      "  raw_crop.export(save_path, fmt=\"edf\", overwrite=True)\n",
      "/tmp/ipykernel_3734/3037979607.py:81: RuntimeWarning: EDF format requires equal-length data blocks, so 0.996 seconds of edge values were appended to all channels when writing the final block.\n",
      "  raw_crop.export(save_path, fmt=\"edf\", overwrite=True)\n"
     ]
    },
    {
     "name": "stdout",
     "output_type": "stream",
     "text": [
      "Normal segments saved for chb22_23.edf\n",
      "Normal segments saved for chb22_24.edf\n"
     ]
    },
    {
     "name": "stderr",
     "output_type": "stream",
     "text": [
      "/tmp/ipykernel_3734/3037979607.py:81: RuntimeWarning: EDF format requires equal-length data blocks, so 0.996 seconds of edge values were appended to all channels when writing the final block.\n",
      "  raw_crop.export(save_path, fmt=\"edf\", overwrite=True)\n",
      "/tmp/ipykernel_3734/3037979607.py:81: RuntimeWarning: EDF format requires equal-length data blocks, so 0.996 seconds of edge values were appended to all channels when writing the final block.\n",
      "  raw_crop.export(save_path, fmt=\"edf\", overwrite=True)\n",
      "/tmp/ipykernel_3734/3037979607.py:52: RuntimeWarning: EDF format requires equal-length data blocks, so 0.996 seconds of edge values were appended to all channels when writing the final block.\n",
      "  segment.export(save_path, fmt='edf')\n"
     ]
    },
    {
     "name": "stdout",
     "output_type": "stream",
     "text": [
      "  → saved: chb22_25_seizure_1.edf\n",
      "Normal segments saved for chb22_26.edf\n"
     ]
    },
    {
     "name": "stderr",
     "output_type": "stream",
     "text": [
      "/tmp/ipykernel_3734/3037979607.py:81: RuntimeWarning: EDF format requires equal-length data blocks, so 0.996 seconds of edge values were appended to all channels when writing the final block.\n",
      "  raw_crop.export(save_path, fmt=\"edf\", overwrite=True)\n",
      "/tmp/ipykernel_3734/3037979607.py:81: RuntimeWarning: EDF format requires equal-length data blocks, so 0.996 seconds of edge values were appended to all channels when writing the final block.\n",
      "  raw_crop.export(save_path, fmt=\"edf\", overwrite=True)\n",
      "/tmp/ipykernel_3734/3037979607.py:81: RuntimeWarning: EDF format requires equal-length data blocks, so 0.996 seconds of edge values were appended to all channels when writing the final block.\n",
      "  raw_crop.export(save_path, fmt=\"edf\", overwrite=True)\n",
      "/tmp/ipykernel_3734/3037979607.py:81: RuntimeWarning: EDF format requires equal-length data blocks, so 0.996 seconds of edge values were appended to all channels when writing the final block.\n",
      "  raw_crop.export(save_path, fmt=\"edf\", overwrite=True)\n",
      "/tmp/ipykernel_3734/3037979607.py:81: RuntimeWarning: EDF format requires equal-length data blocks, so 0.996 seconds of edge values were appended to all channels when writing the final block.\n",
      "  raw_crop.export(save_path, fmt=\"edf\", overwrite=True)\n",
      "/tmp/ipykernel_3734/3037979607.py:81: RuntimeWarning: EDF format requires equal-length data blocks, so 0.996 seconds of edge values were appended to all channels when writing the final block.\n",
      "  raw_crop.export(save_path, fmt=\"edf\", overwrite=True)\n",
      "/tmp/ipykernel_3734/3037979607.py:81: RuntimeWarning: EDF format requires equal-length data blocks, so 0.996 seconds of edge values were appended to all channels when writing the final block.\n",
      "  raw_crop.export(save_path, fmt=\"edf\", overwrite=True)\n",
      "/tmp/ipykernel_3734/3037979607.py:81: RuntimeWarning: EDF format requires equal-length data blocks, so 0.996 seconds of edge values were appended to all channels when writing the final block.\n",
      "  raw_crop.export(save_path, fmt=\"edf\", overwrite=True)\n",
      "/tmp/ipykernel_3734/3037979607.py:81: RuntimeWarning: EDF format requires equal-length data blocks, so 0.996 seconds of edge values were appended to all channels when writing the final block.\n",
      "  raw_crop.export(save_path, fmt=\"edf\", overwrite=True)\n",
      "/tmp/ipykernel_3734/3037979607.py:81: RuntimeWarning: EDF format requires equal-length data blocks, so 0.996 seconds of edge values were appended to all channels when writing the final block.\n",
      "  raw_crop.export(save_path, fmt=\"edf\", overwrite=True)\n",
      "/tmp/ipykernel_3734/3037979607.py:81: RuntimeWarning: EDF format requires equal-length data blocks, so 0.996 seconds of edge values were appended to all channels when writing the final block.\n",
      "  raw_crop.export(save_path, fmt=\"edf\", overwrite=True)\n",
      "/tmp/ipykernel_3734/3037979607.py:81: RuntimeWarning: EDF format requires equal-length data blocks, so 0.996 seconds of edge values were appended to all channels when writing the final block.\n",
      "  raw_crop.export(save_path, fmt=\"edf\", overwrite=True)\n"
     ]
    },
    {
     "name": "stdout",
     "output_type": "stream",
     "text": [
      "Normal segments saved for chb22_27.edf\n",
      "Normal segments saved for chb22_28.edf\n"
     ]
    },
    {
     "name": "stderr",
     "output_type": "stream",
     "text": [
      "/tmp/ipykernel_3734/3037979607.py:81: RuntimeWarning: EDF format requires equal-length data blocks, so 0.996 seconds of edge values were appended to all channels when writing the final block.\n",
      "  raw_crop.export(save_path, fmt=\"edf\", overwrite=True)\n",
      "/tmp/ipykernel_3734/3037979607.py:81: RuntimeWarning: EDF format requires equal-length data blocks, so 0.996 seconds of edge values were appended to all channels when writing the final block.\n",
      "  raw_crop.export(save_path, fmt=\"edf\", overwrite=True)\n",
      "/tmp/ipykernel_3734/3037979607.py:81: RuntimeWarning: EDF format requires equal-length data blocks, so 0.996 seconds of edge values were appended to all channels when writing the final block.\n",
      "  raw_crop.export(save_path, fmt=\"edf\", overwrite=True)\n",
      "/tmp/ipykernel_3734/3037979607.py:81: RuntimeWarning: EDF format requires equal-length data blocks, so 0.996 seconds of edge values were appended to all channels when writing the final block.\n",
      "  raw_crop.export(save_path, fmt=\"edf\", overwrite=True)\n",
      "/tmp/ipykernel_3734/3037979607.py:81: RuntimeWarning: EDF format requires equal-length data blocks, so 0.996 seconds of edge values were appended to all channels when writing the final block.\n",
      "  raw_crop.export(save_path, fmt=\"edf\", overwrite=True)\n",
      "/tmp/ipykernel_3734/3037979607.py:81: RuntimeWarning: EDF format requires equal-length data blocks, so 0.996 seconds of edge values were appended to all channels when writing the final block.\n",
      "  raw_crop.export(save_path, fmt=\"edf\", overwrite=True)\n",
      "/tmp/ipykernel_3734/3037979607.py:81: RuntimeWarning: EDF format requires equal-length data blocks, so 0.996 seconds of edge values were appended to all channels when writing the final block.\n",
      "  raw_crop.export(save_path, fmt=\"edf\", overwrite=True)\n",
      "/tmp/ipykernel_3734/3037979607.py:81: RuntimeWarning: EDF format requires equal-length data blocks, so 0.996 seconds of edge values were appended to all channels when writing the final block.\n",
      "  raw_crop.export(save_path, fmt=\"edf\", overwrite=True)\n",
      "/tmp/ipykernel_3734/3037979607.py:81: RuntimeWarning: EDF format requires equal-length data blocks, so 0.996 seconds of edge values were appended to all channels when writing the final block.\n",
      "  raw_crop.export(save_path, fmt=\"edf\", overwrite=True)\n",
      "/tmp/ipykernel_3734/3037979607.py:81: RuntimeWarning: EDF format requires equal-length data blocks, so 0.996 seconds of edge values were appended to all channels when writing the final block.\n",
      "  raw_crop.export(save_path, fmt=\"edf\", overwrite=True)\n",
      "/tmp/ipykernel_3734/3037979607.py:81: RuntimeWarning: EDF format requires equal-length data blocks, so 0.996 seconds of edge values were appended to all channels when writing the final block.\n",
      "  raw_crop.export(save_path, fmt=\"edf\", overwrite=True)\n",
      "/tmp/ipykernel_3734/3037979607.py:81: RuntimeWarning: EDF format requires equal-length data blocks, so 0.996 seconds of edge values were appended to all channels when writing the final block.\n",
      "  raw_crop.export(save_path, fmt=\"edf\", overwrite=True)\n"
     ]
    },
    {
     "name": "stdout",
     "output_type": "stream",
     "text": [
      "Normal segments saved for chb22_29.edf\n"
     ]
    },
    {
     "name": "stderr",
     "output_type": "stream",
     "text": [
      "/tmp/ipykernel_3734/3037979607.py:81: RuntimeWarning: EDF format requires equal-length data blocks, so 0.996 seconds of edge values were appended to all channels when writing the final block.\n",
      "  raw_crop.export(save_path, fmt=\"edf\", overwrite=True)\n",
      "/tmp/ipykernel_3734/3037979607.py:52: RuntimeWarning: EDF format requires equal-length data blocks, so 0.996 seconds of edge values were appended to all channels when writing the final block.\n",
      "  segment.export(save_path, fmt='edf')\n",
      "/tmp/ipykernel_3734/3037979607.py:81: RuntimeWarning: EDF format requires equal-length data blocks, so 0.996 seconds of edge values were appended to all channels when writing the final block.\n",
      "  raw_crop.export(save_path, fmt=\"edf\", overwrite=True)\n"
     ]
    },
    {
     "name": "stdout",
     "output_type": "stream",
     "text": [
      "Normal segments saved for chb22_30.edf\n",
      "  → saved: chb22_38_seizure_1.edf\n"
     ]
    },
    {
     "name": "stderr",
     "output_type": "stream",
     "text": [
      "/tmp/ipykernel_3734/3037979607.py:81: RuntimeWarning: EDF format requires equal-length data blocks, so 0.996 seconds of edge values were appended to all channels when writing the final block.\n",
      "  raw_crop.export(save_path, fmt=\"edf\", overwrite=True)\n",
      "/tmp/ipykernel_3734/3037979607.py:81: RuntimeWarning: EDF format requires equal-length data blocks, so 0.996 seconds of edge values were appended to all channels when writing the final block.\n",
      "  raw_crop.export(save_path, fmt=\"edf\", overwrite=True)\n",
      "/tmp/ipykernel_3734/3037979607.py:81: RuntimeWarning: EDF format requires equal-length data blocks, so 0.996 seconds of edge values were appended to all channels when writing the final block.\n",
      "  raw_crop.export(save_path, fmt=\"edf\", overwrite=True)\n",
      "/tmp/ipykernel_3734/3037979607.py:81: RuntimeWarning: EDF format requires equal-length data blocks, so 0.996 seconds of edge values were appended to all channels when writing the final block.\n",
      "  raw_crop.export(save_path, fmt=\"edf\", overwrite=True)\n",
      "/tmp/ipykernel_3734/3037979607.py:81: RuntimeWarning: EDF format requires equal-length data blocks, so 0.996 seconds of edge values were appended to all channels when writing the final block.\n",
      "  raw_crop.export(save_path, fmt=\"edf\", overwrite=True)\n",
      "/tmp/ipykernel_3734/3037979607.py:81: RuntimeWarning: EDF format requires equal-length data blocks, so 0.996 seconds of edge values were appended to all channels when writing the final block.\n",
      "  raw_crop.export(save_path, fmt=\"edf\", overwrite=True)\n"
     ]
    },
    {
     "name": "stdout",
     "output_type": "stream",
     "text": [
      "Normal segments saved for chb22_51.edf\n",
      "Normal segments saved for chb22_54.edf\n"
     ]
    },
    {
     "name": "stderr",
     "output_type": "stream",
     "text": [
      "/tmp/ipykernel_3734/3037979607.py:81: RuntimeWarning: EDF format requires equal-length data blocks, so 0.996 seconds of edge values were appended to all channels when writing the final block.\n",
      "  raw_crop.export(save_path, fmt=\"edf\", overwrite=True)\n",
      "/tmp/ipykernel_3734/3037979607.py:81: RuntimeWarning: EDF format requires equal-length data blocks, so 0.996 seconds of edge values were appended to all channels when writing the final block.\n",
      "  raw_crop.export(save_path, fmt=\"edf\", overwrite=True)\n",
      "/tmp/ipykernel_3734/3037979607.py:81: RuntimeWarning: EDF format requires equal-length data blocks, so 0.996 seconds of edge values were appended to all channels when writing the final block.\n",
      "  raw_crop.export(save_path, fmt=\"edf\", overwrite=True)\n",
      "/tmp/ipykernel_3734/3037979607.py:81: RuntimeWarning: EDF format requires equal-length data blocks, so 0.996 seconds of edge values were appended to all channels when writing the final block.\n",
      "  raw_crop.export(save_path, fmt=\"edf\", overwrite=True)\n",
      "/tmp/ipykernel_3734/3037979607.py:81: RuntimeWarning: EDF format requires equal-length data blocks, so 0.996 seconds of edge values were appended to all channels when writing the final block.\n",
      "  raw_crop.export(save_path, fmt=\"edf\", overwrite=True)\n",
      "/tmp/ipykernel_3734/3037979607.py:81: RuntimeWarning: EDF format requires equal-length data blocks, so 0.996 seconds of edge values were appended to all channels when writing the final block.\n",
      "  raw_crop.export(save_path, fmt=\"edf\", overwrite=True)\n",
      "/tmp/ipykernel_3734/3037979607.py:81: RuntimeWarning: EDF format requires equal-length data blocks, so 0.996 seconds of edge values were appended to all channels when writing the final block.\n",
      "  raw_crop.export(save_path, fmt=\"edf\", overwrite=True)\n",
      "/tmp/ipykernel_3734/3037979607.py:81: RuntimeWarning: EDF format requires equal-length data blocks, so 0.996 seconds of edge values were appended to all channels when writing the final block.\n",
      "  raw_crop.export(save_path, fmt=\"edf\", overwrite=True)\n",
      "/tmp/ipykernel_3734/3037979607.py:81: RuntimeWarning: EDF format requires equal-length data blocks, so 0.996 seconds of edge values were appended to all channels when writing the final block.\n",
      "  raw_crop.export(save_path, fmt=\"edf\", overwrite=True)\n",
      "/tmp/ipykernel_3734/3037979607.py:81: RuntimeWarning: EDF format requires equal-length data blocks, so 0.996 seconds of edge values were appended to all channels when writing the final block.\n",
      "  raw_crop.export(save_path, fmt=\"edf\", overwrite=True)\n",
      "/tmp/ipykernel_3734/3037979607.py:81: RuntimeWarning: EDF format requires equal-length data blocks, so 0.996 seconds of edge values were appended to all channels when writing the final block.\n",
      "  raw_crop.export(save_path, fmt=\"edf\", overwrite=True)\n",
      "/tmp/ipykernel_3734/3037979607.py:81: RuntimeWarning: EDF format requires equal-length data blocks, so 0.996 seconds of edge values were appended to all channels when writing the final block.\n",
      "  raw_crop.export(save_path, fmt=\"edf\", overwrite=True)\n"
     ]
    },
    {
     "name": "stdout",
     "output_type": "stream",
     "text": [
      "Normal segments saved for chb22_77.edf\n",
      "Normal segments saved for chb16_01.edf\n"
     ]
    },
    {
     "name": "stderr",
     "output_type": "stream",
     "text": [
      "/tmp/ipykernel_3734/3037979607.py:81: RuntimeWarning: EDF format requires equal-length data blocks, so 0.996 seconds of edge values were appended to all channels when writing the final block.\n",
      "  raw_crop.export(save_path, fmt=\"edf\", overwrite=True)\n",
      "/tmp/ipykernel_3734/3037979607.py:81: RuntimeWarning: EDF format requires equal-length data blocks, so 0.996 seconds of edge values were appended to all channels when writing the final block.\n",
      "  raw_crop.export(save_path, fmt=\"edf\", overwrite=True)\n",
      "/tmp/ipykernel_3734/3037979607.py:81: RuntimeWarning: EDF format requires equal-length data blocks, so 0.996 seconds of edge values were appended to all channels when writing the final block.\n",
      "  raw_crop.export(save_path, fmt=\"edf\", overwrite=True)\n",
      "/tmp/ipykernel_3734/3037979607.py:81: RuntimeWarning: EDF format requires equal-length data blocks, so 0.996 seconds of edge values were appended to all channels when writing the final block.\n",
      "  raw_crop.export(save_path, fmt=\"edf\", overwrite=True)\n",
      "/tmp/ipykernel_3734/3037979607.py:81: RuntimeWarning: EDF format requires equal-length data blocks, so 0.996 seconds of edge values were appended to all channels when writing the final block.\n",
      "  raw_crop.export(save_path, fmt=\"edf\", overwrite=True)\n",
      "/tmp/ipykernel_3734/3037979607.py:81: RuntimeWarning: EDF format requires equal-length data blocks, so 0.996 seconds of edge values were appended to all channels when writing the final block.\n",
      "  raw_crop.export(save_path, fmt=\"edf\", overwrite=True)\n"
     ]
    },
    {
     "name": "stdout",
     "output_type": "stream",
     "text": [
      "Normal segments saved for chb16_02.edf\n",
      "Normal segments saved for chb16_03.edf\n"
     ]
    },
    {
     "name": "stderr",
     "output_type": "stream",
     "text": [
      "/tmp/ipykernel_3734/3037979607.py:81: RuntimeWarning: EDF format requires equal-length data blocks, so 0.996 seconds of edge values were appended to all channels when writing the final block.\n",
      "  raw_crop.export(save_path, fmt=\"edf\", overwrite=True)\n",
      "/tmp/ipykernel_3734/3037979607.py:81: RuntimeWarning: EDF format requires equal-length data blocks, so 0.996 seconds of edge values were appended to all channels when writing the final block.\n",
      "  raw_crop.export(save_path, fmt=\"edf\", overwrite=True)\n",
      "/tmp/ipykernel_3734/3037979607.py:81: RuntimeWarning: EDF format requires equal-length data blocks, so 0.996 seconds of edge values were appended to all channels when writing the final block.\n",
      "  raw_crop.export(save_path, fmt=\"edf\", overwrite=True)\n",
      "/tmp/ipykernel_3734/3037979607.py:81: RuntimeWarning: EDF format requires equal-length data blocks, so 0.996 seconds of edge values were appended to all channels when writing the final block.\n",
      "  raw_crop.export(save_path, fmt=\"edf\", overwrite=True)\n",
      "/tmp/ipykernel_3734/3037979607.py:81: RuntimeWarning: EDF format requires equal-length data blocks, so 0.996 seconds of edge values were appended to all channels when writing the final block.\n",
      "  raw_crop.export(save_path, fmt=\"edf\", overwrite=True)\n",
      "/tmp/ipykernel_3734/3037979607.py:81: RuntimeWarning: EDF format requires equal-length data blocks, so 0.996 seconds of edge values were appended to all channels when writing the final block.\n",
      "  raw_crop.export(save_path, fmt=\"edf\", overwrite=True)\n",
      "/tmp/ipykernel_3734/3037979607.py:81: RuntimeWarning: EDF format requires equal-length data blocks, so 0.996 seconds of edge values were appended to all channels when writing the final block.\n",
      "  raw_crop.export(save_path, fmt=\"edf\", overwrite=True)\n",
      "/tmp/ipykernel_3734/3037979607.py:81: RuntimeWarning: EDF format requires equal-length data blocks, so 0.996 seconds of edge values were appended to all channels when writing the final block.\n",
      "  raw_crop.export(save_path, fmt=\"edf\", overwrite=True)\n",
      "/tmp/ipykernel_3734/3037979607.py:81: RuntimeWarning: EDF format requires equal-length data blocks, so 0.996 seconds of edge values were appended to all channels when writing the final block.\n",
      "  raw_crop.export(save_path, fmt=\"edf\", overwrite=True)\n",
      "/tmp/ipykernel_3734/3037979607.py:81: RuntimeWarning: EDF format requires equal-length data blocks, so 0.996 seconds of edge values were appended to all channels when writing the final block.\n",
      "  raw_crop.export(save_path, fmt=\"edf\", overwrite=True)\n",
      "/tmp/ipykernel_3734/3037979607.py:81: RuntimeWarning: EDF format requires equal-length data blocks, so 0.996 seconds of edge values were appended to all channels when writing the final block.\n",
      "  raw_crop.export(save_path, fmt=\"edf\", overwrite=True)\n",
      "/tmp/ipykernel_3734/3037979607.py:81: RuntimeWarning: EDF format requires equal-length data blocks, so 0.996 seconds of edge values were appended to all channels when writing the final block.\n",
      "  raw_crop.export(save_path, fmt=\"edf\", overwrite=True)\n"
     ]
    },
    {
     "name": "stdout",
     "output_type": "stream",
     "text": [
      "Normal segments saved for chb16_04.edf\n",
      "Normal segments saved for chb16_05.edf\n"
     ]
    },
    {
     "name": "stderr",
     "output_type": "stream",
     "text": [
      "/tmp/ipykernel_3734/3037979607.py:81: RuntimeWarning: EDF format requires equal-length data blocks, so 0.996 seconds of edge values were appended to all channels when writing the final block.\n",
      "  raw_crop.export(save_path, fmt=\"edf\", overwrite=True)\n",
      "/tmp/ipykernel_3734/3037979607.py:81: RuntimeWarning: EDF format requires equal-length data blocks, so 0.996 seconds of edge values were appended to all channels when writing the final block.\n",
      "  raw_crop.export(save_path, fmt=\"edf\", overwrite=True)\n",
      "/tmp/ipykernel_3734/3037979607.py:81: RuntimeWarning: EDF format requires equal-length data blocks, so 0.996 seconds of edge values were appended to all channels when writing the final block.\n",
      "  raw_crop.export(save_path, fmt=\"edf\", overwrite=True)\n",
      "/tmp/ipykernel_3734/3037979607.py:81: RuntimeWarning: EDF format requires equal-length data blocks, so 0.996 seconds of edge values were appended to all channels when writing the final block.\n",
      "  raw_crop.export(save_path, fmt=\"edf\", overwrite=True)\n",
      "/tmp/ipykernel_3734/3037979607.py:81: RuntimeWarning: EDF format requires equal-length data blocks, so 0.996 seconds of edge values were appended to all channels when writing the final block.\n",
      "  raw_crop.export(save_path, fmt=\"edf\", overwrite=True)\n",
      "/tmp/ipykernel_3734/3037979607.py:81: RuntimeWarning: EDF format requires equal-length data blocks, so 0.996 seconds of edge values were appended to all channels when writing the final block.\n",
      "  raw_crop.export(save_path, fmt=\"edf\", overwrite=True)\n",
      "/tmp/ipykernel_3734/3037979607.py:81: RuntimeWarning: EDF format requires equal-length data blocks, so 0.996 seconds of edge values were appended to all channels when writing the final block.\n",
      "  raw_crop.export(save_path, fmt=\"edf\", overwrite=True)\n",
      "/tmp/ipykernel_3734/3037979607.py:81: RuntimeWarning: EDF format requires equal-length data blocks, so 0.996 seconds of edge values were appended to all channels when writing the final block.\n",
      "  raw_crop.export(save_path, fmt=\"edf\", overwrite=True)\n",
      "/tmp/ipykernel_3734/3037979607.py:81: RuntimeWarning: EDF format requires equal-length data blocks, so 0.996 seconds of edge values were appended to all channels when writing the final block.\n",
      "  raw_crop.export(save_path, fmt=\"edf\", overwrite=True)\n",
      "/tmp/ipykernel_3734/3037979607.py:81: RuntimeWarning: EDF format requires equal-length data blocks, so 0.996 seconds of edge values were appended to all channels when writing the final block.\n",
      "  raw_crop.export(save_path, fmt=\"edf\", overwrite=True)\n",
      "/tmp/ipykernel_3734/3037979607.py:81: RuntimeWarning: EDF format requires equal-length data blocks, so 0.996 seconds of edge values were appended to all channels when writing the final block.\n",
      "  raw_crop.export(save_path, fmt=\"edf\", overwrite=True)\n",
      "/tmp/ipykernel_3734/3037979607.py:81: RuntimeWarning: EDF format requires equal-length data blocks, so 0.996 seconds of edge values were appended to all channels when writing the final block.\n",
      "  raw_crop.export(save_path, fmt=\"edf\", overwrite=True)\n"
     ]
    },
    {
     "name": "stdout",
     "output_type": "stream",
     "text": [
      "Normal segments saved for chb16_06.edf\n",
      "Normal segments saved for chb16_07.edf\n"
     ]
    },
    {
     "name": "stderr",
     "output_type": "stream",
     "text": [
      "/tmp/ipykernel_3734/3037979607.py:81: RuntimeWarning: EDF format requires equal-length data blocks, so 0.996 seconds of edge values were appended to all channels when writing the final block.\n",
      "  raw_crop.export(save_path, fmt=\"edf\", overwrite=True)\n",
      "/tmp/ipykernel_3734/3037979607.py:81: RuntimeWarning: EDF format requires equal-length data blocks, so 0.996 seconds of edge values were appended to all channels when writing the final block.\n",
      "  raw_crop.export(save_path, fmt=\"edf\", overwrite=True)\n",
      "/tmp/ipykernel_3734/3037979607.py:81: RuntimeWarning: EDF format requires equal-length data blocks, so 0.996 seconds of edge values were appended to all channels when writing the final block.\n",
      "  raw_crop.export(save_path, fmt=\"edf\", overwrite=True)\n",
      "/tmp/ipykernel_3734/3037979607.py:81: RuntimeWarning: EDF format requires equal-length data blocks, so 0.996 seconds of edge values were appended to all channels when writing the final block.\n",
      "  raw_crop.export(save_path, fmt=\"edf\", overwrite=True)\n",
      "/tmp/ipykernel_3734/3037979607.py:81: RuntimeWarning: EDF format requires equal-length data blocks, so 0.996 seconds of edge values were appended to all channels when writing the final block.\n",
      "  raw_crop.export(save_path, fmt=\"edf\", overwrite=True)\n",
      "/tmp/ipykernel_3734/3037979607.py:81: RuntimeWarning: EDF format requires equal-length data blocks, so 0.996 seconds of edge values were appended to all channels when writing the final block.\n",
      "  raw_crop.export(save_path, fmt=\"edf\", overwrite=True)\n"
     ]
    },
    {
     "name": "stdout",
     "output_type": "stream",
     "text": [
      "Normal segments saved for chb16_08.edf\n",
      "Normal segments saved for chb16_09.edf\n"
     ]
    },
    {
     "name": "stderr",
     "output_type": "stream",
     "text": [
      "/tmp/ipykernel_3734/3037979607.py:81: RuntimeWarning: EDF format requires equal-length data blocks, so 0.996 seconds of edge values were appended to all channels when writing the final block.\n",
      "  raw_crop.export(save_path, fmt=\"edf\", overwrite=True)\n",
      "/tmp/ipykernel_3734/3037979607.py:81: RuntimeWarning: EDF format requires equal-length data blocks, so 0.996 seconds of edge values were appended to all channels when writing the final block.\n",
      "  raw_crop.export(save_path, fmt=\"edf\", overwrite=True)\n",
      "/tmp/ipykernel_3734/3037979607.py:81: RuntimeWarning: EDF format requires equal-length data blocks, so 0.996 seconds of edge values were appended to all channels when writing the final block.\n",
      "  raw_crop.export(save_path, fmt=\"edf\", overwrite=True)\n",
      "/tmp/ipykernel_3734/3037979607.py:81: RuntimeWarning: EDF format requires equal-length data blocks, so 0.996 seconds of edge values were appended to all channels when writing the final block.\n",
      "  raw_crop.export(save_path, fmt=\"edf\", overwrite=True)\n",
      "/tmp/ipykernel_3734/3037979607.py:81: RuntimeWarning: EDF format requires equal-length data blocks, so 0.996 seconds of edge values were appended to all channels when writing the final block.\n",
      "  raw_crop.export(save_path, fmt=\"edf\", overwrite=True)\n",
      "/tmp/ipykernel_3734/3037979607.py:52: RuntimeWarning: EDF format requires equal-length data blocks, so 0.996 seconds of edge values were appended to all channels when writing the final block.\n",
      "  segment.export(save_path, fmt='edf')\n"
     ]
    },
    {
     "name": "stdout",
     "output_type": "stream",
     "text": [
      "  → saved: chb16_10_seizure_1.edf\n",
      "  → saved: chb16_11_seizure_1.edf\n"
     ]
    },
    {
     "name": "stderr",
     "output_type": "stream",
     "text": [
      "/tmp/ipykernel_3734/3037979607.py:52: RuntimeWarning: EDF format requires equal-length data blocks, so 0.996 seconds of edge values were appended to all channels when writing the final block.\n",
      "  segment.export(save_path, fmt='edf')\n",
      "/tmp/ipykernel_3734/3037979607.py:81: RuntimeWarning: EDF format requires equal-length data blocks, so 0.996 seconds of edge values were appended to all channels when writing the final block.\n",
      "  raw_crop.export(save_path, fmt=\"edf\", overwrite=True)\n",
      "/tmp/ipykernel_3734/3037979607.py:81: RuntimeWarning: EDF format requires equal-length data blocks, so 0.996 seconds of edge values were appended to all channels when writing the final block.\n",
      "  raw_crop.export(save_path, fmt=\"edf\", overwrite=True)\n",
      "/tmp/ipykernel_3734/3037979607.py:81: RuntimeWarning: EDF format requires equal-length data blocks, so 0.996 seconds of edge values were appended to all channels when writing the final block.\n",
      "  raw_crop.export(save_path, fmt=\"edf\", overwrite=True)\n",
      "/tmp/ipykernel_3734/3037979607.py:81: RuntimeWarning: EDF format requires equal-length data blocks, so 0.996 seconds of edge values were appended to all channels when writing the final block.\n",
      "  raw_crop.export(save_path, fmt=\"edf\", overwrite=True)\n",
      "/tmp/ipykernel_3734/3037979607.py:81: RuntimeWarning: EDF format requires equal-length data blocks, so 0.996 seconds of edge values were appended to all channels when writing the final block.\n",
      "  raw_crop.export(save_path, fmt=\"edf\", overwrite=True)\n"
     ]
    },
    {
     "name": "stdout",
     "output_type": "stream",
     "text": [
      "Normal segments saved for chb16_12.edf\n",
      "Normal segments saved for chb16_13.edf\n"
     ]
    },
    {
     "name": "stderr",
     "output_type": "stream",
     "text": [
      "/tmp/ipykernel_3734/3037979607.py:81: RuntimeWarning: EDF format requires equal-length data blocks, so 0.996 seconds of edge values were appended to all channels when writing the final block.\n",
      "  raw_crop.export(save_path, fmt=\"edf\", overwrite=True)\n",
      "/tmp/ipykernel_3734/3037979607.py:81: RuntimeWarning: EDF format requires equal-length data blocks, so 0.996 seconds of edge values were appended to all channels when writing the final block.\n",
      "  raw_crop.export(save_path, fmt=\"edf\", overwrite=True)\n",
      "/tmp/ipykernel_3734/3037979607.py:81: RuntimeWarning: EDF format requires equal-length data blocks, so 0.996 seconds of edge values were appended to all channels when writing the final block.\n",
      "  raw_crop.export(save_path, fmt=\"edf\", overwrite=True)\n",
      "/tmp/ipykernel_3734/3037979607.py:81: RuntimeWarning: EDF format requires equal-length data blocks, so 0.996 seconds of edge values were appended to all channels when writing the final block.\n",
      "  raw_crop.export(save_path, fmt=\"edf\", overwrite=True)\n",
      "/tmp/ipykernel_3734/3037979607.py:81: RuntimeWarning: EDF format requires equal-length data blocks, so 0.996 seconds of edge values were appended to all channels when writing the final block.\n",
      "  raw_crop.export(save_path, fmt=\"edf\", overwrite=True)\n",
      "/tmp/ipykernel_3734/3037979607.py:52: RuntimeWarning: EDF format requires equal-length data blocks, so 0.996 seconds of edge values were appended to all channels when writing the final block.\n",
      "  segment.export(save_path, fmt='edf')\n"
     ]
    },
    {
     "name": "stdout",
     "output_type": "stream",
     "text": [
      "  → saved: chb16_14_seizure_1.edf\n",
      "Normal segments saved for chb16_15.edf\n"
     ]
    },
    {
     "name": "stderr",
     "output_type": "stream",
     "text": [
      "/tmp/ipykernel_3734/3037979607.py:81: RuntimeWarning: EDF format requires equal-length data blocks, so 0.996 seconds of edge values were appended to all channels when writing the final block.\n",
      "  raw_crop.export(save_path, fmt=\"edf\", overwrite=True)\n",
      "/tmp/ipykernel_3734/3037979607.py:81: RuntimeWarning: EDF format requires equal-length data blocks, so 0.996 seconds of edge values were appended to all channels when writing the final block.\n",
      "  raw_crop.export(save_path, fmt=\"edf\", overwrite=True)\n",
      "/tmp/ipykernel_3734/3037979607.py:81: RuntimeWarning: EDF format requires equal-length data blocks, so 0.996 seconds of edge values were appended to all channels when writing the final block.\n",
      "  raw_crop.export(save_path, fmt=\"edf\", overwrite=True)\n",
      "/tmp/ipykernel_3734/3037979607.py:81: RuntimeWarning: EDF format requires equal-length data blocks, so 0.996 seconds of edge values were appended to all channels when writing the final block.\n",
      "  raw_crop.export(save_path, fmt=\"edf\", overwrite=True)\n",
      "/tmp/ipykernel_3734/3037979607.py:81: RuntimeWarning: EDF format requires equal-length data blocks, so 0.996 seconds of edge values were appended to all channels when writing the final block.\n",
      "  raw_crop.export(save_path, fmt=\"edf\", overwrite=True)\n",
      "/tmp/ipykernel_3734/3037979607.py:52: RuntimeWarning: EDF format requires equal-length data blocks, so 0.996 seconds of edge values were appended to all channels when writing the final block.\n",
      "  segment.export(save_path, fmt='edf')\n"
     ]
    },
    {
     "name": "stdout",
     "output_type": "stream",
     "text": [
      "  → saved: chb16_16_seizure_1.edf\n",
      "  → saved: chb16_17_seizure_1.edf\n",
      "  → saved: chb16_17_seizure_2.edf\n",
      "  → saved: chb16_17_seizure_3.edf\n",
      "  → saved: chb16_17_seizure_4.edf\n"
     ]
    },
    {
     "name": "stderr",
     "output_type": "stream",
     "text": [
      "/tmp/ipykernel_3734/3037979607.py:52: RuntimeWarning: EDF format requires equal-length data blocks, so 0.996 seconds of edge values were appended to all channels when writing the final block.\n",
      "  segment.export(save_path, fmt='edf')\n",
      "/tmp/ipykernel_3734/3037979607.py:52: RuntimeWarning: EDF format requires equal-length data blocks, so 0.996 seconds of edge values were appended to all channels when writing the final block.\n",
      "  segment.export(save_path, fmt='edf')\n",
      "/tmp/ipykernel_3734/3037979607.py:52: RuntimeWarning: EDF format requires equal-length data blocks, so 0.996 seconds of edge values were appended to all channels when writing the final block.\n",
      "  segment.export(save_path, fmt='edf')\n",
      "/tmp/ipykernel_3734/3037979607.py:52: RuntimeWarning: EDF format requires equal-length data blocks, so 0.996 seconds of edge values were appended to all channels when writing the final block.\n",
      "  segment.export(save_path, fmt='edf')\n",
      "/tmp/ipykernel_3734/3037979607.py:52: RuntimeWarning: EDF format requires equal-length data blocks, so 0.996 seconds of edge values were appended to all channels when writing the final block.\n",
      "  segment.export(save_path, fmt='edf')\n",
      "/tmp/ipykernel_3734/3037979607.py:52: RuntimeWarning: EDF format requires equal-length data blocks, so 0.996 seconds of edge values were appended to all channels when writing the final block.\n",
      "  segment.export(save_path, fmt='edf')\n"
     ]
    },
    {
     "name": "stdout",
     "output_type": "stream",
     "text": [
      "  → saved: chb16_18_seizure_1.edf\n",
      "  → saved: chb16_18_seizure_2.edf\n",
      "Normal segments saved for chb16_19.edf\n"
     ]
    },
    {
     "name": "stderr",
     "output_type": "stream",
     "text": [
      "/tmp/ipykernel_3734/3037979607.py:81: RuntimeWarning: EDF format requires equal-length data blocks, so 0.996 seconds of edge values were appended to all channels when writing the final block.\n",
      "  raw_crop.export(save_path, fmt=\"edf\", overwrite=True)\n",
      "/tmp/ipykernel_3734/3037979607.py:81: RuntimeWarning: EDF format requires equal-length data blocks, so 0.996 seconds of edge values were appended to all channels when writing the final block.\n",
      "  raw_crop.export(save_path, fmt=\"edf\", overwrite=True)\n",
      "/tmp/ipykernel_3734/3037979607.py:81: RuntimeWarning: EDF format requires equal-length data blocks, so 0.996 seconds of edge values were appended to all channels when writing the final block.\n",
      "  raw_crop.export(save_path, fmt=\"edf\", overwrite=True)\n",
      "/tmp/ipykernel_3734/3037979607.py:81: RuntimeWarning: EDF format requires equal-length data blocks, so 0.996 seconds of edge values were appended to all channels when writing the final block.\n",
      "  raw_crop.export(save_path, fmt=\"edf\", overwrite=True)\n",
      "/tmp/ipykernel_3734/3037979607.py:81: RuntimeWarning: EDF format requires equal-length data blocks, so 0.996 seconds of edge values were appended to all channels when writing the final block.\n",
      "  raw_crop.export(save_path, fmt=\"edf\", overwrite=True)\n",
      "/tmp/ipykernel_3734/3037979607.py:52: RuntimeWarning: EDF format requires equal-length data blocks, so 0.996 seconds of edge values were appended to all channels when writing the final block.\n",
      "  segment.export(save_path, fmt='edf')\n"
     ]
    },
    {
     "name": "stdout",
     "output_type": "stream",
     "text": [
      "  → saved: chb08_02_seizure_1.edf\n",
      "Normal segments saved for chb08_03.edf\n"
     ]
    },
    {
     "name": "stderr",
     "output_type": "stream",
     "text": [
      "/tmp/ipykernel_3734/3037979607.py:81: RuntimeWarning: EDF format requires equal-length data blocks, so 0.996 seconds of edge values were appended to all channels when writing the final block.\n",
      "  raw_crop.export(save_path, fmt=\"edf\", overwrite=True)\n",
      "/tmp/ipykernel_3734/3037979607.py:81: RuntimeWarning: EDF format requires equal-length data blocks, so 0.996 seconds of edge values were appended to all channels when writing the final block.\n",
      "  raw_crop.export(save_path, fmt=\"edf\", overwrite=True)\n",
      "/tmp/ipykernel_3734/3037979607.py:81: RuntimeWarning: EDF format requires equal-length data blocks, so 0.996 seconds of edge values were appended to all channels when writing the final block.\n",
      "  raw_crop.export(save_path, fmt=\"edf\", overwrite=True)\n",
      "/tmp/ipykernel_3734/3037979607.py:81: RuntimeWarning: EDF format requires equal-length data blocks, so 0.996 seconds of edge values were appended to all channels when writing the final block.\n",
      "  raw_crop.export(save_path, fmt=\"edf\", overwrite=True)\n",
      "/tmp/ipykernel_3734/3037979607.py:81: RuntimeWarning: EDF format requires equal-length data blocks, so 0.996 seconds of edge values were appended to all channels when writing the final block.\n",
      "  raw_crop.export(save_path, fmt=\"edf\", overwrite=True)\n",
      "/tmp/ipykernel_3734/3037979607.py:81: RuntimeWarning: EDF format requires equal-length data blocks, so 0.996 seconds of edge values were appended to all channels when writing the final block.\n",
      "  raw_crop.export(save_path, fmt=\"edf\", overwrite=True)\n",
      "/tmp/ipykernel_3734/3037979607.py:81: RuntimeWarning: EDF format requires equal-length data blocks, so 0.996 seconds of edge values were appended to all channels when writing the final block.\n",
      "  raw_crop.export(save_path, fmt=\"edf\", overwrite=True)\n",
      "/tmp/ipykernel_3734/3037979607.py:81: RuntimeWarning: EDF format requires equal-length data blocks, so 0.996 seconds of edge values were appended to all channels when writing the final block.\n",
      "  raw_crop.export(save_path, fmt=\"edf\", overwrite=True)\n",
      "/tmp/ipykernel_3734/3037979607.py:81: RuntimeWarning: EDF format requires equal-length data blocks, so 0.996 seconds of edge values were appended to all channels when writing the final block.\n",
      "  raw_crop.export(save_path, fmt=\"edf\", overwrite=True)\n",
      "/tmp/ipykernel_3734/3037979607.py:81: RuntimeWarning: EDF format requires equal-length data blocks, so 0.996 seconds of edge values were appended to all channels when writing the final block.\n",
      "  raw_crop.export(save_path, fmt=\"edf\", overwrite=True)\n",
      "/tmp/ipykernel_3734/3037979607.py:52: RuntimeWarning: EDF format requires equal-length data blocks, so 0.996 seconds of edge values were appended to all channels when writing the final block.\n",
      "  segment.export(save_path, fmt='edf')\n",
      "/tmp/ipykernel_3734/3037979607.py:81: RuntimeWarning: EDF format requires equal-length data blocks, so 0.996 seconds of edge values were appended to all channels when writing the final block.\n",
      "  raw_crop.export(save_path, fmt=\"edf\", overwrite=True)\n"
     ]
    },
    {
     "name": "stdout",
     "output_type": "stream",
     "text": [
      "Normal segments saved for chb08_04.edf\n",
      "  → saved: chb08_05_seizure_1.edf\n"
     ]
    },
    {
     "name": "stderr",
     "output_type": "stream",
     "text": [
      "/tmp/ipykernel_3734/3037979607.py:81: RuntimeWarning: EDF format requires equal-length data blocks, so 0.996 seconds of edge values were appended to all channels when writing the final block.\n",
      "  raw_crop.export(save_path, fmt=\"edf\", overwrite=True)\n",
      "/tmp/ipykernel_3734/3037979607.py:81: RuntimeWarning: EDF format requires equal-length data blocks, so 0.996 seconds of edge values were appended to all channels when writing the final block.\n",
      "  raw_crop.export(save_path, fmt=\"edf\", overwrite=True)\n",
      "/tmp/ipykernel_3734/3037979607.py:81: RuntimeWarning: EDF format requires equal-length data blocks, so 0.996 seconds of edge values were appended to all channels when writing the final block.\n",
      "  raw_crop.export(save_path, fmt=\"edf\", overwrite=True)\n",
      "/tmp/ipykernel_3734/3037979607.py:81: RuntimeWarning: EDF format requires equal-length data blocks, so 0.996 seconds of edge values were appended to all channels when writing the final block.\n",
      "  raw_crop.export(save_path, fmt=\"edf\", overwrite=True)\n",
      "/tmp/ipykernel_3734/3037979607.py:52: RuntimeWarning: EDF format requires equal-length data blocks, so 0.996 seconds of edge values were appended to all channels when writing the final block.\n",
      "  segment.export(save_path, fmt='edf')\n"
     ]
    },
    {
     "name": "stdout",
     "output_type": "stream",
     "text": [
      "Normal segments saved for chb08_10.edf\n",
      "  → saved: chb08_11_seizure_1.edf\n"
     ]
    },
    {
     "name": "stderr",
     "output_type": "stream",
     "text": [
      "/tmp/ipykernel_3734/3037979607.py:81: RuntimeWarning: EDF format requires equal-length data blocks, so 0.996 seconds of edge values were appended to all channels when writing the final block.\n",
      "  raw_crop.export(save_path, fmt=\"edf\", overwrite=True)\n",
      "/tmp/ipykernel_3734/3037979607.py:81: RuntimeWarning: EDF format requires equal-length data blocks, so 0.996 seconds of edge values were appended to all channels when writing the final block.\n",
      "  raw_crop.export(save_path, fmt=\"edf\", overwrite=True)\n",
      "/tmp/ipykernel_3734/3037979607.py:81: RuntimeWarning: EDF format requires equal-length data blocks, so 0.996 seconds of edge values were appended to all channels when writing the final block.\n",
      "  raw_crop.export(save_path, fmt=\"edf\", overwrite=True)\n",
      "/tmp/ipykernel_3734/3037979607.py:81: RuntimeWarning: EDF format requires equal-length data blocks, so 0.996 seconds of edge values were appended to all channels when writing the final block.\n",
      "  raw_crop.export(save_path, fmt=\"edf\", overwrite=True)\n",
      "/tmp/ipykernel_3734/3037979607.py:81: RuntimeWarning: EDF format requires equal-length data blocks, so 0.996 seconds of edge values were appended to all channels when writing the final block.\n",
      "  raw_crop.export(save_path, fmt=\"edf\", overwrite=True)\n",
      "/tmp/ipykernel_3734/3037979607.py:52: RuntimeWarning: EDF format requires equal-length data blocks, so 0.996 seconds of edge values were appended to all channels when writing the final block.\n",
      "  segment.export(save_path, fmt='edf')\n"
     ]
    },
    {
     "name": "stdout",
     "output_type": "stream",
     "text": [
      "Normal segments saved for chb08_12.edf\n",
      "  → saved: chb08_13_seizure_1.edf\n"
     ]
    },
    {
     "name": "stderr",
     "output_type": "stream",
     "text": [
      "/tmp/ipykernel_3734/3037979607.py:81: RuntimeWarning: EDF format requires equal-length data blocks, so 0.996 seconds of edge values were appended to all channels when writing the final block.\n",
      "  raw_crop.export(save_path, fmt=\"edf\", overwrite=True)\n",
      "/tmp/ipykernel_3734/3037979607.py:81: RuntimeWarning: EDF format requires equal-length data blocks, so 0.996 seconds of edge values were appended to all channels when writing the final block.\n",
      "  raw_crop.export(save_path, fmt=\"edf\", overwrite=True)\n",
      "/tmp/ipykernel_3734/3037979607.py:81: RuntimeWarning: EDF format requires equal-length data blocks, so 0.996 seconds of edge values were appended to all channels when writing the final block.\n",
      "  raw_crop.export(save_path, fmt=\"edf\", overwrite=True)\n",
      "/tmp/ipykernel_3734/3037979607.py:81: RuntimeWarning: EDF format requires equal-length data blocks, so 0.996 seconds of edge values were appended to all channels when writing the final block.\n",
      "  raw_crop.export(save_path, fmt=\"edf\", overwrite=True)\n",
      "/tmp/ipykernel_3734/3037979607.py:81: RuntimeWarning: EDF format requires equal-length data blocks, so 0.996 seconds of edge values were appended to all channels when writing the final block.\n",
      "  raw_crop.export(save_path, fmt=\"edf\", overwrite=True)\n",
      "/tmp/ipykernel_3734/3037979607.py:81: RuntimeWarning: EDF format requires equal-length data blocks, so 0.996 seconds of edge values were appended to all channels when writing the final block.\n",
      "  raw_crop.export(save_path, fmt=\"edf\", overwrite=True)\n",
      "/tmp/ipykernel_3734/3037979607.py:81: RuntimeWarning: EDF format requires equal-length data blocks, so 0.996 seconds of edge values were appended to all channels when writing the final block.\n",
      "  raw_crop.export(save_path, fmt=\"edf\", overwrite=True)\n",
      "/tmp/ipykernel_3734/3037979607.py:81: RuntimeWarning: EDF format requires equal-length data blocks, so 0.996 seconds of edge values were appended to all channels when writing the final block.\n",
      "  raw_crop.export(save_path, fmt=\"edf\", overwrite=True)\n"
     ]
    },
    {
     "name": "stdout",
     "output_type": "stream",
     "text": [
      "Normal segments saved for chb08_14.edf\n",
      "Normal segments saved for chb08_15.edf\n"
     ]
    },
    {
     "name": "stderr",
     "output_type": "stream",
     "text": [
      "/tmp/ipykernel_3734/3037979607.py:81: RuntimeWarning: EDF format requires equal-length data blocks, so 0.996 seconds of edge values were appended to all channels when writing the final block.\n",
      "  raw_crop.export(save_path, fmt=\"edf\", overwrite=True)\n",
      "/tmp/ipykernel_3734/3037979607.py:81: RuntimeWarning: EDF format requires equal-length data blocks, so 0.996 seconds of edge values were appended to all channels when writing the final block.\n",
      "  raw_crop.export(save_path, fmt=\"edf\", overwrite=True)\n",
      "/tmp/ipykernel_3734/3037979607.py:81: RuntimeWarning: EDF format requires equal-length data blocks, so 0.996 seconds of edge values were appended to all channels when writing the final block.\n",
      "  raw_crop.export(save_path, fmt=\"edf\", overwrite=True)\n",
      "/tmp/ipykernel_3734/3037979607.py:81: RuntimeWarning: EDF format requires equal-length data blocks, so 0.996 seconds of edge values were appended to all channels when writing the final block.\n",
      "  raw_crop.export(save_path, fmt=\"edf\", overwrite=True)\n",
      "/tmp/ipykernel_3734/3037979607.py:81: RuntimeWarning: EDF format requires equal-length data blocks, so 0.996 seconds of edge values were appended to all channels when writing the final block.\n",
      "  raw_crop.export(save_path, fmt=\"edf\", overwrite=True)\n",
      "/tmp/ipykernel_3734/3037979607.py:81: RuntimeWarning: EDF format requires equal-length data blocks, so 0.996 seconds of edge values were appended to all channels when writing the final block.\n",
      "  raw_crop.export(save_path, fmt=\"edf\", overwrite=True)\n",
      "/tmp/ipykernel_3734/3037979607.py:81: RuntimeWarning: EDF format requires equal-length data blocks, so 0.996 seconds of edge values were appended to all channels when writing the final block.\n",
      "  raw_crop.export(save_path, fmt=\"edf\", overwrite=True)\n"
     ]
    },
    {
     "name": "stdout",
     "output_type": "stream",
     "text": [
      "Normal segments saved for chb08_16.edf\n",
      "Normal segments saved for chb08_17.edf\n"
     ]
    },
    {
     "name": "stderr",
     "output_type": "stream",
     "text": [
      "/tmp/ipykernel_3734/3037979607.py:81: RuntimeWarning: EDF format requires equal-length data blocks, so 0.996 seconds of edge values were appended to all channels when writing the final block.\n",
      "  raw_crop.export(save_path, fmt=\"edf\", overwrite=True)\n",
      "/tmp/ipykernel_3734/3037979607.py:81: RuntimeWarning: EDF format requires equal-length data blocks, so 0.996 seconds of edge values were appended to all channels when writing the final block.\n",
      "  raw_crop.export(save_path, fmt=\"edf\", overwrite=True)\n",
      "/tmp/ipykernel_3734/3037979607.py:81: RuntimeWarning: EDF format requires equal-length data blocks, so 0.996 seconds of edge values were appended to all channels when writing the final block.\n",
      "  raw_crop.export(save_path, fmt=\"edf\", overwrite=True)\n",
      "/tmp/ipykernel_3734/3037979607.py:81: RuntimeWarning: EDF format requires equal-length data blocks, so 0.996 seconds of edge values were appended to all channels when writing the final block.\n",
      "  raw_crop.export(save_path, fmt=\"edf\", overwrite=True)\n",
      "/tmp/ipykernel_3734/3037979607.py:81: RuntimeWarning: EDF format requires equal-length data blocks, so 0.996 seconds of edge values were appended to all channels when writing the final block.\n",
      "  raw_crop.export(save_path, fmt=\"edf\", overwrite=True)\n",
      "/tmp/ipykernel_3734/3037979607.py:81: RuntimeWarning: EDF format requires equal-length data blocks, so 0.996 seconds of edge values were appended to all channels when writing the final block.\n",
      "  raw_crop.export(save_path, fmt=\"edf\", overwrite=True)\n",
      "/tmp/ipykernel_3734/3037979607.py:81: RuntimeWarning: EDF format requires equal-length data blocks, so 0.996 seconds of edge values were appended to all channels when writing the final block.\n",
      "  raw_crop.export(save_path, fmt=\"edf\", overwrite=True)\n",
      "/tmp/ipykernel_3734/3037979607.py:81: RuntimeWarning: EDF format requires equal-length data blocks, so 0.996 seconds of edge values were appended to all channels when writing the final block.\n",
      "  raw_crop.export(save_path, fmt=\"edf\", overwrite=True)\n",
      "/tmp/ipykernel_3734/3037979607.py:81: RuntimeWarning: EDF format requires equal-length data blocks, so 0.996 seconds of edge values were appended to all channels when writing the final block.\n",
      "  raw_crop.export(save_path, fmt=\"edf\", overwrite=True)\n",
      "/tmp/ipykernel_3734/3037979607.py:81: RuntimeWarning: EDF format requires equal-length data blocks, so 0.996 seconds of edge values were appended to all channels when writing the final block.\n",
      "  raw_crop.export(save_path, fmt=\"edf\", overwrite=True)\n",
      "/tmp/ipykernel_3734/3037979607.py:81: RuntimeWarning: EDF format requires equal-length data blocks, so 0.996 seconds of edge values were appended to all channels when writing the final block.\n",
      "  raw_crop.export(save_path, fmt=\"edf\", overwrite=True)\n",
      "/tmp/ipykernel_3734/3037979607.py:81: RuntimeWarning: EDF format requires equal-length data blocks, so 0.996 seconds of edge values were appended to all channels when writing the final block.\n",
      "  raw_crop.export(save_path, fmt=\"edf\", overwrite=True)\n",
      "/tmp/ipykernel_3734/3037979607.py:81: RuntimeWarning: EDF format requires equal-length data blocks, so 0.996 seconds of edge values were appended to all channels when writing the final block.\n",
      "  raw_crop.export(save_path, fmt=\"edf\", overwrite=True)\n",
      "/tmp/ipykernel_3734/3037979607.py:81: RuntimeWarning: EDF format requires equal-length data blocks, so 0.996 seconds of edge values were appended to all channels when writing the final block.\n",
      "  raw_crop.export(save_path, fmt=\"edf\", overwrite=True)\n",
      "/tmp/ipykernel_3734/3037979607.py:81: RuntimeWarning: EDF format requires equal-length data blocks, so 0.996 seconds of edge values were appended to all channels when writing the final block.\n",
      "  raw_crop.export(save_path, fmt=\"edf\", overwrite=True)\n"
     ]
    },
    {
     "name": "stdout",
     "output_type": "stream",
     "text": [
      "Normal segments saved for chb08_18.edf\n",
      "Normal segments saved for chb08_19.edf\n"
     ]
    },
    {
     "name": "stderr",
     "output_type": "stream",
     "text": [
      "/tmp/ipykernel_3734/3037979607.py:81: RuntimeWarning: EDF format requires equal-length data blocks, so 0.996 seconds of edge values were appended to all channels when writing the final block.\n",
      "  raw_crop.export(save_path, fmt=\"edf\", overwrite=True)\n",
      "/tmp/ipykernel_3734/3037979607.py:81: RuntimeWarning: EDF format requires equal-length data blocks, so 0.996 seconds of edge values were appended to all channels when writing the final block.\n",
      "  raw_crop.export(save_path, fmt=\"edf\", overwrite=True)\n",
      "/tmp/ipykernel_3734/3037979607.py:81: RuntimeWarning: EDF format requires equal-length data blocks, so 0.996 seconds of edge values were appended to all channels when writing the final block.\n",
      "  raw_crop.export(save_path, fmt=\"edf\", overwrite=True)\n",
      "/tmp/ipykernel_3734/3037979607.py:81: RuntimeWarning: EDF format requires equal-length data blocks, so 0.996 seconds of edge values were appended to all channels when writing the final block.\n",
      "  raw_crop.export(save_path, fmt=\"edf\", overwrite=True)\n",
      "/tmp/ipykernel_3734/3037979607.py:81: RuntimeWarning: EDF format requires equal-length data blocks, so 0.996 seconds of edge values were appended to all channels when writing the final block.\n",
      "  raw_crop.export(save_path, fmt=\"edf\", overwrite=True)\n",
      "/tmp/ipykernel_3734/3037979607.py:52: RuntimeWarning: EDF format requires equal-length data blocks, so 0.996 seconds of edge values were appended to all channels when writing the final block.\n",
      "  segment.export(save_path, fmt='edf')\n"
     ]
    },
    {
     "name": "stdout",
     "output_type": "stream",
     "text": [
      "Normal segments saved for chb08_20.edf\n",
      "  → saved: chb08_21_seizure_1.edf\n"
     ]
    },
    {
     "name": "stderr",
     "output_type": "stream",
     "text": [
      "/tmp/ipykernel_3734/3037979607.py:81: RuntimeWarning: EDF format requires equal-length data blocks, so 0.996 seconds of edge values were appended to all channels when writing the final block.\n",
      "  raw_crop.export(save_path, fmt=\"edf\", overwrite=True)\n",
      "/tmp/ipykernel_3734/3037979607.py:81: RuntimeWarning: EDF format requires equal-length data blocks, so 0.996 seconds of edge values were appended to all channels when writing the final block.\n",
      "  raw_crop.export(save_path, fmt=\"edf\", overwrite=True)\n",
      "/tmp/ipykernel_3734/3037979607.py:81: RuntimeWarning: EDF format requires equal-length data blocks, so 0.996 seconds of edge values were appended to all channels when writing the final block.\n",
      "  raw_crop.export(save_path, fmt=\"edf\", overwrite=True)\n",
      "/tmp/ipykernel_3734/3037979607.py:81: RuntimeWarning: EDF format requires equal-length data blocks, so 0.996 seconds of edge values were appended to all channels when writing the final block.\n",
      "  raw_crop.export(save_path, fmt=\"edf\", overwrite=True)\n",
      "/tmp/ipykernel_3734/3037979607.py:81: RuntimeWarning: EDF format requires equal-length data blocks, so 0.996 seconds of edge values were appended to all channels when writing the final block.\n",
      "  raw_crop.export(save_path, fmt=\"edf\", overwrite=True)\n",
      "/tmp/ipykernel_3734/3037979607.py:81: RuntimeWarning: EDF format requires equal-length data blocks, so 0.996 seconds of edge values were appended to all channels when writing the final block.\n",
      "  raw_crop.export(save_path, fmt=\"edf\", overwrite=True)\n",
      "/tmp/ipykernel_3734/3037979607.py:81: RuntimeWarning: EDF format requires equal-length data blocks, so 0.996 seconds of edge values were appended to all channels when writing the final block.\n",
      "  raw_crop.export(save_path, fmt=\"edf\", overwrite=True)\n",
      "/tmp/ipykernel_3734/3037979607.py:81: RuntimeWarning: EDF format requires equal-length data blocks, so 0.996 seconds of edge values were appended to all channels when writing the final block.\n",
      "  raw_crop.export(save_path, fmt=\"edf\", overwrite=True)\n"
     ]
    },
    {
     "name": "stdout",
     "output_type": "stream",
     "text": [
      "Normal segments saved for chb08_22.edf\n",
      "Normal segments saved for chb08_23.edf\n"
     ]
    },
    {
     "name": "stderr",
     "output_type": "stream",
     "text": [
      "/tmp/ipykernel_3734/3037979607.py:81: RuntimeWarning: EDF format requires equal-length data blocks, so 0.996 seconds of edge values were appended to all channels when writing the final block.\n",
      "  raw_crop.export(save_path, fmt=\"edf\", overwrite=True)\n",
      "/tmp/ipykernel_3734/3037979607.py:81: RuntimeWarning: EDF format requires equal-length data blocks, so 0.996 seconds of edge values were appended to all channels when writing the final block.\n",
      "  raw_crop.export(save_path, fmt=\"edf\", overwrite=True)\n",
      "/tmp/ipykernel_3734/3037979607.py:81: RuntimeWarning: EDF format requires equal-length data blocks, so 0.996 seconds of edge values were appended to all channels when writing the final block.\n",
      "  raw_crop.export(save_path, fmt=\"edf\", overwrite=True)\n",
      "/tmp/ipykernel_3734/3037979607.py:81: RuntimeWarning: EDF format requires equal-length data blocks, so 0.996 seconds of edge values were appended to all channels when writing the final block.\n",
      "  raw_crop.export(save_path, fmt=\"edf\", overwrite=True)\n",
      "/tmp/ipykernel_3734/3037979607.py:81: RuntimeWarning: EDF format requires equal-length data blocks, so 0.996 seconds of edge values were appended to all channels when writing the final block.\n",
      "  raw_crop.export(save_path, fmt=\"edf\", overwrite=True)\n",
      "/tmp/ipykernel_3734/3037979607.py:81: RuntimeWarning: EDF format requires equal-length data blocks, so 0.996 seconds of edge values were appended to all channels when writing the final block.\n",
      "  raw_crop.export(save_path, fmt=\"edf\", overwrite=True)\n",
      "/tmp/ipykernel_3734/3037979607.py:81: RuntimeWarning: EDF format requires equal-length data blocks, so 0.996 seconds of edge values were appended to all channels when writing the final block.\n",
      "  raw_crop.export(save_path, fmt=\"edf\", overwrite=True)\n"
     ]
    },
    {
     "name": "stdout",
     "output_type": "stream",
     "text": [
      "Normal segments saved for chb08_24.edf\n",
      "Normal segments saved for chb08_29.edf\n"
     ]
    },
    {
     "name": "stderr",
     "output_type": "stream",
     "text": [
      "/tmp/ipykernel_3734/3037979607.py:81: RuntimeWarning: EDF format requires equal-length data blocks, so 0.996 seconds of edge values were appended to all channels when writing the final block.\n",
      "  raw_crop.export(save_path, fmt=\"edf\", overwrite=True)\n",
      "/tmp/ipykernel_3734/3037979607.py:81: RuntimeWarning: EDF format requires equal-length data blocks, so 0.996 seconds of edge values were appended to all channels when writing the final block.\n",
      "  raw_crop.export(save_path, fmt=\"edf\", overwrite=True)\n",
      "/tmp/ipykernel_3734/3037979607.py:81: RuntimeWarning: EDF format requires equal-length data blocks, so 0.996 seconds of edge values were appended to all channels when writing the final block.\n",
      "  raw_crop.export(save_path, fmt=\"edf\", overwrite=True)\n",
      "/tmp/ipykernel_3734/3037979607.py:81: RuntimeWarning: EDF format requires equal-length data blocks, so 0.996 seconds of edge values were appended to all channels when writing the final block.\n",
      "  raw_crop.export(save_path, fmt=\"edf\", overwrite=True)\n",
      "/tmp/ipykernel_3734/3037979607.py:81: RuntimeWarning: EDF format requires equal-length data blocks, so 0.996 seconds of edge values were appended to all channels when writing the final block.\n",
      "  raw_crop.export(save_path, fmt=\"edf\", overwrite=True)\n",
      "/tmp/ipykernel_3734/3037979607.py:81: RuntimeWarning: EDF format requires equal-length data blocks, so 0.996 seconds of edge values were appended to all channels when writing the final block.\n",
      "  raw_crop.export(save_path, fmt=\"edf\", overwrite=True)\n",
      "/tmp/ipykernel_3734/3037979607.py:81: RuntimeWarning: EDF format requires equal-length data blocks, so 0.996 seconds of edge values were appended to all channels when writing the final block.\n",
      "  raw_crop.export(save_path, fmt=\"edf\", overwrite=True)\n",
      "/tmp/ipykernel_3734/3037979607.py:81: RuntimeWarning: EDF format requires equal-length data blocks, so 0.996 seconds of edge values were appended to all channels when writing the final block.\n",
      "  raw_crop.export(save_path, fmt=\"edf\", overwrite=True)\n",
      "/tmp/ipykernel_3734/3037979607.py:81: RuntimeWarning: EDF format requires equal-length data blocks, so 0.996 seconds of edge values were appended to all channels when writing the final block.\n",
      "  raw_crop.export(save_path, fmt=\"edf\", overwrite=True)\n",
      "/tmp/ipykernel_3734/3037979607.py:81: RuntimeWarning: EDF format requires equal-length data blocks, so 0.996 seconds of edge values were appended to all channels when writing the final block.\n",
      "  raw_crop.export(save_path, fmt=\"edf\", overwrite=True)\n",
      "/tmp/ipykernel_3734/3037979607.py:81: RuntimeWarning: EDF format requires equal-length data blocks, so 0.996 seconds of edge values were appended to all channels when writing the final block.\n",
      "  raw_crop.export(save_path, fmt=\"edf\", overwrite=True)\n",
      "/tmp/ipykernel_3734/3037979607.py:81: RuntimeWarning: EDF format requires equal-length data blocks, so 0.996 seconds of edge values were appended to all channels when writing the final block.\n",
      "  raw_crop.export(save_path, fmt=\"edf\", overwrite=True)\n",
      "/tmp/ipykernel_3734/3037979607.py:81: RuntimeWarning: EDF format requires equal-length data blocks, so 0.996 seconds of edge values were appended to all channels when writing the final block.\n",
      "  raw_crop.export(save_path, fmt=\"edf\", overwrite=True)\n",
      "/tmp/ipykernel_3734/3037979607.py:81: RuntimeWarning: EDF format requires equal-length data blocks, so 0.996 seconds of edge values were appended to all channels when writing the final block.\n",
      "  raw_crop.export(save_path, fmt=\"edf\", overwrite=True)\n",
      "/tmp/ipykernel_3734/3037979607.py:81: RuntimeWarning: EDF format requires equal-length data blocks, so 0.996 seconds of edge values were appended to all channels when writing the final block.\n",
      "  raw_crop.export(save_path, fmt=\"edf\", overwrite=True)\n"
     ]
    },
    {
     "name": "stdout",
     "output_type": "stream",
     "text": [
      "Normal segments saved for chb01_01.edf\n",
      "Normal segments saved for chb01_02.edf\n"
     ]
    },
    {
     "name": "stderr",
     "output_type": "stream",
     "text": [
      "/tmp/ipykernel_3734/3037979607.py:52: RuntimeWarning: EDF format requires equal-length data blocks, so 0.996 seconds of edge values were appended to all channels when writing the final block.\n",
      "  segment.export(save_path, fmt='edf')\n",
      "/tmp/ipykernel_3734/3037979607.py:52: RuntimeWarning: EDF format requires equal-length data blocks, so 0.996 seconds of edge values were appended to all channels when writing the final block.\n",
      "  segment.export(save_path, fmt='edf')\n",
      "/tmp/ipykernel_3734/3037979607.py:81: RuntimeWarning: EDF format requires equal-length data blocks, so 0.996 seconds of edge values were appended to all channels when writing the final block.\n",
      "  raw_crop.export(save_path, fmt=\"edf\", overwrite=True)\n",
      "/tmp/ipykernel_3734/3037979607.py:81: RuntimeWarning: EDF format requires equal-length data blocks, so 0.996 seconds of edge values were appended to all channels when writing the final block.\n",
      "  raw_crop.export(save_path, fmt=\"edf\", overwrite=True)\n",
      "/tmp/ipykernel_3734/3037979607.py:81: RuntimeWarning: EDF format requires equal-length data blocks, so 0.996 seconds of edge values were appended to all channels when writing the final block.\n",
      "  raw_crop.export(save_path, fmt=\"edf\", overwrite=True)\n"
     ]
    },
    {
     "name": "stdout",
     "output_type": "stream",
     "text": [
      "  → saved: chb01_03_seizure_1.edf\n",
      "  → saved: chb01_04_seizure_1.edf\n"
     ]
    },
    {
     "name": "stderr",
     "output_type": "stream",
     "text": [
      "/tmp/ipykernel_3734/3037979607.py:81: RuntimeWarning: EDF format requires equal-length data blocks, so 0.996 seconds of edge values were appended to all channels when writing the final block.\n",
      "  raw_crop.export(save_path, fmt=\"edf\", overwrite=True)\n",
      "/tmp/ipykernel_3734/3037979607.py:81: RuntimeWarning: EDF format requires equal-length data blocks, so 0.996 seconds of edge values were appended to all channels when writing the final block.\n",
      "  raw_crop.export(save_path, fmt=\"edf\", overwrite=True)\n",
      "/tmp/ipykernel_3734/3037979607.py:81: RuntimeWarning: EDF format requires equal-length data blocks, so 0.996 seconds of edge values were appended to all channels when writing the final block.\n",
      "  raw_crop.export(save_path, fmt=\"edf\", overwrite=True)\n",
      "/tmp/ipykernel_3734/3037979607.py:81: RuntimeWarning: EDF format requires equal-length data blocks, so 0.996 seconds of edge values were appended to all channels when writing the final block.\n",
      "  raw_crop.export(save_path, fmt=\"edf\", overwrite=True)\n",
      "/tmp/ipykernel_3734/3037979607.py:81: RuntimeWarning: EDF format requires equal-length data blocks, so 0.996 seconds of edge values were appended to all channels when writing the final block.\n",
      "  raw_crop.export(save_path, fmt=\"edf\", overwrite=True)\n",
      "/tmp/ipykernel_3734/3037979607.py:81: RuntimeWarning: EDF format requires equal-length data blocks, so 0.996 seconds of edge values were appended to all channels when writing the final block.\n",
      "  raw_crop.export(save_path, fmt=\"edf\", overwrite=True)\n",
      "/tmp/ipykernel_3734/3037979607.py:81: RuntimeWarning: EDF format requires equal-length data blocks, so 0.996 seconds of edge values were appended to all channels when writing the final block.\n",
      "  raw_crop.export(save_path, fmt=\"edf\", overwrite=True)\n"
     ]
    },
    {
     "name": "stdout",
     "output_type": "stream",
     "text": [
      "Normal segments saved for chb01_05.edf\n",
      "Normal segments saved for chb01_06.edf\n"
     ]
    },
    {
     "name": "stderr",
     "output_type": "stream",
     "text": [
      "/tmp/ipykernel_3734/3037979607.py:81: RuntimeWarning: EDF format requires equal-length data blocks, so 0.996 seconds of edge values were appended to all channels when writing the final block.\n",
      "  raw_crop.export(save_path, fmt=\"edf\", overwrite=True)\n",
      "/tmp/ipykernel_3734/3037979607.py:81: RuntimeWarning: EDF format requires equal-length data blocks, so 0.996 seconds of edge values were appended to all channels when writing the final block.\n",
      "  raw_crop.export(save_path, fmt=\"edf\", overwrite=True)\n",
      "/tmp/ipykernel_3734/3037979607.py:81: RuntimeWarning: EDF format requires equal-length data blocks, so 0.996 seconds of edge values were appended to all channels when writing the final block.\n",
      "  raw_crop.export(save_path, fmt=\"edf\", overwrite=True)\n",
      "/tmp/ipykernel_3734/3037979607.py:81: RuntimeWarning: EDF format requires equal-length data blocks, so 0.996 seconds of edge values were appended to all channels when writing the final block.\n",
      "  raw_crop.export(save_path, fmt=\"edf\", overwrite=True)\n",
      "/tmp/ipykernel_3734/3037979607.py:81: RuntimeWarning: EDF format requires equal-length data blocks, so 0.996 seconds of edge values were appended to all channels when writing the final block.\n",
      "  raw_crop.export(save_path, fmt=\"edf\", overwrite=True)\n",
      "/tmp/ipykernel_3734/3037979607.py:81: RuntimeWarning: EDF format requires equal-length data blocks, so 0.996 seconds of edge values were appended to all channels when writing the final block.\n",
      "  raw_crop.export(save_path, fmt=\"edf\", overwrite=True)\n",
      "/tmp/ipykernel_3734/3037979607.py:81: RuntimeWarning: EDF format requires equal-length data blocks, so 0.996 seconds of edge values were appended to all channels when writing the final block.\n",
      "  raw_crop.export(save_path, fmt=\"edf\", overwrite=True)\n",
      "/tmp/ipykernel_3734/3037979607.py:81: RuntimeWarning: EDF format requires equal-length data blocks, so 0.996 seconds of edge values were appended to all channels when writing the final block.\n",
      "  raw_crop.export(save_path, fmt=\"edf\", overwrite=True)\n"
     ]
    },
    {
     "name": "stdout",
     "output_type": "stream",
     "text": [
      "Normal segments saved for chb01_07.edf\n",
      "Normal segments saved for chb01_08.edf\n"
     ]
    },
    {
     "name": "stderr",
     "output_type": "stream",
     "text": [
      "/tmp/ipykernel_3734/3037979607.py:81: RuntimeWarning: EDF format requires equal-length data blocks, so 0.996 seconds of edge values were appended to all channels when writing the final block.\n",
      "  raw_crop.export(save_path, fmt=\"edf\", overwrite=True)\n",
      "/tmp/ipykernel_3734/3037979607.py:81: RuntimeWarning: EDF format requires equal-length data blocks, so 0.996 seconds of edge values were appended to all channels when writing the final block.\n",
      "  raw_crop.export(save_path, fmt=\"edf\", overwrite=True)\n",
      "/tmp/ipykernel_3734/3037979607.py:81: RuntimeWarning: EDF format requires equal-length data blocks, so 0.996 seconds of edge values were appended to all channels when writing the final block.\n",
      "  raw_crop.export(save_path, fmt=\"edf\", overwrite=True)\n",
      "/tmp/ipykernel_3734/3037979607.py:81: RuntimeWarning: EDF format requires equal-length data blocks, so 0.996 seconds of edge values were appended to all channels when writing the final block.\n",
      "  raw_crop.export(save_path, fmt=\"edf\", overwrite=True)\n",
      "/tmp/ipykernel_3734/3037979607.py:81: RuntimeWarning: EDF format requires equal-length data blocks, so 0.996 seconds of edge values were appended to all channels when writing the final block.\n",
      "  raw_crop.export(save_path, fmt=\"edf\", overwrite=True)\n",
      "/tmp/ipykernel_3734/3037979607.py:81: RuntimeWarning: EDF format requires equal-length data blocks, so 0.996 seconds of edge values were appended to all channels when writing the final block.\n",
      "  raw_crop.export(save_path, fmt=\"edf\", overwrite=True)\n",
      "/tmp/ipykernel_3734/3037979607.py:81: RuntimeWarning: EDF format requires equal-length data blocks, so 0.996 seconds of edge values were appended to all channels when writing the final block.\n",
      "  raw_crop.export(save_path, fmt=\"edf\", overwrite=True)\n"
     ]
    },
    {
     "name": "stdout",
     "output_type": "stream",
     "text": [
      "Normal segments saved for chb01_09.edf\n",
      "Normal segments saved for chb01_10.edf\n"
     ]
    },
    {
     "name": "stderr",
     "output_type": "stream",
     "text": [
      "/tmp/ipykernel_3734/3037979607.py:81: RuntimeWarning: EDF format requires equal-length data blocks, so 0.996 seconds of edge values were appended to all channels when writing the final block.\n",
      "  raw_crop.export(save_path, fmt=\"edf\", overwrite=True)\n",
      "/tmp/ipykernel_3734/3037979607.py:81: RuntimeWarning: EDF format requires equal-length data blocks, so 0.996 seconds of edge values were appended to all channels when writing the final block.\n",
      "  raw_crop.export(save_path, fmt=\"edf\", overwrite=True)\n",
      "/tmp/ipykernel_3734/3037979607.py:81: RuntimeWarning: EDF format requires equal-length data blocks, so 0.996 seconds of edge values were appended to all channels when writing the final block.\n",
      "  raw_crop.export(save_path, fmt=\"edf\", overwrite=True)\n",
      "/tmp/ipykernel_3734/3037979607.py:81: RuntimeWarning: EDF format requires equal-length data blocks, so 0.996 seconds of edge values were appended to all channels when writing the final block.\n",
      "  raw_crop.export(save_path, fmt=\"edf\", overwrite=True)\n",
      "/tmp/ipykernel_3734/3037979607.py:81: RuntimeWarning: EDF format requires equal-length data blocks, so 0.996 seconds of edge values were appended to all channels when writing the final block.\n",
      "  raw_crop.export(save_path, fmt=\"edf\", overwrite=True)\n",
      "/tmp/ipykernel_3734/3037979607.py:81: RuntimeWarning: EDF format requires equal-length data blocks, so 0.996 seconds of edge values were appended to all channels when writing the final block.\n",
      "  raw_crop.export(save_path, fmt=\"edf\", overwrite=True)\n",
      "/tmp/ipykernel_3734/3037979607.py:81: RuntimeWarning: EDF format requires equal-length data blocks, so 0.996 seconds of edge values were appended to all channels when writing the final block.\n",
      "  raw_crop.export(save_path, fmt=\"edf\", overwrite=True)\n",
      "/tmp/ipykernel_3734/3037979607.py:81: RuntimeWarning: EDF format requires equal-length data blocks, so 0.996 seconds of edge values were appended to all channels when writing the final block.\n",
      "  raw_crop.export(save_path, fmt=\"edf\", overwrite=True)\n",
      "/tmp/ipykernel_3734/3037979607.py:81: RuntimeWarning: EDF format requires equal-length data blocks, so 0.996 seconds of edge values were appended to all channels when writing the final block.\n",
      "  raw_crop.export(save_path, fmt=\"edf\", overwrite=True)\n",
      "/tmp/ipykernel_3734/3037979607.py:81: RuntimeWarning: EDF format requires equal-length data blocks, so 0.996 seconds of edge values were appended to all channels when writing the final block.\n",
      "  raw_crop.export(save_path, fmt=\"edf\", overwrite=True)\n",
      "/tmp/ipykernel_3734/3037979607.py:81: RuntimeWarning: EDF format requires equal-length data blocks, so 0.996 seconds of edge values were appended to all channels when writing the final block.\n",
      "  raw_crop.export(save_path, fmt=\"edf\", overwrite=True)\n",
      "/tmp/ipykernel_3734/3037979607.py:81: RuntimeWarning: EDF format requires equal-length data blocks, so 0.996 seconds of edge values were appended to all channels when writing the final block.\n",
      "  raw_crop.export(save_path, fmt=\"edf\", overwrite=True)\n",
      "/tmp/ipykernel_3734/3037979607.py:81: RuntimeWarning: EDF format requires equal-length data blocks, so 0.996 seconds of edge values were appended to all channels when writing the final block.\n",
      "  raw_crop.export(save_path, fmt=\"edf\", overwrite=True)\n",
      "/tmp/ipykernel_3734/3037979607.py:81: RuntimeWarning: EDF format requires equal-length data blocks, so 0.996 seconds of edge values were appended to all channels when writing the final block.\n",
      "  raw_crop.export(save_path, fmt=\"edf\", overwrite=True)\n",
      "/tmp/ipykernel_3734/3037979607.py:81: RuntimeWarning: EDF format requires equal-length data blocks, so 0.996 seconds of edge values were appended to all channels when writing the final block.\n",
      "  raw_crop.export(save_path, fmt=\"edf\", overwrite=True)\n"
     ]
    },
    {
     "name": "stdout",
     "output_type": "stream",
     "text": [
      "Normal segments saved for chb01_11.edf\n",
      "Normal segments saved for chb01_12.edf\n"
     ]
    },
    {
     "name": "stderr",
     "output_type": "stream",
     "text": [
      "/tmp/ipykernel_3734/3037979607.py:81: RuntimeWarning: EDF format requires equal-length data blocks, so 0.996 seconds of edge values were appended to all channels when writing the final block.\n",
      "  raw_crop.export(save_path, fmt=\"edf\", overwrite=True)\n",
      "/tmp/ipykernel_3734/3037979607.py:81: RuntimeWarning: EDF format requires equal-length data blocks, so 0.996 seconds of edge values were appended to all channels when writing the final block.\n",
      "  raw_crop.export(save_path, fmt=\"edf\", overwrite=True)\n",
      "/tmp/ipykernel_3734/3037979607.py:81: RuntimeWarning: EDF format requires equal-length data blocks, so 0.996 seconds of edge values were appended to all channels when writing the final block.\n",
      "  raw_crop.export(save_path, fmt=\"edf\", overwrite=True)\n",
      "/tmp/ipykernel_3734/3037979607.py:81: RuntimeWarning: EDF format requires equal-length data blocks, so 0.996 seconds of edge values were appended to all channels when writing the final block.\n",
      "  raw_crop.export(save_path, fmt=\"edf\", overwrite=True)\n",
      "/tmp/ipykernel_3734/3037979607.py:81: RuntimeWarning: EDF format requires equal-length data blocks, so 0.996 seconds of edge values were appended to all channels when writing the final block.\n",
      "  raw_crop.export(save_path, fmt=\"edf\", overwrite=True)\n",
      "/tmp/ipykernel_3734/3037979607.py:81: RuntimeWarning: EDF format requires equal-length data blocks, so 0.996 seconds of edge values were appended to all channels when writing the final block.\n",
      "  raw_crop.export(save_path, fmt=\"edf\", overwrite=True)\n",
      "/tmp/ipykernel_3734/3037979607.py:81: RuntimeWarning: EDF format requires equal-length data blocks, so 0.996 seconds of edge values were appended to all channels when writing the final block.\n",
      "  raw_crop.export(save_path, fmt=\"edf\", overwrite=True)\n",
      "/tmp/ipykernel_3734/3037979607.py:81: RuntimeWarning: EDF format requires equal-length data blocks, so 0.996 seconds of edge values were appended to all channels when writing the final block.\n",
      "  raw_crop.export(save_path, fmt=\"edf\", overwrite=True)\n"
     ]
    },
    {
     "name": "stdout",
     "output_type": "stream",
     "text": [
      "Normal segments saved for chb01_13.edf\n",
      "Normal segments saved for chb01_14.edf\n"
     ]
    },
    {
     "name": "stderr",
     "output_type": "stream",
     "text": [
      "/tmp/ipykernel_3734/3037979607.py:81: RuntimeWarning: EDF format requires equal-length data blocks, so 0.996 seconds of edge values were appended to all channels when writing the final block.\n",
      "  raw_crop.export(save_path, fmt=\"edf\", overwrite=True)\n",
      "/tmp/ipykernel_3734/3037979607.py:81: RuntimeWarning: EDF format requires equal-length data blocks, so 0.996 seconds of edge values were appended to all channels when writing the final block.\n",
      "  raw_crop.export(save_path, fmt=\"edf\", overwrite=True)\n",
      "/tmp/ipykernel_3734/3037979607.py:52: RuntimeWarning: EDF format requires equal-length data blocks, so 0.996 seconds of edge values were appended to all channels when writing the final block.\n",
      "  segment.export(save_path, fmt='edf')\n",
      "/tmp/ipykernel_3734/3037979607.py:52: RuntimeWarning: EDF format requires equal-length data blocks, so 0.996 seconds of edge values were appended to all channels when writing the final block.\n",
      "  segment.export(save_path, fmt='edf')\n"
     ]
    },
    {
     "name": "stdout",
     "output_type": "stream",
     "text": [
      "  → saved: chb01_15_seizure_1.edf\n",
      "  → saved: chb01_16_seizure_1.edf\n"
     ]
    },
    {
     "name": "stderr",
     "output_type": "stream",
     "text": [
      "/tmp/ipykernel_3734/3037979607.py:81: RuntimeWarning: EDF format requires equal-length data blocks, so 0.996 seconds of edge values were appended to all channels when writing the final block.\n",
      "  raw_crop.export(save_path, fmt=\"edf\", overwrite=True)\n",
      "/tmp/ipykernel_3734/3037979607.py:81: RuntimeWarning: EDF format requires equal-length data blocks, so 0.996 seconds of edge values were appended to all channels when writing the final block.\n",
      "  raw_crop.export(save_path, fmt=\"edf\", overwrite=True)\n",
      "/tmp/ipykernel_3734/3037979607.py:81: RuntimeWarning: EDF format requires equal-length data blocks, so 0.996 seconds of edge values were appended to all channels when writing the final block.\n",
      "  raw_crop.export(save_path, fmt=\"edf\", overwrite=True)\n",
      "/tmp/ipykernel_3734/3037979607.py:81: RuntimeWarning: EDF format requires equal-length data blocks, so 0.996 seconds of edge values were appended to all channels when writing the final block.\n",
      "  raw_crop.export(save_path, fmt=\"edf\", overwrite=True)\n",
      "/tmp/ipykernel_3734/3037979607.py:81: RuntimeWarning: EDF format requires equal-length data blocks, so 0.996 seconds of edge values were appended to all channels when writing the final block.\n",
      "  raw_crop.export(save_path, fmt=\"edf\", overwrite=True)\n",
      "/tmp/ipykernel_3734/3037979607.py:52: RuntimeWarning: EDF format requires equal-length data blocks, so 0.996 seconds of edge values were appended to all channels when writing the final block.\n",
      "  segment.export(save_path, fmt='edf')\n"
     ]
    },
    {
     "name": "stdout",
     "output_type": "stream",
     "text": [
      "Normal segments saved for chb01_17.edf\n",
      "  → saved: chb01_18_seizure_1.edf\n"
     ]
    },
    {
     "name": "stderr",
     "output_type": "stream",
     "text": [
      "/tmp/ipykernel_3734/3037979607.py:81: RuntimeWarning: EDF format requires equal-length data blocks, so 0.996 seconds of edge values were appended to all channels when writing the final block.\n",
      "  raw_crop.export(save_path, fmt=\"edf\", overwrite=True)\n",
      "/tmp/ipykernel_3734/3037979607.py:81: RuntimeWarning: EDF format requires equal-length data blocks, so 0.996 seconds of edge values were appended to all channels when writing the final block.\n",
      "  raw_crop.export(save_path, fmt=\"edf\", overwrite=True)\n",
      "/tmp/ipykernel_3734/3037979607.py:81: RuntimeWarning: EDF format requires equal-length data blocks, so 0.996 seconds of edge values were appended to all channels when writing the final block.\n",
      "  raw_crop.export(save_path, fmt=\"edf\", overwrite=True)\n",
      "/tmp/ipykernel_3734/3037979607.py:81: RuntimeWarning: EDF format requires equal-length data blocks, so 0.996 seconds of edge values were appended to all channels when writing the final block.\n",
      "  raw_crop.export(save_path, fmt=\"edf\", overwrite=True)\n",
      "/tmp/ipykernel_3734/3037979607.py:81: RuntimeWarning: EDF format requires equal-length data blocks, so 0.996 seconds of edge values were appended to all channels when writing the final block.\n",
      "  raw_crop.export(save_path, fmt=\"edf\", overwrite=True)\n",
      "/tmp/ipykernel_3734/3037979607.py:81: RuntimeWarning: EDF format requires equal-length data blocks, so 0.996 seconds of edge values were appended to all channels when writing the final block.\n",
      "  raw_crop.export(save_path, fmt=\"edf\", overwrite=True)\n",
      "/tmp/ipykernel_3734/3037979607.py:81: RuntimeWarning: EDF format requires equal-length data blocks, so 0.996 seconds of edge values were appended to all channels when writing the final block.\n",
      "  raw_crop.export(save_path, fmt=\"edf\", overwrite=True)\n",
      "/tmp/ipykernel_3734/3037979607.py:81: RuntimeWarning: EDF format requires equal-length data blocks, so 0.996 seconds of edge values were appended to all channels when writing the final block.\n",
      "  raw_crop.export(save_path, fmt=\"edf\", overwrite=True)\n",
      "/tmp/ipykernel_3734/3037979607.py:81: RuntimeWarning: EDF format requires equal-length data blocks, so 0.996 seconds of edge values were appended to all channels when writing the final block.\n",
      "  raw_crop.export(save_path, fmt=\"edf\", overwrite=True)\n",
      "/tmp/ipykernel_3734/3037979607.py:81: RuntimeWarning: EDF format requires equal-length data blocks, so 0.996 seconds of edge values were appended to all channels when writing the final block.\n",
      "  raw_crop.export(save_path, fmt=\"edf\", overwrite=True)\n"
     ]
    },
    {
     "name": "stdout",
     "output_type": "stream",
     "text": [
      "Normal segments saved for chb01_19.edf\n",
      "Normal segments saved for chb01_20.edf\n"
     ]
    },
    {
     "name": "stderr",
     "output_type": "stream",
     "text": [
      "/tmp/ipykernel_3734/3037979607.py:52: RuntimeWarning: EDF format requires equal-length data blocks, so 0.996 seconds of edge values were appended to all channels when writing the final block.\n",
      "  segment.export(save_path, fmt='edf')\n",
      "/tmp/ipykernel_3734/3037979607.py:81: RuntimeWarning: EDF format requires equal-length data blocks, so 0.996 seconds of edge values were appended to all channels when writing the final block.\n",
      "  raw_crop.export(save_path, fmt=\"edf\", overwrite=True)\n",
      "/tmp/ipykernel_3734/3037979607.py:81: RuntimeWarning: EDF format requires equal-length data blocks, so 0.996 seconds of edge values were appended to all channels when writing the final block.\n",
      "  raw_crop.export(save_path, fmt=\"edf\", overwrite=True)\n",
      "/tmp/ipykernel_3734/3037979607.py:81: RuntimeWarning: EDF format requires equal-length data blocks, so 0.996 seconds of edge values were appended to all channels when writing the final block.\n",
      "  raw_crop.export(save_path, fmt=\"edf\", overwrite=True)\n",
      "/tmp/ipykernel_3734/3037979607.py:81: RuntimeWarning: EDF format requires equal-length data blocks, so 0.996 seconds of edge values were appended to all channels when writing the final block.\n",
      "  raw_crop.export(save_path, fmt=\"edf\", overwrite=True)\n",
      "/tmp/ipykernel_3734/3037979607.py:81: RuntimeWarning: EDF format requires equal-length data blocks, so 0.996 seconds of edge values were appended to all channels when writing the final block.\n",
      "  raw_crop.export(save_path, fmt=\"edf\", overwrite=True)\n"
     ]
    },
    {
     "name": "stdout",
     "output_type": "stream",
     "text": [
      "  → saved: chb01_21_seizure_1.edf\n",
      "Normal segments saved for chb01_22.edf\n"
     ]
    },
    {
     "name": "stderr",
     "output_type": "stream",
     "text": [
      "/tmp/ipykernel_3734/3037979607.py:81: RuntimeWarning: EDF format requires equal-length data blocks, so 0.996 seconds of edge values were appended to all channels when writing the final block.\n",
      "  raw_crop.export(save_path, fmt=\"edf\", overwrite=True)\n",
      "/tmp/ipykernel_3734/3037979607.py:81: RuntimeWarning: EDF format requires equal-length data blocks, so 0.996 seconds of edge values were appended to all channels when writing the final block.\n",
      "  raw_crop.export(save_path, fmt=\"edf\", overwrite=True)\n",
      "/tmp/ipykernel_3734/3037979607.py:81: RuntimeWarning: EDF format requires equal-length data blocks, so 0.996 seconds of edge values were appended to all channels when writing the final block.\n",
      "  raw_crop.export(save_path, fmt=\"edf\", overwrite=True)\n",
      "/tmp/ipykernel_3734/3037979607.py:81: RuntimeWarning: EDF format requires equal-length data blocks, so 0.996 seconds of edge values were appended to all channels when writing the final block.\n",
      "  raw_crop.export(save_path, fmt=\"edf\", overwrite=True)\n",
      "/tmp/ipykernel_3734/3037979607.py:81: RuntimeWarning: EDF format requires equal-length data blocks, so 0.996 seconds of edge values were appended to all channels when writing the final block.\n",
      "  raw_crop.export(save_path, fmt=\"edf\", overwrite=True)\n",
      "/tmp/ipykernel_3734/3037979607.py:81: RuntimeWarning: EDF format requires equal-length data blocks, so 0.996 seconds of edge values were appended to all channels when writing the final block.\n",
      "  raw_crop.export(save_path, fmt=\"edf\", overwrite=True)\n",
      "/tmp/ipykernel_3734/3037979607.py:81: RuntimeWarning: EDF format requires equal-length data blocks, so 0.996 seconds of edge values were appended to all channels when writing the final block.\n",
      "  raw_crop.export(save_path, fmt=\"edf\", overwrite=True)\n",
      "/tmp/ipykernel_3734/3037979607.py:81: RuntimeWarning: EDF format requires equal-length data blocks, so 0.996 seconds of edge values were appended to all channels when writing the final block.\n",
      "  raw_crop.export(save_path, fmt=\"edf\", overwrite=True)\n"
     ]
    },
    {
     "name": "stdout",
     "output_type": "stream",
     "text": [
      "Normal segments saved for chb01_23.edf\n",
      "Normal segments saved for chb01_24.edf\n"
     ]
    },
    {
     "name": "stderr",
     "output_type": "stream",
     "text": [
      "/tmp/ipykernel_3734/3037979607.py:81: RuntimeWarning: EDF format requires equal-length data blocks, so 0.996 seconds of edge values were appended to all channels when writing the final block.\n",
      "  raw_crop.export(save_path, fmt=\"edf\", overwrite=True)\n",
      "/tmp/ipykernel_3734/3037979607.py:81: RuntimeWarning: EDF format requires equal-length data blocks, so 0.996 seconds of edge values were appended to all channels when writing the final block.\n",
      "  raw_crop.export(save_path, fmt=\"edf\", overwrite=True)\n",
      "/tmp/ipykernel_3734/3037979607.py:81: RuntimeWarning: EDF format requires equal-length data blocks, so 0.996 seconds of edge values were appended to all channels when writing the final block.\n",
      "  raw_crop.export(save_path, fmt=\"edf\", overwrite=True)\n",
      "/tmp/ipykernel_3734/3037979607.py:81: RuntimeWarning: EDF format requires equal-length data blocks, so 0.996 seconds of edge values were appended to all channels when writing the final block.\n",
      "  raw_crop.export(save_path, fmt=\"edf\", overwrite=True)\n",
      "/tmp/ipykernel_3734/3037979607.py:81: RuntimeWarning: EDF format requires equal-length data blocks, so 0.996 seconds of edge values were appended to all channels when writing the final block.\n",
      "  raw_crop.export(save_path, fmt=\"edf\", overwrite=True)\n",
      "/tmp/ipykernel_3734/3037979607.py:81: RuntimeWarning: EDF format requires equal-length data blocks, so 0.996 seconds of edge values were appended to all channels when writing the final block.\n",
      "  raw_crop.export(save_path, fmt=\"edf\", overwrite=True)\n",
      "/tmp/ipykernel_3734/3037979607.py:81: RuntimeWarning: EDF format requires equal-length data blocks, so 0.996 seconds of edge values were appended to all channels when writing the final block.\n",
      "  raw_crop.export(save_path, fmt=\"edf\", overwrite=True)\n"
     ]
    },
    {
     "name": "stdout",
     "output_type": "stream",
     "text": [
      "Normal segments saved for chb01_25.edf\n",
      "  → saved: chb01_26_seizure_1.edf\n",
      "Normal segments saved for chb01_27.edf\n"
     ]
    },
    {
     "name": "stderr",
     "output_type": "stream",
     "text": [
      "/tmp/ipykernel_3734/3037979607.py:52: RuntimeWarning: EDF format requires equal-length data blocks, so 0.996 seconds of edge values were appended to all channels when writing the final block.\n",
      "  segment.export(save_path, fmt='edf')\n",
      "/tmp/ipykernel_3734/3037979607.py:81: RuntimeWarning: EDF format requires equal-length data blocks, so 0.996 seconds of edge values were appended to all channels when writing the final block.\n",
      "  raw_crop.export(save_path, fmt=\"edf\", overwrite=True)\n",
      "/tmp/ipykernel_3734/3037979607.py:81: RuntimeWarning: EDF format requires equal-length data blocks, so 0.996 seconds of edge values were appended to all channels when writing the final block.\n",
      "  raw_crop.export(save_path, fmt=\"edf\", overwrite=True)\n",
      "/tmp/ipykernel_3734/3037979607.py:81: RuntimeWarning: EDF format requires equal-length data blocks, so 0.996 seconds of edge values were appended to all channels when writing the final block.\n",
      "  raw_crop.export(save_path, fmt=\"edf\", overwrite=True)\n",
      "/tmp/ipykernel_3734/3037979607.py:81: RuntimeWarning: EDF format requires equal-length data blocks, so 0.996 seconds of edge values were appended to all channels when writing the final block.\n",
      "  raw_crop.export(save_path, fmt=\"edf\", overwrite=True)\n",
      "/tmp/ipykernel_3734/3037979607.py:81: RuntimeWarning: EDF format requires equal-length data blocks, so 0.996 seconds of edge values were appended to all channels when writing the final block.\n",
      "  raw_crop.export(save_path, fmt=\"edf\", overwrite=True)\n",
      "/tmp/ipykernel_3734/3037979607.py:81: RuntimeWarning: EDF format requires equal-length data blocks, so 0.996 seconds of edge values were appended to all channels when writing the final block.\n",
      "  raw_crop.export(save_path, fmt=\"edf\", overwrite=True)\n",
      "/tmp/ipykernel_3734/3037979607.py:81: RuntimeWarning: EDF format requires equal-length data blocks, so 0.996 seconds of edge values were appended to all channels when writing the final block.\n",
      "  raw_crop.export(save_path, fmt=\"edf\", overwrite=True)\n",
      "/tmp/ipykernel_3734/3037979607.py:81: RuntimeWarning: EDF format requires equal-length data blocks, so 0.996 seconds of edge values were appended to all channels when writing the final block.\n",
      "  raw_crop.export(save_path, fmt=\"edf\", overwrite=True)\n",
      "/tmp/ipykernel_3734/3037979607.py:81: RuntimeWarning: EDF format requires equal-length data blocks, so 0.996 seconds of edge values were appended to all channels when writing the final block.\n",
      "  raw_crop.export(save_path, fmt=\"edf\", overwrite=True)\n",
      "/tmp/ipykernel_3734/3037979607.py:81: RuntimeWarning: EDF format requires equal-length data blocks, so 0.996 seconds of edge values were appended to all channels when writing the final block.\n",
      "  raw_crop.export(save_path, fmt=\"edf\", overwrite=True)\n",
      "/tmp/ipykernel_3734/3037979607.py:81: RuntimeWarning: EDF format requires equal-length data blocks, so 0.996 seconds of edge values were appended to all channels when writing the final block.\n",
      "  raw_crop.export(save_path, fmt=\"edf\", overwrite=True)\n",
      "/tmp/ipykernel_3734/3037979607.py:81: RuntimeWarning: EDF format requires equal-length data blocks, so 0.996 seconds of edge values were appended to all channels when writing the final block.\n",
      "  raw_crop.export(save_path, fmt=\"edf\", overwrite=True)\n",
      "/tmp/ipykernel_3734/3037979607.py:81: RuntimeWarning: EDF format requires equal-length data blocks, so 0.996 seconds of edge values were appended to all channels when writing the final block.\n",
      "  raw_crop.export(save_path, fmt=\"edf\", overwrite=True)\n",
      "/tmp/ipykernel_3734/3037979607.py:81: RuntimeWarning: EDF format requires equal-length data blocks, so 0.996 seconds of edge values were appended to all channels when writing the final block.\n",
      "  raw_crop.export(save_path, fmt=\"edf\", overwrite=True)\n",
      "/tmp/ipykernel_3734/3037979607.py:81: RuntimeWarning: EDF format requires equal-length data blocks, so 0.996 seconds of edge values were appended to all channels when writing the final block.\n",
      "  raw_crop.export(save_path, fmt=\"edf\", overwrite=True)\n"
     ]
    },
    {
     "name": "stdout",
     "output_type": "stream",
     "text": [
      "Normal segments saved for chb01_29.edf\n",
      "Normal segments saved for chb01_30.edf\n"
     ]
    },
    {
     "name": "stderr",
     "output_type": "stream",
     "text": [
      "/tmp/ipykernel_3734/3037979607.py:81: RuntimeWarning: EDF format requires equal-length data blocks, so 0.996 seconds of edge values were appended to all channels when writing the final block.\n",
      "  raw_crop.export(save_path, fmt=\"edf\", overwrite=True)\n",
      "/tmp/ipykernel_3734/3037979607.py:81: RuntimeWarning: EDF format requires equal-length data blocks, so 0.996 seconds of edge values were appended to all channels when writing the final block.\n",
      "  raw_crop.export(save_path, fmt=\"edf\", overwrite=True)\n",
      "/tmp/ipykernel_3734/3037979607.py:81: RuntimeWarning: EDF format requires equal-length data blocks, so 0.996 seconds of edge values were appended to all channels when writing the final block.\n",
      "  raw_crop.export(save_path, fmt=\"edf\", overwrite=True)\n",
      "/tmp/ipykernel_3734/3037979607.py:81: RuntimeWarning: EDF format requires equal-length data blocks, so 0.996 seconds of edge values were appended to all channels when writing the final block.\n",
      "  raw_crop.export(save_path, fmt=\"edf\", overwrite=True)\n",
      "/tmp/ipykernel_3734/3037979607.py:81: RuntimeWarning: EDF format requires equal-length data blocks, so 0.996 seconds of edge values were appended to all channels when writing the final block.\n",
      "  raw_crop.export(save_path, fmt=\"edf\", overwrite=True)\n",
      "/tmp/ipykernel_3734/3037979607.py:81: RuntimeWarning: EDF format requires equal-length data blocks, so 0.996 seconds of edge values were appended to all channels when writing the final block.\n",
      "  raw_crop.export(save_path, fmt=\"edf\", overwrite=True)\n",
      "/tmp/ipykernel_3734/3037979607.py:81: RuntimeWarning: EDF format requires equal-length data blocks, so 0.996 seconds of edge values were appended to all channels when writing the final block.\n",
      "  raw_crop.export(save_path, fmt=\"edf\", overwrite=True)\n"
     ]
    },
    {
     "name": "stdout",
     "output_type": "stream",
     "text": [
      "Normal segments saved for chb01_31.edf\n",
      "Normal segments saved for chb01_32.edf\n"
     ]
    },
    {
     "name": "stderr",
     "output_type": "stream",
     "text": [
      "/tmp/ipykernel_3734/3037979607.py:81: RuntimeWarning: EDF format requires equal-length data blocks, so 0.996 seconds of edge values were appended to all channels when writing the final block.\n",
      "  raw_crop.export(save_path, fmt=\"edf\", overwrite=True)\n",
      "/tmp/ipykernel_3734/3037979607.py:81: RuntimeWarning: EDF format requires equal-length data blocks, so 0.996 seconds of edge values were appended to all channels when writing the final block.\n",
      "  raw_crop.export(save_path, fmt=\"edf\", overwrite=True)\n",
      "/tmp/ipykernel_3734/3037979607.py:81: RuntimeWarning: EDF format requires equal-length data blocks, so 0.996 seconds of edge values were appended to all channels when writing the final block.\n",
      "  raw_crop.export(save_path, fmt=\"edf\", overwrite=True)\n",
      "/tmp/ipykernel_3734/3037979607.py:81: RuntimeWarning: EDF format requires equal-length data blocks, so 0.996 seconds of edge values were appended to all channels when writing the final block.\n",
      "  raw_crop.export(save_path, fmt=\"edf\", overwrite=True)\n",
      "/tmp/ipykernel_3734/3037979607.py:81: RuntimeWarning: EDF format requires equal-length data blocks, so 0.996 seconds of edge values were appended to all channels when writing the final block.\n",
      "  raw_crop.export(save_path, fmt=\"edf\", overwrite=True)\n",
      "/tmp/ipykernel_3734/3037979607.py:81: RuntimeWarning: EDF format requires equal-length data blocks, so 0.996 seconds of edge values were appended to all channels when writing the final block.\n",
      "  raw_crop.export(save_path, fmt=\"edf\", overwrite=True)\n",
      "/tmp/ipykernel_3734/3037979607.py:81: RuntimeWarning: EDF format requires equal-length data blocks, so 0.996 seconds of edge values were appended to all channels when writing the final block.\n",
      "  raw_crop.export(save_path, fmt=\"edf\", overwrite=True)\n",
      "/tmp/ipykernel_3734/3037979607.py:81: RuntimeWarning: EDF format requires equal-length data blocks, so 0.996 seconds of edge values were appended to all channels when writing the final block.\n",
      "  raw_crop.export(save_path, fmt=\"edf\", overwrite=True)\n"
     ]
    },
    {
     "name": "stdout",
     "output_type": "stream",
     "text": [
      "Normal segments saved for chb01_33.edf\n",
      "Normal segments saved for chb01_34.edf\n"
     ]
    },
    {
     "name": "stderr",
     "output_type": "stream",
     "text": [
      "/tmp/ipykernel_3734/3037979607.py:81: RuntimeWarning: EDF format requires equal-length data blocks, so 0.996 seconds of edge values were appended to all channels when writing the final block.\n",
      "  raw_crop.export(save_path, fmt=\"edf\", overwrite=True)\n",
      "/tmp/ipykernel_3734/3037979607.py:81: RuntimeWarning: EDF format requires equal-length data blocks, so 0.996 seconds of edge values were appended to all channels when writing the final block.\n",
      "  raw_crop.export(save_path, fmt=\"edf\", overwrite=True)\n",
      "/tmp/ipykernel_3734/3037979607.py:81: RuntimeWarning: EDF format requires equal-length data blocks, so 0.996 seconds of edge values were appended to all channels when writing the final block.\n",
      "  raw_crop.export(save_path, fmt=\"edf\", overwrite=True)\n",
      "/tmp/ipykernel_3734/3037979607.py:81: RuntimeWarning: EDF format requires equal-length data blocks, so 0.996 seconds of edge values were appended to all channels when writing the final block.\n",
      "  raw_crop.export(save_path, fmt=\"edf\", overwrite=True)\n",
      "/tmp/ipykernel_3734/3037979607.py:81: RuntimeWarning: EDF format requires equal-length data blocks, so 0.996 seconds of edge values were appended to all channels when writing the final block.\n",
      "  raw_crop.export(save_path, fmt=\"edf\", overwrite=True)\n",
      "/tmp/ipykernel_3734/3037979607.py:81: RuntimeWarning: EDF format requires equal-length data blocks, so 0.996 seconds of edge values were appended to all channels when writing the final block.\n",
      "  raw_crop.export(save_path, fmt=\"edf\", overwrite=True)\n",
      "/tmp/ipykernel_3734/3037979607.py:81: RuntimeWarning: EDF format requires equal-length data blocks, so 0.996 seconds of edge values were appended to all channels when writing the final block.\n",
      "  raw_crop.export(save_path, fmt=\"edf\", overwrite=True)\n",
      "/tmp/ipykernel_3734/3037979607.py:81: RuntimeWarning: EDF format requires equal-length data blocks, so 0.996 seconds of edge values were appended to all channels when writing the final block.\n",
      "  raw_crop.export(save_path, fmt=\"edf\", overwrite=True)\n",
      "/tmp/ipykernel_3734/3037979607.py:81: RuntimeWarning: EDF format requires equal-length data blocks, so 0.996 seconds of edge values were appended to all channels when writing the final block.\n",
      "  raw_crop.export(save_path, fmt=\"edf\", overwrite=True)\n",
      "/tmp/ipykernel_3734/3037979607.py:81: RuntimeWarning: EDF format requires equal-length data blocks, so 0.996 seconds of edge values were appended to all channels when writing the final block.\n",
      "  raw_crop.export(save_path, fmt=\"edf\", overwrite=True)\n",
      "/tmp/ipykernel_3734/3037979607.py:81: RuntimeWarning: EDF format requires equal-length data blocks, so 0.996 seconds of edge values were appended to all channels when writing the final block.\n",
      "  raw_crop.export(save_path, fmt=\"edf\", overwrite=True)\n",
      "/tmp/ipykernel_3734/3037979607.py:81: RuntimeWarning: EDF format requires equal-length data blocks, so 0.996 seconds of edge values were appended to all channels when writing the final block.\n",
      "  raw_crop.export(save_path, fmt=\"edf\", overwrite=True)\n",
      "/tmp/ipykernel_3734/3037979607.py:81: RuntimeWarning: EDF format requires equal-length data blocks, so 0.996 seconds of edge values were appended to all channels when writing the final block.\n",
      "  raw_crop.export(save_path, fmt=\"edf\", overwrite=True)\n",
      "/tmp/ipykernel_3734/3037979607.py:81: RuntimeWarning: EDF format requires equal-length data blocks, so 0.996 seconds of edge values were appended to all channels when writing the final block.\n",
      "  raw_crop.export(save_path, fmt=\"edf\", overwrite=True)\n",
      "/tmp/ipykernel_3734/3037979607.py:81: RuntimeWarning: EDF format requires equal-length data blocks, so 0.996 seconds of edge values were appended to all channels when writing the final block.\n",
      "  raw_crop.export(save_path, fmt=\"edf\", overwrite=True)\n"
     ]
    },
    {
     "name": "stdout",
     "output_type": "stream",
     "text": [
      "Normal segments saved for chb01_36.edf\n",
      "Normal segments saved for chb01_37.edf\n"
     ]
    },
    {
     "name": "stderr",
     "output_type": "stream",
     "text": [
      "/tmp/ipykernel_3734/3037979607.py:81: RuntimeWarning: EDF format requires equal-length data blocks, so 0.996 seconds of edge values were appended to all channels when writing the final block.\n",
      "  raw_crop.export(save_path, fmt=\"edf\", overwrite=True)\n",
      "/tmp/ipykernel_3734/3037979607.py:81: RuntimeWarning: EDF format requires equal-length data blocks, so 0.996 seconds of edge values were appended to all channels when writing the final block.\n",
      "  raw_crop.export(save_path, fmt=\"edf\", overwrite=True)\n",
      "/tmp/ipykernel_3734/3037979607.py:81: RuntimeWarning: EDF format requires equal-length data blocks, so 0.996 seconds of edge values were appended to all channels when writing the final block.\n",
      "  raw_crop.export(save_path, fmt=\"edf\", overwrite=True)\n",
      "/tmp/ipykernel_3734/3037979607.py:81: RuntimeWarning: EDF format requires equal-length data blocks, so 0.996 seconds of edge values were appended to all channels when writing the final block.\n",
      "  raw_crop.export(save_path, fmt=\"edf\", overwrite=True)\n",
      "/tmp/ipykernel_3734/3037979607.py:81: RuntimeWarning: EDF format requires equal-length data blocks, so 0.996 seconds of edge values were appended to all channels when writing the final block.\n",
      "  raw_crop.export(save_path, fmt=\"edf\", overwrite=True)\n",
      "/tmp/ipykernel_3734/3037979607.py:81: RuntimeWarning: EDF format requires equal-length data blocks, so 0.996 seconds of edge values were appended to all channels when writing the final block.\n",
      "  raw_crop.export(save_path, fmt=\"edf\", overwrite=True)\n",
      "/tmp/ipykernel_3734/3037979607.py:81: RuntimeWarning: EDF format requires equal-length data blocks, so 0.996 seconds of edge values were appended to all channels when writing the final block.\n",
      "  raw_crop.export(save_path, fmt=\"edf\", overwrite=True)\n"
     ]
    },
    {
     "name": "stdout",
     "output_type": "stream",
     "text": [
      "Normal segments saved for chb01_38.edf\n",
      "Normal segments saved for chb01_39.edf\n"
     ]
    },
    {
     "name": "stderr",
     "output_type": "stream",
     "text": [
      "/tmp/ipykernel_3734/3037979607.py:81: RuntimeWarning: EDF format requires equal-length data blocks, so 0.996 seconds of edge values were appended to all channels when writing the final block.\n",
      "  raw_crop.export(save_path, fmt=\"edf\", overwrite=True)\n",
      "/tmp/ipykernel_3734/3037979607.py:81: RuntimeWarning: EDF format requires equal-length data blocks, so 0.996 seconds of edge values were appended to all channels when writing the final block.\n",
      "  raw_crop.export(save_path, fmt=\"edf\", overwrite=True)\n",
      "/tmp/ipykernel_3734/3037979607.py:81: RuntimeWarning: EDF format requires equal-length data blocks, so 0.996 seconds of edge values were appended to all channels when writing the final block.\n",
      "  raw_crop.export(save_path, fmt=\"edf\", overwrite=True)\n",
      "/tmp/ipykernel_3734/3037979607.py:81: RuntimeWarning: EDF format requires equal-length data blocks, so 0.996 seconds of edge values were appended to all channels when writing the final block.\n",
      "  raw_crop.export(save_path, fmt=\"edf\", overwrite=True)\n",
      "/tmp/ipykernel_3734/3037979607.py:81: RuntimeWarning: EDF format requires equal-length data blocks, so 0.996 seconds of edge values were appended to all channels when writing the final block.\n",
      "  raw_crop.export(save_path, fmt=\"edf\", overwrite=True)\n",
      "/tmp/ipykernel_3734/3037979607.py:81: RuntimeWarning: EDF format requires equal-length data blocks, so 0.996 seconds of edge values were appended to all channels when writing the final block.\n",
      "  raw_crop.export(save_path, fmt=\"edf\", overwrite=True)\n",
      "/tmp/ipykernel_3734/3037979607.py:81: RuntimeWarning: EDF format requires equal-length data blocks, so 0.996 seconds of edge values were appended to all channels when writing the final block.\n",
      "  raw_crop.export(save_path, fmt=\"edf\", overwrite=True)\n",
      "/tmp/ipykernel_3734/3037979607.py:81: RuntimeWarning: EDF format requires equal-length data blocks, so 0.996 seconds of edge values were appended to all channels when writing the final block.\n",
      "  raw_crop.export(save_path, fmt=\"edf\", overwrite=True)\n"
     ]
    },
    {
     "name": "stdout",
     "output_type": "stream",
     "text": [
      "Normal segments saved for chb01_40.edf\n",
      "Normal segments saved for chb01_41.edf\n"
     ]
    },
    {
     "name": "stderr",
     "output_type": "stream",
     "text": [
      "/tmp/ipykernel_3734/3037979607.py:81: RuntimeWarning: EDF format requires equal-length data blocks, so 0.996 seconds of edge values were appended to all channels when writing the final block.\n",
      "  raw_crop.export(save_path, fmt=\"edf\", overwrite=True)\n",
      "/tmp/ipykernel_3734/3037979607.py:81: RuntimeWarning: EDF format requires equal-length data blocks, so 0.996 seconds of edge values were appended to all channels when writing the final block.\n",
      "  raw_crop.export(save_path, fmt=\"edf\", overwrite=True)\n",
      "/tmp/ipykernel_3734/3037979607.py:81: RuntimeWarning: EDF format requires equal-length data blocks, so 0.996 seconds of edge values were appended to all channels when writing the final block.\n",
      "  raw_crop.export(save_path, fmt=\"edf\", overwrite=True)\n",
      "/tmp/ipykernel_3734/3037979607.py:81: RuntimeWarning: EDF format requires equal-length data blocks, so 0.996 seconds of edge values were appended to all channels when writing the final block.\n",
      "  raw_crop.export(save_path, fmt=\"edf\", overwrite=True)\n",
      "/tmp/ipykernel_3734/3037979607.py:81: RuntimeWarning: EDF format requires equal-length data blocks, so 0.996 seconds of edge values were appended to all channels when writing the final block.\n",
      "  raw_crop.export(save_path, fmt=\"edf\", overwrite=True)\n",
      "/tmp/ipykernel_3734/3037979607.py:81: RuntimeWarning: EDF format requires equal-length data blocks, so 0.996 seconds of edge values were appended to all channels when writing the final block.\n",
      "  raw_crop.export(save_path, fmt=\"edf\", overwrite=True)\n",
      "/tmp/ipykernel_3734/3037979607.py:81: RuntimeWarning: EDF format requires equal-length data blocks, so 0.996 seconds of edge values were appended to all channels when writing the final block.\n",
      "  raw_crop.export(save_path, fmt=\"edf\", overwrite=True)\n",
      "/tmp/ipykernel_3734/3037979607.py:81: RuntimeWarning: EDF format requires equal-length data blocks, so 0.996 seconds of edge values were appended to all channels when writing the final block.\n",
      "  raw_crop.export(save_path, fmt=\"edf\", overwrite=True)\n",
      "/tmp/ipykernel_3734/3037979607.py:81: RuntimeWarning: EDF format requires equal-length data blocks, so 0.996 seconds of edge values were appended to all channels when writing the final block.\n",
      "  raw_crop.export(save_path, fmt=\"edf\", overwrite=True)\n",
      "/tmp/ipykernel_3734/3037979607.py:81: RuntimeWarning: EDF format requires equal-length data blocks, so 0.996 seconds of edge values were appended to all channels when writing the final block.\n",
      "  raw_crop.export(save_path, fmt=\"edf\", overwrite=True)\n",
      "/tmp/ipykernel_3734/3037979607.py:81: RuntimeWarning: EDF format requires equal-length data blocks, so 0.996 seconds of edge values were appended to all channels when writing the final block.\n",
      "  raw_crop.export(save_path, fmt=\"edf\", overwrite=True)\n",
      "/tmp/ipykernel_3734/3037979607.py:81: RuntimeWarning: EDF format requires equal-length data blocks, so 0.996 seconds of edge values were appended to all channels when writing the final block.\n",
      "  raw_crop.export(save_path, fmt=\"edf\", overwrite=True)\n",
      "/tmp/ipykernel_3734/3037979607.py:81: RuntimeWarning: EDF format requires equal-length data blocks, so 0.996 seconds of edge values were appended to all channels when writing the final block.\n",
      "  raw_crop.export(save_path, fmt=\"edf\", overwrite=True)\n",
      "/tmp/ipykernel_3734/3037979607.py:81: RuntimeWarning: EDF format requires equal-length data blocks, so 0.996 seconds of edge values were appended to all channels when writing the final block.\n",
      "  raw_crop.export(save_path, fmt=\"edf\", overwrite=True)\n",
      "/tmp/ipykernel_3734/3037979607.py:81: RuntimeWarning: EDF format requires equal-length data blocks, so 0.996 seconds of edge values were appended to all channels when writing the final block.\n",
      "  raw_crop.export(save_path, fmt=\"edf\", overwrite=True)\n"
     ]
    },
    {
     "name": "stdout",
     "output_type": "stream",
     "text": [
      "Normal segments saved for chb01_42.edf\n",
      "Normal segments saved for chb01_43.edf\n"
     ]
    },
    {
     "name": "stderr",
     "output_type": "stream",
     "text": [
      "/tmp/ipykernel_3734/3037979607.py:81: RuntimeWarning: EDF format requires equal-length data blocks, so 0.996 seconds of edge values were appended to all channels when writing the final block.\n",
      "  raw_crop.export(save_path, fmt=\"edf\", overwrite=True)\n",
      "/tmp/ipykernel_3734/3037979607.py:81: RuntimeWarning: EDF format requires equal-length data blocks, so 0.996 seconds of edge values were appended to all channels when writing the final block.\n",
      "  raw_crop.export(save_path, fmt=\"edf\", overwrite=True)\n",
      "/tmp/ipykernel_3734/3037979607.py:81: RuntimeWarning: EDF format requires equal-length data blocks, so 0.996 seconds of edge values were appended to all channels when writing the final block.\n",
      "  raw_crop.export(save_path, fmt=\"edf\", overwrite=True)\n",
      "/tmp/ipykernel_3734/3037979607.py:81: RuntimeWarning: EDF format requires equal-length data blocks, so 0.996 seconds of edge values were appended to all channels when writing the final block.\n",
      "  raw_crop.export(save_path, fmt=\"edf\", overwrite=True)\n",
      "/tmp/ipykernel_3734/3037979607.py:81: RuntimeWarning: EDF format requires equal-length data blocks, so 0.996 seconds of edge values were appended to all channels when writing the final block.\n",
      "  raw_crop.export(save_path, fmt=\"edf\", overwrite=True)\n"
     ]
    },
    {
     "name": "stdout",
     "output_type": "stream",
     "text": [
      "Normal segments saved for chb01_46.edf\n"
     ]
    },
    {
     "name": "stderr",
     "output_type": "stream",
     "text": [
      "/tmp/ipykernel_3734/3037979607.py:81: RuntimeWarning: EDF format requires equal-length data blocks, so 0.996 seconds of edge values were appended to all channels when writing the final block.\n",
      "  raw_crop.export(save_path, fmt=\"edf\", overwrite=True)\n",
      "/tmp/ipykernel_3734/3037979607.py:81: RuntimeWarning: EDF format requires equal-length data blocks, so 0.996 seconds of edge values were appended to all channels when writing the final block.\n",
      "  raw_crop.export(save_path, fmt=\"edf\", overwrite=True)\n",
      "/tmp/ipykernel_3734/3037979607.py:81: RuntimeWarning: EDF format requires equal-length data blocks, so 0.996 seconds of edge values were appended to all channels when writing the final block.\n",
      "  raw_crop.export(save_path, fmt=\"edf\", overwrite=True)\n",
      "/tmp/ipykernel_3734/3037979607.py:81: RuntimeWarning: EDF format requires equal-length data blocks, so 0.996 seconds of edge values were appended to all channels when writing the final block.\n",
      "  raw_crop.export(save_path, fmt=\"edf\", overwrite=True)\n",
      "/tmp/ipykernel_3734/3037979607.py:81: RuntimeWarning: EDF format requires equal-length data blocks, so 0.996 seconds of edge values were appended to all channels when writing the final block.\n",
      "  raw_crop.export(save_path, fmt=\"edf\", overwrite=True)\n"
     ]
    },
    {
     "name": "stdout",
     "output_type": "stream",
     "text": [
      "Normal segments saved for chb09_01.edf\n"
     ]
    },
    {
     "name": "stderr",
     "output_type": "stream",
     "text": [
      "/tmp/ipykernel_3734/3037979607.py:81: RuntimeWarning: EDF format requires equal-length data blocks, so 0.996 seconds of edge values were appended to all channels when writing the final block.\n",
      "  raw_crop.export(save_path, fmt=\"edf\", overwrite=True)\n",
      "/tmp/ipykernel_3734/3037979607.py:81: RuntimeWarning: EDF format requires equal-length data blocks, so 0.996 seconds of edge values were appended to all channels when writing the final block.\n",
      "  raw_crop.export(save_path, fmt=\"edf\", overwrite=True)\n",
      "/tmp/ipykernel_3734/3037979607.py:81: RuntimeWarning: EDF format requires equal-length data blocks, so 0.996 seconds of edge values were appended to all channels when writing the final block.\n",
      "  raw_crop.export(save_path, fmt=\"edf\", overwrite=True)\n",
      "/tmp/ipykernel_3734/3037979607.py:81: RuntimeWarning: EDF format requires equal-length data blocks, so 0.996 seconds of edge values were appended to all channels when writing the final block.\n",
      "  raw_crop.export(save_path, fmt=\"edf\", overwrite=True)\n",
      "/tmp/ipykernel_3734/3037979607.py:81: RuntimeWarning: EDF format requires equal-length data blocks, so 0.996 seconds of edge values were appended to all channels when writing the final block.\n",
      "  raw_crop.export(save_path, fmt=\"edf\", overwrite=True)\n"
     ]
    },
    {
     "name": "stdout",
     "output_type": "stream",
     "text": [
      "Normal segments saved for chb09_02.edf\n"
     ]
    },
    {
     "name": "stderr",
     "output_type": "stream",
     "text": [
      "/tmp/ipykernel_3734/3037979607.py:81: RuntimeWarning: EDF format requires equal-length data blocks, so 0.996 seconds of edge values were appended to all channels when writing the final block.\n",
      "  raw_crop.export(save_path, fmt=\"edf\", overwrite=True)\n",
      "/tmp/ipykernel_3734/3037979607.py:81: RuntimeWarning: EDF format requires equal-length data blocks, so 0.996 seconds of edge values were appended to all channels when writing the final block.\n",
      "  raw_crop.export(save_path, fmt=\"edf\", overwrite=True)\n",
      "/tmp/ipykernel_3734/3037979607.py:81: RuntimeWarning: EDF format requires equal-length data blocks, so 0.996 seconds of edge values were appended to all channels when writing the final block.\n",
      "  raw_crop.export(save_path, fmt=\"edf\", overwrite=True)\n",
      "/tmp/ipykernel_3734/3037979607.py:81: RuntimeWarning: EDF format requires equal-length data blocks, so 0.996 seconds of edge values were appended to all channels when writing the final block.\n",
      "  raw_crop.export(save_path, fmt=\"edf\", overwrite=True)\n",
      "/tmp/ipykernel_3734/3037979607.py:81: RuntimeWarning: EDF format requires equal-length data blocks, so 0.996 seconds of edge values were appended to all channels when writing the final block.\n",
      "  raw_crop.export(save_path, fmt=\"edf\", overwrite=True)\n"
     ]
    },
    {
     "name": "stdout",
     "output_type": "stream",
     "text": [
      "Normal segments saved for chb09_03.edf\n"
     ]
    },
    {
     "name": "stderr",
     "output_type": "stream",
     "text": [
      "/tmp/ipykernel_3734/3037979607.py:81: RuntimeWarning: EDF format requires equal-length data blocks, so 0.996 seconds of edge values were appended to all channels when writing the final block.\n",
      "  raw_crop.export(save_path, fmt=\"edf\", overwrite=True)\n",
      "/tmp/ipykernel_3734/3037979607.py:81: RuntimeWarning: EDF format requires equal-length data blocks, so 0.996 seconds of edge values were appended to all channels when writing the final block.\n",
      "  raw_crop.export(save_path, fmt=\"edf\", overwrite=True)\n",
      "/tmp/ipykernel_3734/3037979607.py:81: RuntimeWarning: EDF format requires equal-length data blocks, so 0.996 seconds of edge values were appended to all channels when writing the final block.\n",
      "  raw_crop.export(save_path, fmt=\"edf\", overwrite=True)\n",
      "/tmp/ipykernel_3734/3037979607.py:81: RuntimeWarning: EDF format requires equal-length data blocks, so 0.996 seconds of edge values were appended to all channels when writing the final block.\n",
      "  raw_crop.export(save_path, fmt=\"edf\", overwrite=True)\n",
      "/tmp/ipykernel_3734/3037979607.py:81: RuntimeWarning: EDF format requires equal-length data blocks, so 0.996 seconds of edge values were appended to all channels when writing the final block.\n",
      "  raw_crop.export(save_path, fmt=\"edf\", overwrite=True)\n"
     ]
    },
    {
     "name": "stdout",
     "output_type": "stream",
     "text": [
      "Normal segments saved for chb09_04.edf\n"
     ]
    },
    {
     "name": "stderr",
     "output_type": "stream",
     "text": [
      "/tmp/ipykernel_3734/3037979607.py:81: RuntimeWarning: EDF format requires equal-length data blocks, so 0.996 seconds of edge values were appended to all channels when writing the final block.\n",
      "  raw_crop.export(save_path, fmt=\"edf\", overwrite=True)\n",
      "/tmp/ipykernel_3734/3037979607.py:81: RuntimeWarning: EDF format requires equal-length data blocks, so 0.996 seconds of edge values were appended to all channels when writing the final block.\n",
      "  raw_crop.export(save_path, fmt=\"edf\", overwrite=True)\n",
      "/tmp/ipykernel_3734/3037979607.py:81: RuntimeWarning: EDF format requires equal-length data blocks, so 0.996 seconds of edge values were appended to all channels when writing the final block.\n",
      "  raw_crop.export(save_path, fmt=\"edf\", overwrite=True)\n",
      "/tmp/ipykernel_3734/3037979607.py:81: RuntimeWarning: EDF format requires equal-length data blocks, so 0.996 seconds of edge values were appended to all channels when writing the final block.\n",
      "  raw_crop.export(save_path, fmt=\"edf\", overwrite=True)\n",
      "/tmp/ipykernel_3734/3037979607.py:81: RuntimeWarning: EDF format requires equal-length data blocks, so 0.996 seconds of edge values were appended to all channels when writing the final block.\n",
      "  raw_crop.export(save_path, fmt=\"edf\", overwrite=True)\n"
     ]
    },
    {
     "name": "stdout",
     "output_type": "stream",
     "text": [
      "Normal segments saved for chb09_05.edf\n"
     ]
    },
    {
     "name": "stderr",
     "output_type": "stream",
     "text": [
      "/tmp/ipykernel_3734/3037979607.py:52: RuntimeWarning: EDF format requires equal-length data blocks, so 0.996 seconds of edge values were appended to all channels when writing the final block.\n",
      "  segment.export(save_path, fmt='edf')\n"
     ]
    },
    {
     "name": "stdout",
     "output_type": "stream",
     "text": [
      "  → saved: chb09_06_seizure_1.edf\n"
     ]
    },
    {
     "name": "stderr",
     "output_type": "stream",
     "text": [
      "/tmp/ipykernel_3734/3037979607.py:81: RuntimeWarning: EDF format requires equal-length data blocks, so 0.996 seconds of edge values were appended to all channels when writing the final block.\n",
      "  raw_crop.export(save_path, fmt=\"edf\", overwrite=True)\n",
      "/tmp/ipykernel_3734/3037979607.py:81: RuntimeWarning: EDF format requires equal-length data blocks, so 0.996 seconds of edge values were appended to all channels when writing the final block.\n",
      "  raw_crop.export(save_path, fmt=\"edf\", overwrite=True)\n",
      "/tmp/ipykernel_3734/3037979607.py:81: RuntimeWarning: EDF format requires equal-length data blocks, so 0.996 seconds of edge values were appended to all channels when writing the final block.\n",
      "  raw_crop.export(save_path, fmt=\"edf\", overwrite=True)\n",
      "/tmp/ipykernel_3734/3037979607.py:81: RuntimeWarning: EDF format requires equal-length data blocks, so 0.996 seconds of edge values were appended to all channels when writing the final block.\n",
      "  raw_crop.export(save_path, fmt=\"edf\", overwrite=True)\n",
      "/tmp/ipykernel_3734/3037979607.py:81: RuntimeWarning: EDF format requires equal-length data blocks, so 0.996 seconds of edge values were appended to all channels when writing the final block.\n",
      "  raw_crop.export(save_path, fmt=\"edf\", overwrite=True)\n"
     ]
    },
    {
     "name": "stdout",
     "output_type": "stream",
     "text": [
      "Normal segments saved for chb09_07.edf\n"
     ]
    },
    {
     "name": "stderr",
     "output_type": "stream",
     "text": [
      "/tmp/ipykernel_3734/3037979607.py:52: RuntimeWarning: EDF format requires equal-length data blocks, so 0.996 seconds of edge values were appended to all channels when writing the final block.\n",
      "  segment.export(save_path, fmt='edf')\n",
      "/tmp/ipykernel_3734/3037979607.py:52: RuntimeWarning: EDF format requires equal-length data blocks, so 0.996 seconds of edge values were appended to all channels when writing the final block.\n",
      "  segment.export(save_path, fmt='edf')\n"
     ]
    },
    {
     "name": "stdout",
     "output_type": "stream",
     "text": [
      "  → saved: chb09_08_seizure_1.edf\n",
      "  → saved: chb09_08_seizure_2.edf\n"
     ]
    },
    {
     "name": "stderr",
     "output_type": "stream",
     "text": [
      "/tmp/ipykernel_3734/3037979607.py:81: RuntimeWarning: EDF format requires equal-length data blocks, so 0.996 seconds of edge values were appended to all channels when writing the final block.\n",
      "  raw_crop.export(save_path, fmt=\"edf\", overwrite=True)\n",
      "/tmp/ipykernel_3734/3037979607.py:81: RuntimeWarning: EDF format requires equal-length data blocks, so 0.996 seconds of edge values were appended to all channels when writing the final block.\n",
      "  raw_crop.export(save_path, fmt=\"edf\", overwrite=True)\n",
      "/tmp/ipykernel_3734/3037979607.py:81: RuntimeWarning: EDF format requires equal-length data blocks, so 0.996 seconds of edge values were appended to all channels when writing the final block.\n",
      "  raw_crop.export(save_path, fmt=\"edf\", overwrite=True)\n",
      "/tmp/ipykernel_3734/3037979607.py:81: RuntimeWarning: EDF format requires equal-length data blocks, so 0.996 seconds of edge values were appended to all channels when writing the final block.\n",
      "  raw_crop.export(save_path, fmt=\"edf\", overwrite=True)\n",
      "/tmp/ipykernel_3734/3037979607.py:81: RuntimeWarning: EDF format requires equal-length data blocks, so 0.996 seconds of edge values were appended to all channels when writing the final block.\n",
      "  raw_crop.export(save_path, fmt=\"edf\", overwrite=True)\n"
     ]
    },
    {
     "name": "stdout",
     "output_type": "stream",
     "text": [
      "Normal segments saved for chb09_09.edf\n"
     ]
    },
    {
     "name": "stderr",
     "output_type": "stream",
     "text": [
      "/tmp/ipykernel_3734/3037979607.py:81: RuntimeWarning: EDF format requires equal-length data blocks, so 0.996 seconds of edge values were appended to all channels when writing the final block.\n",
      "  raw_crop.export(save_path, fmt=\"edf\", overwrite=True)\n",
      "/tmp/ipykernel_3734/3037979607.py:81: RuntimeWarning: EDF format requires equal-length data blocks, so 0.996 seconds of edge values were appended to all channels when writing the final block.\n",
      "  raw_crop.export(save_path, fmt=\"edf\", overwrite=True)\n",
      "/tmp/ipykernel_3734/3037979607.py:81: RuntimeWarning: EDF format requires equal-length data blocks, so 0.996 seconds of edge values were appended to all channels when writing the final block.\n",
      "  raw_crop.export(save_path, fmt=\"edf\", overwrite=True)\n",
      "/tmp/ipykernel_3734/3037979607.py:81: RuntimeWarning: EDF format requires equal-length data blocks, so 0.996 seconds of edge values were appended to all channels when writing the final block.\n",
      "  raw_crop.export(save_path, fmt=\"edf\", overwrite=True)\n",
      "/tmp/ipykernel_3734/3037979607.py:81: RuntimeWarning: EDF format requires equal-length data blocks, so 0.996 seconds of edge values were appended to all channels when writing the final block.\n",
      "  raw_crop.export(save_path, fmt=\"edf\", overwrite=True)\n"
     ]
    },
    {
     "name": "stdout",
     "output_type": "stream",
     "text": [
      "Normal segments saved for chb09_10.edf\n"
     ]
    },
    {
     "name": "stderr",
     "output_type": "stream",
     "text": [
      "/tmp/ipykernel_3734/3037979607.py:81: RuntimeWarning: EDF format requires equal-length data blocks, so 0.996 seconds of edge values were appended to all channels when writing the final block.\n",
      "  raw_crop.export(save_path, fmt=\"edf\", overwrite=True)\n",
      "/tmp/ipykernel_3734/3037979607.py:81: RuntimeWarning: EDF format requires equal-length data blocks, so 0.996 seconds of edge values were appended to all channels when writing the final block.\n",
      "  raw_crop.export(save_path, fmt=\"edf\", overwrite=True)\n",
      "/tmp/ipykernel_3734/3037979607.py:81: RuntimeWarning: EDF format requires equal-length data blocks, so 0.996 seconds of edge values were appended to all channels when writing the final block.\n",
      "  raw_crop.export(save_path, fmt=\"edf\", overwrite=True)\n",
      "/tmp/ipykernel_3734/3037979607.py:81: RuntimeWarning: EDF format requires equal-length data blocks, so 0.996 seconds of edge values were appended to all channels when writing the final block.\n",
      "  raw_crop.export(save_path, fmt=\"edf\", overwrite=True)\n",
      "/tmp/ipykernel_3734/3037979607.py:81: RuntimeWarning: EDF format requires equal-length data blocks, so 0.996 seconds of edge values were appended to all channels when writing the final block.\n",
      "  raw_crop.export(save_path, fmt=\"edf\", overwrite=True)\n"
     ]
    },
    {
     "name": "stdout",
     "output_type": "stream",
     "text": [
      "Normal segments saved for chb09_11.edf\n"
     ]
    },
    {
     "name": "stderr",
     "output_type": "stream",
     "text": [
      "/tmp/ipykernel_3734/3037979607.py:81: RuntimeWarning: EDF format requires equal-length data blocks, so 0.996 seconds of edge values were appended to all channels when writing the final block.\n",
      "  raw_crop.export(save_path, fmt=\"edf\", overwrite=True)\n",
      "/tmp/ipykernel_3734/3037979607.py:81: RuntimeWarning: EDF format requires equal-length data blocks, so 0.996 seconds of edge values were appended to all channels when writing the final block.\n",
      "  raw_crop.export(save_path, fmt=\"edf\", overwrite=True)\n",
      "/tmp/ipykernel_3734/3037979607.py:81: RuntimeWarning: EDF format requires equal-length data blocks, so 0.996 seconds of edge values were appended to all channels when writing the final block.\n",
      "  raw_crop.export(save_path, fmt=\"edf\", overwrite=True)\n",
      "/tmp/ipykernel_3734/3037979607.py:81: RuntimeWarning: EDF format requires equal-length data blocks, so 0.996 seconds of edge values were appended to all channels when writing the final block.\n",
      "  raw_crop.export(save_path, fmt=\"edf\", overwrite=True)\n",
      "/tmp/ipykernel_3734/3037979607.py:81: RuntimeWarning: EDF format requires equal-length data blocks, so 0.996 seconds of edge values were appended to all channels when writing the final block.\n",
      "  raw_crop.export(save_path, fmt=\"edf\", overwrite=True)\n"
     ]
    },
    {
     "name": "stdout",
     "output_type": "stream",
     "text": [
      "Normal segments saved for chb09_12.edf\n"
     ]
    },
    {
     "name": "stderr",
     "output_type": "stream",
     "text": [
      "/tmp/ipykernel_3734/3037979607.py:81: RuntimeWarning: EDF format requires equal-length data blocks, so 0.996 seconds of edge values were appended to all channels when writing the final block.\n",
      "  raw_crop.export(save_path, fmt=\"edf\", overwrite=True)\n",
      "/tmp/ipykernel_3734/3037979607.py:81: RuntimeWarning: EDF format requires equal-length data blocks, so 0.996 seconds of edge values were appended to all channels when writing the final block.\n",
      "  raw_crop.export(save_path, fmt=\"edf\", overwrite=True)\n",
      "/tmp/ipykernel_3734/3037979607.py:81: RuntimeWarning: EDF format requires equal-length data blocks, so 0.996 seconds of edge values were appended to all channels when writing the final block.\n",
      "  raw_crop.export(save_path, fmt=\"edf\", overwrite=True)\n",
      "/tmp/ipykernel_3734/3037979607.py:81: RuntimeWarning: EDF format requires equal-length data blocks, so 0.996 seconds of edge values were appended to all channels when writing the final block.\n",
      "  raw_crop.export(save_path, fmt=\"edf\", overwrite=True)\n",
      "/tmp/ipykernel_3734/3037979607.py:81: RuntimeWarning: EDF format requires equal-length data blocks, so 0.996 seconds of edge values were appended to all channels when writing the final block.\n",
      "  raw_crop.export(save_path, fmt=\"edf\", overwrite=True)\n"
     ]
    },
    {
     "name": "stdout",
     "output_type": "stream",
     "text": [
      "Normal segments saved for chb09_13.edf\n"
     ]
    },
    {
     "name": "stderr",
     "output_type": "stream",
     "text": [
      "/tmp/ipykernel_3734/3037979607.py:81: RuntimeWarning: EDF format requires equal-length data blocks, so 0.996 seconds of edge values were appended to all channels when writing the final block.\n",
      "  raw_crop.export(save_path, fmt=\"edf\", overwrite=True)\n",
      "/tmp/ipykernel_3734/3037979607.py:81: RuntimeWarning: EDF format requires equal-length data blocks, so 0.996 seconds of edge values were appended to all channels when writing the final block.\n",
      "  raw_crop.export(save_path, fmt=\"edf\", overwrite=True)\n",
      "/tmp/ipykernel_3734/3037979607.py:81: RuntimeWarning: EDF format requires equal-length data blocks, so 0.996 seconds of edge values were appended to all channels when writing the final block.\n",
      "  raw_crop.export(save_path, fmt=\"edf\", overwrite=True)\n",
      "/tmp/ipykernel_3734/3037979607.py:81: RuntimeWarning: EDF format requires equal-length data blocks, so 0.996 seconds of edge values were appended to all channels when writing the final block.\n",
      "  raw_crop.export(save_path, fmt=\"edf\", overwrite=True)\n",
      "/tmp/ipykernel_3734/3037979607.py:81: RuntimeWarning: EDF format requires equal-length data blocks, so 0.996 seconds of edge values were appended to all channels when writing the final block.\n",
      "  raw_crop.export(save_path, fmt=\"edf\", overwrite=True)\n"
     ]
    },
    {
     "name": "stdout",
     "output_type": "stream",
     "text": [
      "Normal segments saved for chb09_14.edf\n"
     ]
    },
    {
     "name": "stderr",
     "output_type": "stream",
     "text": [
      "/tmp/ipykernel_3734/3037979607.py:81: RuntimeWarning: EDF format requires equal-length data blocks, so 0.996 seconds of edge values were appended to all channels when writing the final block.\n",
      "  raw_crop.export(save_path, fmt=\"edf\", overwrite=True)\n",
      "/tmp/ipykernel_3734/3037979607.py:81: RuntimeWarning: EDF format requires equal-length data blocks, so 0.996 seconds of edge values were appended to all channels when writing the final block.\n",
      "  raw_crop.export(save_path, fmt=\"edf\", overwrite=True)\n",
      "/tmp/ipykernel_3734/3037979607.py:81: RuntimeWarning: EDF format requires equal-length data blocks, so 0.996 seconds of edge values were appended to all channels when writing the final block.\n",
      "  raw_crop.export(save_path, fmt=\"edf\", overwrite=True)\n",
      "/tmp/ipykernel_3734/3037979607.py:81: RuntimeWarning: EDF format requires equal-length data blocks, so 0.996 seconds of edge values were appended to all channels when writing the final block.\n",
      "  raw_crop.export(save_path, fmt=\"edf\", overwrite=True)\n",
      "/tmp/ipykernel_3734/3037979607.py:81: RuntimeWarning: EDF format requires equal-length data blocks, so 0.996 seconds of edge values were appended to all channels when writing the final block.\n",
      "  raw_crop.export(save_path, fmt=\"edf\", overwrite=True)\n"
     ]
    },
    {
     "name": "stdout",
     "output_type": "stream",
     "text": [
      "Normal segments saved for chb09_15.edf\n"
     ]
    },
    {
     "name": "stderr",
     "output_type": "stream",
     "text": [
      "/tmp/ipykernel_3734/3037979607.py:81: RuntimeWarning: EDF format requires equal-length data blocks, so 0.996 seconds of edge values were appended to all channels when writing the final block.\n",
      "  raw_crop.export(save_path, fmt=\"edf\", overwrite=True)\n",
      "/tmp/ipykernel_3734/3037979607.py:81: RuntimeWarning: EDF format requires equal-length data blocks, so 0.996 seconds of edge values were appended to all channels when writing the final block.\n",
      "  raw_crop.export(save_path, fmt=\"edf\", overwrite=True)\n",
      "/tmp/ipykernel_3734/3037979607.py:81: RuntimeWarning: EDF format requires equal-length data blocks, so 0.996 seconds of edge values were appended to all channels when writing the final block.\n",
      "  raw_crop.export(save_path, fmt=\"edf\", overwrite=True)\n",
      "/tmp/ipykernel_3734/3037979607.py:81: RuntimeWarning: EDF format requires equal-length data blocks, so 0.996 seconds of edge values were appended to all channels when writing the final block.\n",
      "  raw_crop.export(save_path, fmt=\"edf\", overwrite=True)\n",
      "/tmp/ipykernel_3734/3037979607.py:81: RuntimeWarning: EDF format requires equal-length data blocks, so 0.996 seconds of edge values were appended to all channels when writing the final block.\n",
      "  raw_crop.export(save_path, fmt=\"edf\", overwrite=True)\n",
      "/tmp/ipykernel_3734/3037979607.py:81: RuntimeWarning: EDF format requires equal-length data blocks, so 0.996 seconds of edge values were appended to all channels when writing the final block.\n",
      "  raw_crop.export(save_path, fmt=\"edf\", overwrite=True)\n",
      "/tmp/ipykernel_3734/3037979607.py:81: RuntimeWarning: EDF format requires equal-length data blocks, so 0.996 seconds of edge values were appended to all channels when writing the final block.\n",
      "  raw_crop.export(save_path, fmt=\"edf\", overwrite=True)\n",
      "/tmp/ipykernel_3734/3037979607.py:81: RuntimeWarning: EDF format requires equal-length data blocks, so 0.996 seconds of edge values were appended to all channels when writing the final block.\n",
      "  raw_crop.export(save_path, fmt=\"edf\", overwrite=True)\n",
      "/tmp/ipykernel_3734/3037979607.py:81: RuntimeWarning: EDF format requires equal-length data blocks, so 0.996 seconds of edge values were appended to all channels when writing the final block.\n",
      "  raw_crop.export(save_path, fmt=\"edf\", overwrite=True)\n",
      "/tmp/ipykernel_3734/3037979607.py:81: RuntimeWarning: EDF format requires equal-length data blocks, so 0.996 seconds of edge values were appended to all channels when writing the final block.\n",
      "  raw_crop.export(save_path, fmt=\"edf\", overwrite=True)\n"
     ]
    },
    {
     "name": "stdout",
     "output_type": "stream",
     "text": [
      "Normal segments saved for chb09_16.edf\n",
      "Normal segments saved for chb09_17.edf\n"
     ]
    },
    {
     "name": "stderr",
     "output_type": "stream",
     "text": [
      "/tmp/ipykernel_3734/3037979607.py:81: RuntimeWarning: EDF format requires equal-length data blocks, so 0.996 seconds of edge values were appended to all channels when writing the final block.\n",
      "  raw_crop.export(save_path, fmt=\"edf\", overwrite=True)\n",
      "/tmp/ipykernel_3734/3037979607.py:81: RuntimeWarning: EDF format requires equal-length data blocks, so 0.996 seconds of edge values were appended to all channels when writing the final block.\n",
      "  raw_crop.export(save_path, fmt=\"edf\", overwrite=True)\n",
      "/tmp/ipykernel_3734/3037979607.py:81: RuntimeWarning: EDF format requires equal-length data blocks, so 0.996 seconds of edge values were appended to all channels when writing the final block.\n",
      "  raw_crop.export(save_path, fmt=\"edf\", overwrite=True)\n",
      "/tmp/ipykernel_3734/3037979607.py:81: RuntimeWarning: EDF format requires equal-length data blocks, so 0.996 seconds of edge values were appended to all channels when writing the final block.\n",
      "  raw_crop.export(save_path, fmt=\"edf\", overwrite=True)\n",
      "/tmp/ipykernel_3734/3037979607.py:81: RuntimeWarning: EDF format requires equal-length data blocks, so 0.996 seconds of edge values were appended to all channels when writing the final block.\n",
      "  raw_crop.export(save_path, fmt=\"edf\", overwrite=True)\n",
      "/tmp/ipykernel_3734/3037979607.py:52: RuntimeWarning: EDF format requires equal-length data blocks, so 0.996 seconds of edge values were appended to all channels when writing the final block.\n",
      "  segment.export(save_path, fmt='edf')\n"
     ]
    },
    {
     "name": "stdout",
     "output_type": "stream",
     "text": [
      "Normal segments saved for chb09_18.edf\n",
      "  → saved: chb09_19_seizure_1.edf\n"
     ]
    },
    {
     "name": "stderr",
     "output_type": "stream",
     "text": [
      "/tmp/ipykernel_3734/3037979607.py:81: RuntimeWarning: EDF format requires equal-length data blocks, so 0.996 seconds of edge values were appended to all channels when writing the final block.\n",
      "  raw_crop.export(save_path, fmt=\"edf\", overwrite=True)\n",
      "/tmp/ipykernel_3734/3037979607.py:81: RuntimeWarning: EDF format requires equal-length data blocks, so 0.996 seconds of edge values were appended to all channels when writing the final block.\n",
      "  raw_crop.export(save_path, fmt=\"edf\", overwrite=True)\n",
      "/tmp/ipykernel_3734/3037979607.py:81: RuntimeWarning: EDF format requires equal-length data blocks, so 0.996 seconds of edge values were appended to all channels when writing the final block.\n",
      "  raw_crop.export(save_path, fmt=\"edf\", overwrite=True)\n",
      "/tmp/ipykernel_3734/3037979607.py:81: RuntimeWarning: EDF format requires equal-length data blocks, so 0.996 seconds of edge values were appended to all channels when writing the final block.\n",
      "  raw_crop.export(save_path, fmt=\"edf\", overwrite=True)\n",
      "/tmp/ipykernel_3734/3037979607.py:81: RuntimeWarning: EDF format requires equal-length data blocks, so 0.996 seconds of edge values were appended to all channels when writing the final block.\n",
      "  raw_crop.export(save_path, fmt=\"edf\", overwrite=True)\n",
      "/tmp/ipykernel_3734/3037979607.py:81: RuntimeWarning: EDF format requires equal-length data blocks, so 0.996 seconds of edge values were appended to all channels when writing the final block.\n",
      "  raw_crop.export(save_path, fmt=\"edf\", overwrite=True)\n",
      "/tmp/ipykernel_3734/3037979607.py:81: RuntimeWarning: EDF format requires equal-length data blocks, so 0.996 seconds of edge values were appended to all channels when writing the final block.\n",
      "  raw_crop.export(save_path, fmt=\"edf\", overwrite=True)\n"
     ]
    },
    {
     "name": "stdout",
     "output_type": "stream",
     "text": [
      "Normal segments saved for chb19_01.edf\n",
      "Normal segments saved for chb19_02.edf\n"
     ]
    },
    {
     "name": "stderr",
     "output_type": "stream",
     "text": [
      "/tmp/ipykernel_3734/3037979607.py:81: RuntimeWarning: EDF format requires equal-length data blocks, so 0.996 seconds of edge values were appended to all channels when writing the final block.\n",
      "  raw_crop.export(save_path, fmt=\"edf\", overwrite=True)\n",
      "/tmp/ipykernel_3734/3037979607.py:81: RuntimeWarning: EDF format requires equal-length data blocks, so 0.996 seconds of edge values were appended to all channels when writing the final block.\n",
      "  raw_crop.export(save_path, fmt=\"edf\", overwrite=True)\n",
      "/tmp/ipykernel_3734/3037979607.py:81: RuntimeWarning: EDF format requires equal-length data blocks, so 0.996 seconds of edge values were appended to all channels when writing the final block.\n",
      "  raw_crop.export(save_path, fmt=\"edf\", overwrite=True)\n",
      "/tmp/ipykernel_3734/3037979607.py:81: RuntimeWarning: EDF format requires equal-length data blocks, so 0.996 seconds of edge values were appended to all channels when writing the final block.\n",
      "  raw_crop.export(save_path, fmt=\"edf\", overwrite=True)\n",
      "/tmp/ipykernel_3734/3037979607.py:81: RuntimeWarning: EDF format requires equal-length data blocks, so 0.996 seconds of edge values were appended to all channels when writing the final block.\n",
      "  raw_crop.export(save_path, fmt=\"edf\", overwrite=True)\n",
      "/tmp/ipykernel_3734/3037979607.py:81: RuntimeWarning: EDF format requires equal-length data blocks, so 0.996 seconds of edge values were appended to all channels when writing the final block.\n",
      "  raw_crop.export(save_path, fmt=\"edf\", overwrite=True)\n",
      "/tmp/ipykernel_3734/3037979607.py:81: RuntimeWarning: EDF format requires equal-length data blocks, so 0.996 seconds of edge values were appended to all channels when writing the final block.\n",
      "  raw_crop.export(save_path, fmt=\"edf\", overwrite=True)\n",
      "/tmp/ipykernel_3734/3037979607.py:81: RuntimeWarning: EDF format requires equal-length data blocks, so 0.996 seconds of edge values were appended to all channels when writing the final block.\n",
      "  raw_crop.export(save_path, fmt=\"edf\", overwrite=True)\n",
      "/tmp/ipykernel_3734/3037979607.py:81: RuntimeWarning: EDF format requires equal-length data blocks, so 0.996 seconds of edge values were appended to all channels when writing the final block.\n",
      "  raw_crop.export(save_path, fmt=\"edf\", overwrite=True)\n",
      "/tmp/ipykernel_3734/3037979607.py:81: RuntimeWarning: EDF format requires equal-length data blocks, so 0.996 seconds of edge values were appended to all channels when writing the final block.\n",
      "  raw_crop.export(save_path, fmt=\"edf\", overwrite=True)\n",
      "/tmp/ipykernel_3734/3037979607.py:81: RuntimeWarning: EDF format requires equal-length data blocks, so 0.996 seconds of edge values were appended to all channels when writing the final block.\n",
      "  raw_crop.export(save_path, fmt=\"edf\", overwrite=True)\n",
      "/tmp/ipykernel_3734/3037979607.py:81: RuntimeWarning: EDF format requires equal-length data blocks, so 0.996 seconds of edge values were appended to all channels when writing the final block.\n",
      "  raw_crop.export(save_path, fmt=\"edf\", overwrite=True)\n"
     ]
    },
    {
     "name": "stdout",
     "output_type": "stream",
     "text": [
      "Normal segments saved for chb19_03.edf\n",
      "Normal segments saved for chb19_04.edf\n"
     ]
    },
    {
     "name": "stderr",
     "output_type": "stream",
     "text": [
      "/tmp/ipykernel_3734/3037979607.py:81: RuntimeWarning: EDF format requires equal-length data blocks, so 0.996 seconds of edge values were appended to all channels when writing the final block.\n",
      "  raw_crop.export(save_path, fmt=\"edf\", overwrite=True)\n",
      "/tmp/ipykernel_3734/3037979607.py:81: RuntimeWarning: EDF format requires equal-length data blocks, so 0.996 seconds of edge values were appended to all channels when writing the final block.\n",
      "  raw_crop.export(save_path, fmt=\"edf\", overwrite=True)\n",
      "/tmp/ipykernel_3734/3037979607.py:81: RuntimeWarning: EDF format requires equal-length data blocks, so 0.996 seconds of edge values were appended to all channels when writing the final block.\n",
      "  raw_crop.export(save_path, fmt=\"edf\", overwrite=True)\n",
      "/tmp/ipykernel_3734/3037979607.py:81: RuntimeWarning: EDF format requires equal-length data blocks, so 0.996 seconds of edge values were appended to all channels when writing the final block.\n",
      "  raw_crop.export(save_path, fmt=\"edf\", overwrite=True)\n",
      "/tmp/ipykernel_3734/3037979607.py:81: RuntimeWarning: EDF format requires equal-length data blocks, so 0.996 seconds of edge values were appended to all channels when writing the final block.\n",
      "  raw_crop.export(save_path, fmt=\"edf\", overwrite=True)\n",
      "/tmp/ipykernel_3734/3037979607.py:81: RuntimeWarning: EDF format requires equal-length data blocks, so 0.996 seconds of edge values were appended to all channels when writing the final block.\n",
      "  raw_crop.export(save_path, fmt=\"edf\", overwrite=True)\n"
     ]
    },
    {
     "name": "stdout",
     "output_type": "stream",
     "text": [
      "Normal segments saved for chb19_05.edf\n",
      "Normal segments saved for chb19_06.edf\n"
     ]
    },
    {
     "name": "stderr",
     "output_type": "stream",
     "text": [
      "/tmp/ipykernel_3734/3037979607.py:81: RuntimeWarning: EDF format requires equal-length data blocks, so 0.996 seconds of edge values were appended to all channels when writing the final block.\n",
      "  raw_crop.export(save_path, fmt=\"edf\", overwrite=True)\n",
      "/tmp/ipykernel_3734/3037979607.py:81: RuntimeWarning: EDF format requires equal-length data blocks, so 0.996 seconds of edge values were appended to all channels when writing the final block.\n",
      "  raw_crop.export(save_path, fmt=\"edf\", overwrite=True)\n",
      "/tmp/ipykernel_3734/3037979607.py:81: RuntimeWarning: EDF format requires equal-length data blocks, so 0.996 seconds of edge values were appended to all channels when writing the final block.\n",
      "  raw_crop.export(save_path, fmt=\"edf\", overwrite=True)\n",
      "/tmp/ipykernel_3734/3037979607.py:81: RuntimeWarning: EDF format requires equal-length data blocks, so 0.996 seconds of edge values were appended to all channels when writing the final block.\n",
      "  raw_crop.export(save_path, fmt=\"edf\", overwrite=True)\n",
      "/tmp/ipykernel_3734/3037979607.py:81: RuntimeWarning: EDF format requires equal-length data blocks, so 0.996 seconds of edge values were appended to all channels when writing the final block.\n",
      "  raw_crop.export(save_path, fmt=\"edf\", overwrite=True)\n",
      "/tmp/ipykernel_3734/3037979607.py:81: RuntimeWarning: EDF format requires equal-length data blocks, so 0.996 seconds of edge values were appended to all channels when writing the final block.\n",
      "  raw_crop.export(save_path, fmt=\"edf\", overwrite=True)\n",
      "/tmp/ipykernel_3734/3037979607.py:81: RuntimeWarning: EDF format requires equal-length data blocks, so 0.996 seconds of edge values were appended to all channels when writing the final block.\n",
      "  raw_crop.export(save_path, fmt=\"edf\", overwrite=True)\n",
      "/tmp/ipykernel_3734/3037979607.py:81: RuntimeWarning: EDF format requires equal-length data blocks, so 0.996 seconds of edge values were appended to all channels when writing the final block.\n",
      "  raw_crop.export(save_path, fmt=\"edf\", overwrite=True)\n",
      "/tmp/ipykernel_3734/3037979607.py:81: RuntimeWarning: EDF format requires equal-length data blocks, so 0.996 seconds of edge values were appended to all channels when writing the final block.\n",
      "  raw_crop.export(save_path, fmt=\"edf\", overwrite=True)\n",
      "/tmp/ipykernel_3734/3037979607.py:81: RuntimeWarning: EDF format requires equal-length data blocks, so 0.996 seconds of edge values were appended to all channels when writing the final block.\n",
      "  raw_crop.export(save_path, fmt=\"edf\", overwrite=True)\n",
      "/tmp/ipykernel_3734/3037979607.py:81: RuntimeWarning: EDF format requires equal-length data blocks, so 0.996 seconds of edge values were appended to all channels when writing the final block.\n",
      "  raw_crop.export(save_path, fmt=\"edf\", overwrite=True)\n",
      "/tmp/ipykernel_3734/3037979607.py:81: RuntimeWarning: EDF format requires equal-length data blocks, so 0.996 seconds of edge values were appended to all channels when writing the final block.\n",
      "  raw_crop.export(save_path, fmt=\"edf\", overwrite=True)\n"
     ]
    },
    {
     "name": "stdout",
     "output_type": "stream",
     "text": [
      "Normal segments saved for chb19_07.edf\n",
      "Normal segments saved for chb19_08.edf\n"
     ]
    },
    {
     "name": "stderr",
     "output_type": "stream",
     "text": [
      "/tmp/ipykernel_3734/3037979607.py:81: RuntimeWarning: EDF format requires equal-length data blocks, so 0.996 seconds of edge values were appended to all channels when writing the final block.\n",
      "  raw_crop.export(save_path, fmt=\"edf\", overwrite=True)\n",
      "/tmp/ipykernel_3734/3037979607.py:81: RuntimeWarning: EDF format requires equal-length data blocks, so 0.996 seconds of edge values were appended to all channels when writing the final block.\n",
      "  raw_crop.export(save_path, fmt=\"edf\", overwrite=True)\n",
      "/tmp/ipykernel_3734/3037979607.py:81: RuntimeWarning: EDF format requires equal-length data blocks, so 0.996 seconds of edge values were appended to all channels when writing the final block.\n",
      "  raw_crop.export(save_path, fmt=\"edf\", overwrite=True)\n",
      "/tmp/ipykernel_3734/3037979607.py:81: RuntimeWarning: EDF format requires equal-length data blocks, so 0.996 seconds of edge values were appended to all channels when writing the final block.\n",
      "  raw_crop.export(save_path, fmt=\"edf\", overwrite=True)\n",
      "/tmp/ipykernel_3734/3037979607.py:81: RuntimeWarning: EDF format requires equal-length data blocks, so 0.996 seconds of edge values were appended to all channels when writing the final block.\n",
      "  raw_crop.export(save_path, fmt=\"edf\", overwrite=True)\n",
      "/tmp/ipykernel_3734/3037979607.py:81: RuntimeWarning: EDF format requires equal-length data blocks, so 0.996 seconds of edge values were appended to all channels when writing the final block.\n",
      "  raw_crop.export(save_path, fmt=\"edf\", overwrite=True)\n",
      "/tmp/ipykernel_3734/3037979607.py:81: RuntimeWarning: EDF format requires equal-length data blocks, so 0.996 seconds of edge values were appended to all channels when writing the final block.\n",
      "  raw_crop.export(save_path, fmt=\"edf\", overwrite=True)\n",
      "/tmp/ipykernel_3734/3037979607.py:81: RuntimeWarning: EDF format requires equal-length data blocks, so 0.996 seconds of edge values were appended to all channels when writing the final block.\n",
      "  raw_crop.export(save_path, fmt=\"edf\", overwrite=True)\n",
      "/tmp/ipykernel_3734/3037979607.py:81: RuntimeWarning: EDF format requires equal-length data blocks, so 0.996 seconds of edge values were appended to all channels when writing the final block.\n",
      "  raw_crop.export(save_path, fmt=\"edf\", overwrite=True)\n",
      "/tmp/ipykernel_3734/3037979607.py:81: RuntimeWarning: EDF format requires equal-length data blocks, so 0.996 seconds of edge values were appended to all channels when writing the final block.\n",
      "  raw_crop.export(save_path, fmt=\"edf\", overwrite=True)\n",
      "/tmp/ipykernel_3734/3037979607.py:81: RuntimeWarning: EDF format requires equal-length data blocks, so 0.996 seconds of edge values were appended to all channels when writing the final block.\n",
      "  raw_crop.export(save_path, fmt=\"edf\", overwrite=True)\n",
      "/tmp/ipykernel_3734/3037979607.py:81: RuntimeWarning: EDF format requires equal-length data blocks, so 0.996 seconds of edge values were appended to all channels when writing the final block.\n",
      "  raw_crop.export(save_path, fmt=\"edf\", overwrite=True)\n"
     ]
    },
    {
     "name": "stdout",
     "output_type": "stream",
     "text": [
      "Normal segments saved for chb19_09.edf\n",
      "Normal segments saved for chb19_10.edf\n"
     ]
    },
    {
     "name": "stderr",
     "output_type": "stream",
     "text": [
      "/tmp/ipykernel_3734/3037979607.py:81: RuntimeWarning: EDF format requires equal-length data blocks, so 0.996 seconds of edge values were appended to all channels when writing the final block.\n",
      "  raw_crop.export(save_path, fmt=\"edf\", overwrite=True)\n",
      "/tmp/ipykernel_3734/3037979607.py:81: RuntimeWarning: EDF format requires equal-length data blocks, so 0.996 seconds of edge values were appended to all channels when writing the final block.\n",
      "  raw_crop.export(save_path, fmt=\"edf\", overwrite=True)\n",
      "/tmp/ipykernel_3734/3037979607.py:81: RuntimeWarning: EDF format requires equal-length data blocks, so 0.996 seconds of edge values were appended to all channels when writing the final block.\n",
      "  raw_crop.export(save_path, fmt=\"edf\", overwrite=True)\n",
      "/tmp/ipykernel_3734/3037979607.py:81: RuntimeWarning: EDF format requires equal-length data blocks, so 0.996 seconds of edge values were appended to all channels when writing the final block.\n",
      "  raw_crop.export(save_path, fmt=\"edf\", overwrite=True)\n",
      "/tmp/ipykernel_3734/3037979607.py:81: RuntimeWarning: EDF format requires equal-length data blocks, so 0.996 seconds of edge values were appended to all channels when writing the final block.\n",
      "  raw_crop.export(save_path, fmt=\"edf\", overwrite=True)\n",
      "/tmp/ipykernel_3734/3037979607.py:81: RuntimeWarning: EDF format requires equal-length data blocks, so 0.996 seconds of edge values were appended to all channels when writing the final block.\n",
      "  raw_crop.export(save_path, fmt=\"edf\", overwrite=True)\n"
     ]
    },
    {
     "name": "stdout",
     "output_type": "stream",
     "text": [
      "Normal segments saved for chb19_11.edf\n",
      "Normal segments saved for chb19_12.edf\n"
     ]
    },
    {
     "name": "stderr",
     "output_type": "stream",
     "text": [
      "/tmp/ipykernel_3734/3037979607.py:81: RuntimeWarning: EDF format requires equal-length data blocks, so 0.996 seconds of edge values were appended to all channels when writing the final block.\n",
      "  raw_crop.export(save_path, fmt=\"edf\", overwrite=True)\n",
      "/tmp/ipykernel_3734/3037979607.py:81: RuntimeWarning: EDF format requires equal-length data blocks, so 0.996 seconds of edge values were appended to all channels when writing the final block.\n",
      "  raw_crop.export(save_path, fmt=\"edf\", overwrite=True)\n",
      "/tmp/ipykernel_3734/3037979607.py:81: RuntimeWarning: EDF format requires equal-length data blocks, so 0.996 seconds of edge values were appended to all channels when writing the final block.\n",
      "  raw_crop.export(save_path, fmt=\"edf\", overwrite=True)\n",
      "/tmp/ipykernel_3734/3037979607.py:81: RuntimeWarning: EDF format requires equal-length data blocks, so 0.996 seconds of edge values were appended to all channels when writing the final block.\n",
      "  raw_crop.export(save_path, fmt=\"edf\", overwrite=True)\n",
      "/tmp/ipykernel_3734/3037979607.py:81: RuntimeWarning: EDF format requires equal-length data blocks, so 0.996 seconds of edge values were appended to all channels when writing the final block.\n",
      "  raw_crop.export(save_path, fmt=\"edf\", overwrite=True)\n",
      "/tmp/ipykernel_3734/3037979607.py:81: RuntimeWarning: EDF format requires equal-length data blocks, so 0.996 seconds of edge values were appended to all channels when writing the final block.\n",
      "  raw_crop.export(save_path, fmt=\"edf\", overwrite=True)\n",
      "/tmp/ipykernel_3734/3037979607.py:81: RuntimeWarning: EDF format requires equal-length data blocks, so 0.996 seconds of edge values were appended to all channels when writing the final block.\n",
      "  raw_crop.export(save_path, fmt=\"edf\", overwrite=True)\n",
      "/tmp/ipykernel_3734/3037979607.py:81: RuntimeWarning: EDF format requires equal-length data blocks, so 0.996 seconds of edge values were appended to all channels when writing the final block.\n",
      "  raw_crop.export(save_path, fmt=\"edf\", overwrite=True)\n",
      "/tmp/ipykernel_3734/3037979607.py:81: RuntimeWarning: EDF format requires equal-length data blocks, so 0.996 seconds of edge values were appended to all channels when writing the final block.\n",
      "  raw_crop.export(save_path, fmt=\"edf\", overwrite=True)\n",
      "/tmp/ipykernel_3734/3037979607.py:81: RuntimeWarning: EDF format requires equal-length data blocks, so 0.996 seconds of edge values were appended to all channels when writing the final block.\n",
      "  raw_crop.export(save_path, fmt=\"edf\", overwrite=True)\n",
      "/tmp/ipykernel_3734/3037979607.py:81: RuntimeWarning: EDF format requires equal-length data blocks, so 0.996 seconds of edge values were appended to all channels when writing the final block.\n",
      "  raw_crop.export(save_path, fmt=\"edf\", overwrite=True)\n",
      "/tmp/ipykernel_3734/3037979607.py:81: RuntimeWarning: EDF format requires equal-length data blocks, so 0.996 seconds of edge values were appended to all channels when writing the final block.\n",
      "  raw_crop.export(save_path, fmt=\"edf\", overwrite=True)\n"
     ]
    },
    {
     "name": "stdout",
     "output_type": "stream",
     "text": [
      "Normal segments saved for chb19_13.edf\n",
      "Normal segments saved for chb19_14.edf\n"
     ]
    },
    {
     "name": "stderr",
     "output_type": "stream",
     "text": [
      "/tmp/ipykernel_3734/3037979607.py:81: RuntimeWarning: EDF format requires equal-length data blocks, so 0.996 seconds of edge values were appended to all channels when writing the final block.\n",
      "  raw_crop.export(save_path, fmt=\"edf\", overwrite=True)\n",
      "/tmp/ipykernel_3734/3037979607.py:81: RuntimeWarning: EDF format requires equal-length data blocks, so 0.996 seconds of edge values were appended to all channels when writing the final block.\n",
      "  raw_crop.export(save_path, fmt=\"edf\", overwrite=True)\n",
      "/tmp/ipykernel_3734/3037979607.py:81: RuntimeWarning: EDF format requires equal-length data blocks, so 0.996 seconds of edge values were appended to all channels when writing the final block.\n",
      "  raw_crop.export(save_path, fmt=\"edf\", overwrite=True)\n",
      "/tmp/ipykernel_3734/3037979607.py:81: RuntimeWarning: EDF format requires equal-length data blocks, so 0.996 seconds of edge values were appended to all channels when writing the final block.\n",
      "  raw_crop.export(save_path, fmt=\"edf\", overwrite=True)\n",
      "/tmp/ipykernel_3734/3037979607.py:81: RuntimeWarning: EDF format requires equal-length data blocks, so 0.996 seconds of edge values were appended to all channels when writing the final block.\n",
      "  raw_crop.export(save_path, fmt=\"edf\", overwrite=True)\n",
      "/tmp/ipykernel_3734/3037979607.py:81: RuntimeWarning: EDF format requires equal-length data blocks, so 0.996 seconds of edge values were appended to all channels when writing the final block.\n",
      "  raw_crop.export(save_path, fmt=\"edf\", overwrite=True)\n",
      "/tmp/ipykernel_3734/3037979607.py:81: RuntimeWarning: EDF format requires equal-length data blocks, so 0.996 seconds of edge values were appended to all channels when writing the final block.\n",
      "  raw_crop.export(save_path, fmt=\"edf\", overwrite=True)\n",
      "/tmp/ipykernel_3734/3037979607.py:81: RuntimeWarning: EDF format requires equal-length data blocks, so 0.996 seconds of edge values were appended to all channels when writing the final block.\n",
      "  raw_crop.export(save_path, fmt=\"edf\", overwrite=True)\n",
      "/tmp/ipykernel_3734/3037979607.py:81: RuntimeWarning: EDF format requires equal-length data blocks, so 0.996 seconds of edge values were appended to all channels when writing the final block.\n",
      "  raw_crop.export(save_path, fmt=\"edf\", overwrite=True)\n",
      "/tmp/ipykernel_3734/3037979607.py:81: RuntimeWarning: EDF format requires equal-length data blocks, so 0.996 seconds of edge values were appended to all channels when writing the final block.\n",
      "  raw_crop.export(save_path, fmt=\"edf\", overwrite=True)\n",
      "/tmp/ipykernel_3734/3037979607.py:81: RuntimeWarning: EDF format requires equal-length data blocks, so 0.996 seconds of edge values were appended to all channels when writing the final block.\n",
      "  raw_crop.export(save_path, fmt=\"edf\", overwrite=True)\n",
      "/tmp/ipykernel_3734/3037979607.py:81: RuntimeWarning: EDF format requires equal-length data blocks, so 0.996 seconds of edge values were appended to all channels when writing the final block.\n",
      "  raw_crop.export(save_path, fmt=\"edf\", overwrite=True)\n"
     ]
    },
    {
     "name": "stdout",
     "output_type": "stream",
     "text": [
      "Normal segments saved for chb19_15.edf\n",
      "Normal segments saved for chb19_16.edf\n"
     ]
    },
    {
     "name": "stderr",
     "output_type": "stream",
     "text": [
      "/tmp/ipykernel_3734/3037979607.py:81: RuntimeWarning: EDF format requires equal-length data blocks, so 0.996 seconds of edge values were appended to all channels when writing the final block.\n",
      "  raw_crop.export(save_path, fmt=\"edf\", overwrite=True)\n",
      "/tmp/ipykernel_3734/3037979607.py:81: RuntimeWarning: EDF format requires equal-length data blocks, so 0.996 seconds of edge values were appended to all channels when writing the final block.\n",
      "  raw_crop.export(save_path, fmt=\"edf\", overwrite=True)\n",
      "/tmp/ipykernel_3734/3037979607.py:81: RuntimeWarning: EDF format requires equal-length data blocks, so 0.996 seconds of edge values were appended to all channels when writing the final block.\n",
      "  raw_crop.export(save_path, fmt=\"edf\", overwrite=True)\n",
      "/tmp/ipykernel_3734/3037979607.py:81: RuntimeWarning: EDF format requires equal-length data blocks, so 0.996 seconds of edge values were appended to all channels when writing the final block.\n",
      "  raw_crop.export(save_path, fmt=\"edf\", overwrite=True)\n",
      "/tmp/ipykernel_3734/3037979607.py:81: RuntimeWarning: EDF format requires equal-length data blocks, so 0.996 seconds of edge values were appended to all channels when writing the final block.\n",
      "  raw_crop.export(save_path, fmt=\"edf\", overwrite=True)\n",
      "/tmp/ipykernel_3734/3037979607.py:81: RuntimeWarning: EDF format requires equal-length data blocks, so 0.996 seconds of edge values were appended to all channels when writing the final block.\n",
      "  raw_crop.export(save_path, fmt=\"edf\", overwrite=True)\n"
     ]
    },
    {
     "name": "stdout",
     "output_type": "stream",
     "text": [
      "Normal segments saved for chb19_17.edf\n",
      "Normal segments saved for chb19_18.edf\n"
     ]
    },
    {
     "name": "stderr",
     "output_type": "stream",
     "text": [
      "/tmp/ipykernel_3734/3037979607.py:81: RuntimeWarning: EDF format requires equal-length data blocks, so 0.996 seconds of edge values were appended to all channels when writing the final block.\n",
      "  raw_crop.export(save_path, fmt=\"edf\", overwrite=True)\n",
      "/tmp/ipykernel_3734/3037979607.py:81: RuntimeWarning: EDF format requires equal-length data blocks, so 0.996 seconds of edge values were appended to all channels when writing the final block.\n",
      "  raw_crop.export(save_path, fmt=\"edf\", overwrite=True)\n",
      "/tmp/ipykernel_3734/3037979607.py:81: RuntimeWarning: EDF format requires equal-length data blocks, so 0.996 seconds of edge values were appended to all channels when writing the final block.\n",
      "  raw_crop.export(save_path, fmt=\"edf\", overwrite=True)\n",
      "/tmp/ipykernel_3734/3037979607.py:81: RuntimeWarning: EDF format requires equal-length data blocks, so 0.996 seconds of edge values were appended to all channels when writing the final block.\n",
      "  raw_crop.export(save_path, fmt=\"edf\", overwrite=True)\n",
      "/tmp/ipykernel_3734/3037979607.py:81: RuntimeWarning: EDF format requires equal-length data blocks, so 0.996 seconds of edge values were appended to all channels when writing the final block.\n",
      "  raw_crop.export(save_path, fmt=\"edf\", overwrite=True)\n",
      "/tmp/ipykernel_3734/3037979607.py:81: RuntimeWarning: EDF format requires equal-length data blocks, so 0.996 seconds of edge values were appended to all channels when writing the final block.\n",
      "  raw_crop.export(save_path, fmt=\"edf\", overwrite=True)\n",
      "/tmp/ipykernel_3734/3037979607.py:81: RuntimeWarning: EDF format requires equal-length data blocks, so 0.996 seconds of edge values were appended to all channels when writing the final block.\n",
      "  raw_crop.export(save_path, fmt=\"edf\", overwrite=True)\n",
      "/tmp/ipykernel_3734/3037979607.py:81: RuntimeWarning: EDF format requires equal-length data blocks, so 0.996 seconds of edge values were appended to all channels when writing the final block.\n",
      "  raw_crop.export(save_path, fmt=\"edf\", overwrite=True)\n",
      "/tmp/ipykernel_3734/3037979607.py:81: RuntimeWarning: EDF format requires equal-length data blocks, so 0.996 seconds of edge values were appended to all channels when writing the final block.\n",
      "  raw_crop.export(save_path, fmt=\"edf\", overwrite=True)\n",
      "/tmp/ipykernel_3734/3037979607.py:81: RuntimeWarning: EDF format requires equal-length data blocks, so 0.996 seconds of edge values were appended to all channels when writing the final block.\n",
      "  raw_crop.export(save_path, fmt=\"edf\", overwrite=True)\n",
      "/tmp/ipykernel_3734/3037979607.py:81: RuntimeWarning: EDF format requires equal-length data blocks, so 0.996 seconds of edge values were appended to all channels when writing the final block.\n",
      "  raw_crop.export(save_path, fmt=\"edf\", overwrite=True)\n",
      "/tmp/ipykernel_3734/3037979607.py:81: RuntimeWarning: EDF format requires equal-length data blocks, so 0.996 seconds of edge values were appended to all channels when writing the final block.\n",
      "  raw_crop.export(save_path, fmt=\"edf\", overwrite=True)\n"
     ]
    },
    {
     "name": "stdout",
     "output_type": "stream",
     "text": [
      "Normal segments saved for chb19_19.edf\n",
      "Normal segments saved for chb19_20.edf\n"
     ]
    },
    {
     "name": "stderr",
     "output_type": "stream",
     "text": [
      "/tmp/ipykernel_3734/3037979607.py:81: RuntimeWarning: EDF format requires equal-length data blocks, so 0.996 seconds of edge values were appended to all channels when writing the final block.\n",
      "  raw_crop.export(save_path, fmt=\"edf\", overwrite=True)\n",
      "/tmp/ipykernel_3734/3037979607.py:81: RuntimeWarning: EDF format requires equal-length data blocks, so 0.996 seconds of edge values were appended to all channels when writing the final block.\n",
      "  raw_crop.export(save_path, fmt=\"edf\", overwrite=True)\n",
      "/tmp/ipykernel_3734/3037979607.py:81: RuntimeWarning: EDF format requires equal-length data blocks, so 0.996 seconds of edge values were appended to all channels when writing the final block.\n",
      "  raw_crop.export(save_path, fmt=\"edf\", overwrite=True)\n",
      "/tmp/ipykernel_3734/3037979607.py:81: RuntimeWarning: EDF format requires equal-length data blocks, so 0.996 seconds of edge values were appended to all channels when writing the final block.\n",
      "  raw_crop.export(save_path, fmt=\"edf\", overwrite=True)\n",
      "/tmp/ipykernel_3734/3037979607.py:81: RuntimeWarning: EDF format requires equal-length data blocks, so 0.996 seconds of edge values were appended to all channels when writing the final block.\n",
      "  raw_crop.export(save_path, fmt=\"edf\", overwrite=True)\n",
      "/tmp/ipykernel_3734/3037979607.py:81: RuntimeWarning: EDF format requires equal-length data blocks, so 0.996 seconds of edge values were appended to all channels when writing the final block.\n",
      "  raw_crop.export(save_path, fmt=\"edf\", overwrite=True)\n",
      "/tmp/ipykernel_3734/3037979607.py:81: RuntimeWarning: EDF format requires equal-length data blocks, so 0.996 seconds of edge values were appended to all channels when writing the final block.\n",
      "  raw_crop.export(save_path, fmt=\"edf\", overwrite=True)\n",
      "/tmp/ipykernel_3734/3037979607.py:81: RuntimeWarning: EDF format requires equal-length data blocks, so 0.996 seconds of edge values were appended to all channels when writing the final block.\n",
      "  raw_crop.export(save_path, fmt=\"edf\", overwrite=True)\n",
      "/tmp/ipykernel_3734/3037979607.py:81: RuntimeWarning: EDF format requires equal-length data blocks, so 0.996 seconds of edge values were appended to all channels when writing the final block.\n",
      "  raw_crop.export(save_path, fmt=\"edf\", overwrite=True)\n",
      "/tmp/ipykernel_3734/3037979607.py:81: RuntimeWarning: EDF format requires equal-length data blocks, so 0.996 seconds of edge values were appended to all channels when writing the final block.\n",
      "  raw_crop.export(save_path, fmt=\"edf\", overwrite=True)\n",
      "/tmp/ipykernel_3734/3037979607.py:81: RuntimeWarning: EDF format requires equal-length data blocks, so 0.996 seconds of edge values were appended to all channels when writing the final block.\n",
      "  raw_crop.export(save_path, fmt=\"edf\", overwrite=True)\n",
      "/tmp/ipykernel_3734/3037979607.py:81: RuntimeWarning: EDF format requires equal-length data blocks, so 0.996 seconds of edge values were appended to all channels when writing the final block.\n",
      "  raw_crop.export(save_path, fmt=\"edf\", overwrite=True)\n"
     ]
    },
    {
     "name": "stdout",
     "output_type": "stream",
     "text": [
      "Normal segments saved for chb19_21.edf\n",
      "Normal segments saved for chb19_22.edf\n"
     ]
    },
    {
     "name": "stderr",
     "output_type": "stream",
     "text": [
      "/tmp/ipykernel_3734/3037979607.py:81: RuntimeWarning: EDF format requires equal-length data blocks, so 0.996 seconds of edge values were appended to all channels when writing the final block.\n",
      "  raw_crop.export(save_path, fmt=\"edf\", overwrite=True)\n",
      "/tmp/ipykernel_3734/3037979607.py:81: RuntimeWarning: EDF format requires equal-length data blocks, so 0.996 seconds of edge values were appended to all channels when writing the final block.\n",
      "  raw_crop.export(save_path, fmt=\"edf\", overwrite=True)\n",
      "/tmp/ipykernel_3734/3037979607.py:81: RuntimeWarning: EDF format requires equal-length data blocks, so 0.996 seconds of edge values were appended to all channels when writing the final block.\n",
      "  raw_crop.export(save_path, fmt=\"edf\", overwrite=True)\n",
      "/tmp/ipykernel_3734/3037979607.py:81: RuntimeWarning: EDF format requires equal-length data blocks, so 0.996 seconds of edge values were appended to all channels when writing the final block.\n",
      "  raw_crop.export(save_path, fmt=\"edf\", overwrite=True)\n",
      "/tmp/ipykernel_3734/3037979607.py:81: RuntimeWarning: EDF format requires equal-length data blocks, so 0.996 seconds of edge values were appended to all channels when writing the final block.\n",
      "  raw_crop.export(save_path, fmt=\"edf\", overwrite=True)\n",
      "/tmp/ipykernel_3734/3037979607.py:81: RuntimeWarning: EDF format requires equal-length data blocks, so 0.996 seconds of edge values were appended to all channels when writing the final block.\n",
      "  raw_crop.export(save_path, fmt=\"edf\", overwrite=True)\n"
     ]
    },
    {
     "name": "stdout",
     "output_type": "stream",
     "text": [
      "Normal segments saved for chb19_23.edf\n",
      "Normal segments saved for chb19_24.edf\n"
     ]
    },
    {
     "name": "stderr",
     "output_type": "stream",
     "text": [
      "/tmp/ipykernel_3734/3037979607.py:81: RuntimeWarning: EDF format requires equal-length data blocks, so 0.996 seconds of edge values were appended to all channels when writing the final block.\n",
      "  raw_crop.export(save_path, fmt=\"edf\", overwrite=True)\n",
      "/tmp/ipykernel_3734/3037979607.py:81: RuntimeWarning: EDF format requires equal-length data blocks, so 0.996 seconds of edge values were appended to all channels when writing the final block.\n",
      "  raw_crop.export(save_path, fmt=\"edf\", overwrite=True)\n",
      "/tmp/ipykernel_3734/3037979607.py:81: RuntimeWarning: EDF format requires equal-length data blocks, so 0.996 seconds of edge values were appended to all channels when writing the final block.\n",
      "  raw_crop.export(save_path, fmt=\"edf\", overwrite=True)\n",
      "/tmp/ipykernel_3734/3037979607.py:81: RuntimeWarning: EDF format requires equal-length data blocks, so 0.996 seconds of edge values were appended to all channels when writing the final block.\n",
      "  raw_crop.export(save_path, fmt=\"edf\", overwrite=True)\n",
      "/tmp/ipykernel_3734/3037979607.py:81: RuntimeWarning: EDF format requires equal-length data blocks, so 0.996 seconds of edge values were appended to all channels when writing the final block.\n",
      "  raw_crop.export(save_path, fmt=\"edf\", overwrite=True)\n",
      "/tmp/ipykernel_3734/3037979607.py:81: RuntimeWarning: EDF format requires equal-length data blocks, so 0.996 seconds of edge values were appended to all channels when writing the final block.\n",
      "  raw_crop.export(save_path, fmt=\"edf\", overwrite=True)\n",
      "/tmp/ipykernel_3734/3037979607.py:81: RuntimeWarning: EDF format requires equal-length data blocks, so 0.996 seconds of edge values were appended to all channels when writing the final block.\n",
      "  raw_crop.export(save_path, fmt=\"edf\", overwrite=True)\n",
      "/tmp/ipykernel_3734/3037979607.py:81: RuntimeWarning: EDF format requires equal-length data blocks, so 0.996 seconds of edge values were appended to all channels when writing the final block.\n",
      "  raw_crop.export(save_path, fmt=\"edf\", overwrite=True)\n",
      "/tmp/ipykernel_3734/3037979607.py:81: RuntimeWarning: EDF format requires equal-length data blocks, so 0.996 seconds of edge values were appended to all channels when writing the final block.\n",
      "  raw_crop.export(save_path, fmt=\"edf\", overwrite=True)\n",
      "/tmp/ipykernel_3734/3037979607.py:81: RuntimeWarning: EDF format requires equal-length data blocks, so 0.996 seconds of edge values were appended to all channels when writing the final block.\n",
      "  raw_crop.export(save_path, fmt=\"edf\", overwrite=True)\n",
      "/tmp/ipykernel_3734/3037979607.py:81: RuntimeWarning: EDF format requires equal-length data blocks, so 0.996 seconds of edge values were appended to all channels when writing the final block.\n",
      "  raw_crop.export(save_path, fmt=\"edf\", overwrite=True)\n",
      "/tmp/ipykernel_3734/3037979607.py:81: RuntimeWarning: EDF format requires equal-length data blocks, so 0.996 seconds of edge values were appended to all channels when writing the final block.\n",
      "  raw_crop.export(save_path, fmt=\"edf\", overwrite=True)\n"
     ]
    },
    {
     "name": "stdout",
     "output_type": "stream",
     "text": [
      "Normal segments saved for chb19_25.edf\n",
      "Normal segments saved for chb19_26.edf\n"
     ]
    },
    {
     "name": "stderr",
     "output_type": "stream",
     "text": [
      "/tmp/ipykernel_3734/3037979607.py:81: RuntimeWarning: EDF format requires equal-length data blocks, so 0.996 seconds of edge values were appended to all channels when writing the final block.\n",
      "  raw_crop.export(save_path, fmt=\"edf\", overwrite=True)\n",
      "/tmp/ipykernel_3734/3037979607.py:81: RuntimeWarning: EDF format requires equal-length data blocks, so 0.996 seconds of edge values were appended to all channels when writing the final block.\n",
      "  raw_crop.export(save_path, fmt=\"edf\", overwrite=True)\n",
      "/tmp/ipykernel_3734/3037979607.py:81: RuntimeWarning: EDF format requires equal-length data blocks, so 0.996 seconds of edge values were appended to all channels when writing the final block.\n",
      "  raw_crop.export(save_path, fmt=\"edf\", overwrite=True)\n",
      "/tmp/ipykernel_3734/3037979607.py:81: RuntimeWarning: EDF format requires equal-length data blocks, so 0.996 seconds of edge values were appended to all channels when writing the final block.\n",
      "  raw_crop.export(save_path, fmt=\"edf\", overwrite=True)\n",
      "/tmp/ipykernel_3734/3037979607.py:81: RuntimeWarning: EDF format requires equal-length data blocks, so 0.996 seconds of edge values were appended to all channels when writing the final block.\n",
      "  raw_crop.export(save_path, fmt=\"edf\", overwrite=True)\n",
      "/tmp/ipykernel_3734/3037979607.py:81: RuntimeWarning: EDF format requires equal-length data blocks, so 0.996 seconds of edge values were appended to all channels when writing the final block.\n",
      "  raw_crop.export(save_path, fmt=\"edf\", overwrite=True)\n",
      "/tmp/ipykernel_3734/3037979607.py:81: RuntimeWarning: EDF format requires equal-length data blocks, so 0.996 seconds of edge values were appended to all channels when writing the final block.\n",
      "  raw_crop.export(save_path, fmt=\"edf\", overwrite=True)\n",
      "/tmp/ipykernel_3734/3037979607.py:81: RuntimeWarning: EDF format requires equal-length data blocks, so 0.996 seconds of edge values were appended to all channels when writing the final block.\n",
      "  raw_crop.export(save_path, fmt=\"edf\", overwrite=True)\n",
      "/tmp/ipykernel_3734/3037979607.py:52: RuntimeWarning: EDF format requires equal-length data blocks, so 0.996 seconds of edge values were appended to all channels when writing the final block.\n",
      "  segment.export(save_path, fmt='edf')\n"
     ]
    },
    {
     "name": "stdout",
     "output_type": "stream",
     "text": [
      "Normal segments saved for chb19_27.edf\n",
      "  → saved: chb19_28_seizure_1.edf\n",
      "  → saved: chb19_29_seizure_1.edf\n"
     ]
    },
    {
     "name": "stderr",
     "output_type": "stream",
     "text": [
      "/tmp/ipykernel_3734/3037979607.py:52: RuntimeWarning: EDF format requires equal-length data blocks, so 0.996 seconds of edge values were appended to all channels when writing the final block.\n",
      "  segment.export(save_path, fmt='edf')\n",
      "/tmp/ipykernel_3734/3037979607.py:52: RuntimeWarning: EDF format requires equal-length data blocks, so 0.996 seconds of edge values were appended to all channels when writing the final block.\n",
      "  segment.export(save_path, fmt='edf')\n",
      "/tmp/ipykernel_3734/3037979607.py:81: RuntimeWarning: EDF format requires equal-length data blocks, so 0.996 seconds of edge values were appended to all channels when writing the final block.\n",
      "  raw_crop.export(save_path, fmt=\"edf\", overwrite=True)\n"
     ]
    },
    {
     "name": "stdout",
     "output_type": "stream",
     "text": [
      "  → saved: chb19_30_seizure_1.edf\n",
      "Normal segments saved for chb14_01.edf\n"
     ]
    },
    {
     "name": "stderr",
     "output_type": "stream",
     "text": [
      "/tmp/ipykernel_3734/3037979607.py:81: RuntimeWarning: EDF format requires equal-length data blocks, so 0.996 seconds of edge values were appended to all channels when writing the final block.\n",
      "  raw_crop.export(save_path, fmt=\"edf\", overwrite=True)\n",
      "/tmp/ipykernel_3734/3037979607.py:81: RuntimeWarning: EDF format requires equal-length data blocks, so 0.996 seconds of edge values were appended to all channels when writing the final block.\n",
      "  raw_crop.export(save_path, fmt=\"edf\", overwrite=True)\n",
      "/tmp/ipykernel_3734/3037979607.py:81: RuntimeWarning: EDF format requires equal-length data blocks, so 0.996 seconds of edge values were appended to all channels when writing the final block.\n",
      "  raw_crop.export(save_path, fmt=\"edf\", overwrite=True)\n",
      "/tmp/ipykernel_3734/3037979607.py:81: RuntimeWarning: EDF format requires equal-length data blocks, so 0.996 seconds of edge values were appended to all channels when writing the final block.\n",
      "  raw_crop.export(save_path, fmt=\"edf\", overwrite=True)\n",
      "/tmp/ipykernel_3734/3037979607.py:81: RuntimeWarning: EDF format requires equal-length data blocks, so 0.996 seconds of edge values were appended to all channels when writing the final block.\n",
      "  raw_crop.export(save_path, fmt=\"edf\", overwrite=True)\n",
      "/tmp/ipykernel_3734/3037979607.py:81: RuntimeWarning: EDF format requires equal-length data blocks, so 0.996 seconds of edge values were appended to all channels when writing the final block.\n",
      "  raw_crop.export(save_path, fmt=\"edf\", overwrite=True)\n",
      "/tmp/ipykernel_3734/3037979607.py:81: RuntimeWarning: EDF format requires equal-length data blocks, so 0.996 seconds of edge values were appended to all channels when writing the final block.\n",
      "  raw_crop.export(save_path, fmt=\"edf\", overwrite=True)\n",
      "/tmp/ipykernel_3734/3037979607.py:81: RuntimeWarning: EDF format requires equal-length data blocks, so 0.996 seconds of edge values were appended to all channels when writing the final block.\n",
      "  raw_crop.export(save_path, fmt=\"edf\", overwrite=True)\n",
      "/tmp/ipykernel_3734/3037979607.py:81: RuntimeWarning: EDF format requires equal-length data blocks, so 0.996 seconds of edge values were appended to all channels when writing the final block.\n",
      "  raw_crop.export(save_path, fmt=\"edf\", overwrite=True)\n",
      "/tmp/ipykernel_3734/3037979607.py:52: RuntimeWarning: EDF format requires equal-length data blocks, so 0.996 seconds of edge values were appended to all channels when writing the final block.\n",
      "  segment.export(save_path, fmt='edf')\n"
     ]
    },
    {
     "name": "stdout",
     "output_type": "stream",
     "text": [
      "Normal segments saved for chb14_02.edf\n",
      "  → saved: chb14_03_seizure_1.edf\n",
      "  → saved: chb14_04_seizure_1.edf\n"
     ]
    },
    {
     "name": "stderr",
     "output_type": "stream",
     "text": [
      "/tmp/ipykernel_3734/3037979607.py:52: RuntimeWarning: EDF format requires equal-length data blocks, so 0.996 seconds of edge values were appended to all channels when writing the final block.\n",
      "  segment.export(save_path, fmt='edf')\n",
      "/tmp/ipykernel_3734/3037979607.py:52: RuntimeWarning: EDF format requires equal-length data blocks, so 0.996 seconds of edge values were appended to all channels when writing the final block.\n",
      "  segment.export(save_path, fmt='edf')\n",
      "/tmp/ipykernel_3734/3037979607.py:52: RuntimeWarning: EDF format requires equal-length data blocks, so 0.996 seconds of edge values were appended to all channels when writing the final block.\n",
      "  segment.export(save_path, fmt='edf')\n"
     ]
    },
    {
     "name": "stdout",
     "output_type": "stream",
     "text": [
      "  → saved: chb14_04_seizure_2.edf\n",
      "  → saved: chb14_06_seizure_1.edf\n"
     ]
    },
    {
     "name": "stderr",
     "output_type": "stream",
     "text": [
      "/tmp/ipykernel_3734/3037979607.py:81: RuntimeWarning: EDF format requires equal-length data blocks, so 0.996 seconds of edge values were appended to all channels when writing the final block.\n",
      "  raw_crop.export(save_path, fmt=\"edf\", overwrite=True)\n",
      "/tmp/ipykernel_3734/3037979607.py:81: RuntimeWarning: EDF format requires equal-length data blocks, so 0.996 seconds of edge values were appended to all channels when writing the final block.\n",
      "  raw_crop.export(save_path, fmt=\"edf\", overwrite=True)\n",
      "/tmp/ipykernel_3734/3037979607.py:81: RuntimeWarning: EDF format requires equal-length data blocks, so 0.996 seconds of edge values were appended to all channels when writing the final block.\n",
      "  raw_crop.export(save_path, fmt=\"edf\", overwrite=True)\n",
      "/tmp/ipykernel_3734/3037979607.py:81: RuntimeWarning: EDF format requires equal-length data blocks, so 0.996 seconds of edge values were appended to all channels when writing the final block.\n",
      "  raw_crop.export(save_path, fmt=\"edf\", overwrite=True)\n",
      "/tmp/ipykernel_3734/3037979607.py:81: RuntimeWarning: EDF format requires equal-length data blocks, so 0.996 seconds of edge values were appended to all channels when writing the final block.\n",
      "  raw_crop.export(save_path, fmt=\"edf\", overwrite=True)\n",
      "/tmp/ipykernel_3734/3037979607.py:52: RuntimeWarning: EDF format requires equal-length data blocks, so 0.996 seconds of edge values were appended to all channels when writing the final block.\n",
      "  segment.export(save_path, fmt='edf')\n"
     ]
    },
    {
     "name": "stdout",
     "output_type": "stream",
     "text": [
      "Normal segments saved for chb14_07.edf\n",
      "  → saved: chb14_11_seizure_1.edf\n"
     ]
    },
    {
     "name": "stderr",
     "output_type": "stream",
     "text": [
      "/tmp/ipykernel_3734/3037979607.py:81: RuntimeWarning: EDF format requires equal-length data blocks, so 0.996 seconds of edge values were appended to all channels when writing the final block.\n",
      "  raw_crop.export(save_path, fmt=\"edf\", overwrite=True)\n",
      "/tmp/ipykernel_3734/3037979607.py:81: RuntimeWarning: EDF format requires equal-length data blocks, so 0.996 seconds of edge values were appended to all channels when writing the final block.\n",
      "  raw_crop.export(save_path, fmt=\"edf\", overwrite=True)\n",
      "/tmp/ipykernel_3734/3037979607.py:81: RuntimeWarning: EDF format requires equal-length data blocks, so 0.996 seconds of edge values were appended to all channels when writing the final block.\n",
      "  raw_crop.export(save_path, fmt=\"edf\", overwrite=True)\n",
      "/tmp/ipykernel_3734/3037979607.py:81: RuntimeWarning: EDF format requires equal-length data blocks, so 0.996 seconds of edge values were appended to all channels when writing the final block.\n",
      "  raw_crop.export(save_path, fmt=\"edf\", overwrite=True)\n",
      "/tmp/ipykernel_3734/3037979607.py:81: RuntimeWarning: EDF format requires equal-length data blocks, so 0.996 seconds of edge values were appended to all channels when writing the final block.\n",
      "  raw_crop.export(save_path, fmt=\"edf\", overwrite=True)\n",
      "/tmp/ipykernel_3734/3037979607.py:81: RuntimeWarning: EDF format requires equal-length data blocks, so 0.996 seconds of edge values were appended to all channels when writing the final block.\n",
      "  raw_crop.export(save_path, fmt=\"edf\", overwrite=True)\n"
     ]
    },
    {
     "name": "stdout",
     "output_type": "stream",
     "text": [
      "Normal segments saved for chb14_12.edf\n",
      "Normal segments saved for chb14_13.edf\n"
     ]
    },
    {
     "name": "stderr",
     "output_type": "stream",
     "text": [
      "/tmp/ipykernel_3734/3037979607.py:81: RuntimeWarning: EDF format requires equal-length data blocks, so 0.996 seconds of edge values were appended to all channels when writing the final block.\n",
      "  raw_crop.export(save_path, fmt=\"edf\", overwrite=True)\n",
      "/tmp/ipykernel_3734/3037979607.py:81: RuntimeWarning: EDF format requires equal-length data blocks, so 0.996 seconds of edge values were appended to all channels when writing the final block.\n",
      "  raw_crop.export(save_path, fmt=\"edf\", overwrite=True)\n",
      "/tmp/ipykernel_3734/3037979607.py:81: RuntimeWarning: EDF format requires equal-length data blocks, so 0.996 seconds of edge values were appended to all channels when writing the final block.\n",
      "  raw_crop.export(save_path, fmt=\"edf\", overwrite=True)\n",
      "/tmp/ipykernel_3734/3037979607.py:81: RuntimeWarning: EDF format requires equal-length data blocks, so 0.996 seconds of edge values were appended to all channels when writing the final block.\n",
      "  raw_crop.export(save_path, fmt=\"edf\", overwrite=True)\n",
      "/tmp/ipykernel_3734/3037979607.py:81: RuntimeWarning: EDF format requires equal-length data blocks, so 0.996 seconds of edge values were appended to all channels when writing the final block.\n",
      "  raw_crop.export(save_path, fmt=\"edf\", overwrite=True)\n",
      "/tmp/ipykernel_3734/3037979607.py:81: RuntimeWarning: EDF format requires equal-length data blocks, so 0.996 seconds of edge values were appended to all channels when writing the final block.\n",
      "  raw_crop.export(save_path, fmt=\"edf\", overwrite=True)\n",
      "/tmp/ipykernel_3734/3037979607.py:81: RuntimeWarning: EDF format requires equal-length data blocks, so 0.996 seconds of edge values were appended to all channels when writing the final block.\n",
      "  raw_crop.export(save_path, fmt=\"edf\", overwrite=True)\n",
      "/tmp/ipykernel_3734/3037979607.py:81: RuntimeWarning: EDF format requires equal-length data blocks, so 0.996 seconds of edge values were appended to all channels when writing the final block.\n",
      "  raw_crop.export(save_path, fmt=\"edf\", overwrite=True)\n",
      "/tmp/ipykernel_3734/3037979607.py:81: RuntimeWarning: EDF format requires equal-length data blocks, so 0.996 seconds of edge values were appended to all channels when writing the final block.\n",
      "  raw_crop.export(save_path, fmt=\"edf\", overwrite=True)\n",
      "/tmp/ipykernel_3734/3037979607.py:81: RuntimeWarning: EDF format requires equal-length data blocks, so 0.996 seconds of edge values were appended to all channels when writing the final block.\n",
      "  raw_crop.export(save_path, fmt=\"edf\", overwrite=True)\n",
      "/tmp/ipykernel_3734/3037979607.py:81: RuntimeWarning: EDF format requires equal-length data blocks, so 0.996 seconds of edge values were appended to all channels when writing the final block.\n",
      "  raw_crop.export(save_path, fmt=\"edf\", overwrite=True)\n",
      "/tmp/ipykernel_3734/3037979607.py:81: RuntimeWarning: EDF format requires equal-length data blocks, so 0.996 seconds of edge values were appended to all channels when writing the final block.\n",
      "  raw_crop.export(save_path, fmt=\"edf\", overwrite=True)\n"
     ]
    },
    {
     "name": "stdout",
     "output_type": "stream",
     "text": [
      "Normal segments saved for chb14_14.edf\n",
      "Normal segments saved for chb14_16.edf\n"
     ]
    },
    {
     "name": "stderr",
     "output_type": "stream",
     "text": [
      "/tmp/ipykernel_3734/3037979607.py:81: RuntimeWarning: EDF format requires equal-length data blocks, so 0.996 seconds of edge values were appended to all channels when writing the final block.\n",
      "  raw_crop.export(save_path, fmt=\"edf\", overwrite=True)\n",
      "/tmp/ipykernel_3734/3037979607.py:81: RuntimeWarning: EDF format requires equal-length data blocks, so 0.996 seconds of edge values were appended to all channels when writing the final block.\n",
      "  raw_crop.export(save_path, fmt=\"edf\", overwrite=True)\n",
      "/tmp/ipykernel_3734/3037979607.py:52: RuntimeWarning: EDF format requires equal-length data blocks, so 0.996 seconds of edge values were appended to all channels when writing the final block.\n",
      "  segment.export(save_path, fmt='edf')\n"
     ]
    },
    {
     "name": "stdout",
     "output_type": "stream",
     "text": [
      "  → saved: chb14_17_seizure_1.edf\n",
      "  → saved: chb14_18_seizure_1.edf\n"
     ]
    },
    {
     "name": "stderr",
     "output_type": "stream",
     "text": [
      "/tmp/ipykernel_3734/3037979607.py:52: RuntimeWarning: EDF format requires equal-length data blocks, so 0.996 seconds of edge values were appended to all channels when writing the final block.\n",
      "  segment.export(save_path, fmt='edf')\n",
      "/tmp/ipykernel_3734/3037979607.py:81: RuntimeWarning: EDF format requires equal-length data blocks, so 0.996 seconds of edge values were appended to all channels when writing the final block.\n",
      "  raw_crop.export(save_path, fmt=\"edf\", overwrite=True)\n",
      "/tmp/ipykernel_3734/3037979607.py:81: RuntimeWarning: EDF format requires equal-length data blocks, so 0.996 seconds of edge values were appended to all channels when writing the final block.\n",
      "  raw_crop.export(save_path, fmt=\"edf\", overwrite=True)\n",
      "/tmp/ipykernel_3734/3037979607.py:81: RuntimeWarning: EDF format requires equal-length data blocks, so 0.996 seconds of edge values were appended to all channels when writing the final block.\n",
      "  raw_crop.export(save_path, fmt=\"edf\", overwrite=True)\n",
      "/tmp/ipykernel_3734/3037979607.py:81: RuntimeWarning: EDF format requires equal-length data blocks, so 0.996 seconds of edge values were appended to all channels when writing the final block.\n",
      "  raw_crop.export(save_path, fmt=\"edf\", overwrite=True)\n",
      "/tmp/ipykernel_3734/3037979607.py:81: RuntimeWarning: EDF format requires equal-length data blocks, so 0.996 seconds of edge values were appended to all channels when writing the final block.\n",
      "  raw_crop.export(save_path, fmt=\"edf\", overwrite=True)\n"
     ]
    },
    {
     "name": "stdout",
     "output_type": "stream",
     "text": [
      "Normal segments saved for chb14_19.edf\n",
      "Normal segments saved for chb14_20.edf\n"
     ]
    },
    {
     "name": "stderr",
     "output_type": "stream",
     "text": [
      "/tmp/ipykernel_3734/3037979607.py:81: RuntimeWarning: EDF format requires equal-length data blocks, so 0.996 seconds of edge values were appended to all channels when writing the final block.\n",
      "  raw_crop.export(save_path, fmt=\"edf\", overwrite=True)\n",
      "/tmp/ipykernel_3734/3037979607.py:81: RuntimeWarning: EDF format requires equal-length data blocks, so 0.996 seconds of edge values were appended to all channels when writing the final block.\n",
      "  raw_crop.export(save_path, fmt=\"edf\", overwrite=True)\n",
      "/tmp/ipykernel_3734/3037979607.py:81: RuntimeWarning: EDF format requires equal-length data blocks, so 0.996 seconds of edge values were appended to all channels when writing the final block.\n",
      "  raw_crop.export(save_path, fmt=\"edf\", overwrite=True)\n",
      "/tmp/ipykernel_3734/3037979607.py:81: RuntimeWarning: EDF format requires equal-length data blocks, so 0.996 seconds of edge values were appended to all channels when writing the final block.\n",
      "  raw_crop.export(save_path, fmt=\"edf\", overwrite=True)\n",
      "/tmp/ipykernel_3734/3037979607.py:81: RuntimeWarning: EDF format requires equal-length data blocks, so 0.996 seconds of edge values were appended to all channels when writing the final block.\n",
      "  raw_crop.export(save_path, fmt=\"edf\", overwrite=True)\n",
      "/tmp/ipykernel_3734/3037979607.py:81: RuntimeWarning: EDF format requires equal-length data blocks, so 0.996 seconds of edge values were appended to all channels when writing the final block.\n",
      "  raw_crop.export(save_path, fmt=\"edf\", overwrite=True)\n",
      "/tmp/ipykernel_3734/3037979607.py:81: RuntimeWarning: EDF format requires equal-length data blocks, so 0.996 seconds of edge values were appended to all channels when writing the final block.\n",
      "  raw_crop.export(save_path, fmt=\"edf\", overwrite=True)\n",
      "/tmp/ipykernel_3734/3037979607.py:81: RuntimeWarning: EDF format requires equal-length data blocks, so 0.996 seconds of edge values were appended to all channels when writing the final block.\n",
      "  raw_crop.export(save_path, fmt=\"edf\", overwrite=True)\n",
      "/tmp/ipykernel_3734/3037979607.py:81: RuntimeWarning: EDF format requires equal-length data blocks, so 0.996 seconds of edge values were appended to all channels when writing the final block.\n",
      "  raw_crop.export(save_path, fmt=\"edf\", overwrite=True)\n",
      "/tmp/ipykernel_3734/3037979607.py:81: RuntimeWarning: EDF format requires equal-length data blocks, so 0.996 seconds of edge values were appended to all channels when writing the final block.\n",
      "  raw_crop.export(save_path, fmt=\"edf\", overwrite=True)\n",
      "/tmp/ipykernel_3734/3037979607.py:81: RuntimeWarning: EDF format requires equal-length data blocks, so 0.996 seconds of edge values were appended to all channels when writing the final block.\n",
      "  raw_crop.export(save_path, fmt=\"edf\", overwrite=True)\n",
      "/tmp/ipykernel_3734/3037979607.py:81: RuntimeWarning: EDF format requires equal-length data blocks, so 0.996 seconds of edge values were appended to all channels when writing the final block.\n",
      "  raw_crop.export(save_path, fmt=\"edf\", overwrite=True)\n"
     ]
    },
    {
     "name": "stdout",
     "output_type": "stream",
     "text": [
      "Normal segments saved for chb14_22.edf\n",
      "Normal segments saved for chb14_24.edf\n"
     ]
    },
    {
     "name": "stderr",
     "output_type": "stream",
     "text": [
      "/tmp/ipykernel_3734/3037979607.py:81: RuntimeWarning: EDF format requires equal-length data blocks, so 0.996 seconds of edge values were appended to all channels when writing the final block.\n",
      "  raw_crop.export(save_path, fmt=\"edf\", overwrite=True)\n",
      "/tmp/ipykernel_3734/3037979607.py:81: RuntimeWarning: EDF format requires equal-length data blocks, so 0.996 seconds of edge values were appended to all channels when writing the final block.\n",
      "  raw_crop.export(save_path, fmt=\"edf\", overwrite=True)\n",
      "/tmp/ipykernel_3734/3037979607.py:81: RuntimeWarning: EDF format requires equal-length data blocks, so 0.996 seconds of edge values were appended to all channels when writing the final block.\n",
      "  raw_crop.export(save_path, fmt=\"edf\", overwrite=True)\n",
      "/tmp/ipykernel_3734/3037979607.py:81: RuntimeWarning: EDF format requires equal-length data blocks, so 0.996 seconds of edge values were appended to all channels when writing the final block.\n",
      "  raw_crop.export(save_path, fmt=\"edf\", overwrite=True)\n",
      "/tmp/ipykernel_3734/3037979607.py:81: RuntimeWarning: EDF format requires equal-length data blocks, so 0.996 seconds of edge values were appended to all channels when writing the final block.\n",
      "  raw_crop.export(save_path, fmt=\"edf\", overwrite=True)\n",
      "/tmp/ipykernel_3734/3037979607.py:81: RuntimeWarning: EDF format requires equal-length data blocks, so 0.996 seconds of edge values were appended to all channels when writing the final block.\n",
      "  raw_crop.export(save_path, fmt=\"edf\", overwrite=True)\n",
      "/tmp/ipykernel_3734/3037979607.py:81: RuntimeWarning: EDF format requires equal-length data blocks, so 0.996 seconds of edge values were appended to all channels when writing the final block.\n",
      "  raw_crop.export(save_path, fmt=\"edf\", overwrite=True)\n",
      "/tmp/ipykernel_3734/3037979607.py:81: RuntimeWarning: EDF format requires equal-length data blocks, so 0.996 seconds of edge values were appended to all channels when writing the final block.\n",
      "  raw_crop.export(save_path, fmt=\"edf\", overwrite=True)\n",
      "/tmp/ipykernel_3734/3037979607.py:81: RuntimeWarning: EDF format requires equal-length data blocks, so 0.996 seconds of edge values were appended to all channels when writing the final block.\n",
      "  raw_crop.export(save_path, fmt=\"edf\", overwrite=True)\n",
      "/tmp/ipykernel_3734/3037979607.py:81: RuntimeWarning: EDF format requires equal-length data blocks, so 0.996 seconds of edge values were appended to all channels when writing the final block.\n",
      "  raw_crop.export(save_path, fmt=\"edf\", overwrite=True)\n",
      "/tmp/ipykernel_3734/3037979607.py:81: RuntimeWarning: EDF format requires equal-length data blocks, so 0.996 seconds of edge values were appended to all channels when writing the final block.\n",
      "  raw_crop.export(save_path, fmt=\"edf\", overwrite=True)\n",
      "/tmp/ipykernel_3734/3037979607.py:81: RuntimeWarning: EDF format requires equal-length data blocks, so 0.996 seconds of edge values were appended to all channels when writing the final block.\n",
      "  raw_crop.export(save_path, fmt=\"edf\", overwrite=True)\n"
     ]
    },
    {
     "name": "stdout",
     "output_type": "stream",
     "text": [
      "Normal segments saved for chb14_25.edf\n",
      "Normal segments saved for chb14_26.edf\n"
     ]
    },
    {
     "name": "stderr",
     "output_type": "stream",
     "text": [
      "/tmp/ipykernel_3734/3037979607.py:81: RuntimeWarning: EDF format requires equal-length data blocks, so 0.996 seconds of edge values were appended to all channels when writing the final block.\n",
      "  raw_crop.export(save_path, fmt=\"edf\", overwrite=True)\n",
      "/tmp/ipykernel_3734/3037979607.py:52: RuntimeWarning: EDF format requires equal-length data blocks, so 0.996 seconds of edge values were appended to all channels when writing the final block.\n",
      "  segment.export(save_path, fmt='edf')\n",
      "/tmp/ipykernel_3734/3037979607.py:81: RuntimeWarning: EDF format requires equal-length data blocks, so 0.996 seconds of edge values were appended to all channels when writing the final block.\n",
      "  raw_crop.export(save_path, fmt=\"edf\", overwrite=True)\n"
     ]
    },
    {
     "name": "stdout",
     "output_type": "stream",
     "text": [
      "  → saved: chb14_27_seizure_1.edf\n",
      "Normal segments saved for chb14_29.edf\n"
     ]
    },
    {
     "name": "stderr",
     "output_type": "stream",
     "text": [
      "/tmp/ipykernel_3734/3037979607.py:81: RuntimeWarning: EDF format requires equal-length data blocks, so 0.996 seconds of edge values were appended to all channels when writing the final block.\n",
      "  raw_crop.export(save_path, fmt=\"edf\", overwrite=True)\n",
      "/tmp/ipykernel_3734/3037979607.py:81: RuntimeWarning: EDF format requires equal-length data blocks, so 0.996 seconds of edge values were appended to all channels when writing the final block.\n",
      "  raw_crop.export(save_path, fmt=\"edf\", overwrite=True)\n",
      "/tmp/ipykernel_3734/3037979607.py:81: RuntimeWarning: EDF format requires equal-length data blocks, so 0.996 seconds of edge values were appended to all channels when writing the final block.\n",
      "  raw_crop.export(save_path, fmt=\"edf\", overwrite=True)\n",
      "/tmp/ipykernel_3734/3037979607.py:81: RuntimeWarning: EDF format requires equal-length data blocks, so 0.996 seconds of edge values were appended to all channels when writing the final block.\n",
      "  raw_crop.export(save_path, fmt=\"edf\", overwrite=True)\n",
      "/tmp/ipykernel_3734/3037979607.py:81: RuntimeWarning: EDF format requires equal-length data blocks, so 0.996 seconds of edge values were appended to all channels when writing the final block.\n",
      "  raw_crop.export(save_path, fmt=\"edf\", overwrite=True)\n",
      "/tmp/ipykernel_3734/3037979607.py:81: RuntimeWarning: EDF format requires equal-length data blocks, so 0.996 seconds of edge values were appended to all channels when writing the final block.\n",
      "  raw_crop.export(save_path, fmt=\"edf\", overwrite=True)\n",
      "/tmp/ipykernel_3734/3037979607.py:81: RuntimeWarning: EDF format requires equal-length data blocks, so 0.996 seconds of edge values were appended to all channels when writing the final block.\n",
      "  raw_crop.export(save_path, fmt=\"edf\", overwrite=True)\n",
      "/tmp/ipykernel_3734/3037979607.py:81: RuntimeWarning: EDF format requires equal-length data blocks, so 0.996 seconds of edge values were appended to all channels when writing the final block.\n",
      "  raw_crop.export(save_path, fmt=\"edf\", overwrite=True)\n",
      "/tmp/ipykernel_3734/3037979607.py:81: RuntimeWarning: EDF format requires equal-length data blocks, so 0.996 seconds of edge values were appended to all channels when writing the final block.\n",
      "  raw_crop.export(save_path, fmt=\"edf\", overwrite=True)\n",
      "/tmp/ipykernel_3734/3037979607.py:81: RuntimeWarning: EDF format requires equal-length data blocks, so 0.996 seconds of edge values were appended to all channels when writing the final block.\n",
      "  raw_crop.export(save_path, fmt=\"edf\", overwrite=True)\n",
      "/tmp/ipykernel_3734/3037979607.py:81: RuntimeWarning: EDF format requires equal-length data blocks, so 0.996 seconds of edge values were appended to all channels when writing the final block.\n",
      "  raw_crop.export(save_path, fmt=\"edf\", overwrite=True)\n",
      "/tmp/ipykernel_3734/3037979607.py:81: RuntimeWarning: EDF format requires equal-length data blocks, so 0.996 seconds of edge values were appended to all channels when writing the final block.\n",
      "  raw_crop.export(save_path, fmt=\"edf\", overwrite=True)\n"
     ]
    },
    {
     "name": "stdout",
     "output_type": "stream",
     "text": [
      "Normal segments saved for chb14_30.edf\n",
      "Normal segments saved for chb14_32.edf\n"
     ]
    },
    {
     "name": "stderr",
     "output_type": "stream",
     "text": [
      "/tmp/ipykernel_3734/3037979607.py:81: RuntimeWarning: EDF format requires equal-length data blocks, so 0.996 seconds of edge values were appended to all channels when writing the final block.\n",
      "  raw_crop.export(save_path, fmt=\"edf\", overwrite=True)\n",
      "/tmp/ipykernel_3734/3037979607.py:81: RuntimeWarning: EDF format requires equal-length data blocks, so 0.996 seconds of edge values were appended to all channels when writing the final block.\n",
      "  raw_crop.export(save_path, fmt=\"edf\", overwrite=True)\n",
      "/tmp/ipykernel_3734/3037979607.py:81: RuntimeWarning: EDF format requires equal-length data blocks, so 0.996 seconds of edge values were appended to all channels when writing the final block.\n",
      "  raw_crop.export(save_path, fmt=\"edf\", overwrite=True)\n",
      "/tmp/ipykernel_3734/3037979607.py:81: RuntimeWarning: EDF format requires equal-length data blocks, so 0.996 seconds of edge values were appended to all channels when writing the final block.\n",
      "  raw_crop.export(save_path, fmt=\"edf\", overwrite=True)\n",
      "/tmp/ipykernel_3734/3037979607.py:81: RuntimeWarning: EDF format requires equal-length data blocks, so 0.996 seconds of edge values were appended to all channels when writing the final block.\n",
      "  raw_crop.export(save_path, fmt=\"edf\", overwrite=True)\n",
      "/tmp/ipykernel_3734/3037979607.py:81: RuntimeWarning: EDF format requires equal-length data blocks, so 0.996 seconds of edge values were appended to all channels when writing the final block.\n",
      "  raw_crop.export(save_path, fmt=\"edf\", overwrite=True)\n",
      "/tmp/ipykernel_3734/3037979607.py:81: RuntimeWarning: EDF format requires equal-length data blocks, so 0.996 seconds of edge values were appended to all channels when writing the final block.\n",
      "  raw_crop.export(save_path, fmt=\"edf\", overwrite=True)\n",
      "/tmp/ipykernel_3734/3037979607.py:81: RuntimeWarning: EDF format requires equal-length data blocks, so 0.996 seconds of edge values were appended to all channels when writing the final block.\n",
      "  raw_crop.export(save_path, fmt=\"edf\", overwrite=True)\n",
      "/tmp/ipykernel_3734/3037979607.py:81: RuntimeWarning: EDF format requires equal-length data blocks, so 0.996 seconds of edge values were appended to all channels when writing the final block.\n",
      "  raw_crop.export(save_path, fmt=\"edf\", overwrite=True)\n",
      "/tmp/ipykernel_3734/3037979607.py:81: RuntimeWarning: EDF format requires equal-length data blocks, so 0.996 seconds of edge values were appended to all channels when writing the final block.\n",
      "  raw_crop.export(save_path, fmt=\"edf\", overwrite=True)\n",
      "/tmp/ipykernel_3734/3037979607.py:81: RuntimeWarning: EDF format requires equal-length data blocks, so 0.996 seconds of edge values were appended to all channels when writing the final block.\n",
      "  raw_crop.export(save_path, fmt=\"edf\", overwrite=True)\n",
      "/tmp/ipykernel_3734/3037979607.py:81: RuntimeWarning: EDF format requires equal-length data blocks, so 0.996 seconds of edge values were appended to all channels when writing the final block.\n",
      "  raw_crop.export(save_path, fmt=\"edf\", overwrite=True)\n"
     ]
    },
    {
     "name": "stdout",
     "output_type": "stream",
     "text": [
      "Normal segments saved for chb14_37.edf\n",
      "Normal segments saved for chb14_39.edf\n"
     ]
    },
    {
     "name": "stderr",
     "output_type": "stream",
     "text": [
      "/tmp/ipykernel_3734/3037979607.py:81: RuntimeWarning: EDF format requires equal-length data blocks, so 0.996 seconds of edge values were appended to all channels when writing the final block.\n",
      "  raw_crop.export(save_path, fmt=\"edf\", overwrite=True)\n",
      "/tmp/ipykernel_3734/3037979607.py:81: RuntimeWarning: EDF format requires equal-length data blocks, so 0.996 seconds of edge values were appended to all channels when writing the final block.\n",
      "  raw_crop.export(save_path, fmt=\"edf\", overwrite=True)\n",
      "/tmp/ipykernel_3734/3037979607.py:81: RuntimeWarning: EDF format requires equal-length data blocks, so 0.996 seconds of edge values were appended to all channels when writing the final block.\n",
      "  raw_crop.export(save_path, fmt=\"edf\", overwrite=True)\n",
      "/tmp/ipykernel_3734/3037979607.py:81: RuntimeWarning: EDF format requires equal-length data blocks, so 0.996 seconds of edge values were appended to all channels when writing the final block.\n",
      "  raw_crop.export(save_path, fmt=\"edf\", overwrite=True)\n",
      "/tmp/ipykernel_3734/3037979607.py:81: RuntimeWarning: EDF format requires equal-length data blocks, so 0.996 seconds of edge values were appended to all channels when writing the final block.\n",
      "  raw_crop.export(save_path, fmt=\"edf\", overwrite=True)\n"
     ]
    },
    {
     "name": "stdout",
     "output_type": "stream",
     "text": [
      "Normal segments saved for chb14_42.edf\n"
     ]
    },
    {
     "name": "stderr",
     "output_type": "stream",
     "text": [
      "/tmp/ipykernel_3734/3037979607.py:81: RuntimeWarning: EDF format requires equal-length data blocks, so 0.996 seconds of edge values were appended to all channels when writing the final block.\n",
      "  raw_crop.export(save_path, fmt=\"edf\", overwrite=True)\n",
      "/tmp/ipykernel_3734/3037979607.py:81: RuntimeWarning: EDF format requires equal-length data blocks, so 0.996 seconds of edge values were appended to all channels when writing the final block.\n",
      "  raw_crop.export(save_path, fmt=\"edf\", overwrite=True)\n",
      "/tmp/ipykernel_3734/3037979607.py:81: RuntimeWarning: EDF format requires equal-length data blocks, so 0.996 seconds of edge values were appended to all channels when writing the final block.\n",
      "  raw_crop.export(save_path, fmt=\"edf\", overwrite=True)\n",
      "/tmp/ipykernel_3734/3037979607.py:81: RuntimeWarning: EDF format requires equal-length data blocks, so 0.996 seconds of edge values were appended to all channels when writing the final block.\n",
      "  raw_crop.export(save_path, fmt=\"edf\", overwrite=True)\n",
      "/tmp/ipykernel_3734/3037979607.py:81: RuntimeWarning: EDF format requires equal-length data blocks, so 0.996 seconds of edge values were appended to all channels when writing the final block.\n",
      "  raw_crop.export(save_path, fmt=\"edf\", overwrite=True)\n"
     ]
    },
    {
     "name": "stdout",
     "output_type": "stream",
     "text": [
      "Normal segments saved for chb07_01.edf\n"
     ]
    },
    {
     "name": "stderr",
     "output_type": "stream",
     "text": [
      "/tmp/ipykernel_3734/3037979607.py:81: RuntimeWarning: EDF format requires equal-length data blocks, so 0.996 seconds of edge values were appended to all channels when writing the final block.\n",
      "  raw_crop.export(save_path, fmt=\"edf\", overwrite=True)\n",
      "/tmp/ipykernel_3734/3037979607.py:81: RuntimeWarning: EDF format requires equal-length data blocks, so 0.996 seconds of edge values were appended to all channels when writing the final block.\n",
      "  raw_crop.export(save_path, fmt=\"edf\", overwrite=True)\n",
      "/tmp/ipykernel_3734/3037979607.py:81: RuntimeWarning: EDF format requires equal-length data blocks, so 0.996 seconds of edge values were appended to all channels when writing the final block.\n",
      "  raw_crop.export(save_path, fmt=\"edf\", overwrite=True)\n",
      "/tmp/ipykernel_3734/3037979607.py:81: RuntimeWarning: EDF format requires equal-length data blocks, so 0.996 seconds of edge values were appended to all channels when writing the final block.\n",
      "  raw_crop.export(save_path, fmt=\"edf\", overwrite=True)\n",
      "/tmp/ipykernel_3734/3037979607.py:81: RuntimeWarning: EDF format requires equal-length data blocks, so 0.996 seconds of edge values were appended to all channels when writing the final block.\n",
      "  raw_crop.export(save_path, fmt=\"edf\", overwrite=True)\n"
     ]
    },
    {
     "name": "stdout",
     "output_type": "stream",
     "text": [
      "Normal segments saved for chb07_02.edf\n"
     ]
    },
    {
     "name": "stderr",
     "output_type": "stream",
     "text": [
      "/tmp/ipykernel_3734/3037979607.py:81: RuntimeWarning: EDF format requires equal-length data blocks, so 0.996 seconds of edge values were appended to all channels when writing the final block.\n",
      "  raw_crop.export(save_path, fmt=\"edf\", overwrite=True)\n",
      "/tmp/ipykernel_3734/3037979607.py:81: RuntimeWarning: EDF format requires equal-length data blocks, so 0.996 seconds of edge values were appended to all channels when writing the final block.\n",
      "  raw_crop.export(save_path, fmt=\"edf\", overwrite=True)\n",
      "/tmp/ipykernel_3734/3037979607.py:81: RuntimeWarning: EDF format requires equal-length data blocks, so 0.996 seconds of edge values were appended to all channels when writing the final block.\n",
      "  raw_crop.export(save_path, fmt=\"edf\", overwrite=True)\n",
      "/tmp/ipykernel_3734/3037979607.py:81: RuntimeWarning: EDF format requires equal-length data blocks, so 0.996 seconds of edge values were appended to all channels when writing the final block.\n",
      "  raw_crop.export(save_path, fmt=\"edf\", overwrite=True)\n",
      "/tmp/ipykernel_3734/3037979607.py:81: RuntimeWarning: EDF format requires equal-length data blocks, so 0.996 seconds of edge values were appended to all channels when writing the final block.\n",
      "  raw_crop.export(save_path, fmt=\"edf\", overwrite=True)\n"
     ]
    },
    {
     "name": "stdout",
     "output_type": "stream",
     "text": [
      "Normal segments saved for chb07_03.edf\n"
     ]
    },
    {
     "name": "stderr",
     "output_type": "stream",
     "text": [
      "/tmp/ipykernel_3734/3037979607.py:81: RuntimeWarning: EDF format requires equal-length data blocks, so 0.996 seconds of edge values were appended to all channels when writing the final block.\n",
      "  raw_crop.export(save_path, fmt=\"edf\", overwrite=True)\n",
      "/tmp/ipykernel_3734/3037979607.py:81: RuntimeWarning: EDF format requires equal-length data blocks, so 0.996 seconds of edge values were appended to all channels when writing the final block.\n",
      "  raw_crop.export(save_path, fmt=\"edf\", overwrite=True)\n",
      "/tmp/ipykernel_3734/3037979607.py:81: RuntimeWarning: EDF format requires equal-length data blocks, so 0.996 seconds of edge values were appended to all channels when writing the final block.\n",
      "  raw_crop.export(save_path, fmt=\"edf\", overwrite=True)\n",
      "/tmp/ipykernel_3734/3037979607.py:81: RuntimeWarning: EDF format requires equal-length data blocks, so 0.996 seconds of edge values were appended to all channels when writing the final block.\n",
      "  raw_crop.export(save_path, fmt=\"edf\", overwrite=True)\n",
      "/tmp/ipykernel_3734/3037979607.py:81: RuntimeWarning: EDF format requires equal-length data blocks, so 0.996 seconds of edge values were appended to all channels when writing the final block.\n",
      "  raw_crop.export(save_path, fmt=\"edf\", overwrite=True)\n"
     ]
    },
    {
     "name": "stdout",
     "output_type": "stream",
     "text": [
      "Normal segments saved for chb07_04.edf\n"
     ]
    },
    {
     "name": "stderr",
     "output_type": "stream",
     "text": [
      "/tmp/ipykernel_3734/3037979607.py:81: RuntimeWarning: EDF format requires equal-length data blocks, so 0.996 seconds of edge values were appended to all channels when writing the final block.\n",
      "  raw_crop.export(save_path, fmt=\"edf\", overwrite=True)\n",
      "/tmp/ipykernel_3734/3037979607.py:81: RuntimeWarning: EDF format requires equal-length data blocks, so 0.996 seconds of edge values were appended to all channels when writing the final block.\n",
      "  raw_crop.export(save_path, fmt=\"edf\", overwrite=True)\n",
      "/tmp/ipykernel_3734/3037979607.py:81: RuntimeWarning: EDF format requires equal-length data blocks, so 0.996 seconds of edge values were appended to all channels when writing the final block.\n",
      "  raw_crop.export(save_path, fmt=\"edf\", overwrite=True)\n",
      "/tmp/ipykernel_3734/3037979607.py:81: RuntimeWarning: EDF format requires equal-length data blocks, so 0.996 seconds of edge values were appended to all channels when writing the final block.\n",
      "  raw_crop.export(save_path, fmt=\"edf\", overwrite=True)\n",
      "/tmp/ipykernel_3734/3037979607.py:81: RuntimeWarning: EDF format requires equal-length data blocks, so 0.996 seconds of edge values were appended to all channels when writing the final block.\n",
      "  raw_crop.export(save_path, fmt=\"edf\", overwrite=True)\n",
      "/tmp/ipykernel_3734/3037979607.py:81: RuntimeWarning: EDF format requires equal-length data blocks, so 0.996 seconds of edge values were appended to all channels when writing the final block.\n",
      "  raw_crop.export(save_path, fmt=\"edf\", overwrite=True)\n"
     ]
    },
    {
     "name": "stdout",
     "output_type": "stream",
     "text": [
      "Normal segments saved for chb07_05.edf\n"
     ]
    },
    {
     "name": "stderr",
     "output_type": "stream",
     "text": [
      "/tmp/ipykernel_3734/3037979607.py:81: RuntimeWarning: EDF format requires equal-length data blocks, so 0.996 seconds of edge values were appended to all channels when writing the final block.\n",
      "  raw_crop.export(save_path, fmt=\"edf\", overwrite=True)\n",
      "/tmp/ipykernel_3734/3037979607.py:81: RuntimeWarning: EDF format requires equal-length data blocks, so 0.996 seconds of edge values were appended to all channels when writing the final block.\n",
      "  raw_crop.export(save_path, fmt=\"edf\", overwrite=True)\n",
      "/tmp/ipykernel_3734/3037979607.py:81: RuntimeWarning: EDF format requires equal-length data blocks, so 0.996 seconds of edge values were appended to all channels when writing the final block.\n",
      "  raw_crop.export(save_path, fmt=\"edf\", overwrite=True)\n",
      "/tmp/ipykernel_3734/3037979607.py:81: RuntimeWarning: EDF format requires equal-length data blocks, so 0.996 seconds of edge values were appended to all channels when writing the final block.\n",
      "  raw_crop.export(save_path, fmt=\"edf\", overwrite=True)\n",
      "/tmp/ipykernel_3734/3037979607.py:81: RuntimeWarning: EDF format requires equal-length data blocks, so 0.996 seconds of edge values were appended to all channels when writing the final block.\n",
      "  raw_crop.export(save_path, fmt=\"edf\", overwrite=True)\n",
      "/tmp/ipykernel_3734/3037979607.py:81: RuntimeWarning: EDF format requires equal-length data blocks, so 0.996 seconds of edge values were appended to all channels when writing the final block.\n",
      "  raw_crop.export(save_path, fmt=\"edf\", overwrite=True)\n"
     ]
    },
    {
     "name": "stdout",
     "output_type": "stream",
     "text": [
      "Normal segments saved for chb07_06.edf\n",
      "Normal segments saved for chb07_07.edf\n"
     ]
    },
    {
     "name": "stderr",
     "output_type": "stream",
     "text": [
      "/tmp/ipykernel_3734/3037979607.py:81: RuntimeWarning: EDF format requires equal-length data blocks, so 0.996 seconds of edge values were appended to all channels when writing the final block.\n",
      "  raw_crop.export(save_path, fmt=\"edf\", overwrite=True)\n",
      "/tmp/ipykernel_3734/3037979607.py:81: RuntimeWarning: EDF format requires equal-length data blocks, so 0.996 seconds of edge values were appended to all channels when writing the final block.\n",
      "  raw_crop.export(save_path, fmt=\"edf\", overwrite=True)\n",
      "/tmp/ipykernel_3734/3037979607.py:81: RuntimeWarning: EDF format requires equal-length data blocks, so 0.996 seconds of edge values were appended to all channels when writing the final block.\n",
      "  raw_crop.export(save_path, fmt=\"edf\", overwrite=True)\n",
      "/tmp/ipykernel_3734/3037979607.py:81: RuntimeWarning: EDF format requires equal-length data blocks, so 0.996 seconds of edge values were appended to all channels when writing the final block.\n",
      "  raw_crop.export(save_path, fmt=\"edf\", overwrite=True)\n",
      "/tmp/ipykernel_3734/3037979607.py:81: RuntimeWarning: EDF format requires equal-length data blocks, so 0.996 seconds of edge values were appended to all channels when writing the final block.\n",
      "  raw_crop.export(save_path, fmt=\"edf\", overwrite=True)\n",
      "/tmp/ipykernel_3734/3037979607.py:81: RuntimeWarning: EDF format requires equal-length data blocks, so 0.996 seconds of edge values were appended to all channels when writing the final block.\n",
      "  raw_crop.export(save_path, fmt=\"edf\", overwrite=True)\n",
      "/tmp/ipykernel_3734/3037979607.py:81: RuntimeWarning: EDF format requires equal-length data blocks, so 0.996 seconds of edge values were appended to all channels when writing the final block.\n",
      "  raw_crop.export(save_path, fmt=\"edf\", overwrite=True)\n",
      "/tmp/ipykernel_3734/3037979607.py:81: RuntimeWarning: EDF format requires equal-length data blocks, so 0.996 seconds of edge values were appended to all channels when writing the final block.\n",
      "  raw_crop.export(save_path, fmt=\"edf\", overwrite=True)\n"
     ]
    },
    {
     "name": "stdout",
     "output_type": "stream",
     "text": [
      "Normal segments saved for chb07_08.edf\n"
     ]
    },
    {
     "name": "stderr",
     "output_type": "stream",
     "text": [
      "/tmp/ipykernel_3734/3037979607.py:81: RuntimeWarning: EDF format requires equal-length data blocks, so 0.996 seconds of edge values were appended to all channels when writing the final block.\n",
      "  raw_crop.export(save_path, fmt=\"edf\", overwrite=True)\n",
      "/tmp/ipykernel_3734/3037979607.py:81: RuntimeWarning: EDF format requires equal-length data blocks, so 0.996 seconds of edge values were appended to all channels when writing the final block.\n",
      "  raw_crop.export(save_path, fmt=\"edf\", overwrite=True)\n",
      "/tmp/ipykernel_3734/3037979607.py:81: RuntimeWarning: EDF format requires equal-length data blocks, so 0.996 seconds of edge values were appended to all channels when writing the final block.\n",
      "  raw_crop.export(save_path, fmt=\"edf\", overwrite=True)\n",
      "/tmp/ipykernel_3734/3037979607.py:81: RuntimeWarning: EDF format requires equal-length data blocks, so 0.996 seconds of edge values were appended to all channels when writing the final block.\n",
      "  raw_crop.export(save_path, fmt=\"edf\", overwrite=True)\n",
      "/tmp/ipykernel_3734/3037979607.py:81: RuntimeWarning: EDF format requires equal-length data blocks, so 0.996 seconds of edge values were appended to all channels when writing the final block.\n",
      "  raw_crop.export(save_path, fmt=\"edf\", overwrite=True)\n"
     ]
    },
    {
     "name": "stdout",
     "output_type": "stream",
     "text": [
      "Normal segments saved for chb07_09.edf\n"
     ]
    },
    {
     "name": "stderr",
     "output_type": "stream",
     "text": [
      "/tmp/ipykernel_3734/3037979607.py:81: RuntimeWarning: EDF format requires equal-length data blocks, so 0.996 seconds of edge values were appended to all channels when writing the final block.\n",
      "  raw_crop.export(save_path, fmt=\"edf\", overwrite=True)\n",
      "/tmp/ipykernel_3734/3037979607.py:81: RuntimeWarning: EDF format requires equal-length data blocks, so 0.996 seconds of edge values were appended to all channels when writing the final block.\n",
      "  raw_crop.export(save_path, fmt=\"edf\", overwrite=True)\n",
      "/tmp/ipykernel_3734/3037979607.py:81: RuntimeWarning: EDF format requires equal-length data blocks, so 0.996 seconds of edge values were appended to all channels when writing the final block.\n",
      "  raw_crop.export(save_path, fmt=\"edf\", overwrite=True)\n",
      "/tmp/ipykernel_3734/3037979607.py:81: RuntimeWarning: EDF format requires equal-length data blocks, so 0.996 seconds of edge values were appended to all channels when writing the final block.\n",
      "  raw_crop.export(save_path, fmt=\"edf\", overwrite=True)\n",
      "/tmp/ipykernel_3734/3037979607.py:81: RuntimeWarning: EDF format requires equal-length data blocks, so 0.996 seconds of edge values were appended to all channels when writing the final block.\n",
      "  raw_crop.export(save_path, fmt=\"edf\", overwrite=True)\n"
     ]
    },
    {
     "name": "stdout",
     "output_type": "stream",
     "text": [
      "Normal segments saved for chb07_10.edf\n"
     ]
    },
    {
     "name": "stderr",
     "output_type": "stream",
     "text": [
      "/tmp/ipykernel_3734/3037979607.py:81: RuntimeWarning: EDF format requires equal-length data blocks, so 0.996 seconds of edge values were appended to all channels when writing the final block.\n",
      "  raw_crop.export(save_path, fmt=\"edf\", overwrite=True)\n",
      "/tmp/ipykernel_3734/3037979607.py:81: RuntimeWarning: EDF format requires equal-length data blocks, so 0.996 seconds of edge values were appended to all channels when writing the final block.\n",
      "  raw_crop.export(save_path, fmt=\"edf\", overwrite=True)\n",
      "/tmp/ipykernel_3734/3037979607.py:81: RuntimeWarning: EDF format requires equal-length data blocks, so 0.996 seconds of edge values were appended to all channels when writing the final block.\n",
      "  raw_crop.export(save_path, fmt=\"edf\", overwrite=True)\n",
      "/tmp/ipykernel_3734/3037979607.py:81: RuntimeWarning: EDF format requires equal-length data blocks, so 0.996 seconds of edge values were appended to all channels when writing the final block.\n",
      "  raw_crop.export(save_path, fmt=\"edf\", overwrite=True)\n",
      "/tmp/ipykernel_3734/3037979607.py:81: RuntimeWarning: EDF format requires equal-length data blocks, so 0.996 seconds of edge values were appended to all channels when writing the final block.\n",
      "  raw_crop.export(save_path, fmt=\"edf\", overwrite=True)\n"
     ]
    },
    {
     "name": "stdout",
     "output_type": "stream",
     "text": [
      "Normal segments saved for chb07_11.edf\n"
     ]
    },
    {
     "name": "stderr",
     "output_type": "stream",
     "text": [
      "/tmp/ipykernel_3734/3037979607.py:52: RuntimeWarning: EDF format requires equal-length data blocks, so 0.996 seconds of edge values were appended to all channels when writing the final block.\n",
      "  segment.export(save_path, fmt='edf')\n",
      "/tmp/ipykernel_3734/3037979607.py:52: RuntimeWarning: EDF format requires equal-length data blocks, so 0.996 seconds of edge values were appended to all channels when writing the final block.\n",
      "  segment.export(save_path, fmt='edf')\n"
     ]
    },
    {
     "name": "stdout",
     "output_type": "stream",
     "text": [
      "  → saved: chb07_12_seizure_1.edf\n",
      "  → saved: chb07_13_seizure_1.edf\n"
     ]
    },
    {
     "name": "stderr",
     "output_type": "stream",
     "text": [
      "/tmp/ipykernel_3734/3037979607.py:81: RuntimeWarning: EDF format requires equal-length data blocks, so 0.996 seconds of edge values were appended to all channels when writing the final block.\n",
      "  raw_crop.export(save_path, fmt=\"edf\", overwrite=True)\n",
      "/tmp/ipykernel_3734/3037979607.py:81: RuntimeWarning: EDF format requires equal-length data blocks, so 0.996 seconds of edge values were appended to all channels when writing the final block.\n",
      "  raw_crop.export(save_path, fmt=\"edf\", overwrite=True)\n",
      "/tmp/ipykernel_3734/3037979607.py:81: RuntimeWarning: EDF format requires equal-length data blocks, so 0.996 seconds of edge values were appended to all channels when writing the final block.\n",
      "  raw_crop.export(save_path, fmt=\"edf\", overwrite=True)\n",
      "/tmp/ipykernel_3734/3037979607.py:81: RuntimeWarning: EDF format requires equal-length data blocks, so 0.996 seconds of edge values were appended to all channels when writing the final block.\n",
      "  raw_crop.export(save_path, fmt=\"edf\", overwrite=True)\n",
      "/tmp/ipykernel_3734/3037979607.py:81: RuntimeWarning: EDF format requires equal-length data blocks, so 0.996 seconds of edge values were appended to all channels when writing the final block.\n",
      "  raw_crop.export(save_path, fmt=\"edf\", overwrite=True)\n"
     ]
    },
    {
     "name": "stdout",
     "output_type": "stream",
     "text": [
      "Normal segments saved for chb07_14.edf\n"
     ]
    },
    {
     "name": "stderr",
     "output_type": "stream",
     "text": [
      "/tmp/ipykernel_3734/3037979607.py:81: RuntimeWarning: EDF format requires equal-length data blocks, so 0.996 seconds of edge values were appended to all channels when writing the final block.\n",
      "  raw_crop.export(save_path, fmt=\"edf\", overwrite=True)\n",
      "/tmp/ipykernel_3734/3037979607.py:81: RuntimeWarning: EDF format requires equal-length data blocks, so 0.996 seconds of edge values were appended to all channels when writing the final block.\n",
      "  raw_crop.export(save_path, fmt=\"edf\", overwrite=True)\n",
      "/tmp/ipykernel_3734/3037979607.py:81: RuntimeWarning: EDF format requires equal-length data blocks, so 0.996 seconds of edge values were appended to all channels when writing the final block.\n",
      "  raw_crop.export(save_path, fmt=\"edf\", overwrite=True)\n",
      "/tmp/ipykernel_3734/3037979607.py:81: RuntimeWarning: EDF format requires equal-length data blocks, so 0.996 seconds of edge values were appended to all channels when writing the final block.\n",
      "  raw_crop.export(save_path, fmt=\"edf\", overwrite=True)\n",
      "/tmp/ipykernel_3734/3037979607.py:81: RuntimeWarning: EDF format requires equal-length data blocks, so 0.996 seconds of edge values were appended to all channels when writing the final block.\n",
      "  raw_crop.export(save_path, fmt=\"edf\", overwrite=True)\n"
     ]
    },
    {
     "name": "stdout",
     "output_type": "stream",
     "text": [
      "Normal segments saved for chb07_15.edf\n"
     ]
    },
    {
     "name": "stderr",
     "output_type": "stream",
     "text": [
      "/tmp/ipykernel_3734/3037979607.py:81: RuntimeWarning: EDF format requires equal-length data blocks, so 0.996 seconds of edge values were appended to all channels when writing the final block.\n",
      "  raw_crop.export(save_path, fmt=\"edf\", overwrite=True)\n",
      "/tmp/ipykernel_3734/3037979607.py:81: RuntimeWarning: EDF format requires equal-length data blocks, so 0.996 seconds of edge values were appended to all channels when writing the final block.\n",
      "  raw_crop.export(save_path, fmt=\"edf\", overwrite=True)\n",
      "/tmp/ipykernel_3734/3037979607.py:81: RuntimeWarning: EDF format requires equal-length data blocks, so 0.996 seconds of edge values were appended to all channels when writing the final block.\n",
      "  raw_crop.export(save_path, fmt=\"edf\", overwrite=True)\n",
      "/tmp/ipykernel_3734/3037979607.py:81: RuntimeWarning: EDF format requires equal-length data blocks, so 0.996 seconds of edge values were appended to all channels when writing the final block.\n",
      "  raw_crop.export(save_path, fmt=\"edf\", overwrite=True)\n",
      "/tmp/ipykernel_3734/3037979607.py:81: RuntimeWarning: EDF format requires equal-length data blocks, so 0.996 seconds of edge values were appended to all channels when writing the final block.\n",
      "  raw_crop.export(save_path, fmt=\"edf\", overwrite=True)\n"
     ]
    },
    {
     "name": "stdout",
     "output_type": "stream",
     "text": [
      "Normal segments saved for chb07_16.edf\n"
     ]
    },
    {
     "name": "stderr",
     "output_type": "stream",
     "text": [
      "/tmp/ipykernel_3734/3037979607.py:81: RuntimeWarning: EDF format requires equal-length data blocks, so 0.996 seconds of edge values were appended to all channels when writing the final block.\n",
      "  raw_crop.export(save_path, fmt=\"edf\", overwrite=True)\n",
      "/tmp/ipykernel_3734/3037979607.py:81: RuntimeWarning: EDF format requires equal-length data blocks, so 0.996 seconds of edge values were appended to all channels when writing the final block.\n",
      "  raw_crop.export(save_path, fmt=\"edf\", overwrite=True)\n",
      "/tmp/ipykernel_3734/3037979607.py:81: RuntimeWarning: EDF format requires equal-length data blocks, so 0.996 seconds of edge values were appended to all channels when writing the final block.\n",
      "  raw_crop.export(save_path, fmt=\"edf\", overwrite=True)\n",
      "/tmp/ipykernel_3734/3037979607.py:81: RuntimeWarning: EDF format requires equal-length data blocks, so 0.996 seconds of edge values were appended to all channels when writing the final block.\n",
      "  raw_crop.export(save_path, fmt=\"edf\", overwrite=True)\n",
      "/tmp/ipykernel_3734/3037979607.py:81: RuntimeWarning: EDF format requires equal-length data blocks, so 0.996 seconds of edge values were appended to all channels when writing the final block.\n",
      "  raw_crop.export(save_path, fmt=\"edf\", overwrite=True)\n"
     ]
    },
    {
     "name": "stdout",
     "output_type": "stream",
     "text": [
      "Normal segments saved for chb07_17.edf\n"
     ]
    },
    {
     "name": "stderr",
     "output_type": "stream",
     "text": [
      "/tmp/ipykernel_3734/3037979607.py:81: RuntimeWarning: EDF format requires equal-length data blocks, so 0.996 seconds of edge values were appended to all channels when writing the final block.\n",
      "  raw_crop.export(save_path, fmt=\"edf\", overwrite=True)\n",
      "/tmp/ipykernel_3734/3037979607.py:81: RuntimeWarning: EDF format requires equal-length data blocks, so 0.996 seconds of edge values were appended to all channels when writing the final block.\n",
      "  raw_crop.export(save_path, fmt=\"edf\", overwrite=True)\n",
      "/tmp/ipykernel_3734/3037979607.py:81: RuntimeWarning: EDF format requires equal-length data blocks, so 0.996 seconds of edge values were appended to all channels when writing the final block.\n",
      "  raw_crop.export(save_path, fmt=\"edf\", overwrite=True)\n",
      "/tmp/ipykernel_3734/3037979607.py:81: RuntimeWarning: EDF format requires equal-length data blocks, so 0.996 seconds of edge values were appended to all channels when writing the final block.\n",
      "  raw_crop.export(save_path, fmt=\"edf\", overwrite=True)\n",
      "/tmp/ipykernel_3734/3037979607.py:81: RuntimeWarning: EDF format requires equal-length data blocks, so 0.996 seconds of edge values were appended to all channels when writing the final block.\n",
      "  raw_crop.export(save_path, fmt=\"edf\", overwrite=True)\n"
     ]
    },
    {
     "name": "stdout",
     "output_type": "stream",
     "text": [
      "Normal segments saved for chb07_18.edf\n"
     ]
    },
    {
     "name": "stderr",
     "output_type": "stream",
     "text": [
      "/tmp/ipykernel_3734/3037979607.py:52: RuntimeWarning: EDF format requires equal-length data blocks, so 0.996 seconds of edge values were appended to all channels when writing the final block.\n",
      "  segment.export(save_path, fmt='edf')\n",
      "/tmp/ipykernel_3734/3037979607.py:81: RuntimeWarning: EDF format requires equal-length data blocks, so 0.996 seconds of edge values were appended to all channels when writing the final block.\n",
      "  raw_crop.export(save_path, fmt=\"edf\", overwrite=True)\n",
      "/tmp/ipykernel_3734/3037979607.py:81: RuntimeWarning: EDF format requires equal-length data blocks, so 0.996 seconds of edge values were appended to all channels when writing the final block.\n",
      "  raw_crop.export(save_path, fmt=\"edf\", overwrite=True)\n",
      "/tmp/ipykernel_3734/3037979607.py:81: RuntimeWarning: EDF format requires equal-length data blocks, so 0.996 seconds of edge values were appended to all channels when writing the final block.\n",
      "  raw_crop.export(save_path, fmt=\"edf\", overwrite=True)\n",
      "/tmp/ipykernel_3734/3037979607.py:81: RuntimeWarning: EDF format requires equal-length data blocks, so 0.996 seconds of edge values were appended to all channels when writing the final block.\n",
      "  raw_crop.export(save_path, fmt=\"edf\", overwrite=True)\n",
      "/tmp/ipykernel_3734/3037979607.py:81: RuntimeWarning: EDF format requires equal-length data blocks, so 0.996 seconds of edge values were appended to all channels when writing the final block.\n",
      "  raw_crop.export(save_path, fmt=\"edf\", overwrite=True)\n"
     ]
    },
    {
     "name": "stdout",
     "output_type": "stream",
     "text": [
      "  → saved: chb07_19_seizure_1.edf\n",
      "Normal segments saved for chb02_01.edf\n"
     ]
    },
    {
     "name": "stderr",
     "output_type": "stream",
     "text": [
      "/tmp/ipykernel_3734/3037979607.py:81: RuntimeWarning: EDF format requires equal-length data blocks, so 0.996 seconds of edge values were appended to all channels when writing the final block.\n",
      "  raw_crop.export(save_path, fmt=\"edf\", overwrite=True)\n",
      "/tmp/ipykernel_3734/3037979607.py:81: RuntimeWarning: EDF format requires equal-length data blocks, so 0.996 seconds of edge values were appended to all channels when writing the final block.\n",
      "  raw_crop.export(save_path, fmt=\"edf\", overwrite=True)\n",
      "/tmp/ipykernel_3734/3037979607.py:81: RuntimeWarning: EDF format requires equal-length data blocks, so 0.996 seconds of edge values were appended to all channels when writing the final block.\n",
      "  raw_crop.export(save_path, fmt=\"edf\", overwrite=True)\n",
      "/tmp/ipykernel_3734/3037979607.py:81: RuntimeWarning: EDF format requires equal-length data blocks, so 0.996 seconds of edge values were appended to all channels when writing the final block.\n",
      "  raw_crop.export(save_path, fmt=\"edf\", overwrite=True)\n",
      "/tmp/ipykernel_3734/3037979607.py:81: RuntimeWarning: EDF format requires equal-length data blocks, so 0.996 seconds of edge values were appended to all channels when writing the final block.\n",
      "  raw_crop.export(save_path, fmt=\"edf\", overwrite=True)\n",
      "/tmp/ipykernel_3734/3037979607.py:81: RuntimeWarning: EDF format requires equal-length data blocks, so 0.996 seconds of edge values were appended to all channels when writing the final block.\n",
      "  raw_crop.export(save_path, fmt=\"edf\", overwrite=True)\n",
      "/tmp/ipykernel_3734/3037979607.py:81: RuntimeWarning: EDF format requires equal-length data blocks, so 0.996 seconds of edge values were appended to all channels when writing the final block.\n",
      "  raw_crop.export(save_path, fmt=\"edf\", overwrite=True)\n",
      "/tmp/ipykernel_3734/3037979607.py:81: RuntimeWarning: EDF format requires equal-length data blocks, so 0.996 seconds of edge values were appended to all channels when writing the final block.\n",
      "  raw_crop.export(save_path, fmt=\"edf\", overwrite=True)\n"
     ]
    },
    {
     "name": "stdout",
     "output_type": "stream",
     "text": [
      "Normal segments saved for chb02_02.edf\n",
      "Normal segments saved for chb02_03.edf\n"
     ]
    },
    {
     "name": "stderr",
     "output_type": "stream",
     "text": [
      "/tmp/ipykernel_3734/3037979607.py:81: RuntimeWarning: EDF format requires equal-length data blocks, so 0.996 seconds of edge values were appended to all channels when writing the final block.\n",
      "  raw_crop.export(save_path, fmt=\"edf\", overwrite=True)\n",
      "/tmp/ipykernel_3734/3037979607.py:81: RuntimeWarning: EDF format requires equal-length data blocks, so 0.996 seconds of edge values were appended to all channels when writing the final block.\n",
      "  raw_crop.export(save_path, fmt=\"edf\", overwrite=True)\n",
      "/tmp/ipykernel_3734/3037979607.py:81: RuntimeWarning: EDF format requires equal-length data blocks, so 0.996 seconds of edge values were appended to all channels when writing the final block.\n",
      "  raw_crop.export(save_path, fmt=\"edf\", overwrite=True)\n",
      "/tmp/ipykernel_3734/3037979607.py:81: RuntimeWarning: EDF format requires equal-length data blocks, so 0.996 seconds of edge values were appended to all channels when writing the final block.\n",
      "  raw_crop.export(save_path, fmt=\"edf\", overwrite=True)\n",
      "/tmp/ipykernel_3734/3037979607.py:81: RuntimeWarning: EDF format requires equal-length data blocks, so 0.996 seconds of edge values were appended to all channels when writing the final block.\n",
      "  raw_crop.export(save_path, fmt=\"edf\", overwrite=True)\n",
      "/tmp/ipykernel_3734/3037979607.py:81: RuntimeWarning: EDF format requires equal-length data blocks, so 0.996 seconds of edge values were appended to all channels when writing the final block.\n",
      "  raw_crop.export(save_path, fmt=\"edf\", overwrite=True)\n",
      "/tmp/ipykernel_3734/3037979607.py:81: RuntimeWarning: EDF format requires equal-length data blocks, so 0.996 seconds of edge values were appended to all channels when writing the final block.\n",
      "  raw_crop.export(save_path, fmt=\"edf\", overwrite=True)\n"
     ]
    },
    {
     "name": "stdout",
     "output_type": "stream",
     "text": [
      "Normal segments saved for chb02_04.edf\n",
      "Normal segments saved for chb02_05.edf\n"
     ]
    },
    {
     "name": "stderr",
     "output_type": "stream",
     "text": [
      "/tmp/ipykernel_3734/3037979607.py:81: RuntimeWarning: EDF format requires equal-length data blocks, so 0.996 seconds of edge values were appended to all channels when writing the final block.\n",
      "  raw_crop.export(save_path, fmt=\"edf\", overwrite=True)\n",
      "/tmp/ipykernel_3734/3037979607.py:81: RuntimeWarning: EDF format requires equal-length data blocks, so 0.996 seconds of edge values were appended to all channels when writing the final block.\n",
      "  raw_crop.export(save_path, fmt=\"edf\", overwrite=True)\n",
      "/tmp/ipykernel_3734/3037979607.py:81: RuntimeWarning: EDF format requires equal-length data blocks, so 0.996 seconds of edge values were appended to all channels when writing the final block.\n",
      "  raw_crop.export(save_path, fmt=\"edf\", overwrite=True)\n",
      "/tmp/ipykernel_3734/3037979607.py:81: RuntimeWarning: EDF format requires equal-length data blocks, so 0.996 seconds of edge values were appended to all channels when writing the final block.\n",
      "  raw_crop.export(save_path, fmt=\"edf\", overwrite=True)\n",
      "/tmp/ipykernel_3734/3037979607.py:81: RuntimeWarning: EDF format requires equal-length data blocks, so 0.996 seconds of edge values were appended to all channels when writing the final block.\n",
      "  raw_crop.export(save_path, fmt=\"edf\", overwrite=True)\n",
      "/tmp/ipykernel_3734/3037979607.py:81: RuntimeWarning: EDF format requires equal-length data blocks, so 0.996 seconds of edge values were appended to all channels when writing the final block.\n",
      "  raw_crop.export(save_path, fmt=\"edf\", overwrite=True)\n",
      "/tmp/ipykernel_3734/3037979607.py:81: RuntimeWarning: EDF format requires equal-length data blocks, so 0.996 seconds of edge values were appended to all channels when writing the final block.\n",
      "  raw_crop.export(save_path, fmt=\"edf\", overwrite=True)\n",
      "/tmp/ipykernel_3734/3037979607.py:81: RuntimeWarning: EDF format requires equal-length data blocks, so 0.996 seconds of edge values were appended to all channels when writing the final block.\n",
      "  raw_crop.export(save_path, fmt=\"edf\", overwrite=True)\n",
      "/tmp/ipykernel_3734/3037979607.py:81: RuntimeWarning: EDF format requires equal-length data blocks, so 0.996 seconds of edge values were appended to all channels when writing the final block.\n",
      "  raw_crop.export(save_path, fmt=\"edf\", overwrite=True)\n",
      "/tmp/ipykernel_3734/3037979607.py:81: RuntimeWarning: EDF format requires equal-length data blocks, so 0.996 seconds of edge values were appended to all channels when writing the final block.\n",
      "  raw_crop.export(save_path, fmt=\"edf\", overwrite=True)\n",
      "/tmp/ipykernel_3734/3037979607.py:81: RuntimeWarning: EDF format requires equal-length data blocks, so 0.996 seconds of edge values were appended to all channels when writing the final block.\n",
      "  raw_crop.export(save_path, fmt=\"edf\", overwrite=True)\n",
      "/tmp/ipykernel_3734/3037979607.py:81: RuntimeWarning: EDF format requires equal-length data blocks, so 0.996 seconds of edge values were appended to all channels when writing the final block.\n",
      "  raw_crop.export(save_path, fmt=\"edf\", overwrite=True)\n",
      "/tmp/ipykernel_3734/3037979607.py:81: RuntimeWarning: EDF format requires equal-length data blocks, so 0.996 seconds of edge values were appended to all channels when writing the final block.\n",
      "  raw_crop.export(save_path, fmt=\"edf\", overwrite=True)\n",
      "/tmp/ipykernel_3734/3037979607.py:81: RuntimeWarning: EDF format requires equal-length data blocks, so 0.996 seconds of edge values were appended to all channels when writing the final block.\n",
      "  raw_crop.export(save_path, fmt=\"edf\", overwrite=True)\n",
      "/tmp/ipykernel_3734/3037979607.py:81: RuntimeWarning: EDF format requires equal-length data blocks, so 0.996 seconds of edge values were appended to all channels when writing the final block.\n",
      "  raw_crop.export(save_path, fmt=\"edf\", overwrite=True)\n"
     ]
    },
    {
     "name": "stdout",
     "output_type": "stream",
     "text": [
      "Normal segments saved for chb02_06.edf\n",
      "Normal segments saved for chb02_07.edf\n"
     ]
    },
    {
     "name": "stderr",
     "output_type": "stream",
     "text": [
      "/tmp/ipykernel_3734/3037979607.py:81: RuntimeWarning: EDF format requires equal-length data blocks, so 0.996 seconds of edge values were appended to all channels when writing the final block.\n",
      "  raw_crop.export(save_path, fmt=\"edf\", overwrite=True)\n",
      "/tmp/ipykernel_3734/3037979607.py:81: RuntimeWarning: EDF format requires equal-length data blocks, so 0.996 seconds of edge values were appended to all channels when writing the final block.\n",
      "  raw_crop.export(save_path, fmt=\"edf\", overwrite=True)\n",
      "/tmp/ipykernel_3734/3037979607.py:81: RuntimeWarning: EDF format requires equal-length data blocks, so 0.996 seconds of edge values were appended to all channels when writing the final block.\n",
      "  raw_crop.export(save_path, fmt=\"edf\", overwrite=True)\n",
      "/tmp/ipykernel_3734/3037979607.py:81: RuntimeWarning: EDF format requires equal-length data blocks, so 0.996 seconds of edge values were appended to all channels when writing the final block.\n",
      "  raw_crop.export(save_path, fmt=\"edf\", overwrite=True)\n",
      "/tmp/ipykernel_3734/3037979607.py:81: RuntimeWarning: EDF format requires equal-length data blocks, so 0.996 seconds of edge values were appended to all channels when writing the final block.\n",
      "  raw_crop.export(save_path, fmt=\"edf\", overwrite=True)\n",
      "/tmp/ipykernel_3734/3037979607.py:81: RuntimeWarning: EDF format requires equal-length data blocks, so 0.996 seconds of edge values were appended to all channels when writing the final block.\n",
      "  raw_crop.export(save_path, fmt=\"edf\", overwrite=True)\n",
      "/tmp/ipykernel_3734/3037979607.py:81: RuntimeWarning: EDF format requires equal-length data blocks, so 0.996 seconds of edge values were appended to all channels when writing the final block.\n",
      "  raw_crop.export(save_path, fmt=\"edf\", overwrite=True)\n",
      "/tmp/ipykernel_3734/3037979607.py:81: RuntimeWarning: EDF format requires equal-length data blocks, so 0.996 seconds of edge values were appended to all channels when writing the final block.\n",
      "  raw_crop.export(save_path, fmt=\"edf\", overwrite=True)\n"
     ]
    },
    {
     "name": "stdout",
     "output_type": "stream",
     "text": [
      "Normal segments saved for chb02_08.edf\n",
      "Normal segments saved for chb02_09.edf\n"
     ]
    },
    {
     "name": "stderr",
     "output_type": "stream",
     "text": [
      "/tmp/ipykernel_3734/3037979607.py:81: RuntimeWarning: EDF format requires equal-length data blocks, so 0.996 seconds of edge values were appended to all channels when writing the final block.\n",
      "  raw_crop.export(save_path, fmt=\"edf\", overwrite=True)\n",
      "/tmp/ipykernel_3734/3037979607.py:81: RuntimeWarning: EDF format requires equal-length data blocks, so 0.996 seconds of edge values were appended to all channels when writing the final block.\n",
      "  raw_crop.export(save_path, fmt=\"edf\", overwrite=True)\n",
      "/tmp/ipykernel_3734/3037979607.py:81: RuntimeWarning: EDF format requires equal-length data blocks, so 0.996 seconds of edge values were appended to all channels when writing the final block.\n",
      "  raw_crop.export(save_path, fmt=\"edf\", overwrite=True)\n",
      "/tmp/ipykernel_3734/3037979607.py:81: RuntimeWarning: EDF format requires equal-length data blocks, so 0.996 seconds of edge values were appended to all channels when writing the final block.\n",
      "  raw_crop.export(save_path, fmt=\"edf\", overwrite=True)\n",
      "/tmp/ipykernel_3734/3037979607.py:81: RuntimeWarning: EDF format requires equal-length data blocks, so 0.996 seconds of edge values were appended to all channels when writing the final block.\n",
      "  raw_crop.export(save_path, fmt=\"edf\", overwrite=True)\n",
      "/tmp/ipykernel_3734/3037979607.py:81: RuntimeWarning: EDF format requires equal-length data blocks, so 0.996 seconds of edge values were appended to all channels when writing the final block.\n",
      "  raw_crop.export(save_path, fmt=\"edf\", overwrite=True)\n",
      "/tmp/ipykernel_3734/3037979607.py:81: RuntimeWarning: EDF format requires equal-length data blocks, so 0.996 seconds of edge values were appended to all channels when writing the final block.\n",
      "  raw_crop.export(save_path, fmt=\"edf\", overwrite=True)\n"
     ]
    },
    {
     "name": "stdout",
     "output_type": "stream",
     "text": [
      "Normal segments saved for chb02_10.edf\n",
      "Normal segments saved for chb02_11.edf\n"
     ]
    },
    {
     "name": "stderr",
     "output_type": "stream",
     "text": [
      "/tmp/ipykernel_3734/3037979607.py:81: RuntimeWarning: EDF format requires equal-length data blocks, so 0.996 seconds of edge values were appended to all channels when writing the final block.\n",
      "  raw_crop.export(save_path, fmt=\"edf\", overwrite=True)\n",
      "/tmp/ipykernel_3734/3037979607.py:81: RuntimeWarning: EDF format requires equal-length data blocks, so 0.996 seconds of edge values were appended to all channels when writing the final block.\n",
      "  raw_crop.export(save_path, fmt=\"edf\", overwrite=True)\n",
      "/tmp/ipykernel_3734/3037979607.py:81: RuntimeWarning: EDF format requires equal-length data blocks, so 0.996 seconds of edge values were appended to all channels when writing the final block.\n",
      "  raw_crop.export(save_path, fmt=\"edf\", overwrite=True)\n",
      "/tmp/ipykernel_3734/3037979607.py:81: RuntimeWarning: EDF format requires equal-length data blocks, so 0.996 seconds of edge values were appended to all channels when writing the final block.\n",
      "  raw_crop.export(save_path, fmt=\"edf\", overwrite=True)\n",
      "/tmp/ipykernel_3734/3037979607.py:81: RuntimeWarning: EDF format requires equal-length data blocks, so 0.996 seconds of edge values were appended to all channels when writing the final block.\n",
      "  raw_crop.export(save_path, fmt=\"edf\", overwrite=True)\n",
      "/tmp/ipykernel_3734/3037979607.py:81: RuntimeWarning: EDF format requires equal-length data blocks, so 0.996 seconds of edge values were appended to all channels when writing the final block.\n",
      "  raw_crop.export(save_path, fmt=\"edf\", overwrite=True)\n",
      "/tmp/ipykernel_3734/3037979607.py:81: RuntimeWarning: EDF format requires equal-length data blocks, so 0.996 seconds of edge values were appended to all channels when writing the final block.\n",
      "  raw_crop.export(save_path, fmt=\"edf\", overwrite=True)\n",
      "/tmp/ipykernel_3734/3037979607.py:81: RuntimeWarning: EDF format requires equal-length data blocks, so 0.996 seconds of edge values were appended to all channels when writing the final block.\n",
      "  raw_crop.export(save_path, fmt=\"edf\", overwrite=True)\n",
      "/tmp/ipykernel_3734/3037979607.py:81: RuntimeWarning: EDF format requires equal-length data blocks, so 0.996 seconds of edge values were appended to all channels when writing the final block.\n",
      "  raw_crop.export(save_path, fmt=\"edf\", overwrite=True)\n",
      "/tmp/ipykernel_3734/3037979607.py:81: RuntimeWarning: EDF format requires equal-length data blocks, so 0.996 seconds of edge values were appended to all channels when writing the final block.\n",
      "  raw_crop.export(save_path, fmt=\"edf\", overwrite=True)\n",
      "/tmp/ipykernel_3734/3037979607.py:81: RuntimeWarning: EDF format requires equal-length data blocks, so 0.996 seconds of edge values were appended to all channels when writing the final block.\n",
      "  raw_crop.export(save_path, fmt=\"edf\", overwrite=True)\n",
      "/tmp/ipykernel_3734/3037979607.py:81: RuntimeWarning: EDF format requires equal-length data blocks, so 0.996 seconds of edge values were appended to all channels when writing the final block.\n",
      "  raw_crop.export(save_path, fmt=\"edf\", overwrite=True)\n",
      "/tmp/ipykernel_3734/3037979607.py:81: RuntimeWarning: EDF format requires equal-length data blocks, so 0.996 seconds of edge values were appended to all channels when writing the final block.\n",
      "  raw_crop.export(save_path, fmt=\"edf\", overwrite=True)\n",
      "/tmp/ipykernel_3734/3037979607.py:81: RuntimeWarning: EDF format requires equal-length data blocks, so 0.996 seconds of edge values were appended to all channels when writing the final block.\n",
      "  raw_crop.export(save_path, fmt=\"edf\", overwrite=True)\n",
      "/tmp/ipykernel_3734/3037979607.py:81: RuntimeWarning: EDF format requires equal-length data blocks, so 0.996 seconds of edge values were appended to all channels when writing the final block.\n",
      "  raw_crop.export(save_path, fmt=\"edf\", overwrite=True)\n"
     ]
    },
    {
     "name": "stdout",
     "output_type": "stream",
     "text": [
      "Normal segments saved for chb02_12.edf\n",
      "Normal segments saved for chb02_13.edf\n"
     ]
    },
    {
     "name": "stderr",
     "output_type": "stream",
     "text": [
      "/tmp/ipykernel_3734/3037979607.py:81: RuntimeWarning: EDF format requires equal-length data blocks, so 0.996 seconds of edge values were appended to all channels when writing the final block.\n",
      "  raw_crop.export(save_path, fmt=\"edf\", overwrite=True)\n",
      "/tmp/ipykernel_3734/3037979607.py:81: RuntimeWarning: EDF format requires equal-length data blocks, so 0.996 seconds of edge values were appended to all channels when writing the final block.\n",
      "  raw_crop.export(save_path, fmt=\"edf\", overwrite=True)\n",
      "/tmp/ipykernel_3734/3037979607.py:81: RuntimeWarning: EDF format requires equal-length data blocks, so 0.996 seconds of edge values were appended to all channels when writing the final block.\n",
      "  raw_crop.export(save_path, fmt=\"edf\", overwrite=True)\n",
      "/tmp/ipykernel_3734/3037979607.py:81: RuntimeWarning: EDF format requires equal-length data blocks, so 0.996 seconds of edge values were appended to all channels when writing the final block.\n",
      "  raw_crop.export(save_path, fmt=\"edf\", overwrite=True)\n",
      "/tmp/ipykernel_3734/3037979607.py:81: RuntimeWarning: EDF format requires equal-length data blocks, so 0.996 seconds of edge values were appended to all channels when writing the final block.\n",
      "  raw_crop.export(save_path, fmt=\"edf\", overwrite=True)\n",
      "/tmp/ipykernel_3734/3037979607.py:81: RuntimeWarning: EDF format requires equal-length data blocks, so 0.996 seconds of edge values were appended to all channels when writing the final block.\n",
      "  raw_crop.export(save_path, fmt=\"edf\", overwrite=True)\n",
      "/tmp/ipykernel_3734/3037979607.py:81: RuntimeWarning: EDF format requires equal-length data blocks, so 0.996 seconds of edge values were appended to all channels when writing the final block.\n",
      "  raw_crop.export(save_path, fmt=\"edf\", overwrite=True)\n",
      "/tmp/ipykernel_3734/3037979607.py:81: RuntimeWarning: EDF format requires equal-length data blocks, so 0.996 seconds of edge values were appended to all channels when writing the final block.\n",
      "  raw_crop.export(save_path, fmt=\"edf\", overwrite=True)\n"
     ]
    },
    {
     "name": "stdout",
     "output_type": "stream",
     "text": [
      "Normal segments saved for chb02_14.edf\n",
      "Normal segments saved for chb02_15.edf\n",
      "  → saved: chb02_16_seizure_1.edf\n"
     ]
    },
    {
     "name": "stderr",
     "output_type": "stream",
     "text": [
      "/tmp/ipykernel_3734/3037979607.py:81: RuntimeWarning: EDF format requires equal-length data blocks, so 0.996 seconds of edge values were appended to all channels when writing the final block.\n",
      "  raw_crop.export(save_path, fmt=\"edf\", overwrite=True)\n",
      "/tmp/ipykernel_3734/3037979607.py:81: RuntimeWarning: EDF format requires equal-length data blocks, so 0.996 seconds of edge values were appended to all channels when writing the final block.\n",
      "  raw_crop.export(save_path, fmt=\"edf\", overwrite=True)\n",
      "/tmp/ipykernel_3734/3037979607.py:52: RuntimeWarning: EDF format requires equal-length data blocks, so 0.996 seconds of edge values were appended to all channels when writing the final block.\n",
      "  segment.export(save_path, fmt='edf')\n",
      "/tmp/ipykernel_3734/3037979607.py:52: RuntimeWarning: EDF format requires equal-length data blocks, so 0.996 seconds of edge values were appended to all channels when writing the final block.\n",
      "  segment.export(save_path, fmt='edf')\n"
     ]
    },
    {
     "name": "stdout",
     "output_type": "stream",
     "text": [
      "  → saved: chb02_16+_seizure_1.edf\n",
      "Normal segments saved for chb02_17.edf\n"
     ]
    },
    {
     "name": "stderr",
     "output_type": "stream",
     "text": [
      "/tmp/ipykernel_3734/3037979607.py:81: RuntimeWarning: EDF format requires equal-length data blocks, so 0.996 seconds of edge values were appended to all channels when writing the final block.\n",
      "  raw_crop.export(save_path, fmt=\"edf\", overwrite=True)\n",
      "/tmp/ipykernel_3734/3037979607.py:81: RuntimeWarning: EDF format requires equal-length data blocks, so 0.996 seconds of edge values were appended to all channels when writing the final block.\n",
      "  raw_crop.export(save_path, fmt=\"edf\", overwrite=True)\n",
      "/tmp/ipykernel_3734/3037979607.py:81: RuntimeWarning: EDF format requires equal-length data blocks, so 0.996 seconds of edge values were appended to all channels when writing the final block.\n",
      "  raw_crop.export(save_path, fmt=\"edf\", overwrite=True)\n",
      "/tmp/ipykernel_3734/3037979607.py:81: RuntimeWarning: EDF format requires equal-length data blocks, so 0.996 seconds of edge values were appended to all channels when writing the final block.\n",
      "  raw_crop.export(save_path, fmt=\"edf\", overwrite=True)\n",
      "/tmp/ipykernel_3734/3037979607.py:81: RuntimeWarning: EDF format requires equal-length data blocks, so 0.996 seconds of edge values were appended to all channels when writing the final block.\n",
      "  raw_crop.export(save_path, fmt=\"edf\", overwrite=True)\n",
      "/tmp/ipykernel_3734/3037979607.py:81: RuntimeWarning: EDF format requires equal-length data blocks, so 0.996 seconds of edge values were appended to all channels when writing the final block.\n",
      "  raw_crop.export(save_path, fmt=\"edf\", overwrite=True)\n",
      "/tmp/ipykernel_3734/3037979607.py:81: RuntimeWarning: EDF format requires equal-length data blocks, so 0.996 seconds of edge values were appended to all channels when writing the final block.\n",
      "  raw_crop.export(save_path, fmt=\"edf\", overwrite=True)\n",
      "/tmp/ipykernel_3734/3037979607.py:81: RuntimeWarning: EDF format requires equal-length data blocks, so 0.996 seconds of edge values were appended to all channels when writing the final block.\n",
      "  raw_crop.export(save_path, fmt=\"edf\", overwrite=True)\n",
      "/tmp/ipykernel_3734/3037979607.py:81: RuntimeWarning: EDF format requires equal-length data blocks, so 0.996 seconds of edge values were appended to all channels when writing the final block.\n",
      "  raw_crop.export(save_path, fmt=\"edf\", overwrite=True)\n",
      "/tmp/ipykernel_3734/3037979607.py:81: RuntimeWarning: EDF format requires equal-length data blocks, so 0.996 seconds of edge values were appended to all channels when writing the final block.\n",
      "  raw_crop.export(save_path, fmt=\"edf\", overwrite=True)\n",
      "/tmp/ipykernel_3734/3037979607.py:52: RuntimeWarning: EDF format requires equal-length data blocks, so 0.996 seconds of edge values were appended to all channels when writing the final block.\n",
      "  segment.export(save_path, fmt='edf')\n",
      "/tmp/ipykernel_3734/3037979607.py:81: RuntimeWarning: EDF format requires equal-length data blocks, so 0.996 seconds of edge values were appended to all channels when writing the final block.\n",
      "  raw_crop.export(save_path, fmt=\"edf\", overwrite=True)\n"
     ]
    },
    {
     "name": "stdout",
     "output_type": "stream",
     "text": [
      "Normal segments saved for chb02_18.edf\n",
      "  → saved: chb02_19_seizure_1.edf\n"
     ]
    },
    {
     "name": "stderr",
     "output_type": "stream",
     "text": [
      "/tmp/ipykernel_3734/3037979607.py:81: RuntimeWarning: EDF format requires equal-length data blocks, so 0.996 seconds of edge values were appended to all channels when writing the final block.\n",
      "  raw_crop.export(save_path, fmt=\"edf\", overwrite=True)\n",
      "/tmp/ipykernel_3734/3037979607.py:81: RuntimeWarning: EDF format requires equal-length data blocks, so 0.996 seconds of edge values were appended to all channels when writing the final block.\n",
      "  raw_crop.export(save_path, fmt=\"edf\", overwrite=True)\n",
      "/tmp/ipykernel_3734/3037979607.py:81: RuntimeWarning: EDF format requires equal-length data blocks, so 0.996 seconds of edge values were appended to all channels when writing the final block.\n",
      "  raw_crop.export(save_path, fmt=\"edf\", overwrite=True)\n",
      "/tmp/ipykernel_3734/3037979607.py:81: RuntimeWarning: EDF format requires equal-length data blocks, so 0.996 seconds of edge values were appended to all channels when writing the final block.\n",
      "  raw_crop.export(save_path, fmt=\"edf\", overwrite=True)\n",
      "/tmp/ipykernel_3734/3037979607.py:81: RuntimeWarning: EDF format requires equal-length data blocks, so 0.996 seconds of edge values were appended to all channels when writing the final block.\n",
      "  raw_crop.export(save_path, fmt=\"edf\", overwrite=True)\n",
      "/tmp/ipykernel_3734/3037979607.py:81: RuntimeWarning: EDF format requires equal-length data blocks, so 0.996 seconds of edge values were appended to all channels when writing the final block.\n",
      "  raw_crop.export(save_path, fmt=\"edf\", overwrite=True)\n",
      "/tmp/ipykernel_3734/3037979607.py:81: RuntimeWarning: EDF format requires equal-length data blocks, so 0.996 seconds of edge values were appended to all channels when writing the final block.\n",
      "  raw_crop.export(save_path, fmt=\"edf\", overwrite=True)\n",
      "/tmp/ipykernel_3734/3037979607.py:81: RuntimeWarning: EDF format requires equal-length data blocks, so 0.996 seconds of edge values were appended to all channels when writing the final block.\n",
      "  raw_crop.export(save_path, fmt=\"edf\", overwrite=True)\n"
     ]
    },
    {
     "name": "stdout",
     "output_type": "stream",
     "text": [
      "Normal segments saved for chb02_20.edf\n",
      "Normal segments saved for chb02_21.edf\n"
     ]
    },
    {
     "name": "stderr",
     "output_type": "stream",
     "text": [
      "/tmp/ipykernel_3734/3037979607.py:81: RuntimeWarning: EDF format requires equal-length data blocks, so 0.996 seconds of edge values were appended to all channels when writing the final block.\n",
      "  raw_crop.export(save_path, fmt=\"edf\", overwrite=True)\n",
      "/tmp/ipykernel_3734/3037979607.py:81: RuntimeWarning: EDF format requires equal-length data blocks, so 0.996 seconds of edge values were appended to all channels when writing the final block.\n",
      "  raw_crop.export(save_path, fmt=\"edf\", overwrite=True)\n",
      "/tmp/ipykernel_3734/3037979607.py:81: RuntimeWarning: EDF format requires equal-length data blocks, so 0.996 seconds of edge values were appended to all channels when writing the final block.\n",
      "  raw_crop.export(save_path, fmt=\"edf\", overwrite=True)\n",
      "/tmp/ipykernel_3734/3037979607.py:81: RuntimeWarning: EDF format requires equal-length data blocks, so 0.996 seconds of edge values were appended to all channels when writing the final block.\n",
      "  raw_crop.export(save_path, fmt=\"edf\", overwrite=True)\n",
      "/tmp/ipykernel_3734/3037979607.py:81: RuntimeWarning: EDF format requires equal-length data blocks, so 0.996 seconds of edge values were appended to all channels when writing the final block.\n",
      "  raw_crop.export(save_path, fmt=\"edf\", overwrite=True)\n",
      "/tmp/ipykernel_3734/3037979607.py:81: RuntimeWarning: EDF format requires equal-length data blocks, so 0.996 seconds of edge values were appended to all channels when writing the final block.\n",
      "  raw_crop.export(save_path, fmt=\"edf\", overwrite=True)\n"
     ]
    },
    {
     "name": "stdout",
     "output_type": "stream",
     "text": [
      "Normal segments saved for chb02_22.edf\n",
      "Normal segments saved for chb02_23.edf\n"
     ]
    },
    {
     "name": "stderr",
     "output_type": "stream",
     "text": [
      "/tmp/ipykernel_3734/3037979607.py:81: RuntimeWarning: EDF format requires equal-length data blocks, so 0.996 seconds of edge values were appended to all channels when writing the final block.\n",
      "  raw_crop.export(save_path, fmt=\"edf\", overwrite=True)\n",
      "/tmp/ipykernel_3734/3037979607.py:81: RuntimeWarning: EDF format requires equal-length data blocks, so 0.996 seconds of edge values were appended to all channels when writing the final block.\n",
      "  raw_crop.export(save_path, fmt=\"edf\", overwrite=True)\n",
      "/tmp/ipykernel_3734/3037979607.py:81: RuntimeWarning: EDF format requires equal-length data blocks, so 0.996 seconds of edge values were appended to all channels when writing the final block.\n",
      "  raw_crop.export(save_path, fmt=\"edf\", overwrite=True)\n",
      "/tmp/ipykernel_3734/3037979607.py:81: RuntimeWarning: EDF format requires equal-length data blocks, so 0.996 seconds of edge values were appended to all channels when writing the final block.\n",
      "  raw_crop.export(save_path, fmt=\"edf\", overwrite=True)\n",
      "/tmp/ipykernel_3734/3037979607.py:81: RuntimeWarning: EDF format requires equal-length data blocks, so 0.996 seconds of edge values were appended to all channels when writing the final block.\n",
      "  raw_crop.export(save_path, fmt=\"edf\", overwrite=True)\n",
      "/tmp/ipykernel_3734/3037979607.py:81: RuntimeWarning: EDF format requires equal-length data blocks, so 0.996 seconds of edge values were appended to all channels when writing the final block.\n",
      "  raw_crop.export(save_path, fmt=\"edf\", overwrite=True)\n",
      "/tmp/ipykernel_3734/3037979607.py:81: RuntimeWarning: EDF format requires equal-length data blocks, so 0.996 seconds of edge values were appended to all channels when writing the final block.\n",
      "  raw_crop.export(save_path, fmt=\"edf\", overwrite=True)\n",
      "/tmp/ipykernel_3734/3037979607.py:81: RuntimeWarning: EDF format requires equal-length data blocks, so 0.996 seconds of edge values were appended to all channels when writing the final block.\n",
      "  raw_crop.export(save_path, fmt=\"edf\", overwrite=True)\n",
      "/tmp/ipykernel_3734/3037979607.py:81: RuntimeWarning: EDF format requires equal-length data blocks, so 0.996 seconds of edge values were appended to all channels when writing the final block.\n",
      "  raw_crop.export(save_path, fmt=\"edf\", overwrite=True)\n",
      "/tmp/ipykernel_3734/3037979607.py:81: RuntimeWarning: EDF format requires equal-length data blocks, so 0.996 seconds of edge values were appended to all channels when writing the final block.\n",
      "  raw_crop.export(save_path, fmt=\"edf\", overwrite=True)\n",
      "/tmp/ipykernel_3734/3037979607.py:81: RuntimeWarning: EDF format requires equal-length data blocks, so 0.996 seconds of edge values were appended to all channels when writing the final block.\n",
      "  raw_crop.export(save_path, fmt=\"edf\", overwrite=True)\n",
      "/tmp/ipykernel_3734/3037979607.py:81: RuntimeWarning: EDF format requires equal-length data blocks, so 0.996 seconds of edge values were appended to all channels when writing the final block.\n",
      "  raw_crop.export(save_path, fmt=\"edf\", overwrite=True)\n",
      "/tmp/ipykernel_3734/3037979607.py:81: RuntimeWarning: EDF format requires equal-length data blocks, so 0.996 seconds of edge values were appended to all channels when writing the final block.\n",
      "  raw_crop.export(save_path, fmt=\"edf\", overwrite=True)\n",
      "/tmp/ipykernel_3734/3037979607.py:81: RuntimeWarning: EDF format requires equal-length data blocks, so 0.996 seconds of edge values were appended to all channels when writing the final block.\n",
      "  raw_crop.export(save_path, fmt=\"edf\", overwrite=True)\n",
      "/tmp/ipykernel_3734/3037979607.py:81: RuntimeWarning: EDF format requires equal-length data blocks, so 0.996 seconds of edge values were appended to all channels when writing the final block.\n",
      "  raw_crop.export(save_path, fmt=\"edf\", overwrite=True)\n"
     ]
    },
    {
     "name": "stdout",
     "output_type": "stream",
     "text": [
      "Normal segments saved for chb02_24.edf\n",
      "Normal segments saved for chb02_25.edf\n"
     ]
    },
    {
     "name": "stderr",
     "output_type": "stream",
     "text": [
      "/tmp/ipykernel_3734/3037979607.py:81: RuntimeWarning: EDF format requires equal-length data blocks, so 0.996 seconds of edge values were appended to all channels when writing the final block.\n",
      "  raw_crop.export(save_path, fmt=\"edf\", overwrite=True)\n",
      "/tmp/ipykernel_3734/3037979607.py:81: RuntimeWarning: EDF format requires equal-length data blocks, so 0.996 seconds of edge values were appended to all channels when writing the final block.\n",
      "  raw_crop.export(save_path, fmt=\"edf\", overwrite=True)\n",
      "/tmp/ipykernel_3734/3037979607.py:81: RuntimeWarning: EDF format requires equal-length data blocks, so 0.996 seconds of edge values were appended to all channels when writing the final block.\n",
      "  raw_crop.export(save_path, fmt=\"edf\", overwrite=True)\n",
      "/tmp/ipykernel_3734/3037979607.py:81: RuntimeWarning: EDF format requires equal-length data blocks, so 0.996 seconds of edge values were appended to all channels when writing the final block.\n",
      "  raw_crop.export(save_path, fmt=\"edf\", overwrite=True)\n",
      "/tmp/ipykernel_3734/3037979607.py:81: RuntimeWarning: EDF format requires equal-length data blocks, so 0.996 seconds of edge values were appended to all channels when writing the final block.\n",
      "  raw_crop.export(save_path, fmt=\"edf\", overwrite=True)\n",
      "/tmp/ipykernel_3734/3037979607.py:81: RuntimeWarning: EDF format requires equal-length data blocks, so 0.996 seconds of edge values were appended to all channels when writing the final block.\n",
      "  raw_crop.export(save_path, fmt=\"edf\", overwrite=True)\n",
      "/tmp/ipykernel_3734/3037979607.py:81: RuntimeWarning: EDF format requires equal-length data blocks, so 0.996 seconds of edge values were appended to all channels when writing the final block.\n",
      "  raw_crop.export(save_path, fmt=\"edf\", overwrite=True)\n",
      "/tmp/ipykernel_3734/3037979607.py:81: RuntimeWarning: EDF format requires equal-length data blocks, so 0.996 seconds of edge values were appended to all channels when writing the final block.\n",
      "  raw_crop.export(save_path, fmt=\"edf\", overwrite=True)\n"
     ]
    },
    {
     "name": "stdout",
     "output_type": "stream",
     "text": [
      "Normal segments saved for chb02_26.edf\n",
      "Normal segments saved for chb02_27.edf\n"
     ]
    },
    {
     "name": "stderr",
     "output_type": "stream",
     "text": [
      "/tmp/ipykernel_3734/3037979607.py:81: RuntimeWarning: EDF format requires equal-length data blocks, so 0.996 seconds of edge values were appended to all channels when writing the final block.\n",
      "  raw_crop.export(save_path, fmt=\"edf\", overwrite=True)\n",
      "/tmp/ipykernel_3734/3037979607.py:81: RuntimeWarning: EDF format requires equal-length data blocks, so 0.996 seconds of edge values were appended to all channels when writing the final block.\n",
      "  raw_crop.export(save_path, fmt=\"edf\", overwrite=True)\n",
      "/tmp/ipykernel_3734/3037979607.py:81: RuntimeWarning: EDF format requires equal-length data blocks, so 0.996 seconds of edge values were appended to all channels when writing the final block.\n",
      "  raw_crop.export(save_path, fmt=\"edf\", overwrite=True)\n",
      "/tmp/ipykernel_3734/3037979607.py:81: RuntimeWarning: EDF format requires equal-length data blocks, so 0.996 seconds of edge values were appended to all channels when writing the final block.\n",
      "  raw_crop.export(save_path, fmt=\"edf\", overwrite=True)\n",
      "/tmp/ipykernel_3734/3037979607.py:81: RuntimeWarning: EDF format requires equal-length data blocks, so 0.996 seconds of edge values were appended to all channels when writing the final block.\n",
      "  raw_crop.export(save_path, fmt=\"edf\", overwrite=True)\n",
      "/tmp/ipykernel_3734/3037979607.py:81: RuntimeWarning: EDF format requires equal-length data blocks, so 0.996 seconds of edge values were appended to all channels when writing the final block.\n",
      "  raw_crop.export(save_path, fmt=\"edf\", overwrite=True)\n",
      "/tmp/ipykernel_3734/3037979607.py:81: RuntimeWarning: EDF format requires equal-length data blocks, so 0.996 seconds of edge values were appended to all channels when writing the final block.\n",
      "  raw_crop.export(save_path, fmt=\"edf\", overwrite=True)\n"
     ]
    },
    {
     "name": "stdout",
     "output_type": "stream",
     "text": [
      "Normal segments saved for chb02_28.edf\n",
      "Normal segments saved for chb02_29.edf\n"
     ]
    },
    {
     "name": "stderr",
     "output_type": "stream",
     "text": [
      "/tmp/ipykernel_3734/3037979607.py:81: RuntimeWarning: EDF format requires equal-length data blocks, so 0.996 seconds of edge values were appended to all channels when writing the final block.\n",
      "  raw_crop.export(save_path, fmt=\"edf\", overwrite=True)\n",
      "/tmp/ipykernel_3734/3037979607.py:81: RuntimeWarning: EDF format requires equal-length data blocks, so 0.996 seconds of edge values were appended to all channels when writing the final block.\n",
      "  raw_crop.export(save_path, fmt=\"edf\", overwrite=True)\n",
      "/tmp/ipykernel_3734/3037979607.py:81: RuntimeWarning: EDF format requires equal-length data blocks, so 0.996 seconds of edge values were appended to all channels when writing the final block.\n",
      "  raw_crop.export(save_path, fmt=\"edf\", overwrite=True)\n",
      "/tmp/ipykernel_3734/3037979607.py:81: RuntimeWarning: EDF format requires equal-length data blocks, so 0.996 seconds of edge values were appended to all channels when writing the final block.\n",
      "  raw_crop.export(save_path, fmt=\"edf\", overwrite=True)\n",
      "/tmp/ipykernel_3734/3037979607.py:81: RuntimeWarning: EDF format requires equal-length data blocks, so 0.996 seconds of edge values were appended to all channels when writing the final block.\n",
      "  raw_crop.export(save_path, fmt=\"edf\", overwrite=True)\n",
      "/tmp/ipykernel_3734/3037979607.py:81: RuntimeWarning: EDF format requires equal-length data blocks, so 0.996 seconds of edge values were appended to all channels when writing the final block.\n",
      "  raw_crop.export(save_path, fmt=\"edf\", overwrite=True)\n",
      "/tmp/ipykernel_3734/3037979607.py:81: RuntimeWarning: EDF format requires equal-length data blocks, so 0.996 seconds of edge values were appended to all channels when writing the final block.\n",
      "  raw_crop.export(save_path, fmt=\"edf\", overwrite=True)\n",
      "/tmp/ipykernel_3734/3037979607.py:81: RuntimeWarning: EDF format requires equal-length data blocks, so 0.996 seconds of edge values were appended to all channels when writing the final block.\n",
      "  raw_crop.export(save_path, fmt=\"edf\", overwrite=True)\n",
      "/tmp/ipykernel_3734/3037979607.py:81: RuntimeWarning: EDF format requires equal-length data blocks, so 0.996 seconds of edge values were appended to all channels when writing the final block.\n",
      "  raw_crop.export(save_path, fmt=\"edf\", overwrite=True)\n",
      "/tmp/ipykernel_3734/3037979607.py:81: RuntimeWarning: EDF format requires equal-length data blocks, so 0.996 seconds of edge values were appended to all channels when writing the final block.\n",
      "  raw_crop.export(save_path, fmt=\"edf\", overwrite=True)\n",
      "/tmp/ipykernel_3734/3037979607.py:81: RuntimeWarning: EDF format requires equal-length data blocks, so 0.996 seconds of edge values were appended to all channels when writing the final block.\n",
      "  raw_crop.export(save_path, fmt=\"edf\", overwrite=True)\n",
      "/tmp/ipykernel_3734/3037979607.py:81: RuntimeWarning: EDF format requires equal-length data blocks, so 0.996 seconds of edge values were appended to all channels when writing the final block.\n",
      "  raw_crop.export(save_path, fmt=\"edf\", overwrite=True)\n",
      "/tmp/ipykernel_3734/3037979607.py:81: RuntimeWarning: EDF format requires equal-length data blocks, so 0.996 seconds of edge values were appended to all channels when writing the final block.\n",
      "  raw_crop.export(save_path, fmt=\"edf\", overwrite=True)\n",
      "/tmp/ipykernel_3734/3037979607.py:81: RuntimeWarning: EDF format requires equal-length data blocks, so 0.996 seconds of edge values were appended to all channels when writing the final block.\n",
      "  raw_crop.export(save_path, fmt=\"edf\", overwrite=True)\n",
      "/tmp/ipykernel_3734/3037979607.py:81: RuntimeWarning: EDF format requires equal-length data blocks, so 0.996 seconds of edge values were appended to all channels when writing the final block.\n",
      "  raw_crop.export(save_path, fmt=\"edf\", overwrite=True)\n"
     ]
    },
    {
     "name": "stdout",
     "output_type": "stream",
     "text": [
      "Normal segments saved for chb02_30.edf\n",
      "Normal segments saved for chb02_31.edf\n"
     ]
    },
    {
     "name": "stderr",
     "output_type": "stream",
     "text": [
      "/tmp/ipykernel_3734/3037979607.py:81: RuntimeWarning: EDF format requires equal-length data blocks, so 0.996 seconds of edge values were appended to all channels when writing the final block.\n",
      "  raw_crop.export(save_path, fmt=\"edf\", overwrite=True)\n",
      "/tmp/ipykernel_3734/3037979607.py:81: RuntimeWarning: EDF format requires equal-length data blocks, so 0.996 seconds of edge values were appended to all channels when writing the final block.\n",
      "  raw_crop.export(save_path, fmt=\"edf\", overwrite=True)\n",
      "/tmp/ipykernel_3734/3037979607.py:81: RuntimeWarning: EDF format requires equal-length data blocks, so 0.996 seconds of edge values were appended to all channels when writing the final block.\n",
      "  raw_crop.export(save_path, fmt=\"edf\", overwrite=True)\n",
      "/tmp/ipykernel_3734/3037979607.py:81: RuntimeWarning: EDF format requires equal-length data blocks, so 0.996 seconds of edge values were appended to all channels when writing the final block.\n",
      "  raw_crop.export(save_path, fmt=\"edf\", overwrite=True)\n",
      "/tmp/ipykernel_3734/3037979607.py:81: RuntimeWarning: EDF format requires equal-length data blocks, so 0.996 seconds of edge values were appended to all channels when writing the final block.\n",
      "  raw_crop.export(save_path, fmt=\"edf\", overwrite=True)\n",
      "/tmp/ipykernel_3734/3037979607.py:81: RuntimeWarning: EDF format requires equal-length data blocks, so 0.996 seconds of edge values were appended to all channels when writing the final block.\n",
      "  raw_crop.export(save_path, fmt=\"edf\", overwrite=True)\n",
      "/tmp/ipykernel_3734/3037979607.py:81: RuntimeWarning: EDF format requires equal-length data blocks, so 0.996 seconds of edge values were appended to all channels when writing the final block.\n",
      "  raw_crop.export(save_path, fmt=\"edf\", overwrite=True)\n",
      "/tmp/ipykernel_3734/3037979607.py:81: RuntimeWarning: EDF format requires equal-length data blocks, so 0.996 seconds of edge values were appended to all channels when writing the final block.\n",
      "  raw_crop.export(save_path, fmt=\"edf\", overwrite=True)\n"
     ]
    },
    {
     "name": "stdout",
     "output_type": "stream",
     "text": [
      "Normal segments saved for chb02_32.edf\n",
      "Normal segments saved for chb02_33.edf\n"
     ]
    },
    {
     "name": "stderr",
     "output_type": "stream",
     "text": [
      "/tmp/ipykernel_3734/3037979607.py:81: RuntimeWarning: EDF format requires equal-length data blocks, so 0.996 seconds of edge values were appended to all channels when writing the final block.\n",
      "  raw_crop.export(save_path, fmt=\"edf\", overwrite=True)\n",
      "/tmp/ipykernel_3734/3037979607.py:81: RuntimeWarning: EDF format requires equal-length data blocks, so 0.996 seconds of edge values were appended to all channels when writing the final block.\n",
      "  raw_crop.export(save_path, fmt=\"edf\", overwrite=True)\n",
      "/tmp/ipykernel_3734/3037979607.py:81: RuntimeWarning: EDF format requires equal-length data blocks, so 0.996 seconds of edge values were appended to all channels when writing the final block.\n",
      "  raw_crop.export(save_path, fmt=\"edf\", overwrite=True)\n",
      "/tmp/ipykernel_3734/3037979607.py:81: RuntimeWarning: EDF format requires equal-length data blocks, so 0.996 seconds of edge values were appended to all channels when writing the final block.\n",
      "  raw_crop.export(save_path, fmt=\"edf\", overwrite=True)\n",
      "/tmp/ipykernel_3734/3037979607.py:81: RuntimeWarning: EDF format requires equal-length data blocks, so 0.996 seconds of edge values were appended to all channels when writing the final block.\n",
      "  raw_crop.export(save_path, fmt=\"edf\", overwrite=True)\n",
      "/tmp/ipykernel_3734/3037979607.py:81: RuntimeWarning: EDF format requires equal-length data blocks, so 0.996 seconds of edge values were appended to all channels when writing the final block.\n",
      "  raw_crop.export(save_path, fmt=\"edf\", overwrite=True)\n",
      "/tmp/ipykernel_3734/3037979607.py:81: RuntimeWarning: EDF format requires equal-length data blocks, so 0.996 seconds of edge values were appended to all channels when writing the final block.\n",
      "  raw_crop.export(save_path, fmt=\"edf\", overwrite=True)\n"
     ]
    },
    {
     "name": "stdout",
     "output_type": "stream",
     "text": [
      "Normal segments saved for chb02_34.edf\n",
      "Normal segments saved for chb02_35.edf\n"
     ]
    },
    {
     "name": "stderr",
     "output_type": "stream",
     "text": [
      "/tmp/ipykernel_3734/3037979607.py:81: RuntimeWarning: EDF format requires equal-length data blocks, so 0.996 seconds of edge values were appended to all channels when writing the final block.\n",
      "  raw_crop.export(save_path, fmt=\"edf\", overwrite=True)\n",
      "/tmp/ipykernel_3734/3037979607.py:81: RuntimeWarning: EDF format requires equal-length data blocks, so 0.996 seconds of edge values were appended to all channels when writing the final block.\n",
      "  raw_crop.export(save_path, fmt=\"edf\", overwrite=True)\n",
      "/tmp/ipykernel_3734/3037979607.py:81: RuntimeWarning: EDF format requires equal-length data blocks, so 0.996 seconds of edge values were appended to all channels when writing the final block.\n",
      "  raw_crop.export(save_path, fmt=\"edf\", overwrite=True)\n",
      "/tmp/ipykernel_3734/3037979607.py:81: RuntimeWarning: EDF format requires equal-length data blocks, so 0.996 seconds of edge values were appended to all channels when writing the final block.\n",
      "  raw_crop.export(save_path, fmt=\"edf\", overwrite=True)\n",
      "/tmp/ipykernel_3734/3037979607.py:81: RuntimeWarning: EDF format requires equal-length data blocks, so 0.996 seconds of edge values were appended to all channels when writing the final block.\n",
      "  raw_crop.export(save_path, fmt=\"edf\", overwrite=True)\n",
      "/tmp/ipykernel_3734/3037979607.py:81: RuntimeWarning: EDF format requires equal-length data blocks, so 0.996 seconds of edge values were appended to all channels when writing the final block.\n",
      "  raw_crop.export(save_path, fmt=\"edf\", overwrite=True)\n",
      "/tmp/ipykernel_3734/3037979607.py:81: RuntimeWarning: EDF format requires equal-length data blocks, so 0.996 seconds of edge values were appended to all channels when writing the final block.\n",
      "  raw_crop.export(save_path, fmt=\"edf\", overwrite=True)\n",
      "/tmp/ipykernel_3734/3037979607.py:81: RuntimeWarning: EDF format requires equal-length data blocks, so 0.996 seconds of edge values were appended to all channels when writing the final block.\n",
      "  raw_crop.export(save_path, fmt=\"edf\", overwrite=True)\n",
      "/tmp/ipykernel_3734/3037979607.py:81: RuntimeWarning: EDF format requires equal-length data blocks, so 0.996 seconds of edge values were appended to all channels when writing the final block.\n",
      "  raw_crop.export(save_path, fmt=\"edf\", overwrite=True)\n",
      "/tmp/ipykernel_3734/3037979607.py:81: RuntimeWarning: EDF format requires equal-length data blocks, so 0.996 seconds of edge values were appended to all channels when writing the final block.\n",
      "  raw_crop.export(save_path, fmt=\"edf\", overwrite=True)\n",
      "/tmp/ipykernel_3734/3037979607.py:81: RuntimeWarning: EDF format requires equal-length data blocks, so 0.996 seconds of edge values were appended to all channels when writing the final block.\n",
      "  raw_crop.export(save_path, fmt=\"edf\", overwrite=True)\n",
      "/tmp/ipykernel_3734/3037979607.py:81: RuntimeWarning: EDF format requires equal-length data blocks, so 0.996 seconds of edge values were appended to all channels when writing the final block.\n",
      "  raw_crop.export(save_path, fmt=\"edf\", overwrite=True)\n",
      "/tmp/ipykernel_3734/3037979607.py:81: RuntimeWarning: EDF format requires equal-length data blocks, so 0.996 seconds of edge values were appended to all channels when writing the final block.\n",
      "  raw_crop.export(save_path, fmt=\"edf\", overwrite=True)\n"
     ]
    },
    {
     "name": "stdout",
     "output_type": "stream",
     "text": [
      "Normal segments saved for chb20_01.edf\n",
      "Normal segments saved for chb20_02.edf\n"
     ]
    },
    {
     "name": "stderr",
     "output_type": "stream",
     "text": [
      "/tmp/ipykernel_3734/3037979607.py:81: RuntimeWarning: EDF format requires equal-length data blocks, so 0.996 seconds of edge values were appended to all channels when writing the final block.\n",
      "  raw_crop.export(save_path, fmt=\"edf\", overwrite=True)\n",
      "/tmp/ipykernel_3734/3037979607.py:81: RuntimeWarning: EDF format requires equal-length data blocks, so 0.996 seconds of edge values were appended to all channels when writing the final block.\n",
      "  raw_crop.export(save_path, fmt=\"edf\", overwrite=True)\n",
      "/tmp/ipykernel_3734/3037979607.py:81: RuntimeWarning: EDF format requires equal-length data blocks, so 0.996 seconds of edge values were appended to all channels when writing the final block.\n",
      "  raw_crop.export(save_path, fmt=\"edf\", overwrite=True)\n",
      "/tmp/ipykernel_3734/3037979607.py:81: RuntimeWarning: EDF format requires equal-length data blocks, so 0.996 seconds of edge values were appended to all channels when writing the final block.\n",
      "  raw_crop.export(save_path, fmt=\"edf\", overwrite=True)\n",
      "/tmp/ipykernel_3734/3037979607.py:81: RuntimeWarning: EDF format requires equal-length data blocks, so 0.996 seconds of edge values were appended to all channels when writing the final block.\n",
      "  raw_crop.export(save_path, fmt=\"edf\", overwrite=True)\n",
      "/tmp/ipykernel_3734/3037979607.py:81: RuntimeWarning: EDF format requires equal-length data blocks, so 0.996 seconds of edge values were appended to all channels when writing the final block.\n",
      "  raw_crop.export(save_path, fmt=\"edf\", overwrite=True)\n",
      "/tmp/ipykernel_3734/3037979607.py:81: RuntimeWarning: EDF format requires equal-length data blocks, so 0.996 seconds of edge values were appended to all channels when writing the final block.\n",
      "  raw_crop.export(save_path, fmt=\"edf\", overwrite=True)\n",
      "/tmp/ipykernel_3734/3037979607.py:81: RuntimeWarning: EDF format requires equal-length data blocks, so 0.996 seconds of edge values were appended to all channels when writing the final block.\n",
      "  raw_crop.export(save_path, fmt=\"edf\", overwrite=True)\n",
      "/tmp/ipykernel_3734/3037979607.py:81: RuntimeWarning: EDF format requires equal-length data blocks, so 0.996 seconds of edge values were appended to all channels when writing the final block.\n",
      "  raw_crop.export(save_path, fmt=\"edf\", overwrite=True)\n",
      "/tmp/ipykernel_3734/3037979607.py:81: RuntimeWarning: EDF format requires equal-length data blocks, so 0.996 seconds of edge values were appended to all channels when writing the final block.\n",
      "  raw_crop.export(save_path, fmt=\"edf\", overwrite=True)\n",
      "/tmp/ipykernel_3734/3037979607.py:81: RuntimeWarning: EDF format requires equal-length data blocks, so 0.996 seconds of edge values were appended to all channels when writing the final block.\n",
      "  raw_crop.export(save_path, fmt=\"edf\", overwrite=True)\n",
      "/tmp/ipykernel_3734/3037979607.py:81: RuntimeWarning: EDF format requires equal-length data blocks, so 0.996 seconds of edge values were appended to all channels when writing the final block.\n",
      "  raw_crop.export(save_path, fmt=\"edf\", overwrite=True)\n"
     ]
    },
    {
     "name": "stdout",
     "output_type": "stream",
     "text": [
      "Normal segments saved for chb20_03.edf\n",
      "Normal segments saved for chb20_04.edf\n"
     ]
    },
    {
     "name": "stderr",
     "output_type": "stream",
     "text": [
      "/tmp/ipykernel_3734/3037979607.py:81: RuntimeWarning: EDF format requires equal-length data blocks, so 0.996 seconds of edge values were appended to all channels when writing the final block.\n",
      "  raw_crop.export(save_path, fmt=\"edf\", overwrite=True)\n",
      "/tmp/ipykernel_3734/3037979607.py:81: RuntimeWarning: EDF format requires equal-length data blocks, so 0.996 seconds of edge values were appended to all channels when writing the final block.\n",
      "  raw_crop.export(save_path, fmt=\"edf\", overwrite=True)\n",
      "/tmp/ipykernel_3734/3037979607.py:81: RuntimeWarning: EDF format requires equal-length data blocks, so 0.996 seconds of edge values were appended to all channels when writing the final block.\n",
      "  raw_crop.export(save_path, fmt=\"edf\", overwrite=True)\n",
      "/tmp/ipykernel_3734/3037979607.py:81: RuntimeWarning: EDF format requires equal-length data blocks, so 0.996 seconds of edge values were appended to all channels when writing the final block.\n",
      "  raw_crop.export(save_path, fmt=\"edf\", overwrite=True)\n",
      "/tmp/ipykernel_3734/3037979607.py:81: RuntimeWarning: EDF format requires equal-length data blocks, so 0.996 seconds of edge values were appended to all channels when writing the final block.\n",
      "  raw_crop.export(save_path, fmt=\"edf\", overwrite=True)\n",
      "/tmp/ipykernel_3734/3037979607.py:81: RuntimeWarning: EDF format requires equal-length data blocks, so 0.996 seconds of edge values were appended to all channels when writing the final block.\n",
      "  raw_crop.export(save_path, fmt=\"edf\", overwrite=True)\n"
     ]
    },
    {
     "name": "stdout",
     "output_type": "stream",
     "text": [
      "Normal segments saved for chb20_05.edf\n",
      "Normal segments saved for chb20_06.edf\n"
     ]
    },
    {
     "name": "stderr",
     "output_type": "stream",
     "text": [
      "/tmp/ipykernel_3734/3037979607.py:81: RuntimeWarning: EDF format requires equal-length data blocks, so 0.996 seconds of edge values were appended to all channels when writing the final block.\n",
      "  raw_crop.export(save_path, fmt=\"edf\", overwrite=True)\n",
      "/tmp/ipykernel_3734/3037979607.py:81: RuntimeWarning: EDF format requires equal-length data blocks, so 0.996 seconds of edge values were appended to all channels when writing the final block.\n",
      "  raw_crop.export(save_path, fmt=\"edf\", overwrite=True)\n",
      "/tmp/ipykernel_3734/3037979607.py:81: RuntimeWarning: EDF format requires equal-length data blocks, so 0.996 seconds of edge values were appended to all channels when writing the final block.\n",
      "  raw_crop.export(save_path, fmt=\"edf\", overwrite=True)\n",
      "/tmp/ipykernel_3734/3037979607.py:81: RuntimeWarning: EDF format requires equal-length data blocks, so 0.996 seconds of edge values were appended to all channels when writing the final block.\n",
      "  raw_crop.export(save_path, fmt=\"edf\", overwrite=True)\n",
      "/tmp/ipykernel_3734/3037979607.py:81: RuntimeWarning: EDF format requires equal-length data blocks, so 0.996 seconds of edge values were appended to all channels when writing the final block.\n",
      "  raw_crop.export(save_path, fmt=\"edf\", overwrite=True)\n",
      "/tmp/ipykernel_3734/3037979607.py:81: RuntimeWarning: EDF format requires equal-length data blocks, so 0.996 seconds of edge values were appended to all channels when writing the final block.\n",
      "  raw_crop.export(save_path, fmt=\"edf\", overwrite=True)\n",
      "/tmp/ipykernel_3734/3037979607.py:81: RuntimeWarning: EDF format requires equal-length data blocks, so 0.996 seconds of edge values were appended to all channels when writing the final block.\n",
      "  raw_crop.export(save_path, fmt=\"edf\", overwrite=True)\n",
      "/tmp/ipykernel_3734/3037979607.py:81: RuntimeWarning: EDF format requires equal-length data blocks, so 0.996 seconds of edge values were appended to all channels when writing the final block.\n",
      "  raw_crop.export(save_path, fmt=\"edf\", overwrite=True)\n",
      "/tmp/ipykernel_3734/3037979607.py:81: RuntimeWarning: EDF format requires equal-length data blocks, so 0.996 seconds of edge values were appended to all channels when writing the final block.\n",
      "  raw_crop.export(save_path, fmt=\"edf\", overwrite=True)\n",
      "/tmp/ipykernel_3734/3037979607.py:81: RuntimeWarning: EDF format requires equal-length data blocks, so 0.996 seconds of edge values were appended to all channels when writing the final block.\n",
      "  raw_crop.export(save_path, fmt=\"edf\", overwrite=True)\n",
      "/tmp/ipykernel_3734/3037979607.py:81: RuntimeWarning: EDF format requires equal-length data blocks, so 0.996 seconds of edge values were appended to all channels when writing the final block.\n",
      "  raw_crop.export(save_path, fmt=\"edf\", overwrite=True)\n",
      "/tmp/ipykernel_3734/3037979607.py:81: RuntimeWarning: EDF format requires equal-length data blocks, so 0.996 seconds of edge values were appended to all channels when writing the final block.\n",
      "  raw_crop.export(save_path, fmt=\"edf\", overwrite=True)\n"
     ]
    },
    {
     "name": "stdout",
     "output_type": "stream",
     "text": [
      "Normal segments saved for chb20_07.edf\n",
      "Normal segments saved for chb20_08.edf\n"
     ]
    },
    {
     "name": "stderr",
     "output_type": "stream",
     "text": [
      "/tmp/ipykernel_3734/3037979607.py:81: RuntimeWarning: EDF format requires equal-length data blocks, so 0.996 seconds of edge values were appended to all channels when writing the final block.\n",
      "  raw_crop.export(save_path, fmt=\"edf\", overwrite=True)\n",
      "/tmp/ipykernel_3734/3037979607.py:81: RuntimeWarning: EDF format requires equal-length data blocks, so 0.996 seconds of edge values were appended to all channels when writing the final block.\n",
      "  raw_crop.export(save_path, fmt=\"edf\", overwrite=True)\n",
      "/tmp/ipykernel_3734/3037979607.py:81: RuntimeWarning: EDF format requires equal-length data blocks, so 0.996 seconds of edge values were appended to all channels when writing the final block.\n",
      "  raw_crop.export(save_path, fmt=\"edf\", overwrite=True)\n",
      "/tmp/ipykernel_3734/3037979607.py:81: RuntimeWarning: EDF format requires equal-length data blocks, so 0.996 seconds of edge values were appended to all channels when writing the final block.\n",
      "  raw_crop.export(save_path, fmt=\"edf\", overwrite=True)\n",
      "/tmp/ipykernel_3734/3037979607.py:81: RuntimeWarning: EDF format requires equal-length data blocks, so 0.996 seconds of edge values were appended to all channels when writing the final block.\n",
      "  raw_crop.export(save_path, fmt=\"edf\", overwrite=True)\n",
      "/tmp/ipykernel_3734/3037979607.py:81: RuntimeWarning: EDF format requires equal-length data blocks, so 0.996 seconds of edge values were appended to all channels when writing the final block.\n",
      "  raw_crop.export(save_path, fmt=\"edf\", overwrite=True)\n",
      "/tmp/ipykernel_3734/3037979607.py:81: RuntimeWarning: EDF format requires equal-length data blocks, so 0.996 seconds of edge values were appended to all channels when writing the final block.\n",
      "  raw_crop.export(save_path, fmt=\"edf\", overwrite=True)\n",
      "/tmp/ipykernel_3734/3037979607.py:52: RuntimeWarning: EDF format requires equal-length data blocks, so 0.996 seconds of edge values were appended to all channels when writing the final block.\n",
      "  segment.export(save_path, fmt='edf')\n",
      "/tmp/ipykernel_3734/3037979607.py:52: RuntimeWarning: EDF format requires equal-length data blocks, so 0.996 seconds of edge values were appended to all channels when writing the final block.\n",
      "  segment.export(save_path, fmt='edf')\n"
     ]
    },
    {
     "name": "stdout",
     "output_type": "stream",
     "text": [
      "Normal segments saved for chb20_11.edf\n",
      "  → saved: chb20_12_seizure_1.edf\n",
      "  → saved: chb20_13_seizure_1.edf\n"
     ]
    },
    {
     "name": "stderr",
     "output_type": "stream",
     "text": [
      "/tmp/ipykernel_3734/3037979607.py:52: RuntimeWarning: EDF format requires equal-length data blocks, so 0.996 seconds of edge values were appended to all channels when writing the final block.\n",
      "  segment.export(save_path, fmt='edf')\n",
      "/tmp/ipykernel_3734/3037979607.py:52: RuntimeWarning: EDF format requires equal-length data blocks, so 0.996 seconds of edge values were appended to all channels when writing the final block.\n",
      "  segment.export(save_path, fmt='edf')\n",
      "/tmp/ipykernel_3734/3037979607.py:52: RuntimeWarning: EDF format requires equal-length data blocks, so 0.996 seconds of edge values were appended to all channels when writing the final block.\n",
      "  segment.export(save_path, fmt='edf')\n"
     ]
    },
    {
     "name": "stdout",
     "output_type": "stream",
     "text": [
      "  → saved: chb20_13_seizure_2.edf\n",
      "  → saved: chb20_14_seizure_1.edf\n",
      "  → saved: chb20_15_seizure_1.edf\n"
     ]
    },
    {
     "name": "stderr",
     "output_type": "stream",
     "text": [
      "/tmp/ipykernel_3734/3037979607.py:52: RuntimeWarning: EDF format requires equal-length data blocks, so 0.996 seconds of edge values were appended to all channels when writing the final block.\n",
      "  segment.export(save_path, fmt='edf')\n",
      "/tmp/ipykernel_3734/3037979607.py:52: RuntimeWarning: EDF format requires equal-length data blocks, so 0.996 seconds of edge values were appended to all channels when writing the final block.\n",
      "  segment.export(save_path, fmt='edf')\n",
      "/tmp/ipykernel_3734/3037979607.py:81: RuntimeWarning: EDF format requires equal-length data blocks, so 0.996 seconds of edge values were appended to all channels when writing the final block.\n",
      "  raw_crop.export(save_path, fmt=\"edf\", overwrite=True)\n"
     ]
    },
    {
     "name": "stdout",
     "output_type": "stream",
     "text": [
      "  → saved: chb20_15_seizure_2.edf\n",
      "  → saved: chb20_16_seizure_1.edf\n"
     ]
    },
    {
     "name": "stderr",
     "output_type": "stream",
     "text": [
      "/tmp/ipykernel_3734/3037979607.py:81: RuntimeWarning: EDF format requires equal-length data blocks, so 0.996 seconds of edge values were appended to all channels when writing the final block.\n",
      "  raw_crop.export(save_path, fmt=\"edf\", overwrite=True)\n",
      "/tmp/ipykernel_3734/3037979607.py:81: RuntimeWarning: EDF format requires equal-length data blocks, so 0.996 seconds of edge values were appended to all channels when writing the final block.\n",
      "  raw_crop.export(save_path, fmt=\"edf\", overwrite=True)\n",
      "/tmp/ipykernel_3734/3037979607.py:81: RuntimeWarning: EDF format requires equal-length data blocks, so 0.996 seconds of edge values were appended to all channels when writing the final block.\n",
      "  raw_crop.export(save_path, fmt=\"edf\", overwrite=True)\n",
      "/tmp/ipykernel_3734/3037979607.py:81: RuntimeWarning: EDF format requires equal-length data blocks, so 0.996 seconds of edge values were appended to all channels when writing the final block.\n",
      "  raw_crop.export(save_path, fmt=\"edf\", overwrite=True)\n",
      "/tmp/ipykernel_3734/3037979607.py:81: RuntimeWarning: EDF format requires equal-length data blocks, so 0.996 seconds of edge values were appended to all channels when writing the final block.\n",
      "  raw_crop.export(save_path, fmt=\"edf\", overwrite=True)\n",
      "/tmp/ipykernel_3734/3037979607.py:81: RuntimeWarning: EDF format requires equal-length data blocks, so 0.996 seconds of edge values were appended to all channels when writing the final block.\n",
      "  raw_crop.export(save_path, fmt=\"edf\", overwrite=True)\n"
     ]
    },
    {
     "name": "stdout",
     "output_type": "stream",
     "text": [
      "Normal segments saved for chb20_17.edf\n",
      "Normal segments saved for chb20_21.edf\n"
     ]
    },
    {
     "name": "stderr",
     "output_type": "stream",
     "text": [
      "/tmp/ipykernel_3734/3037979607.py:81: RuntimeWarning: EDF format requires equal-length data blocks, so 0.996 seconds of edge values were appended to all channels when writing the final block.\n",
      "  raw_crop.export(save_path, fmt=\"edf\", overwrite=True)\n",
      "/tmp/ipykernel_3734/3037979607.py:81: RuntimeWarning: EDF format requires equal-length data blocks, so 0.996 seconds of edge values were appended to all channels when writing the final block.\n",
      "  raw_crop.export(save_path, fmt=\"edf\", overwrite=True)\n",
      "/tmp/ipykernel_3734/3037979607.py:81: RuntimeWarning: EDF format requires equal-length data blocks, so 0.996 seconds of edge values were appended to all channels when writing the final block.\n",
      "  raw_crop.export(save_path, fmt=\"edf\", overwrite=True)\n",
      "/tmp/ipykernel_3734/3037979607.py:81: RuntimeWarning: EDF format requires equal-length data blocks, so 0.996 seconds of edge values were appended to all channels when writing the final block.\n",
      "  raw_crop.export(save_path, fmt=\"edf\", overwrite=True)\n",
      "/tmp/ipykernel_3734/3037979607.py:81: RuntimeWarning: EDF format requires equal-length data blocks, so 0.996 seconds of edge values were appended to all channels when writing the final block.\n",
      "  raw_crop.export(save_path, fmt=\"edf\", overwrite=True)\n",
      "/tmp/ipykernel_3734/3037979607.py:81: RuntimeWarning: EDF format requires equal-length data blocks, so 0.996 seconds of edge values were appended to all channels when writing the final block.\n",
      "  raw_crop.export(save_path, fmt=\"edf\", overwrite=True)\n",
      "/tmp/ipykernel_3734/3037979607.py:81: RuntimeWarning: EDF format requires equal-length data blocks, so 0.996 seconds of edge values were appended to all channels when writing the final block.\n",
      "  raw_crop.export(save_path, fmt=\"edf\", overwrite=True)\n",
      "/tmp/ipykernel_3734/3037979607.py:81: RuntimeWarning: EDF format requires equal-length data blocks, so 0.996 seconds of edge values were appended to all channels when writing the final block.\n",
      "  raw_crop.export(save_path, fmt=\"edf\", overwrite=True)\n",
      "/tmp/ipykernel_3734/3037979607.py:81: RuntimeWarning: EDF format requires equal-length data blocks, so 0.996 seconds of edge values were appended to all channels when writing the final block.\n",
      "  raw_crop.export(save_path, fmt=\"edf\", overwrite=True)\n",
      "/tmp/ipykernel_3734/3037979607.py:81: RuntimeWarning: EDF format requires equal-length data blocks, so 0.996 seconds of edge values were appended to all channels when writing the final block.\n",
      "  raw_crop.export(save_path, fmt=\"edf\", overwrite=True)\n"
     ]
    },
    {
     "name": "stdout",
     "output_type": "stream",
     "text": [
      "Normal segments saved for chb20_22.edf\n",
      "Normal segments saved for chb20_23.edf\n"
     ]
    },
    {
     "name": "stderr",
     "output_type": "stream",
     "text": [
      "/tmp/ipykernel_3734/3037979607.py:81: RuntimeWarning: EDF format requires equal-length data blocks, so 0.996 seconds of edge values were appended to all channels when writing the final block.\n",
      "  raw_crop.export(save_path, fmt=\"edf\", overwrite=True)\n",
      "/tmp/ipykernel_3734/3037979607.py:81: RuntimeWarning: EDF format requires equal-length data blocks, so 0.996 seconds of edge values were appended to all channels when writing the final block.\n",
      "  raw_crop.export(save_path, fmt=\"edf\", overwrite=True)\n",
      "/tmp/ipykernel_3734/3037979607.py:81: RuntimeWarning: EDF format requires equal-length data blocks, so 0.996 seconds of edge values were appended to all channels when writing the final block.\n",
      "  raw_crop.export(save_path, fmt=\"edf\", overwrite=True)\n",
      "/tmp/ipykernel_3734/3037979607.py:81: RuntimeWarning: EDF format requires equal-length data blocks, so 0.996 seconds of edge values were appended to all channels when writing the final block.\n",
      "  raw_crop.export(save_path, fmt=\"edf\", overwrite=True)\n",
      "/tmp/ipykernel_3734/3037979607.py:81: RuntimeWarning: EDF format requires equal-length data blocks, so 0.996 seconds of edge values were appended to all channels when writing the final block.\n",
      "  raw_crop.export(save_path, fmt=\"edf\", overwrite=True)\n",
      "/tmp/ipykernel_3734/3037979607.py:81: RuntimeWarning: EDF format requires equal-length data blocks, so 0.996 seconds of edge values were appended to all channels when writing the final block.\n",
      "  raw_crop.export(save_path, fmt=\"edf\", overwrite=True)\n",
      "/tmp/ipykernel_3734/3037979607.py:81: RuntimeWarning: EDF format requires equal-length data blocks, so 0.996 seconds of edge values were appended to all channels when writing the final block.\n",
      "  raw_crop.export(save_path, fmt=\"edf\", overwrite=True)\n",
      "/tmp/ipykernel_3734/3037979607.py:81: RuntimeWarning: EDF format requires equal-length data blocks, so 0.996 seconds of edge values were appended to all channels when writing the final block.\n",
      "  raw_crop.export(save_path, fmt=\"edf\", overwrite=True)\n",
      "/tmp/ipykernel_3734/3037979607.py:81: RuntimeWarning: EDF format requires equal-length data blocks, so 0.996 seconds of edge values were appended to all channels when writing the final block.\n",
      "  raw_crop.export(save_path, fmt=\"edf\", overwrite=True)\n",
      "/tmp/ipykernel_3734/3037979607.py:81: RuntimeWarning: EDF format requires equal-length data blocks, so 0.996 seconds of edge values were appended to all channels when writing the final block.\n",
      "  raw_crop.export(save_path, fmt=\"edf\", overwrite=True)\n",
      "/tmp/ipykernel_3734/3037979607.py:81: RuntimeWarning: EDF format requires equal-length data blocks, so 0.996 seconds of edge values were appended to all channels when writing the final block.\n",
      "  raw_crop.export(save_path, fmt=\"edf\", overwrite=True)\n",
      "/tmp/ipykernel_3734/3037979607.py:81: RuntimeWarning: EDF format requires equal-length data blocks, so 0.996 seconds of edge values were appended to all channels when writing the final block.\n",
      "  raw_crop.export(save_path, fmt=\"edf\", overwrite=True)\n"
     ]
    },
    {
     "name": "stdout",
     "output_type": "stream",
     "text": [
      "Normal segments saved for chb20_25.edf\n",
      "Normal segments saved for chb20_26.edf\n"
     ]
    },
    {
     "name": "stderr",
     "output_type": "stream",
     "text": [
      "/tmp/ipykernel_3734/3037979607.py:81: RuntimeWarning: EDF format requires equal-length data blocks, so 0.996 seconds of edge values were appended to all channels when writing the final block.\n",
      "  raw_crop.export(save_path, fmt=\"edf\", overwrite=True)\n",
      "/tmp/ipykernel_3734/3037979607.py:81: RuntimeWarning: EDF format requires equal-length data blocks, so 0.996 seconds of edge values were appended to all channels when writing the final block.\n",
      "  raw_crop.export(save_path, fmt=\"edf\", overwrite=True)\n",
      "/tmp/ipykernel_3734/3037979607.py:81: RuntimeWarning: EDF format requires equal-length data blocks, so 0.996 seconds of edge values were appended to all channels when writing the final block.\n",
      "  raw_crop.export(save_path, fmt=\"edf\", overwrite=True)\n",
      "/tmp/ipykernel_3734/3037979607.py:81: RuntimeWarning: EDF format requires equal-length data blocks, so 0.996 seconds of edge values were appended to all channels when writing the final block.\n",
      "  raw_crop.export(save_path, fmt=\"edf\", overwrite=True)\n",
      "/tmp/ipykernel_3734/3037979607.py:81: RuntimeWarning: EDF format requires equal-length data blocks, so 0.996 seconds of edge values were appended to all channels when writing the final block.\n",
      "  raw_crop.export(save_path, fmt=\"edf\", overwrite=True)\n",
      "/tmp/ipykernel_3734/3037979607.py:81: RuntimeWarning: EDF format requires equal-length data blocks, so 0.996 seconds of edge values were appended to all channels when writing the final block.\n",
      "  raw_crop.export(save_path, fmt=\"edf\", overwrite=True)\n"
     ]
    },
    {
     "name": "stdout",
     "output_type": "stream",
     "text": [
      "Normal segments saved for chb20_27.edf\n",
      "Normal segments saved for chb20_28.edf\n"
     ]
    },
    {
     "name": "stderr",
     "output_type": "stream",
     "text": [
      "/tmp/ipykernel_3734/3037979607.py:81: RuntimeWarning: EDF format requires equal-length data blocks, so 0.996 seconds of edge values were appended to all channels when writing the final block.\n",
      "  raw_crop.export(save_path, fmt=\"edf\", overwrite=True)\n",
      "/tmp/ipykernel_3734/3037979607.py:81: RuntimeWarning: EDF format requires equal-length data blocks, so 0.996 seconds of edge values were appended to all channels when writing the final block.\n",
      "  raw_crop.export(save_path, fmt=\"edf\", overwrite=True)\n",
      "/tmp/ipykernel_3734/3037979607.py:81: RuntimeWarning: EDF format requires equal-length data blocks, so 0.996 seconds of edge values were appended to all channels when writing the final block.\n",
      "  raw_crop.export(save_path, fmt=\"edf\", overwrite=True)\n",
      "/tmp/ipykernel_3734/3037979607.py:81: RuntimeWarning: EDF format requires equal-length data blocks, so 0.996 seconds of edge values were appended to all channels when writing the final block.\n",
      "  raw_crop.export(save_path, fmt=\"edf\", overwrite=True)\n",
      "/tmp/ipykernel_3734/3037979607.py:81: RuntimeWarning: EDF format requires equal-length data blocks, so 0.996 seconds of edge values were appended to all channels when writing the final block.\n",
      "  raw_crop.export(save_path, fmt=\"edf\", overwrite=True)\n",
      "/tmp/ipykernel_3734/3037979607.py:81: RuntimeWarning: EDF format requires equal-length data blocks, so 0.996 seconds of edge values were appended to all channels when writing the final block.\n",
      "  raw_crop.export(save_path, fmt=\"edf\", overwrite=True)\n",
      "/tmp/ipykernel_3734/3037979607.py:81: RuntimeWarning: EDF format requires equal-length data blocks, so 0.996 seconds of edge values were appended to all channels when writing the final block.\n",
      "  raw_crop.export(save_path, fmt=\"edf\", overwrite=True)\n",
      "/tmp/ipykernel_3734/3037979607.py:81: RuntimeWarning: EDF format requires equal-length data blocks, so 0.996 seconds of edge values were appended to all channels when writing the final block.\n",
      "  raw_crop.export(save_path, fmt=\"edf\", overwrite=True)\n",
      "/tmp/ipykernel_3734/3037979607.py:81: RuntimeWarning: EDF format requires equal-length data blocks, so 0.996 seconds of edge values were appended to all channels when writing the final block.\n",
      "  raw_crop.export(save_path, fmt=\"edf\", overwrite=True)\n",
      "/tmp/ipykernel_3734/3037979607.py:81: RuntimeWarning: EDF format requires equal-length data blocks, so 0.996 seconds of edge values were appended to all channels when writing the final block.\n",
      "  raw_crop.export(save_path, fmt=\"edf\", overwrite=True)\n",
      "/tmp/ipykernel_3734/3037979607.py:81: RuntimeWarning: EDF format requires equal-length data blocks, so 0.996 seconds of edge values were appended to all channels when writing the final block.\n",
      "  raw_crop.export(save_path, fmt=\"edf\", overwrite=True)\n",
      "/tmp/ipykernel_3734/3037979607.py:81: RuntimeWarning: EDF format requires equal-length data blocks, so 0.996 seconds of edge values were appended to all channels when writing the final block.\n",
      "  raw_crop.export(save_path, fmt=\"edf\", overwrite=True)\n"
     ]
    },
    {
     "name": "stdout",
     "output_type": "stream",
     "text": [
      "Normal segments saved for chb20_29.edf\n",
      "Normal segments saved for chb20_30.edf\n"
     ]
    },
    {
     "name": "stderr",
     "output_type": "stream",
     "text": [
      "/tmp/ipykernel_3734/3037979607.py:81: RuntimeWarning: EDF format requires equal-length data blocks, so 0.996 seconds of edge values were appended to all channels when writing the final block.\n",
      "  raw_crop.export(save_path, fmt=\"edf\", overwrite=True)\n",
      "/tmp/ipykernel_3734/3037979607.py:81: RuntimeWarning: EDF format requires equal-length data blocks, so 0.996 seconds of edge values were appended to all channels when writing the final block.\n",
      "  raw_crop.export(save_path, fmt=\"edf\", overwrite=True)\n",
      "/tmp/ipykernel_3734/3037979607.py:81: RuntimeWarning: EDF format requires equal-length data blocks, so 0.996 seconds of edge values were appended to all channels when writing the final block.\n",
      "  raw_crop.export(save_path, fmt=\"edf\", overwrite=True)\n",
      "/tmp/ipykernel_3734/3037979607.py:81: RuntimeWarning: EDF format requires equal-length data blocks, so 0.996 seconds of edge values were appended to all channels when writing the final block.\n",
      "  raw_crop.export(save_path, fmt=\"edf\", overwrite=True)\n",
      "/tmp/ipykernel_3734/3037979607.py:81: RuntimeWarning: EDF format requires equal-length data blocks, so 0.996 seconds of edge values were appended to all channels when writing the final block.\n",
      "  raw_crop.export(save_path, fmt=\"edf\", overwrite=True)\n",
      "/tmp/ipykernel_3734/3037979607.py:81: RuntimeWarning: EDF format requires equal-length data blocks, so 0.996 seconds of edge values were appended to all channels when writing the final block.\n",
      "  raw_crop.export(save_path, fmt=\"edf\", overwrite=True)\n",
      "/tmp/ipykernel_3734/3037979607.py:81: RuntimeWarning: EDF format requires equal-length data blocks, so 0.996 seconds of edge values were appended to all channels when writing the final block.\n",
      "  raw_crop.export(save_path, fmt=\"edf\", overwrite=True)\n",
      "/tmp/ipykernel_3734/3037979607.py:81: RuntimeWarning: EDF format requires equal-length data blocks, so 0.996 seconds of edge values were appended to all channels when writing the final block.\n",
      "  raw_crop.export(save_path, fmt=\"edf\", overwrite=True)\n",
      "/tmp/ipykernel_3734/3037979607.py:81: RuntimeWarning: EDF format requires equal-length data blocks, so 0.996 seconds of edge values were appended to all channels when writing the final block.\n",
      "  raw_crop.export(save_path, fmt=\"edf\", overwrite=True)\n",
      "/tmp/ipykernel_3734/3037979607.py:81: RuntimeWarning: EDF format requires equal-length data blocks, so 0.996 seconds of edge values were appended to all channels when writing the final block.\n",
      "  raw_crop.export(save_path, fmt=\"edf\", overwrite=True)\n",
      "/tmp/ipykernel_3734/3037979607.py:81: RuntimeWarning: EDF format requires equal-length data blocks, so 0.996 seconds of edge values were appended to all channels when writing the final block.\n",
      "  raw_crop.export(save_path, fmt=\"edf\", overwrite=True)\n",
      "/tmp/ipykernel_3734/3037979607.py:81: RuntimeWarning: EDF format requires equal-length data blocks, so 0.996 seconds of edge values were appended to all channels when writing the final block.\n",
      "  raw_crop.export(save_path, fmt=\"edf\", overwrite=True)\n"
     ]
    },
    {
     "name": "stdout",
     "output_type": "stream",
     "text": [
      "Normal segments saved for chb20_31.edf\n",
      "Normal segments saved for chb20_34.edf\n"
     ]
    },
    {
     "name": "stderr",
     "output_type": "stream",
     "text": [
      "/tmp/ipykernel_3734/3037979607.py:81: RuntimeWarning: EDF format requires equal-length data blocks, so 0.996 seconds of edge values were appended to all channels when writing the final block.\n",
      "  raw_crop.export(save_path, fmt=\"edf\", overwrite=True)\n",
      "/tmp/ipykernel_3734/3037979607.py:81: RuntimeWarning: EDF format requires equal-length data blocks, so 0.996 seconds of edge values were appended to all channels when writing the final block.\n",
      "  raw_crop.export(save_path, fmt=\"edf\", overwrite=True)\n",
      "/tmp/ipykernel_3734/3037979607.py:81: RuntimeWarning: EDF format requires equal-length data blocks, so 0.996 seconds of edge values were appended to all channels when writing the final block.\n",
      "  raw_crop.export(save_path, fmt=\"edf\", overwrite=True)\n",
      "/tmp/ipykernel_3734/3037979607.py:81: RuntimeWarning: EDF format requires equal-length data blocks, so 0.996 seconds of edge values were appended to all channels when writing the final block.\n",
      "  raw_crop.export(save_path, fmt=\"edf\", overwrite=True)\n",
      "/tmp/ipykernel_3734/3037979607.py:81: RuntimeWarning: EDF format requires equal-length data blocks, so 0.996 seconds of edge values were appended to all channels when writing the final block.\n",
      "  raw_crop.export(save_path, fmt=\"edf\", overwrite=True)\n",
      "/tmp/ipykernel_3734/3037979607.py:81: RuntimeWarning: EDF format requires equal-length data blocks, so 0.996 seconds of edge values were appended to all channels when writing the final block.\n",
      "  raw_crop.export(save_path, fmt=\"edf\", overwrite=True)\n"
     ]
    },
    {
     "name": "stdout",
     "output_type": "stream",
     "text": [
      "Normal segments saved for chb20_59.edf\n",
      "Normal segments saved for chb20_60.edf\n"
     ]
    },
    {
     "name": "stderr",
     "output_type": "stream",
     "text": [
      "/tmp/ipykernel_3734/3037979607.py:81: RuntimeWarning: EDF format requires equal-length data blocks, so 0.996 seconds of edge values were appended to all channels when writing the final block.\n",
      "  raw_crop.export(save_path, fmt=\"edf\", overwrite=True)\n",
      "/tmp/ipykernel_3734/3037979607.py:81: RuntimeWarning: EDF format requires equal-length data blocks, so 0.996 seconds of edge values were appended to all channels when writing the final block.\n",
      "  raw_crop.export(save_path, fmt=\"edf\", overwrite=True)\n",
      "/tmp/ipykernel_3734/3037979607.py:81: RuntimeWarning: EDF format requires equal-length data blocks, so 0.996 seconds of edge values were appended to all channels when writing the final block.\n",
      "  raw_crop.export(save_path, fmt=\"edf\", overwrite=True)\n",
      "/tmp/ipykernel_3734/3037979607.py:81: RuntimeWarning: EDF format requires equal-length data blocks, so 0.996 seconds of edge values were appended to all channels when writing the final block.\n",
      "  raw_crop.export(save_path, fmt=\"edf\", overwrite=True)\n",
      "/tmp/ipykernel_3734/3037979607.py:81: RuntimeWarning: EDF format requires equal-length data blocks, so 0.996 seconds of edge values were appended to all channels when writing the final block.\n",
      "  raw_crop.export(save_path, fmt=\"edf\", overwrite=True)\n",
      "/tmp/ipykernel_3734/3037979607.py:52: RuntimeWarning: EDF format requires equal-length data blocks, so 0.996 seconds of edge values were appended to all channels when writing the final block.\n",
      "  segment.export(save_path, fmt='edf')\n"
     ]
    },
    {
     "name": "stdout",
     "output_type": "stream",
     "text": [
      "  → saved: chb20_68_seizure_1.edf\n",
      "  → saved: chb24_01_seizure_1.edf\n",
      "  → saved: chb24_01_seizure_2.edf\n",
      "  → saved: chb24_03_seizure_1.edf\n",
      "  → saved: chb24_03_seizure_2.edf\n"
     ]
    },
    {
     "name": "stderr",
     "output_type": "stream",
     "text": [
      "/tmp/ipykernel_3734/3037979607.py:52: RuntimeWarning: EDF format requires equal-length data blocks, so 0.996 seconds of edge values were appended to all channels when writing the final block.\n",
      "  segment.export(save_path, fmt='edf')\n",
      "/tmp/ipykernel_3734/3037979607.py:52: RuntimeWarning: EDF format requires equal-length data blocks, so 0.996 seconds of edge values were appended to all channels when writing the final block.\n",
      "  segment.export(save_path, fmt='edf')\n",
      "/tmp/ipykernel_3734/3037979607.py:52: RuntimeWarning: EDF format requires equal-length data blocks, so 0.996 seconds of edge values were appended to all channels when writing the final block.\n",
      "  segment.export(save_path, fmt='edf')\n",
      "/tmp/ipykernel_3734/3037979607.py:52: RuntimeWarning: EDF format requires equal-length data blocks, so 0.996 seconds of edge values were appended to all channels when writing the final block.\n",
      "  segment.export(save_path, fmt='edf')\n",
      "/tmp/ipykernel_3734/3037979607.py:52: RuntimeWarning: EDF format requires equal-length data blocks, so 0.996 seconds of edge values were appended to all channels when writing the final block.\n",
      "  segment.export(save_path, fmt='edf')\n"
     ]
    },
    {
     "name": "stdout",
     "output_type": "stream",
     "text": [
      "  → saved: chb24_04_seizure_1.edf\n",
      "  → saved: chb24_04_seizure_2.edf\n",
      "  → saved: chb24_04_seizure_3.edf\n",
      "  → saved: chb24_06_seizure_1.edf\n"
     ]
    },
    {
     "name": "stderr",
     "output_type": "stream",
     "text": [
      "/tmp/ipykernel_3734/3037979607.py:52: RuntimeWarning: EDF format requires equal-length data blocks, so 0.996 seconds of edge values were appended to all channels when writing the final block.\n",
      "  segment.export(save_path, fmt='edf')\n",
      "/tmp/ipykernel_3734/3037979607.py:52: RuntimeWarning: EDF format requires equal-length data blocks, so 0.996 seconds of edge values were appended to all channels when writing the final block.\n",
      "  segment.export(save_path, fmt='edf')\n",
      "/tmp/ipykernel_3734/3037979607.py:52: RuntimeWarning: EDF format requires equal-length data blocks, so 0.996 seconds of edge values were appended to all channels when writing the final block.\n",
      "  segment.export(save_path, fmt='edf')\n",
      "/tmp/ipykernel_3734/3037979607.py:52: RuntimeWarning: EDF format requires equal-length data blocks, so 0.996 seconds of edge values were appended to all channels when writing the final block.\n",
      "  segment.export(save_path, fmt='edf')\n"
     ]
    },
    {
     "name": "stdout",
     "output_type": "stream",
     "text": [
      "  → saved: chb24_07_seizure_1.edf\n",
      "  → saved: chb24_09_seizure_1.edf\n",
      "  → saved: chb24_11_seizure_1.edf\n"
     ]
    },
    {
     "name": "stderr",
     "output_type": "stream",
     "text": [
      "/tmp/ipykernel_3734/3037979607.py:52: RuntimeWarning: EDF format requires equal-length data blocks, so 0.996 seconds of edge values were appended to all channels when writing the final block.\n",
      "  segment.export(save_path, fmt='edf')\n",
      "/tmp/ipykernel_3734/3037979607.py:52: RuntimeWarning: EDF format requires equal-length data blocks, so 0.996 seconds of edge values were appended to all channels when writing the final block.\n",
      "  segment.export(save_path, fmt='edf')\n",
      "/tmp/ipykernel_3734/3037979607.py:52: RuntimeWarning: EDF format requires equal-length data blocks, so 0.996 seconds of edge values were appended to all channels when writing the final block.\n",
      "  segment.export(save_path, fmt='edf')\n"
     ]
    },
    {
     "name": "stdout",
     "output_type": "stream",
     "text": [
      "  → saved: chb24_13_seizure_1.edf\n",
      "  → saved: chb24_14_seizure_1.edf\n",
      "  → saved: chb24_15_seizure_1.edf\n"
     ]
    },
    {
     "name": "stderr",
     "output_type": "stream",
     "text": [
      "/tmp/ipykernel_3734/3037979607.py:52: RuntimeWarning: EDF format requires equal-length data blocks, so 0.996 seconds of edge values were appended to all channels when writing the final block.\n",
      "  segment.export(save_path, fmt='edf')\n",
      "/tmp/ipykernel_3734/3037979607.py:52: RuntimeWarning: EDF format requires equal-length data blocks, so 0.996 seconds of edge values were appended to all channels when writing the final block.\n",
      "  segment.export(save_path, fmt='edf')\n",
      "/tmp/ipykernel_3734/3037979607.py:52: RuntimeWarning: EDF format requires equal-length data blocks, so 0.996 seconds of edge values were appended to all channels when writing the final block.\n",
      "  segment.export(save_path, fmt='edf')\n"
     ]
    },
    {
     "name": "stdout",
     "output_type": "stream",
     "text": [
      "  → saved: chb24_17_seizure_1.edf\n",
      "  → saved: chb24_21_seizure_1.edf\n"
     ]
    },
    {
     "name": "stderr",
     "output_type": "stream",
     "text": [
      "/tmp/ipykernel_3734/3037979607.py:52: RuntimeWarning: EDF format requires equal-length data blocks, so 0.996 seconds of edge values were appended to all channels when writing the final block.\n",
      "  segment.export(save_path, fmt='edf')\n",
      "/tmp/ipykernel_3734/3037979607.py:81: RuntimeWarning: EDF format requires equal-length data blocks, so 0.996 seconds of edge values were appended to all channels when writing the final block.\n",
      "  raw_crop.export(save_path, fmt=\"edf\", overwrite=True)\n",
      "/tmp/ipykernel_3734/3037979607.py:81: RuntimeWarning: EDF format requires equal-length data blocks, so 0.996 seconds of edge values were appended to all channels when writing the final block.\n",
      "  raw_crop.export(save_path, fmt=\"edf\", overwrite=True)\n",
      "/tmp/ipykernel_3734/3037979607.py:81: RuntimeWarning: EDF format requires equal-length data blocks, so 0.996 seconds of edge values were appended to all channels when writing the final block.\n",
      "  raw_crop.export(save_path, fmt=\"edf\", overwrite=True)\n",
      "/tmp/ipykernel_3734/3037979607.py:81: RuntimeWarning: EDF format requires equal-length data blocks, so 0.996 seconds of edge values were appended to all channels when writing the final block.\n",
      "  raw_crop.export(save_path, fmt=\"edf\", overwrite=True)\n",
      "/tmp/ipykernel_3734/3037979607.py:81: RuntimeWarning: EDF format requires equal-length data blocks, so 0.996 seconds of edge values were appended to all channels when writing the final block.\n",
      "  raw_crop.export(save_path, fmt=\"edf\", overwrite=True)\n"
     ]
    },
    {
     "name": "stdout",
     "output_type": "stream",
     "text": [
      "Normal segments saved for chb10_01.edf\n"
     ]
    },
    {
     "name": "stderr",
     "output_type": "stream",
     "text": [
      "/tmp/ipykernel_3734/3037979607.py:81: RuntimeWarning: EDF format requires equal-length data blocks, so 0.996 seconds of edge values were appended to all channels when writing the final block.\n",
      "  raw_crop.export(save_path, fmt=\"edf\", overwrite=True)\n",
      "/tmp/ipykernel_3734/3037979607.py:81: RuntimeWarning: EDF format requires equal-length data blocks, so 0.996 seconds of edge values were appended to all channels when writing the final block.\n",
      "  raw_crop.export(save_path, fmt=\"edf\", overwrite=True)\n",
      "/tmp/ipykernel_3734/3037979607.py:81: RuntimeWarning: EDF format requires equal-length data blocks, so 0.996 seconds of edge values were appended to all channels when writing the final block.\n",
      "  raw_crop.export(save_path, fmt=\"edf\", overwrite=True)\n",
      "/tmp/ipykernel_3734/3037979607.py:81: RuntimeWarning: EDF format requires equal-length data blocks, so 0.996 seconds of edge values were appended to all channels when writing the final block.\n",
      "  raw_crop.export(save_path, fmt=\"edf\", overwrite=True)\n",
      "/tmp/ipykernel_3734/3037979607.py:81: RuntimeWarning: EDF format requires equal-length data blocks, so 0.996 seconds of edge values were appended to all channels when writing the final block.\n",
      "  raw_crop.export(save_path, fmt=\"edf\", overwrite=True)\n"
     ]
    },
    {
     "name": "stdout",
     "output_type": "stream",
     "text": [
      "Normal segments saved for chb10_02.edf\n"
     ]
    },
    {
     "name": "stderr",
     "output_type": "stream",
     "text": [
      "/tmp/ipykernel_3734/3037979607.py:81: RuntimeWarning: EDF format requires equal-length data blocks, so 0.996 seconds of edge values were appended to all channels when writing the final block.\n",
      "  raw_crop.export(save_path, fmt=\"edf\", overwrite=True)\n",
      "/tmp/ipykernel_3734/3037979607.py:81: RuntimeWarning: EDF format requires equal-length data blocks, so 0.996 seconds of edge values were appended to all channels when writing the final block.\n",
      "  raw_crop.export(save_path, fmt=\"edf\", overwrite=True)\n",
      "/tmp/ipykernel_3734/3037979607.py:81: RuntimeWarning: EDF format requires equal-length data blocks, so 0.996 seconds of edge values were appended to all channels when writing the final block.\n",
      "  raw_crop.export(save_path, fmt=\"edf\", overwrite=True)\n",
      "/tmp/ipykernel_3734/3037979607.py:81: RuntimeWarning: EDF format requires equal-length data blocks, so 0.996 seconds of edge values were appended to all channels when writing the final block.\n",
      "  raw_crop.export(save_path, fmt=\"edf\", overwrite=True)\n",
      "/tmp/ipykernel_3734/3037979607.py:81: RuntimeWarning: EDF format requires equal-length data blocks, so 0.996 seconds of edge values were appended to all channels when writing the final block.\n",
      "  raw_crop.export(save_path, fmt=\"edf\", overwrite=True)\n"
     ]
    },
    {
     "name": "stdout",
     "output_type": "stream",
     "text": [
      "Normal segments saved for chb10_03.edf\n"
     ]
    },
    {
     "name": "stderr",
     "output_type": "stream",
     "text": [
      "/tmp/ipykernel_3734/3037979607.py:81: RuntimeWarning: EDF format requires equal-length data blocks, so 0.996 seconds of edge values were appended to all channels when writing the final block.\n",
      "  raw_crop.export(save_path, fmt=\"edf\", overwrite=True)\n",
      "/tmp/ipykernel_3734/3037979607.py:81: RuntimeWarning: EDF format requires equal-length data blocks, so 0.996 seconds of edge values were appended to all channels when writing the final block.\n",
      "  raw_crop.export(save_path, fmt=\"edf\", overwrite=True)\n",
      "/tmp/ipykernel_3734/3037979607.py:81: RuntimeWarning: EDF format requires equal-length data blocks, so 0.996 seconds of edge values were appended to all channels when writing the final block.\n",
      "  raw_crop.export(save_path, fmt=\"edf\", overwrite=True)\n",
      "/tmp/ipykernel_3734/3037979607.py:81: RuntimeWarning: EDF format requires equal-length data blocks, so 0.996 seconds of edge values were appended to all channels when writing the final block.\n",
      "  raw_crop.export(save_path, fmt=\"edf\", overwrite=True)\n",
      "/tmp/ipykernel_3734/3037979607.py:81: RuntimeWarning: EDF format requires equal-length data blocks, so 0.996 seconds of edge values were appended to all channels when writing the final block.\n",
      "  raw_crop.export(save_path, fmt=\"edf\", overwrite=True)\n"
     ]
    },
    {
     "name": "stdout",
     "output_type": "stream",
     "text": [
      "Normal segments saved for chb10_04.edf\n"
     ]
    },
    {
     "name": "stderr",
     "output_type": "stream",
     "text": [
      "/tmp/ipykernel_3734/3037979607.py:81: RuntimeWarning: EDF format requires equal-length data blocks, so 0.996 seconds of edge values were appended to all channels when writing the final block.\n",
      "  raw_crop.export(save_path, fmt=\"edf\", overwrite=True)\n",
      "/tmp/ipykernel_3734/3037979607.py:81: RuntimeWarning: EDF format requires equal-length data blocks, so 0.996 seconds of edge values were appended to all channels when writing the final block.\n",
      "  raw_crop.export(save_path, fmt=\"edf\", overwrite=True)\n",
      "/tmp/ipykernel_3734/3037979607.py:81: RuntimeWarning: EDF format requires equal-length data blocks, so 0.996 seconds of edge values were appended to all channels when writing the final block.\n",
      "  raw_crop.export(save_path, fmt=\"edf\", overwrite=True)\n",
      "/tmp/ipykernel_3734/3037979607.py:81: RuntimeWarning: EDF format requires equal-length data blocks, so 0.996 seconds of edge values were appended to all channels when writing the final block.\n",
      "  raw_crop.export(save_path, fmt=\"edf\", overwrite=True)\n",
      "/tmp/ipykernel_3734/3037979607.py:81: RuntimeWarning: EDF format requires equal-length data blocks, so 0.996 seconds of edge values were appended to all channels when writing the final block.\n",
      "  raw_crop.export(save_path, fmt=\"edf\", overwrite=True)\n"
     ]
    },
    {
     "name": "stdout",
     "output_type": "stream",
     "text": [
      "Normal segments saved for chb10_05.edf\n"
     ]
    },
    {
     "name": "stderr",
     "output_type": "stream",
     "text": [
      "/tmp/ipykernel_3734/3037979607.py:81: RuntimeWarning: EDF format requires equal-length data blocks, so 0.996 seconds of edge values were appended to all channels when writing the final block.\n",
      "  raw_crop.export(save_path, fmt=\"edf\", overwrite=True)\n",
      "/tmp/ipykernel_3734/3037979607.py:81: RuntimeWarning: EDF format requires equal-length data blocks, so 0.996 seconds of edge values were appended to all channels when writing the final block.\n",
      "  raw_crop.export(save_path, fmt=\"edf\", overwrite=True)\n",
      "/tmp/ipykernel_3734/3037979607.py:81: RuntimeWarning: EDF format requires equal-length data blocks, so 0.996 seconds of edge values were appended to all channels when writing the final block.\n",
      "  raw_crop.export(save_path, fmt=\"edf\", overwrite=True)\n",
      "/tmp/ipykernel_3734/3037979607.py:81: RuntimeWarning: EDF format requires equal-length data blocks, so 0.996 seconds of edge values were appended to all channels when writing the final block.\n",
      "  raw_crop.export(save_path, fmt=\"edf\", overwrite=True)\n",
      "/tmp/ipykernel_3734/3037979607.py:81: RuntimeWarning: EDF format requires equal-length data blocks, so 0.996 seconds of edge values were appended to all channels when writing the final block.\n",
      "  raw_crop.export(save_path, fmt=\"edf\", overwrite=True)\n"
     ]
    },
    {
     "name": "stdout",
     "output_type": "stream",
     "text": [
      "Normal segments saved for chb10_06.edf\n"
     ]
    },
    {
     "name": "stderr",
     "output_type": "stream",
     "text": [
      "/tmp/ipykernel_3734/3037979607.py:81: RuntimeWarning: EDF format requires equal-length data blocks, so 0.996 seconds of edge values were appended to all channels when writing the final block.\n",
      "  raw_crop.export(save_path, fmt=\"edf\", overwrite=True)\n",
      "/tmp/ipykernel_3734/3037979607.py:81: RuntimeWarning: EDF format requires equal-length data blocks, so 0.996 seconds of edge values were appended to all channels when writing the final block.\n",
      "  raw_crop.export(save_path, fmt=\"edf\", overwrite=True)\n",
      "/tmp/ipykernel_3734/3037979607.py:81: RuntimeWarning: EDF format requires equal-length data blocks, so 0.996 seconds of edge values were appended to all channels when writing the final block.\n",
      "  raw_crop.export(save_path, fmt=\"edf\", overwrite=True)\n",
      "/tmp/ipykernel_3734/3037979607.py:81: RuntimeWarning: EDF format requires equal-length data blocks, so 0.996 seconds of edge values were appended to all channels when writing the final block.\n",
      "  raw_crop.export(save_path, fmt=\"edf\", overwrite=True)\n",
      "/tmp/ipykernel_3734/3037979607.py:81: RuntimeWarning: EDF format requires equal-length data blocks, so 0.996 seconds of edge values were appended to all channels when writing the final block.\n",
      "  raw_crop.export(save_path, fmt=\"edf\", overwrite=True)\n"
     ]
    },
    {
     "name": "stdout",
     "output_type": "stream",
     "text": [
      "Normal segments saved for chb10_07.edf\n"
     ]
    },
    {
     "name": "stderr",
     "output_type": "stream",
     "text": [
      "/tmp/ipykernel_3734/3037979607.py:81: RuntimeWarning: EDF format requires equal-length data blocks, so 0.996 seconds of edge values were appended to all channels when writing the final block.\n",
      "  raw_crop.export(save_path, fmt=\"edf\", overwrite=True)\n",
      "/tmp/ipykernel_3734/3037979607.py:81: RuntimeWarning: EDF format requires equal-length data blocks, so 0.996 seconds of edge values were appended to all channels when writing the final block.\n",
      "  raw_crop.export(save_path, fmt=\"edf\", overwrite=True)\n",
      "/tmp/ipykernel_3734/3037979607.py:81: RuntimeWarning: EDF format requires equal-length data blocks, so 0.996 seconds of edge values were appended to all channels when writing the final block.\n",
      "  raw_crop.export(save_path, fmt=\"edf\", overwrite=True)\n",
      "/tmp/ipykernel_3734/3037979607.py:81: RuntimeWarning: EDF format requires equal-length data blocks, so 0.996 seconds of edge values were appended to all channels when writing the final block.\n",
      "  raw_crop.export(save_path, fmt=\"edf\", overwrite=True)\n",
      "/tmp/ipykernel_3734/3037979607.py:81: RuntimeWarning: EDF format requires equal-length data blocks, so 0.996 seconds of edge values were appended to all channels when writing the final block.\n",
      "  raw_crop.export(save_path, fmt=\"edf\", overwrite=True)\n"
     ]
    },
    {
     "name": "stdout",
     "output_type": "stream",
     "text": [
      "Normal segments saved for chb10_08.edf\n",
      "  → saved: chb10_12_seizure_1.edf\n"
     ]
    },
    {
     "name": "stderr",
     "output_type": "stream",
     "text": [
      "/tmp/ipykernel_3734/3037979607.py:52: RuntimeWarning: EDF format requires equal-length data blocks, so 0.996 seconds of edge values were appended to all channels when writing the final block.\n",
      "  segment.export(save_path, fmt='edf')\n",
      "/tmp/ipykernel_3734/3037979607.py:81: RuntimeWarning: EDF format requires equal-length data blocks, so 0.996 seconds of edge values were appended to all channels when writing the final block.\n",
      "  raw_crop.export(save_path, fmt=\"edf\", overwrite=True)\n",
      "/tmp/ipykernel_3734/3037979607.py:81: RuntimeWarning: EDF format requires equal-length data blocks, so 0.996 seconds of edge values were appended to all channels when writing the final block.\n",
      "  raw_crop.export(save_path, fmt=\"edf\", overwrite=True)\n",
      "/tmp/ipykernel_3734/3037979607.py:81: RuntimeWarning: EDF format requires equal-length data blocks, so 0.996 seconds of edge values were appended to all channels when writing the final block.\n",
      "  raw_crop.export(save_path, fmt=\"edf\", overwrite=True)\n",
      "/tmp/ipykernel_3734/3037979607.py:81: RuntimeWarning: EDF format requires equal-length data blocks, so 0.996 seconds of edge values were appended to all channels when writing the final block.\n",
      "  raw_crop.export(save_path, fmt=\"edf\", overwrite=True)\n",
      "/tmp/ipykernel_3734/3037979607.py:81: RuntimeWarning: EDF format requires equal-length data blocks, so 0.996 seconds of edge values were appended to all channels when writing the final block.\n",
      "  raw_crop.export(save_path, fmt=\"edf\", overwrite=True)\n"
     ]
    },
    {
     "name": "stdout",
     "output_type": "stream",
     "text": [
      "Normal segments saved for chb10_13.edf\n"
     ]
    },
    {
     "name": "stderr",
     "output_type": "stream",
     "text": [
      "/tmp/ipykernel_3734/3037979607.py:81: RuntimeWarning: EDF format requires equal-length data blocks, so 0.996 seconds of edge values were appended to all channels when writing the final block.\n",
      "  raw_crop.export(save_path, fmt=\"edf\", overwrite=True)\n",
      "/tmp/ipykernel_3734/3037979607.py:81: RuntimeWarning: EDF format requires equal-length data blocks, so 0.996 seconds of edge values were appended to all channels when writing the final block.\n",
      "  raw_crop.export(save_path, fmt=\"edf\", overwrite=True)\n",
      "/tmp/ipykernel_3734/3037979607.py:81: RuntimeWarning: EDF format requires equal-length data blocks, so 0.996 seconds of edge values were appended to all channels when writing the final block.\n",
      "  raw_crop.export(save_path, fmt=\"edf\", overwrite=True)\n",
      "/tmp/ipykernel_3734/3037979607.py:81: RuntimeWarning: EDF format requires equal-length data blocks, so 0.996 seconds of edge values were appended to all channels when writing the final block.\n",
      "  raw_crop.export(save_path, fmt=\"edf\", overwrite=True)\n",
      "/tmp/ipykernel_3734/3037979607.py:81: RuntimeWarning: EDF format requires equal-length data blocks, so 0.996 seconds of edge values were appended to all channels when writing the final block.\n",
      "  raw_crop.export(save_path, fmt=\"edf\", overwrite=True)\n"
     ]
    },
    {
     "name": "stdout",
     "output_type": "stream",
     "text": [
      "Normal segments saved for chb10_14.edf\n"
     ]
    },
    {
     "name": "stderr",
     "output_type": "stream",
     "text": [
      "/tmp/ipykernel_3734/3037979607.py:81: RuntimeWarning: EDF format requires equal-length data blocks, so 0.996 seconds of edge values were appended to all channels when writing the final block.\n",
      "  raw_crop.export(save_path, fmt=\"edf\", overwrite=True)\n",
      "/tmp/ipykernel_3734/3037979607.py:81: RuntimeWarning: EDF format requires equal-length data blocks, so 0.996 seconds of edge values were appended to all channels when writing the final block.\n",
      "  raw_crop.export(save_path, fmt=\"edf\", overwrite=True)\n",
      "/tmp/ipykernel_3734/3037979607.py:81: RuntimeWarning: EDF format requires equal-length data blocks, so 0.996 seconds of edge values were appended to all channels when writing the final block.\n",
      "  raw_crop.export(save_path, fmt=\"edf\", overwrite=True)\n",
      "/tmp/ipykernel_3734/3037979607.py:81: RuntimeWarning: EDF format requires equal-length data blocks, so 0.996 seconds of edge values were appended to all channels when writing the final block.\n",
      "  raw_crop.export(save_path, fmt=\"edf\", overwrite=True)\n",
      "/tmp/ipykernel_3734/3037979607.py:81: RuntimeWarning: EDF format requires equal-length data blocks, so 0.996 seconds of edge values were appended to all channels when writing the final block.\n",
      "  raw_crop.export(save_path, fmt=\"edf\", overwrite=True)\n"
     ]
    },
    {
     "name": "stdout",
     "output_type": "stream",
     "text": [
      "Normal segments saved for chb10_15.edf\n"
     ]
    },
    {
     "name": "stderr",
     "output_type": "stream",
     "text": [
      "/tmp/ipykernel_3734/3037979607.py:81: RuntimeWarning: EDF format requires equal-length data blocks, so 0.996 seconds of edge values were appended to all channels when writing the final block.\n",
      "  raw_crop.export(save_path, fmt=\"edf\", overwrite=True)\n",
      "/tmp/ipykernel_3734/3037979607.py:81: RuntimeWarning: EDF format requires equal-length data blocks, so 0.996 seconds of edge values were appended to all channels when writing the final block.\n",
      "  raw_crop.export(save_path, fmt=\"edf\", overwrite=True)\n",
      "/tmp/ipykernel_3734/3037979607.py:81: RuntimeWarning: EDF format requires equal-length data blocks, so 0.996 seconds of edge values were appended to all channels when writing the final block.\n",
      "  raw_crop.export(save_path, fmt=\"edf\", overwrite=True)\n",
      "/tmp/ipykernel_3734/3037979607.py:81: RuntimeWarning: EDF format requires equal-length data blocks, so 0.996 seconds of edge values were appended to all channels when writing the final block.\n",
      "  raw_crop.export(save_path, fmt=\"edf\", overwrite=True)\n",
      "/tmp/ipykernel_3734/3037979607.py:81: RuntimeWarning: EDF format requires equal-length data blocks, so 0.996 seconds of edge values were appended to all channels when writing the final block.\n",
      "  raw_crop.export(save_path, fmt=\"edf\", overwrite=True)\n"
     ]
    },
    {
     "name": "stdout",
     "output_type": "stream",
     "text": [
      "Normal segments saved for chb10_16.edf\n"
     ]
    },
    {
     "name": "stderr",
     "output_type": "stream",
     "text": [
      "/tmp/ipykernel_3734/3037979607.py:81: RuntimeWarning: EDF format requires equal-length data blocks, so 0.996 seconds of edge values were appended to all channels when writing the final block.\n",
      "  raw_crop.export(save_path, fmt=\"edf\", overwrite=True)\n",
      "/tmp/ipykernel_3734/3037979607.py:81: RuntimeWarning: EDF format requires equal-length data blocks, so 0.996 seconds of edge values were appended to all channels when writing the final block.\n",
      "  raw_crop.export(save_path, fmt=\"edf\", overwrite=True)\n",
      "/tmp/ipykernel_3734/3037979607.py:81: RuntimeWarning: EDF format requires equal-length data blocks, so 0.996 seconds of edge values were appended to all channels when writing the final block.\n",
      "  raw_crop.export(save_path, fmt=\"edf\", overwrite=True)\n",
      "/tmp/ipykernel_3734/3037979607.py:81: RuntimeWarning: EDF format requires equal-length data blocks, so 0.996 seconds of edge values were appended to all channels when writing the final block.\n",
      "  raw_crop.export(save_path, fmt=\"edf\", overwrite=True)\n",
      "/tmp/ipykernel_3734/3037979607.py:81: RuntimeWarning: EDF format requires equal-length data blocks, so 0.996 seconds of edge values were appended to all channels when writing the final block.\n",
      "  raw_crop.export(save_path, fmt=\"edf\", overwrite=True)\n"
     ]
    },
    {
     "name": "stdout",
     "output_type": "stream",
     "text": [
      "Normal segments saved for chb10_17.edf\n"
     ]
    },
    {
     "name": "stderr",
     "output_type": "stream",
     "text": [
      "/tmp/ipykernel_3734/3037979607.py:81: RuntimeWarning: EDF format requires equal-length data blocks, so 0.996 seconds of edge values were appended to all channels when writing the final block.\n",
      "  raw_crop.export(save_path, fmt=\"edf\", overwrite=True)\n",
      "/tmp/ipykernel_3734/3037979607.py:81: RuntimeWarning: EDF format requires equal-length data blocks, so 0.996 seconds of edge values were appended to all channels when writing the final block.\n",
      "  raw_crop.export(save_path, fmt=\"edf\", overwrite=True)\n",
      "/tmp/ipykernel_3734/3037979607.py:81: RuntimeWarning: EDF format requires equal-length data blocks, so 0.996 seconds of edge values were appended to all channels when writing the final block.\n",
      "  raw_crop.export(save_path, fmt=\"edf\", overwrite=True)\n",
      "/tmp/ipykernel_3734/3037979607.py:81: RuntimeWarning: EDF format requires equal-length data blocks, so 0.996 seconds of edge values were appended to all channels when writing the final block.\n",
      "  raw_crop.export(save_path, fmt=\"edf\", overwrite=True)\n",
      "/tmp/ipykernel_3734/3037979607.py:81: RuntimeWarning: EDF format requires equal-length data blocks, so 0.996 seconds of edge values were appended to all channels when writing the final block.\n",
      "  raw_crop.export(save_path, fmt=\"edf\", overwrite=True)\n"
     ]
    },
    {
     "name": "stdout",
     "output_type": "stream",
     "text": [
      "Normal segments saved for chb10_18.edf\n"
     ]
    },
    {
     "name": "stderr",
     "output_type": "stream",
     "text": [
      "/tmp/ipykernel_3734/3037979607.py:81: RuntimeWarning: EDF format requires equal-length data blocks, so 0.996 seconds of edge values were appended to all channels when writing the final block.\n",
      "  raw_crop.export(save_path, fmt=\"edf\", overwrite=True)\n",
      "/tmp/ipykernel_3734/3037979607.py:81: RuntimeWarning: EDF format requires equal-length data blocks, so 0.996 seconds of edge values were appended to all channels when writing the final block.\n",
      "  raw_crop.export(save_path, fmt=\"edf\", overwrite=True)\n",
      "/tmp/ipykernel_3734/3037979607.py:81: RuntimeWarning: EDF format requires equal-length data blocks, so 0.996 seconds of edge values were appended to all channels when writing the final block.\n",
      "  raw_crop.export(save_path, fmt=\"edf\", overwrite=True)\n",
      "/tmp/ipykernel_3734/3037979607.py:81: RuntimeWarning: EDF format requires equal-length data blocks, so 0.996 seconds of edge values were appended to all channels when writing the final block.\n",
      "  raw_crop.export(save_path, fmt=\"edf\", overwrite=True)\n",
      "/tmp/ipykernel_3734/3037979607.py:81: RuntimeWarning: EDF format requires equal-length data blocks, so 0.996 seconds of edge values were appended to all channels when writing the final block.\n",
      "  raw_crop.export(save_path, fmt=\"edf\", overwrite=True)\n"
     ]
    },
    {
     "name": "stdout",
     "output_type": "stream",
     "text": [
      "Normal segments saved for chb10_19.edf\n",
      "  → saved: chb10_20_seizure_1.edf\n"
     ]
    },
    {
     "name": "stderr",
     "output_type": "stream",
     "text": [
      "/tmp/ipykernel_3734/3037979607.py:52: RuntimeWarning: EDF format requires equal-length data blocks, so 0.996 seconds of edge values were appended to all channels when writing the final block.\n",
      "  segment.export(save_path, fmt='edf')\n",
      "/tmp/ipykernel_3734/3037979607.py:81: RuntimeWarning: EDF format requires equal-length data blocks, so 0.996 seconds of edge values were appended to all channels when writing the final block.\n",
      "  raw_crop.export(save_path, fmt=\"edf\", overwrite=True)\n",
      "/tmp/ipykernel_3734/3037979607.py:81: RuntimeWarning: EDF format requires equal-length data blocks, so 0.996 seconds of edge values were appended to all channels when writing the final block.\n",
      "  raw_crop.export(save_path, fmt=\"edf\", overwrite=True)\n",
      "/tmp/ipykernel_3734/3037979607.py:81: RuntimeWarning: EDF format requires equal-length data blocks, so 0.996 seconds of edge values were appended to all channels when writing the final block.\n",
      "  raw_crop.export(save_path, fmt=\"edf\", overwrite=True)\n",
      "/tmp/ipykernel_3734/3037979607.py:81: RuntimeWarning: EDF format requires equal-length data blocks, so 0.996 seconds of edge values were appended to all channels when writing the final block.\n",
      "  raw_crop.export(save_path, fmt=\"edf\", overwrite=True)\n",
      "/tmp/ipykernel_3734/3037979607.py:81: RuntimeWarning: EDF format requires equal-length data blocks, so 0.996 seconds of edge values were appended to all channels when writing the final block.\n",
      "  raw_crop.export(save_path, fmt=\"edf\", overwrite=True)\n"
     ]
    },
    {
     "name": "stdout",
     "output_type": "stream",
     "text": [
      "Normal segments saved for chb10_21.edf\n"
     ]
    },
    {
     "name": "stderr",
     "output_type": "stream",
     "text": [
      "/tmp/ipykernel_3734/3037979607.py:81: RuntimeWarning: EDF format requires equal-length data blocks, so 0.996 seconds of edge values were appended to all channels when writing the final block.\n",
      "  raw_crop.export(save_path, fmt=\"edf\", overwrite=True)\n",
      "/tmp/ipykernel_3734/3037979607.py:81: RuntimeWarning: EDF format requires equal-length data blocks, so 0.996 seconds of edge values were appended to all channels when writing the final block.\n",
      "  raw_crop.export(save_path, fmt=\"edf\", overwrite=True)\n",
      "/tmp/ipykernel_3734/3037979607.py:81: RuntimeWarning: EDF format requires equal-length data blocks, so 0.996 seconds of edge values were appended to all channels when writing the final block.\n",
      "  raw_crop.export(save_path, fmt=\"edf\", overwrite=True)\n",
      "/tmp/ipykernel_3734/3037979607.py:81: RuntimeWarning: EDF format requires equal-length data blocks, so 0.996 seconds of edge values were appended to all channels when writing the final block.\n",
      "  raw_crop.export(save_path, fmt=\"edf\", overwrite=True)\n",
      "/tmp/ipykernel_3734/3037979607.py:81: RuntimeWarning: EDF format requires equal-length data blocks, so 0.996 seconds of edge values were appended to all channels when writing the final block.\n",
      "  raw_crop.export(save_path, fmt=\"edf\", overwrite=True)\n"
     ]
    },
    {
     "name": "stdout",
     "output_type": "stream",
     "text": [
      "Normal segments saved for chb10_22.edf\n",
      "  → saved: chb10_27_seizure_1.edf\n"
     ]
    },
    {
     "name": "stderr",
     "output_type": "stream",
     "text": [
      "/tmp/ipykernel_3734/3037979607.py:52: RuntimeWarning: EDF format requires equal-length data blocks, so 0.996 seconds of edge values were appended to all channels when writing the final block.\n",
      "  segment.export(save_path, fmt='edf')\n",
      "/tmp/ipykernel_3734/3037979607.py:81: RuntimeWarning: EDF format requires equal-length data blocks, so 0.996 seconds of edge values were appended to all channels when writing the final block.\n",
      "  raw_crop.export(save_path, fmt=\"edf\", overwrite=True)\n",
      "/tmp/ipykernel_3734/3037979607.py:81: RuntimeWarning: EDF format requires equal-length data blocks, so 0.996 seconds of edge values were appended to all channels when writing the final block.\n",
      "  raw_crop.export(save_path, fmt=\"edf\", overwrite=True)\n",
      "/tmp/ipykernel_3734/3037979607.py:81: RuntimeWarning: EDF format requires equal-length data blocks, so 0.996 seconds of edge values were appended to all channels when writing the final block.\n",
      "  raw_crop.export(save_path, fmt=\"edf\", overwrite=True)\n",
      "/tmp/ipykernel_3734/3037979607.py:81: RuntimeWarning: EDF format requires equal-length data blocks, so 0.996 seconds of edge values were appended to all channels when writing the final block.\n",
      "  raw_crop.export(save_path, fmt=\"edf\", overwrite=True)\n",
      "/tmp/ipykernel_3734/3037979607.py:81: RuntimeWarning: EDF format requires equal-length data blocks, so 0.996 seconds of edge values were appended to all channels when writing the final block.\n",
      "  raw_crop.export(save_path, fmt=\"edf\", overwrite=True)\n"
     ]
    },
    {
     "name": "stdout",
     "output_type": "stream",
     "text": [
      "Normal segments saved for chb10_28.edf\n",
      "  → saved: chb10_30_seizure_1.edf\n"
     ]
    },
    {
     "name": "stderr",
     "output_type": "stream",
     "text": [
      "/tmp/ipykernel_3734/3037979607.py:52: RuntimeWarning: EDF format requires equal-length data blocks, so 0.996 seconds of edge values were appended to all channels when writing the final block.\n",
      "  segment.export(save_path, fmt='edf')\n",
      "/tmp/ipykernel_3734/3037979607.py:52: RuntimeWarning: EDF format requires equal-length data blocks, so 0.996 seconds of edge values were appended to all channels when writing the final block.\n",
      "  segment.export(save_path, fmt='edf')\n"
     ]
    },
    {
     "name": "stdout",
     "output_type": "stream",
     "text": [
      "  → saved: chb10_31_seizure_1.edf\n",
      "  → saved: chb10_38_seizure_1.edf\n"
     ]
    },
    {
     "name": "stderr",
     "output_type": "stream",
     "text": [
      "/tmp/ipykernel_3734/3037979607.py:52: RuntimeWarning: EDF format requires equal-length data blocks, so 0.996 seconds of edge values were appended to all channels when writing the final block.\n",
      "  segment.export(save_path, fmt='edf')\n",
      "/tmp/ipykernel_3734/3037979607.py:52: RuntimeWarning: EDF format requires equal-length data blocks, so 0.996 seconds of edge values were appended to all channels when writing the final block.\n",
      "  segment.export(save_path, fmt='edf')\n"
     ]
    },
    {
     "name": "stdout",
     "output_type": "stream",
     "text": [
      "  → saved: chb10_89_seizure_1.edf\n"
     ]
    },
    {
     "name": "stderr",
     "output_type": "stream",
     "text": [
      "/tmp/ipykernel_3734/3037979607.py:52: RuntimeWarning: EDF format requires equal-length data blocks, so 0.996 seconds of edge values were appended to all channels when writing the final block.\n",
      "  segment.export(save_path, fmt='edf')\n",
      "/tmp/ipykernel_3734/3037979607.py:52: RuntimeWarning: EDF format requires equal-length data blocks, so 0.996 seconds of edge values were appended to all channels when writing the final block.\n",
      "  segment.export(save_path, fmt='edf')\n",
      "/tmp/ipykernel_3734/3037979607.py:52: RuntimeWarning: EDF format requires equal-length data blocks, so 0.996 seconds of edge values were appended to all channels when writing the final block.\n",
      "  segment.export(save_path, fmt='edf')\n"
     ]
    },
    {
     "name": "stdout",
     "output_type": "stream",
     "text": [
      "  → saved: chb06_01_seizure_1.edf\n",
      "  → saved: chb06_01_seizure_2.edf\n",
      "  → saved: chb06_01_seizure_3.edf\n"
     ]
    },
    {
     "name": "stderr",
     "output_type": "stream",
     "text": [
      "/tmp/ipykernel_3734/3037979607.py:81: RuntimeWarning: EDF format requires equal-length data blocks, so 0.996 seconds of edge values were appended to all channels when writing the final block.\n",
      "  raw_crop.export(save_path, fmt=\"edf\", overwrite=True)\n",
      "/tmp/ipykernel_3734/3037979607.py:81: RuntimeWarning: EDF format requires equal-length data blocks, so 0.996 seconds of edge values were appended to all channels when writing the final block.\n",
      "  raw_crop.export(save_path, fmt=\"edf\", overwrite=True)\n",
      "/tmp/ipykernel_3734/3037979607.py:81: RuntimeWarning: EDF format requires equal-length data blocks, so 0.996 seconds of edge values were appended to all channels when writing the final block.\n",
      "  raw_crop.export(save_path, fmt=\"edf\", overwrite=True)\n",
      "/tmp/ipykernel_3734/3037979607.py:81: RuntimeWarning: EDF format requires equal-length data blocks, so 0.996 seconds of edge values were appended to all channels when writing the final block.\n",
      "  raw_crop.export(save_path, fmt=\"edf\", overwrite=True)\n",
      "/tmp/ipykernel_3734/3037979607.py:81: RuntimeWarning: EDF format requires equal-length data blocks, so 0.996 seconds of edge values were appended to all channels when writing the final block.\n",
      "  raw_crop.export(save_path, fmt=\"edf\", overwrite=True)\n"
     ]
    },
    {
     "name": "stdout",
     "output_type": "stream",
     "text": [
      "Normal segments saved for chb06_02.edf\n"
     ]
    },
    {
     "name": "stderr",
     "output_type": "stream",
     "text": [
      "/tmp/ipykernel_3734/3037979607.py:81: RuntimeWarning: EDF format requires equal-length data blocks, so 0.996 seconds of edge values were appended to all channels when writing the final block.\n",
      "  raw_crop.export(save_path, fmt=\"edf\", overwrite=True)\n",
      "/tmp/ipykernel_3734/3037979607.py:81: RuntimeWarning: EDF format requires equal-length data blocks, so 0.996 seconds of edge values were appended to all channels when writing the final block.\n",
      "  raw_crop.export(save_path, fmt=\"edf\", overwrite=True)\n",
      "/tmp/ipykernel_3734/3037979607.py:81: RuntimeWarning: EDF format requires equal-length data blocks, so 0.996 seconds of edge values were appended to all channels when writing the final block.\n",
      "  raw_crop.export(save_path, fmt=\"edf\", overwrite=True)\n",
      "/tmp/ipykernel_3734/3037979607.py:81: RuntimeWarning: EDF format requires equal-length data blocks, so 0.996 seconds of edge values were appended to all channels when writing the final block.\n",
      "  raw_crop.export(save_path, fmt=\"edf\", overwrite=True)\n",
      "/tmp/ipykernel_3734/3037979607.py:81: RuntimeWarning: EDF format requires equal-length data blocks, so 0.996 seconds of edge values were appended to all channels when writing the final block.\n",
      "  raw_crop.export(save_path, fmt=\"edf\", overwrite=True)\n"
     ]
    },
    {
     "name": "stdout",
     "output_type": "stream",
     "text": [
      "Normal segments saved for chb06_03.edf\n"
     ]
    },
    {
     "name": "stderr",
     "output_type": "stream",
     "text": [
      "/tmp/ipykernel_3734/3037979607.py:52: RuntimeWarning: EDF format requires equal-length data blocks, so 0.996 seconds of edge values were appended to all channels when writing the final block.\n",
      "  segment.export(save_path, fmt='edf')\n",
      "/tmp/ipykernel_3734/3037979607.py:52: RuntimeWarning: EDF format requires equal-length data blocks, so 0.996 seconds of edge values were appended to all channels when writing the final block.\n",
      "  segment.export(save_path, fmt='edf')\n"
     ]
    },
    {
     "name": "stdout",
     "output_type": "stream",
     "text": [
      "  → saved: chb06_04_seizure_1.edf\n",
      "  → saved: chb06_04_seizure_2.edf\n"
     ]
    },
    {
     "name": "stderr",
     "output_type": "stream",
     "text": [
      "/tmp/ipykernel_3734/3037979607.py:81: RuntimeWarning: EDF format requires equal-length data blocks, so 0.996 seconds of edge values were appended to all channels when writing the final block.\n",
      "  raw_crop.export(save_path, fmt=\"edf\", overwrite=True)\n",
      "/tmp/ipykernel_3734/3037979607.py:81: RuntimeWarning: EDF format requires equal-length data blocks, so 0.996 seconds of edge values were appended to all channels when writing the final block.\n",
      "  raw_crop.export(save_path, fmt=\"edf\", overwrite=True)\n",
      "/tmp/ipykernel_3734/3037979607.py:81: RuntimeWarning: EDF format requires equal-length data blocks, so 0.996 seconds of edge values were appended to all channels when writing the final block.\n",
      "  raw_crop.export(save_path, fmt=\"edf\", overwrite=True)\n",
      "/tmp/ipykernel_3734/3037979607.py:81: RuntimeWarning: EDF format requires equal-length data blocks, so 0.996 seconds of edge values were appended to all channels when writing the final block.\n",
      "  raw_crop.export(save_path, fmt=\"edf\", overwrite=True)\n",
      "/tmp/ipykernel_3734/3037979607.py:81: RuntimeWarning: EDF format requires equal-length data blocks, so 0.996 seconds of edge values were appended to all channels when writing the final block.\n",
      "  raw_crop.export(save_path, fmt=\"edf\", overwrite=True)\n"
     ]
    },
    {
     "name": "stdout",
     "output_type": "stream",
     "text": [
      "Normal segments saved for chb06_05.edf\n"
     ]
    },
    {
     "name": "stderr",
     "output_type": "stream",
     "text": [
      "/tmp/ipykernel_3734/3037979607.py:81: RuntimeWarning: EDF format requires equal-length data blocks, so 0.996 seconds of edge values were appended to all channels when writing the final block.\n",
      "  raw_crop.export(save_path, fmt=\"edf\", overwrite=True)\n",
      "/tmp/ipykernel_3734/3037979607.py:81: RuntimeWarning: EDF format requires equal-length data blocks, so 0.996 seconds of edge values were appended to all channels when writing the final block.\n",
      "  raw_crop.export(save_path, fmt=\"edf\", overwrite=True)\n",
      "/tmp/ipykernel_3734/3037979607.py:81: RuntimeWarning: EDF format requires equal-length data blocks, so 0.996 seconds of edge values were appended to all channels when writing the final block.\n",
      "  raw_crop.export(save_path, fmt=\"edf\", overwrite=True)\n",
      "/tmp/ipykernel_3734/3037979607.py:81: RuntimeWarning: EDF format requires equal-length data blocks, so 0.996 seconds of edge values were appended to all channels when writing the final block.\n",
      "  raw_crop.export(save_path, fmt=\"edf\", overwrite=True)\n",
      "/tmp/ipykernel_3734/3037979607.py:81: RuntimeWarning: EDF format requires equal-length data blocks, so 0.996 seconds of edge values were appended to all channels when writing the final block.\n",
      "  raw_crop.export(save_path, fmt=\"edf\", overwrite=True)\n"
     ]
    },
    {
     "name": "stdout",
     "output_type": "stream",
     "text": [
      "Normal segments saved for chb06_06.edf\n"
     ]
    },
    {
     "name": "stderr",
     "output_type": "stream",
     "text": [
      "/tmp/ipykernel_3734/3037979607.py:81: RuntimeWarning: EDF format requires equal-length data blocks, so 0.996 seconds of edge values were appended to all channels when writing the final block.\n",
      "  raw_crop.export(save_path, fmt=\"edf\", overwrite=True)\n",
      "/tmp/ipykernel_3734/3037979607.py:81: RuntimeWarning: EDF format requires equal-length data blocks, so 0.996 seconds of edge values were appended to all channels when writing the final block.\n",
      "  raw_crop.export(save_path, fmt=\"edf\", overwrite=True)\n",
      "/tmp/ipykernel_3734/3037979607.py:81: RuntimeWarning: EDF format requires equal-length data blocks, so 0.996 seconds of edge values were appended to all channels when writing the final block.\n",
      "  raw_crop.export(save_path, fmt=\"edf\", overwrite=True)\n",
      "/tmp/ipykernel_3734/3037979607.py:81: RuntimeWarning: EDF format requires equal-length data blocks, so 0.996 seconds of edge values were appended to all channels when writing the final block.\n",
      "  raw_crop.export(save_path, fmt=\"edf\", overwrite=True)\n",
      "/tmp/ipykernel_3734/3037979607.py:81: RuntimeWarning: EDF format requires equal-length data blocks, so 0.996 seconds of edge values were appended to all channels when writing the final block.\n",
      "  raw_crop.export(save_path, fmt=\"edf\", overwrite=True)\n"
     ]
    },
    {
     "name": "stdout",
     "output_type": "stream",
     "text": [
      "Normal segments saved for chb06_07.edf\n"
     ]
    },
    {
     "name": "stderr",
     "output_type": "stream",
     "text": [
      "/tmp/ipykernel_3734/3037979607.py:81: RuntimeWarning: EDF format requires equal-length data blocks, so 0.996 seconds of edge values were appended to all channels when writing the final block.\n",
      "  raw_crop.export(save_path, fmt=\"edf\", overwrite=True)\n",
      "/tmp/ipykernel_3734/3037979607.py:81: RuntimeWarning: EDF format requires equal-length data blocks, so 0.996 seconds of edge values were appended to all channels when writing the final block.\n",
      "  raw_crop.export(save_path, fmt=\"edf\", overwrite=True)\n",
      "/tmp/ipykernel_3734/3037979607.py:81: RuntimeWarning: EDF format requires equal-length data blocks, so 0.996 seconds of edge values were appended to all channels when writing the final block.\n",
      "  raw_crop.export(save_path, fmt=\"edf\", overwrite=True)\n",
      "/tmp/ipykernel_3734/3037979607.py:81: RuntimeWarning: EDF format requires equal-length data blocks, so 0.996 seconds of edge values were appended to all channels when writing the final block.\n",
      "  raw_crop.export(save_path, fmt=\"edf\", overwrite=True)\n",
      "/tmp/ipykernel_3734/3037979607.py:81: RuntimeWarning: EDF format requires equal-length data blocks, so 0.996 seconds of edge values were appended to all channels when writing the final block.\n",
      "  raw_crop.export(save_path, fmt=\"edf\", overwrite=True)\n"
     ]
    },
    {
     "name": "stdout",
     "output_type": "stream",
     "text": [
      "Normal segments saved for chb06_08.edf\n"
     ]
    },
    {
     "name": "stderr",
     "output_type": "stream",
     "text": [
      "/tmp/ipykernel_3734/3037979607.py:52: RuntimeWarning: EDF format requires equal-length data blocks, so 0.996 seconds of edge values were appended to all channels when writing the final block.\n",
      "  segment.export(save_path, fmt='edf')\n"
     ]
    },
    {
     "name": "stdout",
     "output_type": "stream",
     "text": [
      "  → saved: chb06_09_seizure_1.edf\n"
     ]
    },
    {
     "name": "stderr",
     "output_type": "stream",
     "text": [
      "/tmp/ipykernel_3734/3037979607.py:52: RuntimeWarning: EDF format requires equal-length data blocks, so 0.996 seconds of edge values were appended to all channels when writing the final block.\n",
      "  segment.export(save_path, fmt='edf')\n"
     ]
    },
    {
     "name": "stdout",
     "output_type": "stream",
     "text": [
      "  → saved: chb06_10_seizure_1.edf\n"
     ]
    },
    {
     "name": "stderr",
     "output_type": "stream",
     "text": [
      "/tmp/ipykernel_3734/3037979607.py:81: RuntimeWarning: EDF format requires equal-length data blocks, so 0.996 seconds of edge values were appended to all channels when writing the final block.\n",
      "  raw_crop.export(save_path, fmt=\"edf\", overwrite=True)\n",
      "/tmp/ipykernel_3734/3037979607.py:81: RuntimeWarning: EDF format requires equal-length data blocks, so 0.996 seconds of edge values were appended to all channels when writing the final block.\n",
      "  raw_crop.export(save_path, fmt=\"edf\", overwrite=True)\n",
      "/tmp/ipykernel_3734/3037979607.py:81: RuntimeWarning: EDF format requires equal-length data blocks, so 0.996 seconds of edge values were appended to all channels when writing the final block.\n",
      "  raw_crop.export(save_path, fmt=\"edf\", overwrite=True)\n",
      "/tmp/ipykernel_3734/3037979607.py:81: RuntimeWarning: EDF format requires equal-length data blocks, so 0.996 seconds of edge values were appended to all channels when writing the final block.\n",
      "  raw_crop.export(save_path, fmt=\"edf\", overwrite=True)\n",
      "/tmp/ipykernel_3734/3037979607.py:81: RuntimeWarning: EDF format requires equal-length data blocks, so 0.996 seconds of edge values were appended to all channels when writing the final block.\n",
      "  raw_crop.export(save_path, fmt=\"edf\", overwrite=True)\n"
     ]
    },
    {
     "name": "stdout",
     "output_type": "stream",
     "text": [
      "Normal segments saved for chb06_12.edf\n"
     ]
    },
    {
     "name": "stderr",
     "output_type": "stream",
     "text": [
      "/tmp/ipykernel_3734/3037979607.py:52: RuntimeWarning: EDF format requires equal-length data blocks, so 0.996 seconds of edge values were appended to all channels when writing the final block.\n",
      "  segment.export(save_path, fmt='edf')\n"
     ]
    },
    {
     "name": "stdout",
     "output_type": "stream",
     "text": [
      "  → saved: chb06_13_seizure_1.edf\n"
     ]
    },
    {
     "name": "stderr",
     "output_type": "stream",
     "text": [
      "/tmp/ipykernel_3734/3037979607.py:81: RuntimeWarning: EDF format requires equal-length data blocks, so 0.996 seconds of edge values were appended to all channels when writing the final block.\n",
      "  raw_crop.export(save_path, fmt=\"edf\", overwrite=True)\n",
      "/tmp/ipykernel_3734/3037979607.py:81: RuntimeWarning: EDF format requires equal-length data blocks, so 0.996 seconds of edge values were appended to all channels when writing the final block.\n",
      "  raw_crop.export(save_path, fmt=\"edf\", overwrite=True)\n",
      "/tmp/ipykernel_3734/3037979607.py:81: RuntimeWarning: EDF format requires equal-length data blocks, so 0.996 seconds of edge values were appended to all channels when writing the final block.\n",
      "  raw_crop.export(save_path, fmt=\"edf\", overwrite=True)\n",
      "/tmp/ipykernel_3734/3037979607.py:81: RuntimeWarning: EDF format requires equal-length data blocks, so 0.996 seconds of edge values were appended to all channels when writing the final block.\n",
      "  raw_crop.export(save_path, fmt=\"edf\", overwrite=True)\n",
      "/tmp/ipykernel_3734/3037979607.py:81: RuntimeWarning: EDF format requires equal-length data blocks, so 0.996 seconds of edge values were appended to all channels when writing the final block.\n",
      "  raw_crop.export(save_path, fmt=\"edf\", overwrite=True)\n"
     ]
    },
    {
     "name": "stdout",
     "output_type": "stream",
     "text": [
      "Normal segments saved for chb06_14.edf\n"
     ]
    },
    {
     "name": "stderr",
     "output_type": "stream",
     "text": [
      "/tmp/ipykernel_3734/3037979607.py:81: RuntimeWarning: EDF format requires equal-length data blocks, so 0.996 seconds of edge values were appended to all channels when writing the final block.\n",
      "  raw_crop.export(save_path, fmt=\"edf\", overwrite=True)\n",
      "/tmp/ipykernel_3734/3037979607.py:81: RuntimeWarning: EDF format requires equal-length data blocks, so 0.996 seconds of edge values were appended to all channels when writing the final block.\n",
      "  raw_crop.export(save_path, fmt=\"edf\", overwrite=True)\n",
      "/tmp/ipykernel_3734/3037979607.py:81: RuntimeWarning: EDF format requires equal-length data blocks, so 0.996 seconds of edge values were appended to all channels when writing the final block.\n",
      "  raw_crop.export(save_path, fmt=\"edf\", overwrite=True)\n",
      "/tmp/ipykernel_3734/3037979607.py:81: RuntimeWarning: EDF format requires equal-length data blocks, so 0.996 seconds of edge values were appended to all channels when writing the final block.\n",
      "  raw_crop.export(save_path, fmt=\"edf\", overwrite=True)\n",
      "/tmp/ipykernel_3734/3037979607.py:81: RuntimeWarning: EDF format requires equal-length data blocks, so 0.996 seconds of edge values were appended to all channels when writing the final block.\n",
      "  raw_crop.export(save_path, fmt=\"edf\", overwrite=True)\n",
      "/tmp/ipykernel_3734/3037979607.py:81: RuntimeWarning: EDF format requires equal-length data blocks, so 0.996 seconds of edge values were appended to all channels when writing the final block.\n",
      "  raw_crop.export(save_path, fmt=\"edf\", overwrite=True)\n",
      "/tmp/ipykernel_3734/3037979607.py:81: RuntimeWarning: EDF format requires equal-length data blocks, so 0.996 seconds of edge values were appended to all channels when writing the final block.\n",
      "  raw_crop.export(save_path, fmt=\"edf\", overwrite=True)\n",
      "/tmp/ipykernel_3734/3037979607.py:81: RuntimeWarning: EDF format requires equal-length data blocks, so 0.996 seconds of edge values were appended to all channels when writing the final block.\n",
      "  raw_crop.export(save_path, fmt=\"edf\", overwrite=True)\n",
      "/tmp/ipykernel_3734/3037979607.py:81: RuntimeWarning: EDF format requires equal-length data blocks, so 0.996 seconds of edge values were appended to all channels when writing the final block.\n",
      "  raw_crop.export(save_path, fmt=\"edf\", overwrite=True)\n"
     ]
    },
    {
     "name": "stdout",
     "output_type": "stream",
     "text": [
      "Normal segments saved for chb06_15.edf\n",
      "Normal segments saved for chb06_16.edf\n"
     ]
    },
    {
     "name": "stderr",
     "output_type": "stream",
     "text": [
      "/tmp/ipykernel_3734/3037979607.py:81: RuntimeWarning: EDF format requires equal-length data blocks, so 0.996 seconds of edge values were appended to all channels when writing the final block.\n",
      "  raw_crop.export(save_path, fmt=\"edf\", overwrite=True)\n",
      "/tmp/ipykernel_3734/3037979607.py:81: RuntimeWarning: EDF format requires equal-length data blocks, so 0.996 seconds of edge values were appended to all channels when writing the final block.\n",
      "  raw_crop.export(save_path, fmt=\"edf\", overwrite=True)\n",
      "/tmp/ipykernel_3734/3037979607.py:81: RuntimeWarning: EDF format requires equal-length data blocks, so 0.996 seconds of edge values were appended to all channels when writing the final block.\n",
      "  raw_crop.export(save_path, fmt=\"edf\", overwrite=True)\n",
      "/tmp/ipykernel_3734/3037979607.py:81: RuntimeWarning: EDF format requires equal-length data blocks, so 0.996 seconds of edge values were appended to all channels when writing the final block.\n",
      "  raw_crop.export(save_path, fmt=\"edf\", overwrite=True)\n",
      "/tmp/ipykernel_3734/3037979607.py:81: RuntimeWarning: EDF format requires equal-length data blocks, so 0.996 seconds of edge values were appended to all channels when writing the final block.\n",
      "  raw_crop.export(save_path, fmt=\"edf\", overwrite=True)\n",
      "/tmp/ipykernel_3734/3037979607.py:81: RuntimeWarning: EDF format requires equal-length data blocks, so 0.996 seconds of edge values were appended to all channels when writing the final block.\n",
      "  raw_crop.export(save_path, fmt=\"edf\", overwrite=True)\n"
     ]
    },
    {
     "name": "stdout",
     "output_type": "stream",
     "text": [
      "Normal segments saved for chb06_17.edf\n",
      "  → saved: chb06_18_seizure_1.edf\n"
     ]
    },
    {
     "name": "stderr",
     "output_type": "stream",
     "text": [
      "/tmp/ipykernel_3734/3037979607.py:52: RuntimeWarning: EDF format requires equal-length data blocks, so 0.996 seconds of edge values were appended to all channels when writing the final block.\n",
      "  segment.export(save_path, fmt='edf')\n",
      "/tmp/ipykernel_3734/3037979607.py:52: RuntimeWarning: EDF format requires equal-length data blocks, so 0.996 seconds of edge values were appended to all channels when writing the final block.\n",
      "  segment.export(save_path, fmt='edf')\n",
      "/tmp/ipykernel_3734/3037979607.py:81: RuntimeWarning: EDF format requires equal-length data blocks, so 0.996 seconds of edge values were appended to all channels when writing the final block.\n",
      "  raw_crop.export(save_path, fmt=\"edf\", overwrite=True)\n",
      "/tmp/ipykernel_3734/3037979607.py:81: RuntimeWarning: EDF format requires equal-length data blocks, so 0.996 seconds of edge values were appended to all channels when writing the final block.\n",
      "  raw_crop.export(save_path, fmt=\"edf\", overwrite=True)\n",
      "/tmp/ipykernel_3734/3037979607.py:81: RuntimeWarning: EDF format requires equal-length data blocks, so 0.996 seconds of edge values were appended to all channels when writing the final block.\n",
      "  raw_crop.export(save_path, fmt=\"edf\", overwrite=True)\n",
      "/tmp/ipykernel_3734/3037979607.py:81: RuntimeWarning: EDF format requires equal-length data blocks, so 0.996 seconds of edge values were appended to all channels when writing the final block.\n",
      "  raw_crop.export(save_path, fmt=\"edf\", overwrite=True)\n",
      "/tmp/ipykernel_3734/3037979607.py:81: RuntimeWarning: EDF format requires equal-length data blocks, so 0.996 seconds of edge values were appended to all channels when writing the final block.\n",
      "  raw_crop.export(save_path, fmt=\"edf\", overwrite=True)\n"
     ]
    },
    {
     "name": "stdout",
     "output_type": "stream",
     "text": [
      "  → saved: chb06_24_seizure_1.edf\n",
      "Normal segments saved for chb05_01.edf\n"
     ]
    },
    {
     "name": "stderr",
     "output_type": "stream",
     "text": [
      "/tmp/ipykernel_3734/3037979607.py:81: RuntimeWarning: EDF format requires equal-length data blocks, so 0.996 seconds of edge values were appended to all channels when writing the final block.\n",
      "  raw_crop.export(save_path, fmt=\"edf\", overwrite=True)\n",
      "/tmp/ipykernel_3734/3037979607.py:81: RuntimeWarning: EDF format requires equal-length data blocks, so 0.996 seconds of edge values were appended to all channels when writing the final block.\n",
      "  raw_crop.export(save_path, fmt=\"edf\", overwrite=True)\n",
      "/tmp/ipykernel_3734/3037979607.py:81: RuntimeWarning: EDF format requires equal-length data blocks, so 0.996 seconds of edge values were appended to all channels when writing the final block.\n",
      "  raw_crop.export(save_path, fmt=\"edf\", overwrite=True)\n",
      "/tmp/ipykernel_3734/3037979607.py:81: RuntimeWarning: EDF format requires equal-length data blocks, so 0.996 seconds of edge values were appended to all channels when writing the final block.\n",
      "  raw_crop.export(save_path, fmt=\"edf\", overwrite=True)\n",
      "/tmp/ipykernel_3734/3037979607.py:81: RuntimeWarning: EDF format requires equal-length data blocks, so 0.996 seconds of edge values were appended to all channels when writing the final block.\n",
      "  raw_crop.export(save_path, fmt=\"edf\", overwrite=True)\n",
      "/tmp/ipykernel_3734/3037979607.py:81: RuntimeWarning: EDF format requires equal-length data blocks, so 0.996 seconds of edge values were appended to all channels when writing the final block.\n",
      "  raw_crop.export(save_path, fmt=\"edf\", overwrite=True)\n",
      "/tmp/ipykernel_3734/3037979607.py:81: RuntimeWarning: EDF format requires equal-length data blocks, so 0.996 seconds of edge values were appended to all channels when writing the final block.\n",
      "  raw_crop.export(save_path, fmt=\"edf\", overwrite=True)\n"
     ]
    },
    {
     "name": "stdout",
     "output_type": "stream",
     "text": [
      "Normal segments saved for chb05_02.edf\n",
      "Normal segments saved for chb05_03.edf\n"
     ]
    },
    {
     "name": "stderr",
     "output_type": "stream",
     "text": [
      "/tmp/ipykernel_3734/3037979607.py:81: RuntimeWarning: EDF format requires equal-length data blocks, so 0.996 seconds of edge values were appended to all channels when writing the final block.\n",
      "  raw_crop.export(save_path, fmt=\"edf\", overwrite=True)\n",
      "/tmp/ipykernel_3734/3037979607.py:81: RuntimeWarning: EDF format requires equal-length data blocks, so 0.996 seconds of edge values were appended to all channels when writing the final block.\n",
      "  raw_crop.export(save_path, fmt=\"edf\", overwrite=True)\n",
      "/tmp/ipykernel_3734/3037979607.py:81: RuntimeWarning: EDF format requires equal-length data blocks, so 0.996 seconds of edge values were appended to all channels when writing the final block.\n",
      "  raw_crop.export(save_path, fmt=\"edf\", overwrite=True)\n",
      "/tmp/ipykernel_3734/3037979607.py:81: RuntimeWarning: EDF format requires equal-length data blocks, so 0.996 seconds of edge values were appended to all channels when writing the final block.\n",
      "  raw_crop.export(save_path, fmt=\"edf\", overwrite=True)\n",
      "/tmp/ipykernel_3734/3037979607.py:81: RuntimeWarning: EDF format requires equal-length data blocks, so 0.996 seconds of edge values were appended to all channels when writing the final block.\n",
      "  raw_crop.export(save_path, fmt=\"edf\", overwrite=True)\n",
      "/tmp/ipykernel_3734/3037979607.py:81: RuntimeWarning: EDF format requires equal-length data blocks, so 0.996 seconds of edge values were appended to all channels when writing the final block.\n",
      "  raw_crop.export(save_path, fmt=\"edf\", overwrite=True)\n",
      "/tmp/ipykernel_3734/3037979607.py:81: RuntimeWarning: EDF format requires equal-length data blocks, so 0.996 seconds of edge values were appended to all channels when writing the final block.\n",
      "  raw_crop.export(save_path, fmt=\"edf\", overwrite=True)\n",
      "/tmp/ipykernel_3734/3037979607.py:81: RuntimeWarning: EDF format requires equal-length data blocks, so 0.996 seconds of edge values were appended to all channels when writing the final block.\n",
      "  raw_crop.export(save_path, fmt=\"edf\", overwrite=True)\n",
      "/tmp/ipykernel_3734/3037979607.py:81: RuntimeWarning: EDF format requires equal-length data blocks, so 0.996 seconds of edge values were appended to all channels when writing the final block.\n",
      "  raw_crop.export(save_path, fmt=\"edf\", overwrite=True)\n",
      "/tmp/ipykernel_3734/3037979607.py:81: RuntimeWarning: EDF format requires equal-length data blocks, so 0.996 seconds of edge values were appended to all channels when writing the final block.\n",
      "  raw_crop.export(save_path, fmt=\"edf\", overwrite=True)\n",
      "/tmp/ipykernel_3734/3037979607.py:81: RuntimeWarning: EDF format requires equal-length data blocks, so 0.996 seconds of edge values were appended to all channels when writing the final block.\n",
      "  raw_crop.export(save_path, fmt=\"edf\", overwrite=True)\n",
      "/tmp/ipykernel_3734/3037979607.py:81: RuntimeWarning: EDF format requires equal-length data blocks, so 0.996 seconds of edge values were appended to all channels when writing the final block.\n",
      "  raw_crop.export(save_path, fmt=\"edf\", overwrite=True)\n",
      "/tmp/ipykernel_3734/3037979607.py:81: RuntimeWarning: EDF format requires equal-length data blocks, so 0.996 seconds of edge values were appended to all channels when writing the final block.\n",
      "  raw_crop.export(save_path, fmt=\"edf\", overwrite=True)\n"
     ]
    },
    {
     "name": "stdout",
     "output_type": "stream",
     "text": [
      "Normal segments saved for chb05_04.edf\n",
      "Normal segments saved for chb05_05.edf\n"
     ]
    },
    {
     "name": "stderr",
     "output_type": "stream",
     "text": [
      "/tmp/ipykernel_3734/3037979607.py:52: RuntimeWarning: EDF format requires equal-length data blocks, so 0.996 seconds of edge values were appended to all channels when writing the final block.\n",
      "  segment.export(save_path, fmt='edf')\n",
      "/tmp/ipykernel_3734/3037979607.py:81: RuntimeWarning: EDF format requires equal-length data blocks, so 0.996 seconds of edge values were appended to all channels when writing the final block.\n",
      "  raw_crop.export(save_path, fmt=\"edf\", overwrite=True)\n",
      "/tmp/ipykernel_3734/3037979607.py:81: RuntimeWarning: EDF format requires equal-length data blocks, so 0.996 seconds of edge values were appended to all channels when writing the final block.\n",
      "  raw_crop.export(save_path, fmt=\"edf\", overwrite=True)\n",
      "/tmp/ipykernel_3734/3037979607.py:81: RuntimeWarning: EDF format requires equal-length data blocks, so 0.996 seconds of edge values were appended to all channels when writing the final block.\n",
      "  raw_crop.export(save_path, fmt=\"edf\", overwrite=True)\n",
      "/tmp/ipykernel_3734/3037979607.py:81: RuntimeWarning: EDF format requires equal-length data blocks, so 0.996 seconds of edge values were appended to all channels when writing the final block.\n",
      "  raw_crop.export(save_path, fmt=\"edf\", overwrite=True)\n",
      "/tmp/ipykernel_3734/3037979607.py:81: RuntimeWarning: EDF format requires equal-length data blocks, so 0.996 seconds of edge values were appended to all channels when writing the final block.\n",
      "  raw_crop.export(save_path, fmt=\"edf\", overwrite=True)\n"
     ]
    },
    {
     "name": "stdout",
     "output_type": "stream",
     "text": [
      "  → saved: chb05_06_seizure_1.edf\n",
      "Normal segments saved for chb05_07.edf\n"
     ]
    },
    {
     "name": "stderr",
     "output_type": "stream",
     "text": [
      "/tmp/ipykernel_3734/3037979607.py:81: RuntimeWarning: EDF format requires equal-length data blocks, so 0.996 seconds of edge values were appended to all channels when writing the final block.\n",
      "  raw_crop.export(save_path, fmt=\"edf\", overwrite=True)\n",
      "/tmp/ipykernel_3734/3037979607.py:81: RuntimeWarning: EDF format requires equal-length data blocks, so 0.996 seconds of edge values were appended to all channels when writing the final block.\n",
      "  raw_crop.export(save_path, fmt=\"edf\", overwrite=True)\n",
      "/tmp/ipykernel_3734/3037979607.py:81: RuntimeWarning: EDF format requires equal-length data blocks, so 0.996 seconds of edge values were appended to all channels when writing the final block.\n",
      "  raw_crop.export(save_path, fmt=\"edf\", overwrite=True)\n",
      "/tmp/ipykernel_3734/3037979607.py:81: RuntimeWarning: EDF format requires equal-length data blocks, so 0.996 seconds of edge values were appended to all channels when writing the final block.\n",
      "  raw_crop.export(save_path, fmt=\"edf\", overwrite=True)\n",
      "/tmp/ipykernel_3734/3037979607.py:81: RuntimeWarning: EDF format requires equal-length data blocks, so 0.996 seconds of edge values were appended to all channels when writing the final block.\n",
      "  raw_crop.export(save_path, fmt=\"edf\", overwrite=True)\n",
      "/tmp/ipykernel_3734/3037979607.py:81: RuntimeWarning: EDF format requires equal-length data blocks, so 0.996 seconds of edge values were appended to all channels when writing the final block.\n",
      "  raw_crop.export(save_path, fmt=\"edf\", overwrite=True)\n",
      "/tmp/ipykernel_3734/3037979607.py:81: RuntimeWarning: EDF format requires equal-length data blocks, so 0.996 seconds of edge values were appended to all channels when writing the final block.\n",
      "  raw_crop.export(save_path, fmt=\"edf\", overwrite=True)\n",
      "/tmp/ipykernel_3734/3037979607.py:81: RuntimeWarning: EDF format requires equal-length data blocks, so 0.996 seconds of edge values were appended to all channels when writing the final block.\n",
      "  raw_crop.export(save_path, fmt=\"edf\", overwrite=True)\n"
     ]
    },
    {
     "name": "stdout",
     "output_type": "stream",
     "text": [
      "Normal segments saved for chb05_08.edf\n",
      "Normal segments saved for chb05_09.edf\n"
     ]
    },
    {
     "name": "stderr",
     "output_type": "stream",
     "text": [
      "/tmp/ipykernel_3734/3037979607.py:81: RuntimeWarning: EDF format requires equal-length data blocks, so 0.996 seconds of edge values were appended to all channels when writing the final block.\n",
      "  raw_crop.export(save_path, fmt=\"edf\", overwrite=True)\n",
      "/tmp/ipykernel_3734/3037979607.py:81: RuntimeWarning: EDF format requires equal-length data blocks, so 0.996 seconds of edge values were appended to all channels when writing the final block.\n",
      "  raw_crop.export(save_path, fmt=\"edf\", overwrite=True)\n",
      "/tmp/ipykernel_3734/3037979607.py:81: RuntimeWarning: EDF format requires equal-length data blocks, so 0.996 seconds of edge values were appended to all channels when writing the final block.\n",
      "  raw_crop.export(save_path, fmt=\"edf\", overwrite=True)\n",
      "/tmp/ipykernel_3734/3037979607.py:81: RuntimeWarning: EDF format requires equal-length data blocks, so 0.996 seconds of edge values were appended to all channels when writing the final block.\n",
      "  raw_crop.export(save_path, fmt=\"edf\", overwrite=True)\n",
      "/tmp/ipykernel_3734/3037979607.py:81: RuntimeWarning: EDF format requires equal-length data blocks, so 0.996 seconds of edge values were appended to all channels when writing the final block.\n",
      "  raw_crop.export(save_path, fmt=\"edf\", overwrite=True)\n",
      "/tmp/ipykernel_3734/3037979607.py:81: RuntimeWarning: EDF format requires equal-length data blocks, so 0.996 seconds of edge values were appended to all channels when writing the final block.\n",
      "  raw_crop.export(save_path, fmt=\"edf\", overwrite=True)\n",
      "/tmp/ipykernel_3734/3037979607.py:81: RuntimeWarning: EDF format requires equal-length data blocks, so 0.996 seconds of edge values were appended to all channels when writing the final block.\n",
      "  raw_crop.export(save_path, fmt=\"edf\", overwrite=True)\n"
     ]
    },
    {
     "name": "stdout",
     "output_type": "stream",
     "text": [
      "Normal segments saved for chb05_10.edf\n",
      "Normal segments saved for chb05_11.edf\n"
     ]
    },
    {
     "name": "stderr",
     "output_type": "stream",
     "text": [
      "/tmp/ipykernel_3734/3037979607.py:81: RuntimeWarning: EDF format requires equal-length data blocks, so 0.996 seconds of edge values were appended to all channels when writing the final block.\n",
      "  raw_crop.export(save_path, fmt=\"edf\", overwrite=True)\n",
      "/tmp/ipykernel_3734/3037979607.py:81: RuntimeWarning: EDF format requires equal-length data blocks, so 0.996 seconds of edge values were appended to all channels when writing the final block.\n",
      "  raw_crop.export(save_path, fmt=\"edf\", overwrite=True)\n",
      "/tmp/ipykernel_3734/3037979607.py:81: RuntimeWarning: EDF format requires equal-length data blocks, so 0.996 seconds of edge values were appended to all channels when writing the final block.\n",
      "  raw_crop.export(save_path, fmt=\"edf\", overwrite=True)\n",
      "/tmp/ipykernel_3734/3037979607.py:81: RuntimeWarning: EDF format requires equal-length data blocks, so 0.996 seconds of edge values were appended to all channels when writing the final block.\n",
      "  raw_crop.export(save_path, fmt=\"edf\", overwrite=True)\n",
      "/tmp/ipykernel_3734/3037979607.py:81: RuntimeWarning: EDF format requires equal-length data blocks, so 0.996 seconds of edge values were appended to all channels when writing the final block.\n",
      "  raw_crop.export(save_path, fmt=\"edf\", overwrite=True)\n",
      "/tmp/ipykernel_3734/3037979607.py:81: RuntimeWarning: EDF format requires equal-length data blocks, so 0.996 seconds of edge values were appended to all channels when writing the final block.\n",
      "  raw_crop.export(save_path, fmt=\"edf\", overwrite=True)\n",
      "/tmp/ipykernel_3734/3037979607.py:81: RuntimeWarning: EDF format requires equal-length data blocks, so 0.996 seconds of edge values were appended to all channels when writing the final block.\n",
      "  raw_crop.export(save_path, fmt=\"edf\", overwrite=True)\n",
      "/tmp/ipykernel_3734/3037979607.py:81: RuntimeWarning: EDF format requires equal-length data blocks, so 0.996 seconds of edge values were appended to all channels when writing the final block.\n",
      "  raw_crop.export(save_path, fmt=\"edf\", overwrite=True)\n",
      "/tmp/ipykernel_3734/3037979607.py:81: RuntimeWarning: EDF format requires equal-length data blocks, so 0.996 seconds of edge values were appended to all channels when writing the final block.\n",
      "  raw_crop.export(save_path, fmt=\"edf\", overwrite=True)\n",
      "/tmp/ipykernel_3734/3037979607.py:81: RuntimeWarning: EDF format requires equal-length data blocks, so 0.996 seconds of edge values were appended to all channels when writing the final block.\n",
      "  raw_crop.export(save_path, fmt=\"edf\", overwrite=True)\n",
      "/tmp/ipykernel_3734/3037979607.py:52: RuntimeWarning: EDF format requires equal-length data blocks, so 0.996 seconds of edge values were appended to all channels when writing the final block.\n",
      "  segment.export(save_path, fmt='edf')\n",
      "/tmp/ipykernel_3734/3037979607.py:81: RuntimeWarning: EDF format requires equal-length data blocks, so 0.996 seconds of edge values were appended to all channels when writing the final block.\n",
      "  raw_crop.export(save_path, fmt=\"edf\", overwrite=True)\n",
      "/tmp/ipykernel_3734/3037979607.py:81: RuntimeWarning: EDF format requires equal-length data blocks, so 0.996 seconds of edge values were appended to all channels when writing the final block.\n",
      "  raw_crop.export(save_path, fmt=\"edf\", overwrite=True)\n"
     ]
    },
    {
     "name": "stdout",
     "output_type": "stream",
     "text": [
      "Normal segments saved for chb05_12.edf\n",
      "  → saved: chb05_13_seizure_1.edf\n"
     ]
    },
    {
     "name": "stderr",
     "output_type": "stream",
     "text": [
      "/tmp/ipykernel_3734/3037979607.py:81: RuntimeWarning: EDF format requires equal-length data blocks, so 0.996 seconds of edge values were appended to all channels when writing the final block.\n",
      "  raw_crop.export(save_path, fmt=\"edf\", overwrite=True)\n",
      "/tmp/ipykernel_3734/3037979607.py:81: RuntimeWarning: EDF format requires equal-length data blocks, so 0.996 seconds of edge values were appended to all channels when writing the final block.\n",
      "  raw_crop.export(save_path, fmt=\"edf\", overwrite=True)\n",
      "/tmp/ipykernel_3734/3037979607.py:81: RuntimeWarning: EDF format requires equal-length data blocks, so 0.996 seconds of edge values were appended to all channels when writing the final block.\n",
      "  raw_crop.export(save_path, fmt=\"edf\", overwrite=True)\n",
      "/tmp/ipykernel_3734/3037979607.py:81: RuntimeWarning: EDF format requires equal-length data blocks, so 0.996 seconds of edge values were appended to all channels when writing the final block.\n",
      "  raw_crop.export(save_path, fmt=\"edf\", overwrite=True)\n",
      "/tmp/ipykernel_3734/3037979607.py:81: RuntimeWarning: EDF format requires equal-length data blocks, so 0.996 seconds of edge values were appended to all channels when writing the final block.\n",
      "  raw_crop.export(save_path, fmt=\"edf\", overwrite=True)\n",
      "/tmp/ipykernel_3734/3037979607.py:81: RuntimeWarning: EDF format requires equal-length data blocks, so 0.996 seconds of edge values were appended to all channels when writing the final block.\n",
      "  raw_crop.export(save_path, fmt=\"edf\", overwrite=True)\n",
      "/tmp/ipykernel_3734/3037979607.py:81: RuntimeWarning: EDF format requires equal-length data blocks, so 0.996 seconds of edge values were appended to all channels when writing the final block.\n",
      "  raw_crop.export(save_path, fmt=\"edf\", overwrite=True)\n",
      "/tmp/ipykernel_3734/3037979607.py:81: RuntimeWarning: EDF format requires equal-length data blocks, so 0.996 seconds of edge values were appended to all channels when writing the final block.\n",
      "  raw_crop.export(save_path, fmt=\"edf\", overwrite=True)\n"
     ]
    },
    {
     "name": "stdout",
     "output_type": "stream",
     "text": [
      "Normal segments saved for chb05_14.edf\n",
      "Normal segments saved for chb05_15.edf\n"
     ]
    },
    {
     "name": "stderr",
     "output_type": "stream",
     "text": [
      "/tmp/ipykernel_3734/3037979607.py:52: RuntimeWarning: EDF format requires equal-length data blocks, so 0.996 seconds of edge values were appended to all channels when writing the final block.\n",
      "  segment.export(save_path, fmt='edf')\n",
      "/tmp/ipykernel_3734/3037979607.py:52: RuntimeWarning: EDF format requires equal-length data blocks, so 0.996 seconds of edge values were appended to all channels when writing the final block.\n",
      "  segment.export(save_path, fmt='edf')\n",
      "/tmp/ipykernel_3734/3037979607.py:81: RuntimeWarning: EDF format requires equal-length data blocks, so 0.996 seconds of edge values were appended to all channels when writing the final block.\n",
      "  raw_crop.export(save_path, fmt=\"edf\", overwrite=True)\n",
      "/tmp/ipykernel_3734/3037979607.py:81: RuntimeWarning: EDF format requires equal-length data blocks, so 0.996 seconds of edge values were appended to all channels when writing the final block.\n",
      "  raw_crop.export(save_path, fmt=\"edf\", overwrite=True)\n",
      "/tmp/ipykernel_3734/3037979607.py:81: RuntimeWarning: EDF format requires equal-length data blocks, so 0.996 seconds of edge values were appended to all channels when writing the final block.\n",
      "  raw_crop.export(save_path, fmt=\"edf\", overwrite=True)\n"
     ]
    },
    {
     "name": "stdout",
     "output_type": "stream",
     "text": [
      "  → saved: chb05_16_seizure_1.edf\n",
      "  → saved: chb05_17_seizure_1.edf\n"
     ]
    },
    {
     "name": "stderr",
     "output_type": "stream",
     "text": [
      "/tmp/ipykernel_3734/3037979607.py:81: RuntimeWarning: EDF format requires equal-length data blocks, so 0.996 seconds of edge values were appended to all channels when writing the final block.\n",
      "  raw_crop.export(save_path, fmt=\"edf\", overwrite=True)\n",
      "/tmp/ipykernel_3734/3037979607.py:81: RuntimeWarning: EDF format requires equal-length data blocks, so 0.996 seconds of edge values were appended to all channels when writing the final block.\n",
      "  raw_crop.export(save_path, fmt=\"edf\", overwrite=True)\n",
      "/tmp/ipykernel_3734/3037979607.py:81: RuntimeWarning: EDF format requires equal-length data blocks, so 0.996 seconds of edge values were appended to all channels when writing the final block.\n",
      "  raw_crop.export(save_path, fmt=\"edf\", overwrite=True)\n",
      "/tmp/ipykernel_3734/3037979607.py:81: RuntimeWarning: EDF format requires equal-length data blocks, so 0.996 seconds of edge values were appended to all channels when writing the final block.\n",
      "  raw_crop.export(save_path, fmt=\"edf\", overwrite=True)\n",
      "/tmp/ipykernel_3734/3037979607.py:81: RuntimeWarning: EDF format requires equal-length data blocks, so 0.996 seconds of edge values were appended to all channels when writing the final block.\n",
      "  raw_crop.export(save_path, fmt=\"edf\", overwrite=True)\n",
      "/tmp/ipykernel_3734/3037979607.py:81: RuntimeWarning: EDF format requires equal-length data blocks, so 0.996 seconds of edge values were appended to all channels when writing the final block.\n",
      "  raw_crop.export(save_path, fmt=\"edf\", overwrite=True)\n",
      "/tmp/ipykernel_3734/3037979607.py:81: RuntimeWarning: EDF format requires equal-length data blocks, so 0.996 seconds of edge values were appended to all channels when writing the final block.\n",
      "  raw_crop.export(save_path, fmt=\"edf\", overwrite=True)\n"
     ]
    },
    {
     "name": "stdout",
     "output_type": "stream",
     "text": [
      "Normal segments saved for chb05_18.edf\n",
      "Normal segments saved for chb05_19.edf\n"
     ]
    },
    {
     "name": "stderr",
     "output_type": "stream",
     "text": [
      "/tmp/ipykernel_3734/3037979607.py:81: RuntimeWarning: EDF format requires equal-length data blocks, so 0.996 seconds of edge values were appended to all channels when writing the final block.\n",
      "  raw_crop.export(save_path, fmt=\"edf\", overwrite=True)\n",
      "/tmp/ipykernel_3734/3037979607.py:81: RuntimeWarning: EDF format requires equal-length data blocks, so 0.996 seconds of edge values were appended to all channels when writing the final block.\n",
      "  raw_crop.export(save_path, fmt=\"edf\", overwrite=True)\n",
      "/tmp/ipykernel_3734/3037979607.py:81: RuntimeWarning: EDF format requires equal-length data blocks, so 0.996 seconds of edge values were appended to all channels when writing the final block.\n",
      "  raw_crop.export(save_path, fmt=\"edf\", overwrite=True)\n",
      "/tmp/ipykernel_3734/3037979607.py:81: RuntimeWarning: EDF format requires equal-length data blocks, so 0.996 seconds of edge values were appended to all channels when writing the final block.\n",
      "  raw_crop.export(save_path, fmt=\"edf\", overwrite=True)\n",
      "/tmp/ipykernel_3734/3037979607.py:81: RuntimeWarning: EDF format requires equal-length data blocks, so 0.996 seconds of edge values were appended to all channels when writing the final block.\n",
      "  raw_crop.export(save_path, fmt=\"edf\", overwrite=True)\n",
      "/tmp/ipykernel_3734/3037979607.py:81: RuntimeWarning: EDF format requires equal-length data blocks, so 0.996 seconds of edge values were appended to all channels when writing the final block.\n",
      "  raw_crop.export(save_path, fmt=\"edf\", overwrite=True)\n",
      "/tmp/ipykernel_3734/3037979607.py:81: RuntimeWarning: EDF format requires equal-length data blocks, so 0.996 seconds of edge values were appended to all channels when writing the final block.\n",
      "  raw_crop.export(save_path, fmt=\"edf\", overwrite=True)\n",
      "/tmp/ipykernel_3734/3037979607.py:81: RuntimeWarning: EDF format requires equal-length data blocks, so 0.996 seconds of edge values were appended to all channels when writing the final block.\n",
      "  raw_crop.export(save_path, fmt=\"edf\", overwrite=True)\n"
     ]
    },
    {
     "name": "stdout",
     "output_type": "stream",
     "text": [
      "Normal segments saved for chb05_20.edf\n",
      "Normal segments saved for chb05_21.edf\n"
     ]
    },
    {
     "name": "stderr",
     "output_type": "stream",
     "text": [
      "/tmp/ipykernel_3734/3037979607.py:81: RuntimeWarning: EDF format requires equal-length data blocks, so 0.996 seconds of edge values were appended to all channels when writing the final block.\n",
      "  raw_crop.export(save_path, fmt=\"edf\", overwrite=True)\n",
      "/tmp/ipykernel_3734/3037979607.py:81: RuntimeWarning: EDF format requires equal-length data blocks, so 0.996 seconds of edge values were appended to all channels when writing the final block.\n",
      "  raw_crop.export(save_path, fmt=\"edf\", overwrite=True)\n",
      "/tmp/ipykernel_3734/3037979607.py:52: RuntimeWarning: EDF format requires equal-length data blocks, so 0.996 seconds of edge values were appended to all channels when writing the final block.\n",
      "  segment.export(save_path, fmt='edf')\n",
      "/tmp/ipykernel_3734/3037979607.py:81: RuntimeWarning: EDF format requires equal-length data blocks, so 0.996 seconds of edge values were appended to all channels when writing the final block.\n",
      "  raw_crop.export(save_path, fmt=\"edf\", overwrite=True)\n",
      "/tmp/ipykernel_3734/3037979607.py:81: RuntimeWarning: EDF format requires equal-length data blocks, so 0.996 seconds of edge values were appended to all channels when writing the final block.\n",
      "  raw_crop.export(save_path, fmt=\"edf\", overwrite=True)\n"
     ]
    },
    {
     "name": "stdout",
     "output_type": "stream",
     "text": [
      "  → saved: chb05_22_seizure_1.edf\n",
      "Normal segments saved for chb05_23.edf\n"
     ]
    },
    {
     "name": "stderr",
     "output_type": "stream",
     "text": [
      "/tmp/ipykernel_3734/3037979607.py:81: RuntimeWarning: EDF format requires equal-length data blocks, so 0.996 seconds of edge values were appended to all channels when writing the final block.\n",
      "  raw_crop.export(save_path, fmt=\"edf\", overwrite=True)\n",
      "/tmp/ipykernel_3734/3037979607.py:81: RuntimeWarning: EDF format requires equal-length data blocks, so 0.996 seconds of edge values were appended to all channels when writing the final block.\n",
      "  raw_crop.export(save_path, fmt=\"edf\", overwrite=True)\n",
      "/tmp/ipykernel_3734/3037979607.py:81: RuntimeWarning: EDF format requires equal-length data blocks, so 0.996 seconds of edge values were appended to all channels when writing the final block.\n",
      "  raw_crop.export(save_path, fmt=\"edf\", overwrite=True)\n",
      "/tmp/ipykernel_3734/3037979607.py:81: RuntimeWarning: EDF format requires equal-length data blocks, so 0.996 seconds of edge values were appended to all channels when writing the final block.\n",
      "  raw_crop.export(save_path, fmt=\"edf\", overwrite=True)\n",
      "/tmp/ipykernel_3734/3037979607.py:81: RuntimeWarning: EDF format requires equal-length data blocks, so 0.996 seconds of edge values were appended to all channels when writing the final block.\n",
      "  raw_crop.export(save_path, fmt=\"edf\", overwrite=True)\n",
      "/tmp/ipykernel_3734/3037979607.py:81: RuntimeWarning: EDF format requires equal-length data blocks, so 0.996 seconds of edge values were appended to all channels when writing the final block.\n",
      "  raw_crop.export(save_path, fmt=\"edf\", overwrite=True)\n",
      "/tmp/ipykernel_3734/3037979607.py:81: RuntimeWarning: EDF format requires equal-length data blocks, so 0.996 seconds of edge values were appended to all channels when writing the final block.\n",
      "  raw_crop.export(save_path, fmt=\"edf\", overwrite=True)\n",
      "/tmp/ipykernel_3734/3037979607.py:81: RuntimeWarning: EDF format requires equal-length data blocks, so 0.996 seconds of edge values were appended to all channels when writing the final block.\n",
      "  raw_crop.export(save_path, fmt=\"edf\", overwrite=True)\n"
     ]
    },
    {
     "name": "stdout",
     "output_type": "stream",
     "text": [
      "Normal segments saved for chb05_24.edf\n",
      "Normal segments saved for chb05_25.edf\n"
     ]
    },
    {
     "name": "stderr",
     "output_type": "stream",
     "text": [
      "/tmp/ipykernel_3734/3037979607.py:81: RuntimeWarning: EDF format requires equal-length data blocks, so 0.996 seconds of edge values were appended to all channels when writing the final block.\n",
      "  raw_crop.export(save_path, fmt=\"edf\", overwrite=True)\n",
      "/tmp/ipykernel_3734/3037979607.py:81: RuntimeWarning: EDF format requires equal-length data blocks, so 0.996 seconds of edge values were appended to all channels when writing the final block.\n",
      "  raw_crop.export(save_path, fmt=\"edf\", overwrite=True)\n",
      "/tmp/ipykernel_3734/3037979607.py:81: RuntimeWarning: EDF format requires equal-length data blocks, so 0.996 seconds of edge values were appended to all channels when writing the final block.\n",
      "  raw_crop.export(save_path, fmt=\"edf\", overwrite=True)\n",
      "/tmp/ipykernel_3734/3037979607.py:81: RuntimeWarning: EDF format requires equal-length data blocks, so 0.996 seconds of edge values were appended to all channels when writing the final block.\n",
      "  raw_crop.export(save_path, fmt=\"edf\", overwrite=True)\n",
      "/tmp/ipykernel_3734/3037979607.py:81: RuntimeWarning: EDF format requires equal-length data blocks, so 0.996 seconds of edge values were appended to all channels when writing the final block.\n",
      "  raw_crop.export(save_path, fmt=\"edf\", overwrite=True)\n",
      "/tmp/ipykernel_3734/3037979607.py:81: RuntimeWarning: EDF format requires equal-length data blocks, so 0.996 seconds of edge values were appended to all channels when writing the final block.\n",
      "  raw_crop.export(save_path, fmt=\"edf\", overwrite=True)\n",
      "/tmp/ipykernel_3734/3037979607.py:81: RuntimeWarning: EDF format requires equal-length data blocks, so 0.996 seconds of edge values were appended to all channels when writing the final block.\n",
      "  raw_crop.export(save_path, fmt=\"edf\", overwrite=True)\n",
      "/tmp/ipykernel_3734/3037979607.py:81: RuntimeWarning: EDF format requires equal-length data blocks, so 0.996 seconds of edge values were appended to all channels when writing the final block.\n",
      "  raw_crop.export(save_path, fmt=\"edf\", overwrite=True)\n",
      "/tmp/ipykernel_3734/3037979607.py:81: RuntimeWarning: EDF format requires equal-length data blocks, so 0.996 seconds of edge values were appended to all channels when writing the final block.\n",
      "  raw_crop.export(save_path, fmt=\"edf\", overwrite=True)\n",
      "/tmp/ipykernel_3734/3037979607.py:81: RuntimeWarning: EDF format requires equal-length data blocks, so 0.996 seconds of edge values were appended to all channels when writing the final block.\n",
      "  raw_crop.export(save_path, fmt=\"edf\", overwrite=True)\n",
      "/tmp/ipykernel_3734/3037979607.py:81: RuntimeWarning: EDF format requires equal-length data blocks, so 0.996 seconds of edge values were appended to all channels when writing the final block.\n",
      "  raw_crop.export(save_path, fmt=\"edf\", overwrite=True)\n",
      "/tmp/ipykernel_3734/3037979607.py:81: RuntimeWarning: EDF format requires equal-length data blocks, so 0.996 seconds of edge values were appended to all channels when writing the final block.\n",
      "  raw_crop.export(save_path, fmt=\"edf\", overwrite=True)\n",
      "/tmp/ipykernel_3734/3037979607.py:81: RuntimeWarning: EDF format requires equal-length data blocks, so 0.996 seconds of edge values were appended to all channels when writing the final block.\n",
      "  raw_crop.export(save_path, fmt=\"edf\", overwrite=True)\n",
      "/tmp/ipykernel_3734/3037979607.py:81: RuntimeWarning: EDF format requires equal-length data blocks, so 0.996 seconds of edge values were appended to all channels when writing the final block.\n",
      "  raw_crop.export(save_path, fmt=\"edf\", overwrite=True)\n",
      "/tmp/ipykernel_3734/3037979607.py:81: RuntimeWarning: EDF format requires equal-length data blocks, so 0.996 seconds of edge values were appended to all channels when writing the final block.\n",
      "  raw_crop.export(save_path, fmt=\"edf\", overwrite=True)\n"
     ]
    },
    {
     "name": "stdout",
     "output_type": "stream",
     "text": [
      "Normal segments saved for chb05_26.edf\n",
      "Normal segments saved for chb05_27.edf\n"
     ]
    },
    {
     "name": "stderr",
     "output_type": "stream",
     "text": [
      "/tmp/ipykernel_3734/3037979607.py:81: RuntimeWarning: EDF format requires equal-length data blocks, so 0.996 seconds of edge values were appended to all channels when writing the final block.\n",
      "  raw_crop.export(save_path, fmt=\"edf\", overwrite=True)\n",
      "/tmp/ipykernel_3734/3037979607.py:81: RuntimeWarning: EDF format requires equal-length data blocks, so 0.996 seconds of edge values were appended to all channels when writing the final block.\n",
      "  raw_crop.export(save_path, fmt=\"edf\", overwrite=True)\n",
      "/tmp/ipykernel_3734/3037979607.py:81: RuntimeWarning: EDF format requires equal-length data blocks, so 0.996 seconds of edge values were appended to all channels when writing the final block.\n",
      "  raw_crop.export(save_path, fmt=\"edf\", overwrite=True)\n",
      "/tmp/ipykernel_3734/3037979607.py:81: RuntimeWarning: EDF format requires equal-length data blocks, so 0.996 seconds of edge values were appended to all channels when writing the final block.\n",
      "  raw_crop.export(save_path, fmt=\"edf\", overwrite=True)\n",
      "/tmp/ipykernel_3734/3037979607.py:81: RuntimeWarning: EDF format requires equal-length data blocks, so 0.996 seconds of edge values were appended to all channels when writing the final block.\n",
      "  raw_crop.export(save_path, fmt=\"edf\", overwrite=True)\n",
      "/tmp/ipykernel_3734/3037979607.py:81: RuntimeWarning: EDF format requires equal-length data blocks, so 0.996 seconds of edge values were appended to all channels when writing the final block.\n",
      "  raw_crop.export(save_path, fmt=\"edf\", overwrite=True)\n",
      "/tmp/ipykernel_3734/3037979607.py:81: RuntimeWarning: EDF format requires equal-length data blocks, so 0.996 seconds of edge values were appended to all channels when writing the final block.\n",
      "  raw_crop.export(save_path, fmt=\"edf\", overwrite=True)\n",
      "/tmp/ipykernel_3734/3037979607.py:81: RuntimeWarning: EDF format requires equal-length data blocks, so 0.996 seconds of edge values were appended to all channels when writing the final block.\n",
      "  raw_crop.export(save_path, fmt=\"edf\", overwrite=True)\n"
     ]
    },
    {
     "name": "stdout",
     "output_type": "stream",
     "text": [
      "Normal segments saved for chb05_28.edf\n",
      "Normal segments saved for chb05_29.edf\n"
     ]
    },
    {
     "name": "stderr",
     "output_type": "stream",
     "text": [
      "/tmp/ipykernel_3734/3037979607.py:81: RuntimeWarning: EDF format requires equal-length data blocks, so 0.996 seconds of edge values were appended to all channels when writing the final block.\n",
      "  raw_crop.export(save_path, fmt=\"edf\", overwrite=True)\n",
      "/tmp/ipykernel_3734/3037979607.py:81: RuntimeWarning: EDF format requires equal-length data blocks, so 0.996 seconds of edge values were appended to all channels when writing the final block.\n",
      "  raw_crop.export(save_path, fmt=\"edf\", overwrite=True)\n",
      "/tmp/ipykernel_3734/3037979607.py:81: RuntimeWarning: EDF format requires equal-length data blocks, so 0.996 seconds of edge values were appended to all channels when writing the final block.\n",
      "  raw_crop.export(save_path, fmt=\"edf\", overwrite=True)\n",
      "/tmp/ipykernel_3734/3037979607.py:81: RuntimeWarning: EDF format requires equal-length data blocks, so 0.996 seconds of edge values were appended to all channels when writing the final block.\n",
      "  raw_crop.export(save_path, fmt=\"edf\", overwrite=True)\n",
      "/tmp/ipykernel_3734/3037979607.py:81: RuntimeWarning: EDF format requires equal-length data blocks, so 0.996 seconds of edge values were appended to all channels when writing the final block.\n",
      "  raw_crop.export(save_path, fmt=\"edf\", overwrite=True)\n",
      "/tmp/ipykernel_3734/3037979607.py:81: RuntimeWarning: EDF format requires equal-length data blocks, so 0.996 seconds of edge values were appended to all channels when writing the final block.\n",
      "  raw_crop.export(save_path, fmt=\"edf\", overwrite=True)\n",
      "/tmp/ipykernel_3734/3037979607.py:81: RuntimeWarning: EDF format requires equal-length data blocks, so 0.996 seconds of edge values were appended to all channels when writing the final block.\n",
      "  raw_crop.export(save_path, fmt=\"edf\", overwrite=True)\n"
     ]
    },
    {
     "name": "stdout",
     "output_type": "stream",
     "text": [
      "Normal segments saved for chb05_30.edf\n",
      "Normal segments saved for chb05_31.edf\n"
     ]
    },
    {
     "name": "stderr",
     "output_type": "stream",
     "text": [
      "/tmp/ipykernel_3734/3037979607.py:81: RuntimeWarning: EDF format requires equal-length data blocks, so 0.996 seconds of edge values were appended to all channels when writing the final block.\n",
      "  raw_crop.export(save_path, fmt=\"edf\", overwrite=True)\n",
      "/tmp/ipykernel_3734/3037979607.py:81: RuntimeWarning: EDF format requires equal-length data blocks, so 0.996 seconds of edge values were appended to all channels when writing the final block.\n",
      "  raw_crop.export(save_path, fmt=\"edf\", overwrite=True)\n",
      "/tmp/ipykernel_3734/3037979607.py:81: RuntimeWarning: EDF format requires equal-length data blocks, so 0.996 seconds of edge values were appended to all channels when writing the final block.\n",
      "  raw_crop.export(save_path, fmt=\"edf\", overwrite=True)\n",
      "/tmp/ipykernel_3734/3037979607.py:81: RuntimeWarning: EDF format requires equal-length data blocks, so 0.996 seconds of edge values were appended to all channels when writing the final block.\n",
      "  raw_crop.export(save_path, fmt=\"edf\", overwrite=True)\n",
      "/tmp/ipykernel_3734/3037979607.py:81: RuntimeWarning: EDF format requires equal-length data blocks, so 0.996 seconds of edge values were appended to all channels when writing the final block.\n",
      "  raw_crop.export(save_path, fmt=\"edf\", overwrite=True)\n",
      "/tmp/ipykernel_3734/3037979607.py:81: RuntimeWarning: EDF format requires equal-length data blocks, so 0.996 seconds of edge values were appended to all channels when writing the final block.\n",
      "  raw_crop.export(save_path, fmt=\"edf\", overwrite=True)\n",
      "/tmp/ipykernel_3734/3037979607.py:81: RuntimeWarning: EDF format requires equal-length data blocks, so 0.996 seconds of edge values were appended to all channels when writing the final block.\n",
      "  raw_crop.export(save_path, fmt=\"edf\", overwrite=True)\n",
      "/tmp/ipykernel_3734/3037979607.py:81: RuntimeWarning: EDF format requires equal-length data blocks, so 0.996 seconds of edge values were appended to all channels when writing the final block.\n",
      "  raw_crop.export(save_path, fmt=\"edf\", overwrite=True)\n",
      "/tmp/ipykernel_3734/3037979607.py:81: RuntimeWarning: EDF format requires equal-length data blocks, so 0.996 seconds of edge values were appended to all channels when writing the final block.\n",
      "  raw_crop.export(save_path, fmt=\"edf\", overwrite=True)\n",
      "/tmp/ipykernel_3734/3037979607.py:81: RuntimeWarning: EDF format requires equal-length data blocks, so 0.996 seconds of edge values were appended to all channels when writing the final block.\n",
      "  raw_crop.export(save_path, fmt=\"edf\", overwrite=True)\n",
      "/tmp/ipykernel_3734/3037979607.py:81: RuntimeWarning: EDF format requires equal-length data blocks, so 0.996 seconds of edge values were appended to all channels when writing the final block.\n",
      "  raw_crop.export(save_path, fmt=\"edf\", overwrite=True)\n",
      "/tmp/ipykernel_3734/3037979607.py:81: RuntimeWarning: EDF format requires equal-length data blocks, so 0.996 seconds of edge values were appended to all channels when writing the final block.\n",
      "  raw_crop.export(save_path, fmt=\"edf\", overwrite=True)\n",
      "/tmp/ipykernel_3734/3037979607.py:81: RuntimeWarning: EDF format requires equal-length data blocks, so 0.996 seconds of edge values were appended to all channels when writing the final block.\n",
      "  raw_crop.export(save_path, fmt=\"edf\", overwrite=True)\n",
      "/tmp/ipykernel_3734/3037979607.py:81: RuntimeWarning: EDF format requires equal-length data blocks, so 0.996 seconds of edge values were appended to all channels when writing the final block.\n",
      "  raw_crop.export(save_path, fmt=\"edf\", overwrite=True)\n",
      "/tmp/ipykernel_3734/3037979607.py:81: RuntimeWarning: EDF format requires equal-length data blocks, so 0.996 seconds of edge values were appended to all channels when writing the final block.\n",
      "  raw_crop.export(save_path, fmt=\"edf\", overwrite=True)\n"
     ]
    },
    {
     "name": "stdout",
     "output_type": "stream",
     "text": [
      "Normal segments saved for chb05_32.edf\n",
      "Normal segments saved for chb05_33.edf\n"
     ]
    },
    {
     "name": "stderr",
     "output_type": "stream",
     "text": [
      "/tmp/ipykernel_3734/3037979607.py:81: RuntimeWarning: EDF format requires equal-length data blocks, so 0.996 seconds of edge values were appended to all channels when writing the final block.\n",
      "  raw_crop.export(save_path, fmt=\"edf\", overwrite=True)\n",
      "/tmp/ipykernel_3734/3037979607.py:81: RuntimeWarning: EDF format requires equal-length data blocks, so 0.996 seconds of edge values were appended to all channels when writing the final block.\n",
      "  raw_crop.export(save_path, fmt=\"edf\", overwrite=True)\n",
      "/tmp/ipykernel_3734/3037979607.py:81: RuntimeWarning: EDF format requires equal-length data blocks, so 0.996 seconds of edge values were appended to all channels when writing the final block.\n",
      "  raw_crop.export(save_path, fmt=\"edf\", overwrite=True)\n",
      "/tmp/ipykernel_3734/3037979607.py:81: RuntimeWarning: EDF format requires equal-length data blocks, so 0.996 seconds of edge values were appended to all channels when writing the final block.\n",
      "  raw_crop.export(save_path, fmt=\"edf\", overwrite=True)\n",
      "/tmp/ipykernel_3734/3037979607.py:81: RuntimeWarning: EDF format requires equal-length data blocks, so 0.996 seconds of edge values were appended to all channels when writing the final block.\n",
      "  raw_crop.export(save_path, fmt=\"edf\", overwrite=True)\n",
      "/tmp/ipykernel_3734/3037979607.py:81: RuntimeWarning: EDF format requires equal-length data blocks, so 0.996 seconds of edge values were appended to all channels when writing the final block.\n",
      "  raw_crop.export(save_path, fmt=\"edf\", overwrite=True)\n",
      "/tmp/ipykernel_3734/3037979607.py:81: RuntimeWarning: EDF format requires equal-length data blocks, so 0.996 seconds of edge values were appended to all channels when writing the final block.\n",
      "  raw_crop.export(save_path, fmt=\"edf\", overwrite=True)\n",
      "/tmp/ipykernel_3734/3037979607.py:81: RuntimeWarning: EDF format requires equal-length data blocks, so 0.996 seconds of edge values were appended to all channels when writing the final block.\n",
      "  raw_crop.export(save_path, fmt=\"edf\", overwrite=True)\n"
     ]
    },
    {
     "name": "stdout",
     "output_type": "stream",
     "text": [
      "Normal segments saved for chb05_34.edf\n",
      "Normal segments saved for chb05_35.edf\n"
     ]
    },
    {
     "name": "stderr",
     "output_type": "stream",
     "text": [
      "/tmp/ipykernel_3734/3037979607.py:81: RuntimeWarning: EDF format requires equal-length data blocks, so 0.996 seconds of edge values were appended to all channels when writing the final block.\n",
      "  raw_crop.export(save_path, fmt=\"edf\", overwrite=True)\n",
      "/tmp/ipykernel_3734/3037979607.py:81: RuntimeWarning: EDF format requires equal-length data blocks, so 0.996 seconds of edge values were appended to all channels when writing the final block.\n",
      "  raw_crop.export(save_path, fmt=\"edf\", overwrite=True)\n",
      "/tmp/ipykernel_3734/3037979607.py:81: RuntimeWarning: EDF format requires equal-length data blocks, so 0.996 seconds of edge values were appended to all channels when writing the final block.\n",
      "  raw_crop.export(save_path, fmt=\"edf\", overwrite=True)\n",
      "/tmp/ipykernel_3734/3037979607.py:81: RuntimeWarning: EDF format requires equal-length data blocks, so 0.996 seconds of edge values were appended to all channels when writing the final block.\n",
      "  raw_crop.export(save_path, fmt=\"edf\", overwrite=True)\n",
      "/tmp/ipykernel_3734/3037979607.py:81: RuntimeWarning: EDF format requires equal-length data blocks, so 0.996 seconds of edge values were appended to all channels when writing the final block.\n",
      "  raw_crop.export(save_path, fmt=\"edf\", overwrite=True)\n",
      "/tmp/ipykernel_3734/3037979607.py:81: RuntimeWarning: EDF format requires equal-length data blocks, so 0.996 seconds of edge values were appended to all channels when writing the final block.\n",
      "  raw_crop.export(save_path, fmt=\"edf\", overwrite=True)\n",
      "/tmp/ipykernel_3734/3037979607.py:81: RuntimeWarning: EDF format requires equal-length data blocks, so 0.996 seconds of edge values were appended to all channels when writing the final block.\n",
      "  raw_crop.export(save_path, fmt=\"edf\", overwrite=True)\n"
     ]
    },
    {
     "name": "stdout",
     "output_type": "stream",
     "text": [
      "Normal segments saved for chb05_36.edf\n",
      "Normal segments saved for chb05_37.edf\n"
     ]
    },
    {
     "name": "stderr",
     "output_type": "stream",
     "text": [
      "/tmp/ipykernel_3734/3037979607.py:81: RuntimeWarning: EDF format requires equal-length data blocks, so 0.996 seconds of edge values were appended to all channels when writing the final block.\n",
      "  raw_crop.export(save_path, fmt=\"edf\", overwrite=True)\n",
      "/tmp/ipykernel_3734/3037979607.py:81: RuntimeWarning: EDF format requires equal-length data blocks, so 0.996 seconds of edge values were appended to all channels when writing the final block.\n",
      "  raw_crop.export(save_path, fmt=\"edf\", overwrite=True)\n",
      "/tmp/ipykernel_3734/3037979607.py:81: RuntimeWarning: EDF format requires equal-length data blocks, so 0.996 seconds of edge values were appended to all channels when writing the final block.\n",
      "  raw_crop.export(save_path, fmt=\"edf\", overwrite=True)\n",
      "/tmp/ipykernel_3734/3037979607.py:81: RuntimeWarning: EDF format requires equal-length data blocks, so 0.996 seconds of edge values were appended to all channels when writing the final block.\n",
      "  raw_crop.export(save_path, fmt=\"edf\", overwrite=True)\n",
      "/tmp/ipykernel_3734/3037979607.py:81: RuntimeWarning: EDF format requires equal-length data blocks, so 0.996 seconds of edge values were appended to all channels when writing the final block.\n",
      "  raw_crop.export(save_path, fmt=\"edf\", overwrite=True)\n",
      "/tmp/ipykernel_3734/3037979607.py:81: RuntimeWarning: EDF format requires equal-length data blocks, so 0.996 seconds of edge values were appended to all channels when writing the final block.\n",
      "  raw_crop.export(save_path, fmt=\"edf\", overwrite=True)\n",
      "/tmp/ipykernel_3734/3037979607.py:81: RuntimeWarning: EDF format requires equal-length data blocks, so 0.996 seconds of edge values were appended to all channels when writing the final block.\n",
      "  raw_crop.export(save_path, fmt=\"edf\", overwrite=True)\n",
      "/tmp/ipykernel_3734/3037979607.py:81: RuntimeWarning: EDF format requires equal-length data blocks, so 0.996 seconds of edge values were appended to all channels when writing the final block.\n",
      "  raw_crop.export(save_path, fmt=\"edf\", overwrite=True)\n",
      "/tmp/ipykernel_3734/3037979607.py:81: RuntimeWarning: EDF format requires equal-length data blocks, so 0.996 seconds of edge values were appended to all channels when writing the final block.\n",
      "  raw_crop.export(save_path, fmt=\"edf\", overwrite=True)\n",
      "/tmp/ipykernel_3734/3037979607.py:81: RuntimeWarning: EDF format requires equal-length data blocks, so 0.996 seconds of edge values were appended to all channels when writing the final block.\n",
      "  raw_crop.export(save_path, fmt=\"edf\", overwrite=True)\n",
      "/tmp/ipykernel_3734/3037979607.py:81: RuntimeWarning: EDF format requires equal-length data blocks, so 0.996 seconds of edge values were appended to all channels when writing the final block.\n",
      "  raw_crop.export(save_path, fmt=\"edf\", overwrite=True)\n",
      "/tmp/ipykernel_3734/3037979607.py:81: RuntimeWarning: EDF format requires equal-length data blocks, so 0.996 seconds of edge values were appended to all channels when writing the final block.\n",
      "  raw_crop.export(save_path, fmt=\"edf\", overwrite=True)\n",
      "/tmp/ipykernel_3734/3037979607.py:81: RuntimeWarning: EDF format requires equal-length data blocks, so 0.996 seconds of edge values were appended to all channels when writing the final block.\n",
      "  raw_crop.export(save_path, fmt=\"edf\", overwrite=True)\n",
      "/tmp/ipykernel_3734/3037979607.py:81: RuntimeWarning: EDF format requires equal-length data blocks, so 0.996 seconds of edge values were appended to all channels when writing the final block.\n",
      "  raw_crop.export(save_path, fmt=\"edf\", overwrite=True)\n",
      "/tmp/ipykernel_3734/3037979607.py:81: RuntimeWarning: EDF format requires equal-length data blocks, so 0.996 seconds of edge values were appended to all channels when writing the final block.\n",
      "  raw_crop.export(save_path, fmt=\"edf\", overwrite=True)\n"
     ]
    },
    {
     "name": "stdout",
     "output_type": "stream",
     "text": [
      "Normal segments saved for chb05_38.edf\n",
      "Normal segments saved for chb05_39.edf\n"
     ]
    },
    {
     "name": "stderr",
     "output_type": "stream",
     "text": [
      "/tmp/ipykernel_3734/3037979607.py:81: RuntimeWarning: EDF format requires equal-length data blocks, so 0.996 seconds of edge values were appended to all channels when writing the final block.\n",
      "  raw_crop.export(save_path, fmt=\"edf\", overwrite=True)\n",
      "/tmp/ipykernel_3734/3037979607.py:81: RuntimeWarning: EDF format requires equal-length data blocks, so 0.996 seconds of edge values were appended to all channels when writing the final block.\n",
      "  raw_crop.export(save_path, fmt=\"edf\", overwrite=True)\n",
      "/tmp/ipykernel_3734/3037979607.py:81: RuntimeWarning: EDF format requires equal-length data blocks, so 0.996 seconds of edge values were appended to all channels when writing the final block.\n",
      "  raw_crop.export(save_path, fmt=\"edf\", overwrite=True)\n",
      "/tmp/ipykernel_3734/3037979607.py:81: RuntimeWarning: EDF format requires equal-length data blocks, so 0.996 seconds of edge values were appended to all channels when writing the final block.\n",
      "  raw_crop.export(save_path, fmt=\"edf\", overwrite=True)\n",
      "/tmp/ipykernel_3734/3037979607.py:81: RuntimeWarning: EDF format requires equal-length data blocks, so 0.996 seconds of edge values were appended to all channels when writing the final block.\n",
      "  raw_crop.export(save_path, fmt=\"edf\", overwrite=True)\n",
      "/tmp/ipykernel_3734/3037979607.py:81: RuntimeWarning: EDF format requires equal-length data blocks, so 0.996 seconds of edge values were appended to all channels when writing the final block.\n",
      "  raw_crop.export(save_path, fmt=\"edf\", overwrite=True)\n",
      "/tmp/ipykernel_3734/3037979607.py:81: RuntimeWarning: EDF format requires equal-length data blocks, so 0.996 seconds of edge values were appended to all channels when writing the final block.\n",
      "  raw_crop.export(save_path, fmt=\"edf\", overwrite=True)\n"
     ]
    },
    {
     "name": "stdout",
     "output_type": "stream",
     "text": [
      "Normal segments saved for chb18_01.edf\n",
      "Normal segments saved for chb18_02.edf\n"
     ]
    },
    {
     "name": "stderr",
     "output_type": "stream",
     "text": [
      "/tmp/ipykernel_3734/3037979607.py:81: RuntimeWarning: EDF format requires equal-length data blocks, so 0.996 seconds of edge values were appended to all channels when writing the final block.\n",
      "  raw_crop.export(save_path, fmt=\"edf\", overwrite=True)\n",
      "/tmp/ipykernel_3734/3037979607.py:81: RuntimeWarning: EDF format requires equal-length data blocks, so 0.996 seconds of edge values were appended to all channels when writing the final block.\n",
      "  raw_crop.export(save_path, fmt=\"edf\", overwrite=True)\n",
      "/tmp/ipykernel_3734/3037979607.py:81: RuntimeWarning: EDF format requires equal-length data blocks, so 0.996 seconds of edge values were appended to all channels when writing the final block.\n",
      "  raw_crop.export(save_path, fmt=\"edf\", overwrite=True)\n",
      "/tmp/ipykernel_3734/3037979607.py:81: RuntimeWarning: EDF format requires equal-length data blocks, so 0.996 seconds of edge values were appended to all channels when writing the final block.\n",
      "  raw_crop.export(save_path, fmt=\"edf\", overwrite=True)\n",
      "/tmp/ipykernel_3734/3037979607.py:81: RuntimeWarning: EDF format requires equal-length data blocks, so 0.996 seconds of edge values were appended to all channels when writing the final block.\n",
      "  raw_crop.export(save_path, fmt=\"edf\", overwrite=True)\n",
      "/tmp/ipykernel_3734/3037979607.py:81: RuntimeWarning: EDF format requires equal-length data blocks, so 0.996 seconds of edge values were appended to all channels when writing the final block.\n",
      "  raw_crop.export(save_path, fmt=\"edf\", overwrite=True)\n",
      "/tmp/ipykernel_3734/3037979607.py:81: RuntimeWarning: EDF format requires equal-length data blocks, so 0.996 seconds of edge values were appended to all channels when writing the final block.\n",
      "  raw_crop.export(save_path, fmt=\"edf\", overwrite=True)\n",
      "/tmp/ipykernel_3734/3037979607.py:81: RuntimeWarning: EDF format requires equal-length data blocks, so 0.996 seconds of edge values were appended to all channels when writing the final block.\n",
      "  raw_crop.export(save_path, fmt=\"edf\", overwrite=True)\n",
      "/tmp/ipykernel_3734/3037979607.py:81: RuntimeWarning: EDF format requires equal-length data blocks, so 0.996 seconds of edge values were appended to all channels when writing the final block.\n",
      "  raw_crop.export(save_path, fmt=\"edf\", overwrite=True)\n",
      "/tmp/ipykernel_3734/3037979607.py:81: RuntimeWarning: EDF format requires equal-length data blocks, so 0.996 seconds of edge values were appended to all channels when writing the final block.\n",
      "  raw_crop.export(save_path, fmt=\"edf\", overwrite=True)\n",
      "/tmp/ipykernel_3734/3037979607.py:81: RuntimeWarning: EDF format requires equal-length data blocks, so 0.996 seconds of edge values were appended to all channels when writing the final block.\n",
      "  raw_crop.export(save_path, fmt=\"edf\", overwrite=True)\n",
      "/tmp/ipykernel_3734/3037979607.py:81: RuntimeWarning: EDF format requires equal-length data blocks, so 0.996 seconds of edge values were appended to all channels when writing the final block.\n",
      "  raw_crop.export(save_path, fmt=\"edf\", overwrite=True)\n"
     ]
    },
    {
     "name": "stdout",
     "output_type": "stream",
     "text": [
      "Normal segments saved for chb18_03.edf\n",
      "Normal segments saved for chb18_04.edf\n"
     ]
    },
    {
     "name": "stderr",
     "output_type": "stream",
     "text": [
      "/tmp/ipykernel_3734/3037979607.py:81: RuntimeWarning: EDF format requires equal-length data blocks, so 0.996 seconds of edge values were appended to all channels when writing the final block.\n",
      "  raw_crop.export(save_path, fmt=\"edf\", overwrite=True)\n",
      "/tmp/ipykernel_3734/3037979607.py:81: RuntimeWarning: EDF format requires equal-length data blocks, so 0.996 seconds of edge values were appended to all channels when writing the final block.\n",
      "  raw_crop.export(save_path, fmt=\"edf\", overwrite=True)\n",
      "/tmp/ipykernel_3734/3037979607.py:81: RuntimeWarning: EDF format requires equal-length data blocks, so 0.996 seconds of edge values were appended to all channels when writing the final block.\n",
      "  raw_crop.export(save_path, fmt=\"edf\", overwrite=True)\n",
      "/tmp/ipykernel_3734/3037979607.py:81: RuntimeWarning: EDF format requires equal-length data blocks, so 0.996 seconds of edge values were appended to all channels when writing the final block.\n",
      "  raw_crop.export(save_path, fmt=\"edf\", overwrite=True)\n",
      "/tmp/ipykernel_3734/3037979607.py:81: RuntimeWarning: EDF format requires equal-length data blocks, so 0.996 seconds of edge values were appended to all channels when writing the final block.\n",
      "  raw_crop.export(save_path, fmt=\"edf\", overwrite=True)\n",
      "/tmp/ipykernel_3734/3037979607.py:81: RuntimeWarning: EDF format requires equal-length data blocks, so 0.996 seconds of edge values were appended to all channels when writing the final block.\n",
      "  raw_crop.export(save_path, fmt=\"edf\", overwrite=True)\n"
     ]
    },
    {
     "name": "stdout",
     "output_type": "stream",
     "text": [
      "Normal segments saved for chb18_05.edf\n",
      "Normal segments saved for chb18_06.edf\n"
     ]
    },
    {
     "name": "stderr",
     "output_type": "stream",
     "text": [
      "/tmp/ipykernel_3734/3037979607.py:81: RuntimeWarning: EDF format requires equal-length data blocks, so 0.996 seconds of edge values were appended to all channels when writing the final block.\n",
      "  raw_crop.export(save_path, fmt=\"edf\", overwrite=True)\n",
      "/tmp/ipykernel_3734/3037979607.py:81: RuntimeWarning: EDF format requires equal-length data blocks, so 0.996 seconds of edge values were appended to all channels when writing the final block.\n",
      "  raw_crop.export(save_path, fmt=\"edf\", overwrite=True)\n",
      "/tmp/ipykernel_3734/3037979607.py:81: RuntimeWarning: EDF format requires equal-length data blocks, so 0.996 seconds of edge values were appended to all channels when writing the final block.\n",
      "  raw_crop.export(save_path, fmt=\"edf\", overwrite=True)\n",
      "/tmp/ipykernel_3734/3037979607.py:81: RuntimeWarning: EDF format requires equal-length data blocks, so 0.996 seconds of edge values were appended to all channels when writing the final block.\n",
      "  raw_crop.export(save_path, fmt=\"edf\", overwrite=True)\n",
      "/tmp/ipykernel_3734/3037979607.py:81: RuntimeWarning: EDF format requires equal-length data blocks, so 0.996 seconds of edge values were appended to all channels when writing the final block.\n",
      "  raw_crop.export(save_path, fmt=\"edf\", overwrite=True)\n",
      "/tmp/ipykernel_3734/3037979607.py:81: RuntimeWarning: EDF format requires equal-length data blocks, so 0.996 seconds of edge values were appended to all channels when writing the final block.\n",
      "  raw_crop.export(save_path, fmt=\"edf\", overwrite=True)\n",
      "/tmp/ipykernel_3734/3037979607.py:81: RuntimeWarning: EDF format requires equal-length data blocks, so 0.996 seconds of edge values were appended to all channels when writing the final block.\n",
      "  raw_crop.export(save_path, fmt=\"edf\", overwrite=True)\n",
      "/tmp/ipykernel_3734/3037979607.py:81: RuntimeWarning: EDF format requires equal-length data blocks, so 0.996 seconds of edge values were appended to all channels when writing the final block.\n",
      "  raw_crop.export(save_path, fmt=\"edf\", overwrite=True)\n",
      "/tmp/ipykernel_3734/3037979607.py:81: RuntimeWarning: EDF format requires equal-length data blocks, so 0.996 seconds of edge values were appended to all channels when writing the final block.\n",
      "  raw_crop.export(save_path, fmt=\"edf\", overwrite=True)\n",
      "/tmp/ipykernel_3734/3037979607.py:81: RuntimeWarning: EDF format requires equal-length data blocks, so 0.996 seconds of edge values were appended to all channels when writing the final block.\n",
      "  raw_crop.export(save_path, fmt=\"edf\", overwrite=True)\n",
      "/tmp/ipykernel_3734/3037979607.py:81: RuntimeWarning: EDF format requires equal-length data blocks, so 0.996 seconds of edge values were appended to all channels when writing the final block.\n",
      "  raw_crop.export(save_path, fmt=\"edf\", overwrite=True)\n",
      "/tmp/ipykernel_3734/3037979607.py:81: RuntimeWarning: EDF format requires equal-length data blocks, so 0.996 seconds of edge values were appended to all channels when writing the final block.\n",
      "  raw_crop.export(save_path, fmt=\"edf\", overwrite=True)\n"
     ]
    },
    {
     "name": "stdout",
     "output_type": "stream",
     "text": [
      "Normal segments saved for chb18_07.edf\n",
      "Normal segments saved for chb18_08.edf\n"
     ]
    },
    {
     "name": "stderr",
     "output_type": "stream",
     "text": [
      "/tmp/ipykernel_3734/3037979607.py:81: RuntimeWarning: EDF format requires equal-length data blocks, so 0.996 seconds of edge values were appended to all channels when writing the final block.\n",
      "  raw_crop.export(save_path, fmt=\"edf\", overwrite=True)\n",
      "/tmp/ipykernel_3734/3037979607.py:81: RuntimeWarning: EDF format requires equal-length data blocks, so 0.996 seconds of edge values were appended to all channels when writing the final block.\n",
      "  raw_crop.export(save_path, fmt=\"edf\", overwrite=True)\n",
      "/tmp/ipykernel_3734/3037979607.py:81: RuntimeWarning: EDF format requires equal-length data blocks, so 0.996 seconds of edge values were appended to all channels when writing the final block.\n",
      "  raw_crop.export(save_path, fmt=\"edf\", overwrite=True)\n",
      "/tmp/ipykernel_3734/3037979607.py:81: RuntimeWarning: EDF format requires equal-length data blocks, so 0.996 seconds of edge values were appended to all channels when writing the final block.\n",
      "  raw_crop.export(save_path, fmt=\"edf\", overwrite=True)\n",
      "/tmp/ipykernel_3734/3037979607.py:81: RuntimeWarning: EDF format requires equal-length data blocks, so 0.996 seconds of edge values were appended to all channels when writing the final block.\n",
      "  raw_crop.export(save_path, fmt=\"edf\", overwrite=True)\n",
      "/tmp/ipykernel_3734/3037979607.py:81: RuntimeWarning: EDF format requires equal-length data blocks, so 0.996 seconds of edge values were appended to all channels when writing the final block.\n",
      "  raw_crop.export(save_path, fmt=\"edf\", overwrite=True)\n",
      "/tmp/ipykernel_3734/3037979607.py:81: RuntimeWarning: EDF format requires equal-length data blocks, so 0.996 seconds of edge values were appended to all channels when writing the final block.\n",
      "  raw_crop.export(save_path, fmt=\"edf\", overwrite=True)\n",
      "/tmp/ipykernel_3734/3037979607.py:81: RuntimeWarning: EDF format requires equal-length data blocks, so 0.996 seconds of edge values were appended to all channels when writing the final block.\n",
      "  raw_crop.export(save_path, fmt=\"edf\", overwrite=True)\n",
      "/tmp/ipykernel_3734/3037979607.py:81: RuntimeWarning: EDF format requires equal-length data blocks, so 0.996 seconds of edge values were appended to all channels when writing the final block.\n",
      "  raw_crop.export(save_path, fmt=\"edf\", overwrite=True)\n",
      "/tmp/ipykernel_3734/3037979607.py:81: RuntimeWarning: EDF format requires equal-length data blocks, so 0.996 seconds of edge values were appended to all channels when writing the final block.\n",
      "  raw_crop.export(save_path, fmt=\"edf\", overwrite=True)\n",
      "/tmp/ipykernel_3734/3037979607.py:81: RuntimeWarning: EDF format requires equal-length data blocks, so 0.996 seconds of edge values were appended to all channels when writing the final block.\n",
      "  raw_crop.export(save_path, fmt=\"edf\", overwrite=True)\n",
      "/tmp/ipykernel_3734/3037979607.py:81: RuntimeWarning: EDF format requires equal-length data blocks, so 0.996 seconds of edge values were appended to all channels when writing the final block.\n",
      "  raw_crop.export(save_path, fmt=\"edf\", overwrite=True)\n"
     ]
    },
    {
     "name": "stdout",
     "output_type": "stream",
     "text": [
      "Normal segments saved for chb18_09.edf\n",
      "Normal segments saved for chb18_10.edf\n"
     ]
    },
    {
     "name": "stderr",
     "output_type": "stream",
     "text": [
      "/tmp/ipykernel_3734/3037979607.py:81: RuntimeWarning: EDF format requires equal-length data blocks, so 0.996 seconds of edge values were appended to all channels when writing the final block.\n",
      "  raw_crop.export(save_path, fmt=\"edf\", overwrite=True)\n",
      "/tmp/ipykernel_3734/3037979607.py:81: RuntimeWarning: EDF format requires equal-length data blocks, so 0.996 seconds of edge values were appended to all channels when writing the final block.\n",
      "  raw_crop.export(save_path, fmt=\"edf\", overwrite=True)\n",
      "/tmp/ipykernel_3734/3037979607.py:81: RuntimeWarning: EDF format requires equal-length data blocks, so 0.996 seconds of edge values were appended to all channels when writing the final block.\n",
      "  raw_crop.export(save_path, fmt=\"edf\", overwrite=True)\n",
      "/tmp/ipykernel_3734/3037979607.py:81: RuntimeWarning: EDF format requires equal-length data blocks, so 0.996 seconds of edge values were appended to all channels when writing the final block.\n",
      "  raw_crop.export(save_path, fmt=\"edf\", overwrite=True)\n",
      "/tmp/ipykernel_3734/3037979607.py:81: RuntimeWarning: EDF format requires equal-length data blocks, so 0.996 seconds of edge values were appended to all channels when writing the final block.\n",
      "  raw_crop.export(save_path, fmt=\"edf\", overwrite=True)\n",
      "/tmp/ipykernel_3734/3037979607.py:81: RuntimeWarning: EDF format requires equal-length data blocks, so 0.996 seconds of edge values were appended to all channels when writing the final block.\n",
      "  raw_crop.export(save_path, fmt=\"edf\", overwrite=True)\n"
     ]
    },
    {
     "name": "stdout",
     "output_type": "stream",
     "text": [
      "Normal segments saved for chb18_11.edf\n",
      "Normal segments saved for chb18_12.edf\n"
     ]
    },
    {
     "name": "stderr",
     "output_type": "stream",
     "text": [
      "/tmp/ipykernel_3734/3037979607.py:81: RuntimeWarning: EDF format requires equal-length data blocks, so 0.996 seconds of edge values were appended to all channels when writing the final block.\n",
      "  raw_crop.export(save_path, fmt=\"edf\", overwrite=True)\n",
      "/tmp/ipykernel_3734/3037979607.py:81: RuntimeWarning: EDF format requires equal-length data blocks, so 0.996 seconds of edge values were appended to all channels when writing the final block.\n",
      "  raw_crop.export(save_path, fmt=\"edf\", overwrite=True)\n",
      "/tmp/ipykernel_3734/3037979607.py:81: RuntimeWarning: EDF format requires equal-length data blocks, so 0.996 seconds of edge values were appended to all channels when writing the final block.\n",
      "  raw_crop.export(save_path, fmt=\"edf\", overwrite=True)\n",
      "/tmp/ipykernel_3734/3037979607.py:81: RuntimeWarning: EDF format requires equal-length data blocks, so 0.996 seconds of edge values were appended to all channels when writing the final block.\n",
      "  raw_crop.export(save_path, fmt=\"edf\", overwrite=True)\n",
      "/tmp/ipykernel_3734/3037979607.py:81: RuntimeWarning: EDF format requires equal-length data blocks, so 0.996 seconds of edge values were appended to all channels when writing the final block.\n",
      "  raw_crop.export(save_path, fmt=\"edf\", overwrite=True)\n",
      "/tmp/ipykernel_3734/3037979607.py:81: RuntimeWarning: EDF format requires equal-length data blocks, so 0.996 seconds of edge values were appended to all channels when writing the final block.\n",
      "  raw_crop.export(save_path, fmt=\"edf\", overwrite=True)\n",
      "/tmp/ipykernel_3734/3037979607.py:81: RuntimeWarning: EDF format requires equal-length data blocks, so 0.996 seconds of edge values were appended to all channels when writing the final block.\n",
      "  raw_crop.export(save_path, fmt=\"edf\", overwrite=True)\n",
      "/tmp/ipykernel_3734/3037979607.py:81: RuntimeWarning: EDF format requires equal-length data blocks, so 0.996 seconds of edge values were appended to all channels when writing the final block.\n",
      "  raw_crop.export(save_path, fmt=\"edf\", overwrite=True)\n",
      "/tmp/ipykernel_3734/3037979607.py:81: RuntimeWarning: EDF format requires equal-length data blocks, so 0.996 seconds of edge values were appended to all channels when writing the final block.\n",
      "  raw_crop.export(save_path, fmt=\"edf\", overwrite=True)\n",
      "/tmp/ipykernel_3734/3037979607.py:81: RuntimeWarning: EDF format requires equal-length data blocks, so 0.996 seconds of edge values were appended to all channels when writing the final block.\n",
      "  raw_crop.export(save_path, fmt=\"edf\", overwrite=True)\n",
      "/tmp/ipykernel_3734/3037979607.py:81: RuntimeWarning: EDF format requires equal-length data blocks, so 0.996 seconds of edge values were appended to all channels when writing the final block.\n",
      "  raw_crop.export(save_path, fmt=\"edf\", overwrite=True)\n",
      "/tmp/ipykernel_3734/3037979607.py:81: RuntimeWarning: EDF format requires equal-length data blocks, so 0.996 seconds of edge values were appended to all channels when writing the final block.\n",
      "  raw_crop.export(save_path, fmt=\"edf\", overwrite=True)\n"
     ]
    },
    {
     "name": "stdout",
     "output_type": "stream",
     "text": [
      "Normal segments saved for chb18_13.edf\n",
      "Normal segments saved for chb18_14.edf\n"
     ]
    },
    {
     "name": "stderr",
     "output_type": "stream",
     "text": [
      "/tmp/ipykernel_3734/3037979607.py:81: RuntimeWarning: EDF format requires equal-length data blocks, so 0.996 seconds of edge values were appended to all channels when writing the final block.\n",
      "  raw_crop.export(save_path, fmt=\"edf\", overwrite=True)\n",
      "/tmp/ipykernel_3734/3037979607.py:81: RuntimeWarning: EDF format requires equal-length data blocks, so 0.996 seconds of edge values were appended to all channels when writing the final block.\n",
      "  raw_crop.export(save_path, fmt=\"edf\", overwrite=True)\n",
      "/tmp/ipykernel_3734/3037979607.py:81: RuntimeWarning: EDF format requires equal-length data blocks, so 0.996 seconds of edge values were appended to all channels when writing the final block.\n",
      "  raw_crop.export(save_path, fmt=\"edf\", overwrite=True)\n",
      "/tmp/ipykernel_3734/3037979607.py:81: RuntimeWarning: EDF format requires equal-length data blocks, so 0.996 seconds of edge values were appended to all channels when writing the final block.\n",
      "  raw_crop.export(save_path, fmt=\"edf\", overwrite=True)\n",
      "/tmp/ipykernel_3734/3037979607.py:81: RuntimeWarning: EDF format requires equal-length data blocks, so 0.996 seconds of edge values were appended to all channels when writing the final block.\n",
      "  raw_crop.export(save_path, fmt=\"edf\", overwrite=True)\n",
      "/tmp/ipykernel_3734/3037979607.py:81: RuntimeWarning: EDF format requires equal-length data blocks, so 0.996 seconds of edge values were appended to all channels when writing the final block.\n",
      "  raw_crop.export(save_path, fmt=\"edf\", overwrite=True)\n",
      "/tmp/ipykernel_3734/3037979607.py:81: RuntimeWarning: EDF format requires equal-length data blocks, so 0.996 seconds of edge values were appended to all channels when writing the final block.\n",
      "  raw_crop.export(save_path, fmt=\"edf\", overwrite=True)\n",
      "/tmp/ipykernel_3734/3037979607.py:81: RuntimeWarning: EDF format requires equal-length data blocks, so 0.996 seconds of edge values were appended to all channels when writing the final block.\n",
      "  raw_crop.export(save_path, fmt=\"edf\", overwrite=True)\n",
      "/tmp/ipykernel_3734/3037979607.py:81: RuntimeWarning: EDF format requires equal-length data blocks, so 0.996 seconds of edge values were appended to all channels when writing the final block.\n",
      "  raw_crop.export(save_path, fmt=\"edf\", overwrite=True)\n",
      "/tmp/ipykernel_3734/3037979607.py:81: RuntimeWarning: EDF format requires equal-length data blocks, so 0.996 seconds of edge values were appended to all channels when writing the final block.\n",
      "  raw_crop.export(save_path, fmt=\"edf\", overwrite=True)\n",
      "/tmp/ipykernel_3734/3037979607.py:81: RuntimeWarning: EDF format requires equal-length data blocks, so 0.996 seconds of edge values were appended to all channels when writing the final block.\n",
      "  raw_crop.export(save_path, fmt=\"edf\", overwrite=True)\n",
      "/tmp/ipykernel_3734/3037979607.py:81: RuntimeWarning: EDF format requires equal-length data blocks, so 0.996 seconds of edge values were appended to all channels when writing the final block.\n",
      "  raw_crop.export(save_path, fmt=\"edf\", overwrite=True)\n"
     ]
    },
    {
     "name": "stdout",
     "output_type": "stream",
     "text": [
      "Normal segments saved for chb18_15.edf\n",
      "Normal segments saved for chb18_16.edf\n"
     ]
    },
    {
     "name": "stderr",
     "output_type": "stream",
     "text": [
      "/tmp/ipykernel_3734/3037979607.py:81: RuntimeWarning: EDF format requires equal-length data blocks, so 0.996 seconds of edge values were appended to all channels when writing the final block.\n",
      "  raw_crop.export(save_path, fmt=\"edf\", overwrite=True)\n",
      "/tmp/ipykernel_3734/3037979607.py:81: RuntimeWarning: EDF format requires equal-length data blocks, so 0.996 seconds of edge values were appended to all channels when writing the final block.\n",
      "  raw_crop.export(save_path, fmt=\"edf\", overwrite=True)\n",
      "/tmp/ipykernel_3734/3037979607.py:81: RuntimeWarning: EDF format requires equal-length data blocks, so 0.996 seconds of edge values were appended to all channels when writing the final block.\n",
      "  raw_crop.export(save_path, fmt=\"edf\", overwrite=True)\n",
      "/tmp/ipykernel_3734/3037979607.py:81: RuntimeWarning: EDF format requires equal-length data blocks, so 0.996 seconds of edge values were appended to all channels when writing the final block.\n",
      "  raw_crop.export(save_path, fmt=\"edf\", overwrite=True)\n",
      "/tmp/ipykernel_3734/3037979607.py:81: RuntimeWarning: EDF format requires equal-length data blocks, so 0.996 seconds of edge values were appended to all channels when writing the final block.\n",
      "  raw_crop.export(save_path, fmt=\"edf\", overwrite=True)\n",
      "/tmp/ipykernel_3734/3037979607.py:81: RuntimeWarning: EDF format requires equal-length data blocks, so 0.996 seconds of edge values were appended to all channels when writing the final block.\n",
      "  raw_crop.export(save_path, fmt=\"edf\", overwrite=True)\n"
     ]
    },
    {
     "name": "stdout",
     "output_type": "stream",
     "text": [
      "Normal segments saved for chb18_17.edf\n",
      "Normal segments saved for chb18_18.edf\n"
     ]
    },
    {
     "name": "stderr",
     "output_type": "stream",
     "text": [
      "/tmp/ipykernel_3734/3037979607.py:81: RuntimeWarning: EDF format requires equal-length data blocks, so 0.996 seconds of edge values were appended to all channels when writing the final block.\n",
      "  raw_crop.export(save_path, fmt=\"edf\", overwrite=True)\n",
      "/tmp/ipykernel_3734/3037979607.py:81: RuntimeWarning: EDF format requires equal-length data blocks, so 0.996 seconds of edge values were appended to all channels when writing the final block.\n",
      "  raw_crop.export(save_path, fmt=\"edf\", overwrite=True)\n",
      "/tmp/ipykernel_3734/3037979607.py:81: RuntimeWarning: EDF format requires equal-length data blocks, so 0.996 seconds of edge values were appended to all channels when writing the final block.\n",
      "  raw_crop.export(save_path, fmt=\"edf\", overwrite=True)\n",
      "/tmp/ipykernel_3734/3037979607.py:81: RuntimeWarning: EDF format requires equal-length data blocks, so 0.996 seconds of edge values were appended to all channels when writing the final block.\n",
      "  raw_crop.export(save_path, fmt=\"edf\", overwrite=True)\n",
      "/tmp/ipykernel_3734/3037979607.py:81: RuntimeWarning: EDF format requires equal-length data blocks, so 0.996 seconds of edge values were appended to all channels when writing the final block.\n",
      "  raw_crop.export(save_path, fmt=\"edf\", overwrite=True)\n",
      "/tmp/ipykernel_3734/3037979607.py:81: RuntimeWarning: EDF format requires equal-length data blocks, so 0.996 seconds of edge values were appended to all channels when writing the final block.\n",
      "  raw_crop.export(save_path, fmt=\"edf\", overwrite=True)\n",
      "/tmp/ipykernel_3734/3037979607.py:81: RuntimeWarning: EDF format requires equal-length data blocks, so 0.996 seconds of edge values were appended to all channels when writing the final block.\n",
      "  raw_crop.export(save_path, fmt=\"edf\", overwrite=True)\n",
      "/tmp/ipykernel_3734/3037979607.py:81: RuntimeWarning: EDF format requires equal-length data blocks, so 0.996 seconds of edge values were appended to all channels when writing the final block.\n",
      "  raw_crop.export(save_path, fmt=\"edf\", overwrite=True)\n",
      "/tmp/ipykernel_3734/3037979607.py:81: RuntimeWarning: EDF format requires equal-length data blocks, so 0.996 seconds of edge values were appended to all channels when writing the final block.\n",
      "  raw_crop.export(save_path, fmt=\"edf\", overwrite=True)\n",
      "/tmp/ipykernel_3734/3037979607.py:81: RuntimeWarning: EDF format requires equal-length data blocks, so 0.996 seconds of edge values were appended to all channels when writing the final block.\n",
      "  raw_crop.export(save_path, fmt=\"edf\", overwrite=True)\n",
      "/tmp/ipykernel_3734/3037979607.py:81: RuntimeWarning: EDF format requires equal-length data blocks, so 0.996 seconds of edge values were appended to all channels when writing the final block.\n",
      "  raw_crop.export(save_path, fmt=\"edf\", overwrite=True)\n",
      "/tmp/ipykernel_3734/3037979607.py:81: RuntimeWarning: EDF format requires equal-length data blocks, so 0.996 seconds of edge values were appended to all channels when writing the final block.\n",
      "  raw_crop.export(save_path, fmt=\"edf\", overwrite=True)\n"
     ]
    },
    {
     "name": "stdout",
     "output_type": "stream",
     "text": [
      "Normal segments saved for chb18_19.edf\n",
      "Normal segments saved for chb18_20.edf\n"
     ]
    },
    {
     "name": "stderr",
     "output_type": "stream",
     "text": [
      "/tmp/ipykernel_3734/3037979607.py:81: RuntimeWarning: EDF format requires equal-length data blocks, so 0.996 seconds of edge values were appended to all channels when writing the final block.\n",
      "  raw_crop.export(save_path, fmt=\"edf\", overwrite=True)\n",
      "/tmp/ipykernel_3734/3037979607.py:81: RuntimeWarning: EDF format requires equal-length data blocks, so 0.996 seconds of edge values were appended to all channels when writing the final block.\n",
      "  raw_crop.export(save_path, fmt=\"edf\", overwrite=True)\n",
      "/tmp/ipykernel_3734/3037979607.py:81: RuntimeWarning: EDF format requires equal-length data blocks, so 0.996 seconds of edge values were appended to all channels when writing the final block.\n",
      "  raw_crop.export(save_path, fmt=\"edf\", overwrite=True)\n",
      "/tmp/ipykernel_3734/3037979607.py:81: RuntimeWarning: EDF format requires equal-length data blocks, so 0.996 seconds of edge values were appended to all channels when writing the final block.\n",
      "  raw_crop.export(save_path, fmt=\"edf\", overwrite=True)\n",
      "/tmp/ipykernel_3734/3037979607.py:81: RuntimeWarning: EDF format requires equal-length data blocks, so 0.996 seconds of edge values were appended to all channels when writing the final block.\n",
      "  raw_crop.export(save_path, fmt=\"edf\", overwrite=True)\n",
      "/tmp/ipykernel_3734/3037979607.py:81: RuntimeWarning: EDF format requires equal-length data blocks, so 0.996 seconds of edge values were appended to all channels when writing the final block.\n",
      "  raw_crop.export(save_path, fmt=\"edf\", overwrite=True)\n",
      "/tmp/ipykernel_3734/3037979607.py:81: RuntimeWarning: EDF format requires equal-length data blocks, so 0.996 seconds of edge values were appended to all channels when writing the final block.\n",
      "  raw_crop.export(save_path, fmt=\"edf\", overwrite=True)\n",
      "/tmp/ipykernel_3734/3037979607.py:81: RuntimeWarning: EDF format requires equal-length data blocks, so 0.996 seconds of edge values were appended to all channels when writing the final block.\n",
      "  raw_crop.export(save_path, fmt=\"edf\", overwrite=True)\n",
      "/tmp/ipykernel_3734/3037979607.py:81: RuntimeWarning: EDF format requires equal-length data blocks, so 0.996 seconds of edge values were appended to all channels when writing the final block.\n",
      "  raw_crop.export(save_path, fmt=\"edf\", overwrite=True)\n",
      "/tmp/ipykernel_3734/3037979607.py:81: RuntimeWarning: EDF format requires equal-length data blocks, so 0.996 seconds of edge values were appended to all channels when writing the final block.\n",
      "  raw_crop.export(save_path, fmt=\"edf\", overwrite=True)\n",
      "/tmp/ipykernel_3734/3037979607.py:81: RuntimeWarning: EDF format requires equal-length data blocks, so 0.996 seconds of edge values were appended to all channels when writing the final block.\n",
      "  raw_crop.export(save_path, fmt=\"edf\", overwrite=True)\n",
      "/tmp/ipykernel_3734/3037979607.py:81: RuntimeWarning: EDF format requires equal-length data blocks, so 0.996 seconds of edge values were appended to all channels when writing the final block.\n",
      "  raw_crop.export(save_path, fmt=\"edf\", overwrite=True)\n"
     ]
    },
    {
     "name": "stdout",
     "output_type": "stream",
     "text": [
      "Normal segments saved for chb18_21.edf\n",
      "Normal segments saved for chb18_22.edf\n"
     ]
    },
    {
     "name": "stderr",
     "output_type": "stream",
     "text": [
      "/tmp/ipykernel_3734/3037979607.py:81: RuntimeWarning: EDF format requires equal-length data blocks, so 0.996 seconds of edge values were appended to all channels when writing the final block.\n",
      "  raw_crop.export(save_path, fmt=\"edf\", overwrite=True)\n",
      "/tmp/ipykernel_3734/3037979607.py:81: RuntimeWarning: EDF format requires equal-length data blocks, so 0.996 seconds of edge values were appended to all channels when writing the final block.\n",
      "  raw_crop.export(save_path, fmt=\"edf\", overwrite=True)\n",
      "/tmp/ipykernel_3734/3037979607.py:81: RuntimeWarning: EDF format requires equal-length data blocks, so 0.996 seconds of edge values were appended to all channels when writing the final block.\n",
      "  raw_crop.export(save_path, fmt=\"edf\", overwrite=True)\n",
      "/tmp/ipykernel_3734/3037979607.py:81: RuntimeWarning: EDF format requires equal-length data blocks, so 0.996 seconds of edge values were appended to all channels when writing the final block.\n",
      "  raw_crop.export(save_path, fmt=\"edf\", overwrite=True)\n",
      "/tmp/ipykernel_3734/3037979607.py:81: RuntimeWarning: EDF format requires equal-length data blocks, so 0.996 seconds of edge values were appended to all channels when writing the final block.\n",
      "  raw_crop.export(save_path, fmt=\"edf\", overwrite=True)\n",
      "/tmp/ipykernel_3734/3037979607.py:81: RuntimeWarning: EDF format requires equal-length data blocks, so 0.996 seconds of edge values were appended to all channels when writing the final block.\n",
      "  raw_crop.export(save_path, fmt=\"edf\", overwrite=True)\n"
     ]
    },
    {
     "name": "stdout",
     "output_type": "stream",
     "text": [
      "Normal segments saved for chb18_23.edf\n",
      "Normal segments saved for chb18_24.edf\n"
     ]
    },
    {
     "name": "stderr",
     "output_type": "stream",
     "text": [
      "/tmp/ipykernel_3734/3037979607.py:81: RuntimeWarning: EDF format requires equal-length data blocks, so 0.996 seconds of edge values were appended to all channels when writing the final block.\n",
      "  raw_crop.export(save_path, fmt=\"edf\", overwrite=True)\n",
      "/tmp/ipykernel_3734/3037979607.py:81: RuntimeWarning: EDF format requires equal-length data blocks, so 0.996 seconds of edge values were appended to all channels when writing the final block.\n",
      "  raw_crop.export(save_path, fmt=\"edf\", overwrite=True)\n",
      "/tmp/ipykernel_3734/3037979607.py:81: RuntimeWarning: EDF format requires equal-length data blocks, so 0.996 seconds of edge values were appended to all channels when writing the final block.\n",
      "  raw_crop.export(save_path, fmt=\"edf\", overwrite=True)\n",
      "/tmp/ipykernel_3734/3037979607.py:81: RuntimeWarning: EDF format requires equal-length data blocks, so 0.996 seconds of edge values were appended to all channels when writing the final block.\n",
      "  raw_crop.export(save_path, fmt=\"edf\", overwrite=True)\n",
      "/tmp/ipykernel_3734/3037979607.py:81: RuntimeWarning: EDF format requires equal-length data blocks, so 0.996 seconds of edge values were appended to all channels when writing the final block.\n",
      "  raw_crop.export(save_path, fmt=\"edf\", overwrite=True)\n",
      "/tmp/ipykernel_3734/3037979607.py:81: RuntimeWarning: EDF format requires equal-length data blocks, so 0.996 seconds of edge values were appended to all channels when writing the final block.\n",
      "  raw_crop.export(save_path, fmt=\"edf\", overwrite=True)\n",
      "/tmp/ipykernel_3734/3037979607.py:81: RuntimeWarning: EDF format requires equal-length data blocks, so 0.996 seconds of edge values were appended to all channels when writing the final block.\n",
      "  raw_crop.export(save_path, fmt=\"edf\", overwrite=True)\n",
      "/tmp/ipykernel_3734/3037979607.py:81: RuntimeWarning: EDF format requires equal-length data blocks, so 0.996 seconds of edge values were appended to all channels when writing the final block.\n",
      "  raw_crop.export(save_path, fmt=\"edf\", overwrite=True)\n",
      "/tmp/ipykernel_3734/3037979607.py:81: RuntimeWarning: EDF format requires equal-length data blocks, so 0.996 seconds of edge values were appended to all channels when writing the final block.\n",
      "  raw_crop.export(save_path, fmt=\"edf\", overwrite=True)\n",
      "/tmp/ipykernel_3734/3037979607.py:81: RuntimeWarning: EDF format requires equal-length data blocks, so 0.996 seconds of edge values were appended to all channels when writing the final block.\n",
      "  raw_crop.export(save_path, fmt=\"edf\", overwrite=True)\n",
      "/tmp/ipykernel_3734/3037979607.py:81: RuntimeWarning: EDF format requires equal-length data blocks, so 0.996 seconds of edge values were appended to all channels when writing the final block.\n",
      "  raw_crop.export(save_path, fmt=\"edf\", overwrite=True)\n",
      "/tmp/ipykernel_3734/3037979607.py:81: RuntimeWarning: EDF format requires equal-length data blocks, so 0.996 seconds of edge values were appended to all channels when writing the final block.\n",
      "  raw_crop.export(save_path, fmt=\"edf\", overwrite=True)\n"
     ]
    },
    {
     "name": "stdout",
     "output_type": "stream",
     "text": [
      "Normal segments saved for chb18_25.edf\n",
      "Normal segments saved for chb18_26.edf\n"
     ]
    },
    {
     "name": "stderr",
     "output_type": "stream",
     "text": [
      "/tmp/ipykernel_3734/3037979607.py:81: RuntimeWarning: EDF format requires equal-length data blocks, so 0.996 seconds of edge values were appended to all channels when writing the final block.\n",
      "  raw_crop.export(save_path, fmt=\"edf\", overwrite=True)\n",
      "/tmp/ipykernel_3734/3037979607.py:81: RuntimeWarning: EDF format requires equal-length data blocks, so 0.996 seconds of edge values were appended to all channels when writing the final block.\n",
      "  raw_crop.export(save_path, fmt=\"edf\", overwrite=True)\n",
      "/tmp/ipykernel_3734/3037979607.py:81: RuntimeWarning: EDF format requires equal-length data blocks, so 0.996 seconds of edge values were appended to all channels when writing the final block.\n",
      "  raw_crop.export(save_path, fmt=\"edf\", overwrite=True)\n",
      "/tmp/ipykernel_3734/3037979607.py:81: RuntimeWarning: EDF format requires equal-length data blocks, so 0.996 seconds of edge values were appended to all channels when writing the final block.\n",
      "  raw_crop.export(save_path, fmt=\"edf\", overwrite=True)\n",
      "/tmp/ipykernel_3734/3037979607.py:81: RuntimeWarning: EDF format requires equal-length data blocks, so 0.996 seconds of edge values were appended to all channels when writing the final block.\n",
      "  raw_crop.export(save_path, fmt=\"edf\", overwrite=True)\n",
      "/tmp/ipykernel_3734/3037979607.py:81: RuntimeWarning: EDF format requires equal-length data blocks, so 0.996 seconds of edge values were appended to all channels when writing the final block.\n",
      "  raw_crop.export(save_path, fmt=\"edf\", overwrite=True)\n",
      "/tmp/ipykernel_3734/3037979607.py:81: RuntimeWarning: EDF format requires equal-length data blocks, so 0.996 seconds of edge values were appended to all channels when writing the final block.\n",
      "  raw_crop.export(save_path, fmt=\"edf\", overwrite=True)\n",
      "/tmp/ipykernel_3734/3037979607.py:81: RuntimeWarning: EDF format requires equal-length data blocks, so 0.996 seconds of edge values were appended to all channels when writing the final block.\n",
      "  raw_crop.export(save_path, fmt=\"edf\", overwrite=True)\n",
      "/tmp/ipykernel_3734/3037979607.py:81: RuntimeWarning: EDF format requires equal-length data blocks, so 0.996 seconds of edge values were appended to all channels when writing the final block.\n",
      "  raw_crop.export(save_path, fmt=\"edf\", overwrite=True)\n",
      "/tmp/ipykernel_3734/3037979607.py:81: RuntimeWarning: EDF format requires equal-length data blocks, so 0.996 seconds of edge values were appended to all channels when writing the final block.\n",
      "  raw_crop.export(save_path, fmt=\"edf\", overwrite=True)\n",
      "/tmp/ipykernel_3734/3037979607.py:81: RuntimeWarning: EDF format requires equal-length data blocks, so 0.996 seconds of edge values were appended to all channels when writing the final block.\n",
      "  raw_crop.export(save_path, fmt=\"edf\", overwrite=True)\n",
      "/tmp/ipykernel_3734/3037979607.py:81: RuntimeWarning: EDF format requires equal-length data blocks, so 0.996 seconds of edge values were appended to all channels when writing the final block.\n",
      "  raw_crop.export(save_path, fmt=\"edf\", overwrite=True)\n"
     ]
    },
    {
     "name": "stdout",
     "output_type": "stream",
     "text": [
      "Normal segments saved for chb18_27.edf\n",
      "Normal segments saved for chb18_28.edf\n"
     ]
    },
    {
     "name": "stderr",
     "output_type": "stream",
     "text": [
      "/tmp/ipykernel_3734/3037979607.py:81: RuntimeWarning: EDF format requires equal-length data blocks, so 0.996 seconds of edge values were appended to all channels when writing the final block.\n",
      "  raw_crop.export(save_path, fmt=\"edf\", overwrite=True)\n",
      "/tmp/ipykernel_3734/3037979607.py:52: RuntimeWarning: EDF format requires equal-length data blocks, so 0.996 seconds of edge values were appended to all channels when writing the final block.\n",
      "  segment.export(save_path, fmt='edf')\n",
      "/tmp/ipykernel_3734/3037979607.py:52: RuntimeWarning: EDF format requires equal-length data blocks, so 0.996 seconds of edge values were appended to all channels when writing the final block.\n",
      "  segment.export(save_path, fmt='edf')\n"
     ]
    },
    {
     "name": "stdout",
     "output_type": "stream",
     "text": [
      "  → saved: chb18_29_seizure_1.edf\n",
      "  → saved: chb18_30_seizure_1.edf\n",
      "  → saved: chb18_31_seizure_1.edf\n"
     ]
    },
    {
     "name": "stderr",
     "output_type": "stream",
     "text": [
      "/tmp/ipykernel_3734/3037979607.py:52: RuntimeWarning: EDF format requires equal-length data blocks, so 0.996 seconds of edge values were appended to all channels when writing the final block.\n",
      "  segment.export(save_path, fmt='edf')\n",
      "/tmp/ipykernel_3734/3037979607.py:52: RuntimeWarning: EDF format requires equal-length data blocks, so 0.996 seconds of edge values were appended to all channels when writing the final block.\n",
      "  segment.export(save_path, fmt='edf')\n",
      "/tmp/ipykernel_3734/3037979607.py:81: RuntimeWarning: EDF format requires equal-length data blocks, so 0.996 seconds of edge values were appended to all channels when writing the final block.\n",
      "  raw_crop.export(save_path, fmt=\"edf\", overwrite=True)\n"
     ]
    },
    {
     "name": "stdout",
     "output_type": "stream",
     "text": [
      "  → saved: chb18_32_seizure_1.edf\n",
      "Normal segments saved for chb18_33.edf\n"
     ]
    },
    {
     "name": "stderr",
     "output_type": "stream",
     "text": [
      "/tmp/ipykernel_3734/3037979607.py:81: RuntimeWarning: EDF format requires equal-length data blocks, so 0.996 seconds of edge values were appended to all channels when writing the final block.\n",
      "  raw_crop.export(save_path, fmt=\"edf\", overwrite=True)\n",
      "/tmp/ipykernel_3734/3037979607.py:81: RuntimeWarning: EDF format requires equal-length data blocks, so 0.996 seconds of edge values were appended to all channels when writing the final block.\n",
      "  raw_crop.export(save_path, fmt=\"edf\", overwrite=True)\n",
      "/tmp/ipykernel_3734/3037979607.py:81: RuntimeWarning: EDF format requires equal-length data blocks, so 0.996 seconds of edge values were appended to all channels when writing the final block.\n",
      "  raw_crop.export(save_path, fmt=\"edf\", overwrite=True)\n",
      "/tmp/ipykernel_3734/3037979607.py:81: RuntimeWarning: EDF format requires equal-length data blocks, so 0.996 seconds of edge values were appended to all channels when writing the final block.\n",
      "  raw_crop.export(save_path, fmt=\"edf\", overwrite=True)\n",
      "/tmp/ipykernel_3734/3037979607.py:81: RuntimeWarning: EDF format requires equal-length data blocks, so 0.996 seconds of edge values were appended to all channels when writing the final block.\n",
      "  raw_crop.export(save_path, fmt=\"edf\", overwrite=True)\n",
      "/tmp/ipykernel_3734/3037979607.py:81: RuntimeWarning: EDF format requires equal-length data blocks, so 0.996 seconds of edge values were appended to all channels when writing the final block.\n",
      "  raw_crop.export(save_path, fmt=\"edf\", overwrite=True)\n",
      "/tmp/ipykernel_3734/3037979607.py:81: RuntimeWarning: EDF format requires equal-length data blocks, so 0.996 seconds of edge values were appended to all channels when writing the final block.\n",
      "  raw_crop.export(save_path, fmt=\"edf\", overwrite=True)\n",
      "/tmp/ipykernel_3734/3037979607.py:81: RuntimeWarning: EDF format requires equal-length data blocks, so 0.996 seconds of edge values were appended to all channels when writing the final block.\n",
      "  raw_crop.export(save_path, fmt=\"edf\", overwrite=True)\n",
      "/tmp/ipykernel_3734/3037979607.py:81: RuntimeWarning: EDF format requires equal-length data blocks, so 0.996 seconds of edge values were appended to all channels when writing the final block.\n",
      "  raw_crop.export(save_path, fmt=\"edf\", overwrite=True)\n",
      "/tmp/ipykernel_3734/3037979607.py:52: RuntimeWarning: EDF format requires equal-length data blocks, so 0.996 seconds of edge values were appended to all channels when writing the final block.\n",
      "  segment.export(save_path, fmt='edf')\n"
     ]
    },
    {
     "name": "stdout",
     "output_type": "stream",
     "text": [
      "Normal segments saved for chb18_34.edf\n",
      "  → saved: chb18_35_seizure_1.edf\n",
      "  → saved: chb18_36_seizure_1.edf\n"
     ]
    },
    {
     "name": "stderr",
     "output_type": "stream",
     "text": [
      "/tmp/ipykernel_3734/3037979607.py:52: RuntimeWarning: EDF format requires equal-length data blocks, so 0.996 seconds of edge values were appended to all channels when writing the final block.\n",
      "  segment.export(save_path, fmt='edf')\n",
      "/tmp/ipykernel_3734/3037979607.py:52: RuntimeWarning: EDF format requires equal-length data blocks, so 0.996 seconds of edge values were appended to all channels when writing the final block.\n",
      "  segment.export(save_path, fmt='edf')\n"
     ]
    },
    {
     "name": "stdout",
     "output_type": "stream",
     "text": [
      "  → saved: chb23_06_seizure_1.edf\n",
      "Normal segments saved for chb23_07.edf\n"
     ]
    },
    {
     "name": "stderr",
     "output_type": "stream",
     "text": [
      "/tmp/ipykernel_3734/3037979607.py:81: RuntimeWarning: EDF format requires equal-length data blocks, so 0.996 seconds of edge values were appended to all channels when writing the final block.\n",
      "  raw_crop.export(save_path, fmt=\"edf\", overwrite=True)\n",
      "/tmp/ipykernel_3734/3037979607.py:81: RuntimeWarning: EDF format requires equal-length data blocks, so 0.996 seconds of edge values were appended to all channels when writing the final block.\n",
      "  raw_crop.export(save_path, fmt=\"edf\", overwrite=True)\n",
      "/tmp/ipykernel_3734/3037979607.py:81: RuntimeWarning: EDF format requires equal-length data blocks, so 0.996 seconds of edge values were appended to all channels when writing the final block.\n",
      "  raw_crop.export(save_path, fmt=\"edf\", overwrite=True)\n",
      "/tmp/ipykernel_3734/3037979607.py:81: RuntimeWarning: EDF format requires equal-length data blocks, so 0.996 seconds of edge values were appended to all channels when writing the final block.\n",
      "  raw_crop.export(save_path, fmt=\"edf\", overwrite=True)\n",
      "/tmp/ipykernel_3734/3037979607.py:81: RuntimeWarning: EDF format requires equal-length data blocks, so 0.996 seconds of edge values were appended to all channels when writing the final block.\n",
      "  raw_crop.export(save_path, fmt=\"edf\", overwrite=True)\n",
      "/tmp/ipykernel_3734/3037979607.py:52: RuntimeWarning: EDF format requires equal-length data blocks, so 0.996 seconds of edge values were appended to all channels when writing the final block.\n",
      "  segment.export(save_path, fmt='edf')\n",
      "/tmp/ipykernel_3734/3037979607.py:52: RuntimeWarning: EDF format requires equal-length data blocks, so 0.996 seconds of edge values were appended to all channels when writing the final block.\n",
      "  segment.export(save_path, fmt='edf')\n"
     ]
    },
    {
     "name": "stdout",
     "output_type": "stream",
     "text": [
      "  → saved: chb23_08_seizure_1.edf\n",
      "  → saved: chb23_08_seizure_2.edf\n"
     ]
    },
    {
     "name": "stderr",
     "output_type": "stream",
     "text": [
      "/tmp/ipykernel_3734/3037979607.py:52: RuntimeWarning: EDF format requires equal-length data blocks, so 0.996 seconds of edge values were appended to all channels when writing the final block.\n",
      "  segment.export(save_path, fmt='edf')\n",
      "/tmp/ipykernel_3734/3037979607.py:52: RuntimeWarning: EDF format requires equal-length data blocks, so 0.996 seconds of edge values were appended to all channels when writing the final block.\n",
      "  segment.export(save_path, fmt='edf')\n",
      "/tmp/ipykernel_3734/3037979607.py:52: RuntimeWarning: EDF format requires equal-length data blocks, so 0.996 seconds of edge values were appended to all channels when writing the final block.\n",
      "  segment.export(save_path, fmt='edf')\n"
     ]
    },
    {
     "name": "stdout",
     "output_type": "stream",
     "text": [
      "  → saved: chb23_09_seizure_1.edf\n",
      "  → saved: chb23_09_seizure_2.edf\n",
      "  → saved: chb23_09_seizure_3.edf\n"
     ]
    },
    {
     "name": "stderr",
     "output_type": "stream",
     "text": [
      "/tmp/ipykernel_3734/3037979607.py:52: RuntimeWarning: EDF format requires equal-length data blocks, so 0.996 seconds of edge values were appended to all channels when writing the final block.\n",
      "  segment.export(save_path, fmt='edf')\n"
     ]
    },
    {
     "name": "stdout",
     "output_type": "stream",
     "text": [
      "  → saved: chb23_09_seizure_4.edf\n"
     ]
    },
    {
     "name": "stderr",
     "output_type": "stream",
     "text": [
      "/tmp/ipykernel_3734/3037979607.py:81: RuntimeWarning: EDF format requires equal-length data blocks, so 0.996 seconds of edge values were appended to all channels when writing the final block.\n",
      "  raw_crop.export(save_path, fmt=\"edf\", overwrite=True)\n",
      "/tmp/ipykernel_3734/3037979607.py:81: RuntimeWarning: EDF format requires equal-length data blocks, so 0.996 seconds of edge values were appended to all channels when writing the final block.\n",
      "  raw_crop.export(save_path, fmt=\"edf\", overwrite=True)\n",
      "/tmp/ipykernel_3734/3037979607.py:81: RuntimeWarning: EDF format requires equal-length data blocks, so 0.996 seconds of edge values were appended to all channels when writing the final block.\n",
      "  raw_crop.export(save_path, fmt=\"edf\", overwrite=True)\n",
      "/tmp/ipykernel_3734/3037979607.py:81: RuntimeWarning: EDF format requires equal-length data blocks, so 0.996 seconds of edge values were appended to all channels when writing the final block.\n",
      "  raw_crop.export(save_path, fmt=\"edf\", overwrite=True)\n",
      "/tmp/ipykernel_3734/3037979607.py:81: RuntimeWarning: EDF format requires equal-length data blocks, so 0.996 seconds of edge values were appended to all channels when writing the final block.\n",
      "  raw_crop.export(save_path, fmt=\"edf\", overwrite=True)\n"
     ]
    },
    {
     "name": "stdout",
     "output_type": "stream",
     "text": [
      "Normal segments saved for chb23_10.edf\n"
     ]
    },
    {
     "name": "stderr",
     "output_type": "stream",
     "text": [
      "/tmp/ipykernel_3734/3037979607.py:81: RuntimeWarning: EDF format requires equal-length data blocks, so 0.996 seconds of edge values were appended to all channels when writing the final block.\n",
      "  raw_crop.export(save_path, fmt=\"edf\", overwrite=True)\n",
      "/tmp/ipykernel_3734/3037979607.py:81: RuntimeWarning: EDF format requires equal-length data blocks, so 0.996 seconds of edge values were appended to all channels when writing the final block.\n",
      "  raw_crop.export(save_path, fmt=\"edf\", overwrite=True)\n",
      "/tmp/ipykernel_3734/3037979607.py:81: RuntimeWarning: EDF format requires equal-length data blocks, so 0.996 seconds of edge values were appended to all channels when writing the final block.\n",
      "  raw_crop.export(save_path, fmt=\"edf\", overwrite=True)\n",
      "/tmp/ipykernel_3734/3037979607.py:81: RuntimeWarning: EDF format requires equal-length data blocks, so 0.996 seconds of edge values were appended to all channels when writing the final block.\n",
      "  raw_crop.export(save_path, fmt=\"edf\", overwrite=True)\n",
      "/tmp/ipykernel_3734/3037979607.py:81: RuntimeWarning: EDF format requires equal-length data blocks, so 0.996 seconds of edge values were appended to all channels when writing the final block.\n",
      "  raw_crop.export(save_path, fmt=\"edf\", overwrite=True)\n"
     ]
    },
    {
     "name": "stdout",
     "output_type": "stream",
     "text": [
      "Normal segments saved for chb23_16.edf\n"
     ]
    },
    {
     "name": "stderr",
     "output_type": "stream",
     "text": [
      "/tmp/ipykernel_3734/3037979607.py:81: RuntimeWarning: EDF format requires equal-length data blocks, so 0.996 seconds of edge values were appended to all channels when writing the final block.\n",
      "  raw_crop.export(save_path, fmt=\"edf\", overwrite=True)\n",
      "/tmp/ipykernel_3734/3037979607.py:81: RuntimeWarning: EDF format requires equal-length data blocks, so 0.996 seconds of edge values were appended to all channels when writing the final block.\n",
      "  raw_crop.export(save_path, fmt=\"edf\", overwrite=True)\n",
      "/tmp/ipykernel_3734/3037979607.py:81: RuntimeWarning: EDF format requires equal-length data blocks, so 0.996 seconds of edge values were appended to all channels when writing the final block.\n",
      "  raw_crop.export(save_path, fmt=\"edf\", overwrite=True)\n",
      "/tmp/ipykernel_3734/3037979607.py:81: RuntimeWarning: EDF format requires equal-length data blocks, so 0.996 seconds of edge values were appended to all channels when writing the final block.\n",
      "  raw_crop.export(save_path, fmt=\"edf\", overwrite=True)\n",
      "/tmp/ipykernel_3734/3037979607.py:81: RuntimeWarning: EDF format requires equal-length data blocks, so 0.996 seconds of edge values were appended to all channels when writing the final block.\n",
      "  raw_crop.export(save_path, fmt=\"edf\", overwrite=True)\n"
     ]
    },
    {
     "name": "stdout",
     "output_type": "stream",
     "text": [
      "Normal segments saved for chb23_17.edf\n"
     ]
    },
    {
     "name": "stderr",
     "output_type": "stream",
     "text": [
      "/tmp/ipykernel_3734/3037979607.py:81: RuntimeWarning: EDF format requires equal-length data blocks, so 0.996 seconds of edge values were appended to all channels when writing the final block.\n",
      "  raw_crop.export(save_path, fmt=\"edf\", overwrite=True)\n",
      "/tmp/ipykernel_3734/3037979607.py:81: RuntimeWarning: EDF format requires equal-length data blocks, so 0.996 seconds of edge values were appended to all channels when writing the final block.\n",
      "  raw_crop.export(save_path, fmt=\"edf\", overwrite=True)\n",
      "/tmp/ipykernel_3734/3037979607.py:81: RuntimeWarning: EDF format requires equal-length data blocks, so 0.996 seconds of edge values were appended to all channels when writing the final block.\n",
      "  raw_crop.export(save_path, fmt=\"edf\", overwrite=True)\n",
      "/tmp/ipykernel_3734/3037979607.py:81: RuntimeWarning: EDF format requires equal-length data blocks, so 0.996 seconds of edge values were appended to all channels when writing the final block.\n",
      "  raw_crop.export(save_path, fmt=\"edf\", overwrite=True)\n",
      "/tmp/ipykernel_3734/3037979607.py:81: RuntimeWarning: EDF format requires equal-length data blocks, so 0.996 seconds of edge values were appended to all channels when writing the final block.\n",
      "  raw_crop.export(save_path, fmt=\"edf\", overwrite=True)\n",
      "/tmp/ipykernel_3734/3037979607.py:81: RuntimeWarning: EDF format requires equal-length data blocks, so 0.996 seconds of edge values were appended to all channels when writing the final block.\n",
      "  raw_crop.export(save_path, fmt=\"edf\", overwrite=True)\n"
     ]
    },
    {
     "name": "stdout",
     "output_type": "stream",
     "text": [
      "Normal segments saved for chb23_19.edf\n"
     ]
    },
    {
     "name": "stderr",
     "output_type": "stream",
     "text": [
      "/tmp/ipykernel_3734/3037979607.py:81: RuntimeWarning: EDF format requires equal-length data blocks, so 0.996 seconds of edge values were appended to all channels when writing the final block.\n",
      "  raw_crop.export(save_path, fmt=\"edf\", overwrite=True)\n",
      "/tmp/ipykernel_3734/3037979607.py:81: RuntimeWarning: EDF format requires equal-length data blocks, so 0.996 seconds of edge values were appended to all channels when writing the final block.\n",
      "  raw_crop.export(save_path, fmt=\"edf\", overwrite=True)\n",
      "/tmp/ipykernel_3734/3037979607.py:81: RuntimeWarning: EDF format requires equal-length data blocks, so 0.996 seconds of edge values were appended to all channels when writing the final block.\n",
      "  raw_crop.export(save_path, fmt=\"edf\", overwrite=True)\n",
      "/tmp/ipykernel_3734/3037979607.py:81: RuntimeWarning: EDF format requires equal-length data blocks, so 0.996 seconds of edge values were appended to all channels when writing the final block.\n",
      "  raw_crop.export(save_path, fmt=\"edf\", overwrite=True)\n",
      "/tmp/ipykernel_3734/3037979607.py:81: RuntimeWarning: EDF format requires equal-length data blocks, so 0.996 seconds of edge values were appended to all channels when writing the final block.\n",
      "  raw_crop.export(save_path, fmt=\"edf\", overwrite=True)\n",
      "/tmp/ipykernel_3734/3037979607.py:81: RuntimeWarning: EDF format requires equal-length data blocks, so 0.996 seconds of edge values were appended to all channels when writing the final block.\n",
      "  raw_crop.export(save_path, fmt=\"edf\", overwrite=True)\n"
     ]
    },
    {
     "name": "stdout",
     "output_type": "stream",
     "text": [
      "Normal segments saved for chb23_20.edf\n",
      "Normal segments saved for chb13_02.edf\n"
     ]
    },
    {
     "name": "stderr",
     "output_type": "stream",
     "text": [
      "/tmp/ipykernel_3734/3037979607.py:81: RuntimeWarning: EDF format requires equal-length data blocks, so 0.996 seconds of edge values were appended to all channels when writing the final block.\n",
      "  raw_crop.export(save_path, fmt=\"edf\", overwrite=True)\n",
      "/tmp/ipykernel_3734/3037979607.py:81: RuntimeWarning: EDF format requires equal-length data blocks, so 0.996 seconds of edge values were appended to all channels when writing the final block.\n",
      "  raw_crop.export(save_path, fmt=\"edf\", overwrite=True)\n",
      "/tmp/ipykernel_3734/3037979607.py:81: RuntimeWarning: EDF format requires equal-length data blocks, so 0.996 seconds of edge values were appended to all channels when writing the final block.\n",
      "  raw_crop.export(save_path, fmt=\"edf\", overwrite=True)\n",
      "/tmp/ipykernel_3734/3037979607.py:81: RuntimeWarning: EDF format requires equal-length data blocks, so 0.996 seconds of edge values were appended to all channels when writing the final block.\n",
      "  raw_crop.export(save_path, fmt=\"edf\", overwrite=True)\n",
      "/tmp/ipykernel_3734/3037979607.py:81: RuntimeWarning: EDF format requires equal-length data blocks, so 0.996 seconds of edge values were appended to all channels when writing the final block.\n",
      "  raw_crop.export(save_path, fmt=\"edf\", overwrite=True)\n",
      "/tmp/ipykernel_3734/3037979607.py:81: RuntimeWarning: EDF format requires equal-length data blocks, so 0.996 seconds of edge values were appended to all channels when writing the final block.\n",
      "  raw_crop.export(save_path, fmt=\"edf\", overwrite=True)\n",
      "/tmp/ipykernel_3734/3037979607.py:81: RuntimeWarning: EDF format requires equal-length data blocks, so 0.996 seconds of edge values were appended to all channels when writing the final block.\n",
      "  raw_crop.export(save_path, fmt=\"edf\", overwrite=True)\n",
      "/tmp/ipykernel_3734/3037979607.py:81: RuntimeWarning: EDF format requires equal-length data blocks, so 0.996 seconds of edge values were appended to all channels when writing the final block.\n",
      "  raw_crop.export(save_path, fmt=\"edf\", overwrite=True)\n",
      "/tmp/ipykernel_3734/3037979607.py:81: RuntimeWarning: EDF format requires equal-length data blocks, so 0.996 seconds of edge values were appended to all channels when writing the final block.\n",
      "  raw_crop.export(save_path, fmt=\"edf\", overwrite=True)\n",
      "/tmp/ipykernel_3734/3037979607.py:81: RuntimeWarning: EDF format requires equal-length data blocks, so 0.996 seconds of edge values were appended to all channels when writing the final block.\n",
      "  raw_crop.export(save_path, fmt=\"edf\", overwrite=True)\n",
      "/tmp/ipykernel_3734/3037979607.py:81: RuntimeWarning: EDF format requires equal-length data blocks, so 0.996 seconds of edge values were appended to all channels when writing the final block.\n",
      "  raw_crop.export(save_path, fmt=\"edf\", overwrite=True)\n",
      "/tmp/ipykernel_3734/3037979607.py:81: RuntimeWarning: EDF format requires equal-length data blocks, so 0.996 seconds of edge values were appended to all channels when writing the final block.\n",
      "  raw_crop.export(save_path, fmt=\"edf\", overwrite=True)\n",
      "/tmp/ipykernel_3734/3037979607.py:81: RuntimeWarning: EDF format requires equal-length data blocks, so 0.996 seconds of edge values were appended to all channels when writing the final block.\n",
      "  raw_crop.export(save_path, fmt=\"edf\", overwrite=True)\n"
     ]
    },
    {
     "name": "stdout",
     "output_type": "stream",
     "text": [
      "Normal segments saved for chb13_03.edf\n",
      "Normal segments saved for chb13_04.edf\n"
     ]
    },
    {
     "name": "stderr",
     "output_type": "stream",
     "text": [
      "/tmp/ipykernel_3734/3037979607.py:81: RuntimeWarning: EDF format requires equal-length data blocks, so 0.996 seconds of edge values were appended to all channels when writing the final block.\n",
      "  raw_crop.export(save_path, fmt=\"edf\", overwrite=True)\n",
      "/tmp/ipykernel_3734/3037979607.py:81: RuntimeWarning: EDF format requires equal-length data blocks, so 0.996 seconds of edge values were appended to all channels when writing the final block.\n",
      "  raw_crop.export(save_path, fmt=\"edf\", overwrite=True)\n",
      "/tmp/ipykernel_3734/3037979607.py:81: RuntimeWarning: EDF format requires equal-length data blocks, so 0.996 seconds of edge values were appended to all channels when writing the final block.\n",
      "  raw_crop.export(save_path, fmt=\"edf\", overwrite=True)\n",
      "/tmp/ipykernel_3734/3037979607.py:81: RuntimeWarning: EDF format requires equal-length data blocks, so 0.996 seconds of edge values were appended to all channels when writing the final block.\n",
      "  raw_crop.export(save_path, fmt=\"edf\", overwrite=True)\n",
      "/tmp/ipykernel_3734/3037979607.py:81: RuntimeWarning: EDF format requires equal-length data blocks, so 0.996 seconds of edge values were appended to all channels when writing the final block.\n",
      "  raw_crop.export(save_path, fmt=\"edf\", overwrite=True)\n",
      "/tmp/ipykernel_3734/3037979607.py:81: RuntimeWarning: EDF format requires equal-length data blocks, so 0.996 seconds of edge values were appended to all channels when writing the final block.\n",
      "  raw_crop.export(save_path, fmt=\"edf\", overwrite=True)\n",
      "/tmp/ipykernel_3734/3037979607.py:81: RuntimeWarning: EDF format requires equal-length data blocks, so 0.996 seconds of edge values were appended to all channels when writing the final block.\n",
      "  raw_crop.export(save_path, fmt=\"edf\", overwrite=True)\n",
      "/tmp/ipykernel_3734/3037979607.py:81: RuntimeWarning: EDF format requires equal-length data blocks, so 0.996 seconds of edge values were appended to all channels when writing the final block.\n",
      "  raw_crop.export(save_path, fmt=\"edf\", overwrite=True)\n"
     ]
    },
    {
     "name": "stdout",
     "output_type": "stream",
     "text": [
      "Normal segments saved for chb13_05.edf\n",
      "Normal segments saved for chb13_06.edf\n"
     ]
    },
    {
     "name": "stderr",
     "output_type": "stream",
     "text": [
      "/tmp/ipykernel_3734/3037979607.py:81: RuntimeWarning: EDF format requires equal-length data blocks, so 0.996 seconds of edge values were appended to all channels when writing the final block.\n",
      "  raw_crop.export(save_path, fmt=\"edf\", overwrite=True)\n",
      "/tmp/ipykernel_3734/3037979607.py:81: RuntimeWarning: EDF format requires equal-length data blocks, so 0.996 seconds of edge values were appended to all channels when writing the final block.\n",
      "  raw_crop.export(save_path, fmt=\"edf\", overwrite=True)\n",
      "/tmp/ipykernel_3734/3037979607.py:81: RuntimeWarning: EDF format requires equal-length data blocks, so 0.996 seconds of edge values were appended to all channels when writing the final block.\n",
      "  raw_crop.export(save_path, fmt=\"edf\", overwrite=True)\n",
      "/tmp/ipykernel_3734/3037979607.py:81: RuntimeWarning: EDF format requires equal-length data blocks, so 0.996 seconds of edge values were appended to all channels when writing the final block.\n",
      "  raw_crop.export(save_path, fmt=\"edf\", overwrite=True)\n",
      "/tmp/ipykernel_3734/3037979607.py:81: RuntimeWarning: EDF format requires equal-length data blocks, so 0.996 seconds of edge values were appended to all channels when writing the final block.\n",
      "  raw_crop.export(save_path, fmt=\"edf\", overwrite=True)\n",
      "/tmp/ipykernel_3734/3037979607.py:81: RuntimeWarning: EDF format requires equal-length data blocks, so 0.996 seconds of edge values were appended to all channels when writing the final block.\n",
      "  raw_crop.export(save_path, fmt=\"edf\", overwrite=True)\n",
      "/tmp/ipykernel_3734/3037979607.py:81: RuntimeWarning: EDF format requires equal-length data blocks, so 0.996 seconds of edge values were appended to all channels when writing the final block.\n",
      "  raw_crop.export(save_path, fmt=\"edf\", overwrite=True)\n"
     ]
    },
    {
     "name": "stdout",
     "output_type": "stream",
     "text": [
      "Normal segments saved for chb13_07.edf\n",
      "Normal segments saved for chb13_08.edf\n"
     ]
    },
    {
     "name": "stderr",
     "output_type": "stream",
     "text": [
      "/tmp/ipykernel_3734/3037979607.py:81: RuntimeWarning: EDF format requires equal-length data blocks, so 0.996 seconds of edge values were appended to all channels when writing the final block.\n",
      "  raw_crop.export(save_path, fmt=\"edf\", overwrite=True)\n",
      "/tmp/ipykernel_3734/3037979607.py:81: RuntimeWarning: EDF format requires equal-length data blocks, so 0.996 seconds of edge values were appended to all channels when writing the final block.\n",
      "  raw_crop.export(save_path, fmt=\"edf\", overwrite=True)\n",
      "/tmp/ipykernel_3734/3037979607.py:81: RuntimeWarning: EDF format requires equal-length data blocks, so 0.996 seconds of edge values were appended to all channels when writing the final block.\n",
      "  raw_crop.export(save_path, fmt=\"edf\", overwrite=True)\n",
      "/tmp/ipykernel_3734/3037979607.py:81: RuntimeWarning: EDF format requires equal-length data blocks, so 0.996 seconds of edge values were appended to all channels when writing the final block.\n",
      "  raw_crop.export(save_path, fmt=\"edf\", overwrite=True)\n",
      "/tmp/ipykernel_3734/3037979607.py:81: RuntimeWarning: EDF format requires equal-length data blocks, so 0.996 seconds of edge values were appended to all channels when writing the final block.\n",
      "  raw_crop.export(save_path, fmt=\"edf\", overwrite=True)\n",
      "/tmp/ipykernel_3734/3037979607.py:81: RuntimeWarning: EDF format requires equal-length data blocks, so 0.996 seconds of edge values were appended to all channels when writing the final block.\n",
      "  raw_crop.export(save_path, fmt=\"edf\", overwrite=True)\n",
      "/tmp/ipykernel_3734/3037979607.py:81: RuntimeWarning: EDF format requires equal-length data blocks, so 0.996 seconds of edge values were appended to all channels when writing the final block.\n",
      "  raw_crop.export(save_path, fmt=\"edf\", overwrite=True)\n",
      "/tmp/ipykernel_3734/3037979607.py:81: RuntimeWarning: EDF format requires equal-length data blocks, so 0.996 seconds of edge values were appended to all channels when writing the final block.\n",
      "  raw_crop.export(save_path, fmt=\"edf\", overwrite=True)\n",
      "/tmp/ipykernel_3734/3037979607.py:81: RuntimeWarning: EDF format requires equal-length data blocks, so 0.996 seconds of edge values were appended to all channels when writing the final block.\n",
      "  raw_crop.export(save_path, fmt=\"edf\", overwrite=True)\n",
      "/tmp/ipykernel_3734/3037979607.py:81: RuntimeWarning: EDF format requires equal-length data blocks, so 0.996 seconds of edge values were appended to all channels when writing the final block.\n",
      "  raw_crop.export(save_path, fmt=\"edf\", overwrite=True)\n",
      "/tmp/ipykernel_3734/3037979607.py:81: RuntimeWarning: EDF format requires equal-length data blocks, so 0.996 seconds of edge values were appended to all channels when writing the final block.\n",
      "  raw_crop.export(save_path, fmt=\"edf\", overwrite=True)\n",
      "/tmp/ipykernel_3734/3037979607.py:81: RuntimeWarning: EDF format requires equal-length data blocks, so 0.996 seconds of edge values were appended to all channels when writing the final block.\n",
      "  raw_crop.export(save_path, fmt=\"edf\", overwrite=True)\n",
      "/tmp/ipykernel_3734/3037979607.py:81: RuntimeWarning: EDF format requires equal-length data blocks, so 0.996 seconds of edge values were appended to all channels when writing the final block.\n",
      "  raw_crop.export(save_path, fmt=\"edf\", overwrite=True)\n",
      "/tmp/ipykernel_3734/3037979607.py:81: RuntimeWarning: EDF format requires equal-length data blocks, so 0.996 seconds of edge values were appended to all channels when writing the final block.\n",
      "  raw_crop.export(save_path, fmt=\"edf\", overwrite=True)\n",
      "/tmp/ipykernel_3734/3037979607.py:81: RuntimeWarning: EDF format requires equal-length data blocks, so 0.996 seconds of edge values were appended to all channels when writing the final block.\n",
      "  raw_crop.export(save_path, fmt=\"edf\", overwrite=True)\n"
     ]
    },
    {
     "name": "stdout",
     "output_type": "stream",
     "text": [
      "Normal segments saved for chb13_09.edf\n",
      "Normal segments saved for chb13_10.edf\n"
     ]
    },
    {
     "name": "stderr",
     "output_type": "stream",
     "text": [
      "/tmp/ipykernel_3734/3037979607.py:81: RuntimeWarning: EDF format requires equal-length data blocks, so 0.996 seconds of edge values were appended to all channels when writing the final block.\n",
      "  raw_crop.export(save_path, fmt=\"edf\", overwrite=True)\n",
      "/tmp/ipykernel_3734/3037979607.py:81: RuntimeWarning: EDF format requires equal-length data blocks, so 0.996 seconds of edge values were appended to all channels when writing the final block.\n",
      "  raw_crop.export(save_path, fmt=\"edf\", overwrite=True)\n",
      "/tmp/ipykernel_3734/3037979607.py:81: RuntimeWarning: EDF format requires equal-length data blocks, so 0.996 seconds of edge values were appended to all channels when writing the final block.\n",
      "  raw_crop.export(save_path, fmt=\"edf\", overwrite=True)\n",
      "/tmp/ipykernel_3734/3037979607.py:81: RuntimeWarning: EDF format requires equal-length data blocks, so 0.996 seconds of edge values were appended to all channels when writing the final block.\n",
      "  raw_crop.export(save_path, fmt=\"edf\", overwrite=True)\n",
      "/tmp/ipykernel_3734/3037979607.py:81: RuntimeWarning: EDF format requires equal-length data blocks, so 0.996 seconds of edge values were appended to all channels when writing the final block.\n",
      "  raw_crop.export(save_path, fmt=\"edf\", overwrite=True)\n",
      "/tmp/ipykernel_3734/3037979607.py:81: RuntimeWarning: EDF format requires equal-length data blocks, so 0.996 seconds of edge values were appended to all channels when writing the final block.\n",
      "  raw_crop.export(save_path, fmt=\"edf\", overwrite=True)\n",
      "/tmp/ipykernel_3734/3037979607.py:81: RuntimeWarning: EDF format requires equal-length data blocks, so 0.996 seconds of edge values were appended to all channels when writing the final block.\n",
      "  raw_crop.export(save_path, fmt=\"edf\", overwrite=True)\n",
      "/tmp/ipykernel_3734/3037979607.py:81: RuntimeWarning: EDF format requires equal-length data blocks, so 0.996 seconds of edge values were appended to all channels when writing the final block.\n",
      "  raw_crop.export(save_path, fmt=\"edf\", overwrite=True)\n"
     ]
    },
    {
     "name": "stdout",
     "output_type": "stream",
     "text": [
      "Normal segments saved for chb13_11.edf\n",
      "Normal segments saved for chb13_12.edf\n"
     ]
    },
    {
     "name": "stderr",
     "output_type": "stream",
     "text": [
      "/tmp/ipykernel_3734/3037979607.py:81: RuntimeWarning: EDF format requires equal-length data blocks, so 0.996 seconds of edge values were appended to all channels when writing the final block.\n",
      "  raw_crop.export(save_path, fmt=\"edf\", overwrite=True)\n",
      "/tmp/ipykernel_3734/3037979607.py:81: RuntimeWarning: EDF format requires equal-length data blocks, so 0.996 seconds of edge values were appended to all channels when writing the final block.\n",
      "  raw_crop.export(save_path, fmt=\"edf\", overwrite=True)\n",
      "/tmp/ipykernel_3734/3037979607.py:81: RuntimeWarning: EDF format requires equal-length data blocks, so 0.996 seconds of edge values were appended to all channels when writing the final block.\n",
      "  raw_crop.export(save_path, fmt=\"edf\", overwrite=True)\n",
      "/tmp/ipykernel_3734/3037979607.py:81: RuntimeWarning: EDF format requires equal-length data blocks, so 0.996 seconds of edge values were appended to all channels when writing the final block.\n",
      "  raw_crop.export(save_path, fmt=\"edf\", overwrite=True)\n",
      "/tmp/ipykernel_3734/3037979607.py:81: RuntimeWarning: EDF format requires equal-length data blocks, so 0.996 seconds of edge values were appended to all channels when writing the final block.\n",
      "  raw_crop.export(save_path, fmt=\"edf\", overwrite=True)\n",
      "/tmp/ipykernel_3734/3037979607.py:81: RuntimeWarning: EDF format requires equal-length data blocks, so 0.996 seconds of edge values were appended to all channels when writing the final block.\n",
      "  raw_crop.export(save_path, fmt=\"edf\", overwrite=True)\n",
      "/tmp/ipykernel_3734/3037979607.py:81: RuntimeWarning: EDF format requires equal-length data blocks, so 0.996 seconds of edge values were appended to all channels when writing the final block.\n",
      "  raw_crop.export(save_path, fmt=\"edf\", overwrite=True)\n"
     ]
    },
    {
     "name": "stdout",
     "output_type": "stream",
     "text": [
      "Normal segments saved for chb13_13.edf\n",
      "Normal segments saved for chb13_14.edf\n"
     ]
    },
    {
     "name": "stderr",
     "output_type": "stream",
     "text": [
      "/tmp/ipykernel_3734/3037979607.py:81: RuntimeWarning: EDF format requires equal-length data blocks, so 0.996 seconds of edge values were appended to all channels when writing the final block.\n",
      "  raw_crop.export(save_path, fmt=\"edf\", overwrite=True)\n",
      "/tmp/ipykernel_3734/3037979607.py:81: RuntimeWarning: EDF format requires equal-length data blocks, so 0.996 seconds of edge values were appended to all channels when writing the final block.\n",
      "  raw_crop.export(save_path, fmt=\"edf\", overwrite=True)\n",
      "/tmp/ipykernel_3734/3037979607.py:81: RuntimeWarning: EDF format requires equal-length data blocks, so 0.996 seconds of edge values were appended to all channels when writing the final block.\n",
      "  raw_crop.export(save_path, fmt=\"edf\", overwrite=True)\n",
      "/tmp/ipykernel_3734/3037979607.py:81: RuntimeWarning: EDF format requires equal-length data blocks, so 0.996 seconds of edge values were appended to all channels when writing the final block.\n",
      "  raw_crop.export(save_path, fmt=\"edf\", overwrite=True)\n",
      "/tmp/ipykernel_3734/3037979607.py:81: RuntimeWarning: EDF format requires equal-length data blocks, so 0.996 seconds of edge values were appended to all channels when writing the final block.\n",
      "  raw_crop.export(save_path, fmt=\"edf\", overwrite=True)\n",
      "/tmp/ipykernel_3734/3037979607.py:81: RuntimeWarning: EDF format requires equal-length data blocks, so 0.996 seconds of edge values were appended to all channels when writing the final block.\n",
      "  raw_crop.export(save_path, fmt=\"edf\", overwrite=True)\n",
      "/tmp/ipykernel_3734/3037979607.py:81: RuntimeWarning: EDF format requires equal-length data blocks, so 0.996 seconds of edge values were appended to all channels when writing the final block.\n",
      "  raw_crop.export(save_path, fmt=\"edf\", overwrite=True)\n",
      "/tmp/ipykernel_3734/3037979607.py:81: RuntimeWarning: EDF format requires equal-length data blocks, so 0.996 seconds of edge values were appended to all channels when writing the final block.\n",
      "  raw_crop.export(save_path, fmt=\"edf\", overwrite=True)\n",
      "/tmp/ipykernel_3734/3037979607.py:81: RuntimeWarning: EDF format requires equal-length data blocks, so 0.996 seconds of edge values were appended to all channels when writing the final block.\n",
      "  raw_crop.export(save_path, fmt=\"edf\", overwrite=True)\n",
      "/tmp/ipykernel_3734/3037979607.py:81: RuntimeWarning: EDF format requires equal-length data blocks, so 0.996 seconds of edge values were appended to all channels when writing the final block.\n",
      "  raw_crop.export(save_path, fmt=\"edf\", overwrite=True)\n",
      "/tmp/ipykernel_3734/3037979607.py:81: RuntimeWarning: EDF format requires equal-length data blocks, so 0.996 seconds of edge values were appended to all channels when writing the final block.\n",
      "  raw_crop.export(save_path, fmt=\"edf\", overwrite=True)\n",
      "/tmp/ipykernel_3734/3037979607.py:81: RuntimeWarning: EDF format requires equal-length data blocks, so 0.996 seconds of edge values were appended to all channels when writing the final block.\n",
      "  raw_crop.export(save_path, fmt=\"edf\", overwrite=True)\n",
      "/tmp/ipykernel_3734/3037979607.py:81: RuntimeWarning: EDF format requires equal-length data blocks, so 0.996 seconds of edge values were appended to all channels when writing the final block.\n",
      "  raw_crop.export(save_path, fmt=\"edf\", overwrite=True)\n",
      "/tmp/ipykernel_3734/3037979607.py:81: RuntimeWarning: EDF format requires equal-length data blocks, so 0.996 seconds of edge values were appended to all channels when writing the final block.\n",
      "  raw_crop.export(save_path, fmt=\"edf\", overwrite=True)\n",
      "/tmp/ipykernel_3734/3037979607.py:81: RuntimeWarning: EDF format requires equal-length data blocks, so 0.996 seconds of edge values were appended to all channels when writing the final block.\n",
      "  raw_crop.export(save_path, fmt=\"edf\", overwrite=True)\n"
     ]
    },
    {
     "name": "stdout",
     "output_type": "stream",
     "text": [
      "Normal segments saved for chb13_15.edf\n",
      "Normal segments saved for chb13_16.edf\n"
     ]
    },
    {
     "name": "stderr",
     "output_type": "stream",
     "text": [
      "/tmp/ipykernel_3734/3037979607.py:81: RuntimeWarning: EDF format requires equal-length data blocks, so 0.996 seconds of edge values were appended to all channels when writing the final block.\n",
      "  raw_crop.export(save_path, fmt=\"edf\", overwrite=True)\n",
      "/tmp/ipykernel_3734/3037979607.py:81: RuntimeWarning: EDF format requires equal-length data blocks, so 0.996 seconds of edge values were appended to all channels when writing the final block.\n",
      "  raw_crop.export(save_path, fmt=\"edf\", overwrite=True)\n",
      "/tmp/ipykernel_3734/3037979607.py:81: RuntimeWarning: EDF format requires equal-length data blocks, so 0.996 seconds of edge values were appended to all channels when writing the final block.\n",
      "  raw_crop.export(save_path, fmt=\"edf\", overwrite=True)\n",
      "/tmp/ipykernel_3734/3037979607.py:81: RuntimeWarning: EDF format requires equal-length data blocks, so 0.996 seconds of edge values were appended to all channels when writing the final block.\n",
      "  raw_crop.export(save_path, fmt=\"edf\", overwrite=True)\n",
      "/tmp/ipykernel_3734/3037979607.py:81: RuntimeWarning: EDF format requires equal-length data blocks, so 0.996 seconds of edge values were appended to all channels when writing the final block.\n",
      "  raw_crop.export(save_path, fmt=\"edf\", overwrite=True)\n",
      "/tmp/ipykernel_3734/3037979607.py:52: RuntimeWarning: EDF format requires equal-length data blocks, so 0.996 seconds of edge values were appended to all channels when writing the final block.\n",
      "  segment.export(save_path, fmt='edf')\n"
     ]
    },
    {
     "name": "stdout",
     "output_type": "stream",
     "text": [
      "Normal segments saved for chb13_18.edf\n",
      "  → saved: chb13_19_seizure_1.edf\n",
      "  → saved: chb13_21_seizure_1.edf\n"
     ]
    },
    {
     "name": "stderr",
     "output_type": "stream",
     "text": [
      "/tmp/ipykernel_3734/3037979607.py:52: RuntimeWarning: EDF format requires equal-length data blocks, so 0.996 seconds of edge values were appended to all channels when writing the final block.\n",
      "  segment.export(save_path, fmt='edf')\n",
      "/tmp/ipykernel_3734/3037979607.py:81: RuntimeWarning: EDF format requires equal-length data blocks, so 0.996 seconds of edge values were appended to all channels when writing the final block.\n",
      "  raw_crop.export(save_path, fmt=\"edf\", overwrite=True)\n",
      "/tmp/ipykernel_3734/3037979607.py:81: RuntimeWarning: EDF format requires equal-length data blocks, so 0.996 seconds of edge values were appended to all channels when writing the final block.\n",
      "  raw_crop.export(save_path, fmt=\"edf\", overwrite=True)\n",
      "/tmp/ipykernel_3734/3037979607.py:81: RuntimeWarning: EDF format requires equal-length data blocks, so 0.996 seconds of edge values were appended to all channels when writing the final block.\n",
      "  raw_crop.export(save_path, fmt=\"edf\", overwrite=True)\n",
      "/tmp/ipykernel_3734/3037979607.py:81: RuntimeWarning: EDF format requires equal-length data blocks, so 0.996 seconds of edge values were appended to all channels when writing the final block.\n",
      "  raw_crop.export(save_path, fmt=\"edf\", overwrite=True)\n",
      "/tmp/ipykernel_3734/3037979607.py:81: RuntimeWarning: EDF format requires equal-length data blocks, so 0.996 seconds of edge values were appended to all channels when writing the final block.\n",
      "  raw_crop.export(save_path, fmt=\"edf\", overwrite=True)\n"
     ]
    },
    {
     "name": "stdout",
     "output_type": "stream",
     "text": [
      "Normal segments saved for chb13_22.edf\n",
      "Normal segments saved for chb13_24.edf\n"
     ]
    },
    {
     "name": "stderr",
     "output_type": "stream",
     "text": [
      "/tmp/ipykernel_3734/3037979607.py:81: RuntimeWarning: EDF format requires equal-length data blocks, so 0.996 seconds of edge values were appended to all channels when writing the final block.\n",
      "  raw_crop.export(save_path, fmt=\"edf\", overwrite=True)\n",
      "/tmp/ipykernel_3734/3037979607.py:81: RuntimeWarning: EDF format requires equal-length data blocks, so 0.996 seconds of edge values were appended to all channels when writing the final block.\n",
      "  raw_crop.export(save_path, fmt=\"edf\", overwrite=True)\n",
      "/tmp/ipykernel_3734/3037979607.py:81: RuntimeWarning: EDF format requires equal-length data blocks, so 0.996 seconds of edge values were appended to all channels when writing the final block.\n",
      "  raw_crop.export(save_path, fmt=\"edf\", overwrite=True)\n",
      "/tmp/ipykernel_3734/3037979607.py:81: RuntimeWarning: EDF format requires equal-length data blocks, so 0.996 seconds of edge values were appended to all channels when writing the final block.\n",
      "  raw_crop.export(save_path, fmt=\"edf\", overwrite=True)\n",
      "/tmp/ipykernel_3734/3037979607.py:81: RuntimeWarning: EDF format requires equal-length data blocks, so 0.996 seconds of edge values were appended to all channels when writing the final block.\n",
      "  raw_crop.export(save_path, fmt=\"edf\", overwrite=True)\n",
      "/tmp/ipykernel_3734/3037979607.py:81: RuntimeWarning: EDF format requires equal-length data blocks, so 0.996 seconds of edge values were appended to all channels when writing the final block.\n",
      "  raw_crop.export(save_path, fmt=\"edf\", overwrite=True)\n",
      "/tmp/ipykernel_3734/3037979607.py:81: RuntimeWarning: EDF format requires equal-length data blocks, so 0.996 seconds of edge values were appended to all channels when writing the final block.\n",
      "  raw_crop.export(save_path, fmt=\"edf\", overwrite=True)\n",
      "/tmp/ipykernel_3734/3037979607.py:81: RuntimeWarning: EDF format requires equal-length data blocks, so 0.996 seconds of edge values were appended to all channels when writing the final block.\n",
      "  raw_crop.export(save_path, fmt=\"edf\", overwrite=True)\n",
      "/tmp/ipykernel_3734/3037979607.py:81: RuntimeWarning: EDF format requires equal-length data blocks, so 0.996 seconds of edge values were appended to all channels when writing the final block.\n",
      "  raw_crop.export(save_path, fmt=\"edf\", overwrite=True)\n",
      "/tmp/ipykernel_3734/3037979607.py:81: RuntimeWarning: EDF format requires equal-length data blocks, so 0.996 seconds of edge values were appended to all channels when writing the final block.\n",
      "  raw_crop.export(save_path, fmt=\"edf\", overwrite=True)\n",
      "/tmp/ipykernel_3734/3037979607.py:81: RuntimeWarning: EDF format requires equal-length data blocks, so 0.996 seconds of edge values were appended to all channels when writing the final block.\n",
      "  raw_crop.export(save_path, fmt=\"edf\", overwrite=True)\n",
      "/tmp/ipykernel_3734/3037979607.py:81: RuntimeWarning: EDF format requires equal-length data blocks, so 0.996 seconds of edge values were appended to all channels when writing the final block.\n",
      "  raw_crop.export(save_path, fmt=\"edf\", overwrite=True)\n",
      "/tmp/ipykernel_3734/3037979607.py:81: RuntimeWarning: EDF format requires equal-length data blocks, so 0.996 seconds of edge values were appended to all channels when writing the final block.\n",
      "  raw_crop.export(save_path, fmt=\"edf\", overwrite=True)\n",
      "/tmp/ipykernel_3734/3037979607.py:81: RuntimeWarning: EDF format requires equal-length data blocks, so 0.996 seconds of edge values were appended to all channels when writing the final block.\n",
      "  raw_crop.export(save_path, fmt=\"edf\", overwrite=True)\n",
      "/tmp/ipykernel_3734/3037979607.py:81: RuntimeWarning: EDF format requires equal-length data blocks, so 0.996 seconds of edge values were appended to all channels when writing the final block.\n",
      "  raw_crop.export(save_path, fmt=\"edf\", overwrite=True)\n"
     ]
    },
    {
     "name": "stdout",
     "output_type": "stream",
     "text": [
      "Normal segments saved for chb13_30.edf\n",
      "Normal segments saved for chb13_36.edf\n"
     ]
    },
    {
     "name": "stderr",
     "output_type": "stream",
     "text": [
      "/tmp/ipykernel_3734/3037979607.py:81: RuntimeWarning: EDF format requires equal-length data blocks, so 0.996 seconds of edge values were appended to all channels when writing the final block.\n",
      "  raw_crop.export(save_path, fmt=\"edf\", overwrite=True)\n",
      "/tmp/ipykernel_3734/3037979607.py:81: RuntimeWarning: EDF format requires equal-length data blocks, so 0.996 seconds of edge values were appended to all channels when writing the final block.\n",
      "  raw_crop.export(save_path, fmt=\"edf\", overwrite=True)\n",
      "/tmp/ipykernel_3734/3037979607.py:81: RuntimeWarning: EDF format requires equal-length data blocks, so 0.996 seconds of edge values were appended to all channels when writing the final block.\n",
      "  raw_crop.export(save_path, fmt=\"edf\", overwrite=True)\n",
      "/tmp/ipykernel_3734/3037979607.py:81: RuntimeWarning: EDF format requires equal-length data blocks, so 0.996 seconds of edge values were appended to all channels when writing the final block.\n",
      "  raw_crop.export(save_path, fmt=\"edf\", overwrite=True)\n",
      "/tmp/ipykernel_3734/3037979607.py:81: RuntimeWarning: EDF format requires equal-length data blocks, so 0.996 seconds of edge values were appended to all channels when writing the final block.\n",
      "  raw_crop.export(save_path, fmt=\"edf\", overwrite=True)\n",
      "/tmp/ipykernel_3734/3037979607.py:81: RuntimeWarning: EDF format requires equal-length data blocks, so 0.996 seconds of edge values were appended to all channels when writing the final block.\n",
      "  raw_crop.export(save_path, fmt=\"edf\", overwrite=True)\n",
      "/tmp/ipykernel_3734/3037979607.py:81: RuntimeWarning: EDF format requires equal-length data blocks, so 0.996 seconds of edge values were appended to all channels when writing the final block.\n",
      "  raw_crop.export(save_path, fmt=\"edf\", overwrite=True)\n",
      "/tmp/ipykernel_3734/3037979607.py:81: RuntimeWarning: EDF format requires equal-length data blocks, so 0.996 seconds of edge values were appended to all channels when writing the final block.\n",
      "  raw_crop.export(save_path, fmt=\"edf\", overwrite=True)\n"
     ]
    },
    {
     "name": "stdout",
     "output_type": "stream",
     "text": [
      "Normal segments saved for chb13_37.edf\n",
      "Normal segments saved for chb13_38.edf\n"
     ]
    },
    {
     "name": "stderr",
     "output_type": "stream",
     "text": [
      "/tmp/ipykernel_3734/3037979607.py:81: RuntimeWarning: EDF format requires equal-length data blocks, so 0.996 seconds of edge values were appended to all channels when writing the final block.\n",
      "  raw_crop.export(save_path, fmt=\"edf\", overwrite=True)\n",
      "/tmp/ipykernel_3734/3037979607.py:81: RuntimeWarning: EDF format requires equal-length data blocks, so 0.996 seconds of edge values were appended to all channels when writing the final block.\n",
      "  raw_crop.export(save_path, fmt=\"edf\", overwrite=True)\n",
      "/tmp/ipykernel_3734/3037979607.py:81: RuntimeWarning: EDF format requires equal-length data blocks, so 0.996 seconds of edge values were appended to all channels when writing the final block.\n",
      "  raw_crop.export(save_path, fmt=\"edf\", overwrite=True)\n",
      "/tmp/ipykernel_3734/3037979607.py:81: RuntimeWarning: EDF format requires equal-length data blocks, so 0.996 seconds of edge values were appended to all channels when writing the final block.\n",
      "  raw_crop.export(save_path, fmt=\"edf\", overwrite=True)\n",
      "/tmp/ipykernel_3734/3037979607.py:81: RuntimeWarning: EDF format requires equal-length data blocks, so 0.996 seconds of edge values were appended to all channels when writing the final block.\n",
      "  raw_crop.export(save_path, fmt=\"edf\", overwrite=True)\n",
      "/tmp/ipykernel_3734/3037979607.py:81: RuntimeWarning: EDF format requires equal-length data blocks, so 0.996 seconds of edge values were appended to all channels when writing the final block.\n",
      "  raw_crop.export(save_path, fmt=\"edf\", overwrite=True)\n",
      "/tmp/ipykernel_3734/3037979607.py:81: RuntimeWarning: EDF format requires equal-length data blocks, so 0.996 seconds of edge values were appended to all channels when writing the final block.\n",
      "  raw_crop.export(save_path, fmt=\"edf\", overwrite=True)\n"
     ]
    },
    {
     "name": "stdout",
     "output_type": "stream",
     "text": [
      "Normal segments saved for chb13_39.edf\n",
      "  → saved: chb13_40_seizure_1.edf\n",
      "  → saved: chb13_40_seizure_2.edf\n"
     ]
    },
    {
     "name": "stderr",
     "output_type": "stream",
     "text": [
      "/tmp/ipykernel_3734/3037979607.py:52: RuntimeWarning: EDF format requires equal-length data blocks, so 0.996 seconds of edge values were appended to all channels when writing the final block.\n",
      "  segment.export(save_path, fmt='edf')\n",
      "/tmp/ipykernel_3734/3037979607.py:52: RuntimeWarning: EDF format requires equal-length data blocks, so 0.996 seconds of edge values were appended to all channels when writing the final block.\n",
      "  segment.export(save_path, fmt='edf')\n",
      "/tmp/ipykernel_3734/3037979607.py:81: RuntimeWarning: EDF format requires equal-length data blocks, so 0.996 seconds of edge values were appended to all channels when writing the final block.\n",
      "  raw_crop.export(save_path, fmt=\"edf\", overwrite=True)\n",
      "/tmp/ipykernel_3734/3037979607.py:81: RuntimeWarning: EDF format requires equal-length data blocks, so 0.996 seconds of edge values were appended to all channels when writing the final block.\n",
      "  raw_crop.export(save_path, fmt=\"edf\", overwrite=True)\n",
      "/tmp/ipykernel_3734/3037979607.py:81: RuntimeWarning: EDF format requires equal-length data blocks, so 0.996 seconds of edge values were appended to all channels when writing the final block.\n",
      "  raw_crop.export(save_path, fmt=\"edf\", overwrite=True)\n",
      "/tmp/ipykernel_3734/3037979607.py:81: RuntimeWarning: EDF format requires equal-length data blocks, so 0.996 seconds of edge values were appended to all channels when writing the final block.\n",
      "  raw_crop.export(save_path, fmt=\"edf\", overwrite=True)\n",
      "/tmp/ipykernel_3734/3037979607.py:81: RuntimeWarning: EDF format requires equal-length data blocks, so 0.996 seconds of edge values were appended to all channels when writing the final block.\n",
      "  raw_crop.export(save_path, fmt=\"edf\", overwrite=True)\n"
     ]
    },
    {
     "name": "stdout",
     "output_type": "stream",
     "text": [
      "Normal segments saved for chb13_47.edf\n",
      "  → saved: chb13_55_seizure_1.edf\n",
      "  → saved: chb13_55_seizure_2.edf\n"
     ]
    },
    {
     "name": "stderr",
     "output_type": "stream",
     "text": [
      "/tmp/ipykernel_3734/3037979607.py:52: RuntimeWarning: EDF format requires equal-length data blocks, so 0.996 seconds of edge values were appended to all channels when writing the final block.\n",
      "  segment.export(save_path, fmt='edf')\n",
      "/tmp/ipykernel_3734/3037979607.py:52: RuntimeWarning: EDF format requires equal-length data blocks, so 0.996 seconds of edge values were appended to all channels when writing the final block.\n",
      "  segment.export(save_path, fmt='edf')\n",
      "/tmp/ipykernel_3734/3037979607.py:81: RuntimeWarning: EDF format requires equal-length data blocks, so 0.996 seconds of edge values were appended to all channels when writing the final block.\n",
      "  raw_crop.export(save_path, fmt=\"edf\", overwrite=True)\n",
      "/tmp/ipykernel_3734/3037979607.py:81: RuntimeWarning: EDF format requires equal-length data blocks, so 0.996 seconds of edge values were appended to all channels when writing the final block.\n",
      "  raw_crop.export(save_path, fmt=\"edf\", overwrite=True)\n",
      "/tmp/ipykernel_3734/3037979607.py:81: RuntimeWarning: EDF format requires equal-length data blocks, so 0.996 seconds of edge values were appended to all channels when writing the final block.\n",
      "  raw_crop.export(save_path, fmt=\"edf\", overwrite=True)\n",
      "/tmp/ipykernel_3734/3037979607.py:81: RuntimeWarning: EDF format requires equal-length data blocks, so 0.996 seconds of edge values were appended to all channels when writing the final block.\n",
      "  raw_crop.export(save_path, fmt=\"edf\", overwrite=True)\n",
      "/tmp/ipykernel_3734/3037979607.py:81: RuntimeWarning: EDF format requires equal-length data blocks, so 0.996 seconds of edge values were appended to all channels when writing the final block.\n",
      "  raw_crop.export(save_path, fmt=\"edf\", overwrite=True)\n",
      "/tmp/ipykernel_3734/3037979607.py:52: RuntimeWarning: EDF format requires equal-length data blocks, so 0.996 seconds of edge values were appended to all channels when writing the final block.\n",
      "  segment.export(save_path, fmt='edf')\n",
      "/tmp/ipykernel_3734/3037979607.py:52: RuntimeWarning: EDF format requires equal-length data blocks, so 0.996 seconds of edge values were appended to all channels when writing the final block.\n",
      "  segment.export(save_path, fmt='edf')\n"
     ]
    },
    {
     "name": "stdout",
     "output_type": "stream",
     "text": [
      "Normal segments saved for chb13_56.edf\n",
      "  → saved: chb13_58_seizure_1.edf\n",
      "  → saved: chb13_59_seizure_1.edf\n"
     ]
    },
    {
     "name": "stderr",
     "output_type": "stream",
     "text": [
      "/tmp/ipykernel_3734/3037979607.py:52: RuntimeWarning: EDF format requires equal-length data blocks, so 0.996 seconds of edge values were appended to all channels when writing the final block.\n",
      "  segment.export(save_path, fmt='edf')\n",
      "/tmp/ipykernel_3734/3037979607.py:52: RuntimeWarning: EDF format requires equal-length data blocks, so 0.996 seconds of edge values were appended to all channels when writing the final block.\n",
      "  segment.export(save_path, fmt='edf')\n",
      "/tmp/ipykernel_3734/3037979607.py:52: RuntimeWarning: EDF format requires equal-length data blocks, so 0.996 seconds of edge values were appended to all channels when writing the final block.\n",
      "  segment.export(save_path, fmt='edf')\n",
      "/tmp/ipykernel_3734/3037979607.py:52: RuntimeWarning: EDF format requires equal-length data blocks, so 0.996 seconds of edge values were appended to all channels when writing the final block.\n",
      "  segment.export(save_path, fmt='edf')\n"
     ]
    },
    {
     "name": "stdout",
     "output_type": "stream",
     "text": [
      "  → saved: chb13_60_seizure_1.edf\n",
      "  → saved: chb13_62_seizure_1.edf\n",
      "  → saved: chb13_62_seizure_2.edf\n",
      "  → saved: chb13_62_seizure_3.edf\n"
     ]
    },
    {
     "name": "stderr",
     "output_type": "stream",
     "text": [
      "/tmp/ipykernel_3734/3037979607.py:81: RuntimeWarning: EDF format requires equal-length data blocks, so 0.996 seconds of edge values were appended to all channels when writing the final block.\n",
      "  raw_crop.export(save_path, fmt=\"edf\", overwrite=True)\n",
      "/tmp/ipykernel_3734/3037979607.py:81: RuntimeWarning: EDF format requires equal-length data blocks, so 0.996 seconds of edge values were appended to all channels when writing the final block.\n",
      "  raw_crop.export(save_path, fmt=\"edf\", overwrite=True)\n",
      "/tmp/ipykernel_3734/3037979607.py:81: RuntimeWarning: EDF format requires equal-length data blocks, so 0.996 seconds of edge values were appended to all channels when writing the final block.\n",
      "  raw_crop.export(save_path, fmt=\"edf\", overwrite=True)\n",
      "/tmp/ipykernel_3734/3037979607.py:81: RuntimeWarning: EDF format requires equal-length data blocks, so 0.996 seconds of edge values were appended to all channels when writing the final block.\n",
      "  raw_crop.export(save_path, fmt=\"edf\", overwrite=True)\n",
      "/tmp/ipykernel_3734/3037979607.py:81: RuntimeWarning: EDF format requires equal-length data blocks, so 0.996 seconds of edge values were appended to all channels when writing the final block.\n",
      "  raw_crop.export(save_path, fmt=\"edf\", overwrite=True)\n"
     ]
    },
    {
     "name": "stdout",
     "output_type": "stream",
     "text": [
      "Normal segments saved for chb04_01.edf\n"
     ]
    },
    {
     "name": "stderr",
     "output_type": "stream",
     "text": [
      "/tmp/ipykernel_3734/3037979607.py:81: RuntimeWarning: EDF format requires equal-length data blocks, so 0.996 seconds of edge values were appended to all channels when writing the final block.\n",
      "  raw_crop.export(save_path, fmt=\"edf\", overwrite=True)\n",
      "/tmp/ipykernel_3734/3037979607.py:81: RuntimeWarning: EDF format requires equal-length data blocks, so 0.996 seconds of edge values were appended to all channels when writing the final block.\n",
      "  raw_crop.export(save_path, fmt=\"edf\", overwrite=True)\n",
      "/tmp/ipykernel_3734/3037979607.py:81: RuntimeWarning: EDF format requires equal-length data blocks, so 0.996 seconds of edge values were appended to all channels when writing the final block.\n",
      "  raw_crop.export(save_path, fmt=\"edf\", overwrite=True)\n",
      "/tmp/ipykernel_3734/3037979607.py:81: RuntimeWarning: EDF format requires equal-length data blocks, so 0.996 seconds of edge values were appended to all channels when writing the final block.\n",
      "  raw_crop.export(save_path, fmt=\"edf\", overwrite=True)\n",
      "/tmp/ipykernel_3734/3037979607.py:81: RuntimeWarning: EDF format requires equal-length data blocks, so 0.996 seconds of edge values were appended to all channels when writing the final block.\n",
      "  raw_crop.export(save_path, fmt=\"edf\", overwrite=True)\n"
     ]
    },
    {
     "name": "stdout",
     "output_type": "stream",
     "text": [
      "Normal segments saved for chb04_02.edf\n"
     ]
    },
    {
     "name": "stderr",
     "output_type": "stream",
     "text": [
      "/tmp/ipykernel_3734/3037979607.py:81: RuntimeWarning: EDF format requires equal-length data blocks, so 0.996 seconds of edge values were appended to all channels when writing the final block.\n",
      "  raw_crop.export(save_path, fmt=\"edf\", overwrite=True)\n",
      "/tmp/ipykernel_3734/3037979607.py:81: RuntimeWarning: EDF format requires equal-length data blocks, so 0.996 seconds of edge values were appended to all channels when writing the final block.\n",
      "  raw_crop.export(save_path, fmt=\"edf\", overwrite=True)\n",
      "/tmp/ipykernel_3734/3037979607.py:81: RuntimeWarning: EDF format requires equal-length data blocks, so 0.996 seconds of edge values were appended to all channels when writing the final block.\n",
      "  raw_crop.export(save_path, fmt=\"edf\", overwrite=True)\n",
      "/tmp/ipykernel_3734/3037979607.py:81: RuntimeWarning: EDF format requires equal-length data blocks, so 0.996 seconds of edge values were appended to all channels when writing the final block.\n",
      "  raw_crop.export(save_path, fmt=\"edf\", overwrite=True)\n",
      "/tmp/ipykernel_3734/3037979607.py:81: RuntimeWarning: EDF format requires equal-length data blocks, so 0.996 seconds of edge values were appended to all channels when writing the final block.\n",
      "  raw_crop.export(save_path, fmt=\"edf\", overwrite=True)\n"
     ]
    },
    {
     "name": "stdout",
     "output_type": "stream",
     "text": [
      "Normal segments saved for chb04_03.edf\n"
     ]
    },
    {
     "name": "stderr",
     "output_type": "stream",
     "text": [
      "/tmp/ipykernel_3734/3037979607.py:81: RuntimeWarning: EDF format requires equal-length data blocks, so 0.996 seconds of edge values were appended to all channels when writing the final block.\n",
      "  raw_crop.export(save_path, fmt=\"edf\", overwrite=True)\n",
      "/tmp/ipykernel_3734/3037979607.py:81: RuntimeWarning: EDF format requires equal-length data blocks, so 0.996 seconds of edge values were appended to all channels when writing the final block.\n",
      "  raw_crop.export(save_path, fmt=\"edf\", overwrite=True)\n",
      "/tmp/ipykernel_3734/3037979607.py:81: RuntimeWarning: EDF format requires equal-length data blocks, so 0.996 seconds of edge values were appended to all channels when writing the final block.\n",
      "  raw_crop.export(save_path, fmt=\"edf\", overwrite=True)\n",
      "/tmp/ipykernel_3734/3037979607.py:81: RuntimeWarning: EDF format requires equal-length data blocks, so 0.996 seconds of edge values were appended to all channels when writing the final block.\n",
      "  raw_crop.export(save_path, fmt=\"edf\", overwrite=True)\n",
      "/tmp/ipykernel_3734/3037979607.py:81: RuntimeWarning: EDF format requires equal-length data blocks, so 0.996 seconds of edge values were appended to all channels when writing the final block.\n",
      "  raw_crop.export(save_path, fmt=\"edf\", overwrite=True)\n"
     ]
    },
    {
     "name": "stdout",
     "output_type": "stream",
     "text": [
      "Normal segments saved for chb04_04.edf\n",
      "  → saved: chb04_05_seizure_1.edf\n"
     ]
    },
    {
     "name": "stderr",
     "output_type": "stream",
     "text": [
      "/tmp/ipykernel_3734/3037979607.py:52: RuntimeWarning: EDF format requires equal-length data blocks, so 0.996 seconds of edge values were appended to all channels when writing the final block.\n",
      "  segment.export(save_path, fmt='edf')\n",
      "/tmp/ipykernel_3734/3037979607.py:81: RuntimeWarning: EDF format requires equal-length data blocks, so 0.996 seconds of edge values were appended to all channels when writing the final block.\n",
      "  raw_crop.export(save_path, fmt=\"edf\", overwrite=True)\n",
      "/tmp/ipykernel_3734/3037979607.py:81: RuntimeWarning: EDF format requires equal-length data blocks, so 0.996 seconds of edge values were appended to all channels when writing the final block.\n",
      "  raw_crop.export(save_path, fmt=\"edf\", overwrite=True)\n",
      "/tmp/ipykernel_3734/3037979607.py:81: RuntimeWarning: EDF format requires equal-length data blocks, so 0.996 seconds of edge values were appended to all channels when writing the final block.\n",
      "  raw_crop.export(save_path, fmt=\"edf\", overwrite=True)\n",
      "/tmp/ipykernel_3734/3037979607.py:81: RuntimeWarning: EDF format requires equal-length data blocks, so 0.996 seconds of edge values were appended to all channels when writing the final block.\n",
      "  raw_crop.export(save_path, fmt=\"edf\", overwrite=True)\n",
      "/tmp/ipykernel_3734/3037979607.py:81: RuntimeWarning: EDF format requires equal-length data blocks, so 0.996 seconds of edge values were appended to all channels when writing the final block.\n",
      "  raw_crop.export(save_path, fmt=\"edf\", overwrite=True)\n"
     ]
    },
    {
     "name": "stdout",
     "output_type": "stream",
     "text": [
      "Normal segments saved for chb04_06.edf\n"
     ]
    },
    {
     "name": "stderr",
     "output_type": "stream",
     "text": [
      "/tmp/ipykernel_3734/3037979607.py:81: RuntimeWarning: EDF format requires equal-length data blocks, so 0.996 seconds of edge values were appended to all channels when writing the final block.\n",
      "  raw_crop.export(save_path, fmt=\"edf\", overwrite=True)\n",
      "/tmp/ipykernel_3734/3037979607.py:81: RuntimeWarning: EDF format requires equal-length data blocks, so 0.996 seconds of edge values were appended to all channels when writing the final block.\n",
      "  raw_crop.export(save_path, fmt=\"edf\", overwrite=True)\n",
      "/tmp/ipykernel_3734/3037979607.py:81: RuntimeWarning: EDF format requires equal-length data blocks, so 0.996 seconds of edge values were appended to all channels when writing the final block.\n",
      "  raw_crop.export(save_path, fmt=\"edf\", overwrite=True)\n",
      "/tmp/ipykernel_3734/3037979607.py:81: RuntimeWarning: EDF format requires equal-length data blocks, so 0.996 seconds of edge values were appended to all channels when writing the final block.\n",
      "  raw_crop.export(save_path, fmt=\"edf\", overwrite=True)\n",
      "/tmp/ipykernel_3734/3037979607.py:81: RuntimeWarning: EDF format requires equal-length data blocks, so 0.996 seconds of edge values were appended to all channels when writing the final block.\n",
      "  raw_crop.export(save_path, fmt=\"edf\", overwrite=True)\n"
     ]
    },
    {
     "name": "stdout",
     "output_type": "stream",
     "text": [
      "Normal segments saved for chb04_07.edf\n"
     ]
    },
    {
     "name": "stderr",
     "output_type": "stream",
     "text": [
      "/tmp/ipykernel_3734/3037979607.py:52: RuntimeWarning: EDF format requires equal-length data blocks, so 0.996 seconds of edge values were appended to all channels when writing the final block.\n",
      "  segment.export(save_path, fmt='edf')\n"
     ]
    },
    {
     "name": "stdout",
     "output_type": "stream",
     "text": [
      "  → saved: chb04_08_seizure_1.edf\n"
     ]
    },
    {
     "name": "stderr",
     "output_type": "stream",
     "text": [
      "/tmp/ipykernel_3734/3037979607.py:81: RuntimeWarning: EDF format requires equal-length data blocks, so 0.996 seconds of edge values were appended to all channels when writing the final block.\n",
      "  raw_crop.export(save_path, fmt=\"edf\", overwrite=True)\n",
      "/tmp/ipykernel_3734/3037979607.py:81: RuntimeWarning: EDF format requires equal-length data blocks, so 0.996 seconds of edge values were appended to all channels when writing the final block.\n",
      "  raw_crop.export(save_path, fmt=\"edf\", overwrite=True)\n",
      "/tmp/ipykernel_3734/3037979607.py:81: RuntimeWarning: EDF format requires equal-length data blocks, so 0.996 seconds of edge values were appended to all channels when writing the final block.\n",
      "  raw_crop.export(save_path, fmt=\"edf\", overwrite=True)\n",
      "/tmp/ipykernel_3734/3037979607.py:81: RuntimeWarning: EDF format requires equal-length data blocks, so 0.996 seconds of edge values were appended to all channels when writing the final block.\n",
      "  raw_crop.export(save_path, fmt=\"edf\", overwrite=True)\n",
      "/tmp/ipykernel_3734/3037979607.py:81: RuntimeWarning: EDF format requires equal-length data blocks, so 0.996 seconds of edge values were appended to all channels when writing the final block.\n",
      "  raw_crop.export(save_path, fmt=\"edf\", overwrite=True)\n"
     ]
    },
    {
     "name": "stdout",
     "output_type": "stream",
     "text": [
      "Normal segments saved for chb04_09.edf\n"
     ]
    },
    {
     "name": "stderr",
     "output_type": "stream",
     "text": [
      "/tmp/ipykernel_3734/3037979607.py:81: RuntimeWarning: EDF format requires equal-length data blocks, so 0.996 seconds of edge values were appended to all channels when writing the final block.\n",
      "  raw_crop.export(save_path, fmt=\"edf\", overwrite=True)\n",
      "/tmp/ipykernel_3734/3037979607.py:81: RuntimeWarning: EDF format requires equal-length data blocks, so 0.996 seconds of edge values were appended to all channels when writing the final block.\n",
      "  raw_crop.export(save_path, fmt=\"edf\", overwrite=True)\n",
      "/tmp/ipykernel_3734/3037979607.py:81: RuntimeWarning: EDF format requires equal-length data blocks, so 0.996 seconds of edge values were appended to all channels when writing the final block.\n",
      "  raw_crop.export(save_path, fmt=\"edf\", overwrite=True)\n",
      "/tmp/ipykernel_3734/3037979607.py:81: RuntimeWarning: EDF format requires equal-length data blocks, so 0.996 seconds of edge values were appended to all channels when writing the final block.\n",
      "  raw_crop.export(save_path, fmt=\"edf\", overwrite=True)\n",
      "/tmp/ipykernel_3734/3037979607.py:81: RuntimeWarning: EDF format requires equal-length data blocks, so 0.996 seconds of edge values were appended to all channels when writing the final block.\n",
      "  raw_crop.export(save_path, fmt=\"edf\", overwrite=True)\n",
      "/tmp/ipykernel_3734/3037979607.py:81: RuntimeWarning: EDF format requires equal-length data blocks, so 0.996 seconds of edge values were appended to all channels when writing the final block.\n",
      "  raw_crop.export(save_path, fmt=\"edf\", overwrite=True)\n"
     ]
    },
    {
     "name": "stdout",
     "output_type": "stream",
     "text": [
      "Normal segments saved for chb04_10.edf\n"
     ]
    },
    {
     "name": "stderr",
     "output_type": "stream",
     "text": [
      "/tmp/ipykernel_3734/3037979607.py:81: RuntimeWarning: EDF format requires equal-length data blocks, so 0.996 seconds of edge values were appended to all channels when writing the final block.\n",
      "  raw_crop.export(save_path, fmt=\"edf\", overwrite=True)\n",
      "/tmp/ipykernel_3734/3037979607.py:81: RuntimeWarning: EDF format requires equal-length data blocks, so 0.996 seconds of edge values were appended to all channels when writing the final block.\n",
      "  raw_crop.export(save_path, fmt=\"edf\", overwrite=True)\n",
      "/tmp/ipykernel_3734/3037979607.py:81: RuntimeWarning: EDF format requires equal-length data blocks, so 0.996 seconds of edge values were appended to all channels when writing the final block.\n",
      "  raw_crop.export(save_path, fmt=\"edf\", overwrite=True)\n",
      "/tmp/ipykernel_3734/3037979607.py:81: RuntimeWarning: EDF format requires equal-length data blocks, so 0.996 seconds of edge values were appended to all channels when writing the final block.\n",
      "  raw_crop.export(save_path, fmt=\"edf\", overwrite=True)\n"
     ]
    },
    {
     "name": "stdout",
     "output_type": "stream",
     "text": [
      "Normal segments saved for chb04_11.edf\n"
     ]
    },
    {
     "name": "stderr",
     "output_type": "stream",
     "text": [
      "/tmp/ipykernel_3734/3037979607.py:81: RuntimeWarning: EDF format requires equal-length data blocks, so 0.996 seconds of edge values were appended to all channels when writing the final block.\n",
      "  raw_crop.export(save_path, fmt=\"edf\", overwrite=True)\n",
      "/tmp/ipykernel_3734/3037979607.py:81: RuntimeWarning: EDF format requires equal-length data blocks, so 0.996 seconds of edge values were appended to all channels when writing the final block.\n",
      "  raw_crop.export(save_path, fmt=\"edf\", overwrite=True)\n",
      "/tmp/ipykernel_3734/3037979607.py:81: RuntimeWarning: EDF format requires equal-length data blocks, so 0.996 seconds of edge values were appended to all channels when writing the final block.\n",
      "  raw_crop.export(save_path, fmt=\"edf\", overwrite=True)\n",
      "/tmp/ipykernel_3734/3037979607.py:81: RuntimeWarning: EDF format requires equal-length data blocks, so 0.996 seconds of edge values were appended to all channels when writing the final block.\n",
      "  raw_crop.export(save_path, fmt=\"edf\", overwrite=True)\n",
      "/tmp/ipykernel_3734/3037979607.py:81: RuntimeWarning: EDF format requires equal-length data blocks, so 0.996 seconds of edge values were appended to all channels when writing the final block.\n",
      "  raw_crop.export(save_path, fmt=\"edf\", overwrite=True)\n"
     ]
    },
    {
     "name": "stdout",
     "output_type": "stream",
     "text": [
      "Normal segments saved for chb04_12.edf\n"
     ]
    },
    {
     "name": "stderr",
     "output_type": "stream",
     "text": [
      "/tmp/ipykernel_3734/3037979607.py:81: RuntimeWarning: EDF format requires equal-length data blocks, so 0.996 seconds of edge values were appended to all channels when writing the final block.\n",
      "  raw_crop.export(save_path, fmt=\"edf\", overwrite=True)\n",
      "/tmp/ipykernel_3734/3037979607.py:81: RuntimeWarning: EDF format requires equal-length data blocks, so 0.996 seconds of edge values were appended to all channels when writing the final block.\n",
      "  raw_crop.export(save_path, fmt=\"edf\", overwrite=True)\n",
      "/tmp/ipykernel_3734/3037979607.py:81: RuntimeWarning: EDF format requires equal-length data blocks, so 0.996 seconds of edge values were appended to all channels when writing the final block.\n",
      "  raw_crop.export(save_path, fmt=\"edf\", overwrite=True)\n",
      "/tmp/ipykernel_3734/3037979607.py:81: RuntimeWarning: EDF format requires equal-length data blocks, so 0.996 seconds of edge values were appended to all channels when writing the final block.\n",
      "  raw_crop.export(save_path, fmt=\"edf\", overwrite=True)\n",
      "/tmp/ipykernel_3734/3037979607.py:81: RuntimeWarning: EDF format requires equal-length data blocks, so 0.996 seconds of edge values were appended to all channels when writing the final block.\n",
      "  raw_crop.export(save_path, fmt=\"edf\", overwrite=True)\n"
     ]
    },
    {
     "name": "stdout",
     "output_type": "stream",
     "text": [
      "Normal segments saved for chb04_13.edf\n"
     ]
    },
    {
     "name": "stderr",
     "output_type": "stream",
     "text": [
      "/tmp/ipykernel_3734/3037979607.py:81: RuntimeWarning: EDF format requires equal-length data blocks, so 0.996 seconds of edge values were appended to all channels when writing the final block.\n",
      "  raw_crop.export(save_path, fmt=\"edf\", overwrite=True)\n",
      "/tmp/ipykernel_3734/3037979607.py:81: RuntimeWarning: EDF format requires equal-length data blocks, so 0.996 seconds of edge values were appended to all channels when writing the final block.\n",
      "  raw_crop.export(save_path, fmt=\"edf\", overwrite=True)\n",
      "/tmp/ipykernel_3734/3037979607.py:81: RuntimeWarning: EDF format requires equal-length data blocks, so 0.996 seconds of edge values were appended to all channels when writing the final block.\n",
      "  raw_crop.export(save_path, fmt=\"edf\", overwrite=True)\n",
      "/tmp/ipykernel_3734/3037979607.py:81: RuntimeWarning: EDF format requires equal-length data blocks, so 0.996 seconds of edge values were appended to all channels when writing the final block.\n",
      "  raw_crop.export(save_path, fmt=\"edf\", overwrite=True)\n",
      "/tmp/ipykernel_3734/3037979607.py:81: RuntimeWarning: EDF format requires equal-length data blocks, so 0.996 seconds of edge values were appended to all channels when writing the final block.\n",
      "  raw_crop.export(save_path, fmt=\"edf\", overwrite=True)\n"
     ]
    },
    {
     "name": "stdout",
     "output_type": "stream",
     "text": [
      "Normal segments saved for chb04_14.edf\n"
     ]
    },
    {
     "name": "stderr",
     "output_type": "stream",
     "text": [
      "/tmp/ipykernel_3734/3037979607.py:81: RuntimeWarning: EDF format requires equal-length data blocks, so 0.996 seconds of edge values were appended to all channels when writing the final block.\n",
      "  raw_crop.export(save_path, fmt=\"edf\", overwrite=True)\n",
      "/tmp/ipykernel_3734/3037979607.py:81: RuntimeWarning: EDF format requires equal-length data blocks, so 0.996 seconds of edge values were appended to all channels when writing the final block.\n",
      "  raw_crop.export(save_path, fmt=\"edf\", overwrite=True)\n",
      "/tmp/ipykernel_3734/3037979607.py:81: RuntimeWarning: EDF format requires equal-length data blocks, so 0.996 seconds of edge values were appended to all channels when writing the final block.\n",
      "  raw_crop.export(save_path, fmt=\"edf\", overwrite=True)\n",
      "/tmp/ipykernel_3734/3037979607.py:81: RuntimeWarning: EDF format requires equal-length data blocks, so 0.996 seconds of edge values were appended to all channels when writing the final block.\n",
      "  raw_crop.export(save_path, fmt=\"edf\", overwrite=True)\n",
      "/tmp/ipykernel_3734/3037979607.py:81: RuntimeWarning: EDF format requires equal-length data blocks, so 0.996 seconds of edge values were appended to all channels when writing the final block.\n",
      "  raw_crop.export(save_path, fmt=\"edf\", overwrite=True)\n"
     ]
    },
    {
     "name": "stdout",
     "output_type": "stream",
     "text": [
      "Normal segments saved for chb04_15.edf\n"
     ]
    },
    {
     "name": "stderr",
     "output_type": "stream",
     "text": [
      "/tmp/ipykernel_3734/3037979607.py:81: RuntimeWarning: EDF format requires equal-length data blocks, so 0.996 seconds of edge values were appended to all channels when writing the final block.\n",
      "  raw_crop.export(save_path, fmt=\"edf\", overwrite=True)\n",
      "/tmp/ipykernel_3734/3037979607.py:81: RuntimeWarning: EDF format requires equal-length data blocks, so 0.996 seconds of edge values were appended to all channels when writing the final block.\n",
      "  raw_crop.export(save_path, fmt=\"edf\", overwrite=True)\n",
      "/tmp/ipykernel_3734/3037979607.py:81: RuntimeWarning: EDF format requires equal-length data blocks, so 0.996 seconds of edge values were appended to all channels when writing the final block.\n",
      "  raw_crop.export(save_path, fmt=\"edf\", overwrite=True)\n",
      "/tmp/ipykernel_3734/3037979607.py:81: RuntimeWarning: EDF format requires equal-length data blocks, so 0.996 seconds of edge values were appended to all channels when writing the final block.\n",
      "  raw_crop.export(save_path, fmt=\"edf\", overwrite=True)\n",
      "/tmp/ipykernel_3734/3037979607.py:81: RuntimeWarning: EDF format requires equal-length data blocks, so 0.996 seconds of edge values were appended to all channels when writing the final block.\n",
      "  raw_crop.export(save_path, fmt=\"edf\", overwrite=True)\n"
     ]
    },
    {
     "name": "stdout",
     "output_type": "stream",
     "text": [
      "Normal segments saved for chb04_16.edf\n"
     ]
    },
    {
     "name": "stderr",
     "output_type": "stream",
     "text": [
      "/tmp/ipykernel_3734/3037979607.py:81: RuntimeWarning: EDF format requires equal-length data blocks, so 0.996 seconds of edge values were appended to all channels when writing the final block.\n",
      "  raw_crop.export(save_path, fmt=\"edf\", overwrite=True)\n",
      "/tmp/ipykernel_3734/3037979607.py:81: RuntimeWarning: EDF format requires equal-length data blocks, so 0.996 seconds of edge values were appended to all channels when writing the final block.\n",
      "  raw_crop.export(save_path, fmt=\"edf\", overwrite=True)\n",
      "/tmp/ipykernel_3734/3037979607.py:81: RuntimeWarning: EDF format requires equal-length data blocks, so 0.996 seconds of edge values were appended to all channels when writing the final block.\n",
      "  raw_crop.export(save_path, fmt=\"edf\", overwrite=True)\n",
      "/tmp/ipykernel_3734/3037979607.py:81: RuntimeWarning: EDF format requires equal-length data blocks, so 0.996 seconds of edge values were appended to all channels when writing the final block.\n",
      "  raw_crop.export(save_path, fmt=\"edf\", overwrite=True)\n",
      "/tmp/ipykernel_3734/3037979607.py:81: RuntimeWarning: EDF format requires equal-length data blocks, so 0.996 seconds of edge values were appended to all channels when writing the final block.\n",
      "  raw_crop.export(save_path, fmt=\"edf\", overwrite=True)\n"
     ]
    },
    {
     "name": "stdout",
     "output_type": "stream",
     "text": [
      "Normal segments saved for chb04_17.edf\n"
     ]
    },
    {
     "name": "stderr",
     "output_type": "stream",
     "text": [
      "/tmp/ipykernel_3734/3037979607.py:81: RuntimeWarning: EDF format requires equal-length data blocks, so 0.996 seconds of edge values were appended to all channels when writing the final block.\n",
      "  raw_crop.export(save_path, fmt=\"edf\", overwrite=True)\n",
      "/tmp/ipykernel_3734/3037979607.py:81: RuntimeWarning: EDF format requires equal-length data blocks, so 0.996 seconds of edge values were appended to all channels when writing the final block.\n",
      "  raw_crop.export(save_path, fmt=\"edf\", overwrite=True)\n",
      "/tmp/ipykernel_3734/3037979607.py:81: RuntimeWarning: EDF format requires equal-length data blocks, so 0.996 seconds of edge values were appended to all channels when writing the final block.\n",
      "  raw_crop.export(save_path, fmt=\"edf\", overwrite=True)\n",
      "/tmp/ipykernel_3734/3037979607.py:81: RuntimeWarning: EDF format requires equal-length data blocks, so 0.996 seconds of edge values were appended to all channels when writing the final block.\n",
      "  raw_crop.export(save_path, fmt=\"edf\", overwrite=True)\n",
      "/tmp/ipykernel_3734/3037979607.py:81: RuntimeWarning: EDF format requires equal-length data blocks, so 0.996 seconds of edge values were appended to all channels when writing the final block.\n",
      "  raw_crop.export(save_path, fmt=\"edf\", overwrite=True)\n"
     ]
    },
    {
     "name": "stdout",
     "output_type": "stream",
     "text": [
      "Normal segments saved for chb04_18.edf\n"
     ]
    },
    {
     "name": "stderr",
     "output_type": "stream",
     "text": [
      "/tmp/ipykernel_3734/3037979607.py:81: RuntimeWarning: EDF format requires equal-length data blocks, so 0.996 seconds of edge values were appended to all channels when writing the final block.\n",
      "  raw_crop.export(save_path, fmt=\"edf\", overwrite=True)\n",
      "/tmp/ipykernel_3734/3037979607.py:81: RuntimeWarning: EDF format requires equal-length data blocks, so 0.996 seconds of edge values were appended to all channels when writing the final block.\n",
      "  raw_crop.export(save_path, fmt=\"edf\", overwrite=True)\n",
      "/tmp/ipykernel_3734/3037979607.py:81: RuntimeWarning: EDF format requires equal-length data blocks, so 0.996 seconds of edge values were appended to all channels when writing the final block.\n",
      "  raw_crop.export(save_path, fmt=\"edf\", overwrite=True)\n",
      "/tmp/ipykernel_3734/3037979607.py:81: RuntimeWarning: EDF format requires equal-length data blocks, so 0.996 seconds of edge values were appended to all channels when writing the final block.\n",
      "  raw_crop.export(save_path, fmt=\"edf\", overwrite=True)\n",
      "/tmp/ipykernel_3734/3037979607.py:81: RuntimeWarning: EDF format requires equal-length data blocks, so 0.996 seconds of edge values were appended to all channels when writing the final block.\n",
      "  raw_crop.export(save_path, fmt=\"edf\", overwrite=True)\n"
     ]
    },
    {
     "name": "stdout",
     "output_type": "stream",
     "text": [
      "Normal segments saved for chb04_19.edf\n"
     ]
    },
    {
     "name": "stderr",
     "output_type": "stream",
     "text": [
      "/tmp/ipykernel_3734/3037979607.py:81: RuntimeWarning: EDF format requires equal-length data blocks, so 0.996 seconds of edge values were appended to all channels when writing the final block.\n",
      "  raw_crop.export(save_path, fmt=\"edf\", overwrite=True)\n",
      "/tmp/ipykernel_3734/3037979607.py:81: RuntimeWarning: EDF format requires equal-length data blocks, so 0.996 seconds of edge values were appended to all channels when writing the final block.\n",
      "  raw_crop.export(save_path, fmt=\"edf\", overwrite=True)\n",
      "/tmp/ipykernel_3734/3037979607.py:81: RuntimeWarning: EDF format requires equal-length data blocks, so 0.996 seconds of edge values were appended to all channels when writing the final block.\n",
      "  raw_crop.export(save_path, fmt=\"edf\", overwrite=True)\n",
      "/tmp/ipykernel_3734/3037979607.py:81: RuntimeWarning: EDF format requires equal-length data blocks, so 0.996 seconds of edge values were appended to all channels when writing the final block.\n",
      "  raw_crop.export(save_path, fmt=\"edf\", overwrite=True)\n",
      "/tmp/ipykernel_3734/3037979607.py:81: RuntimeWarning: EDF format requires equal-length data blocks, so 0.996 seconds of edge values were appended to all channels when writing the final block.\n",
      "  raw_crop.export(save_path, fmt=\"edf\", overwrite=True)\n"
     ]
    },
    {
     "name": "stdout",
     "output_type": "stream",
     "text": [
      "Normal segments saved for chb04_21.edf\n"
     ]
    },
    {
     "name": "stderr",
     "output_type": "stream",
     "text": [
      "/tmp/ipykernel_3734/3037979607.py:81: RuntimeWarning: EDF format requires equal-length data blocks, so 0.996 seconds of edge values were appended to all channels when writing the final block.\n",
      "  raw_crop.export(save_path, fmt=\"edf\", overwrite=True)\n",
      "/tmp/ipykernel_3734/3037979607.py:81: RuntimeWarning: EDF format requires equal-length data blocks, so 0.996 seconds of edge values were appended to all channels when writing the final block.\n",
      "  raw_crop.export(save_path, fmt=\"edf\", overwrite=True)\n",
      "/tmp/ipykernel_3734/3037979607.py:81: RuntimeWarning: EDF format requires equal-length data blocks, so 0.996 seconds of edge values were appended to all channels when writing the final block.\n",
      "  raw_crop.export(save_path, fmt=\"edf\", overwrite=True)\n",
      "/tmp/ipykernel_3734/3037979607.py:81: RuntimeWarning: EDF format requires equal-length data blocks, so 0.996 seconds of edge values were appended to all channels when writing the final block.\n",
      "  raw_crop.export(save_path, fmt=\"edf\", overwrite=True)\n",
      "/tmp/ipykernel_3734/3037979607.py:81: RuntimeWarning: EDF format requires equal-length data blocks, so 0.996 seconds of edge values were appended to all channels when writing the final block.\n",
      "  raw_crop.export(save_path, fmt=\"edf\", overwrite=True)\n"
     ]
    },
    {
     "name": "stdout",
     "output_type": "stream",
     "text": [
      "Normal segments saved for chb04_22.edf\n"
     ]
    },
    {
     "name": "stderr",
     "output_type": "stream",
     "text": [
      "/tmp/ipykernel_3734/3037979607.py:81: RuntimeWarning: EDF format requires equal-length data blocks, so 0.996 seconds of edge values were appended to all channels when writing the final block.\n",
      "  raw_crop.export(save_path, fmt=\"edf\", overwrite=True)\n",
      "/tmp/ipykernel_3734/3037979607.py:81: RuntimeWarning: EDF format requires equal-length data blocks, so 0.996 seconds of edge values were appended to all channels when writing the final block.\n",
      "  raw_crop.export(save_path, fmt=\"edf\", overwrite=True)\n",
      "/tmp/ipykernel_3734/3037979607.py:81: RuntimeWarning: EDF format requires equal-length data blocks, so 0.996 seconds of edge values were appended to all channels when writing the final block.\n",
      "  raw_crop.export(save_path, fmt=\"edf\", overwrite=True)\n",
      "/tmp/ipykernel_3734/3037979607.py:81: RuntimeWarning: EDF format requires equal-length data blocks, so 0.996 seconds of edge values were appended to all channels when writing the final block.\n",
      "  raw_crop.export(save_path, fmt=\"edf\", overwrite=True)\n",
      "/tmp/ipykernel_3734/3037979607.py:81: RuntimeWarning: EDF format requires equal-length data blocks, so 0.996 seconds of edge values were appended to all channels when writing the final block.\n",
      "  raw_crop.export(save_path, fmt=\"edf\", overwrite=True)\n"
     ]
    },
    {
     "name": "stdout",
     "output_type": "stream",
     "text": [
      "Normal segments saved for chb04_23.edf\n"
     ]
    },
    {
     "name": "stderr",
     "output_type": "stream",
     "text": [
      "/tmp/ipykernel_3734/3037979607.py:81: RuntimeWarning: EDF format requires equal-length data blocks, so 0.996 seconds of edge values were appended to all channels when writing the final block.\n",
      "  raw_crop.export(save_path, fmt=\"edf\", overwrite=True)\n",
      "/tmp/ipykernel_3734/3037979607.py:81: RuntimeWarning: EDF format requires equal-length data blocks, so 0.996 seconds of edge values were appended to all channels when writing the final block.\n",
      "  raw_crop.export(save_path, fmt=\"edf\", overwrite=True)\n",
      "/tmp/ipykernel_3734/3037979607.py:81: RuntimeWarning: EDF format requires equal-length data blocks, so 0.996 seconds of edge values were appended to all channels when writing the final block.\n",
      "  raw_crop.export(save_path, fmt=\"edf\", overwrite=True)\n",
      "/tmp/ipykernel_3734/3037979607.py:81: RuntimeWarning: EDF format requires equal-length data blocks, so 0.996 seconds of edge values were appended to all channels when writing the final block.\n",
      "  raw_crop.export(save_path, fmt=\"edf\", overwrite=True)\n",
      "/tmp/ipykernel_3734/3037979607.py:81: RuntimeWarning: EDF format requires equal-length data blocks, so 0.996 seconds of edge values were appended to all channels when writing the final block.\n",
      "  raw_crop.export(save_path, fmt=\"edf\", overwrite=True)\n"
     ]
    },
    {
     "name": "stdout",
     "output_type": "stream",
     "text": [
      "Normal segments saved for chb04_24.edf\n"
     ]
    },
    {
     "name": "stderr",
     "output_type": "stream",
     "text": [
      "/tmp/ipykernel_3734/3037979607.py:81: RuntimeWarning: EDF format requires equal-length data blocks, so 0.996 seconds of edge values were appended to all channels when writing the final block.\n",
      "  raw_crop.export(save_path, fmt=\"edf\", overwrite=True)\n",
      "/tmp/ipykernel_3734/3037979607.py:81: RuntimeWarning: EDF format requires equal-length data blocks, so 0.996 seconds of edge values were appended to all channels when writing the final block.\n",
      "  raw_crop.export(save_path, fmt=\"edf\", overwrite=True)\n",
      "/tmp/ipykernel_3734/3037979607.py:81: RuntimeWarning: EDF format requires equal-length data blocks, so 0.996 seconds of edge values were appended to all channels when writing the final block.\n",
      "  raw_crop.export(save_path, fmt=\"edf\", overwrite=True)\n",
      "/tmp/ipykernel_3734/3037979607.py:81: RuntimeWarning: EDF format requires equal-length data blocks, so 0.996 seconds of edge values were appended to all channels when writing the final block.\n",
      "  raw_crop.export(save_path, fmt=\"edf\", overwrite=True)\n",
      "/tmp/ipykernel_3734/3037979607.py:81: RuntimeWarning: EDF format requires equal-length data blocks, so 0.996 seconds of edge values were appended to all channels when writing the final block.\n",
      "  raw_crop.export(save_path, fmt=\"edf\", overwrite=True)\n"
     ]
    },
    {
     "name": "stdout",
     "output_type": "stream",
     "text": [
      "Normal segments saved for chb04_25.edf\n"
     ]
    },
    {
     "name": "stderr",
     "output_type": "stream",
     "text": [
      "/tmp/ipykernel_3734/3037979607.py:81: RuntimeWarning: EDF format requires equal-length data blocks, so 0.996 seconds of edge values were appended to all channels when writing the final block.\n",
      "  raw_crop.export(save_path, fmt=\"edf\", overwrite=True)\n",
      "/tmp/ipykernel_3734/3037979607.py:81: RuntimeWarning: EDF format requires equal-length data blocks, so 0.996 seconds of edge values were appended to all channels when writing the final block.\n",
      "  raw_crop.export(save_path, fmt=\"edf\", overwrite=True)\n",
      "/tmp/ipykernel_3734/3037979607.py:81: RuntimeWarning: EDF format requires equal-length data blocks, so 0.996 seconds of edge values were appended to all channels when writing the final block.\n",
      "  raw_crop.export(save_path, fmt=\"edf\", overwrite=True)\n",
      "/tmp/ipykernel_3734/3037979607.py:81: RuntimeWarning: EDF format requires equal-length data blocks, so 0.996 seconds of edge values were appended to all channels when writing the final block.\n",
      "  raw_crop.export(save_path, fmt=\"edf\", overwrite=True)\n",
      "/tmp/ipykernel_3734/3037979607.py:81: RuntimeWarning: EDF format requires equal-length data blocks, so 0.996 seconds of edge values were appended to all channels when writing the final block.\n",
      "  raw_crop.export(save_path, fmt=\"edf\", overwrite=True)\n"
     ]
    },
    {
     "name": "stdout",
     "output_type": "stream",
     "text": [
      "Normal segments saved for chb04_26.edf\n"
     ]
    },
    {
     "name": "stderr",
     "output_type": "stream",
     "text": [
      "/tmp/ipykernel_3734/3037979607.py:81: RuntimeWarning: EDF format requires equal-length data blocks, so 0.996 seconds of edge values were appended to all channels when writing the final block.\n",
      "  raw_crop.export(save_path, fmt=\"edf\", overwrite=True)\n",
      "/tmp/ipykernel_3734/3037979607.py:81: RuntimeWarning: EDF format requires equal-length data blocks, so 0.996 seconds of edge values were appended to all channels when writing the final block.\n",
      "  raw_crop.export(save_path, fmt=\"edf\", overwrite=True)\n",
      "/tmp/ipykernel_3734/3037979607.py:81: RuntimeWarning: EDF format requires equal-length data blocks, so 0.996 seconds of edge values were appended to all channels when writing the final block.\n",
      "  raw_crop.export(save_path, fmt=\"edf\", overwrite=True)\n",
      "/tmp/ipykernel_3734/3037979607.py:81: RuntimeWarning: EDF format requires equal-length data blocks, so 0.996 seconds of edge values were appended to all channels when writing the final block.\n",
      "  raw_crop.export(save_path, fmt=\"edf\", overwrite=True)\n",
      "/tmp/ipykernel_3734/3037979607.py:81: RuntimeWarning: EDF format requires equal-length data blocks, so 0.996 seconds of edge values were appended to all channels when writing the final block.\n",
      "  raw_crop.export(save_path, fmt=\"edf\", overwrite=True)\n"
     ]
    },
    {
     "name": "stdout",
     "output_type": "stream",
     "text": [
      "Normal segments saved for chb04_27.edf\n"
     ]
    },
    {
     "name": "stderr",
     "output_type": "stream",
     "text": [
      "/tmp/ipykernel_3734/3037979607.py:52: RuntimeWarning: EDF format requires equal-length data blocks, so 0.996 seconds of edge values were appended to all channels when writing the final block.\n",
      "  segment.export(save_path, fmt='edf')\n",
      "/tmp/ipykernel_3734/3037979607.py:52: RuntimeWarning: EDF format requires equal-length data blocks, so 0.996 seconds of edge values were appended to all channels when writing the final block.\n",
      "  segment.export(save_path, fmt='edf')\n"
     ]
    },
    {
     "name": "stdout",
     "output_type": "stream",
     "text": [
      "  → saved: chb04_28_seizure_1.edf\n",
      "  → saved: chb04_28_seizure_2.edf\n"
     ]
    },
    {
     "name": "stderr",
     "output_type": "stream",
     "text": [
      "/tmp/ipykernel_3734/3037979607.py:81: RuntimeWarning: EDF format requires equal-length data blocks, so 0.996 seconds of edge values were appended to all channels when writing the final block.\n",
      "  raw_crop.export(save_path, fmt=\"edf\", overwrite=True)\n",
      "/tmp/ipykernel_3734/3037979607.py:81: RuntimeWarning: EDF format requires equal-length data blocks, so 0.996 seconds of edge values were appended to all channels when writing the final block.\n",
      "  raw_crop.export(save_path, fmt=\"edf\", overwrite=True)\n",
      "/tmp/ipykernel_3734/3037979607.py:81: RuntimeWarning: EDF format requires equal-length data blocks, so 0.996 seconds of edge values were appended to all channels when writing the final block.\n",
      "  raw_crop.export(save_path, fmt=\"edf\", overwrite=True)\n",
      "/tmp/ipykernel_3734/3037979607.py:81: RuntimeWarning: EDF format requires equal-length data blocks, so 0.996 seconds of edge values were appended to all channels when writing the final block.\n",
      "  raw_crop.export(save_path, fmt=\"edf\", overwrite=True)\n",
      "/tmp/ipykernel_3734/3037979607.py:81: RuntimeWarning: EDF format requires equal-length data blocks, so 0.996 seconds of edge values were appended to all channels when writing the final block.\n",
      "  raw_crop.export(save_path, fmt=\"edf\", overwrite=True)\n"
     ]
    },
    {
     "name": "stdout",
     "output_type": "stream",
     "text": [
      "Normal segments saved for chb04_29.edf\n"
     ]
    },
    {
     "name": "stderr",
     "output_type": "stream",
     "text": [
      "/tmp/ipykernel_3734/3037979607.py:81: RuntimeWarning: EDF format requires equal-length data blocks, so 0.996 seconds of edge values were appended to all channels when writing the final block.\n",
      "  raw_crop.export(save_path, fmt=\"edf\", overwrite=True)\n",
      "/tmp/ipykernel_3734/3037979607.py:81: RuntimeWarning: EDF format requires equal-length data blocks, so 0.996 seconds of edge values were appended to all channels when writing the final block.\n",
      "  raw_crop.export(save_path, fmt=\"edf\", overwrite=True)\n",
      "/tmp/ipykernel_3734/3037979607.py:81: RuntimeWarning: EDF format requires equal-length data blocks, so 0.996 seconds of edge values were appended to all channels when writing the final block.\n",
      "  raw_crop.export(save_path, fmt=\"edf\", overwrite=True)\n",
      "/tmp/ipykernel_3734/3037979607.py:81: RuntimeWarning: EDF format requires equal-length data blocks, so 0.996 seconds of edge values were appended to all channels when writing the final block.\n",
      "  raw_crop.export(save_path, fmt=\"edf\", overwrite=True)\n",
      "/tmp/ipykernel_3734/3037979607.py:81: RuntimeWarning: EDF format requires equal-length data blocks, so 0.996 seconds of edge values were appended to all channels when writing the final block.\n",
      "  raw_crop.export(save_path, fmt=\"edf\", overwrite=True)\n"
     ]
    },
    {
     "name": "stdout",
     "output_type": "stream",
     "text": [
      "Normal segments saved for chb04_30.edf\n"
     ]
    },
    {
     "name": "stderr",
     "output_type": "stream",
     "text": [
      "/tmp/ipykernel_3734/3037979607.py:81: RuntimeWarning: EDF format requires equal-length data blocks, so 0.996 seconds of edge values were appended to all channels when writing the final block.\n",
      "  raw_crop.export(save_path, fmt=\"edf\", overwrite=True)\n",
      "/tmp/ipykernel_3734/3037979607.py:81: RuntimeWarning: EDF format requires equal-length data blocks, so 0.996 seconds of edge values were appended to all channels when writing the final block.\n",
      "  raw_crop.export(save_path, fmt=\"edf\", overwrite=True)\n",
      "/tmp/ipykernel_3734/3037979607.py:81: RuntimeWarning: EDF format requires equal-length data blocks, so 0.996 seconds of edge values were appended to all channels when writing the final block.\n",
      "  raw_crop.export(save_path, fmt=\"edf\", overwrite=True)\n",
      "/tmp/ipykernel_3734/3037979607.py:81: RuntimeWarning: EDF format requires equal-length data blocks, so 0.996 seconds of edge values were appended to all channels when writing the final block.\n",
      "  raw_crop.export(save_path, fmt=\"edf\", overwrite=True)\n",
      "/tmp/ipykernel_3734/3037979607.py:81: RuntimeWarning: EDF format requires equal-length data blocks, so 0.996 seconds of edge values were appended to all channels when writing the final block.\n",
      "  raw_crop.export(save_path, fmt=\"edf\", overwrite=True)\n"
     ]
    },
    {
     "name": "stdout",
     "output_type": "stream",
     "text": [
      "Normal segments saved for chb04_31.edf\n"
     ]
    },
    {
     "name": "stderr",
     "output_type": "stream",
     "text": [
      "/tmp/ipykernel_3734/3037979607.py:81: RuntimeWarning: EDF format requires equal-length data blocks, so 0.996 seconds of edge values were appended to all channels when writing the final block.\n",
      "  raw_crop.export(save_path, fmt=\"edf\", overwrite=True)\n",
      "/tmp/ipykernel_3734/3037979607.py:81: RuntimeWarning: EDF format requires equal-length data blocks, so 0.996 seconds of edge values were appended to all channels when writing the final block.\n",
      "  raw_crop.export(save_path, fmt=\"edf\", overwrite=True)\n",
      "/tmp/ipykernel_3734/3037979607.py:81: RuntimeWarning: EDF format requires equal-length data blocks, so 0.996 seconds of edge values were appended to all channels when writing the final block.\n",
      "  raw_crop.export(save_path, fmt=\"edf\", overwrite=True)\n",
      "/tmp/ipykernel_3734/3037979607.py:81: RuntimeWarning: EDF format requires equal-length data blocks, so 0.996 seconds of edge values were appended to all channels when writing the final block.\n",
      "  raw_crop.export(save_path, fmt=\"edf\", overwrite=True)\n",
      "/tmp/ipykernel_3734/3037979607.py:81: RuntimeWarning: EDF format requires equal-length data blocks, so 0.996 seconds of edge values were appended to all channels when writing the final block.\n",
      "  raw_crop.export(save_path, fmt=\"edf\", overwrite=True)\n"
     ]
    },
    {
     "name": "stdout",
     "output_type": "stream",
     "text": [
      "Normal segments saved for chb04_32.edf\n"
     ]
    },
    {
     "name": "stderr",
     "output_type": "stream",
     "text": [
      "/tmp/ipykernel_3734/3037979607.py:81: RuntimeWarning: EDF format requires equal-length data blocks, so 0.996 seconds of edge values were appended to all channels when writing the final block.\n",
      "  raw_crop.export(save_path, fmt=\"edf\", overwrite=True)\n",
      "/tmp/ipykernel_3734/3037979607.py:81: RuntimeWarning: EDF format requires equal-length data blocks, so 0.996 seconds of edge values were appended to all channels when writing the final block.\n",
      "  raw_crop.export(save_path, fmt=\"edf\", overwrite=True)\n",
      "/tmp/ipykernel_3734/3037979607.py:81: RuntimeWarning: EDF format requires equal-length data blocks, so 0.996 seconds of edge values were appended to all channels when writing the final block.\n",
      "  raw_crop.export(save_path, fmt=\"edf\", overwrite=True)\n",
      "/tmp/ipykernel_3734/3037979607.py:81: RuntimeWarning: EDF format requires equal-length data blocks, so 0.996 seconds of edge values were appended to all channels when writing the final block.\n",
      "  raw_crop.export(save_path, fmt=\"edf\", overwrite=True)\n",
      "/tmp/ipykernel_3734/3037979607.py:81: RuntimeWarning: EDF format requires equal-length data blocks, so 0.996 seconds of edge values were appended to all channels when writing the final block.\n",
      "  raw_crop.export(save_path, fmt=\"edf\", overwrite=True)\n"
     ]
    },
    {
     "name": "stdout",
     "output_type": "stream",
     "text": [
      "Normal segments saved for chb04_33.edf\n"
     ]
    },
    {
     "name": "stderr",
     "output_type": "stream",
     "text": [
      "/tmp/ipykernel_3734/3037979607.py:81: RuntimeWarning: EDF format requires equal-length data blocks, so 0.996 seconds of edge values were appended to all channels when writing the final block.\n",
      "  raw_crop.export(save_path, fmt=\"edf\", overwrite=True)\n",
      "/tmp/ipykernel_3734/3037979607.py:81: RuntimeWarning: EDF format requires equal-length data blocks, so 0.996 seconds of edge values were appended to all channels when writing the final block.\n",
      "  raw_crop.export(save_path, fmt=\"edf\", overwrite=True)\n",
      "/tmp/ipykernel_3734/3037979607.py:81: RuntimeWarning: EDF format requires equal-length data blocks, so 0.996 seconds of edge values were appended to all channels when writing the final block.\n",
      "  raw_crop.export(save_path, fmt=\"edf\", overwrite=True)\n",
      "/tmp/ipykernel_3734/3037979607.py:81: RuntimeWarning: EDF format requires equal-length data blocks, so 0.996 seconds of edge values were appended to all channels when writing the final block.\n",
      "  raw_crop.export(save_path, fmt=\"edf\", overwrite=True)\n",
      "/tmp/ipykernel_3734/3037979607.py:81: RuntimeWarning: EDF format requires equal-length data blocks, so 0.996 seconds of edge values were appended to all channels when writing the final block.\n",
      "  raw_crop.export(save_path, fmt=\"edf\", overwrite=True)\n"
     ]
    },
    {
     "name": "stdout",
     "output_type": "stream",
     "text": [
      "Normal segments saved for chb04_34.edf\n"
     ]
    },
    {
     "name": "stderr",
     "output_type": "stream",
     "text": [
      "/tmp/ipykernel_3734/3037979607.py:81: RuntimeWarning: EDF format requires equal-length data blocks, so 0.996 seconds of edge values were appended to all channels when writing the final block.\n",
      "  raw_crop.export(save_path, fmt=\"edf\", overwrite=True)\n",
      "/tmp/ipykernel_3734/3037979607.py:81: RuntimeWarning: EDF format requires equal-length data blocks, so 0.996 seconds of edge values were appended to all channels when writing the final block.\n",
      "  raw_crop.export(save_path, fmt=\"edf\", overwrite=True)\n",
      "/tmp/ipykernel_3734/3037979607.py:81: RuntimeWarning: EDF format requires equal-length data blocks, so 0.996 seconds of edge values were appended to all channels when writing the final block.\n",
      "  raw_crop.export(save_path, fmt=\"edf\", overwrite=True)\n",
      "/tmp/ipykernel_3734/3037979607.py:81: RuntimeWarning: EDF format requires equal-length data blocks, so 0.996 seconds of edge values were appended to all channels when writing the final block.\n",
      "  raw_crop.export(save_path, fmt=\"edf\", overwrite=True)\n",
      "/tmp/ipykernel_3734/3037979607.py:81: RuntimeWarning: EDF format requires equal-length data blocks, so 0.996 seconds of edge values were appended to all channels when writing the final block.\n",
      "  raw_crop.export(save_path, fmt=\"edf\", overwrite=True)\n"
     ]
    },
    {
     "name": "stdout",
     "output_type": "stream",
     "text": [
      "Normal segments saved for chb04_35.edf\n"
     ]
    },
    {
     "name": "stderr",
     "output_type": "stream",
     "text": [
      "/tmp/ipykernel_3734/3037979607.py:81: RuntimeWarning: EDF format requires equal-length data blocks, so 0.996 seconds of edge values were appended to all channels when writing the final block.\n",
      "  raw_crop.export(save_path, fmt=\"edf\", overwrite=True)\n",
      "/tmp/ipykernel_3734/3037979607.py:81: RuntimeWarning: EDF format requires equal-length data blocks, so 0.996 seconds of edge values were appended to all channels when writing the final block.\n",
      "  raw_crop.export(save_path, fmt=\"edf\", overwrite=True)\n",
      "/tmp/ipykernel_3734/3037979607.py:81: RuntimeWarning: EDF format requires equal-length data blocks, so 0.996 seconds of edge values were appended to all channels when writing the final block.\n",
      "  raw_crop.export(save_path, fmt=\"edf\", overwrite=True)\n",
      "/tmp/ipykernel_3734/3037979607.py:81: RuntimeWarning: EDF format requires equal-length data blocks, so 0.996 seconds of edge values were appended to all channels when writing the final block.\n",
      "  raw_crop.export(save_path, fmt=\"edf\", overwrite=True)\n",
      "/tmp/ipykernel_3734/3037979607.py:81: RuntimeWarning: EDF format requires equal-length data blocks, so 0.996 seconds of edge values were appended to all channels when writing the final block.\n",
      "  raw_crop.export(save_path, fmt=\"edf\", overwrite=True)\n"
     ]
    },
    {
     "name": "stdout",
     "output_type": "stream",
     "text": [
      "Normal segments saved for chb04_36.edf\n"
     ]
    },
    {
     "name": "stderr",
     "output_type": "stream",
     "text": [
      "/tmp/ipykernel_3734/3037979607.py:81: RuntimeWarning: EDF format requires equal-length data blocks, so 0.996 seconds of edge values were appended to all channels when writing the final block.\n",
      "  raw_crop.export(save_path, fmt=\"edf\", overwrite=True)\n",
      "/tmp/ipykernel_3734/3037979607.py:81: RuntimeWarning: EDF format requires equal-length data blocks, so 0.996 seconds of edge values were appended to all channels when writing the final block.\n",
      "  raw_crop.export(save_path, fmt=\"edf\", overwrite=True)\n",
      "/tmp/ipykernel_3734/3037979607.py:81: RuntimeWarning: EDF format requires equal-length data blocks, so 0.996 seconds of edge values were appended to all channels when writing the final block.\n",
      "  raw_crop.export(save_path, fmt=\"edf\", overwrite=True)\n",
      "/tmp/ipykernel_3734/3037979607.py:81: RuntimeWarning: EDF format requires equal-length data blocks, so 0.996 seconds of edge values were appended to all channels when writing the final block.\n",
      "  raw_crop.export(save_path, fmt=\"edf\", overwrite=True)\n",
      "/tmp/ipykernel_3734/3037979607.py:81: RuntimeWarning: EDF format requires equal-length data blocks, so 0.996 seconds of edge values were appended to all channels when writing the final block.\n",
      "  raw_crop.export(save_path, fmt=\"edf\", overwrite=True)\n"
     ]
    },
    {
     "name": "stdout",
     "output_type": "stream",
     "text": [
      "Normal segments saved for chb04_37.edf\n"
     ]
    },
    {
     "name": "stderr",
     "output_type": "stream",
     "text": [
      "/tmp/ipykernel_3734/3037979607.py:81: RuntimeWarning: EDF format requires equal-length data blocks, so 0.996 seconds of edge values were appended to all channels when writing the final block.\n",
      "  raw_crop.export(save_path, fmt=\"edf\", overwrite=True)\n",
      "/tmp/ipykernel_3734/3037979607.py:81: RuntimeWarning: EDF format requires equal-length data blocks, so 0.996 seconds of edge values were appended to all channels when writing the final block.\n",
      "  raw_crop.export(save_path, fmt=\"edf\", overwrite=True)\n",
      "/tmp/ipykernel_3734/3037979607.py:81: RuntimeWarning: EDF format requires equal-length data blocks, so 0.996 seconds of edge values were appended to all channels when writing the final block.\n",
      "  raw_crop.export(save_path, fmt=\"edf\", overwrite=True)\n",
      "/tmp/ipykernel_3734/3037979607.py:81: RuntimeWarning: EDF format requires equal-length data blocks, so 0.996 seconds of edge values were appended to all channels when writing the final block.\n",
      "  raw_crop.export(save_path, fmt=\"edf\", overwrite=True)\n",
      "/tmp/ipykernel_3734/3037979607.py:81: RuntimeWarning: EDF format requires equal-length data blocks, so 0.996 seconds of edge values were appended to all channels when writing the final block.\n",
      "  raw_crop.export(save_path, fmt=\"edf\", overwrite=True)\n"
     ]
    },
    {
     "name": "stdout",
     "output_type": "stream",
     "text": [
      "Normal segments saved for chb04_38.edf\n"
     ]
    },
    {
     "name": "stderr",
     "output_type": "stream",
     "text": [
      "/tmp/ipykernel_3734/3037979607.py:81: RuntimeWarning: EDF format requires equal-length data blocks, so 0.996 seconds of edge values were appended to all channels when writing the final block.\n",
      "  raw_crop.export(save_path, fmt=\"edf\", overwrite=True)\n",
      "/tmp/ipykernel_3734/3037979607.py:81: RuntimeWarning: EDF format requires equal-length data blocks, so 0.996 seconds of edge values were appended to all channels when writing the final block.\n",
      "  raw_crop.export(save_path, fmt=\"edf\", overwrite=True)\n",
      "/tmp/ipykernel_3734/3037979607.py:81: RuntimeWarning: EDF format requires equal-length data blocks, so 0.996 seconds of edge values were appended to all channels when writing the final block.\n",
      "  raw_crop.export(save_path, fmt=\"edf\", overwrite=True)\n",
      "/tmp/ipykernel_3734/3037979607.py:81: RuntimeWarning: EDF format requires equal-length data blocks, so 0.996 seconds of edge values were appended to all channels when writing the final block.\n",
      "  raw_crop.export(save_path, fmt=\"edf\", overwrite=True)\n",
      "/tmp/ipykernel_3734/3037979607.py:81: RuntimeWarning: EDF format requires equal-length data blocks, so 0.996 seconds of edge values were appended to all channels when writing the final block.\n",
      "  raw_crop.export(save_path, fmt=\"edf\", overwrite=True)\n"
     ]
    },
    {
     "name": "stdout",
     "output_type": "stream",
     "text": [
      "Normal segments saved for chb04_39.edf\n"
     ]
    },
    {
     "name": "stderr",
     "output_type": "stream",
     "text": [
      "/tmp/ipykernel_3734/3037979607.py:81: RuntimeWarning: EDF format requires equal-length data blocks, so 0.996 seconds of edge values were appended to all channels when writing the final block.\n",
      "  raw_crop.export(save_path, fmt=\"edf\", overwrite=True)\n",
      "/tmp/ipykernel_3734/3037979607.py:81: RuntimeWarning: EDF format requires equal-length data blocks, so 0.996 seconds of edge values were appended to all channels when writing the final block.\n",
      "  raw_crop.export(save_path, fmt=\"edf\", overwrite=True)\n",
      "/tmp/ipykernel_3734/3037979607.py:81: RuntimeWarning: EDF format requires equal-length data blocks, so 0.996 seconds of edge values were appended to all channels when writing the final block.\n",
      "  raw_crop.export(save_path, fmt=\"edf\", overwrite=True)\n",
      "/tmp/ipykernel_3734/3037979607.py:81: RuntimeWarning: EDF format requires equal-length data blocks, so 0.996 seconds of edge values were appended to all channels when writing the final block.\n",
      "  raw_crop.export(save_path, fmt=\"edf\", overwrite=True)\n",
      "/tmp/ipykernel_3734/3037979607.py:81: RuntimeWarning: EDF format requires equal-length data blocks, so 0.996 seconds of edge values were appended to all channels when writing the final block.\n",
      "  raw_crop.export(save_path, fmt=\"edf\", overwrite=True)\n"
     ]
    },
    {
     "name": "stdout",
     "output_type": "stream",
     "text": [
      "Normal segments saved for chb04_40.edf\n"
     ]
    },
    {
     "name": "stderr",
     "output_type": "stream",
     "text": [
      "/tmp/ipykernel_3734/3037979607.py:81: RuntimeWarning: EDF format requires equal-length data blocks, so 0.996 seconds of edge values were appended to all channels when writing the final block.\n",
      "  raw_crop.export(save_path, fmt=\"edf\", overwrite=True)\n",
      "/tmp/ipykernel_3734/3037979607.py:81: RuntimeWarning: EDF format requires equal-length data blocks, so 0.996 seconds of edge values were appended to all channels when writing the final block.\n",
      "  raw_crop.export(save_path, fmt=\"edf\", overwrite=True)\n",
      "/tmp/ipykernel_3734/3037979607.py:81: RuntimeWarning: EDF format requires equal-length data blocks, so 0.996 seconds of edge values were appended to all channels when writing the final block.\n",
      "  raw_crop.export(save_path, fmt=\"edf\", overwrite=True)\n",
      "/tmp/ipykernel_3734/3037979607.py:81: RuntimeWarning: EDF format requires equal-length data blocks, so 0.996 seconds of edge values were appended to all channels when writing the final block.\n",
      "  raw_crop.export(save_path, fmt=\"edf\", overwrite=True)\n",
      "/tmp/ipykernel_3734/3037979607.py:81: RuntimeWarning: EDF format requires equal-length data blocks, so 0.996 seconds of edge values were appended to all channels when writing the final block.\n",
      "  raw_crop.export(save_path, fmt=\"edf\", overwrite=True)\n"
     ]
    },
    {
     "name": "stdout",
     "output_type": "stream",
     "text": [
      "Normal segments saved for chb04_41.edf\n"
     ]
    },
    {
     "name": "stderr",
     "output_type": "stream",
     "text": [
      "/tmp/ipykernel_3734/3037979607.py:81: RuntimeWarning: EDF format requires equal-length data blocks, so 0.996 seconds of edge values were appended to all channels when writing the final block.\n",
      "  raw_crop.export(save_path, fmt=\"edf\", overwrite=True)\n",
      "/tmp/ipykernel_3734/3037979607.py:81: RuntimeWarning: EDF format requires equal-length data blocks, so 0.996 seconds of edge values were appended to all channels when writing the final block.\n",
      "  raw_crop.export(save_path, fmt=\"edf\", overwrite=True)\n",
      "/tmp/ipykernel_3734/3037979607.py:81: RuntimeWarning: EDF format requires equal-length data blocks, so 0.996 seconds of edge values were appended to all channels when writing the final block.\n",
      "  raw_crop.export(save_path, fmt=\"edf\", overwrite=True)\n",
      "/tmp/ipykernel_3734/3037979607.py:81: RuntimeWarning: EDF format requires equal-length data blocks, so 0.996 seconds of edge values were appended to all channels when writing the final block.\n",
      "  raw_crop.export(save_path, fmt=\"edf\", overwrite=True)\n",
      "/tmp/ipykernel_3734/3037979607.py:81: RuntimeWarning: EDF format requires equal-length data blocks, so 0.996 seconds of edge values were appended to all channels when writing the final block.\n",
      "  raw_crop.export(save_path, fmt=\"edf\", overwrite=True)\n"
     ]
    },
    {
     "name": "stdout",
     "output_type": "stream",
     "text": [
      "Normal segments saved for chb04_42.edf\n"
     ]
    },
    {
     "name": "stderr",
     "output_type": "stream",
     "text": [
      "/tmp/ipykernel_3734/3037979607.py:81: RuntimeWarning: EDF format requires equal-length data blocks, so 0.996 seconds of edge values were appended to all channels when writing the final block.\n",
      "  raw_crop.export(save_path, fmt=\"edf\", overwrite=True)\n",
      "/tmp/ipykernel_3734/3037979607.py:81: RuntimeWarning: EDF format requires equal-length data blocks, so 0.996 seconds of edge values were appended to all channels when writing the final block.\n",
      "  raw_crop.export(save_path, fmt=\"edf\", overwrite=True)\n",
      "/tmp/ipykernel_3734/3037979607.py:81: RuntimeWarning: EDF format requires equal-length data blocks, so 0.996 seconds of edge values were appended to all channels when writing the final block.\n",
      "  raw_crop.export(save_path, fmt=\"edf\", overwrite=True)\n",
      "/tmp/ipykernel_3734/3037979607.py:81: RuntimeWarning: EDF format requires equal-length data blocks, so 0.996 seconds of edge values were appended to all channels when writing the final block.\n",
      "  raw_crop.export(save_path, fmt=\"edf\", overwrite=True)\n",
      "/tmp/ipykernel_3734/3037979607.py:81: RuntimeWarning: EDF format requires equal-length data blocks, so 0.996 seconds of edge values were appended to all channels when writing the final block.\n",
      "  raw_crop.export(save_path, fmt=\"edf\", overwrite=True)\n",
      "/tmp/ipykernel_3734/3037979607.py:52: RuntimeWarning: EDF format requires equal-length data blocks, so 0.996 seconds of edge values were appended to all channels when writing the final block.\n",
      "  segment.export(save_path, fmt='edf')\n",
      "/tmp/ipykernel_3734/3037979607.py:52: RuntimeWarning: EDF format requires equal-length data blocks, so 0.996 seconds of edge values were appended to all channels when writing the final block.\n",
      "  segment.export(save_path, fmt='edf')\n"
     ]
    },
    {
     "name": "stdout",
     "output_type": "stream",
     "text": [
      "Normal segments saved for chb04_43.edf\n",
      "  → saved: chb12_06_seizure_1.edf\n",
      "  → saved: chb12_06_seizure_2.edf\n"
     ]
    },
    {
     "name": "stderr",
     "output_type": "stream",
     "text": [
      "/tmp/ipykernel_3734/3037979607.py:52: RuntimeWarning: EDF format requires equal-length data blocks, so 0.996 seconds of edge values were appended to all channels when writing the final block.\n",
      "  segment.export(save_path, fmt='edf')\n",
      "/tmp/ipykernel_3734/3037979607.py:52: RuntimeWarning: EDF format requires equal-length data blocks, so 0.996 seconds of edge values were appended to all channels when writing the final block.\n",
      "  segment.export(save_path, fmt='edf')\n",
      "/tmp/ipykernel_3734/3037979607.py:52: RuntimeWarning: EDF format requires equal-length data blocks, so 0.996 seconds of edge values were appended to all channels when writing the final block.\n",
      "  segment.export(save_path, fmt='edf')\n",
      "/tmp/ipykernel_3734/3037979607.py:52: RuntimeWarning: EDF format requires equal-length data blocks, so 0.996 seconds of edge values were appended to all channels when writing the final block.\n",
      "  segment.export(save_path, fmt='edf')\n",
      "/tmp/ipykernel_3734/3037979607.py:52: RuntimeWarning: EDF format requires equal-length data blocks, so 0.996 seconds of edge values were appended to all channels when writing the final block.\n",
      "  segment.export(save_path, fmt='edf')\n",
      "/tmp/ipykernel_3734/3037979607.py:52: RuntimeWarning: EDF format requires equal-length data blocks, so 0.996 seconds of edge values were appended to all channels when writing the final block.\n",
      "  segment.export(save_path, fmt='edf')\n"
     ]
    },
    {
     "name": "stdout",
     "output_type": "stream",
     "text": [
      "  → saved: chb12_08_seizure_1.edf\n",
      "  → saved: chb12_08_seizure_2.edf\n",
      "  → saved: chb12_08_seizure_3.edf\n",
      "  → saved: chb12_08_seizure_4.edf\n",
      "  → saved: chb12_09_seizure_1.edf\n",
      "  → saved: chb12_09_seizure_2.edf\n"
     ]
    },
    {
     "name": "stderr",
     "output_type": "stream",
     "text": [
      "/tmp/ipykernel_3734/3037979607.py:52: RuntimeWarning: EDF format requires equal-length data blocks, so 0.996 seconds of edge values were appended to all channels when writing the final block.\n",
      "  segment.export(save_path, fmt='edf')\n",
      "/tmp/ipykernel_3734/3037979607.py:52: RuntimeWarning: EDF format requires equal-length data blocks, so 0.996 seconds of edge values were appended to all channels when writing the final block.\n",
      "  segment.export(save_path, fmt='edf')\n",
      "/tmp/ipykernel_3734/3037979607.py:52: RuntimeWarning: EDF format requires equal-length data blocks, so 0.996 seconds of edge values were appended to all channels when writing the final block.\n",
      "  segment.export(save_path, fmt='edf')\n",
      "/tmp/ipykernel_3734/3037979607.py:81: RuntimeWarning: EDF format requires equal-length data blocks, so 0.996 seconds of edge values were appended to all channels when writing the final block.\n",
      "  raw_crop.export(save_path, fmt=\"edf\", overwrite=True)\n"
     ]
    },
    {
     "name": "stdout",
     "output_type": "stream",
     "text": [
      "  → saved: chb12_10_seizure_1.edf\n",
      "  → saved: chb12_10_seizure_2.edf\n",
      "  → saved: chb12_11_seizure_1.edf\n"
     ]
    },
    {
     "name": "stderr",
     "output_type": "stream",
     "text": [
      "/tmp/ipykernel_3734/3037979607.py:81: RuntimeWarning: EDF format requires equal-length data blocks, so 0.996 seconds of edge values were appended to all channels when writing the final block.\n",
      "  raw_crop.export(save_path, fmt=\"edf\", overwrite=True)\n",
      "/tmp/ipykernel_3734/3037979607.py:81: RuntimeWarning: EDF format requires equal-length data blocks, so 0.996 seconds of edge values were appended to all channels when writing the final block.\n",
      "  raw_crop.export(save_path, fmt=\"edf\", overwrite=True)\n",
      "/tmp/ipykernel_3734/3037979607.py:81: RuntimeWarning: EDF format requires equal-length data blocks, so 0.996 seconds of edge values were appended to all channels when writing the final block.\n",
      "  raw_crop.export(save_path, fmt=\"edf\", overwrite=True)\n",
      "/tmp/ipykernel_3734/3037979607.py:81: RuntimeWarning: EDF format requires equal-length data blocks, so 0.996 seconds of edge values were appended to all channels when writing the final block.\n",
      "  raw_crop.export(save_path, fmt=\"edf\", overwrite=True)\n",
      "/tmp/ipykernel_3734/3037979607.py:81: RuntimeWarning: EDF format requires equal-length data blocks, so 0.996 seconds of edge values were appended to all channels when writing the final block.\n",
      "  raw_crop.export(save_path, fmt=\"edf\", overwrite=True)\n",
      "/tmp/ipykernel_3734/3037979607.py:81: RuntimeWarning: EDF format requires equal-length data blocks, so 0.996 seconds of edge values were appended to all channels when writing the final block.\n",
      "  raw_crop.export(save_path, fmt=\"edf\", overwrite=True)\n"
     ]
    },
    {
     "name": "stdout",
     "output_type": "stream",
     "text": [
      "Normal segments saved for chb12_19.edf\n",
      "Normal segments saved for chb12_20.edf\n"
     ]
    },
    {
     "name": "stderr",
     "output_type": "stream",
     "text": [
      "/tmp/ipykernel_3734/3037979607.py:81: RuntimeWarning: EDF format requires equal-length data blocks, so 0.996 seconds of edge values were appended to all channels when writing the final block.\n",
      "  raw_crop.export(save_path, fmt=\"edf\", overwrite=True)\n",
      "/tmp/ipykernel_3734/3037979607.py:81: RuntimeWarning: EDF format requires equal-length data blocks, so 0.996 seconds of edge values were appended to all channels when writing the final block.\n",
      "  raw_crop.export(save_path, fmt=\"edf\", overwrite=True)\n",
      "/tmp/ipykernel_3734/3037979607.py:81: RuntimeWarning: EDF format requires equal-length data blocks, so 0.996 seconds of edge values were appended to all channels when writing the final block.\n",
      "  raw_crop.export(save_path, fmt=\"edf\", overwrite=True)\n",
      "/tmp/ipykernel_3734/3037979607.py:81: RuntimeWarning: EDF format requires equal-length data blocks, so 0.996 seconds of edge values were appended to all channels when writing the final block.\n",
      "  raw_crop.export(save_path, fmt=\"edf\", overwrite=True)\n",
      "/tmp/ipykernel_3734/3037979607.py:81: RuntimeWarning: EDF format requires equal-length data blocks, so 0.996 seconds of edge values were appended to all channels when writing the final block.\n",
      "  raw_crop.export(save_path, fmt=\"edf\", overwrite=True)\n",
      "/tmp/ipykernel_3734/3037979607.py:81: RuntimeWarning: EDF format requires equal-length data blocks, so 0.996 seconds of edge values were appended to all channels when writing the final block.\n",
      "  raw_crop.export(save_path, fmt=\"edf\", overwrite=True)\n",
      "/tmp/ipykernel_3734/3037979607.py:81: RuntimeWarning: EDF format requires equal-length data blocks, so 0.996 seconds of edge values were appended to all channels when writing the final block.\n",
      "  raw_crop.export(save_path, fmt=\"edf\", overwrite=True)\n",
      "/tmp/ipykernel_3734/3037979607.py:81: RuntimeWarning: EDF format requires equal-length data blocks, so 0.996 seconds of edge values were appended to all channels when writing the final block.\n",
      "  raw_crop.export(save_path, fmt=\"edf\", overwrite=True)\n",
      "/tmp/ipykernel_3734/3037979607.py:52: RuntimeWarning: EDF format requires equal-length data blocks, so 0.996 seconds of edge values were appended to all channels when writing the final block.\n",
      "  segment.export(save_path, fmt='edf')\n",
      "/tmp/ipykernel_3734/3037979607.py:52: RuntimeWarning: EDF format requires equal-length data blocks, so 0.996 seconds of edge values were appended to all channels when writing the final block.\n",
      "  segment.export(save_path, fmt='edf')\n",
      "/tmp/ipykernel_3734/3037979607.py:52: RuntimeWarning: EDF format requires equal-length data blocks, so 0.996 seconds of edge values were appended to all channels when writing the final block.\n",
      "  segment.export(save_path, fmt='edf')\n"
     ]
    },
    {
     "name": "stdout",
     "output_type": "stream",
     "text": [
      "Normal segments saved for chb12_21.edf\n",
      "  → saved: chb12_23_seizure_1.edf\n",
      "  → saved: chb12_23_seizure_2.edf\n",
      "  → saved: chb12_23_seizure_3.edf\n"
     ]
    },
    {
     "name": "stderr",
     "output_type": "stream",
     "text": [
      "/tmp/ipykernel_3734/3037979607.py:81: RuntimeWarning: EDF format requires equal-length data blocks, so 0.996 seconds of edge values were appended to all channels when writing the final block.\n",
      "  raw_crop.export(save_path, fmt=\"edf\", overwrite=True)\n",
      "/tmp/ipykernel_3734/3037979607.py:81: RuntimeWarning: EDF format requires equal-length data blocks, so 0.996 seconds of edge values were appended to all channels when writing the final block.\n",
      "  raw_crop.export(save_path, fmt=\"edf\", overwrite=True)\n",
      "/tmp/ipykernel_3734/3037979607.py:81: RuntimeWarning: EDF format requires equal-length data blocks, so 0.996 seconds of edge values were appended to all channels when writing the final block.\n",
      "  raw_crop.export(save_path, fmt=\"edf\", overwrite=True)\n",
      "/tmp/ipykernel_3734/3037979607.py:81: RuntimeWarning: EDF format requires equal-length data blocks, so 0.996 seconds of edge values were appended to all channels when writing the final block.\n",
      "  raw_crop.export(save_path, fmt=\"edf\", overwrite=True)\n",
      "/tmp/ipykernel_3734/3037979607.py:81: RuntimeWarning: EDF format requires equal-length data blocks, so 0.996 seconds of edge values were appended to all channels when writing the final block.\n",
      "  raw_crop.export(save_path, fmt=\"edf\", overwrite=True)\n",
      "/tmp/ipykernel_3734/3037979607.py:52: RuntimeWarning: EDF format requires equal-length data blocks, so 0.996 seconds of edge values were appended to all channels when writing the final block.\n",
      "  segment.export(save_path, fmt='edf')\n"
     ]
    },
    {
     "name": "stdout",
     "output_type": "stream",
     "text": [
      "Normal segments saved for chb12_24.edf\n",
      "  → saved: chb12_27_seizure_1.edf\n",
      "  → saved: chb12_27_seizure_2.edf\n",
      "  → saved: chb12_27_seizure_3.edf\n",
      "  → saved: chb12_27_seizure_4.edf\n",
      "  → saved: chb12_27_seizure_5.edf\n"
     ]
    },
    {
     "name": "stderr",
     "output_type": "stream",
     "text": [
      "/tmp/ipykernel_3734/3037979607.py:52: RuntimeWarning: EDF format requires equal-length data blocks, so 0.996 seconds of edge values were appended to all channels when writing the final block.\n",
      "  segment.export(save_path, fmt='edf')\n",
      "/tmp/ipykernel_3734/3037979607.py:52: RuntimeWarning: EDF format requires equal-length data blocks, so 0.996 seconds of edge values were appended to all channels when writing the final block.\n",
      "  segment.export(save_path, fmt='edf')\n",
      "/tmp/ipykernel_3734/3037979607.py:52: RuntimeWarning: EDF format requires equal-length data blocks, so 0.996 seconds of edge values were appended to all channels when writing the final block.\n",
      "  segment.export(save_path, fmt='edf')\n",
      "/tmp/ipykernel_3734/3037979607.py:52: RuntimeWarning: EDF format requires equal-length data blocks, so 0.996 seconds of edge values were appended to all channels when writing the final block.\n",
      "  segment.export(save_path, fmt='edf')\n",
      "/tmp/ipykernel_3734/3037979607.py:52: RuntimeWarning: EDF format requires equal-length data blocks, so 0.996 seconds of edge values were appended to all channels when writing the final block.\n",
      "  segment.export(save_path, fmt='edf')\n"
     ]
    },
    {
     "name": "stdout",
     "output_type": "stream",
     "text": [
      "  → saved: chb12_27_seizure_6.edf\n",
      "  → saved: chb12_28_seizure_1.edf\n",
      "  → saved: chb12_29_seizure_1.edf\n"
     ]
    },
    {
     "name": "stderr",
     "output_type": "stream",
     "text": [
      "/tmp/ipykernel_3734/3037979607.py:52: RuntimeWarning: EDF format requires equal-length data blocks, so 0.996 seconds of edge values were appended to all channels when writing the final block.\n",
      "  segment.export(save_path, fmt='edf')\n",
      "/tmp/ipykernel_3734/3037979607.py:52: RuntimeWarning: EDF format requires equal-length data blocks, so 0.996 seconds of edge values were appended to all channels when writing the final block.\n",
      "  segment.export(save_path, fmt='edf')\n",
      "/tmp/ipykernel_3734/3037979607.py:52: RuntimeWarning: EDF format requires equal-length data blocks, so 0.996 seconds of edge values were appended to all channels when writing the final block.\n",
      "  segment.export(save_path, fmt='edf')\n",
      "/tmp/ipykernel_3734/3037979607.py:52: RuntimeWarning: EDF format requires equal-length data blocks, so 0.996 seconds of edge values were appended to all channels when writing the final block.\n",
      "  segment.export(save_path, fmt='edf')\n",
      "/tmp/ipykernel_3734/3037979607.py:52: RuntimeWarning: EDF format requires equal-length data blocks, so 0.996 seconds of edge values were appended to all channels when writing the final block.\n",
      "  segment.export(save_path, fmt='edf')\n",
      "/tmp/ipykernel_3734/3037979607.py:52: RuntimeWarning: EDF format requires equal-length data blocks, so 0.996 seconds of edge values were appended to all channels when writing the final block.\n",
      "  segment.export(save_path, fmt='edf')\n"
     ]
    },
    {
     "name": "stdout",
     "output_type": "stream",
     "text": [
      "  → saved: chb12_29_seizure_2.edf\n",
      "  → saved: chb12_29_seizure_3.edf\n",
      "  → saved: chb12_29_seizure_4.edf\n",
      "  → saved: chb12_29_seizure_5.edf\n",
      "  → saved: chb12_29_seizure_6.edf\n"
     ]
    },
    {
     "name": "stderr",
     "output_type": "stream",
     "text": [
      "/tmp/ipykernel_3734/3037979607.py:52: RuntimeWarning: EDF format requires equal-length data blocks, so 0.996 seconds of edge values were appended to all channels when writing the final block.\n",
      "  segment.export(save_path, fmt='edf')\n",
      "/tmp/ipykernel_3734/3037979607.py:81: RuntimeWarning: EDF format requires equal-length data blocks, so 0.996 seconds of edge values were appended to all channels when writing the final block.\n",
      "  raw_crop.export(save_path, fmt=\"edf\", overwrite=True)\n",
      "/tmp/ipykernel_3734/3037979607.py:81: RuntimeWarning: EDF format requires equal-length data blocks, so 0.996 seconds of edge values were appended to all channels when writing the final block.\n",
      "  raw_crop.export(save_path, fmt=\"edf\", overwrite=True)\n",
      "/tmp/ipykernel_3734/3037979607.py:81: RuntimeWarning: EDF format requires equal-length data blocks, so 0.996 seconds of edge values were appended to all channels when writing the final block.\n",
      "  raw_crop.export(save_path, fmt=\"edf\", overwrite=True)\n",
      "/tmp/ipykernel_3734/3037979607.py:81: RuntimeWarning: EDF format requires equal-length data blocks, so 0.996 seconds of edge values were appended to all channels when writing the final block.\n",
      "  raw_crop.export(save_path, fmt=\"edf\", overwrite=True)\n",
      "/tmp/ipykernel_3734/3037979607.py:81: RuntimeWarning: EDF format requires equal-length data blocks, so 0.996 seconds of edge values were appended to all channels when writing the final block.\n",
      "  raw_crop.export(save_path, fmt=\"edf\", overwrite=True)\n"
     ]
    },
    {
     "name": "stdout",
     "output_type": "stream",
     "text": [
      "Normal segments saved for chb12_32.edf\n",
      "  → saved: chb12_33_seizure_1.edf\n",
      "  → saved: chb12_33_seizure_2.edf\n"
     ]
    },
    {
     "name": "stderr",
     "output_type": "stream",
     "text": [
      "/tmp/ipykernel_3734/3037979607.py:52: RuntimeWarning: EDF format requires equal-length data blocks, so 0.996 seconds of edge values were appended to all channels when writing the final block.\n",
      "  segment.export(save_path, fmt='edf')\n",
      "/tmp/ipykernel_3734/3037979607.py:52: RuntimeWarning: EDF format requires equal-length data blocks, so 0.996 seconds of edge values were appended to all channels when writing the final block.\n",
      "  segment.export(save_path, fmt='edf')\n",
      "/tmp/ipykernel_3734/3037979607.py:81: RuntimeWarning: EDF format requires equal-length data blocks, so 0.996 seconds of edge values were appended to all channels when writing the final block.\n",
      "  raw_crop.export(save_path, fmt=\"edf\", overwrite=True)\n",
      "/tmp/ipykernel_3734/3037979607.py:81: RuntimeWarning: EDF format requires equal-length data blocks, so 0.996 seconds of edge values were appended to all channels when writing the final block.\n",
      "  raw_crop.export(save_path, fmt=\"edf\", overwrite=True)\n",
      "/tmp/ipykernel_3734/3037979607.py:81: RuntimeWarning: EDF format requires equal-length data blocks, so 0.996 seconds of edge values were appended to all channels when writing the final block.\n",
      "  raw_crop.export(save_path, fmt=\"edf\", overwrite=True)\n",
      "/tmp/ipykernel_3734/3037979607.py:81: RuntimeWarning: EDF format requires equal-length data blocks, so 0.996 seconds of edge values were appended to all channels when writing the final block.\n",
      "  raw_crop.export(save_path, fmt=\"edf\", overwrite=True)\n",
      "/tmp/ipykernel_3734/3037979607.py:81: RuntimeWarning: EDF format requires equal-length data blocks, so 0.996 seconds of edge values were appended to all channels when writing the final block.\n",
      "  raw_crop.export(save_path, fmt=\"edf\", overwrite=True)\n",
      "/tmp/ipykernel_3734/3037979607.py:81: RuntimeWarning: EDF format requires equal-length data blocks, so 0.996 seconds of edge values were appended to all channels when writing the final block.\n",
      "  raw_crop.export(save_path, fmt=\"edf\", overwrite=True)\n",
      "/tmp/ipykernel_3734/3037979607.py:81: RuntimeWarning: EDF format requires equal-length data blocks, so 0.996 seconds of edge values were appended to all channels when writing the final block.\n",
      "  raw_crop.export(save_path, fmt=\"edf\", overwrite=True)\n",
      "/tmp/ipykernel_3734/3037979607.py:81: RuntimeWarning: EDF format requires equal-length data blocks, so 0.996 seconds of edge values were appended to all channels when writing the final block.\n",
      "  raw_crop.export(save_path, fmt=\"edf\", overwrite=True)\n",
      "/tmp/ipykernel_3734/3037979607.py:81: RuntimeWarning: EDF format requires equal-length data blocks, so 0.996 seconds of edge values were appended to all channels when writing the final block.\n",
      "  raw_crop.export(save_path, fmt=\"edf\", overwrite=True)\n"
     ]
    },
    {
     "name": "stdout",
     "output_type": "stream",
     "text": [
      "Normal segments saved for chb12_34.edf\n"
     ]
    },
    {
     "name": "stderr",
     "output_type": "stream",
     "text": [
      "/tmp/ipykernel_3734/3037979607.py:81: RuntimeWarning: EDF format requires equal-length data blocks, so 0.996 seconds of edge values were appended to all channels when writing the final block.\n",
      "  raw_crop.export(save_path, fmt=\"edf\", overwrite=True)\n",
      "/tmp/ipykernel_3734/3037979607.py:52: RuntimeWarning: EDF format requires equal-length data blocks, so 0.996 seconds of edge values were appended to all channels when writing the final block.\n",
      "  segment.export(save_path, fmt='edf')\n",
      "/tmp/ipykernel_3734/3037979607.py:81: RuntimeWarning: EDF format requires equal-length data blocks, so 0.996 seconds of edge values were appended to all channels when writing the final block.\n",
      "  raw_crop.export(save_path, fmt=\"edf\", overwrite=True)\n"
     ]
    },
    {
     "name": "stdout",
     "output_type": "stream",
     "text": [
      "Normal segments saved for chb12_35.edf\n",
      "  → saved: chb12_36_seizure_1.edf\n"
     ]
    },
    {
     "name": "stderr",
     "output_type": "stream",
     "text": [
      "/tmp/ipykernel_3734/3037979607.py:81: RuntimeWarning: EDF format requires equal-length data blocks, so 0.996 seconds of edge values were appended to all channels when writing the final block.\n",
      "  raw_crop.export(save_path, fmt=\"edf\", overwrite=True)\n",
      "/tmp/ipykernel_3734/3037979607.py:81: RuntimeWarning: EDF format requires equal-length data blocks, so 0.996 seconds of edge values were appended to all channels when writing the final block.\n",
      "  raw_crop.export(save_path, fmt=\"edf\", overwrite=True)\n",
      "/tmp/ipykernel_3734/3037979607.py:81: RuntimeWarning: EDF format requires equal-length data blocks, so 0.996 seconds of edge values were appended to all channels when writing the final block.\n",
      "  raw_crop.export(save_path, fmt=\"edf\", overwrite=True)\n",
      "/tmp/ipykernel_3734/3037979607.py:81: RuntimeWarning: EDF format requires equal-length data blocks, so 0.996 seconds of edge values were appended to all channels when writing the final block.\n",
      "  raw_crop.export(save_path, fmt=\"edf\", overwrite=True)\n",
      "/tmp/ipykernel_3734/3037979607.py:52: RuntimeWarning: EDF format requires equal-length data blocks, so 0.996 seconds of edge values were appended to all channels when writing the final block.\n",
      "  segment.export(save_path, fmt='edf')\n",
      "/tmp/ipykernel_3734/3037979607.py:52: RuntimeWarning: EDF format requires equal-length data blocks, so 0.996 seconds of edge values were appended to all channels when writing the final block.\n",
      "  segment.export(save_path, fmt='edf')\n"
     ]
    },
    {
     "name": "stdout",
     "output_type": "stream",
     "text": [
      "Normal segments saved for chb12_37.edf\n",
      "  → saved: chb12_38_seizure_1.edf\n",
      "  → saved: chb12_38_seizure_2.edf\n",
      "  → saved: chb12_38_seizure_3.edf\n",
      "  → saved: chb12_38_seizure_4.edf\n",
      "  → saved: chb12_38_seizure_5.edf\n"
     ]
    },
    {
     "name": "stderr",
     "output_type": "stream",
     "text": [
      "/tmp/ipykernel_3734/3037979607.py:52: RuntimeWarning: EDF format requires equal-length data blocks, so 0.996 seconds of edge values were appended to all channels when writing the final block.\n",
      "  segment.export(save_path, fmt='edf')\n",
      "/tmp/ipykernel_3734/3037979607.py:52: RuntimeWarning: EDF format requires equal-length data blocks, so 0.996 seconds of edge values were appended to all channels when writing the final block.\n",
      "  segment.export(save_path, fmt='edf')\n",
      "/tmp/ipykernel_3734/3037979607.py:52: RuntimeWarning: EDF format requires equal-length data blocks, so 0.996 seconds of edge values were appended to all channels when writing the final block.\n",
      "  segment.export(save_path, fmt='edf')\n",
      "/tmp/ipykernel_3734/3037979607.py:81: RuntimeWarning: EDF format requires equal-length data blocks, so 0.996 seconds of edge values were appended to all channels when writing the final block.\n",
      "  raw_crop.export(save_path, fmt=\"edf\", overwrite=True)\n",
      "/tmp/ipykernel_3734/3037979607.py:81: RuntimeWarning: EDF format requires equal-length data blocks, so 0.996 seconds of edge values were appended to all channels when writing the final block.\n",
      "  raw_crop.export(save_path, fmt=\"edf\", overwrite=True)\n",
      "/tmp/ipykernel_3734/3037979607.py:81: RuntimeWarning: EDF format requires equal-length data blocks, so 0.996 seconds of edge values were appended to all channels when writing the final block.\n",
      "  raw_crop.export(save_path, fmt=\"edf\", overwrite=True)\n",
      "/tmp/ipykernel_3734/3037979607.py:81: RuntimeWarning: EDF format requires equal-length data blocks, so 0.996 seconds of edge values were appended to all channels when writing the final block.\n",
      "  raw_crop.export(save_path, fmt=\"edf\", overwrite=True)\n",
      "/tmp/ipykernel_3734/3037979607.py:81: RuntimeWarning: EDF format requires equal-length data blocks, so 0.996 seconds of edge values were appended to all channels when writing the final block.\n",
      "  raw_crop.export(save_path, fmt=\"edf\", overwrite=True)\n",
      "/tmp/ipykernel_3734/3037979607.py:81: RuntimeWarning: EDF format requires equal-length data blocks, so 0.996 seconds of edge values were appended to all channels when writing the final block.\n",
      "  raw_crop.export(save_path, fmt=\"edf\", overwrite=True)\n",
      "/tmp/ipykernel_3734/3037979607.py:81: RuntimeWarning: EDF format requires equal-length data blocks, so 0.996 seconds of edge values were appended to all channels when writing the final block.\n",
      "  raw_crop.export(save_path, fmt=\"edf\", overwrite=True)\n",
      "/tmp/ipykernel_3734/3037979607.py:81: RuntimeWarning: EDF format requires equal-length data blocks, so 0.996 seconds of edge values were appended to all channels when writing the final block.\n",
      "  raw_crop.export(save_path, fmt=\"edf\", overwrite=True)\n",
      "/tmp/ipykernel_3734/3037979607.py:81: RuntimeWarning: EDF format requires equal-length data blocks, so 0.996 seconds of edge values were appended to all channels when writing the final block.\n",
      "  raw_crop.export(save_path, fmt=\"edf\", overwrite=True)\n"
     ]
    },
    {
     "name": "stdout",
     "output_type": "stream",
     "text": [
      "Normal segments saved for chb12_39.edf\n",
      "Normal segments saved for chb12_40.edf\n"
     ]
    },
    {
     "name": "stderr",
     "output_type": "stream",
     "text": [
      "/tmp/ipykernel_3734/3037979607.py:81: RuntimeWarning: EDF format requires equal-length data blocks, so 0.996 seconds of edge values were appended to all channels when writing the final block.\n",
      "  raw_crop.export(save_path, fmt=\"edf\", overwrite=True)\n",
      "/tmp/ipykernel_3734/3037979607.py:81: RuntimeWarning: EDF format requires equal-length data blocks, so 0.996 seconds of edge values were appended to all channels when writing the final block.\n",
      "  raw_crop.export(save_path, fmt=\"edf\", overwrite=True)\n",
      "/tmp/ipykernel_3734/3037979607.py:81: RuntimeWarning: EDF format requires equal-length data blocks, so 0.996 seconds of edge values were appended to all channels when writing the final block.\n",
      "  raw_crop.export(save_path, fmt=\"edf\", overwrite=True)\n",
      "/tmp/ipykernel_3734/3037979607.py:81: RuntimeWarning: EDF format requires equal-length data blocks, so 0.996 seconds of edge values were appended to all channels when writing the final block.\n",
      "  raw_crop.export(save_path, fmt=\"edf\", overwrite=True)\n",
      "/tmp/ipykernel_3734/3037979607.py:81: RuntimeWarning: EDF format requires equal-length data blocks, so 0.996 seconds of edge values were appended to all channels when writing the final block.\n",
      "  raw_crop.export(save_path, fmt=\"edf\", overwrite=True)\n",
      "/tmp/ipykernel_3734/3037979607.py:81: RuntimeWarning: EDF format requires equal-length data blocks, so 0.996 seconds of edge values were appended to all channels when writing the final block.\n",
      "  raw_crop.export(save_path, fmt=\"edf\", overwrite=True)\n"
     ]
    },
    {
     "name": "stdout",
     "output_type": "stream",
     "text": [
      "Normal segments saved for chb12_41.edf\n",
      "  → saved: chb12_42_seizure_1.edf\n",
      "  → saved: chb12_42_seizure_2.edf\n",
      "  → saved: chb12_42_seizure_3.edf\n",
      "  → saved: chb12_42_seizure_4.edf\n",
      "  → saved: chb12_42_seizure_5.edf\n",
      "Done\n"
     ]
    },
    {
     "name": "stderr",
     "output_type": "stream",
     "text": [
      "/tmp/ipykernel_3734/3037979607.py:52: RuntimeWarning: EDF format requires equal-length data blocks, so 0.996 seconds of edge values were appended to all channels when writing the final block.\n",
      "  segment.export(save_path, fmt='edf')\n",
      "/tmp/ipykernel_3734/3037979607.py:52: RuntimeWarning: EDF format requires equal-length data blocks, so 0.996 seconds of edge values were appended to all channels when writing the final block.\n",
      "  segment.export(save_path, fmt='edf')\n",
      "/tmp/ipykernel_3734/3037979607.py:52: RuntimeWarning: EDF format requires equal-length data blocks, so 0.996 seconds of edge values were appended to all channels when writing the final block.\n",
      "  segment.export(save_path, fmt='edf')\n",
      "/tmp/ipykernel_3734/3037979607.py:52: RuntimeWarning: EDF format requires equal-length data blocks, so 0.996 seconds of edge values were appended to all channels when writing the final block.\n",
      "  segment.export(save_path, fmt='edf')\n",
      "/tmp/ipykernel_3734/3037979607.py:52: RuntimeWarning: EDF format requires equal-length data blocks, so 0.996 seconds of edge values were appended to all channels when writing the final block.\n",
      "  segment.export(save_path, fmt='edf')\n"
     ]
    }
   ],
   "source": [
    "# Вырезать отрезки записей с припадками\n",
    "# Вырезать отрезки норм из файлов без приступов (брать тех которых не было в трейн-вал скелете)\n",
    "\n",
    "import os\n",
    "import mne\n",
    "import random\n",
    "import re\n",
    "\n",
    "def extract_seizure_segments(annotations, root_dir, save_dir):\n",
    "    \"\"\"\n",
    "    вырезает фрагменты припадков из EDF-файлов CHB-MIT и сохраняет их как новые EDF.\n",
    "\n",
    "    annotations: [(file_name, [(start, end), ...]), ...]\n",
    "        список аннотаций, например [('chb01_03.edf', [(120, 150), (300, 350)]), ...]\n",
    "    root_dir: str\n",
    "        путь к корню базы (например \"chb-mit-scalp-eeg-database-1.0.0\")\n",
    "    save_dir: str\n",
    "        путь, куда сохранять вырезанные файлы\n",
    "    \"\"\"\n",
    "\n",
    "    os.makedirs(save_dir, exist_ok=True)\n",
    "\n",
    "    for file_name, seizure_list in annotations:\n",
    "        # Находим EDF в подкаталогах\n",
    "        edf_path = None\n",
    "        for root, _, files in os.walk(root_dir):\n",
    "            if file_name in files:\n",
    "                # create path to file\n",
    "                edf_path = os.path.join(root, file_name)\n",
    "                break\n",
    "\n",
    "        if edf_path is None:\n",
    "            print(f\"[!] {file_name} 404.\")\n",
    "            continue\n",
    "\n",
    "        try:\n",
    "            raw = mne.io.read_raw_edf(edf_path, preload=True, verbose=\"ERROR\")\n",
    "        except Exception as e:\n",
    "            print(f\"[!] Error {file_name}: {e}\")\n",
    "            continue\n",
    "\n",
    "        if len(seizure_list) > 0:\n",
    "            for idx, (start, end) in enumerate(seizure_list):\n",
    "                # Cut !\n",
    "                try:\n",
    "                    segment = raw.copy().crop(tmin=start, tmax=end)\n",
    "                    # save\n",
    "                    base = os.path.splitext(file_name)[0]\n",
    "                    new_name = f\"{base}_seizure_{idx+1}.edf\"\n",
    "                    save_path = os.path.join(save_dir, \"seizures\", new_name)\n",
    "                    os.makedirs(os.path.dirname(save_path), exist_ok=True)\n",
    "                    segment.export(save_path, fmt='edf')\n",
    "                    print(f\"  → saved: {new_name}\")\n",
    "                except Exception as e:\n",
    "                    print(f\"  [!] Error {file_name} ({start}-{end}): {e}\")\n",
    "                    continue\n",
    "        \n",
    "        else:\n",
    "            # if the file does not contain seazure\n",
    "            sfreq = raw.info[\"sfreq\"]\n",
    "            duration = raw.n_times / sfreq\n",
    "            \n",
    "            normal_segments_per_file = 5 # count\n",
    "            normal_segment_len = 10 # sec\n",
    "            # sec - ofset to not choose first or last part of record because of a lot of posible noise there\n",
    "            margin = 30 \n",
    "            \n",
    "            for i in range(normal_segments_per_file):\n",
    "                # take minimum 10 sec record\n",
    "                if duration <= normal_segment_len + 2 * margin:\n",
    "                    continue\n",
    "                \n",
    "                # random choose\n",
    "                start = random.uniform(margin, duration - normal_segment_len  - margin)\n",
    "                end = start + normal_segment_len\n",
    "                raw_crop = raw.copy().crop(tmin=start, tmax=end)\n",
    "                \n",
    "                save_path = os.path.join(save_dir, \"normals\",\n",
    "                                         f\"{os.path.splitext(file_name)[0]}_normal_{i+1}.edf\")\n",
    "                os.makedirs(os.path.dirname(save_path), exist_ok=True)\n",
    "                raw_crop.export(save_path, fmt=\"edf\", overwrite=True)\n",
    "            print(f\"Normal segments saved for {file_name}\")           \n",
    "\n",
    "    print(\"Done\")\n",
    "\n",
    "\n",
    "root_dir = \"chb-mit-scalp-eeg-database-1.0.0\"\n",
    "save_dir = \"patterns\"\n",
    "extract_seizure_segments(annotations, root_dir, save_dir)\n"
   ]
  },
  {
   "cell_type": "code",
   "execution_count": null,
   "id": "b78c8e4f",
   "metadata": {},
   "outputs": [],
   "source": []
  }
 ],
 "metadata": {
  "kernelspec": {
   "display_name": "Python (EEG)",
   "language": "python",
   "name": "eeg_env"
  },
  "language_info": {
   "codemirror_mode": {
    "name": "ipython",
    "version": 3
   },
   "file_extension": ".py",
   "mimetype": "text/x-python",
   "name": "python",
   "nbconvert_exporter": "python",
   "pygments_lexer": "ipython3",
   "version": "3.10.12"
  }
 },
 "nbformat": 4,
 "nbformat_minor": 5
}
